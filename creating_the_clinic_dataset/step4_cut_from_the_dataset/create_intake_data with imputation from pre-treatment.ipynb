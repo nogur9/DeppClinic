{
 "cells": [
  {
   "cell_type": "code",
   "execution_count": 1,
   "id": "bb6c9300",
   "metadata": {},
   "outputs": [],
   "source": [
    "import numpy as np \n",
    "import pandas as pd"
   ]
  },
  {
   "cell_type": "code",
   "execution_count": 2,
   "id": "cdb362d6",
   "metadata": {},
   "outputs": [
    {
     "name": "stderr",
     "output_type": "stream",
     "text": [
      "C:\\Users\\nogur\\AppData\\Local\\Temp\\ipykernel_6344\\3783632731.py:13: DtypeWarning: Columns (0,3,44,50,51,73,84,93,309,349,437,442,443,450,457,475,479,484,486,491,493,502,503,538,540,549,568,728,733,734,740,745,750,755,759,762,767,769,771,774,776,785,786,805,821,823,832,851,860,894,904,905,906,907,908,909,910,911,912,913,914,916,953,964,973,974,1011,1016,1017,1023,1028,1033,1038,1039,1041,1042,1044,1045,1059,1068,1083,1089,1104,1106,1109,1110,1114,1115,1116,1117,1119,1120,1121,1124,1125,1126,1142,1147,1163,1165,1193,1195,1197,1199,1201,1204,1214,1216,1218,1224,1226,1230,1237,1238,1251,1253,1256,1258,1270,1271,1273,1274,1275,1281,1282,1283,1284,1394,1396,1397,1398,1413,1415,1417,1420,1436,1438,1439,1440,1446,1447,1448,1449,1502,1564,1570,1571,1574,1575,1576,1577,1582,1586,1589,1594,1610,1613,1624) have mixed types. Specify dtype option on import or set low_memory=False.\n",
      "  df = pd.read_csv(r'../preprocessed_data/merged_2021_and_2022.csv', na_values = ' ')\n"
     ]
    }
   ],
   "source": [
    "def impute_from_column(df, impute_to, impute_from):\n",
    "    \"\"\"\n",
    "    test:\n",
    "    df[(df['c_ssrs_6'].isna()) & (~df['c_ssrs_last_visit_6'].isna())][['c_ssrs_6', 'c_ssrs_last_visit_6']]\n",
    "    df = impute_from_column(df, impute_to = 'c_ssrs_6', impute_from = 'c_ssrs_last_visit_6')\n",
    "    df[(df['c_ssrs_6'].isna()) & (~df['c_ssrs_last_visit_6'].isna())][['c_ssrs_6', 'c_ssrs_last_visit_6']]\n",
    "    \n",
    "    \"\"\"\n",
    "    df[impute_to] = np.where(df[impute_to].isnull(), df[impute_from], df[impute_to])\n",
    "    \n",
    "    return df\n",
    "\n",
    "df = pd.read_csv(r'../preprocessed_data/merged_2021_and_2022.csv', na_values = ' ')"
   ]
  },
  {
   "cell_type": "code",
   "execution_count": 3,
   "id": "68445eee",
   "metadata": {},
   "outputs": [],
   "source": [
    "cols = list(df.columns)\n",
    "id_column = 'id'\n",
    "cols.remove('redcap_event_name')\n",
    "cols.remove('age_child')\n",
    "limit = cols.index('age_child_pre')\n",
    "duplicate_cols = list(cols[limit + 1:])\n",
    "unique_cols = list(cols[:limit + 1])\n",
    "all_columns = unique_cols + duplicate_cols"
   ]
  },
  {
   "cell_type": "code",
   "execution_count": 4,
   "id": "5385e6ca",
   "metadata": {},
   "outputs": [],
   "source": [
    "df_intake = df[df.redcap_event_name == 'intake_arm_1'][all_columns]\n",
    "df_pre = df[df.redcap_event_name == 'pre_treatment_arm_1'][all_columns]#[duplicate_cols + [id_column]]"
   ]
  },
  {
   "cell_type": "code",
   "execution_count": 5,
   "id": "ecd311a0",
   "metadata": {},
   "outputs": [],
   "source": [
    "merged = pd.merge(df_intake, df_pre, on=[id_column], how='outer', suffixes=('', '_pre_treatment_arm_1'))"
   ]
  },
  {
   "cell_type": "code",
   "execution_count": 6,
   "id": "02971345",
   "metadata": {},
   "outputs": [],
   "source": [
    "for column_name in [i for i in all_columns if i != 'id']: #duplicate_cols:\n",
    "    merged = impute_from_column(merged, impute_to = column_name, impute_from = f'{column_name}_pre_treatment_arm_1')"
   ]
  },
  {
   "cell_type": "code",
   "execution_count": 7,
   "id": "3eda7731",
   "metadata": {},
   "outputs": [],
   "source": [
    "pre_treatment_cols = [i for i in merged.columns if i.endswith('_pre_treatment_arm_1')]\n",
    "merged = merged.drop(pre_treatment_cols, axis=1)"
   ]
  },
  {
   "cell_type": "code",
   "execution_count": 8,
   "id": "3071c921",
   "metadata": {},
   "outputs": [],
   "source": [
    "merged.to_csv(\"intake_data_imputed_from_pre-treatment.csv.csv\", index=False)"
   ]
  },
  {
   "cell_type": "code",
   "execution_count": 9,
   "id": "6965bb55",
   "metadata": {},
   "outputs": [
    {
     "data": {
      "text/plain": [
       "(550, 1623)"
      ]
     },
     "execution_count": 9,
     "metadata": {},
     "output_type": "execute_result"
    }
   ],
   "source": [
    "merged.shape"
   ]
  },
  {
   "cell_type": "code",
   "execution_count": 10,
   "id": "aff6e7f6",
   "metadata": {},
   "outputs": [],
   "source": [
    "a = (merged.groupby('id').age_child_pre.count() == 0)"
   ]
  },
  {
   "cell_type": "code",
   "execution_count": 11,
   "id": "d1f2590a",
   "metadata": {},
   "outputs": [
    {
     "data": {
      "text/plain": [
       "37"
      ]
     },
     "execution_count": 11,
     "metadata": {},
     "output_type": "execute_result"
    }
   ],
   "source": [
    "a[a].sum()"
   ]
  },
  {
   "cell_type": "code",
   "execution_count": 12,
   "id": "89284354",
   "metadata": {},
   "outputs": [],
   "source": [
    "#a[a].to_csv(\"missing_age_part_2.csv\")"
   ]
  },
  {
   "cell_type": "code",
   "execution_count": null,
   "id": "35c4dc39",
   "metadata": {},
   "outputs": [],
   "source": []
  }
 ],
 "metadata": {
  "kernelspec": {
   "display_name": "Python 3 (ipykernel)",
   "language": "python",
   "name": "python3"
  },
  "language_info": {
   "codemirror_mode": {
    "name": "ipython",
    "version": 3
   },
   "file_extension": ".py",
   "mimetype": "text/x-python",
   "name": "python",
   "nbconvert_exporter": "python",
   "pygments_lexer": "ipython3",
   "version": "3.11.4"
  }
 },
 "nbformat": 4,
 "nbformat_minor": 5
}
