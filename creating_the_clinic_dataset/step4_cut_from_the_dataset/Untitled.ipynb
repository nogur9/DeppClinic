{
 "cells": [
  {
   "cell_type": "code",
   "execution_count": 1,
   "id": "18623735",
   "metadata": {},
   "outputs": [],
   "source": [
    "import pandas as pd"
   ]
  },
  {
   "cell_type": "code",
   "execution_count": 9,
   "id": "3596393a",
   "metadata": {},
   "outputs": [],
   "source": [
    "\n",
    "\n",
    "suicidal_ideation_life_intake_irit = [\n",
    "\n",
    "    'c_ssrs_t_life_2_clin',\n",
    "    'c_ssrs_t_life_3_clin',\n",
    "    'c_ssrs_t_life_4_clin',\n",
    "    'c_ssrs_t_life_5_clin',\n",
    "\n",
    "    'c_ssrs_2_life',\n",
    "    'c_ssrs_3_life',\n",
    "    'c_ssrs_4_life',\n",
    "    'c_ssrs_5_life',\n",
    "\n",
    "]\n",
    "\n",
    "suicidal_ideation_2weeks_intake_irit = [\n",
    "\n",
    "    'c_ssrs_t_2weeks_2_clin',\n",
    "    'c_ssrs_t_2weeks_3_clin',\n",
    "    'c_ssrs_t_2weeks_4_clin',\n",
    "    'c_ssrs_t_2weeks_5_clin',\n",
    "\n",
    "    'c_ssrs_2_2weeks',\n",
    "    'c_ssrs_3_2weeks',\n",
    "    'c_ssrs_4_2weeks',\n",
    "    'c_ssrs_5_2weeks',\n",
    "]"
   ]
  },
  {
   "cell_type": "code",
   "execution_count": 10,
   "id": "e26d0b22",
   "metadata": {},
   "outputs": [],
   "source": [
    "names = pd.read_excel(r\"../../helper_docs/ImmiRisk & IPT 2022 Variable View.xlsx\")"
   ]
  },
  {
   "cell_type": "code",
   "execution_count": 11,
   "id": "7e6e3a93",
   "metadata": {},
   "outputs": [],
   "source": [
    "df = pd.read_csv(r\"intake_data_imputed_from_pre-treatment.csv\")"
   ]
  },
  {
   "cell_type": "code",
   "execution_count": 16,
   "id": "c2836b2d",
   "metadata": {},
   "outputs": [
    {
     "data": {
      "text/plain": [
       "array([0.12300672, 0.09382716, 0.11990741, 0.08552113, 0.2184635 ,\n",
       "       0.105465  , 0.09868542, 0.04239978])"
      ]
     },
     "execution_count": 16,
     "metadata": {},
     "output_type": "execute_result"
    }
   ],
   "source": [
    "df[suicidal_ideation_life_intake_irit].mean().values - df[suicidal_ideation_2weeks_intake_irit].mean().values"
   ]
  },
  {
   "cell_type": "code",
   "execution_count": 13,
   "id": "9fc3ed6a",
   "metadata": {},
   "outputs": [
    {
     "data": {
      "text/plain": [
       "c_ssrs_t_2weeks_2_clin    0.644670\n",
       "c_ssrs_t_2weeks_3_clin    0.437037\n",
       "c_ssrs_t_2weeks_4_clin    0.392593\n",
       "c_ssrs_t_2weeks_5_clin    0.168000\n",
       "c_ssrs_2_2weeks           0.560484\n",
       "c_ssrs_3_2weeks           0.751678\n",
       "c_ssrs_4_2weeks           0.506757\n",
       "c_ssrs_5_2weeks           0.275168\n",
       "dtype: float64"
      ]
     },
     "execution_count": 13,
     "metadata": {},
     "output_type": "execute_result"
    }
   ],
   "source": [
    "df[suicidal_ideation_2weeks_intake_irit].mean()"
   ]
  },
  {
   "cell_type": "code",
   "execution_count": 23,
   "id": "fdc53217",
   "metadata": {},
   "outputs": [
    {
     "data": {
      "text/plain": [
       "0.5035799522673031"
      ]
     },
     "execution_count": 23,
     "metadata": {},
     "output_type": "execute_result"
    }
   ],
   "source": [
    "(df[suicidal_ideation_2weeks_intake_irit].sum(axis=1) > 0).astype(int).sum() / (df[~df[suicidal_ideation_2weeks_intake_irit].isna()].shape[0])"
   ]
  },
  {
   "cell_type": "code",
   "execution_count": 24,
   "id": "e341ad1a",
   "metadata": {},
   "outputs": [
    {
     "data": {
      "text/plain": [
       "0.38902147971360385"
      ]
     },
     "execution_count": 24,
     "metadata": {},
     "output_type": "execute_result"
    }
   ],
   "source": [
    "(df[suicidal_ideation_life_intake_irit].sum(axis=1) > 0).astype(int).sum() / (df[~df[suicidal_ideation_life_intake_irit].isna()].shape[0])"
   ]
  },
  {
   "cell_type": "code",
   "execution_count": 27,
   "id": "b4ddb7ae",
   "metadata": {},
   "outputs": [],
   "source": [
    "swan_columns = [i for i in df.columns if i.lower().startswith('swan')]"
   ]
  },
  {
   "cell_type": "code",
   "execution_count": 35,
   "id": "8f07fd6a",
   "metadata": {},
   "outputs": [
    {
     "name": "stdout",
     "output_type": "stream",
     "text": [
      "swan_1_m [nan  2.  3.  1.  0.]\n",
      "swan_2_m [nan  1.  3.  2.  0.]\n",
      "swan_3_m [nan  3.  1.  2.  0.]\n",
      "swan_4_m [nan  0.  2.  3.  1.]\n",
      "swan_5_m [nan  0.  1.  3.  2.]\n",
      "swan_6_m [nan  0.  1.  3.  2.]\n",
      "swan_7_m [nan  1.  3.  2.  0.]\n",
      "swan_8_m [nan  1.  2.  3.  0.]\n",
      "swan_9_m [nan  3.  2.  1.  0.]\n",
      "swan_10_m [nan  2.  3.  1.  0.]\n",
      "swan_11_m [nan  3.  1.  2.  0.]\n",
      "swan_12_m [nan  3.  1.  2.  0.]\n",
      "swan_13_m [nan  3.  2.  1.  0.]\n",
      "swan_14_m [nan  3.  1.  2.  0.]\n",
      "swan_15_m [nan  3.  1.  2.  0.]\n",
      "swan_16_m [nan  3.  1.  2.  0.]\n",
      "swan_17_m [nan  3.  2.  1.  0.]\n",
      "swan_18_m [nan  3.  2.  1.  0.]\n",
      "swan_f_timestamp [nan '2022-02-07 11:42:59' '2022-02-22 16:01:04' '2022-02-14 13:18:36'\n",
      " '2022-02-14 21:52:01' '2022-03-03 09:10:12' '2022-02-21 19:43:46'\n",
      " '2022-03-07 05:02:18' '2022-03-12 16:41:52' '2022-03-22 08:08:01'\n",
      " '2022-03-01 20:13:54' '2022-03-06 18:33:40' '2022-03-03 17:14:49'\n",
      " '2022-03-28 17:02:56' '2022-04-09 17:28:08' '2022-04-08 15:33:20'\n",
      " '2022-04-04 09:47:38' '2022-04-10 07:32:48' '2022-06-10 20:26:58'\n",
      " '2022-05-21 06:56:24' '2022-05-30 16:59:18' '2022-06-06 13:49:22'\n",
      " '2022-06-06 17:26:13' '2022-06-12 21:02:01' '2022-07-03 06:33:55'\n",
      " '2022-06-16 14:55:42' '2022-06-27 05:59:16' '2022-06-27 07:18:47'\n",
      " '2022-07-04 06:03:01' '2022-07-25 03:17:14' '2022-09-12 20:27:18'\n",
      " '2022-11-20 10:14:36' '2022-10-11 16:39:01' '2022-11-15 07:52:19'\n",
      " '2022-11-29 13:36:33' '2022-11-28 16:11:07' '2022-12-04 08:04:50'\n",
      " '2022-12-06 12:37:00' '2022-12-11 12:29:06' '2020-12-26 15:55:08'\n",
      " '2021-02-13 15:40:25.000000000' '2021-02-04 11:57:00'\n",
      " '2021-02-10 16:30:00' '2021-02-23 10:13:39' '2021-02-23 12:38:01'\n",
      " '2021-03-15 11:43:27.000000000' '2021-04-25 08:34:15'\n",
      " '2021-05-03 10:38:00' '2021-05-17 20:35:17' '2021-05-18 13:58:15'\n",
      " '2021-08-24 01:30:27' '2021-08-24 12:27:51' '2021-11-04 16:33:00'\n",
      " '2022-01-02 12:45:00' '2022-01-23 15:01:11'\n",
      " '2020-09-21 14:06:18.000000000' '2020-09-27 08:30:19.000000000'\n",
      " '2020-11-09 20:24:00.000000000' '2020-11-07 14:28:00.000000000'\n",
      " '2020-12-25 14:05:04.000000000' '2021-01-23 16:40:41.000000000'\n",
      " '2021-02-04 14:40:00.000000000' '2021-02-09 10:40:00.000000000'\n",
      " '2021-02-16 18:26:08.000000000' '2021-02-18 20:29:31.000000000'\n",
      " '2021-03-14 17:39:59.000000000' '2021-04-04 13:55:00.000000000'\n",
      " '2021-04-10 19:32:00.000000000' '2021-05-03 15:33:00.000000000'\n",
      " '2021-05-08 13:59:00.000000000' '2021-05-16 09:54:54.000000000'\n",
      " '2021-06-19 19:28:49.000000000' '2021-10-18 16:31:03.000000000'\n",
      " '2021-10-12 09:34:00.000000000' '2021-11-07 06:53:00.000000000'\n",
      " '2021-11-15 15:50:25.000000000' '2021-11-17 12:53:15.000000000'\n",
      " '2021-11-21 18:59:02.000000000' '2021-11-21 09:13:53.000000000'\n",
      " '2021-11-30 05:26:41' '2021-12-03 18:51:00' '2021-12-27 20:14:55'\n",
      " '2021-12-28 09:03:51' '2022-01-17 09:44:40' '2022-01-17 18:08:56'\n",
      " '2022-02-15 10:44:43']\n",
      "swan_1_f [nan  2.  1.  3.  0.]\n",
      "swan_2_f [nan  1.  2.  3.  0.]\n",
      "swan_3_f [nan  1.  2.  3.]\n",
      "swan_4_f [nan  1.  3.  2.  0.]\n",
      "swan_5_f [nan  2.  1.  3.  0.]\n",
      "swan_6_f [nan  0.  2.  3.  1.]\n",
      "swan_7_f [nan  1.  2.  3.  0.]\n",
      "swan_8_f [nan  0.  2.  3.  1.]\n",
      "swan_9_f [nan  2.  3.  1.  0.]\n",
      "swan_10_f [nan  2.  3.  1.  0.]\n",
      "swan_11_f [nan  1.  2.  3.  0.]\n",
      "swan_12_f [nan  3.  2.  0.  1.]\n",
      "swan_13_f [nan  2.  3.  1.  0.]\n",
      "swan_14_f [nan  1.  2.  3.  0.]\n",
      "swan_15_f [nan  2.  3.  1.  0.]\n",
      "swan_16_f [nan  3.  2.  1.  0.]\n",
      "swan_17_f [nan  2.  3.  1.  0.]\n"
     ]
    }
   ],
   "source": [
    "for i in swan_columns[1:-1]:\n",
    "    print(i, df[i].unique())"
   ]
  },
  {
   "cell_type": "code",
   "execution_count": null,
   "id": "34430678",
   "metadata": {},
   "outputs": [],
   "source": []
  }
 ],
 "metadata": {
  "kernelspec": {
   "display_name": "DeppClinic",
   "language": "python",
   "name": "deppclinic"
  },
  "language_info": {
   "codemirror_mode": {
    "name": "ipython",
    "version": 3
   },
   "file_extension": ".py",
   "mimetype": "text/x-python",
   "name": "python",
   "nbconvert_exporter": "python",
   "pygments_lexer": "ipython3",
   "version": "3.9.7"
  }
 },
 "nbformat": 4,
 "nbformat_minor": 5
}
