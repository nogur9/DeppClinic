{
 "cells": [
  {
   "cell_type": "code",
   "execution_count": 1,
   "id": "8ad5914e",
   "metadata": {},
   "outputs": [],
   "source": [
    "import pandas as pd"
   ]
  },
  {
   "cell_type": "code",
   "execution_count": 2,
   "id": "beac5f32",
   "metadata": {},
   "outputs": [
    {
     "name": "stderr",
     "output_type": "stream",
     "text": [
      "C:\\Users\\nogur\\anaconda3\\lib\\site-packages\\IPython\\core\\interactiveshell.py:3444: DtypeWarning: Columns (0,49,417,440,484,500,538,547,566,743,745,750,761,799,808,827,987,992,1058,1096,1117,1119,1170,1172,1191,1193,1194,1195,1201,1202,1203,1356,1358,1359,1360,1366,1367,1368,1369,1482,1493,1505,1512,1513,1544,3088) have mixed types.Specify dtype option on import or set low_memory=False.\n",
      "  exec(code_obj, self.user_global_ns, self.user_ns)\n"
     ]
    }
   ],
   "source": [
    "df = pd.read_csv(\"intake_data.csv\")"
   ]
  },
  {
   "cell_type": "code",
   "execution_count": 13,
   "id": "21101c9f",
   "metadata": {},
   "outputs": [
    {
     "data": {
      "text/plain": [
       "['age_child',\n",
       " 'age',\n",
       " 'parents_age_m',\n",
       " 'age_cshq_m',\n",
       " 'parents_age_f',\n",
       " 'age_cshq_f',\n",
       " 'age_child_pre_treatment_arm_1',\n",
       " 'age_pre_treatment_arm_1',\n",
       " 'parents_age_m_pre_treatment_arm_1',\n",
       " 'age_cshq_m_pre_treatment_arm_1',\n",
       " 'parents_age_f_pre_treatment_arm_1',\n",
       " 'age_cshq_f_pre_treatment_arm_1']"
      ]
     },
     "execution_count": 13,
     "metadata": {},
     "output_type": "execute_result"
    }
   ],
   "source": [
    "[i for i in df.columns if 'age' in i.lower()]"
   ]
  },
  {
   "cell_type": "code",
   "execution_count": 15,
   "id": "f6328ac2",
   "metadata": {},
   "outputs": [
    {
     "data": {
      "text/plain": [
       "array([  nan, 16.  , 15.  , 11.  , 17.  , 18.  , 14.  , 12.  , 10.5 ,\n",
       "       15.04, 10.  , 13.  , 17.9 , 13.5 , 11.3 ,  8.  ])"
      ]
     },
     "execution_count": 15,
     "metadata": {},
     "output_type": "execute_result"
    }
   ],
   "source": [
    "df.age_child.unique()"
   ]
  },
  {
   "cell_type": "code",
   "execution_count": 16,
   "id": "a8f4d125",
   "metadata": {},
   "outputs": [
    {
     "data": {
      "text/plain": [
       "(419, 3089)"
      ]
     },
     "execution_count": 16,
     "metadata": {},
     "output_type": "execute_result"
    }
   ],
   "source": [
    "df.shape"
   ]
  },
  {
   "cell_type": "code",
   "execution_count": null,
   "id": "b968b75d",
   "metadata": {},
   "outputs": [],
   "source": []
  }
 ],
 "metadata": {
  "kernelspec": {
   "display_name": "Python 3 (ipykernel)",
   "language": "python",
   "name": "python3"
  },
  "language_info": {
   "codemirror_mode": {
    "name": "ipython",
    "version": 3
   },
   "file_extension": ".py",
   "mimetype": "text/x-python",
   "name": "python",
   "nbconvert_exporter": "python",
   "pygments_lexer": "ipython3",
   "version": "3.9.7"
  }
 },
 "nbformat": 4,
 "nbformat_minor": 5
}
