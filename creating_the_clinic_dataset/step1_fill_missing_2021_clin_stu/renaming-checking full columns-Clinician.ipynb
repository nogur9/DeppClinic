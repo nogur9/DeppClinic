{
 "cells": [
  {
   "cell_type": "code",
   "execution_count": 1,
   "id": "d678ca90",
   "metadata": {},
   "outputs": [],
   "source": [
    "import pandas as pd\n",
    "import numpy as np\n",
    "import re\n",
    "from completing_missing_clinician_questionnaire_2021 import map_additional_column_name_to_2021_clinician_column_name, should_remove_from_stu_columns, map_additional_column_name_to_2021_student_column_name , fill_id, IsClinician, upload_to_imputation_data_to_old_data_map, upload_to_old_data_column_names_map\n",
    "import psycopg2\n",
    "conn_str = \"dbname=postgres user=postgres password=asdf123\"\n"
   ]
  },
  {
   "cell_type": "code",
   "execution_count": 2,
   "id": "428aa212",
   "metadata": {},
   "outputs": [],
   "source": [
    "conn = psycopg2.connect(conn_str)\n",
    "sql = \"SELECT * FROM auxiliary_questionnaires_data.questionnaires_columns_names;\"\n",
    "df = pd.read_sql_query(sql, conn)\n",
    "conn.close()"
   ]
  },
  {
   "cell_type": "code",
   "execution_count": 3,
   "id": "e5ab1600",
   "metadata": {},
   "outputs": [],
   "source": [
    "clinician_questionnaires = ['c_ssrs_clin', 'mini_kid_sum_clin', 'screening_form', 'suicide_form_clin', 'ffq', 'cdrsr_clin', 'scs_clin', 'er_questionnaire_clin', 'cps_clin', 'remote_clin', 'opening_therapist_battery', 'cgi_s_clin', 'trq_sf_maris_clin', 'maris_y_scars_clin', 'wai_immirisk_clin']"
   ]
  },
  {
   "cell_type": "code",
   "execution_count": 4,
   "id": "ed9c514e",
   "metadata": {},
   "outputs": [],
   "source": [
    "clinician_start = 'opening_clinicians_complete'\n",
    "clinician_end_2021_2022 = 'cssrs_t_clin_complete'#, 'cssrs_fw_maya_complete'\n",
    "clinician_end_add = 'cssrs_t_complete'\n",
    "\n",
    "\n",
    "maya_start_2022 = 'cssrs_fw_maya_timestamp'\n",
    "maya_end_2022 = 'cssrs_fw_maya_complete'\n",
    "\n"
   ]
  },
  {
   "cell_type": "code",
   "execution_count": 5,
   "id": "92d15bbc",
   "metadata": {},
   "outputs": [
    {
     "name": "stderr",
     "output_type": "stream",
     "text": [
      "C:\\Users\\nogur\\anaconda3\\envs\\DeppClinic\\lib\\site-packages\\IPython\\core\\interactiveshell.py:3444: DtypeWarning: Columns (48) have mixed types.Specify dtype option on import or set low_memory=False.\n",
      "  exec(code_obj, self.user_global_ns, self.user_ns)\n",
      "C:\\Users\\nogur\\anaconda3\\envs\\DeppClinic\\lib\\site-packages\\IPython\\core\\interactiveshell.py:3444: DtypeWarning: Columns (44,46,51,53,99,325,366,439,453,459,464,466,501,507,512,514,519,521,530,532,569,571,580,599,766,771,773,779,784,789,794,798,800,804,809,811,813,816,818,827,829,849,866,868,877,896,906,941,964,1002,1014,1025,1063,1068,1070,1076,1081,1086,1091,1093,1095,1097,1099,1100,1126,1142,1149,1165,1168,1172,1173,1177,1178,1179,1180,1182,1183,1184,1187,1188,1190,1207,1212,1229,1232,1260,1262,1264,1266,1268,1271,1281,1283,1285,1291,1293,1297,1305,1306,1319,1321,1324,1326,1338,1340,1342,1343,1344,1350,1351,1352,1353,1465,1467,1468,1470,1486,1489,1492,1496,1513,1515,1516,1517,1523,1524,1525,1526,1580,1650,1653,1654) have mixed types.Specify dtype option on import or set low_memory=False.\n",
      "  exec(code_obj, self.user_global_ns, self.user_ns)\n",
      "C:\\Users\\nogur\\anaconda3\\envs\\DeppClinic\\lib\\site-packages\\IPython\\core\\interactiveshell.py:3444: DtypeWarning: Columns (48,56,57,76,80,81,82,84,91,138,200,290,292,293,294,300,301,302,303,373,376,379,436,437,438,440) have mixed types.Specify dtype option on import or set low_memory=False.\n",
      "  exec(code_obj, self.user_global_ns, self.user_ns)\n"
     ]
    }
   ],
   "source": [
    "old_data = pd.read_csv(r\"../../Data/OriginalDataset/Schneider Depression Clinic Database.csv\", na_values= ' ')\n",
    "redcap_data = pd.read_csv(r\"../../Data/OriginalDataset/ImmiRiskIPT2022_DATA_2023-09-03_1503.csv\", na_values= ' ')\n",
    "imputation_data = pd.read_csv(r\"../../Data/helper_docs/Student_Clinician_data_2021.csv\", na_values= ' ')\n",
    "# the warning rooted from the nan values\n"
   ]
  },
  {
   "cell_type": "code",
   "execution_count": 6,
   "id": "31895ea8",
   "metadata": {},
   "outputs": [],
   "source": [
    "\n",
    "\n",
    "rename_imputation_data = {\n",
    "    'cssrs_followup_timestamp':'cssrs_fw_maya_timestamp',\n",
    "    'cssrs_followup_complete':'cssrs_fw_maya_complete',\n",
    "}\n",
    "\n",
    "rename_old_data = {\n",
    "    'cssrs_followup_timestamp':'cssrs_fw_maya_timestamp',\n",
    "    'cssrs_followup_complete':'cssrs_fw_maya_complete',\n",
    "    'chameleon_complete_stu': 'chameleon_complete'\n",
    "}\n",
    "\n",
    "## error record_id = 363\n",
    "imputation_data = imputation_data[imputation_data['record_id']!=363]\n",
    "\n",
    "#do the imputation id like of redcap dataset\n",
    "imputation_data = fill_id(imputation_data)\n",
    "\n",
    "\n",
    "imputation_data = imputation_data.rename(rename_imputation_data, axis=1)\n",
    "\n",
    "old_data = old_data.rename(rename_old_data, axis=1)\n",
    "\n"
   ]
  },
  {
   "cell_type": "code",
   "execution_count": 7,
   "id": "ca868d8e",
   "metadata": {},
   "outputs": [],
   "source": [
    "old_data_column_names = list(old_data.columns)\n",
    "redcap_data_column_names = list(redcap_data.columns)\n",
    "imputation_data_column_names = list(imputation_data.columns)\n"
   ]
  },
  {
   "cell_type": "markdown",
   "id": "cebc2541",
   "metadata": {},
   "source": [
    "# clin column: in old dataset and not in redcap \n",
    "c_ssrs_t_2weeks_1_clin"
   ]
  },
  {
   "cell_type": "code",
   "execution_count": 10,
   "id": "95e2671b",
   "metadata": {},
   "outputs": [],
   "source": [
    "\n",
    "\n",
    "### clinician columns\n",
    "old_data_clinician_columns = old_data_column_names[old_data_column_names.index(clinician_start):old_data_column_names.index(clinician_end_2021_2022) + 1]\n",
    "\n",
    "\n",
    "redcap_data_clinician_columns = redcap_data_column_names[redcap_data_column_names.index(clinician_start):redcap_data_column_names.index(clinician_end_2021_2022) + 1]\n",
    "\n",
    "redcap_data_clinician_columns += redcap_data_column_names[redcap_data_column_names.index(maya_start_2022):redcap_data_column_names.index(maya_end_2022) + 1]\n",
    "\n",
    "imputation_data_clinician_columns = imputation_data_column_names[imputation_data_column_names.index(clinician_start):imputation_data_column_names.index(clinician_end_add)+1]\n"
   ]
  },
  {
   "cell_type": "markdown",
   "id": "e71eaa6b",
   "metadata": {},
   "source": [
    "# imputation -> old data"
   ]
  },
  {
   "cell_type": "code",
   "execution_count": 9,
   "id": "62152da6",
   "metadata": {
    "scrolled": true
   },
   "outputs": [
    {
     "name": "stdout",
     "output_type": "stream",
     "text": [
      "trqsfmaris_timestamp\n",
      "trqsfmaris_complete\n"
     ]
    }
   ],
   "source": [
    "imputation_2_old_map = {\n",
    "    # imputation_data_clinician_columns : redcap_data_clinician_columns\n",
    "    'trqsfmaris_timestamp': 'trqsfmarisclin_timestamp',\n",
    "    'trqsfmaris_complete': 'trqsfmarisclin_complete'\n",
    "}\n",
    "\n",
    "\n",
    "for clinician_column in imputation_data_clinician_columns:\n",
    "    new_name, success = map_additional_column_name_to_2021_clinician_column_name(clinician_column, old_data_clinician_columns)\n",
    "    if success:\n",
    "        imputation_2_old_map[clinician_column] = new_name\n",
    "\n",
    "     "
   ]
  },
  {
   "cell_type": "markdown",
   "id": "8f92f748",
   "metadata": {},
   "source": [
    "# Old data -> redcap data"
   ]
  },
  {
   "cell_type": "code",
   "execution_count": 11,
   "id": "b4aa5729",
   "metadata": {
    "scrolled": false
   },
   "outputs": [
    {
     "name": "stdout",
     "output_type": "stream",
     "text": [
      "c_ssrs_t_2weeks_1_clin\n"
     ]
    }
   ],
   "source": [
    "old_2_redcap_map = {\n",
    "        # redcap_data_clinician_columns: \n",
    "}\n",
    "\n",
    "for clinician_column in old_data_clinician_columns:\n",
    "    new_name, success = map_additional_column_name_to_2021_clinician_column_name(clinician_column, redcap_data_clinician_columns)\n",
    "    if success:\n",
    "        old_2_redcap_map[clinician_column] = new_name\n",
    "#     else:\n",
    "#         map_for_clinician_data[clinician_column] = None\n"
   ]
  },
  {
   "cell_type": "code",
   "execution_count": 11,
   "id": "76cbd2b6",
   "metadata": {
    "scrolled": true
   },
   "outputs": [
    {
     "data": {
      "text/plain": [
       "336"
      ]
     },
     "execution_count": 11,
     "metadata": {},
     "output_type": "execute_result"
    }
   ],
   "source": [
    "len(imputation_2_old_map.keys())"
   ]
  },
  {
   "cell_type": "code",
   "execution_count": 12,
   "id": "1ab6ec36",
   "metadata": {},
   "outputs": [
    {
     "data": {
      "text/plain": [
       "336"
      ]
     },
     "execution_count": 12,
     "metadata": {},
     "output_type": "execute_result"
    }
   ],
   "source": [
    "len(old_data_clinician_columns)"
   ]
  },
  {
   "cell_type": "code",
   "execution_count": 13,
   "id": "467c470f",
   "metadata": {},
   "outputs": [
    {
     "data": {
      "text/plain": [
       "336"
      ]
     },
     "execution_count": 13,
     "metadata": {},
     "output_type": "execute_result"
    }
   ],
   "source": [
    "len(imputation_data_clinician_columns)"
   ]
  },
  {
   "cell_type": "code",
   "execution_count": null,
   "id": "3d528a73",
   "metadata": {},
   "outputs": [],
   "source": []
  },
  {
   "cell_type": "code",
   "execution_count": null,
   "id": "2197994e",
   "metadata": {},
   "outputs": [],
   "source": []
  },
  {
   "cell_type": "code",
   "execution_count": 17,
   "id": "c4cdcd8f",
   "metadata": {
    "scrolled": false
   },
   "outputs": [
    {
     "name": "stdout",
     "output_type": "stream",
     "text": [
      "c_ssrs_clin \n",
      "\n",
      "['cssrs_t_clin_timestamp', 'c_ssrs_t_time_clin', 'c_ssrs_t_2weeks_2_clin', 'c_ssrs_t_2weeks_3_clin', 'c_ssrs_t_2weeks_4_clin', 'c_ssrs_t_2weeks_5_clin', 'c_ssrs_t_last_1_clin', 'c_ssrs_t_last_2_clin', 'c_ssrs_t_last_3_clin', 'c_ssrs_t_last_4_clin', 'c_ssrs_t_last_5_clin', 'c_ssrs_t_life_1_clin', 'c_ssrs_t_life_2_clin', 'c_ssrs_t_life_3_clin', 'c_ssrs_t_life_4_clin', 'c_ssrs_t_life_5_clin', 'c_ssrs_t_6_clin', 'c_ssrs_t_7_clin', 'c_ssrs_t_8_clin', 'c_ssrs_t_9_clin', 'c_ssrs_t_10_clin', 'c_ssrs_t_11_2weeks_clin', 'c_ssrs_t_12_2weeks_clin', 'c_ssrs_t_13_2weeks_clin', 'c_ssrs_t_14_2weeks_clin', 'c_ssrs_t_15_2weeks_clin', 'c_ssrs_t_16_2weeks_clin', 'suicidal_behavior_last_11_clin', 'suicidal_behavior_last_12_clin', 'suicidal_behavior_last_13_clin', 'suicidal_behavior_last_14_clin', 'suicidal_behavior_last_15_clin', 'suicidal_behavior_last_16_clin', 'c_ssrs_t_11_life_clin', 'c_ssrs_t_12_life_clin', 'c_ssrs_t_13_life_clin', 'c_ssrs_t_14_life_clin', 'c_ssrs_t_15_life_clin', 'c_ssrs_t_16_life_clin'] \n",
      "\n",
      "\n",
      "\\\\\\\\\\\\\\\\\\\\\\\\\\\\\\\\\\\\\\\\\\\\\n",
      "mini_kid_sum_clin \n",
      "\n",
      "['mini_kid_sum_clin_timestamp', 'mini_class_clin', 'mini_date_clin', 'mini_interviewer_clin', 'mini_date_interview_clin', 'mini_medication_clin___1', 'mini_medication_clin___2', 'mini_medication_clin___3', 'mini_medication_clin___4', 'mini_medication_clin___5', 'mini_medicine_other_clin', 'mini_start_time_clin', 'mini_end_time_clin', 'mini_total_time_clin', 'depres_clin___1', 'depres_clin___2', 'depres_clin___3', 'suicide_clin___1', 'suicide_clin___2', 'suicide_risk_clin', 'dysthemia_clin___1', 'manic_clin___1', 'manic_clin___2', 'hypomania_clin___1', 'hypomania_clin___2', 'bipolar_i_clin___1', 'bipolar_i_clin___2', 'bipolar_ii_clin___1', 'bipolar_ii_clin___2', 'bipolar_unclassified_clin___1', 'bipolar_unclassified_clin___2', 'panic_clin___1', 'panic_clin___2', 'agoraphobia_clin___1', 'separation_anxiety_clin___1', 'social_anxiety_clin___1', 'social_anxiety_clin___2', 'social_anxiety_clin___3', 'phobia_clin___1', 'ocd_clin___1', 'ptsd_clin___1', 'alcohol_depend_clin___1', 'alcohol_use_clin___1', 'drug_depend_clin___1', 'drug_use_clin___1', 'tourette_clin___1', 'motor_tics_clin___1', 'vocal_tics_clin___1', 'transient_tics_clin___1', 'adhd_mix_clin___1', 'adhd_attention_clin___1', 'adhd_hyper_clin___1', 'conduct_clin___1', 'odd_clin___1', 'psychotic_clin___1', 'psychotic_clin___2', 'affect_psychotic_clin___1', 'affect_psychotic_clin___2', 'anorexia_clin___1', 'bulimia_clin___1', 'anorexia_bulmus_clin___1', 'gad_clin___1', 'adjustment_clin___1', 'organic_clin', 'development_clin___1', 'main_dianose_clin'] \n",
      "\n",
      "\n",
      "\\\\\\\\\\\\\\\\\\\\\\\\\\\\\\\\\\\\\\\\\\\\\n",
      "screening_form \n",
      "\n",
      "[] \n",
      "\n",
      "\n",
      "\\\\\\\\\\\\\\\\\\\\\\\\\\\\\\\\\\\\\\\\\\\\\n",
      "suicide_form_clin \n",
      "\n",
      "['suicide_form_clin_timestamp', 'suiciform_time_clin', 'medhis_1_clin', 'medhis_1_1_clin', 'medhis_2_clin', 'medhis_2_1_clin', 'medhis_3_clin', 'medhis_3_1_clin', 'medhis_4_clin', 'medhis_4_1_clin', 'medhis_5_clin', 'medhis_5_1_clin', 'medhis_6_clin', 'medhis_6_1_clin', 'medhis_7_clin', 'medhis_7_1_clin', 'medhis_8_clin', 'medhis_8_1_clin', 'medhis_9_clin', 'medhis_9_1_clin', 'medhis_10_clin', 'medhis_10_1_clin', 'medhis_11_clin', 'medhis_11_1_clin', 'medhis_12_clin', 'medhis_12_1_clin', 'medhis_13_clin', 'medhis_13_1_clin', 'medhis_details_clin', 'diet_1_clin', 'diet_1_1_clin', 'diet_2_clin', 'diet_2_1_clin', 'diet_3_clin', 'diet_3_1_clin', 'diet_4_clin', 'diet_4_1_clin', 'diet_5_clin', 'diet_5_1_clin', 'medhis_clin', 'inclusion_1_clin', 'inclusion_2_clin', 'exclusion_1_clin', 'exclusion_2_clin', 'exclusion_3_clin', 'exclusion_4_clin', 'exclusion_5_clin', 'exclusion_6_clin', 'week_1_clin', 'week_1_1_clin', 'week_2_clin', 'week_2_1_clin', 'week_3_clin', 'week_medic_clin', 'three_mon_1_clin', 'three_mon_1_1_clin', 'three_mon_2_clin', 'three_mon_2_1_clin', 'three_mon_3_clin', 'three_mon_medic_clin', 'six_mon_1_clin', 'six_mon_1_1_clin', 'six_mon_2_clin', 'six_mon_2_1_clin', 'six_mon_3_clin', 'six_mon_medic_clin', 'twelve_mon_1_clin', 'twelve_mon_1_1_clin', 'twelve_mon_2_clin', 'twelve_mon_2_1_clin', 'twelve_mon_3_clin', 'twelve_mon_medic_clin'] \n",
      "\n",
      "\n",
      "\\\\\\\\\\\\\\\\\\\\\\\\\\\\\\\\\\\\\\\\\\\\\n",
      "ffq \n",
      "\n",
      "[] \n",
      "\n",
      "\n",
      "\\\\\\\\\\\\\\\\\\\\\\\\\\\\\\\\\\\\\\\\\\\\\n",
      "cdrsr_clin \n",
      "\n",
      "['cdrsr_clin_timestamp', 'cdrs_impaired_schoolwork_clin', 'cdrs_difficulty_having_fun_clin', 'sdrs_social_withdrawal_clin', 'cdrs_sleep_disturbance_clin', 'cdrs_sleep_disturbance_2_clin', 'cdrs_appetite_disturbance_clin', 'cdrs_appetite_disturbance_2_clin', 'cdrs_excessive_fatigue_clin', 'cdrs_physical_complaints_clin', 'sdrs_irritability_clin', 'cdrs_excessive_guilt_clin', 'cdrs_low_self_esteem_clin', 'cdrs_depressed_feelings_clin', 'cdrs_morbid_ideation_clin', 'cdrs_suicidal_ideation_clin', 'cdrs_excessive_weeping_clin', 'cdrs_depressed_facial_affect_clin', 'cdrs_listless_speech_clin', 'cdrs_hypoactivity_clin', 'cdrs_sum_clin'] \n",
      "\n",
      "\n",
      "\\\\\\\\\\\\\\\\\\\\\\\\\\\\\\\\\\\\\\\\\\\\\n",
      "scs_clin \n",
      "\n",
      "['sci_c_1_1_clin', 'scs_2_1_clin', 'scs_2_2_clin', 'scs_2_3_clin', 'scs_2_4_clin', 'sci_c_3_1_clin', 'sci_c_3_2_clin', 'sci_c_3_3_clin', 'sci_c_3_4_clin', 'sci_c_4_1_clin', 'sci_c_4_2_clin', 'sci_c_4_3_clin', 'sci_c_4_4_clin', 'sci_c_5_1_clin', 'sci_c_5_2_clin'] \n",
      "\n",
      "\n",
      "\\\\\\\\\\\\\\\\\\\\\\\\\\\\\\\\\\\\\\\\\\\\\n",
      "er_questionnaire_clin \n",
      "\n",
      "['er_questionnaire_clin_timestamp', 'er_name_clin', 'er_date_of_birth_clin', 'er_id_clin', 'er_arrival_clin', 'er_reason_clin', 'er_attemp_time_clin', 'er_planned_clin', 'er_regret_clin', 'er_cut_first_clin', 'er_thoughts_clin', 'er_worst_thoughts_clin', 'er_thoughts_now_clin', 'er_medicine_clin', 'er_medicine_what_clin', 'er_medicine_mg_clin'] \n",
      "\n",
      "\n",
      "\\\\\\\\\\\\\\\\\\\\\\\\\\\\\\\\\\\\\\\\\\\\\n",
      "cps_clin \n",
      "\n",
      "['cps_clin_timestamp', 'cps_1_clin', 'cps_2_clin'] \n",
      "\n",
      "\n",
      "\\\\\\\\\\\\\\\\\\\\\\\\\\\\\\\\\\\\\\\\\\\\\n",
      "remote_clin \n",
      "\n",
      "['remote_clin_timestamp', 'remote_1_clin'] \n",
      "\n",
      "\n",
      "\\\\\\\\\\\\\\\\\\\\\\\\\\\\\\\\\\\\\\\\\\\\\n",
      "opening_therapist_battery \n",
      "\n",
      "['opening_therapist_battery_timestamp', 'time_clin', 'parents_safety_plan_clin', 'safety_plan_clin', 'safety_plan_changed_clin', 'cgi_s_clin', 'cgi_i_clin', 'wai_t_1_clin', 'wai_t_2_clin', 'wai_t_3_clin', 'wai_t_4_clin', 'wai_t_5_clin', 'wai_t_6_clin', 'wai_t_7_clin', 'wai_t_8_clin', 'wai_t_9_clin', 'wai_t_10_clin', 'wai_t_11_clin', 'wai_t_12_clin'] \n",
      "\n",
      "\n",
      "\\\\\\\\\\\\\\\\\\\\\\\\\\\\\\\\\\\\\\\\\\\\\n",
      "cgi_s_clin \n",
      "\n",
      "['cgi_s_clin_timestamp', 'cgi_s_base_clin'] \n",
      "\n",
      "\n",
      "\\\\\\\\\\\\\\\\\\\\\\\\\\\\\\\\\\\\\\\\\\\\\n",
      "trq_sf_maris_clin \n",
      "\n",
      "['trqsfmarisclin_timestamp', 'trq_sf_maris_1_clin', 'trq_sf_maris_2_clin', 'trq_sf_maris_3_clin', 'trq_sf_maris_4_clin', 'trq_sf_maris_5_clin', 'trq_sf_maris_6_clin', 'trq_sf_maris_7_clin', 'trq_sf_maris_8_clin', 'trq_sf_maris_9_clin', 'trq_sf_maris_10_clin', 'trq_sf_maris_11_clin', 'trq_sf_maris_12_clin', 'trq_sf_maris_13_clin', 'trq_sf_maris_14_clin'] \n",
      "\n",
      "\n",
      "\\\\\\\\\\\\\\\\\\\\\\\\\\\\\\\\\\\\\\\\\\\\\n",
      "maris_y_scars_clin \n",
      "\n",
      "['marisyscars_clin_timestamp', 'maris_y_scars_1_clin', 'maris_y_scars_2_clin', 'maris_y_scars_3_clin', 'maris_y_scars_4_clin', 'maris_y_scars_5_clin', 'maris_y_scars_6_clin', 'maris_y_scars_7_clin', 'maris_y_scars_8_clin'] \n",
      "\n",
      "\n",
      "\\\\\\\\\\\\\\\\\\\\\\\\\\\\\\\\\\\\\\\\\\\\\n",
      "wai_immirisk_clin \n",
      "\n",
      "['wai_immirisk_clin_timestamp', 'wai_t_immi_1_clin', 'wai_t_immi_2_clin', 'wai_t_immi_3_clin', 'wai_t_immi_4_clin', 'wai_t_immi_5_clin', 'wai_t_immi_6_clin', 'wai_t_immi_7_clin', 'wai_t_immi_8_clin', 'wai_t_immi_9_clin', 'wai_t_immi_10_clin', 'wai_t_immi_11_clin', 'wai_t_immi_12_clin'] \n",
      "\n",
      "\n",
      "\\\\\\\\\\\\\\\\\\\\\\\\\\\\\\\\\\\\\\\\\\\\\n"
     ]
    }
   ],
   "source": [
    "for questionnaire in clinician_questionnaires:\n",
    "    \n",
    "    redcap_columns = df.loc[df['questionnaire_name'] == questionnaire, 'column_names'].values[0]\n",
    "    questionnaire_old_2_redcap_map = {key: old_2_redcap_map[key] for key in redcap_columns if key in old_2_redcap_map}\n",
    "    old_data_columns = list(questionnaire_old_2_redcap_map.values())\n",
    "    questionnaire_imputation_2_old_map = {key: imputation_2_old_map[key] for key in old_data_columns if key in imputation_2_old_map}\n",
    "    \n",
    "    \n",
    "    print(questionnaire, '\\n')\n",
    "    print(old_data_columns, '\\n\\n')\n",
    "    \n",
    "    print('\\\\\\\\\\\\\\\\\\\\\\\\\\\\\\\\\\\\\\\\\\\\\\\\\\\\\\\\\\\\\\\\\\\\\\\\\\\\\\\\\\\\\\\\')\n",
    "    \n",
    "    \n",
    "#     upload_to_old_data_column_names_map(conn_str, questionnaire, questionnaire_old_2_redcap_map)\n",
    "    \n",
    "#     upload_to_imputation_data_to_old_data_map(conn_str, questionnaire, questionnaire_imputation_2_old_map)"
   ]
  },
  {
   "cell_type": "code",
   "execution_count": null,
   "id": "1029140c",
   "metadata": {},
   "outputs": [],
   "source": []
  }
 ],
 "metadata": {
  "kernelspec": {
   "display_name": "DeppClinic",
   "language": "python",
   "name": "deppclinic"
  },
  "language_info": {
   "codemirror_mode": {
    "name": "ipython",
    "version": 3
   },
   "file_extension": ".py",
   "mimetype": "text/x-python",
   "name": "python",
   "nbconvert_exporter": "python",
   "pygments_lexer": "ipython3",
   "version": "3.9.7"
  }
 },
 "nbformat": 4,
 "nbformat_minor": 5
}
