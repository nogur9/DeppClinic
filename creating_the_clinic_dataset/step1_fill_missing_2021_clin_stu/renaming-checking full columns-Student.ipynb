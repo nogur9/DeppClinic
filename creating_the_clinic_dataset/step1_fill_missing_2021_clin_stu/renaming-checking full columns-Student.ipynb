{
 "cells": [
  {
   "cell_type": "code",
   "execution_count": 1,
   "id": "d678ca90",
   "metadata": {},
   "outputs": [],
   "source": [
    "import pandas as pd\n",
    "import numpy as np\n",
    "import re\n",
    "from completing_missing_clinician_questionnaire_2021 import map_additional_column_name_to_2021_clinician_column_name, should_remove_from_stu_columns, map_additional_column_name_to_2021_student_column_name , fill_id, IsClinician, upload_to_imputation_data_to_old_data_map, upload_to_old_data_column_names_map\n",
    "import psycopg2\n",
    "\n",
    "conn_str = \"dbname=postgres user=postgres password=asdf123\""
   ]
  },
  {
   "cell_type": "code",
   "execution_count": 2,
   "id": "5e7fbd37",
   "metadata": {},
   "outputs": [],
   "source": [
    "student_questionnaires = [\"opening_students\", \"trq_sf_maris_stu\", \"remote_stu\", \"cps_stu\", \"scs_stu\", \"mini_kid_sum_stu\", \"c_ssrs_stu\"]"
   ]
  },
  {
   "cell_type": "code",
   "execution_count": 3,
   "id": "ed9c514e",
   "metadata": {},
   "outputs": [],
   "source": [
    "\n",
    "clinician_start = 'opening_clinicians_complete'\n",
    "clinician_end_2021_2022 = 'cssrs_t_clin_complete'#, 'cssrs_fw_maya_complete'\n",
    "clinician_end_add = 'cssrs_t_complete'\n",
    "\n",
    "student_start = 'opening_students_timestamp'\n",
    "student_end = 'cssrs_t_stu_complete'\n"
   ]
  },
  {
   "cell_type": "code",
   "execution_count": 4,
   "id": "475e12a9",
   "metadata": {},
   "outputs": [],
   "source": [
    "conn = psycopg2.connect(conn_str)\n",
    "sql = \"SELECT * FROM auxiliary_questionnaires_data.questionnaires_columns_names;\"\n",
    "df = pd.read_sql_query(sql, conn)\n",
    "conn.close()"
   ]
  },
  {
   "cell_type": "code",
   "execution_count": 8,
   "id": "92d15bbc",
   "metadata": {},
   "outputs": [
    {
     "name": "stderr",
     "output_type": "stream",
     "text": [
      "C:\\Users\\nogur\\anaconda3\\envs\\DeppClinic\\lib\\site-packages\\IPython\\core\\interactiveshell.py:3444: DtypeWarning: Columns (44,46,51,53,99,325,366,439,453,459,464,466,501,507,512,514,519,521,530,532,569,571,580,599,766,771,773,779,784,789,794,798,800,804,809,811,813,816,818,827,829,849,866,868,877,896,906,941,964,1002,1014,1025,1063,1068,1070,1076,1081,1086,1091,1093,1095,1097,1099,1100,1126,1142,1149,1165,1168,1172,1173,1177,1178,1179,1180,1182,1183,1184,1187,1188,1190,1207,1212,1229,1232,1260,1262,1264,1266,1268,1271,1281,1283,1285,1291,1293,1297,1305,1306,1319,1321,1324,1326,1338,1340,1342,1343,1344,1350,1351,1352,1353,1465,1467,1468,1470,1486,1489,1492,1496,1513,1515,1516,1517,1523,1524,1525,1526,1580,1650,1653,1654) have mixed types.Specify dtype option on import or set low_memory=False.\n",
      "  exec(code_obj, self.user_global_ns, self.user_ns)\n"
     ]
    }
   ],
   "source": [
    "old_data = pd.read_csv(r\"../../Data/OriginalDataset/Schneider Depression Clinic Database.csv\", na_values= ' ')\n",
    "redcap_data = pd.read_csv(r\"../../Data/OriginalDataset/ImmiRiskIPT2022_DATA_2023-09-03_1503.csv\", na_values= ' ')\n",
    "imputation_data = pd.read_csv(r\"../../Data/helper_docs/Student_Clinician_data_2021.csv\", na_values= ' ')\n",
    "# the warning rooted from the nan values\n"
   ]
  },
  {
   "cell_type": "code",
   "execution_count": 9,
   "id": "31895ea8",
   "metadata": {},
   "outputs": [],
   "source": [
    "\n",
    "\n",
    "rename_imputation_data = {\n",
    "    'cssrs_followup_timestamp':'cssrs_fw_maya_timestamp',\n",
    "    'cssrs_followup_complete':'cssrs_fw_maya_complete',\n",
    "}\n",
    "\n",
    "rename_old_data = {\n",
    "    'cssrs_followup_timestamp':'cssrs_fw_maya_timestamp',\n",
    "    'cssrs_followup_complete':'cssrs_fw_maya_complete',\n",
    "    'chameleon_complete_stu': 'chameleon_complete'\n",
    "}\n",
    "\n",
    "## error record_id = 363\n",
    "imputation_data = imputation_data[imputation_data['record_id']!=363]\n",
    "\n",
    "#do the imputation id like of redcap dataset\n",
    "imputation_data = fill_id(imputation_data)\n",
    "\n",
    "\n",
    "imputation_data = imputation_data.rename(rename_imputation_data, axis=1)\n",
    "\n",
    "old_data = old_data.rename(rename_old_data, axis=1)\n",
    "\n"
   ]
  },
  {
   "cell_type": "code",
   "execution_count": 10,
   "id": "ca868d8e",
   "metadata": {},
   "outputs": [],
   "source": [
    "old_data_column_names = list(old_data.columns)\n",
    "\n",
    "redcap_data_column_names = list(redcap_data.columns)\n",
    "imputation_data_column_names = list(imputation_data.columns)\n"
   ]
  },
  {
   "cell_type": "markdown",
   "id": "cebc2541",
   "metadata": {},
   "source": [
    "# Student column: in old dataset and not in redcap \n",
    "----"
   ]
  },
  {
   "cell_type": "code",
   "execution_count": 11,
   "id": "95e2671b",
   "metadata": {},
   "outputs": [],
   "source": [
    "### student columns\n",
    "\n",
    "old_data_student_columns = old_data_column_names[old_data_column_names.index(student_start):old_data_column_names.index(student_end)+1]\n",
    "redcap_data_student_columns = redcap_data_column_names[redcap_data_column_names.index(student_start):redcap_data_column_names.index(student_end)+1] \n",
    "\n",
    "imputation_data_student_columns = imputation_data_column_names[imputation_data_column_names.index(clinician_start):imputation_data_column_names.index(clinician_end_add)+1]\n",
    "imputation_data_student_columns = imputation_data_student_columns + ['who', 'who_other', 'name']\n",
    "\n",
    "imputation_data_student_columns = [i for i in imputation_data_student_columns if not should_remove_from_stu_columns(i)]\n",
    "\n"
   ]
  },
  {
   "cell_type": "markdown",
   "id": "ff9e98c8",
   "metadata": {},
   "source": [
    "# imputation -> old data"
   ]
  },
  {
   "cell_type": "code",
   "execution_count": 12,
   "id": "62152da6",
   "metadata": {
    "scrolled": true
   },
   "outputs": [],
   "source": [
    "imputation_2_old_map = {\n",
    "#     # imputation_data_clinician_columns : redcap_data_clinician_columns\n",
    "#     'trqsfmaris_timestamp': 'trqsfmarisclin_timestamp',\n",
    "#     'trqsfmaris_complete': 'trqsfmarisclin_complete'\n",
    "}\n",
    "\n",
    "\n",
    "for student_column in imputation_data_student_columns:\n",
    "    new_name, success = map_additional_column_name_to_2021_student_column_name(student_column, old_data_student_columns)\n",
    "    if success:\n",
    "        imputation_2_old_map[student_column] = new_name\n",
    "    else:\n",
    "        print(student_column)"
   ]
  },
  {
   "cell_type": "markdown",
   "id": "698f3a35",
   "metadata": {},
   "source": [
    "# Old data -> redcap data"
   ]
  },
  {
   "cell_type": "code",
   "execution_count": 13,
   "id": "b4aa5729",
   "metadata": {
    "scrolled": true
   },
   "outputs": [],
   "source": [
    "old_2_redcap_map = {\n",
    "        # redcap_data_clinician_columns: \n",
    "}\n",
    "\n",
    "for student_column in old_data_student_columns:\n",
    "    new_name, success = map_additional_column_name_to_2021_student_column_name(student_column, redcap_data_student_columns)\n",
    "    if success:\n",
    "        old_2_redcap_map[student_column] = new_name\n",
    "    else:\n",
    "        print(student_column)\n"
   ]
  },
  {
   "cell_type": "code",
   "execution_count": 14,
   "id": "76cbd2b6",
   "metadata": {
    "scrolled": true
   },
   "outputs": [
    {
     "data": {
      "text/plain": [
       "88"
      ]
     },
     "execution_count": 14,
     "metadata": {},
     "output_type": "execute_result"
    }
   ],
   "source": [
    "len(imputation_2_old_map.keys())"
   ]
  },
  {
   "cell_type": "code",
   "execution_count": 15,
   "id": "04dfd1e1",
   "metadata": {},
   "outputs": [
    {
     "data": {
      "text/plain": [
       "156"
      ]
     },
     "execution_count": 15,
     "metadata": {},
     "output_type": "execute_result"
    }
   ],
   "source": [
    "len(old_2_redcap_map.keys())"
   ]
  },
  {
   "cell_type": "code",
   "execution_count": 16,
   "id": "1ab6ec36",
   "metadata": {},
   "outputs": [
    {
     "data": {
      "text/plain": [
       "156"
      ]
     },
     "execution_count": 16,
     "metadata": {},
     "output_type": "execute_result"
    }
   ],
   "source": [
    "len(old_data_student_columns)"
   ]
  },
  {
   "cell_type": "code",
   "execution_count": 17,
   "id": "467c470f",
   "metadata": {},
   "outputs": [
    {
     "data": {
      "text/plain": [
       "88"
      ]
     },
     "execution_count": 17,
     "metadata": {},
     "output_type": "execute_result"
    }
   ],
   "source": [
    "len(imputation_data_student_columns)"
   ]
  },
  {
   "cell_type": "code",
   "execution_count": 18,
   "id": "bc9c06cc",
   "metadata": {},
   "outputs": [
    {
     "data": {
      "text/plain": [
       "173"
      ]
     },
     "execution_count": 18,
     "metadata": {},
     "output_type": "execute_result"
    }
   ],
   "source": [
    "len(redcap_data_student_columns)"
   ]
  },
  {
   "cell_type": "code",
   "execution_count": 23,
   "id": "0ba3975e",
   "metadata": {},
   "outputs": [
    {
     "name": "stdout",
     "output_type": "stream",
     "text": [
      "opening_students \n",
      "\n",
      "['opening_students_timestamp', 'who_stu', 'who_other_stu', 'name_stu'] \n",
      "\n",
      "\n",
      "\\\\\\\\\\\\\\\\\\\\\\\\\\\\\\\\\\\\\\\\\\\\\n",
      "trq_sf_maris_stu \n",
      "\n",
      "['trqsfmaris_stu_timestamp', 'trq_sf_maris_1_stu', 'trq_sf_maris_2_stu', 'trq_sf_maris_3_stu', 'trq_sf_maris_4_stu', 'trq_sf_maris_5_stu', 'trq_sf_maris_6_stu', 'trq_sf_maris_7_stu', 'trq_sf_maris_8_stu', 'trq_sf_maris_9_stu', 'trq_sf_maris_10_stu', 'trq_sf_maris_11_stu', 'trq_sf_maris_12_stu', 'trq_sf_maris_13_stu', 'trq_sf_maris_14_stu'] \n",
      "\n",
      "\n",
      "\\\\\\\\\\\\\\\\\\\\\\\\\\\\\\\\\\\\\\\\\\\\\n",
      "remote_stu \n",
      "\n",
      "['remote_stu_timestamp', 'remote_1_stu'] \n",
      "\n",
      "\n",
      "\\\\\\\\\\\\\\\\\\\\\\\\\\\\\\\\\\\\\\\\\\\\\n",
      "cps_stu \n",
      "\n",
      "['cps_stu_timestamp', 'cps_1_stu', 'cps_2_stu'] \n",
      "\n",
      "\n",
      "\\\\\\\\\\\\\\\\\\\\\\\\\\\\\\\\\\\\\\\\\\\\\n",
      "scs_stu \n",
      "\n",
      "['sci_c_1_1_stu', 'scs_2_1_stu', 'scs_2_2_stu', 'scs_2_3_stu', 'scs_2_4_stu', 'sci_c_3_1_stu', 'sci_c_3_2_stu', 'sci_c_3_3_stu', 'sci_c_3_4_stu', 'sci_c_4_1_stu', 'sci_c_4_2_stu', 'sci_c_4_3_stu', 'sci_c_4_4_stu', 'sci_c_5_1_stu', 'sci_c_5_2_stu'] \n",
      "\n",
      "\n",
      "\\\\\\\\\\\\\\\\\\\\\\\\\\\\\\\\\\\\\\\\\\\\\n",
      "mini_kid_sum_stu \n",
      "\n",
      "['mini_kid_sum_stu_timestamp', 'mini_class_stu', 'mini_date_stu', 'mini_interviewer_stu', 'mini_date_interview_stu', 'mini_medication_stu___1', 'mini_medication_stu___2', 'mini_medication_stu___3', 'mini_medication_stu___4', 'mini_medication_stu___5', 'mini_medicine_other_stu', 'mini_start_time_stu', 'mini_end_time_stu', 'mini_total_time_stu', 'depres_stu___1', 'depres_stu___2', 'depres_stu___3', 'suicide_stu___1', 'suicide_stu___2', 'suicide_risk_stu', 'dysthemia_stu___1', 'manic_stu___1', 'manic_stu___2', 'hypomania_stu___1', 'hypomania_stu___2', 'bipolar_i_stu___1', 'bipolar_i_stu___2', 'bipolar_ii_stu___1', 'bipolar_ii_stu___2', 'bipolar_unclassified_stu___1', 'bipolar_unclassified_stu___2', 'panic_stu___1', 'panic_stu___2', 'agoraphobia_stu___1', 'separation_anxiety_stu___1', 'social_anxiety_stu___1', 'social_anxiety_stu___2', 'social_anxiety_stu___3', 'phobia_stu___1', 'ocd_stu___1', 'ptsd_stu___1', 'alcohol_depend_stu___1', 'alcohol_use_stu___1', 'drug_depend_stu___1', 'drug_use_stu___1', 'tourette_stu___1', 'motor_tics_stu___1', 'vocal_tics_stu___1', 'transient_tics_stu___1', 'adhd_mix_stu___1', 'adhd_attention_stu___1', 'adhd_hyper_stu___1', 'conduct_stu___1', 'odd_stu___1', 'psychotic_stu___1', 'psychotic_stu___2', 'affect_psychotic_stu___1', 'affect_psychotic_stu___2', 'anorexia_stu___1', 'bulimia_stu___1', 'anorexia_bulmus_stu___1', 'gad_stu___1', 'adjustment_stu___1', 'organic_stu', 'development_stu___1', 'main_dianose_stu'] \n",
      "\n",
      "\n",
      "\\\\\\\\\\\\\\\\\\\\\\\\\\\\\\\\\\\\\\\\\\\\\n",
      "c_ssrs_stu \n",
      "\n",
      "['cssrs_t_stu_timestamp', 'c_ssrs_t_time_stu', 'c_ssrs_t_2weeks_1_stu', 'c_ssrs_t_2weeks_2_stu', 'c_ssrs_t_2weeks_3_stu', 'c_ssrs_t_2weeks_4_stu', 'c_ssrs_t_2weeks_5_stu', 'c_ssrs_t_last_1_stu', 'c_ssrs_t_last_2_stu', 'c_ssrs_t_last_3_stu', 'c_ssrs_t_last_4_stu', 'c_ssrs_t_last_5_stu', 'c_ssrs_t_life_1_stu', 'c_ssrs_t_life_2_stu', 'c_ssrs_t_life_3_stu', 'c_ssrs_t_life_4_stu', 'c_ssrs_t_life_5_stu', 'c_ssrs_t_6_stu', 'c_ssrs_t_7_stu', 'c_ssrs_t_8_stu', 'c_ssrs_t_9_stu', 'c_ssrs_t_10_stu', 'c_ssrs_t_11_2weeks_stu', 'c_ssrs_t_12_2weeks_stu', 'c_ssrs_t_13_2weeks_stu', 'c_ssrs_t_14_2weeks_stu', 'c_ssrs_t_15_2weeks_stu', 'c_ssrs_t_16_2weeks_stu', 'suicidal_behavior_last_11_stu', 'suicidal_behavior_last_12_stu', 'suicidal_behavior_last_13_stu', 'suicidal_behavior_last_14_stu', 'suicidal_behavior_last_15_stu', 'suicidal_behavior_last_16_stu', 'c_ssrs_t_11_life_stu', 'c_ssrs_t_12_life_stu', 'c_ssrs_t_13_life_stu', 'c_ssrs_t_14_life_stu', 'c_ssrs_t_15_life_stu', 'c_ssrs_t_16_life_stu'] \n",
      "\n",
      "\n",
      "\\\\\\\\\\\\\\\\\\\\\\\\\\\\\\\\\\\\\\\\\\\\\n"
     ]
    }
   ],
   "source": [
    "for questionnaire in student_questionnaires:\n",
    "    \n",
    "    redcap_columns = df.loc[df['questionnaire_name'] == questionnaire, 'column_names'].values[0]\n",
    "    questionnaire_old_2_redcap_map = {key: old_2_redcap_map[key] for key in redcap_columns if key in old_2_redcap_map}\n",
    "    old_data_columns = list(questionnaire_old_2_redcap_map.values())\n",
    "    questionnaire_imputation_2_old_map = {key: imputation_2_old_map[key] for key in old_data_columns if key in imputation_2_old_map}\n",
    "    print(questionnaire, '\\n')\n",
    "    print(old_data_columns, '\\n\\n')\n",
    "    print('\\\\\\\\\\\\\\\\\\\\\\\\\\\\\\\\\\\\\\\\\\\\\\\\\\\\\\\\\\\\\\\\\\\\\\\\\\\\\\\\\\\\\\\\')\n",
    "    \n",
    "#     upload_to_old_data_column_names_map(conn_str, questionnaire, questionnaire_old_2_redcap_map)\n",
    "    \n",
    "#     upload_to_imputation_data_to_old_data_map(conn_str, questionnaire, questionnaire_imputation_2_old_map)"
   ]
  },
  {
   "cell_type": "code",
   "execution_count": null,
   "id": "744a432a",
   "metadata": {},
   "outputs": [],
   "source": []
  }
 ],
 "metadata": {
  "kernelspec": {
   "display_name": "DeppClinic",
   "language": "python",
   "name": "deppclinic"
  },
  "language_info": {
   "codemirror_mode": {
    "name": "ipython",
    "version": 3
   },
   "file_extension": ".py",
   "mimetype": "text/x-python",
   "name": "python",
   "nbconvert_exporter": "python",
   "pygments_lexer": "ipython3",
   "version": "3.9.7"
  }
 },
 "nbformat": 4,
 "nbformat_minor": 5
}
