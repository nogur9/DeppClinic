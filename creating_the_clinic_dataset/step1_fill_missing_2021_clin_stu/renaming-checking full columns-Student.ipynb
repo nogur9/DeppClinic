{
 "cells": [
  {
   "cell_type": "code",
   "execution_count": 1,
   "id": "d678ca90",
   "metadata": {},
   "outputs": [],
   "source": [
    "import pandas as pd\n",
    "import numpy as np\n",
    "import re\n",
    "from completing_missing_clinician_questionnaire_2021 import map_additional_column_name_to_2021_clinician_column_name, should_remove_from_stu_columns, map_additional_column_name_to_2021_student_column_name , fill_id, IsClinician, , upload_to_imputation_data_to_old_data_map, upload_to_old_data_column_names_map\n",
    "import psycopg2\n",
    "\n",
    "conn_str = \"dbname=postgres user=postgres password=asdf123\""
   ]
  },
  {
   "cell_type": "code",
   "execution_count": null,
   "id": "5e7fbd37",
   "metadata": {},
   "outputs": [],
   "source": [
    "student_questionnaires = [\"opening_students\", \"trq_sf_maris_stu\", \"remote_stu\", \"cps_stu\", \"scs_stu\", \"mini_kid_sum_stu\", \"c_ssrs_stu\"]"
   ]
  },
  {
   "cell_type": "code",
   "execution_count": 2,
   "id": "ed9c514e",
   "metadata": {},
   "outputs": [],
   "source": [
    "\n",
    "clinician_start = 'opening_clinicians_complete'\n",
    "clinician_end_2021_2022 = 'cssrs_t_clin_complete'#, 'cssrs_fw_maya_complete'\n",
    "clinician_end_add = 'cssrs_t_complete'\n",
    "\n",
    "student_start = 'opening_students_timestamp'\n",
    "student_end = 'cssrs_t_stu_complete'\n"
   ]
  },
  {
   "cell_type": "code",
   "execution_count": 3,
   "id": "92d15bbc",
   "metadata": {},
   "outputs": [
    {
     "name": "stderr",
     "output_type": "stream",
     "text": [
      "C:\\Users\\nogur\\anaconda3\\envs\\DeppClinic\\lib\\site-packages\\IPython\\core\\interactiveshell.py:3444: DtypeWarning: Columns (48) have mixed types.Specify dtype option on import or set low_memory=False.\n",
      "  exec(code_obj, self.user_global_ns, self.user_ns)\n",
      "C:\\Users\\nogur\\anaconda3\\envs\\DeppClinic\\lib\\site-packages\\IPython\\core\\interactiveshell.py:3444: DtypeWarning: Columns (44,46,51,53,99,325,366,439,453,459,464,466,501,507,512,514,519,521,530,532,569,571,580,599,766,771,773,779,784,789,794,798,800,804,809,811,813,816,818,827,829,849,866,868,877,896,906,941,964,1002,1014,1025,1063,1068,1070,1076,1081,1086,1091,1093,1095,1097,1099,1100,1126,1142,1149,1165,1168,1172,1173,1177,1178,1179,1180,1182,1183,1184,1187,1188,1190,1207,1212,1229,1232,1260,1262,1264,1266,1268,1271,1281,1283,1285,1291,1293,1297,1305,1306,1319,1321,1324,1326,1338,1340,1342,1343,1344,1350,1351,1352,1353,1465,1467,1468,1470,1486,1489,1492,1496,1513,1515,1516,1517,1523,1524,1525,1526,1580,1650,1653,1654) have mixed types.Specify dtype option on import or set low_memory=False.\n",
      "  exec(code_obj, self.user_global_ns, self.user_ns)\n",
      "C:\\Users\\nogur\\anaconda3\\envs\\DeppClinic\\lib\\site-packages\\IPython\\core\\interactiveshell.py:3444: DtypeWarning: Columns (48,56,57,76,80,81,82,84,91,138,200,290,292,293,294,300,301,302,303,373,376,379,436,437,438,440) have mixed types.Specify dtype option on import or set low_memory=False.\n",
      "  exec(code_obj, self.user_global_ns, self.user_ns)\n"
     ]
    }
   ],
   "source": [
    "old_data = pd.read_csv(r\"../../Data/OriginalDataset/Schneider Depression Clinic Database.csv\", na_values= ' ')\n",
    "redcap_data = pd.read_csv(r\"../../Data/OriginalDataset/ImmiRiskIPT2022_DATA_2023-09-03_1503.csv\", na_values= ' ')\n",
    "imputation_data = pd.read_csv(r\"../../Data/helper_docs/Student_Clinician_data_2021.csv\", na_values= ' ')\n",
    "# the warning rooted from the nan values\n"
   ]
  },
  {
   "cell_type": "code",
   "execution_count": 4,
   "id": "31895ea8",
   "metadata": {},
   "outputs": [],
   "source": [
    "\n",
    "\n",
    "rename_imputation_data = {\n",
    "    'cssrs_followup_timestamp':'cssrs_fw_maya_timestamp',\n",
    "    'cssrs_followup_complete':'cssrs_fw_maya_complete',\n",
    "}\n",
    "\n",
    "rename_old_data = {\n",
    "    'cssrs_followup_timestamp':'cssrs_fw_maya_timestamp',\n",
    "    'cssrs_followup_complete':'cssrs_fw_maya_complete',\n",
    "    'chameleon_complete_stu': 'chameleon_complete'\n",
    "}\n",
    "\n",
    "## error record_id = 363\n",
    "imputation_data = imputation_data[imputation_data['record_id']!=363]\n",
    "\n",
    "#do the imputation id like of redcap dataset\n",
    "imputation_data = fill_id(imputation_data)\n",
    "\n",
    "\n",
    "imputation_data = imputation_data.rename(rename_imputation_data, axis=1)\n",
    "\n",
    "old_data = old_data.rename(rename_old_data, axis=1)\n",
    "\n"
   ]
  },
  {
   "cell_type": "code",
   "execution_count": 5,
   "id": "ca868d8e",
   "metadata": {},
   "outputs": [],
   "source": [
    "old_data_column_names = list(old_data.columns)\n",
    "redcap_data_column_names = list(redcap_data.columns)\n",
    "imputation_data_column_names = list(imputation_data.columns)\n"
   ]
  },
  {
   "cell_type": "markdown",
   "id": "cebc2541",
   "metadata": {},
   "source": [
    "# Student column: in old dataset and not in redcap \n",
    "----"
   ]
  },
  {
   "cell_type": "code",
   "execution_count": 6,
   "id": "95e2671b",
   "metadata": {},
   "outputs": [],
   "source": [
    "### student columns\n",
    "\n",
    "old_data_student_columns = old_data_column_names[old_data_column_names.index(student_start):old_data_column_names.index(student_end)+1]\n",
    "redcap_data_student_columns = redcap_data_column_names[redcap_data_column_names.index(student_start):redcap_data_column_names.index(student_end)+1] \n",
    "\n",
    "imputation_data_student_columns = imputation_data_column_names[imputation_data_column_names.index(clinician_start):imputation_data_column_names.index(clinician_end_add)+1]\n",
    "imputation_data_student_columns = imputation_data_student_columns + ['who', 'who_other', 'name']\n",
    "\n",
    "imputation_data_student_columns = [i for i in imputation_data_student_columns if not should_remove_from_stu_columns(i)]\n",
    "\n"
   ]
  },
  {
   "cell_type": "markdown",
   "id": "ff9e98c8",
   "metadata": {},
   "source": [
    "# imputation -> old data"
   ]
  },
  {
   "cell_type": "code",
   "execution_count": 7,
   "id": "62152da6",
   "metadata": {
    "scrolled": true
   },
   "outputs": [],
   "source": [
    "imputation_2_old_map = {\n",
    "#     # imputation_data_clinician_columns : redcap_data_clinician_columns\n",
    "#     'trqsfmaris_timestamp': 'trqsfmarisclin_timestamp',\n",
    "#     'trqsfmaris_complete': 'trqsfmarisclin_complete'\n",
    "}\n",
    "\n",
    "\n",
    "for student_column in imputation_data_student_columns:\n",
    "    new_name, success = map_additional_column_name_to_2021_student_column_name(student_column, old_data_student_columns)\n",
    "    if success:\n",
    "        imputation_2_old_map[student_column] = new_name\n",
    "    else:\n",
    "        print(student_column)"
   ]
  },
  {
   "cell_type": "markdown",
   "id": "698f3a35",
   "metadata": {},
   "source": [
    "# Old data -> redcap data"
   ]
  },
  {
   "cell_type": "code",
   "execution_count": 10,
   "id": "b4aa5729",
   "metadata": {
    "scrolled": true
   },
   "outputs": [],
   "source": [
    "old_2_redcap_map = {\n",
    "        # redcap_data_clinician_columns: \n",
    "}\n",
    "\n",
    "for student_column in old_data_student_columns:\n",
    "    new_name, success = map_additional_column_name_to_2021_student_column_name(student_column, redcap_data_student_columns)\n",
    "    if success:\n",
    "        old_2_redcap_map[student_column] = new_name\n",
    "    else:\n",
    "        print(student_column)\n"
   ]
  },
  {
   "cell_type": "code",
   "execution_count": 11,
   "id": "76cbd2b6",
   "metadata": {
    "scrolled": true
   },
   "outputs": [
    {
     "data": {
      "text/plain": [
       "88"
      ]
     },
     "execution_count": 11,
     "metadata": {},
     "output_type": "execute_result"
    }
   ],
   "source": [
    "len(imputation_2_old_map.keys())"
   ]
  },
  {
   "cell_type": "code",
   "execution_count": 16,
   "id": "04dfd1e1",
   "metadata": {},
   "outputs": [
    {
     "data": {
      "text/plain": [
       "156"
      ]
     },
     "execution_count": 16,
     "metadata": {},
     "output_type": "execute_result"
    }
   ],
   "source": [
    "len(old_2_redcap_map.keys())"
   ]
  },
  {
   "cell_type": "code",
   "execution_count": 13,
   "id": "1ab6ec36",
   "metadata": {},
   "outputs": [
    {
     "data": {
      "text/plain": [
       "156"
      ]
     },
     "execution_count": 13,
     "metadata": {},
     "output_type": "execute_result"
    }
   ],
   "source": [
    "len(old_data_student_columns)"
   ]
  },
  {
   "cell_type": "code",
   "execution_count": 14,
   "id": "467c470f",
   "metadata": {},
   "outputs": [
    {
     "data": {
      "text/plain": [
       "88"
      ]
     },
     "execution_count": 14,
     "metadata": {},
     "output_type": "execute_result"
    }
   ],
   "source": [
    "len(imputation_data_student_columns)"
   ]
  },
  {
   "cell_type": "code",
   "execution_count": 15,
   "id": "bc9c06cc",
   "metadata": {},
   "outputs": [
    {
     "data": {
      "text/plain": [
       "173"
      ]
     },
     "execution_count": 15,
     "metadata": {},
     "output_type": "execute_result"
    }
   ],
   "source": [
    "len(redcap_data_student_columns)"
   ]
  },
  {
   "cell_type": "code",
   "execution_count": null,
   "id": "0ba3975e",
   "metadata": {},
   "outputs": [],
   "source": [
    "for questionnaire in student_questionnaires:\n",
    "    \n",
    "    redcap_columns = df.loc[df['questionnaire_name'] == questionnaire, 'column_names'].values[0]\n",
    "    questionnaire_old_2_redcap_map = {key: old_2_redcap_map[key] for key in redcap_columns if key in old_2_redcap_map}\n",
    "    old_data_columns = list(questionnaire_old_2_redcap_map.values())\n",
    "    questionnaire_imputation_2_old_map = {key: imputation_2_old_map[key] for key in old_data_columns if key in imputation_2_old_map}\n",
    "    \n",
    "    upload_to_old_data_column_names_map(conn_str, questionnaire, questionnaire_old_2_redcap_map)\n",
    "    \n",
    "    upload_to_imputation_data_to_old_data_map(conn_str, questionnaire, questionnaire_imputation_2_old_map)"
   ]
  }
 ],
 "metadata": {
  "kernelspec": {
   "display_name": "DeppClinic",
   "language": "python",
   "name": "deppclinic"
  },
  "language_info": {
   "codemirror_mode": {
    "name": "ipython",
    "version": 3
   },
   "file_extension": ".py",
   "mimetype": "text/x-python",
   "name": "python",
   "nbconvert_exporter": "python",
   "pygments_lexer": "ipython3",
   "version": "3.9.7"
  }
 },
 "nbformat": 4,
 "nbformat_minor": 5
}
