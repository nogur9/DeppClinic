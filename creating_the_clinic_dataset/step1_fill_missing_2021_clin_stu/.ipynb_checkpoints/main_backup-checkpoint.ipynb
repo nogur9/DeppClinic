{
 "cells": [
  {
   "cell_type": "code",
   "execution_count": 1,
   "id": "16be9df2-5d54-4ce9-8858-2fa485dc1e8b",
   "metadata": {},
   "outputs": [],
   "source": [
    "import pandas as pd\n",
    "import numpy as np\n",
    "import re\n",
    "from completing_missing_clinician_questionnaire_2021 import map_additional_column_name_to_2021_clinician_column_name, remove_from_stu_columns, map_additional_column_name_to_2021_student_column_name , fill_id, IsClinician"
   ]
  },
  {
   "cell_type": "code",
   "execution_count": 2,
   "id": "9c54ed83-7fb0-452c-876e-98f89167fbf2",
   "metadata": {},
   "outputs": [
    {
     "name": "stderr",
     "output_type": "stream",
     "text": [
      "C:\\Users\\nogur\\anaconda3\\lib\\site-packages\\IPython\\core\\interactiveshell.py:3444: DtypeWarning: Columns (48) have mixed types.Specify dtype option on import or set low_memory=False.\n",
      "  exec(code_obj, self.user_global_ns, self.user_ns)\n",
      "C:\\Users\\nogur\\anaconda3\\lib\\site-packages\\IPython\\core\\interactiveshell.py:3444: DtypeWarning: Columns (44,51,53,99,325,366,439,453,459,464,466,501,507,512,514,521,530,532,569,571,580,599,766,771,777,781,786,788,793,795,804,806,826,843,845,854,873,883,918,941,979,991,1002,1040,1045,1047,1049,1051,1053,1054,1080,1096,1119,1122,1126,1127,1131,1132,1133,1134,1136,1137,1138,1141,1142,1144,1161,1183,1186,1237,1239,1259,1261,1262,1263,1269,1270,1271,1272,1384,1387,1389,1405,1408,1411,1415,1432,1434,1435,1436,1442,1443,1444,1445,1499,1568,1569,1572,1573) have mixed types.Specify dtype option on import or set low_memory=False.\n",
      "  exec(code_obj, self.user_global_ns, self.user_ns)\n",
      "C:\\Users\\nogur\\anaconda3\\lib\\site-packages\\IPython\\core\\interactiveshell.py:3444: DtypeWarning: Columns (48,56,57,76,80,81,82,84,91,138,200,290,292,293,294,300,301,302,303,373,376,379,436,437,438,440) have mixed types.Specify dtype option on import or set low_memory=False.\n",
      "  exec(code_obj, self.user_global_ns, self.user_ns)\n"
     ]
    }
   ],
   "source": [
    "df_2021 = pd.read_csv(r\"../original_data/Schneider Depression Clinic Database.csv\", na_values= ' ')\n",
    "df_2022 = pd.read_csv(r\"../original_data/ImmiRiskIPT2022_DATA_2022-12-12_1719.csv\", na_values= ' ')\n",
    "\n",
    "# the warning rooted from the nan values\n",
    "additional_data = pd.read_csv(r\"../original_data/Student_Clinician_data_2021.csv\", na_values= ' ')\n",
    "rename = {'cssrs_followup_timestamp':'cssrs_fw_maya_timestamp', 'cssrs_followup_complete':'cssrs_fw_maya_complete'}\n",
    "additional_data = additional_data.rename(rename, axis=1)\n",
    "#do the imputation id like of 2022 dataset\n",
    "## error record_id = 363\n",
    "additional_data.loc[(additional_data['record_id']==363), 'record_id'] = 362\n",
    "additional_data = fill_id(additional_data)\n",
    "\n",
    "\n",
    "rename = {'trqsfmarisclin_timestamp': 'trqsfmaris_clin_timestamp', 'trqsfmarisclin_complete': 'trqsfmaris_clin_complete',}\n",
    "df_2022 = df_2022.rename(rename, axis=1)\n",
    "df_2021 = df_2021.rename(rename, axis=1)\n",
    "\n",
    "\n",
    "# consts\n",
    "mini_start_2022 ='mini_kid_sum_clin_timestamp'\n",
    "mini_end_2022 = 'mini_kid_sum_clin_complete'\n",
    "\n",
    "mini_start_add = 'mini_kid_sum_timestamp'\n",
    "mini_end_add = 'mini_kid_sum_complete'\n",
    "\n",
    "\n",
    "\n",
    "clinician_start = 'opening_clinicians_complete'\n",
    "clinician_end_2021_2022 = 'cssrs_t_clin_complete'#, 'cssrs_fw_maya_complete'\n",
    "clinician_end_add = 'cssrs_t_complete'\n",
    "\n",
    "student_start = 'opening_students_timestamp'\n",
    "student_end = 'cssrs_t_stu_complete'\n",
    "\n",
    "\n",
    "maya_start_2022 = 'cssrs_fw_maya_timestamp'\n",
    "maya_end_2022 = 'cssrs_fw_maya_complete'"
   ]
  },
  {
   "cell_type": "code",
   "execution_count": 3,
   "id": "d7dfbc6b-61d0-41a1-9aa1-15cb5bdd4fe2",
   "metadata": {},
   "outputs": [],
   "source": [
    "cols_2021 = list(df_2021.columns)\n",
    "cols_2022 = list(df_2022.columns)\n",
    "cols_add = list(additional_data.columns)\n",
    "\n",
    "### clinician columns\n",
    "clinician_columns_2021 = cols_2021[cols_2021.index(clinician_start):cols_2021.index(clinician_end_2021_2022)+1]\n",
    "clinician_columns_2022 = cols_2022[cols_2022.index(clinician_start):cols_2022.index(clinician_end_2021_2022)+1] + cols_2022[cols_2022.index(maya_start_2022):cols_2022.index(maya_end_2022)+1]\n",
    "clinician_columns_add = cols_add[cols_add.index(clinician_start):cols_add.index(clinician_end_add)+1]\n",
    "\n",
    "\n",
    "### student columns\n",
    "stu_columns_2021 = cols_2021[cols_2021.index(student_start):cols_2021.index(student_end)+1]\n",
    "stu_columns_2022 = cols_2022[cols_2022.index(student_start):cols_2022.index(student_end)+1] #+ cols_2022[cols_2022.index(maya_start_2022):cols_2022.index(maya_end_2022)+1]\n",
    "stu_columns_add = cols_add[cols_add.index(clinician_start):cols_add.index(clinician_end_add)+1]\n",
    "\n",
    "\n",
    "## edit additional data student columns\n",
    "mini_columns_add = cols_add[cols_add.index(mini_start_add):cols_add.index(mini_end_add)+1]\n",
    "stu_columns_add = [i for i in stu_columns_add if i not in mini_columns_add]\n",
    "stu_columns_add = [i for i in stu_columns_add if not remove_from_stu_columns(i)]\n",
    "stu_columns_add = stu_columns_add + ['who', 'who_other', 'name']\n",
    "# cgi_s, cgi_i\n",
    "stu_columns_add = [i for i in stu_columns_add if i not in ['cgi_s', 'cgi_i']]\n",
    "\n",
    "\n"
   ]
  },
  {
   "cell_type": "code",
   "execution_count": 4,
   "id": "ff4ee8bc-65c3-4c06-bbe8-8f7db8602460",
   "metadata": {},
   "outputs": [],
   "source": [
    "map_for_student_data = {}\n",
    "\n",
    "for i in range(len(stu_columns_add)):\n",
    "    new_name, success = map_additional_column_name_to_2021_student_column_name(stu_columns_add[i], stu_columns_2021)\n",
    "    if success:\n",
    "        map_for_student_data[stu_columns_add[i]] = new_name"
   ]
  },
  {
   "cell_type": "code",
   "execution_count": 5,
   "id": "b3893ae6-5173-46f1-8555-ede3352ed439",
   "metadata": {},
   "outputs": [],
   "source": [
    "map_for_clinician_data = {}\n",
    "\n",
    "for i in range(len(clinician_columns_add)):\n",
    "    new_name, success = map_additional_column_name_to_2021_clinician_column_name(clinician_columns_add[i], clinician_columns_2021)\n",
    "    if success:\n",
    "        map_for_clinician_data[clinician_columns_add[i]] = new_name"
   ]
  },
  {
   "cell_type": "markdown",
   "id": "7c2fcd75-cd6a-4ccf-917b-eb556b778be3",
   "metadata": {},
   "source": [
    "## pseudu code"
   ]
  },
  {
   "cell_type": "code",
   "execution_count": 6,
   "id": "c96b19db-f485-4a89-b968-1cbe1a82dd65",
   "metadata": {},
   "outputs": [],
   "source": [
    "def fill_columns(columns_to_add, map_for_data, df_2021, row):\n",
    "    for column in columns_to_add:\n",
    "        if not row.isna()[column]:\n",
    "            column_rename = map_for_data[column]\n",
    "            # # check if not equals \n",
    "            # if not (df_2021[(df_2021['id']==row['id']) & (df_2021['redcap_event_name']==row['redcap_event_name'])][column_rename] == row[column]).all():\n",
    "            #     print(column)\n",
    "            #change value\n",
    "            df_2021.loc[(df_2021['id']==row['id']) & (df_2021['redcap_event_name']==row['redcap_event_name']), column_rename] = row[column]\n",
    "    return df_2021"
   ]
  },
  {
   "cell_type": "code",
   "execution_count": 7,
   "id": "8f3b09e4-b37d-4ff0-8fbe-8d3a7d1bef5c",
   "metadata": {},
   "outputs": [],
   "source": [
    "for i, row in additional_data.iterrows():\n",
    "    if row['id'] == 'TEST':\n",
    "        continue\n",
    "    operator = IsClinician(row)\n",
    "    \n",
    "    if operator == 'student':\n",
    "#         only_clin_cols = [column for column in clinician_columns_add if column not in stu_columns_add]\n",
    "#         print(row[only_clin_cols].isna().all())\n",
    "        \n",
    "        fill_columns(stu_columns_add, map_for_student_data, df_2021, row)\n",
    "    \n",
    "    elif operator == 'clinician':\n",
    "        fill_columns(clinician_columns_add, map_for_clinician_data, df_2021, row)\n"
   ]
  },
  {
   "cell_type": "code",
   "execution_count": 8,
   "id": "b18970ce-2aa0-4695-8ba7-ed916d5d82f7",
   "metadata": {},
   "outputs": [],
   "source": [
    "df_2021.to_csv(r'../preprocessed_data/2021_data_imputed_with_clin_stu.csv', index=False)"
   ]
  },
  {
   "cell_type": "code",
   "execution_count": null,
   "id": "7a7d1fb4-ee94-4240-9c59-623c596a1143",
   "metadata": {},
   "outputs": [],
   "source": []
  }
 ],
 "metadata": {
  "kernelspec": {
   "display_name": "Python 3 (ipykernel)",
   "language": "python",
   "name": "python3"
  },
  "language_info": {
   "codemirror_mode": {
    "name": "ipython",
    "version": 3
   },
   "file_extension": ".py",
   "mimetype": "text/x-python",
   "name": "python",
   "nbconvert_exporter": "python",
   "pygments_lexer": "ipython3",
   "version": "3.9.7"
  }
 },
 "nbformat": 4,
 "nbformat_minor": 5
}
