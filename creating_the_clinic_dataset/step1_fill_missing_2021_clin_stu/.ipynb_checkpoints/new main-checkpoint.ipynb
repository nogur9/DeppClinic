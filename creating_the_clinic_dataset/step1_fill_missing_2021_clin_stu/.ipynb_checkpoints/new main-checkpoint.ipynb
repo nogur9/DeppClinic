{
 "cells": [
  {
   "cell_type": "code",
   "execution_count": 2,
   "id": "16be9df2-5d54-4ce9-8858-2fa485dc1e8b",
   "metadata": {},
   "outputs": [],
   "source": [
    "import pandas as pd\n",
    "import numpy as np\n",
    "import re\n",
    "from completing_missing_clinician_questionnaire_2021 import map_additional_column_name_to_2021_clinician_column_name, remove_from_stu_columns, map_additional_column_name_to_2021_student_column_name , fill_id, IsClinician"
   ]
  },
  {
   "cell_type": "code",
   "execution_count": 2,
   "id": "9c54ed83-7fb0-452c-876e-98f89167fbf2",
   "metadata": {},
   "outputs": [
    {
     "name": "stderr",
     "output_type": "stream",
     "text": [
      "C:\\Users\\nogur\\AppData\\Local\\Temp\\ipykernel_7348\\915307582.py:1: DtypeWarning: Columns (48) have mixed types. Specify dtype option on import or set low_memory=False.\n",
      "  df_2021 = pd.read_csv(r\"../original_data/Schneider Depression Clinic Database.csv\", na_values= ' ')\n",
      "C:\\Users\\nogur\\AppData\\Local\\Temp\\ipykernel_7348\\915307582.py:2: DtypeWarning: Columns (44,46,51,53,99,325,366,439,453,459,464,466,501,507,512,514,519,521,530,532,569,571,580,599,766,771,773,779,784,789,794,798,800,804,809,811,813,816,818,827,829,849,866,868,877,896,906,941,964,1002,1014,1025,1063,1068,1070,1076,1081,1086,1091,1093,1095,1097,1099,1100,1126,1142,1149,1165,1168,1172,1173,1177,1178,1179,1180,1182,1183,1184,1187,1188,1190,1207,1212,1229,1232,1260,1262,1264,1266,1268,1271,1281,1283,1285,1291,1293,1297,1305,1306,1319,1321,1324,1326,1338,1340,1342,1343,1344,1350,1351,1352,1353,1465,1467,1468,1470,1486,1489,1492,1496,1513,1515,1516,1517,1523,1524,1525,1526,1580,1650,1653,1654) have mixed types. Specify dtype option on import or set low_memory=False.\n",
      "  df_2022 = pd.read_csv(r\"../original_data/ImmiRiskIPT2022_DATA_2023-09-03_1503.csv\", na_values= ' ')\n",
      "C:\\Users\\nogur\\AppData\\Local\\Temp\\ipykernel_7348\\915307582.py:4: DtypeWarning: Columns (48,56,57,76,80,81,82,84,91,138,200,290,292,293,294,300,301,302,303,373,376,379,436,437,438,440) have mixed types. Specify dtype option on import or set low_memory=False.\n",
      "  additional_data = pd.read_csv(r\"../original_data/Student_Clinician_data_2021.csv\", na_values= ' ')\n"
     ]
    }
   ],
   "source": [
    "df_2021 = pd.read_csv(r\"../original_data/Schneider Depression Clinic Database.csv\", na_values= ' ')\n",
    "df_2022 = pd.read_csv(r\"../original_data/ImmiRiskIPT2022_DATA_2023-09-03_1503.csv\", na_values= ' ')\n",
    "\n",
    "additional_data = pd.read_csv(r\"../original_data/Student_Clinician_data_2021.csv\", na_values= ' ')\n",
    "# the warning rooted from the nan values\n",
    "\n",
    "\n",
    "rename = {'cssrs_followup_timestamp':'cssrs_fw_maya_timestamp', 'cssrs_followup_complete':'cssrs_fw_maya_complete'}\n",
    "additional_data = additional_data.rename(rename, axis=1)\n",
    "\n",
    "## error record_id = 363\n",
    "additional_data = additional_data[additional_data['record_id']!=363]\n",
    "\n",
    "#do the imputation id like of 2022 dataset\n",
    "additional_data = fill_id(additional_data)\n",
    "\n",
    "\n",
    "rename = {'trqsfmarisclin_timestamp': 'trqsfmaris_clin_timestamp', 'trqsfmarisclin_complete': 'trqsfmaris_clin_complete'}\n",
    "\n",
    "df_2022 = df_2022.rename(rename, axis=1)\n",
    "rename['chameleon_complete_stu'] = 'chameleon_complete'\n",
    "df_2021 = df_2021.rename(rename, axis=1)\n",
    "\n",
    "\n",
    "# consts\n",
    "mini_start_2022 ='mini_kid_sum_clin_timestamp'\n",
    "mini_end_2022 = 'mini_kid_sum_clin_complete'\n",
    "\n",
    "mini_start_add = 'mini_kid_sum_timestamp'\n",
    "mini_end_add = 'mini_kid_sum_complete'\n",
    "\n",
    "\n",
    "\n",
    "clinician_start = 'opening_clinicians_complete'\n",
    "clinician_end_2021_2022 = 'cssrs_t_clin_complete'#, 'cssrs_fw_maya_complete'\n",
    "clinician_end_add = 'cssrs_t_complete'\n",
    "\n",
    "student_start = 'opening_students_timestamp'\n",
    "student_end = 'cssrs_t_stu_complete'\n",
    "\n",
    "\n",
    "maya_start_2022 = 'cssrs_fw_maya_timestamp'\n",
    "maya_end_2022 = 'cssrs_fw_maya_complete'\n",
    "\n",
    "\n",
    "# Chameleon - only student\n",
    "\n",
    "\n",
    "chameleon_start = 'chameleon_timestamp'\n",
    "\n",
    "chameleon_end = 'chameleon_complete'"
   ]
  },
  {
   "cell_type": "code",
   "execution_count": 3,
   "id": "d7dfbc6b-61d0-41a1-9aa1-15cb5bdd4fe2",
   "metadata": {},
   "outputs": [],
   "source": [
    "cols_2021 = list(df_2021.columns)\n",
    "cols_2022 = list(df_2022.columns)\n",
    "cols_add = list(additional_data.columns)\n",
    "\n",
    "### clinician columns\n",
    "clinician_columns_2021 = cols_2021[cols_2021.index(clinician_start):cols_2021.index(clinician_end_2021_2022)+1]\n",
    "clinician_columns_2022 = cols_2022[cols_2022.index(clinician_start):cols_2022.index(clinician_end_2021_2022)+1] + cols_2022[cols_2022.index(maya_start_2022):cols_2022.index(maya_end_2022)+1]\n",
    "clinician_columns_add = cols_add[cols_add.index(clinician_start):cols_add.index(clinician_end_add)+1]\n",
    "\n",
    "\n",
    "### student columns\n",
    "stu_columns_2021 = cols_2021[cols_2021.index(student_start):cols_2021.index(student_end)+1]\n",
    "stu_columns_2022 = cols_2022[cols_2022.index(student_start):cols_2022.index(student_end)+1] #+ cols_2022[cols_2022.index(maya_start_2022):cols_2022.index(maya_end_2022)+1]\n",
    "stu_columns_add = cols_add[cols_add.index(clinician_start):cols_add.index(clinician_end_add)+1]\n",
    "\n",
    "\n",
    "## edit additional data student columns\n",
    "mini_columns_add = cols_add[cols_add.index(mini_start_add):cols_add.index(mini_end_add)+1]\n",
    "stu_columns_add = [i for i in stu_columns_add if i not in mini_columns_add]\n",
    "stu_columns_add = [i for i in stu_columns_add if not remove_from_stu_columns(i)]\n",
    "stu_columns_add = stu_columns_add + ['who', 'who_other', 'name']\n",
    "\n",
    "stu_columns_add = [i for i in stu_columns_add if i not in ['cgi_i']]\n",
    "\n",
    "# Chameleon columns\n",
    "chameleon_columns_2021 = cols_2021[cols_2021.index(chameleon_start):cols_2021.index(chameleon_end)+1]\n",
    "chameleon_columns_2022 = cols_2022[cols_2022.index(chameleon_start):cols_2022.index(chameleon_end)+1] \n",
    "chameleon_columns_add = cols_add[cols_add.index(chameleon_start):cols_add.index(chameleon_end)+1]\n"
   ]
  },
  {
   "cell_type": "code",
   "execution_count": 4,
   "id": "78149a0c-e76b-4c69-ab51-7129ac843279",
   "metadata": {},
   "outputs": [],
   "source": [
    "map_chameleon_2021_add = {}\n",
    "\n",
    "for i in range(len(chameleon_columns_add)):\n",
    "    new_name, success = map_additional_column_name_to_2021_student_column_name(chameleon_columns_add[i], chameleon_columns_2021)\n",
    "    if success:\n",
    "        map_chameleon_2021_add[chameleon_columns_add[i]] = new_name"
   ]
  },
  {
   "cell_type": "code",
   "execution_count": 5,
   "id": "ff4ee8bc-65c3-4c06-bbe8-8f7db8602460",
   "metadata": {},
   "outputs": [],
   "source": [
    "map_for_student_data = {}\n",
    "\n",
    "for i in range(len(stu_columns_add)):\n",
    "    new_name, success = map_additional_column_name_to_2021_student_column_name(stu_columns_add[i], stu_columns_2021)\n",
    "    if success:\n",
    "        map_for_student_data[stu_columns_add[i]] = new_name"
   ]
  },
  {
   "cell_type": "code",
   "execution_count": 6,
   "id": "b3893ae6-5173-46f1-8555-ede3352ed439",
   "metadata": {},
   "outputs": [],
   "source": [
    "map_for_clinician_data = {}\n",
    "\n",
    "for i in range(len(clinician_columns_add)):\n",
    "    new_name, success = map_additional_column_name_to_2021_clinician_column_name(clinician_columns_add[i], clinician_columns_2021)\n",
    "    if success:\n",
    "        map_for_clinician_data[clinician_columns_add[i]] = new_name"
   ]
  },
  {
   "cell_type": "code",
   "execution_count": 7,
   "id": "c96b19db-f485-4a89-b968-1cbe1a82dd65",
   "metadata": {},
   "outputs": [],
   "source": [
    "def fill_columns(columns_to_add, map_for_data, df_2021, row):\n",
    "    for column in columns_to_add:\n",
    "        if not row.isna()[column]:\n",
    "            column_rename = map_for_data[column]\n",
    "\n",
    "            df_2021.loc[(df_2021['id']==row['id']) & (df_2021['redcap_event_name']==row['redcap_event_name']), column_rename] = row[column]\n",
    "    return df_2021\n",
    "\n",
    "\n",
    "\n",
    "# # check if not equals \n",
    "# if not (df_2021[(df_2021['id']==row['id']) & (df_2021['redcap_event_name']==row['redcap_event_name'])][column_rename] == row[column]).all():\n",
    "#     print(column)\n",
    "#change value\n"
   ]
  },
  {
   "cell_type": "code",
   "execution_count": 8,
   "id": "c6f8a164-2d52-4dce-ba0b-9f636406553f",
   "metadata": {},
   "outputs": [],
   "source": [
    "#         only_clin_cols = [column for column in clinician_columns_add if column not in stu_columns_add]\n",
    "#         print(row[only_clin_cols].isna().all())\n",
    "        "
   ]
  },
  {
   "cell_type": "code",
   "execution_count": 9,
   "id": "add13af3-489f-4895-a1f2-3f0fdffe6537",
   "metadata": {},
   "outputs": [],
   "source": [
    "\n",
    "# cols_2022 = list(df_2022.columns)\n",
    "# cols_add = list(additional_data.columns)"
   ]
  },
  {
   "cell_type": "code",
   "execution_count": 10,
   "id": "8f3b09e4-b37d-4ff0-8fbe-8d3a7d1bef5c",
   "metadata": {},
   "outputs": [],
   "source": [
    "for i, row in additional_data.iterrows():\n",
    "    if row['id'] == 'TEST':\n",
    "        continue\n",
    "    operator = IsClinician(row)\n",
    "    \n",
    "    fill_columns(chameleon_columns_add, map_chameleon_2021_add, df_2021, row)\n",
    "    \n",
    "    if operator == 'student':\n",
    "\n",
    "        fill_columns(stu_columns_add, map_for_student_data, df_2021, row)\n",
    "    \n",
    "    elif operator == 'clinician':\n",
    "        fill_columns(clinician_columns_add, map_for_clinician_data, df_2021, row)\n"
   ]
  },
  {
   "cell_type": "code",
   "execution_count": 11,
   "id": "b18970ce-2aa0-4695-8ba7-ed916d5d82f7",
   "metadata": {},
   "outputs": [],
   "source": [
    "df_2021.to_csv(r'../preprocessed_data/2021_data_imputed_with_clin_stu.csv', index=False)\n",
    "df_2022.to_csv(r'../preprocessed_data/2022_data_imputed_with_clin_stu.csv', index=False)"
   ]
  },
  {
   "cell_type": "code",
   "execution_count": null,
   "id": "7a7d1fb4-ee94-4240-9c59-623c596a1143",
   "metadata": {},
   "outputs": [],
   "source": []
  }
 ],
 "metadata": {
  "kernelspec": {
   "display_name": "DeppClinic",
   "language": "python",
   "name": "deppclinic"
  },
  "language_info": {
   "codemirror_mode": {
    "name": "ipython",
    "version": 3
   },
   "file_extension": ".py",
   "mimetype": "text/x-python",
   "name": "python",
   "nbconvert_exporter": "python",
   "pygments_lexer": "ipython3",
   "version": "3.9.7"
  }
 },
 "nbformat": 4,
 "nbformat_minor": 5
}
