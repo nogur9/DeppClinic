{
 "cells": [
  {
   "cell_type": "code",
   "execution_count": null,
   "id": "e906c056-1fe0-4cc2-98b5-cd1040013913",
   "metadata": {},
   "outputs": [],
   "source": [
    "import numpy as np\n",
    "import pandas as pd"
   ]
  },
  {
   "cell_type": "markdown",
   "id": "dd8fcba2-01db-4095-aa88-76630bec21af",
   "metadata": {},
   "source": [
    "הבעייתיים records id - אורן מצא פתרון ל \n",
    "\n",
    "-------------------\n",
    "\n",
    "record_id = 550\n",
    "\n",
    "\n",
    "למחוק, זה נתון ריק\n",
    "\n",
    "----------------------\n",
    "\n",
    "\n",
    "record_id = 85\n",
    "\n",
    "\n",
    "להצמיד\n",
    "\n",
    "id = A6735\n",
    "\n"
   ]
  },
  {
   "cell_type": "code",
   "execution_count": 2,
   "id": "acefeecc-324e-40eb-9322-f96e5dbc472d",
   "metadata": {},
   "outputs": [],
   "source": [
    "def fix_wrong_record_id(df):\n",
    "    \"\"\"\n",
    "    This function takes a DataFrame as input, and applies the following cleaning steps:\n",
    "    1. Replaces 'id' with 'A6735' when 'record_id' == 85.\n",
    "    2. Removes the rows where 'record_id' == 550.\n",
    "\n",
    "    Parameters:\n",
    "        df (pandas DataFrame): The DataFrame to be cleaned.\n",
    "\n",
    "    Returns:\n",
    "        pandas DataFrame : The cleaned DataFrame.\n",
    "    \"\"\"\n",
    "    df = df.copy()\n",
    "    df.loc[df['record_id'] == 85, 'id'] = 'A6735'\n",
    "    df = df[df['record_id'] != 550]\n",
    "    return df"
   ]
  },
  {
   "cell_type": "code",
   "execution_count": null,
   "id": "37460a4f-5469-407a-8185-2f85d37c9de4",
   "metadata": {},
   "outputs": [],
   "source": []
  }
 ],
 "metadata": {
  "kernelspec": {
   "display_name": "Python 3 (ipykernel)",
   "language": "python",
   "name": "python3"
  },
  "language_info": {
   "codemirror_mode": {
    "name": "ipython",
    "version": 3
   },
   "file_extension": ".py",
   "mimetype": "text/x-python",
   "name": "python",
   "nbconvert_exporter": "python",
   "pygments_lexer": "ipython3",
   "version": "3.9.7"
  }
 },
 "nbformat": 4,
 "nbformat_minor": 5
}
