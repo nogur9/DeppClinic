{
 "cells": [
  {
   "cell_type": "code",
   "execution_count": 15,
   "id": "35cab2af-f10c-4eeb-84a2-d33bd74e1984",
   "metadata": {},
   "outputs": [
    {
     "ename": "ImportError",
     "evalue": "cannot import name 'fix_scpecific_case' from 'merge_datasets' (C:\\Users\\nogur\\Documents\\DeppClinic\\functions_for_merging\\merge_datasets.py)",
     "output_type": "error",
     "traceback": [
      "\u001b[1;31m---------------------------------------------------------------------------\u001b[0m",
      "\u001b[1;31mImportError\u001b[0m                               Traceback (most recent call last)",
      "\u001b[1;32m~\\AppData\\Local\\Temp/ipykernel_17188/3570760315.py\u001b[0m in \u001b[0;36m<module>\u001b[1;34m\u001b[0m\n\u001b[0;32m      7\u001b[0m \u001b[1;32mimport\u001b[0m \u001b[0mnumpy\u001b[0m \u001b[1;32mas\u001b[0m \u001b[0mnp\u001b[0m\u001b[1;33m\u001b[0m\u001b[1;33m\u001b[0m\u001b[0m\n\u001b[0;32m      8\u001b[0m \u001b[1;32mfrom\u001b[0m \u001b[0mutils\u001b[0m \u001b[1;32mimport\u001b[0m \u001b[0mfix_wrong_record_id\u001b[0m\u001b[1;33m,\u001b[0m \u001b[0mfill_id\u001b[0m\u001b[1;33m,\u001b[0m \u001b[0mformat_datetime_columns\u001b[0m\u001b[1;33m,\u001b[0m \u001b[0mdelete_redundant_columns\u001b[0m\u001b[1;33m\u001b[0m\u001b[1;33m\u001b[0m\u001b[0m\n\u001b[1;32m----> 9\u001b[1;33m \u001b[1;32mfrom\u001b[0m \u001b[0mmerge_datasets\u001b[0m \u001b[1;32mimport\u001b[0m \u001b[0msplit_to_intersection_and_union\u001b[0m \u001b[1;33m,\u001b[0m \u001b[0mfix_wrong_groups\u001b[0m\u001b[1;33m,\u001b[0m \u001b[0mfix_scpecific_case\u001b[0m\u001b[1;33m\u001b[0m\u001b[1;33m\u001b[0m\u001b[0m\n\u001b[0m\u001b[0;32m     10\u001b[0m \u001b[1;32mfrom\u001b[0m \u001b[0mcolumns_index_for_merging\u001b[0m \u001b[1;32mimport\u001b[0m \u001b[0mcolumns_dict\u001b[0m\u001b[1;33m,\u001b[0m \u001b[0mmerging_functions_by_columns_set\u001b[0m\u001b[1;33m,\u001b[0m \u001b[0mkeep_both_values\u001b[0m\u001b[1;33m,\u001b[0m \u001b[0mweird_text_columns\u001b[0m\u001b[1;33m\u001b[0m\u001b[1;33m\u001b[0m\u001b[0m\n",
      "\u001b[1;31mImportError\u001b[0m: cannot import name 'fix_scpecific_case' from 'merge_datasets' (C:\\Users\\nogur\\Documents\\DeppClinic\\functions_for_merging\\merge_datasets.py)"
     ]
    }
   ],
   "source": [
    "import pandas as pd\n",
    "import re\n",
    "import seaborn as sns\n",
    "import matplotlib.pyplot as plt\n",
    "sns.set(rc={'figure.figsize':(11,8)})\n",
    "sns.set(font_scale=1.2)\n",
    "import numpy as np\n",
    "from utils import fix_wrong_record_id, fill_id, format_datetime_columns, delete_redundant_columns\n",
    "from merge_datasets import split_to_intersection_and_union , fix_wrong_groups, fix_scpecific_case\n",
    "from columns_index_for_merging import columns_dict, merging_functions_by_columns_set, keep_both_values, weird_text_columns"
   ]
  },
  {
   "cell_type": "code",
   "execution_count": 2,
   "id": "80c245cb-3104-4047-8e90-9a4b4795adbb",
   "metadata": {},
   "outputs": [
    {
     "name": "stderr",
     "output_type": "stream",
     "text": [
      "C:\\Users\\nogur\\anaconda3\\lib\\site-packages\\IPython\\core\\interactiveshell.py:3444: DtypeWarning: Columns (44,51,53,99,325,366,439,453,459,464,466,501,507,512,514,521,530,532,569,571,580,599,766,771,777,781,786,788,793,795,804,806,826,843,845,854,873,883,918,941,979,991,1002,1040,1045,1047,1049,1051,1053,1054,1080,1096,1119,1122,1126,1127,1131,1132,1133,1134,1136,1137,1138,1141,1142,1144,1161,1183,1186,1237,1239,1259,1261,1262,1263,1269,1270,1271,1272,1384,1387,1389,1405,1408,1411,1415,1432,1434,1435,1436,1442,1443,1444,1445,1499,1568,1569,1572,1573) have mixed types.Specify dtype option on import or set low_memory=False.\n",
      "  exec(code_obj, self.user_global_ns, self.user_ns)\n",
      "C:\\Users\\nogur\\anaconda3\\lib\\site-packages\\IPython\\core\\interactiveshell.py:3444: DtypeWarning: Columns (48) have mixed types.Specify dtype option on import or set low_memory=False.\n",
      "  exec(code_obj, self.user_global_ns, self.user_ns)\n"
     ]
    }
   ],
   "source": [
    "df_2022 = pd.read_csv(\"../original_data/ImmiRiskIPT2022_DATA_2022-12-12_1719.csv\", na_values= ' ')\n",
    "df_2021 = pd.read_csv(r\"../original_data/Schneider Depression Clinic Database.csv\", na_values= ' ')"
   ]
  },
  {
   "cell_type": "markdown",
   "id": "d207fabe-1b75-4bf5-86dd-2c5f21ba1e40",
   "metadata": {},
   "source": [
    "# the preparing datasets"
   ]
  },
  {
   "cell_type": "code",
   "execution_count": 3,
   "id": "4b2591f3-f99b-45e4-81ef-d2c6cce017a9",
   "metadata": {},
   "outputs": [],
   "source": [
    "df_2021_1 = fix_wrong_record_id(df_2021, year=2021)\n",
    "df_2022_1 = fix_wrong_record_id(df_2022, year=2022)"
   ]
  },
  {
   "cell_type": "markdown",
   "id": "111ad7b0-7b17-4bcf-b86f-b161c80f807c",
   "metadata": {},
   "source": [
    "##### fill id function - only for 2022"
   ]
  },
  {
   "cell_type": "code",
   "execution_count": 4,
   "id": "81d3bd56-f899-41b0-8451-55d01be2ca1d",
   "metadata": {},
   "outputs": [],
   "source": [
    "df_2022_2 = fill_id(df_2022_1)"
   ]
  },
  {
   "cell_type": "code",
   "execution_count": 5,
   "id": "55c1f7e9-fea1-4ee6-bb56-d9f1ad48a258",
   "metadata": {},
   "outputs": [],
   "source": [
    "df_2021_3 = format_datetime_columns(df_2021_1)\n",
    "df_2022_3 = format_datetime_columns(df_2022_2)"
   ]
  },
  {
   "cell_type": "code",
   "execution_count": 6,
   "id": "ca2f10dc-8da3-4a61-96a2-96c1e73687c9",
   "metadata": {},
   "outputs": [],
   "source": [
    "df_2021_4, df_2022_4 = delete_redundant_columns(df_2021 = df_2021_3, df_2022 = df_2022_3)"
   ]
  },
  {
   "cell_type": "markdown",
   "id": "386d53f8-c99f-4262-9091-679ae200a4da",
   "metadata": {},
   "source": [
    "# merging the datasets"
   ]
  },
  {
   "cell_type": "code",
   "execution_count": 7,
   "id": "fd1a3beb-b030-4c50-815b-c58b6a180603",
   "metadata": {},
   "outputs": [],
   "source": [
    "union, intersection_2021, intersection_2022 = split_to_intersection_and_union(df_2021 = df_2021_4, df_2022=df_2022_4)\n",
    "\n",
    "# validate\n",
    "#intersection_2021.duplicated(subset=['redcap_event_name', 'id']).any()"
   ]
  },
  {
   "cell_type": "markdown",
   "id": "ddd775a6-de53-4abb-a2f5-a380d9db339b",
   "metadata": {},
   "source": [
    "## handling contradictions"
   ]
  },
  {
   "cell_type": "code",
   "execution_count": 8,
   "id": "8abea521-d9fa-4a53-b710-ea35488affdc",
   "metadata": {},
   "outputs": [],
   "source": [
    "\n",
    "result = pd.merge(intersection_2021, intersection_2022, on=['id', 'redcap_event_name'], how='outer', suffixes=('_2021', '_2022'))\n",
    "# validate\n",
    "# result.shape\n",
    "# intersection_2022.shape\n",
    "\n"
   ]
  },
  {
   "cell_type": "code",
   "execution_count": 9,
   "id": "1e67deb1-520f-47a1-8d8d-739d94ee3afb",
   "metadata": {},
   "outputs": [],
   "source": [
    "#pd.Series(intersection_2021.columns).to_csv('intersection_columns_list.csv', index=False)\n",
    "#pd.Series(intersection_2022.columns).to_csv('all_columns_list.csv', index=False)"
   ]
  },
  {
   "cell_type": "code",
   "execution_count": 10,
   "id": "e953f3b6-b753-40e1-b885-cc5edd087de2",
   "metadata": {},
   "outputs": [],
   "source": [
    "shared_columns = [col for col in intersection_2022.columns if col in intersection_2021.columns]\n",
    "unique_2022_columns = [col for col in intersection_2022.columns if col not in intersection_2021.columns]\n",
    "# validate\n",
    "# len(shared_columns) == intersection_2021.shape[1]"
   ]
  },
  {
   "cell_type": "code",
   "execution_count": 11,
   "id": "5a707b0a-f14d-4b93-8651-bad033919806",
   "metadata": {},
   "outputs": [],
   "source": [
    "def resolve_contradiction(row, col_2021, col_2022, function = None, col_name= ''):\n",
    "    \"\"\"\n",
    "    The function takes a row of a DataFrame and two column names as input,\n",
    "    and returns the value based on a rule of resolving contradictions.\n",
    "    If the value in col_x is missing, it returns the value in col_y.\n",
    "    If the value in col_y is missing, it returns the value in col_x.\n",
    "    If both values are not missing, it returns the maximum value between the two.\n",
    "\n",
    "    Parameters:\n",
    "    row : pandas.Series\n",
    "        A row of a DataFrame\n",
    "    col_x : str\n",
    "        The name of the column in dataframe_x\n",
    "    col_y : str\n",
    "        The name of the column in dataframe_y\n",
    "\n",
    "    Returns:\n",
    "    int or float or any other value\n",
    "        The value based on the rule of resolving contradictions\n",
    "    \"\"\"\n",
    "    if pd.isnull(row[col_2021]):\n",
    "        return row[col_2022]\n",
    "    elif pd.isnull(row[col_2022]):\n",
    "        return row[col_2021]\n",
    "    elif row[col_2022] == row[col_2021]:\n",
    "        return row[col_2022]\n",
    "\n",
    "    else:\n",
    "        if col_name.startswith('dass_')  or col_name.startswith('pps_2_f'):\n",
    "            function = fix_scpecific_case(row, col_name, function)\n",
    "        \n",
    "        if function == None:\n",
    "            print(row['id'], row['redcap_event_name'])\n",
    "            print('2021 =', row[col_2021])\n",
    "            print('2022 =', row[col_2022])\n",
    "            raise ValueError\n",
    "        elif function == 'take 2021':\n",
    "            return col_2021\n",
    "        elif function == 'take 2022':\n",
    "            return col_2022\n",
    "        else:\n",
    "            return function(row[col_2021], row[col_2022])"
   ]
  },
  {
   "cell_type": "code",
   "execution_count": 12,
   "id": "2f05a792-0760-46ea-8068-ccfa85507f70",
   "metadata": {},
   "outputs": [],
   "source": [
    "result2 = result.copy()"
   ]
  },
  {
   "cell_type": "code",
   "execution_count": null,
   "id": "ac19cb93-f0c7-4baa-be6c-2af3e85907a5",
   "metadata": {},
   "outputs": [],
   "source": []
  },
  {
   "cell_type": "code",
   "execution_count": 13,
   "id": "e2185d79-827a-4db8-bc1b-99c2f9132f2a",
   "metadata": {},
   "outputs": [
    {
     "name": "stdout",
     "output_type": "stream",
     "text": [
      "diagnosis_binary <built-in function max>\n",
      "complaint_binary <built-in function max>\n",
      "timestamp <built-in function min>\n",
      "date <built-in function min>\n",
      "groups <built-in function max>\n",
      "age_child_pre <built-in function max>\n",
      "record_id take 2021\n",
      "chameleon_binary_0_1 <built-in function max>\n",
      "chameleon_binary_1_2 <built-in function min>\n",
      "opening_psychothe_binary_0_1 <built-in function max>\n",
      "opening_psychothe_binary_1_2 <built-in function min>\n",
      "opening_medicine_binary_0_1 <built-in function max>\n",
      "opening_medicine_binary_1_2 <built-in function min>\n",
      "with_who_m <built-in function max>\n",
      "with_who_f <built-in function max>\n"
     ]
    }
   ],
   "source": [
    "for key, value in merging_functions_by_columns_set.items():\n",
    "    print(key, value)\n",
    "    columns = columns_dict[key]\n",
    "    for col in columns:\n",
    "        result2[col] = result2.apply(resolve_contradiction, args = (f'{col}_2021', f'{col}_2022', value, col), axis=1)\n",
    "        \n",
    "# validate\n",
    "# i = columns.iloc[0]\n",
    "# result2[(~result2[f'{i}_2022'].isna()) & (~result2[f'{i}_2021'].isna())][[i, f'{i}_2021', f'{i}_2022']]"
   ]
  },
  {
   "cell_type": "code",
   "execution_count": 14,
   "id": "0cd78db8-63b3-4d7b-891d-4c882d19f792",
   "metadata": {},
   "outputs": [
    {
     "ename": "NameError",
     "evalue": "name 'fix_wrong_groups' is not defined",
     "output_type": "error",
     "traceback": [
      "\u001b[1;31m---------------------------------------------------------------------------\u001b[0m",
      "\u001b[1;31mNameError\u001b[0m                                 Traceback (most recent call last)",
      "\u001b[1;32m~\\AppData\\Local\\Temp/ipykernel_17188/853548601.py\u001b[0m in \u001b[0;36m<module>\u001b[1;34m\u001b[0m\n\u001b[1;32m----> 1\u001b[1;33m \u001b[0mresult2\u001b[0m \u001b[1;33m=\u001b[0m \u001b[0mfix_wrong_groups\u001b[0m\u001b[1;33m(\u001b[0m\u001b[0mresult2\u001b[0m\u001b[1;33m)\u001b[0m\u001b[1;33m\u001b[0m\u001b[1;33m\u001b[0m\u001b[0m\n\u001b[0m",
      "\u001b[1;31mNameError\u001b[0m: name 'fix_wrong_groups' is not defined"
     ]
    }
   ],
   "source": [
    "result2 = fix_wrong_groups(result2)"
   ]
  },
  {
   "cell_type": "markdown",
   "id": "faf96ae2-7975-4808-946f-1e4f4791ba11",
   "metadata": {},
   "source": [
    "## test"
   ]
  },
  {
   "cell_type": "code",
   "execution_count": 16,
   "id": "80d1556b-e030-448b-a1b2-a19becfc47f3",
   "metadata": {
    "tags": []
   },
   "outputs": [
    {
     "name": "stdout",
     "output_type": "stream",
     "text": [
      "group___3\n",
      "S6442 intake_arm_1\n",
      "2021 = 1.0\n",
      "2022 = 0.0\n"
     ]
    },
    {
     "ename": "ValueError",
     "evalue": "",
     "output_type": "error",
     "traceback": [
      "\u001b[1;31m---------------------------------------------------------------------------\u001b[0m",
      "\u001b[1;31mValueError\u001b[0m                                Traceback (most recent call last)",
      "\u001b[1;32m~\\AppData\\Local\\Temp/ipykernel_2224/3329126763.py\u001b[0m in \u001b[0;36m<module>\u001b[1;34m\u001b[0m\n\u001b[0;32m      1\u001b[0m \u001b[1;32mfor\u001b[0m \u001b[0mcolumn\u001b[0m \u001b[1;32min\u001b[0m \u001b[1;33m[\u001b[0m\u001b[1;34m'group___3'\u001b[0m\u001b[1;33m]\u001b[0m\u001b[1;33m:\u001b[0m\u001b[1;33m\u001b[0m\u001b[1;33m\u001b[0m\u001b[0m\n\u001b[0;32m      2\u001b[0m     \u001b[0mprint\u001b[0m\u001b[1;33m(\u001b[0m\u001b[0mcolumn\u001b[0m\u001b[1;33m)\u001b[0m\u001b[1;33m\u001b[0m\u001b[1;33m\u001b[0m\u001b[0m\n\u001b[1;32m----> 3\u001b[1;33m     \u001b[0mresult2\u001b[0m\u001b[1;33m.\u001b[0m\u001b[0mapply\u001b[0m\u001b[1;33m(\u001b[0m\u001b[0mresolve_contradiction\u001b[0m\u001b[1;33m,\u001b[0m \u001b[0margs\u001b[0m \u001b[1;33m=\u001b[0m \u001b[1;33m(\u001b[0m\u001b[1;34mf'{column}_2021'\u001b[0m\u001b[1;33m,\u001b[0m \u001b[1;34mf'{column}_2022'\u001b[0m\u001b[1;33m,\u001b[0m \u001b[1;32mNone\u001b[0m\u001b[1;33m)\u001b[0m\u001b[1;33m,\u001b[0m \u001b[0maxis\u001b[0m\u001b[1;33m=\u001b[0m\u001b[1;36m1\u001b[0m\u001b[1;33m)\u001b[0m\u001b[1;33m\u001b[0m\u001b[1;33m\u001b[0m\u001b[0m\n\u001b[0m\u001b[0;32m      4\u001b[0m \u001b[1;31m# is there a contradiction?\u001b[0m\u001b[1;33m\u001b[0m\u001b[1;33m\u001b[0m\u001b[0m\n",
      "\u001b[1;32m~\\anaconda3\\lib\\site-packages\\pandas\\core\\frame.py\u001b[0m in \u001b[0;36mapply\u001b[1;34m(self, func, axis, raw, result_type, args, **kwargs)\u001b[0m\n\u001b[0;32m   8738\u001b[0m             \u001b[0mkwargs\u001b[0m\u001b[1;33m=\u001b[0m\u001b[0mkwargs\u001b[0m\u001b[1;33m,\u001b[0m\u001b[1;33m\u001b[0m\u001b[1;33m\u001b[0m\u001b[0m\n\u001b[0;32m   8739\u001b[0m         )\n\u001b[1;32m-> 8740\u001b[1;33m         \u001b[1;32mreturn\u001b[0m \u001b[0mop\u001b[0m\u001b[1;33m.\u001b[0m\u001b[0mapply\u001b[0m\u001b[1;33m(\u001b[0m\u001b[1;33m)\u001b[0m\u001b[1;33m\u001b[0m\u001b[1;33m\u001b[0m\u001b[0m\n\u001b[0m\u001b[0;32m   8741\u001b[0m \u001b[1;33m\u001b[0m\u001b[0m\n\u001b[0;32m   8742\u001b[0m     def applymap(\n",
      "\u001b[1;32m~\\anaconda3\\lib\\site-packages\\pandas\\core\\apply.py\u001b[0m in \u001b[0;36mapply\u001b[1;34m(self)\u001b[0m\n\u001b[0;32m    686\u001b[0m             \u001b[1;32mreturn\u001b[0m \u001b[0mself\u001b[0m\u001b[1;33m.\u001b[0m\u001b[0mapply_raw\u001b[0m\u001b[1;33m(\u001b[0m\u001b[1;33m)\u001b[0m\u001b[1;33m\u001b[0m\u001b[1;33m\u001b[0m\u001b[0m\n\u001b[0;32m    687\u001b[0m \u001b[1;33m\u001b[0m\u001b[0m\n\u001b[1;32m--> 688\u001b[1;33m         \u001b[1;32mreturn\u001b[0m \u001b[0mself\u001b[0m\u001b[1;33m.\u001b[0m\u001b[0mapply_standard\u001b[0m\u001b[1;33m(\u001b[0m\u001b[1;33m)\u001b[0m\u001b[1;33m\u001b[0m\u001b[1;33m\u001b[0m\u001b[0m\n\u001b[0m\u001b[0;32m    689\u001b[0m \u001b[1;33m\u001b[0m\u001b[0m\n\u001b[0;32m    690\u001b[0m     \u001b[1;32mdef\u001b[0m \u001b[0magg\u001b[0m\u001b[1;33m(\u001b[0m\u001b[0mself\u001b[0m\u001b[1;33m)\u001b[0m\u001b[1;33m:\u001b[0m\u001b[1;33m\u001b[0m\u001b[1;33m\u001b[0m\u001b[0m\n",
      "\u001b[1;32m~\\anaconda3\\lib\\site-packages\\pandas\\core\\apply.py\u001b[0m in \u001b[0;36mapply_standard\u001b[1;34m(self)\u001b[0m\n\u001b[0;32m    810\u001b[0m \u001b[1;33m\u001b[0m\u001b[0m\n\u001b[0;32m    811\u001b[0m     \u001b[1;32mdef\u001b[0m \u001b[0mapply_standard\u001b[0m\u001b[1;33m(\u001b[0m\u001b[0mself\u001b[0m\u001b[1;33m)\u001b[0m\u001b[1;33m:\u001b[0m\u001b[1;33m\u001b[0m\u001b[1;33m\u001b[0m\u001b[0m\n\u001b[1;32m--> 812\u001b[1;33m         \u001b[0mresults\u001b[0m\u001b[1;33m,\u001b[0m \u001b[0mres_index\u001b[0m \u001b[1;33m=\u001b[0m \u001b[0mself\u001b[0m\u001b[1;33m.\u001b[0m\u001b[0mapply_series_generator\u001b[0m\u001b[1;33m(\u001b[0m\u001b[1;33m)\u001b[0m\u001b[1;33m\u001b[0m\u001b[1;33m\u001b[0m\u001b[0m\n\u001b[0m\u001b[0;32m    813\u001b[0m \u001b[1;33m\u001b[0m\u001b[0m\n\u001b[0;32m    814\u001b[0m         \u001b[1;31m# wrap results\u001b[0m\u001b[1;33m\u001b[0m\u001b[1;33m\u001b[0m\u001b[0m\n",
      "\u001b[1;32m~\\anaconda3\\lib\\site-packages\\pandas\\core\\apply.py\u001b[0m in \u001b[0;36mapply_series_generator\u001b[1;34m(self)\u001b[0m\n\u001b[0;32m    826\u001b[0m             \u001b[1;32mfor\u001b[0m \u001b[0mi\u001b[0m\u001b[1;33m,\u001b[0m \u001b[0mv\u001b[0m \u001b[1;32min\u001b[0m \u001b[0menumerate\u001b[0m\u001b[1;33m(\u001b[0m\u001b[0mseries_gen\u001b[0m\u001b[1;33m)\u001b[0m\u001b[1;33m:\u001b[0m\u001b[1;33m\u001b[0m\u001b[1;33m\u001b[0m\u001b[0m\n\u001b[0;32m    827\u001b[0m                 \u001b[1;31m# ignore SettingWithCopy here in case the user mutates\u001b[0m\u001b[1;33m\u001b[0m\u001b[1;33m\u001b[0m\u001b[0m\n\u001b[1;32m--> 828\u001b[1;33m                 \u001b[0mresults\u001b[0m\u001b[1;33m[\u001b[0m\u001b[0mi\u001b[0m\u001b[1;33m]\u001b[0m \u001b[1;33m=\u001b[0m \u001b[0mself\u001b[0m\u001b[1;33m.\u001b[0m\u001b[0mf\u001b[0m\u001b[1;33m(\u001b[0m\u001b[0mv\u001b[0m\u001b[1;33m)\u001b[0m\u001b[1;33m\u001b[0m\u001b[1;33m\u001b[0m\u001b[0m\n\u001b[0m\u001b[0;32m    829\u001b[0m                 \u001b[1;32mif\u001b[0m \u001b[0misinstance\u001b[0m\u001b[1;33m(\u001b[0m\u001b[0mresults\u001b[0m\u001b[1;33m[\u001b[0m\u001b[0mi\u001b[0m\u001b[1;33m]\u001b[0m\u001b[1;33m,\u001b[0m \u001b[0mABCSeries\u001b[0m\u001b[1;33m)\u001b[0m\u001b[1;33m:\u001b[0m\u001b[1;33m\u001b[0m\u001b[1;33m\u001b[0m\u001b[0m\n\u001b[0;32m    830\u001b[0m                     \u001b[1;31m# If we have a view on v, we need to make a copy because\u001b[0m\u001b[1;33m\u001b[0m\u001b[1;33m\u001b[0m\u001b[0m\n",
      "\u001b[1;32m~\\anaconda3\\lib\\site-packages\\pandas\\core\\apply.py\u001b[0m in \u001b[0;36mf\u001b[1;34m(x)\u001b[0m\n\u001b[0;32m    129\u001b[0m \u001b[1;33m\u001b[0m\u001b[0m\n\u001b[0;32m    130\u001b[0m             \u001b[1;32mdef\u001b[0m \u001b[0mf\u001b[0m\u001b[1;33m(\u001b[0m\u001b[0mx\u001b[0m\u001b[1;33m)\u001b[0m\u001b[1;33m:\u001b[0m\u001b[1;33m\u001b[0m\u001b[1;33m\u001b[0m\u001b[0m\n\u001b[1;32m--> 131\u001b[1;33m                 \u001b[1;32mreturn\u001b[0m \u001b[0mfunc\u001b[0m\u001b[1;33m(\u001b[0m\u001b[0mx\u001b[0m\u001b[1;33m,\u001b[0m \u001b[1;33m*\u001b[0m\u001b[0margs\u001b[0m\u001b[1;33m,\u001b[0m \u001b[1;33m**\u001b[0m\u001b[0mkwargs\u001b[0m\u001b[1;33m)\u001b[0m\u001b[1;33m\u001b[0m\u001b[1;33m\u001b[0m\u001b[0m\n\u001b[0m\u001b[0;32m    132\u001b[0m \u001b[1;33m\u001b[0m\u001b[0m\n\u001b[0;32m    133\u001b[0m         \u001b[1;32melse\u001b[0m\u001b[1;33m:\u001b[0m\u001b[1;33m\u001b[0m\u001b[1;33m\u001b[0m\u001b[0m\n",
      "\u001b[1;32m~\\AppData\\Local\\Temp/ipykernel_2224/212739838.py\u001b[0m in \u001b[0;36mresolve_contradiction\u001b[1;34m(row, col_2021, col_2022, function, col_name)\u001b[0m\n\u001b[0;32m     30\u001b[0m             \u001b[0mprint\u001b[0m\u001b[1;33m(\u001b[0m\u001b[1;34m'2021 ='\u001b[0m\u001b[1;33m,\u001b[0m \u001b[0mrow\u001b[0m\u001b[1;33m[\u001b[0m\u001b[0mcol_2021\u001b[0m\u001b[1;33m]\u001b[0m\u001b[1;33m)\u001b[0m\u001b[1;33m\u001b[0m\u001b[1;33m\u001b[0m\u001b[0m\n\u001b[0;32m     31\u001b[0m             \u001b[0mprint\u001b[0m\u001b[1;33m(\u001b[0m\u001b[1;34m'2022 ='\u001b[0m\u001b[1;33m,\u001b[0m \u001b[0mrow\u001b[0m\u001b[1;33m[\u001b[0m\u001b[0mcol_2022\u001b[0m\u001b[1;33m]\u001b[0m\u001b[1;33m)\u001b[0m\u001b[1;33m\u001b[0m\u001b[1;33m\u001b[0m\u001b[0m\n\u001b[1;32m---> 32\u001b[1;33m             \u001b[1;32mraise\u001b[0m \u001b[0mValueError\u001b[0m\u001b[1;33m\u001b[0m\u001b[1;33m\u001b[0m\u001b[0m\n\u001b[0m\u001b[0;32m     33\u001b[0m         \u001b[1;32melif\u001b[0m \u001b[0mfunction\u001b[0m \u001b[1;33m==\u001b[0m \u001b[1;34m'take 2021'\u001b[0m\u001b[1;33m:\u001b[0m\u001b[1;33m\u001b[0m\u001b[1;33m\u001b[0m\u001b[0m\n\u001b[0;32m     34\u001b[0m             \u001b[1;32mreturn\u001b[0m \u001b[0mcol_2021\u001b[0m\u001b[1;33m\u001b[0m\u001b[1;33m\u001b[0m\u001b[0m\n",
      "\u001b[1;31mValueError\u001b[0m: "
     ]
    }
   ],
   "source": [
    "merged_columns = [col for key in merging_functions_by_columns_set.keys() for col in columns_dict[key]]\n",
    "merged_columns = merged_columns + keep_both_values + unique_2022_columns + ['id', 'redcap_event_name'] + weird_text_columns\n",
    "columns_to_test_for_equality = [i for i in shared_columns if i not in merged_columns]\n",
    "\n",
    "for column in ['group___1', 'group___2', 'group___3']:\n",
    "    print(column)\n",
    "    result2.apply(resolve_contradiction, args = (f'{column}_2021', f'{column}_2022', None), axis=1)\n",
    "# is there a contradiction?"
   ]
  },
  {
   "cell_type": "code",
   "execution_count": null,
   "id": "18380166-8470-4858-bbbb-622ec2d0603b",
   "metadata": {},
   "outputs": [],
   "source": []
  },
  {
   "cell_type": "code",
   "execution_count": null,
   "id": "e3568c6c-aeb9-4fbb-ac16-c9606f23edad",
   "metadata": {},
   "outputs": [],
   "source": [
    "keep_both_values"
   ]
  },
  {
   "cell_type": "code",
   "execution_count": 18,
   "id": "3772ab07-1f63-4e78-8f07-56574db94de0",
   "metadata": {},
   "outputs": [
    {
     "data": {
      "text/plain": [
       "['visit_date_stu',\n",
       " 'pps_2_f',\n",
       " 'dass_10_f',\n",
       " 'dass_11_f',\n",
       " 'dass_12_f',\n",
       " 'dass_13_f',\n",
       " 'dass_14_f',\n",
       " 'dass_15_f',\n",
       " 'dass_16_f',\n",
       " 'dass_17_f',\n",
       " 'dass_18_f',\n",
       " 'dass_19_f',\n",
       " 'dass_20_f']"
      ]
     },
     "execution_count": 18,
     "metadata": {},
     "output_type": "execute_result"
    }
   ],
   "source": [
    " ['visit_date_stu', 'pps_2_f'] + [f'dass_{i}_f' for i in range(10, 21)]"
   ]
  },
  {
   "cell_type": "code",
   "execution_count": null,
   "id": "5f8d0c31-1d6e-4317-95da-9ca5296d3dbb",
   "metadata": {},
   "outputs": [],
   "source": []
  }
 ],
 "metadata": {
  "kernelspec": {
   "display_name": "Python 3 (ipykernel)",
   "language": "python",
   "name": "python3"
  },
  "language_info": {
   "codemirror_mode": {
    "name": "ipython",
    "version": 3
   },
   "file_extension": ".py",
   "mimetype": "text/x-python",
   "name": "python",
   "nbconvert_exporter": "python",
   "pygments_lexer": "ipython3",
   "version": "3.9.7"
  }
 },
 "nbformat": 4,
 "nbformat_minor": 5
}
