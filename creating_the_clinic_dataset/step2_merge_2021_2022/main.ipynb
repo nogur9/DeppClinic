{
 "cells": [
  {
   "cell_type": "code",
   "execution_count": 2,
   "id": "35cab2af-f10c-4eeb-84a2-d33bd74e1984",
   "metadata": {},
   "outputs": [],
   "source": [
    "import pandas as pd\n",
    "import re\n",
    "import seaborn as sns\n",
    "import matplotlib.pyplot as plt\n",
    "sns.set(rc={'figure.figsize':(11,8)})\n",
    "sns.set(font_scale=1.2)\n",
    "import numpy as np\n",
    "from utils import fix_wrong_record_id, fill_id, format_datetime_columns, delete_redundant_columns, mark_inattentive_participants, fix_age,remove_test_id, delete_negative_age\n",
    "from merge_datasets import split_to_intersection_and_union, fix_wrong_groups, resolve_contradiction\n",
    "from columns_index_for_merging import columns_dict, merging_functions_by_columns_set, weird_text_columns"
   ]
  },
  {
   "cell_type": "code",
   "execution_count": 3,
   "id": "24d96b63",
   "metadata": {},
   "outputs": [],
   "source": [
    "def impute_from_column(df, impute_to, impute_from):\n",
    "    \"\"\"\n",
    "    test:\n",
    "    df[(df['c_ssrs_6'].isna()) & (~df['c_ssrs_last_visit_6'].isna())][['c_ssrs_6', 'c_ssrs_last_visit_6']]\n",
    "    df = impute_from_column(df, impute_to = 'c_ssrs_6', impute_from = 'c_ssrs_last_visit_6')\n",
    "    df[(df['c_ssrs_6'].isna()) & (~df['c_ssrs_last_visit_6'].isna())][['c_ssrs_6', 'c_ssrs_last_visit_6']]\n",
    "    \n",
    "    \"\"\"\n",
    "    df[impute_to] = np.where(df[impute_to].isnull(), df[impute_from], df[impute_to])\n",
    "    \n",
    "    return df"
   ]
  },
  {
   "cell_type": "code",
   "execution_count": 4,
   "id": "80c245cb-3104-4047-8e90-9a4b4795adbb",
   "metadata": {},
   "outputs": [
    {
     "name": "stderr",
     "output_type": "stream",
     "text": [
      "C:\\Users\\nogur\\anaconda3\\lib\\site-packages\\IPython\\core\\interactiveshell.py:3444: DtypeWarning: Columns (44,51,53,99,325,366,439,453,459,464,466,501,507,512,514,521,530,532,569,571,580,599,766,771,777,781,786,788,793,795,804,806,826,843,845,854,873,883,918,941,979,991,1002,1040,1045,1047,1049,1051,1053,1054,1080,1096,1119,1122,1126,1127,1131,1132,1133,1134,1136,1137,1138,1141,1142,1144,1161,1183,1186,1237,1239,1259,1261,1262,1263,1269,1270,1271,1272,1384,1387,1389,1405,1408,1411,1415,1432,1434,1435,1436,1442,1443,1444,1445,1499,1568,1569,1572,1573) have mixed types.Specify dtype option on import or set low_memory=False.\n",
      "  exec(code_obj, self.user_global_ns, self.user_ns)\n",
      "C:\\Users\\nogur\\anaconda3\\lib\\site-packages\\IPython\\core\\interactiveshell.py:3444: DtypeWarning: Columns (48,1109,1166,1171,1344,1347,1563,1564,1565,1567,1586) have mixed types.Specify dtype option on import or set low_memory=False.\n",
      "  exec(code_obj, self.user_global_ns, self.user_ns)\n"
     ]
    }
   ],
   "source": [
    "df_2022 = pd.read_csv(r'../preprocessed_data/2022_data_imputed_with_clin_stu.csv', na_values= ' ')\n",
    "df_2021 = pd.read_csv(r'../preprocessed_data/2021_data_imputed_with_clin_stu.csv', na_values= ' ')\n",
    "\n",
    "df_2022 = delete_negative_age(df_2022)\n",
    "df_2021 = delete_negative_age(df_2021)\n",
    "\n",
    "df_2021 = impute_from_column(df_2021, impute_to = 'age_child_pre', impute_from = 'age_child_pre_first')"
   ]
  },
  {
   "cell_type": "markdown",
   "id": "d207fabe-1b75-4bf5-86dd-2c5f21ba1e40",
   "metadata": {},
   "source": [
    "# the preparing datasets"
   ]
  },
  {
   "cell_type": "code",
   "execution_count": 5,
   "id": "4b2591f3-f99b-45e4-81ef-d2c6cce017a9",
   "metadata": {},
   "outputs": [],
   "source": [
    "df_2021 = fix_wrong_record_id(df_2021, year=2021)\n",
    "df_2022 = fix_wrong_record_id(df_2022, year=2022)"
   ]
  },
  {
   "cell_type": "markdown",
   "id": "111ad7b0-7b17-4bcf-b86f-b161c80f807c",
   "metadata": {},
   "source": [
    "##### fill id function - only for 2022"
   ]
  },
  {
   "cell_type": "code",
   "execution_count": 6,
   "id": "81d3bd56-f899-41b0-8451-55d01be2ca1d",
   "metadata": {},
   "outputs": [],
   "source": [
    "df_2022 = fill_id(df_2022)"
   ]
  },
  {
   "cell_type": "code",
   "execution_count": 7,
   "id": "55c1f7e9-fea1-4ee6-bb56-d9f1ad48a258",
   "metadata": {},
   "outputs": [],
   "source": [
    "df_2021 = format_datetime_columns(df_2021)\n",
    "df_2022 = format_datetime_columns(df_2022)"
   ]
  },
  {
   "cell_type": "code",
   "execution_count": 8,
   "id": "73b98f34-bae2-4ac1-aba8-07262a496461",
   "metadata": {},
   "outputs": [],
   "source": [
    "df_2021 = mark_inattentive_participants(df_2021, year=2021)\n",
    "df_2022 = mark_inattentive_participants(df_2022, year=2022)"
   ]
  },
  {
   "cell_type": "code",
   "execution_count": 9,
   "id": "ca2f10dc-8da3-4a61-96a2-96c1e73687c9",
   "metadata": {},
   "outputs": [],
   "source": [
    "df_2021, df_2022 = delete_redundant_columns(df_2021 = df_2021, df_2022 = df_2022)"
   ]
  },
  {
   "cell_type": "markdown",
   "id": "386d53f8-c99f-4262-9091-679ae200a4da",
   "metadata": {},
   "source": [
    "# merging the datasets"
   ]
  },
  {
   "cell_type": "code",
   "execution_count": 10,
   "id": "fd1a3beb-b030-4c50-815b-c58b6a180603",
   "metadata": {},
   "outputs": [],
   "source": [
    "union, intersection_2021, intersection_2022 = split_to_intersection_and_union(df_2021 = df_2021, df_2022=df_2022)"
   ]
  },
  {
   "cell_type": "code",
   "execution_count": 11,
   "id": "0d624469-7af4-4393-9274-073d208c2e5d",
   "metadata": {},
   "outputs": [
    {
     "data": {
      "text/plain": [
       "(1615, 1547)"
      ]
     },
     "execution_count": 11,
     "metadata": {},
     "output_type": "execute_result"
    }
   ],
   "source": [
    "union.shape"
   ]
  },
  {
   "cell_type": "markdown",
   "id": "ddd775a6-de53-4abb-a2f5-a380d9db339b",
   "metadata": {},
   "source": [
    "## handling contradictions"
   ]
  },
  {
   "cell_type": "code",
   "execution_count": 12,
   "id": "8abea521-d9fa-4a53-b710-ea35488affdc",
   "metadata": {},
   "outputs": [],
   "source": [
    "intersection_df = pd.merge(intersection_2021, intersection_2022, on=['id', 'redcap_event_name'], how='outer', suffixes=('_2021', '_2022'))"
   ]
  },
  {
   "cell_type": "code",
   "execution_count": 13,
   "id": "5a935276-6240-488a-bedc-1d749ed6c76c",
   "metadata": {},
   "outputs": [
    {
     "data": {
      "text/plain": [
       "(344, 3053)"
      ]
     },
     "execution_count": 13,
     "metadata": {},
     "output_type": "execute_result"
    }
   ],
   "source": [
    "intersection_df.shape"
   ]
  },
  {
   "cell_type": "code",
   "execution_count": 14,
   "id": "b52026da-45b6-4945-9dee-b4df38fb1e2a",
   "metadata": {},
   "outputs": [],
   "source": [
    "# create intersection_columns_list.csv file\n",
    "#pd.DataFrame(intersection_2021.columns).to_csv('intersection_columns_list.csv', index=False)"
   ]
  },
  {
   "cell_type": "code",
   "execution_count": null,
   "id": "4b305e94-86f5-495f-aec5-c12eebf336ca",
   "metadata": {
    "tags": []
   },
   "outputs": [
    {
     "name": "stdout",
     "output_type": "stream",
     "text": [
      "visit_date_stu <built-in function max>\n",
      "diagnosis_binary <built-in function max>\n",
      "complaint_binary <built-in function max>\n",
      "timestamp <built-in function min>\n",
      "date <built-in function min>\n",
      "groups <built-in function max>\n",
      "age_child_pre <built-in function max>\n",
      "record_id take 2021\n",
      "chameleon_binary_0_1 <built-in function max>\n",
      "chameleon_binary_1_2 <built-in function min>\n",
      "opening_psychothe_binary_0_1 <built-in function max>\n",
      "opening_psychothe_binary_1_2 <built-in function min>\n",
      "opening_medicine_binary_0_1 <built-in function max>\n",
      "opening_medicine_binary_1_2 <built-in function min>\n",
      "with_who_m <built-in function max>\n",
      "with_who_f <built-in function max>\n",
      "duplicated_cols take 2022\n"
     ]
    }
   ],
   "source": [
    "result = intersection_df.copy()\n",
    "\n",
    "for key, value in merging_functions_by_columns_set.items():\n",
    "    print(key, value)\n",
    "    columns = columns_dict[key]\n",
    "    for col in columns:\n",
    "        result[col] = result.apply(resolve_contradiction, args = (f'{col}_2021', f'{col}_2022', value, col), axis=1)\n",
    "        result = result.drop([f'{col}_2021', f'{col}_2022'], axis=1)\n",
    "\n",
    "## iterate over the other columns\n",
    "        \n",
    "# validate\n",
    "# i = columns.iloc[0]\n",
    "# result2[(~result2[f'{i}_2022'].isna()) & (~result2[f'{i}_2021'].isna())][[i, f'{i}_2021', f'{i}_2022']]"
   ]
  },
  {
   "cell_type": "code",
   "execution_count": null,
   "id": "41279b0e-f0f9-49ab-b3ac-06e6173bbda8",
   "metadata": {},
   "outputs": [],
   "source": [
    "intersection = fix_wrong_groups(result)\n",
    "intersection['original_dataset'] = 'both 2021 & 2022'"
   ]
  },
  {
   "cell_type": "code",
   "execution_count": null,
   "id": "fd7f1e57-d5e2-4ede-830e-5c3105465ad8",
   "metadata": {},
   "outputs": [],
   "source": [
    "# dd = pd.DataFrame(intersection.columns)\n",
    "# dd[dd[0].duplicated()].to_csv('duplicated_cols.csv')"
   ]
  },
  {
   "cell_type": "code",
   "execution_count": null,
   "id": "2c44275c-2004-4373-b543-384ce27bd8cc",
   "metadata": {},
   "outputs": [],
   "source": [
    "merged_df = pd.concat([union, intersection])"
   ]
  },
  {
   "cell_type": "code",
   "execution_count": null,
   "id": "cc51f798-092b-4764-adc3-43ca2c71950b",
   "metadata": {},
   "outputs": [],
   "source": [
    "merged_df = remove_test_id(merged_df)\n",
    "merged_df = fill_missing_age(merged_df)"
   ]
  },
  {
   "cell_type": "code",
   "execution_count": 19,
   "id": "87fc41ef",
   "metadata": {},
   "outputs": [],
   "source": [
    "#[i for i in merged_df.columns if 'age' in i.lower()]\n"
   ]
  },
  {
   "cell_type": "code",
   "execution_count": 20,
   "id": "b182836c",
   "metadata": {},
   "outputs": [
    {
     "data": {
      "text/html": [
       "<div>\n",
       "<style scoped>\n",
       "    .dataframe tbody tr th:only-of-type {\n",
       "        vertical-align: middle;\n",
       "    }\n",
       "\n",
       "    .dataframe tbody tr th {\n",
       "        vertical-align: top;\n",
       "    }\n",
       "\n",
       "    .dataframe thead th {\n",
       "        text-align: right;\n",
       "    }\n",
       "</style>\n",
       "<table border=\"1\" class=\"dataframe\">\n",
       "  <thead>\n",
       "    <tr style=\"text-align: right;\">\n",
       "      <th></th>\n",
       "      <th>age_child</th>\n",
       "      <th>age_child_pre</th>\n",
       "      <th>id</th>\n",
       "    </tr>\n",
       "  </thead>\n",
       "  <tbody>\n",
       "    <tr>\n",
       "      <th>281</th>\n",
       "      <td>NaN</td>\n",
       "      <td>-99.0</td>\n",
       "      <td>N2178</td>\n",
       "    </tr>\n",
       "    <tr>\n",
       "      <th>382</th>\n",
       "      <td>NaN</td>\n",
       "      <td>-99.0</td>\n",
       "      <td>9920</td>\n",
       "    </tr>\n",
       "    <tr>\n",
       "      <th>383</th>\n",
       "      <td>NaN</td>\n",
       "      <td>-99.0</td>\n",
       "      <td>9920</td>\n",
       "    </tr>\n",
       "    <tr>\n",
       "      <th>388</th>\n",
       "      <td>NaN</td>\n",
       "      <td>-99.0</td>\n",
       "      <td>LH003</td>\n",
       "    </tr>\n",
       "    <tr>\n",
       "      <th>389</th>\n",
       "      <td>NaN</td>\n",
       "      <td>-99.0</td>\n",
       "      <td>LH003</td>\n",
       "    </tr>\n",
       "    <tr>\n",
       "      <th>390</th>\n",
       "      <td>NaN</td>\n",
       "      <td>-99.0</td>\n",
       "      <td>LH003</td>\n",
       "    </tr>\n",
       "    <tr>\n",
       "      <th>391</th>\n",
       "      <td>NaN</td>\n",
       "      <td>-99.0</td>\n",
       "      <td>LH003</td>\n",
       "    </tr>\n",
       "    <tr>\n",
       "      <th>600</th>\n",
       "      <td>NaN</td>\n",
       "      <td>-99.0</td>\n",
       "      <td>R6441</td>\n",
       "    </tr>\n",
       "    <tr>\n",
       "      <th>979</th>\n",
       "      <td>NaN</td>\n",
       "      <td>-99.0</td>\n",
       "      <td>M8511</td>\n",
       "    </tr>\n",
       "    <tr>\n",
       "      <th>986</th>\n",
       "      <td>NaN</td>\n",
       "      <td>-99.0</td>\n",
       "      <td>O8253</td>\n",
       "    </tr>\n",
       "    <tr>\n",
       "      <th>987</th>\n",
       "      <td>NaN</td>\n",
       "      <td>-99.0</td>\n",
       "      <td>O8253</td>\n",
       "    </tr>\n",
       "    <tr>\n",
       "      <th>1056</th>\n",
       "      <td>NaN</td>\n",
       "      <td>-99.0</td>\n",
       "      <td>E4738</td>\n",
       "    </tr>\n",
       "    <tr>\n",
       "      <th>1057</th>\n",
       "      <td>NaN</td>\n",
       "      <td>-99.0</td>\n",
       "      <td>E4738</td>\n",
       "    </tr>\n",
       "    <tr>\n",
       "      <th>1083</th>\n",
       "      <td>NaN</td>\n",
       "      <td>-99.0</td>\n",
       "      <td>K3544</td>\n",
       "    </tr>\n",
       "    <tr>\n",
       "      <th>1084</th>\n",
       "      <td>NaN</td>\n",
       "      <td>-99.0</td>\n",
       "      <td>K3544</td>\n",
       "    </tr>\n",
       "    <tr>\n",
       "      <th>1110</th>\n",
       "      <td>NaN</td>\n",
       "      <td>-99.0</td>\n",
       "      <td>204</td>\n",
       "    </tr>\n",
       "    <tr>\n",
       "      <th>1111</th>\n",
       "      <td>NaN</td>\n",
       "      <td>-99.0</td>\n",
       "      <td>204</td>\n",
       "    </tr>\n",
       "    <tr>\n",
       "      <th>1124</th>\n",
       "      <td>NaN</td>\n",
       "      <td>-99.0</td>\n",
       "      <td>2551</td>\n",
       "    </tr>\n",
       "    <tr>\n",
       "      <th>1125</th>\n",
       "      <td>NaN</td>\n",
       "      <td>-99.0</td>\n",
       "      <td>2659</td>\n",
       "    </tr>\n",
       "  </tbody>\n",
       "</table>\n",
       "</div>"
      ],
      "text/plain": [
       "      age_child  age_child_pre     id\n",
       "281         NaN          -99.0  N2178\n",
       "382         NaN          -99.0   9920\n",
       "383         NaN          -99.0   9920\n",
       "388         NaN          -99.0  LH003\n",
       "389         NaN          -99.0  LH003\n",
       "390         NaN          -99.0  LH003\n",
       "391         NaN          -99.0  LH003\n",
       "600         NaN          -99.0  R6441\n",
       "979         NaN          -99.0  M8511\n",
       "986         NaN          -99.0  O8253\n",
       "987         NaN          -99.0  O8253\n",
       "1056        NaN          -99.0  E4738\n",
       "1057        NaN          -99.0  E4738\n",
       "1083        NaN          -99.0  K3544\n",
       "1084        NaN          -99.0  K3544\n",
       "1110        NaN          -99.0    204\n",
       "1111        NaN          -99.0    204\n",
       "1124        NaN          -99.0   2551\n",
       "1125        NaN          -99.0   2659"
      ]
     },
     "execution_count": 20,
     "metadata": {},
     "output_type": "execute_result"
    }
   ],
   "source": [
    "merged_df.query(\"age_child_pre < 0\")[[\"age_child\", \"age_child_pre\", \"id\"]]"
   ]
  },
  {
   "cell_type": "code",
   "execution_count": 24,
   "id": "ec091277",
   "metadata": {},
   "outputs": [
    {
     "data": {
      "text/plain": [
       "392"
      ]
     },
     "execution_count": 24,
     "metadata": {},
     "output_type": "execute_result"
    }
   ],
   "source": [
    "(merged_df.groupby('id').age_child.count() == 0).sum()"
   ]
  },
  {
   "cell_type": "code",
   "execution_count": 25,
   "id": "2f55b350-a8be-42b1-9cad-e16fbc4f3678",
   "metadata": {},
   "outputs": [
    {
     "data": {
      "text/plain": [
       "26"
      ]
     },
     "execution_count": 25,
     "metadata": {},
     "output_type": "execute_result"
    }
   ],
   "source": [
    "(merged_df.groupby('id').age_child_pre.count() == 0).sum()"
   ]
  },
  {
   "cell_type": "code",
   "execution_count": null,
   "id": "5b365cd3",
   "metadata": {},
   "outputs": [],
   "source": []
  },
  {
   "cell_type": "code",
   "execution_count": null,
   "id": "1768f634",
   "metadata": {},
   "outputs": [],
   "source": []
  },
  {
   "cell_type": "code",
   "execution_count": 20,
   "id": "88a55816-fe7b-4c12-96e1-2334c345f714",
   "metadata": {},
   "outputs": [],
   "source": [
    "merged_df.to_csv(r'../preprocessed_data/merged_2021_and_2022.csv', index=False)"
   ]
  },
  {
   "cell_type": "code",
   "execution_count": null,
   "id": "9fa8cecf",
   "metadata": {},
   "outputs": [],
   "source": []
  }
 ],
 "metadata": {
  "kernelspec": {
   "display_name": "Python 3 (ipykernel)",
   "language": "python",
   "name": "python3"
  },
  "language_info": {
   "codemirror_mode": {
    "name": "ipython",
    "version": 3
   },
   "file_extension": ".py",
   "mimetype": "text/x-python",
   "name": "python",
   "nbconvert_exporter": "python",
   "pygments_lexer": "ipython3",
   "version": "3.9.7"
  }
 },
 "nbformat": 4,
 "nbformat_minor": 5
}
