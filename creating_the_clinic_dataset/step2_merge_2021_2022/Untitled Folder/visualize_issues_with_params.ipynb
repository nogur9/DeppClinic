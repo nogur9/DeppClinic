{
 "cells": [
  {
   "cell_type": "code",
   "execution_count": 17,
   "id": "35cab2af-f10c-4eeb-84a2-d33bd74e1984",
   "metadata": {},
   "outputs": [],
   "source": [
    "import pandas as pd\n",
    "import re\n",
    "import seaborn as sns\n",
    "import matplotlib.pyplot as plt\n",
    "sns.set(rc={'figure.figsize':(11,8)})\n",
    "sns.set(font_scale=1.2)\n",
    "import numpy as np\n",
    "from utils import fix_wrong_record_id, fill_id, format_datetime_columns, delete_redundant_columns\n",
    "from merge_datasets import split_to_intersection_and_union "
   ]
  },
  {
   "cell_type": "code",
   "execution_count": 18,
   "id": "80c245cb-3104-4047-8e90-9a4b4795adbb",
   "metadata": {},
   "outputs": [],
   "source": [
    "df_2022 = pd.read_csv(\"../original_data/ImmiRiskIPT2022_DATA_2022-12-12_1719.csv\", na_values= ' ')\n",
    "df_2021 = pd.read_csv(r\"../original_data/Schneider Depression Clinic Database.csv\", na_values= ' ')"
   ]
  },
  {
   "cell_type": "markdown",
   "id": "d207fabe-1b75-4bf5-86dd-2c5f21ba1e40",
   "metadata": {},
   "source": [
    "# the preparing datasets"
   ]
  },
  {
   "cell_type": "code",
   "execution_count": 19,
   "id": "4b2591f3-f99b-45e4-81ef-d2c6cce017a9",
   "metadata": {},
   "outputs": [],
   "source": [
    "df_2021_1 = fix_wrong_record_id(df_2021, year=2021)\n",
    "df_2022_1 = fix_wrong_record_id(df_2022, year=2022)"
   ]
  },
  {
   "cell_type": "markdown",
   "id": "111ad7b0-7b17-4bcf-b86f-b161c80f807c",
   "metadata": {},
   "source": [
    "##### fill id function - only for 2022"
   ]
  },
  {
   "cell_type": "code",
   "execution_count": 20,
   "id": "81d3bd56-f899-41b0-8451-55d01be2ca1d",
   "metadata": {},
   "outputs": [],
   "source": [
    "df_2022_2 = fill_id(df_2022_1)"
   ]
  },
  {
   "cell_type": "code",
   "execution_count": 21,
   "id": "55c1f7e9-fea1-4ee6-bb56-d9f1ad48a258",
   "metadata": {},
   "outputs": [],
   "source": [
    "df_2021_3 = format_datetime_columns(df_2021_1)\n",
    "df_2022_3 = format_datetime_columns(df_2022_2)"
   ]
  },
  {
   "cell_type": "code",
   "execution_count": 22,
   "id": "ca2f10dc-8da3-4a61-96a2-96c1e73687c9",
   "metadata": {},
   "outputs": [],
   "source": [
    "df_2021_4, df_2022_4 = delete_redundant_columns(df_2021 = df_2021_3, df_2022 = df_2022_3)"
   ]
  },
  {
   "cell_type": "markdown",
   "id": "386d53f8-c99f-4262-9091-679ae200a4da",
   "metadata": {},
   "source": [
    "# merging the datasets"
   ]
  },
  {
   "cell_type": "code",
   "execution_count": 23,
   "id": "fd1a3beb-b030-4c50-815b-c58b6a180603",
   "metadata": {},
   "outputs": [],
   "source": [
    "union, intersection_2021, intersection_2022 = split_to_intersection_and_union(df_2021 = df_2021_4, df_2022=df_2022_4)\n",
    "\n",
    "# validate\n",
    "# intersection_2021.duplicated(subset=['redcap_event_name', 'id']).any()"
   ]
  },
  {
   "cell_type": "markdown",
   "id": "ddd775a6-de53-4abb-a2f5-a380d9db339b",
   "metadata": {},
   "source": [
    "## handling contradictions"
   ]
  },
  {
   "cell_type": "code",
   "execution_count": 24,
   "id": "8abea521-d9fa-4a53-b710-ea35488affdc",
   "metadata": {},
   "outputs": [],
   "source": [
    "\n",
    "result = pd.merge(intersection_2021, intersection_2022, how=\"inner\", on=['redcap_event_name', 'id'])\n",
    "# validate\n",
    "# result.shape\n",
    "# intersection_2022.shape\n",
    "\n"
   ]
  },
  {
   "cell_type": "code",
   "execution_count": 25,
   "id": "1e67deb1-520f-47a1-8d8d-739d94ee3afb",
   "metadata": {},
   "outputs": [],
   "source": [
    "pd.Series(intersection_2022.columns).to_csv('columns_list.csv', index=False)"
   ]
  },
  {
   "cell_type": "code",
   "execution_count": 26,
   "id": "e953f3b6-b753-40e1-b885-cc5edd087de2",
   "metadata": {},
   "outputs": [],
   "source": [
    "shared_columns = [col for col in intersection_2022.columns if col in intersection_2021.columns]\n",
    "unique_2022_columns = [col for col in intersection_2022.columns if col not in intersection_2021.columns]\n",
    "# validate\n",
    "# len(shared_columns) == intersection_2021.shape[1]"
   ]
  },
  {
   "cell_type": "code",
   "execution_count": 48,
   "id": "e83da834-5565-4946-af2c-10c6d6635edc",
   "metadata": {},
   "outputs": [
    {
     "name": "stdout",
     "output_type": "stream",
     "text": [
      "chameleon_ideation_stu \n",
      "2021 = [nan  2.  1.] \n",
      "2022 = [ 2.  1. nan  3.] \n",
      "\n",
      "\n",
      "emergency_stu \n",
      "2021 = [nan  2.  1.] \n",
      "2022 = [ 2. nan] \n",
      "\n",
      "\n",
      "chameleon_medicine_stu \n",
      "2021 = [nan  2.  1.  0.] \n",
      "2022 = [ 1. nan  2.] \n",
      "\n",
      "\n",
      "treatment_end_stu \n",
      "2021 = [nan  1.  2.] \n",
      "2022 = [ 2.  1. nan] \n",
      "\n",
      "\n",
      "emergency_stu \n",
      "2021 = [nan  2.  1.] \n",
      "2022 = [ 2. nan] \n",
      "\n",
      "\n",
      "treatment_end_stu \n",
      "2021 = [nan  1.  2.] \n",
      "2022 = [ 2.  1. nan] \n",
      "\n",
      "\n"
     ]
    }
   ],
   "source": [
    "listy = ['with_who_m___1', 'with_who_m___2', 'with_who_m___4', 'with_who_m___7']\n",
    "list_A = ['chameleon_psychotherapy_stu', 'chameleon_psychotherapy_2_stu___5', 'chameleon_medicine_stu', 'chameleon_medicine_2_stu___3']\n",
    "list_B = ['chameleon_ideation_stu', 'emergency_stu', 'chameleon_medicine_stu' , 'treatment_end_stu', 'emergency_stu','treatment_end_stu']\n",
    "\n",
    "for meow in list_B:\n",
    "    x = intersection_2021[meow].unique()\n",
    "    x2 = intersection_2022[meow].unique()\n",
    "    #print(meow, '\\n',(x == [1.0, 2.0]), '\\n', (x == [0.0, 1.0]), '\\n')\n",
    "    print(meow, '\\n2021 =',x, '\\n2022 =',x2, '\\n\\n')\n"
   ]
  },
  {
   "cell_type": "code",
   "execution_count": null,
   "id": "c9fa0d8a-cb62-4f71-aa37-21262a5cd7c5",
   "metadata": {},
   "outputs": [],
   "source": []
  },
  {
   "cell_type": "code",
   "execution_count": null,
   "id": "2fe790b9-6d24-4cb6-9ca4-4b85a8c4637f",
   "metadata": {},
   "outputs": [],
   "source": []
  },
  {
   "cell_type": "code",
   "execution_count": 138,
   "id": "7bf89393-2049-4682-a9cd-638f802b137e",
   "metadata": {},
   "outputs": [
    {
     "data": {
      "text/plain": [
       "array([ 1., nan,  2.])"
      ]
     },
     "execution_count": 138,
     "metadata": {},
     "output_type": "execute_result"
    }
   ],
   "source": [
    "intersection_2022['opening_psychothe'].unique()"
   ]
  },
  {
   "cell_type": "code",
   "execution_count": 38,
   "id": "036c7694-efb2-4f12-8c8d-e39e03f16082",
   "metadata": {},
   "outputs": [
    {
     "data": {
      "text/html": [
       "<div>\n",
       "<style scoped>\n",
       "    .dataframe tbody tr th:only-of-type {\n",
       "        vertical-align: middle;\n",
       "    }\n",
       "\n",
       "    .dataframe tbody tr th {\n",
       "        vertical-align: top;\n",
       "    }\n",
       "\n",
       "    .dataframe thead th {\n",
       "        text-align: right;\n",
       "    }\n",
       "</style>\n",
       "<table border=\"1\" class=\"dataframe\">\n",
       "  <thead>\n",
       "    <tr style=\"text-align: right;\">\n",
       "      <th></th>\n",
       "      <th>id</th>\n",
       "      <th>group___1</th>\n",
       "      <th>group___2</th>\n",
       "      <th>group___3</th>\n",
       "    </tr>\n",
       "  </thead>\n",
       "  <tbody>\n",
       "    <tr>\n",
       "      <th>287</th>\n",
       "      <td>S7645</td>\n",
       "      <td>1.0</td>\n",
       "      <td>1.0</td>\n",
       "      <td>0.0</td>\n",
       "    </tr>\n",
       "    <tr>\n",
       "      <th>293</th>\n",
       "      <td>S7645</td>\n",
       "      <td>NaN</td>\n",
       "      <td>NaN</td>\n",
       "      <td>NaN</td>\n",
       "    </tr>\n",
       "    <tr>\n",
       "      <th>294</th>\n",
       "      <td>S7645</td>\n",
       "      <td>NaN</td>\n",
       "      <td>NaN</td>\n",
       "      <td>NaN</td>\n",
       "    </tr>\n",
       "    <tr>\n",
       "      <th>295</th>\n",
       "      <td>S7645</td>\n",
       "      <td>NaN</td>\n",
       "      <td>NaN</td>\n",
       "      <td>NaN</td>\n",
       "    </tr>\n",
       "  </tbody>\n",
       "</table>\n",
       "</div>"
      ],
      "text/plain": [
       "        id  group___1  group___2  group___3\n",
       "287  S7645        1.0        1.0        0.0\n",
       "293  S7645        NaN        NaN        NaN\n",
       "294  S7645        NaN        NaN        NaN\n",
       "295  S7645        NaN        NaN        NaN"
      ]
     },
     "execution_count": 38,
     "metadata": {},
     "output_type": "execute_result"
    }
   ],
   "source": [
    "intersection_2022[intersection_2022['id'] == 'S7645'][['id','group___1', 'group___2', 'group___3']]"
   ]
  },
  {
   "cell_type": "code",
   "execution_count": 39,
   "id": "fceb131f-93fd-4e8a-ab2e-d37a792cccfd",
   "metadata": {},
   "outputs": [
    {
     "data": {
      "text/html": [
       "<div>\n",
       "<style scoped>\n",
       "    .dataframe tbody tr th:only-of-type {\n",
       "        vertical-align: middle;\n",
       "    }\n",
       "\n",
       "    .dataframe tbody tr th {\n",
       "        vertical-align: top;\n",
       "    }\n",
       "\n",
       "    .dataframe thead th {\n",
       "        text-align: right;\n",
       "    }\n",
       "</style>\n",
       "<table border=\"1\" class=\"dataframe\">\n",
       "  <thead>\n",
       "    <tr style=\"text-align: right;\">\n",
       "      <th></th>\n",
       "      <th>id</th>\n",
       "      <th>group___1</th>\n",
       "      <th>group___2</th>\n",
       "      <th>group___3</th>\n",
       "    </tr>\n",
       "  </thead>\n",
       "  <tbody>\n",
       "    <tr>\n",
       "      <th>398</th>\n",
       "      <td>S7645</td>\n",
       "      <td>0.0</td>\n",
       "      <td>1.0</td>\n",
       "      <td>0.0</td>\n",
       "    </tr>\n",
       "    <tr>\n",
       "      <th>400</th>\n",
       "      <td>S7645</td>\n",
       "      <td>NaN</td>\n",
       "      <td>NaN</td>\n",
       "      <td>NaN</td>\n",
       "    </tr>\n",
       "    <tr>\n",
       "      <th>401</th>\n",
       "      <td>S7645</td>\n",
       "      <td>NaN</td>\n",
       "      <td>NaN</td>\n",
       "      <td>NaN</td>\n",
       "    </tr>\n",
       "    <tr>\n",
       "      <th>402</th>\n",
       "      <td>S7645</td>\n",
       "      <td>NaN</td>\n",
       "      <td>NaN</td>\n",
       "      <td>NaN</td>\n",
       "    </tr>\n",
       "  </tbody>\n",
       "</table>\n",
       "</div>"
      ],
      "text/plain": [
       "        id  group___1  group___2  group___3\n",
       "398  S7645        0.0        1.0        0.0\n",
       "400  S7645        NaN        NaN        NaN\n",
       "401  S7645        NaN        NaN        NaN\n",
       "402  S7645        NaN        NaN        NaN"
      ]
     },
     "execution_count": 39,
     "metadata": {},
     "output_type": "execute_result"
    }
   ],
   "source": [
    "intersection_2021[intersection_2021['id'] == 'S7645'][['id','group___1', 'group___2', 'group___3']]"
   ]
  },
  {
   "cell_type": "code",
   "execution_count": null,
   "id": "d9774ffb-e912-46be-8c07-0675ae79ca3e",
   "metadata": {},
   "outputs": [],
   "source": []
  }
 ],
 "metadata": {
  "kernelspec": {
   "display_name": "Python 3 (ipykernel)",
   "language": "python",
   "name": "python3"
  },
  "language_info": {
   "codemirror_mode": {
    "name": "ipython",
    "version": 3
   },
   "file_extension": ".py",
   "mimetype": "text/x-python",
   "name": "python",
   "nbconvert_exporter": "python",
   "pygments_lexer": "ipython3",
   "version": "3.9.7"
  }
 },
 "nbformat": 4,
 "nbformat_minor": 5
}
