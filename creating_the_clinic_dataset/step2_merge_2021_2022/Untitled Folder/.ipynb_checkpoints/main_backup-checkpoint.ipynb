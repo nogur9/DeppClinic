{
 "cells": [
  {
   "cell_type": "code",
   "execution_count": 1,
   "id": "35cab2af-f10c-4eeb-84a2-d33bd74e1984",
   "metadata": {},
   "outputs": [],
   "source": [
    "import pandas as pd\n",
    "import re\n",
    "import seaborn as sns\n",
    "import matplotlib.pyplot as plt\n",
    "sns.set(rc={'figure.figsize':(11,8)})\n",
    "sns.set(font_scale=1.2)\n",
    "import numpy as np\n",
    "from utils import fix_wrong_record_id, fill_id, format_datetime_columns, delete_redundant_columns\n",
    "from merge_datasets import split_to_intersection_and_union "
   ]
  },
  {
   "cell_type": "code",
   "execution_count": 2,
   "id": "80c245cb-3104-4047-8e90-9a4b4795adbb",
   "metadata": {},
   "outputs": [
    {
     "name": "stderr",
     "output_type": "stream",
     "text": [
      "C:\\Users\\nogur\\anaconda3\\lib\\site-packages\\IPython\\core\\interactiveshell.py:3444: DtypeWarning: Columns (44,51,53,99,325,366,439,453,459,464,466,501,507,512,514,521,530,532,569,571,580,599,766,771,777,781,786,788,793,795,804,806,826,843,845,854,873,883,918,941,979,991,1002,1040,1045,1047,1049,1051,1053,1054,1080,1096,1119,1122,1126,1127,1131,1132,1133,1134,1136,1137,1138,1141,1142,1144,1161,1183,1186,1237,1239,1259,1261,1262,1263,1269,1270,1271,1272,1384,1387,1389,1405,1408,1411,1415,1432,1434,1435,1436,1442,1443,1444,1445,1499,1568,1569,1572,1573) have mixed types.Specify dtype option on import or set low_memory=False.\n",
      "  exec(code_obj, self.user_global_ns, self.user_ns)\n",
      "C:\\Users\\nogur\\anaconda3\\lib\\site-packages\\IPython\\core\\interactiveshell.py:3444: DtypeWarning: Columns (48) have mixed types.Specify dtype option on import or set low_memory=False.\n",
      "  exec(code_obj, self.user_global_ns, self.user_ns)\n"
     ]
    }
   ],
   "source": [
    "df_2022 = pd.read_csv(\"../original_data/ImmiRiskIPT2022_DATA_2022-12-12_1719.csv\", na_values= ' ')\n",
    "df_2021 = pd.read_csv(r\"../original_data/Schneider Depression Clinic Database.csv\", na_values= ' ')"
   ]
  },
  {
   "cell_type": "markdown",
   "id": "d207fabe-1b75-4bf5-86dd-2c5f21ba1e40",
   "metadata": {},
   "source": [
    "## Handling 2022"
   ]
  },
  {
   "cell_type": "code",
   "execution_count": 3,
   "id": "4b2591f3-f99b-45e4-81ef-d2c6cce017a9",
   "metadata": {},
   "outputs": [],
   "source": [
    "df_2021_1 = fix_wrong_record_id(df_2021, year=2021)\n",
    "df_2022_1 = fix_wrong_record_id(df_2022, year=2022)"
   ]
  },
  {
   "cell_type": "code",
   "execution_count": 4,
   "id": "81d3bd56-f899-41b0-8451-55d01be2ca1d",
   "metadata": {},
   "outputs": [],
   "source": [
    "df_2022_2 = fill_id(df_2022_1)"
   ]
  },
  {
   "cell_type": "markdown",
   "id": "f2c6b4ea-15c1-4d62-9815-ddb48a3b9fe6",
   "metadata": {},
   "source": [
    "## preparing both datasets"
   ]
  },
  {
   "cell_type": "code",
   "execution_count": 5,
   "id": "55c1f7e9-fea1-4ee6-bb56-d9f1ad48a258",
   "metadata": {},
   "outputs": [],
   "source": [
    "df_2021_3 = format_datetime_columns(df_2021_1)\n",
    "df_2022_3 = format_datetime_columns(df_2022_2)"
   ]
  },
  {
   "cell_type": "code",
   "execution_count": 6,
   "id": "ca2f10dc-8da3-4a61-96a2-96c1e73687c9",
   "metadata": {},
   "outputs": [],
   "source": [
    "df_2021_4, df_2022_4 = delete_redundant_columns(df_2021 = df_2021_3, df_2022 = df_2022_3)"
   ]
  },
  {
   "cell_type": "code",
   "execution_count": null,
   "id": "fd1a3beb-b030-4c50-815b-c58b6a180603",
   "metadata": {},
   "outputs": [],
   "source": [
    "union, intersection_2021, intersection_2022 = split_to_intersection_and_union(df_2021 = df_2021_4, df_2022=df_2022_4)"
   ]
  },
  {
   "cell_type": "markdown",
   "id": "ddd775a6-de53-4abb-a2f5-a380d9db339b",
   "metadata": {},
   "source": [
    "## handling contradictions"
   ]
  },
  {
   "cell_type": "code",
   "execution_count": 9,
   "id": "84da8c2f-d807-43b4-8fe0-d0ad580bad1b",
   "metadata": {},
   "outputs": [
    {
     "name": "stdout",
     "output_type": "stream",
     "text": [
      "(1166, 1596)\n",
      "(1166, 1596)\n"
     ]
    }
   ],
   "source": [
    "print(df_2021_1.shape)\n",
    "print(df_2021_1.drop_duplicates(subset=['id', 'redcap_event_name']).shape)"
   ]
  },
  {
   "cell_type": "code",
   "execution_count": 13,
   "id": "c4a97254-3a21-4367-ba03-da434ac27344",
   "metadata": {},
   "outputs": [
    {
     "data": {
      "text/html": [
       "<div>\n",
       "<style scoped>\n",
       "    .dataframe tbody tr th:only-of-type {\n",
       "        vertical-align: middle;\n",
       "    }\n",
       "\n",
       "    .dataframe tbody tr th {\n",
       "        vertical-align: top;\n",
       "    }\n",
       "\n",
       "    .dataframe thead th {\n",
       "        text-align: right;\n",
       "    }\n",
       "</style>\n",
       "<table border=\"1\" class=\"dataframe\">\n",
       "  <thead>\n",
       "    <tr style=\"text-align: right;\">\n",
       "      <th></th>\n",
       "      <th>record_id</th>\n",
       "      <th>id</th>\n",
       "      <th>ID_Merge</th>\n",
       "      <th>ID_2</th>\n",
       "      <th>redcap_event_name</th>\n",
       "      <th>redcap_survey_identifier</th>\n",
       "      <th>opening_timestamp</th>\n",
       "      <th>er_num</th>\n",
       "      <th>complaint___1</th>\n",
       "      <th>complaint___2</th>\n",
       "      <th>...</th>\n",
       "      <th>chameleon_medicine_other_stu</th>\n",
       "      <th>chameleon_notes_stu</th>\n",
       "      <th>chameleon_complete_stu</th>\n",
       "      <th>num</th>\n",
       "      <th>time</th>\n",
       "      <th>a</th>\n",
       "      <th>time99</th>\n",
       "      <th>time99_cin</th>\n",
       "      <th>N99</th>\n",
       "      <th>SCARED_SUM</th>\n",
       "    </tr>\n",
       "  </thead>\n",
       "  <tbody>\n",
       "    <tr>\n",
       "      <th>965</th>\n",
       "      <td>284</td>\n",
       "      <td>N4125</td>\n",
       "      <td>NaN</td>\n",
       "      <td>NaN</td>\n",
       "      <td>intake_arm_1</td>\n",
       "      <td>NaN</td>\n",
       "      <td>08/06/2021</td>\n",
       "      <td>NaN</td>\n",
       "      <td>0.0</td>\n",
       "      <td>0.0</td>\n",
       "      <td>...</td>\n",
       "      <td>NaN</td>\n",
       "      <td>NaN</td>\n",
       "      <td>NaN</td>\n",
       "      <td>899</td>\n",
       "      <td>1</td>\n",
       "      <td>11</td>\n",
       "      <td>1.0</td>\n",
       "      <td>5.0</td>\n",
       "      <td>7</td>\n",
       "      <td>22.0</td>\n",
       "    </tr>\n",
       "    <tr>\n",
       "      <th>1064</th>\n",
       "      <td>328</td>\n",
       "      <td>N4125</td>\n",
       "      <td>NaN</td>\n",
       "      <td>NaN</td>\n",
       "      <td>intake_arm_1</td>\n",
       "      <td>NaN</td>\n",
       "      <td>NaN</td>\n",
       "      <td>333594125.0</td>\n",
       "      <td>0.0</td>\n",
       "      <td>0.0</td>\n",
       "      <td>...</td>\n",
       "      <td>NaN</td>\n",
       "      <td>NaN</td>\n",
       "      <td>NaN</td>\n",
       "      <td>1000</td>\n",
       "      <td>1</td>\n",
       "      <td>11</td>\n",
       "      <td>1.0</td>\n",
       "      <td>5.0</td>\n",
       "      <td>7</td>\n",
       "      <td>NaN</td>\n",
       "    </tr>\n",
       "  </tbody>\n",
       "</table>\n",
       "<p>2 rows × 1596 columns</p>\n",
       "</div>"
      ],
      "text/plain": [
       "      record_id     id ID_Merge ID_2 redcap_event_name  \\\n",
       "965         284  N4125      NaN  NaN      intake_arm_1   \n",
       "1064        328  N4125      NaN  NaN      intake_arm_1   \n",
       "\n",
       "      redcap_survey_identifier opening_timestamp       er_num  complaint___1  \\\n",
       "965                        NaN        08/06/2021          NaN            0.0   \n",
       "1064                       NaN               NaN  333594125.0            0.0   \n",
       "\n",
       "      complaint___2  ...  chameleon_medicine_other_stu  chameleon_notes_stu  \\\n",
       "965             0.0  ...                           NaN                  NaN   \n",
       "1064            0.0  ...                           NaN                  NaN   \n",
       "\n",
       "      chameleon_complete_stu   num time   a  time99  time99_cin  N99  \\\n",
       "965                      NaN   899    1  11     1.0         5.0    7   \n",
       "1064                     NaN  1000    1  11     1.0         5.0    7   \n",
       "\n",
       "      SCARED_SUM  \n",
       "965         22.0  \n",
       "1064         NaN  \n",
       "\n",
       "[2 rows x 1596 columns]"
      ]
     },
     "execution_count": 13,
     "metadata": {},
     "output_type": "execute_result"
    }
   ],
   "source": [
    "df_2021[(df_2021['id'] == 'N4125') & (df_2021['redcap_event_name'] == 'intake_arm_1')]"
   ]
  },
  {
   "cell_type": "code",
   "execution_count": 17,
   "id": "f5bbb87d-f031-49cd-afb9-b2e3782c9417",
   "metadata": {},
   "outputs": [
    {
     "name": "stdout",
     "output_type": "stream",
     "text": [
      "(1137, 1621)\n",
      "(268, 1621)\n"
     ]
    }
   ],
   "source": [
    "print(df_2022_1.shape)\n",
    "print(df_2022_1.drop_duplicates(subset=['id', 'redcap_event_name']).shape)"
   ]
  },
  {
   "cell_type": "code",
   "execution_count": null,
   "id": "f31ecf49-dc29-4c62-8a7b-192180c55bae",
   "metadata": {},
   "outputs": [],
   "source": []
  },
  {
   "cell_type": "code",
   "execution_count": 5,
   "id": "c093f762-1143-496c-af03-1a022a3bfc74",
   "metadata": {},
   "outputs": [],
   "source": [
    "df_2022['meow'] = df_2022['id'].astype(str) + df_2022['redcap_event_name'].astype(str)\n",
    "df_2021['meow'] = df_2021['id'].astype(str) + df_2021['redcap_event_name'].astype(str)"
   ]
  },
  {
   "cell_type": "code",
   "execution_count": 6,
   "id": "ee8a29b7-26f1-4b9e-81ee-47e586abba38",
   "metadata": {},
   "outputs": [],
   "source": [
    "df_2022_d = df_2022[df_2022['meow'].isin(df_2021['meow'])]\n",
    "df_2022_u = df_2022[~df_2022['meow'].isin(df_2021['meow'])]"
   ]
  },
  {
   "cell_type": "code",
   "execution_count": 7,
   "id": "7016b337-6ef5-4eb8-adb8-477843f5a0c8",
   "metadata": {},
   "outputs": [],
   "source": [
    "df_2021_d = df_2021[df_2021['meow'].isin(df_2022['meow'])]\n",
    "df_2021_u = df_2021[~df_2021['meow'].isin(df_2022['meow'])]"
   ]
  },
  {
   "cell_type": "code",
   "execution_count": 8,
   "id": "671be09a-9e4f-46fb-bc1c-36c6a9637cc6",
   "metadata": {},
   "outputs": [
    {
     "name": "stdout",
     "output_type": "stream",
     "text": [
      "(163, 3217)\n",
      "(142, 3217)\n"
     ]
    }
   ],
   "source": [
    "df_combined = pd.merge(df_2021_d, df_2022_d, on=['id', 'redcap_event_name'], how='outer')\n",
    "print(df_combined.shape)\n",
    "print(df_combined.drop_duplicates(subset=['id', 'redcap_event_name']).shape)"
   ]
  },
  {
   "cell_type": "code",
   "execution_count": 9,
   "id": "1454c189-ad5e-4885-aab6-4e9fbcba683c",
   "metadata": {},
   "outputs": [
    {
     "name": "stdout",
     "output_type": "stream",
     "text": [
      "(1137, 1622)\n",
      "(441, 1622)\n"
     ]
    }
   ],
   "source": [
    "print(df_2022.shape)\n",
    "print(df_2022.drop_duplicates(subset=['id', 'redcap_event_name']).shape)"
   ]
  },
  {
   "cell_type": "code",
   "execution_count": 10,
   "id": "f685bbd4-a7c1-413a-864c-902ae53557b7",
   "metadata": {},
   "outputs": [
    {
     "data": {
      "text/plain": [
       "0       G8120\n",
       "1         NaN\n",
       "2         NaN\n",
       "3       G8120\n",
       "4       M0527\n",
       "        ...  \n",
       "1133    Y9633\n",
       "1134      NaN\n",
       "1135    R5907\n",
       "1136      NaN\n",
       "1137    I1631\n",
       "Name: id, Length: 1137, dtype: object"
      ]
     },
     "execution_count": 10,
     "metadata": {},
     "output_type": "execute_result"
    }
   ],
   "source": [
    "df_2022['id']"
   ]
  },
  {
   "cell_type": "code",
   "execution_count": 24,
   "id": "3f8f0cec-b447-45db-84fe-a97ec8717f9d",
   "metadata": {},
   "outputs": [
    {
     "data": {
      "text/plain": [
       "(1167, 1597)"
      ]
     },
     "execution_count": 24,
     "metadata": {},
     "output_type": "execute_result"
    }
   ],
   "source": [
    "df_2021.shape"
   ]
  },
  {
   "cell_type": "code",
   "execution_count": 8,
   "id": "d661e17f-9750-40dd-a838-4b289667039d",
   "metadata": {},
   "outputs": [
    {
     "data": {
      "text/plain": [
       "(2162, 3215)"
      ]
     },
     "execution_count": 8,
     "metadata": {},
     "output_type": "execute_result"
    }
   ],
   "source": [
    "pd.merge(df_2021, df_2022, on=['id', 'redcap_event_name'], how='outer').shape"
   ]
  },
  {
   "cell_type": "code",
   "execution_count": null,
   "id": "cd7b4074-8f32-4e24-9d4b-ee0236b3e737",
   "metadata": {},
   "outputs": [],
   "source": []
  }
 ],
 "metadata": {
  "kernelspec": {
   "display_name": "Python 3 (ipykernel)",
   "language": "python",
   "name": "python3"
  },
  "language_info": {
   "codemirror_mode": {
    "name": "ipython",
    "version": 3
   },
   "file_extension": ".py",
   "mimetype": "text/x-python",
   "name": "python",
   "nbconvert_exporter": "python",
   "pygments_lexer": "ipython3",
   "version": "3.9.7"
  }
 },
 "nbformat": 4,
 "nbformat_minor": 5
}
