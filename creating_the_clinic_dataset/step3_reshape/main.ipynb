{
 "cells": [
  {
   "cell_type": "code",
   "execution_count": 1,
   "id": "a6a54af5-0084-440a-8012-940ef6e00e5e",
   "metadata": {},
   "outputs": [],
   "source": [
    "redcap_event_names = [\n",
    "    'intake_arm_1',\n",
    "    'control_6month_arm_1',\n",
    "    'pre_treatment_arm_1',\n",
    "    '5th_session_arm_1',\n",
    "    'post_treatment_arm_1',\n",
    "    'followup_3month_arm_1',\n",
    "    'control_3month_arm_1',\n",
    "    'control_5weeks_arm_1',\n",
    "    'corona_arm_1',\n",
    "    'er_arm_1',\n",
    "    'followup_12month_arm_1',\n",
    "    'er_one_week_arm_1',\n",
    "    'control_12month_arm_1', \n",
    "    'control_9month_arm_1'\n",
    "]"
   ]
  },
  {
   "cell_type": "code",
   "execution_count": 2,
   "id": "360f2fe5-84c8-4248-ba8b-8824791a5347",
   "metadata": {},
   "outputs": [],
   "source": [
    "import pandas as pd\n",
    "import re\n",
    "import seaborn as sns\n",
    "import matplotlib.pyplot as plt\n",
    "sns.set(rc={'figure.figsize':(11,8)})\n",
    "sns.set(font_scale=1.2)"
   ]
  },
  {
   "cell_type": "code",
   "execution_count": 3,
   "id": "be065faf-0ec6-4da9-9293-a22f0081e0fc",
   "metadata": {},
   "outputs": [
    {
     "name": "stderr",
     "output_type": "stream",
     "text": [
      "C:\\Users\\nogur\\anaconda3\\lib\\site-packages\\IPython\\core\\interactiveshell.py:3444: DtypeWarning: Columns (0,44,50,73,84,309,437,442,443,450,457,486,502,540,549,568,728,733,745,747,752,763,801,810,829,882,883,884,885,886,887,888,889,890,891,892,951,989,994,1000,1015,1045,1065,1066,1070,1071,1072,1073,1075,1076,1077,1080,1081,1098,1103,1119,1121,1172,1174,1193,1195,1196,1197,1203,1204,1205,1206,1358,1360,1361,1362,1368,1369,1370,1371,1486,1492,1493,1496,1497,1498,1499,1508,1516,1532,1535,1546) have mixed types.Specify dtype option on import or set low_memory=False.\n",
      "  exec(code_obj, self.user_global_ns, self.user_ns)\n"
     ]
    },
    {
     "data": {
      "text/plain": [
       "(1949, 1547)"
      ]
     },
     "execution_count": 3,
     "metadata": {},
     "output_type": "execute_result"
    }
   ],
   "source": [
    "df = pd.read_csv(r'../preprocessed_data/merged_2021_and_2022.csv', na_values= ' ')\n",
    "df.shape"
   ]
  },
  {
   "cell_type": "code",
   "execution_count": 4,
   "id": "f413d503-438b-49af-aa7c-aa6339eb75d2",
   "metadata": {},
   "outputs": [
    {
     "data": {
      "text/plain": [
       "420"
      ]
     },
     "execution_count": 4,
     "metadata": {},
     "output_type": "execute_result"
    }
   ],
   "source": [
    "df['id'].nunique()"
   ]
  },
  {
   "cell_type": "code",
   "execution_count": 5,
   "id": "e662ee9d-f130-46a0-8cac-29e03560feca",
   "metadata": {},
   "outputs": [],
   "source": [
    "id_column = 'id'\n",
    "cols = list(df.columns)\n",
    "cols.remove('redcap_event_name')\n",
    "limit = cols.index('age_child')\n",
    "duplicate_cols = list(cols[limit + 1:])"
   ]
  },
  {
   "cell_type": "markdown",
   "id": "aba2559d-3b7f-45eb-adfa-4eb3cd98e24a",
   "metadata": {},
   "source": [
    "# find duplicates\n"
   ]
  },
  {
   "cell_type": "code",
   "execution_count": 6,
   "id": "6fd23ca8-d9b0-49a8-8fa0-f7f4ad1be934",
   "metadata": {},
   "outputs": [],
   "source": [
    "redcap_event_dataframes = {}"
   ]
  },
  {
   "cell_type": "code",
   "execution_count": 7,
   "id": "3b43d4be-6bad-491a-993d-81117955aae7",
   "metadata": {},
   "outputs": [],
   "source": [
    "for event_name in redcap_event_names: \n",
    "    if event_name == 'intake_arm_1':\n",
    "        specific_event_dataframe = df[df['redcap_event_name'] == 'intake_arm_1'][cols]\n",
    "    else:    \n",
    "        specific_event_dataframe = df[df['redcap_event_name'] == event_name][[id_column] + duplicate_cols]\n",
    "    specific_event_dataframe = specific_event_dataframe.rename({i : f'{i}_{event_name}' for i in duplicate_cols}, axis=1)    \n",
    "    redcap_event_dataframes[event_name] = specific_event_dataframe\n"
   ]
  },
  {
   "cell_type": "code",
   "execution_count": 8,
   "id": "8f5d80be-93f8-4143-a5fe-1d2e43b2f8df",
   "metadata": {},
   "outputs": [
    {
     "name": "stdout",
     "output_type": "stream",
     "text": [
      "event_name = intake_arm_1 (408, 1546)\n",
      "event_name = control_6month_arm_1 (408, 3018)\n",
      "event_name = pre_treatment_arm_1 (419, 4490)\n",
      "event_name = 5th_session_arm_1 (420, 5962)\n",
      "event_name = post_treatment_arm_1 (420, 7434)\n",
      "event_name = followup_3month_arm_1 (420, 8906)\n",
      "event_name = control_3month_arm_1 (420, 10378)\n",
      "event_name = control_5weeks_arm_1 (420, 11850)\n",
      "event_name = corona_arm_1 (420, 13322)\n",
      "event_name = er_arm_1 (420, 14794)\n",
      "event_name = followup_12month_arm_1 (420, 16266)\n",
      "event_name = er_one_week_arm_1 (420, 17738)\n",
      "event_name = control_12month_arm_1 (420, 19210)\n",
      "event_name = control_9month_arm_1 (420, 20682)\n"
     ]
    }
   ],
   "source": [
    "#print('event_name = control_6month_arm_1', unified_dataframe.shape)\n",
    "#unified_dataframe = redcap_event_dataframes['intake_arm_1']\n",
    "\n",
    "for event_name in redcap_event_dataframes.keys():\n",
    "    if event_name == 'intake_arm_1':\n",
    "        unified_dataframe = redcap_event_dataframes['intake_arm_1']\n",
    "    else:\n",
    "        unified_dataframe = unified_dataframe.merge(redcap_event_dataframes[event_name], on = id_column, how='outer')\n",
    "    print('event_name =', event_name, unified_dataframe.shape)\n"
   ]
  },
  {
   "cell_type": "code",
   "execution_count": 9,
   "id": "e2581ffc-23e7-4dc6-9aac-2d9cfede2dc6",
   "metadata": {},
   "outputs": [
    {
     "data": {
      "text/plain": [
       "1472"
      ]
     },
     "execution_count": 9,
     "metadata": {},
     "output_type": "execute_result"
    }
   ],
   "source": [
    "len(duplicate_cols)"
   ]
  },
  {
   "cell_type": "code",
   "execution_count": 10,
   "id": "67ab89b8-2f69-4bc6-be35-099ea0419340",
   "metadata": {},
   "outputs": [
    {
     "data": {
      "text/plain": [
       "546"
      ]
     },
     "execution_count": 10,
     "metadata": {},
     "output_type": "execute_result"
    }
   ],
   "source": [
    "df.record_id.nunique()"
   ]
  },
  {
   "cell_type": "code",
   "execution_count": 11,
   "id": "bd4e4112",
   "metadata": {},
   "outputs": [],
   "source": [
    "unified_dataframe.to_csv(\"../preprocessed_data/Depp_Clinic_data_reshaped.csv\", index=False)"
   ]
  },
  {
   "cell_type": "code",
   "execution_count": null,
   "id": "f953059f-a4af-4e55-9bcd-3055be40dcb8",
   "metadata": {},
   "outputs": [],
   "source": []
  },
  {
   "cell_type": "code",
   "execution_count": null,
   "id": "e386cab9-d598-4f99-bc40-fa5b7593ac4d",
   "metadata": {},
   "outputs": [],
   "source": []
  },
  {
   "cell_type": "code",
   "execution_count": null,
   "id": "f9cd90ff-67a1-4345-bc1f-af928ec713c3",
   "metadata": {},
   "outputs": [],
   "source": []
  },
  {
   "cell_type": "code",
   "execution_count": null,
   "id": "07d5b8cf-8b5d-421a-a905-2dffc62a58af",
   "metadata": {},
   "outputs": [],
   "source": []
  }
 ],
 "metadata": {
  "kernelspec": {
   "display_name": "Python 3 (ipykernel)",
   "language": "python",
   "name": "python3"
  },
  "language_info": {
   "codemirror_mode": {
    "name": "ipython",
    "version": 3
   },
   "file_extension": ".py",
   "mimetype": "text/x-python",
   "name": "python",
   "nbconvert_exporter": "python",
   "pygments_lexer": "ipython3",
   "version": "3.9.7"
  }
 },
 "nbformat": 4,
 "nbformat_minor": 5
}
