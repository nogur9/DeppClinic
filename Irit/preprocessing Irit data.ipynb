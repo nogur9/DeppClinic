{
 "cells": [
  {
   "cell_type": "code",
   "execution_count": 1,
   "id": "906404ef",
   "metadata": {},
   "outputs": [],
   "source": [
    "import sys\n",
    "sys.path.append(r\"../\")\n",
    "sys.path.append(r\"../../utils\")\n",
    "import pandas as pd\n",
    "from psychodiagnostic_computations import compute_swan_scores, compute_sdq_scores, compute_cbcl_scores\n",
    "from utils_Irit import calc_t_scores\n",
    "from Variables import rename_align, Irit_columns_to_drop\n",
    "import os\n",
    "import numpy as np"
   ]
  },
  {
   "cell_type": "code",
   "execution_count": 2,
   "id": "e40baa42",
   "metadata": {},
   "outputs": [],
   "source": [
    "df = pd.read_excel(r\"data/ADHD.xlsx\")\n",
    "df = df.drop(Irit_columns_to_drop, axis=1)\n",
    "\n",
    "rename_align_r = {j: i for i, j in rename_align.items()}\n",
    "df = df.rename(rename_align_r, axis=1)\n"
   ]
  },
  {
   "cell_type": "code",
   "execution_count": 3,
   "id": "6fd5664e",
   "metadata": {},
   "outputs": [],
   "source": [
    "df, params_swan = compute_swan_scores(df)\n",
    "df, params_cbcl = compute_cbcl_scores(df)\n",
    "\n",
    "# df, param_t_score = calc_t_scores(df)\n"
   ]
  },
  {
   "cell_type": "code",
   "execution_count": 4,
   "id": "71b1e222",
   "metadata": {},
   "outputs": [],
   "source": [
    "swan_params_to_remove_if_missing = [i for i in params_swan if i != 'ratio_of_missing_swan_values']\n",
    "cbcl_params_to_remove_if_missing = [i for i in params_cbcl if i != 'ratio_of_missing_cbcl_values']\n",
    "cbcl_params_to_remove_if_missing = cbcl_params_to_remove_if_missing # + param_t_score"
   ]
  },
  {
   "cell_type": "code",
   "execution_count": null,
   "id": "23a5e12a",
   "metadata": {},
   "outputs": [],
   "source": []
  },
  {
   "cell_type": "code",
   "execution_count": 5,
   "id": "7359162a",
   "metadata": {},
   "outputs": [],
   "source": [
    "df['suicidal_ideation'] = df['t1_p_rawscore_cbcl_91'] > 0\n",
    "df['suicidal_behavior'] = df['t1_p_rawscore_cbcl_18'] > 0\n",
    "\n",
    "df.loc[df['ratio_of_missing_swan_values'] > 0.5, swan_params_to_remove_if_missing] = np.nan\n",
    "df.loc[df['ratio_of_missing_cbcl_values'] > 0.5, cbcl_params_to_remove_if_missing] = np.nan\n"
   ]
  },
  {
   "cell_type": "code",
   "execution_count": 6,
   "id": "c81c798b",
   "metadata": {},
   "outputs": [],
   "source": [
    "\n",
    "directory = \"data/preprocessed\"\n",
    "if not os.path.exists(directory):\n",
    "    os.makedirs(directory)\n",
    "\n",
    "filepath = os.path.join(directory, \"ADHD.csv\")\n",
    "df.to_csv(filepath, index=False)"
   ]
  },
  {
   "cell_type": "code",
   "execution_count": null,
   "id": "8b8f65b5",
   "metadata": {},
   "outputs": [],
   "source": []
  }
 ],
 "metadata": {
  "kernelspec": {
   "display_name": "DeppClinic",
   "language": "python",
   "name": "deppclinic"
  },
  "language_info": {
   "codemirror_mode": {
    "name": "ipython",
    "version": 3
   },
   "file_extension": ".py",
   "mimetype": "text/x-python",
   "name": "python",
   "nbconvert_exporter": "python",
   "pygments_lexer": "ipython3",
   "version": "3.11.4"
  }
 },
 "nbformat": 4,
 "nbformat_minor": 5
}
