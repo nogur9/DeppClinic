{
 "cells": [
  {
   "cell_type": "markdown",
   "id": "e73d51f9",
   "metadata": {},
   "source": [
    "# Irit's data\n",
    "### 1. age & gender\n",
    "### 2. swan:\n",
    "##### - questions\n",
    "##### - two factors\n",
    "##### - imputation\n",
    "##### - scoring \n",
    "##### - cutoffs\n",
    "### 3. depp\n",
    "##### questions\n",
    "##### imputations\n",
    "##### scoring\n",
    "##### cutoff ?\n",
    "#### 4. Suicide parameters\n",
    "##### Suicide Ideation question\n",
    "###### Suicide Ideation binar parameter\n",
    "##### Suicide behavior question\n",
    "###### Suicide behavior binar parameter\n"
   ]
  },
  {
   "cell_type": "code",
   "execution_count": 1,
   "id": "df237034",
   "metadata": {},
   "outputs": [],
   "source": [
    "import pandas as pd\n",
    "from Variables import swan_m, rename_align, info_columns, compute_swan_scores \n",
    "df = pd.read_excel(r\"data/ADHD.xlsx\")\n",
    "rename_align_r = {j:i for i, j in rename_align.items()}\n",
    "df = df.rename(rename_align_r, axis=1)"
   ]
  },
  {
   "cell_type": "code",
   "execution_count": 2,
   "id": "d54ee930",
   "metadata": {},
   "outputs": [],
   "source": [
    "df, params = compute_swan_scores(df)"
   ]
  },
  {
   "cell_type": "code",
   "execution_count": null,
   "id": "0a09be74",
   "metadata": {},
   "outputs": [],
   "source": [
    "df[CBCL_anx].sum()\n",
    "df[CBCL_with].sum() \n",
    "\n",
    "cbcl_int_rawscore = CBCL_anx + CBCL_with\n",
    "\n",
    "cbcl_int_tscore = ?"
   ]
  },
  {
   "cell_type": "code",
   "execution_count": null,
   "id": "5f3a67dd",
   "metadata": {},
   "outputs": [],
   "source": [
    "#df_original = df_original[info_columns + swan_m].rename(rename_align, axis=1)"
   ]
  },
  {
   "cell_type": "code",
   "execution_count": null,
   "id": "f6b21109",
   "metadata": {},
   "outputs": [],
   "source": [
    "df['suicidal_behavior'] = df['t1_p_rawscore_cbcl_18'] > 0\n",
    "\n",
    "df['suicidal_ideation'] = df['t1_p_rawscore_cbcl_91'] > 0\n",
    "\n"
   ]
  },
  {
   "cell_type": "code",
   "execution_count": null,
   "id": "d79440f7",
   "metadata": {},
   "outputs": [],
   "source": [
    "df.loc[df['ratio_of_missing_swan_values'] > 0.5, ['swan_score', 'swan_sum']] = np.nan\n",
    "df.loc[df['ratio_of_missing_cbcl_values'] > 0.5, [cbcl_int_rawscore cbcl_int_tscore CBCL_anx + CBCL_with]] = np.nan"
   ]
  }
 ],
 "metadata": {
  "kernelspec": {
   "display_name": "DeppClinic",
   "language": "python",
   "name": "deppclinic"
  },
  "language_info": {
   "codemirror_mode": {
    "name": "ipython",
    "version": 3
   },
   "file_extension": ".py",
   "mimetype": "text/x-python",
   "name": "python",
   "nbconvert_exporter": "python",
   "pygments_lexer": "ipython3",
   "version": "3.9.7"
  }
 },
 "nbformat": 4,
 "nbformat_minor": 5
}
