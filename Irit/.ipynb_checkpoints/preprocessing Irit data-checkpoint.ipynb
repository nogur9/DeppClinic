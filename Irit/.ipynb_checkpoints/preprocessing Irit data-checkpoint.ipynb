{
 "cells": [
  {
   "cell_type": "markdown",
   "id": "c5c548b6",
   "metadata": {},
   "source": [
    "# Irit's data\n",
    "### 1. age & gender\n",
    "### 2. swan:\n",
    "##### - questions\n",
    "##### - two factors\n",
    "##### - imputation\n",
    "##### - scoring \n",
    "##### - cutoffs\n",
    "### 3. depp\n",
    "##### questions\n",
    "##### imputations\n",
    "##### scoring\n",
    "##### cutoff ?\n",
    "#### 4. Suicide parameters\n",
    "##### Suicide Ideation question\n",
    "###### Suicide Ideation binar parameter\n",
    "##### Suicide behavior question\n",
    "###### Suicide behavior binar parameter\n"
   ]
  },
  {
   "cell_type": "code",
   "execution_count": 1,
   "id": "954d1b6d",
   "metadata": {},
   "outputs": [],
   "source": [
    "import pandas as pd\n",
    "from Variables import swan_m, rename_align, info_columns, compute_swan_scores, compute_CBCL_scores, get_swan_threshold\n",
    "df = pd.read_excel(r\"data/ADHD.xlsx\")\n",
    "rename_align_r = {j:i for i, j in rename_align.items()}\n",
    "df = df.rename(rename_align_r, axis=1)"
   ]
  },
  {
   "cell_type": "code",
   "execution_count": 2,
   "id": "50fd6fa0",
   "metadata": {},
   "outputs": [],
   "source": [
    "df, params_swan = compute_swan_scores(df)\n",
    "df, params_cbcl = compute_CBCL_scores(df)"
   ]
  },
  {
   "cell_type": "code",
   "execution_count": null,
   "id": "100f200f",
   "metadata": {},
   "outputs": [],
   "source": [
    "df[\"swan_attention_binary\"] = df.apply(get_swan_threshold, args=\"swan_attention\")\n",
    "df[\"swan_impulsivity_binary\"] = df.apply(get_swan_threshold, args=\"swan_impulsivity\")"
   ]
  },
  {
   "cell_type": "code",
   "execution_count": null,
   "id": "4e125b46",
   "metadata": {},
   "outputs": [],
   "source": [
    "df['suicidal_behavior'] = df['t1_p_rawscore_cbcl_18'] > 0\n",
    "df['suicidal_ideation'] = df['t1_p_rawscore_cbcl_91'] > 0"
   ]
  },
  {
   "cell_type": "code",
   "execution_count": null,
   "id": "352ea28d",
   "metadata": {},
   "outputs": [],
   "source": [
    "df.loc[df['ratio_of_missing_swan_values'] > 0.5, ['swan_score', 'swan_sum']] = np.nan\n",
    "df.loc[df['ratio_of_missing_cbcl_values'] > 0.5, [\"cbcl_int_rawscore\", \"cbcl_int_tscore\"]] = np.nan"
   ]
  }
 ],
 "metadata": {
  "kernelspec": {
   "display_name": "DeppClinic",
   "language": "python",
   "name": "deppclinic"
  },
  "language_info": {
   "codemirror_mode": {
    "name": "ipython",
    "version": 3
   },
   "file_extension": ".py",
   "mimetype": "text/x-python",
   "name": "python",
   "nbconvert_exporter": "python",
   "pygments_lexer": "ipython3",
   "version": "3.9.7"
  }
 },
 "nbformat": 4,
 "nbformat_minor": 5
}
