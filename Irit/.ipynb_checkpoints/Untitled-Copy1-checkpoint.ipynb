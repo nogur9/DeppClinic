{
 "cells": [
  {
   "cell_type": "code",
   "execution_count": 1,
   "id": "63f664e8",
   "metadata": {},
   "outputs": [],
   "source": [
    "import pandas as pd"
   ]
  },
  {
   "cell_type": "code",
   "execution_count": 2,
   "id": "fe355009",
   "metadata": {},
   "outputs": [],
   "source": [
    "df_adhd = pd.read_excel(r\"data/ADHD.xlsx\")\n",
    "df_original = pd.read_csv(r\"../DeppClinic_prediction_task.csv\")"
   ]
  },
  {
   "cell_type": "code",
   "execution_count": 3,
   "id": "bfd0f3a1",
   "metadata": {},
   "outputs": [],
   "source": [
    "rename_align = {'gender': 'sex.1',\n",
    "'age_child_pre': 'age',\n",
    " 'parent_religion_m': 'religion',\n",
    " \n",
    " \n",
    " \"swan_1_m\": 't1_p_swan_1',\n",
    " \"swan_2_m\": 't1_p_swan_2',\n",
    " \"swan_3_m\": 't1_p_swan_3',\n",
    " \"swan_4_m\": 't1_p_swan_4',\n",
    " \"swan_5_m\": 't1_p_swan_5',\n",
    " \"swan_6_m\": 't1_p_swan_6',\n",
    " \"swan_7_m\": 't1_p_swan_7',\n",
    " \"swan_8_m\": 't1_p_swan_8',\n",
    " \"swan_9_m\": 't1_p_swan_9',\n",
    " \"swan_10_m\": 't1_p_swan_10',\n",
    " \"swan_11_m\": 't1_p_swan_11',\n",
    " \"swan_12_m\": 't1_p_swan_12',\n",
    " \"swan_13_m\": 't1_p_swan_13',\n",
    " \"swan_14_m\": 't1_p_swan_14', \n",
    " \"swan_15_m\": 't1_p_swan_15', \n",
    " \"swan_16_m\": 't1_p_swan_16',\n",
    " \"swan_17_m\": 't1_p_swan_17',\n",
    " \"swan_18_m\": 't1_p_swan_18', \n",
    "\n",
    " \"swan_attention\": 't1_p_swan_sum1-9',\n",
    " \"swan_impulsivity\": 't1_p_swan_sum10-18'\n",
    "}"
   ]
  },
  {
   "cell_type": "code",
   "execution_count": 4,
   "id": "b815425e",
   "metadata": {},
   "outputs": [],
   "source": [
    "info_columns = ['gender', 'age_child_pre']\n",
    "\n",
    "swan_m = [\"swan_1_m\", \"swan_2_m\", \"swan_3_m\", \"swan_4_m\", \"swan_5_m\", \"swan_6_m\", \"swan_7_m\",\n",
    "          \"swan_8_m\", \"swan_9_m\", \"swan_10_m\", \"swan_11_m\", \"swan_12_m\", \"swan_13_m\",\n",
    "          \"swan_14_m\", \"swan_15_m\", \"swan_16_m\", \"swan_17_m\", \"swan_18_m\", \n",
    "          \"swan_attention\", \"swan_impulsivity\", \"ratio_of_missing_swan_values\", \"swan_score\", \"swan_sum\"]\n"
   ]
  },
  {
   "cell_type": "code",
   "execution_count": 6,
   "id": "afc5cd60",
   "metadata": {},
   "outputs": [],
   "source": [
    "df_original = df_original[info_columns + swan_m].rename(rename_align, axis=1)"
   ]
  },
  {
   "cell_type": "code",
   "execution_count": 9,
   "id": "9e9cbd80",
   "metadata": {},
   "outputs": [],
   "source": [
    "irit_df = pd.concat([df_adhd, df_original])"
   ]
  },
  {
   "cell_type": "code",
   "execution_count": 10,
   "id": "ee52982e",
   "metadata": {},
   "outputs": [],
   "source": [
    "irit_df.to_csv(r\"data/combained_df.csv\")"
   ]
  },
  {
   "cell_type": "code",
   "execution_count": 4,
   "id": "0dedf2a7",
   "metadata": {},
   "outputs": [],
   "source": [
    "# to Irit data - add swan scoring & imputation\n",
    "# add t1 factorzation, imputatipn, sum & clinical threshold\n",
    "\n",
    "# for factoring look at the other excel table\n",
    "# for threshold - look at paper table"
   ]
  },
  {
   "cell_type": "code",
   "execution_count": null,
   "id": "6da538d2",
   "metadata": {},
   "outputs": [],
   "source": []
  },
  {
   "cell_type": "code",
   "execution_count": null,
   "id": "1ef5dd3f",
   "metadata": {},
   "outputs": [],
   "source": []
  },
  {
   "cell_type": "code",
   "execution_count": null,
   "id": "8e306276",
   "metadata": {},
   "outputs": [],
   "source": [
    "cbcl = ['t1_p_rawscore_cbcl_5','t1_p_rawscore_cbcl_14', 't1_p_rawscore_cbcl_29', 't1_p_rawscore_cbcl_30', \n",
    "        't1_p_rawscore_cbcl_31\tt1_p_rawscore_cbcl_32\tt1_p_rawscore_cbcl_33\tt1_p_rawscore_cbcl_35\tt1_p_rawscore_cbcl_42\tt1_p_rawscore_cbcl_45\tt1_p_rawscore_cbcl_50\tt1_p_rawscore_cbcl_52\tt1_p_rawscore_cbcl_65\tt1_p_rawscore_cbcl_69\tt1_p_rawscore_cbcl_71\tt1_p_rawscore_cbcl_75\tt1_p_rawscore_cbcl_91\tt1_p_rawscore_cbcl_102\tt1_p_rawscore_cbcl_103\tt1_p_rawscore_cbcl_111\tt1_p_rawscore_cbcl_112'\n",
    "       ]\n",
    "\n"
   ]
  }
 ],
 "metadata": {
  "kernelspec": {
   "display_name": "Python 3 (ipykernel)",
   "language": "python",
   "name": "python3"
  },
  "language_info": {
   "codemirror_mode": {
    "name": "ipython",
    "version": 3
   },
   "file_extension": ".py",
   "mimetype": "text/x-python",
   "name": "python",
   "nbconvert_exporter": "python",
   "pygments_lexer": "ipython3",
   "version": "3.9.7"
  }
 },
 "nbformat": 4,
 "nbformat_minor": 5
}
