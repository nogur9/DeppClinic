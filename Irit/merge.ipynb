{
 "cells": [
  {
   "cell_type": "code",
   "execution_count": 1,
   "id": "39788213",
   "metadata": {},
   "outputs": [],
   "source": [
    "import pandas as pd\n",
    "import os"
   ]
  },
  {
   "cell_type": "code",
   "execution_count": 2,
   "id": "5b2b5d4f",
   "metadata": {},
   "outputs": [],
   "source": [
    "ADHD_df = pd.read_csv(\"data/preprocessed/ADHD.csv\")\n",
    "DeppClinic_df = pd.read_csv(\"data/preprocessed/DeppClinic.csv\")"
   ]
  },
  {
   "cell_type": "code",
   "execution_count": 3,
   "id": "3b2dbdbd",
   "metadata": {},
   "outputs": [],
   "source": [
    "ADHD_df['source'] = 'ADHD'\n",
    "DeppClinic_df['source'] = 'DeppClinic'"
   ]
  },
  {
   "cell_type": "code",
   "execution_count": 4,
   "id": "6348dcd1",
   "metadata": {},
   "outputs": [],
   "source": [
    "# ID  gender\tredcap_event_name\tage_child_pre\n",
    "# familynumber\tsex.1\tmarital_status\tparent_religion_m\tmother_age\tfather_age\n"
   ]
  },
  {
   "cell_type": "code",
   "execution_count": 5,
   "id": "f7babaf9",
   "metadata": {},
   "outputs": [],
   "source": [
    "df = pd.concat([DeppClinic_df, ADHD_df])"
   ]
  },
  {
   "cell_type": "code",
   "execution_count": 6,
   "id": "40cb034d",
   "metadata": {},
   "outputs": [],
   "source": [
    "\n",
    "directory = \"data/preprocessed\"\n",
    "if not os.path.exists(directory):\n",
    "    os.makedirs(directory)\n",
    "\n",
    "filepath = os.path.join(directory, \"data.csv\")\n",
    "df.to_csv(filepath, index=False)"
   ]
  },
  {
   "cell_type": "code",
   "execution_count": null,
   "id": "bb13c97e",
   "metadata": {},
   "outputs": [],
   "source": []
  }
 ],
 "metadata": {
  "kernelspec": {
   "display_name": "DeppClinic",
   "language": "python",
   "name": "deppclinic"
  },
  "language_info": {
   "codemirror_mode": {
    "name": "ipython",
    "version": 3
   },
   "file_extension": ".py",
   "mimetype": "text/x-python",
   "name": "python",
   "nbconvert_exporter": "python",
   "pygments_lexer": "ipython3",
   "version": "3.11.4"
  }
 },
 "nbformat": 4,
 "nbformat_minor": 5
}
