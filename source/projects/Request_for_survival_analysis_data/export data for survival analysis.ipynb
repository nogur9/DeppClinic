{
 "cells": [
  {
   "cell_type": "code",
   "execution_count": 1,
   "id": "cadaf4fd",
   "metadata": {},
   "outputs": [],
   "source": [
    "import sys\n",
    "sys.path.append(r\"../\")\n",
    "#sys.path.append(r\"../utils/data_manipulation\")\n",
    "import pandas as pd\n",
    "from utils.data_manipulation.data_imputation import impute_from_column"
   ]
  },
  {
   "cell_type": "code",
   "execution_count": 2,
   "id": "2e8a6932",
   "metadata": {},
   "outputs": [],
   "source": [
    "redcap_event_names = [\n",
    "#    'intake_arm_1',\n",
    "    'control_6month_arm_1',\n",
    "    'pre_treatment_arm_1',\n",
    "    '5th_session_arm_1',\n",
    "    'post_treatment_arm_1',\n",
    "    'followup_3month_arm_1',\n",
    "    'control_3month_arm_1',\n",
    "    'control_5weeks_arm_1',\n",
    "#    'corona_arm_1',\n",
    "#    'er_arm_1',\n",
    "    'followup_12month_arm_1',\n",
    "    'er_one_week_arm_1',\n",
    "    'control_12month_arm_1', \n",
    "    'control_9month_arm_1'\n",
    "]\n",
    "\n",
    "sci_af_ca = [\n",
    "    'sci_af_ca_1',\n",
    "    'sci_af_ca_2',\n",
    "    'sci_af_ca_3',\n",
    "    'sci_af_ca_4',\n",
    "    'sci_af_ca_5',\n",
    "    'sci_af_ca_6',\n",
    "    'sci_af_ca_7',\n",
    "    'sci_af_ca_8',\n",
    "    'sci_af_ca_9',\n",
    "    'sci_af_ca_10',\n",
    "    'sci_af_ca_11',\n",
    "    'sci_af_ca_12',\n",
    "    'sci_af_ca_13',\n",
    "    'sci_af_ca_14',\n",
    "    'sci_af_ca_15',\n",
    "    'sci_af_ca_16',\n",
    "    'sci_af_ca_17',\n",
    "    'sci_af_ca_18',\n",
    "    'sci_af_ca_19',\n",
    "    'sci_af_ca_20',\n",
    "    'sci_af_ca_21',\n",
    "    'sci_af_ca_22',\n",
    "    'sci_af_ca_23',\n",
    "    'sci_af_ca_24',\n",
    "    'sci_af_ca_25',\n",
    "    'sci_af_ca_26',\n",
    "    'sci_af_ca_27',\n",
    "    'sci_af_ca_28',\n",
    "    'sci_af_ca_29',\n",
    "    'sci_af_ca_30',\n",
    "    'sci_af_ca_31',\n",
    "    'sci_af_ca_32',\n",
    "    'sci_af_ca_33',\n",
    "    'sci_af_ca_34',\n",
    "    'sci_af_ca_35',\n",
    "    'sci_af_ca_36',\n",
    "    'sci_af_ca_37',\n",
    "    'sci_af_ca_38',\n",
    "    'sci_af_ca_39',\n",
    "    'sci_af_ca_40'\n",
    "]\n"
   ]
  },
  {
   "cell_type": "code",
   "execution_count": 3,
   "id": "96ed8865",
   "metadata": {
    "scrolled": true
   },
   "outputs": [
    {
     "name": "stderr",
     "output_type": "stream",
     "text": [
      "C:\\Users\\nogur\\AppData\\Local\\Temp\\ipykernel_8088\\2596220389.py:1: DtypeWarning: Columns (0,2,11,12,27,36,43,49,69,72,83,92,108,137,154,180,221,263,287,300,308,348,370,381,418,436,441,442,456,472,474,475,478,483,485,490,492,501,502,521,537,539,548,567,576,610,632,669,680,690,727,732,733,739,744,749,754,755,757,758,761,766,768,770,773,775,784,785,804,820,822,831,850,859,893,915,952,963,973,1010,1015,1016,1022,1027,1032,1037,1038,1040,1041,1044,1058,1067,1082,1103,1105,1125,1141,1146,1162,1164,1213,1215,1217,1270,1272,1273,1274,1280,1281,1282,1283,1336,1393,1396,1397,1412,1414,1416,1419,1435,1437,1438,1439,1445,1446,1447,1448,1501,1558,1561,1562,1568,1572,1584,1591,1592,1623,1658,1677,1687,1704,1730,1771,1813,1837,1850,1920,1931,1999,2006,2022,2024,2025,2071,2126,2160,2182,2219,2230,2283,2289,2305,2307,2308,2354,2409,2443,2465,2502,2513,2566,2588,2590,2591,2594,2634,2675,2691,2696,2714,2775,2779,2886,2943,2946,2947,2962,2964,2966,2969,3051,3108,3111,3112,3113,3118,3122,3124,3125,3126,3131,3134,3135,3138,3141,3142,3143,3173,3208,3227,3237,3254,3280,3321,3363,3387,3400,3470,3481,3542,3556,3572,3574,3575,3583,3592,3621,3676,3710,3732,3769,3780,3855,3857,3858,3875,3904,3959,3993,4015,4052,4063,4138,4140,4184,4225,4436,4723,4758,4777,4787,4804,4830,4871,4913,4937,4950,5020,5031,5068,5081,5099,5106,5122,5124,5125,5171,5226,5260,5282,5319,5330,5340,5405,5407,5408,5454,5509,5543,5565,5602,5613,5622,5623,5688,5690,5691,5734,5738,5753,5775,5986,6208,6211,6212,6213,6218,6219,6222,6226,6234,6235,6241,6242,6273,6308,6327,6337,6354,6380,6421,6463,6487,6500,6570,6581,6618,6631,6649,6656,6672,6674,6675,6721,6776,6810,6832,6869,6880,6890,6955,6957,6958,7004,7093,7115,7152,7163,7173,7238,7240,7241,7284,7303,7325,7536,7701,7758,7761,7762,7763,7768,7776,7784,7791,7792,7823,7858,7877,7887,7904,7930,7971,8013,8037,8050,8120,8131,8199,8206,8222,8224,8225,8271,8326,8360,8382,8419,8430,8505,8507,8508,8554,8609,8643,8665,8702,8713,8788,8790,8791,8834,8875,9086,9143,9146,9147,9162,9164,9166,9169,9251,9308,9311,9312,9313,9318,9320,9322,9324,9334,9341,9342,9373,9408,9427,9437,9454,9480,9521,9563,9587,9600,9670,9681,9749,9756,9772,9774,9775,9821,9876,9910,9932,9969,9980,10033,10039,10055,10057,10058,10104,10159,10193,10215,10252,10263,10316,10338,10340,10341,10344,10384,10425,10441,10464,10523,10636,10693,10696,10697,10712,10714,10716,10719,10801,10858,10861,10862,10863,10868,10869,10870,10872,10873,10874,10875,10876,10884,10885,10891,10892,10893,10923,10958,10977,10987,11004,11030,11071,11113,11137,11150,11220,11231,11299,11306,11322,11324,11325,11371,11426,11460,11482,11519,11530,11583,11589,11594,11599,11604,11605,11607,11608,11654,11709,11743,11753,11754,11755,11756,11757,11758,11759,11760,11761,11762,11763,11765,11802,11813,11866,11872,11877,11888,11890,11891,11934,11975,11991,11996,12014,12186,12243,12246,12247,12262,12264,12266,12269,12351,12408,12411,12412,12413,12418,12419,12420,12422,12423,12424,12434,12441,12442,12443,12459,12462,12473,14042,14130,14422,14424,14425,14471,14683,14704,14705,14707,14708,14754,14966,14987,14988,14990,14991,14993,14994,15017,15032,15053,15055,15058,15059,15063,15064,15065,15066,15068,15069,15070,15073,15074,15075,15114,15142,15144,15146,15148,15150,15153,15186,15187,15200,15202,15205,15207,15219,15220,15223,15224,15230,15231,15232,15233,15286,15343,15345,15346,15347,15362,15364,15366,15369,15385,15387,15388,15389,15395,15396,15397,15451,15508,15511,15512,15518,15519,15522,15534,15541,15542,17058,17061,17062,17068,17069,17070,17072,17084,17091,17092,17123,18708,18727,18737,18780,19049,19072,19074,19075,19121,19333,19355,19358,19404,19638,19640,19993,19996,20012,20014,20016,20019,20101,20158,20161,20162,20168,20172,20184,20191,20192,20223,20258,20277,20287,20330,20599,20622,20624,21543,21546,21562,21564,21566,21569,21651,21708,21711,21712,21718,21722,21734,21741,21742) have mixed types. Specify dtype option on import or set low_memory=False.\n",
      "  df = pd.read_csv(r\"..\\creating_the_clinic_dataset\\preprocessed_data\\Depp_Clinic_data_reshaped.csv\")\n"
     ]
    }
   ],
   "source": [
    "df = pd.read_csv(r\"..\\creating_the_clinic_dataset\\preprocessed_data\\Depp_Clinic_data_reshaped.csv\")\n",
    "\n",
    "columns = [\"id\", \"age_child_pre\"]"
   ]
  },
  {
   "cell_type": "markdown",
   "id": "4dde63fc",
   "metadata": {},
   "source": [
    "## Intake time"
   ]
  },
  {
   "cell_type": "code",
   "execution_count": 4,
   "id": "af0dc724",
   "metadata": {},
   "outputs": [],
   "source": [
    "df[\"intake_date\"] =  pd.to_datetime(df[\"sciafca_timestamp_intake_arm_1\"], errors='coerce')\n",
    "columns.append(\"intake_date\")"
   ]
  },
  {
   "cell_type": "markdown",
   "id": "d407cdd8",
   "metadata": {},
   "source": [
    "## ER time"
   ]
  },
  {
   "cell_type": "code",
   "execution_count": 5,
   "id": "5110b697",
   "metadata": {},
   "outputs": [],
   "source": [
    "df = impute_from_column(df, \"complaint_date\", \"chameleon_suicide_er_date_stu_intake_arm_1\")\n",
    "df[\"ER_date_time1\"] = df[\"complaint_date\"]\n",
    "columns.append(\"ER_date_time1\")"
   ]
  },
  {
   "cell_type": "markdown",
   "id": "057b39f0",
   "metadata": {},
   "source": [
    "###  ER date"
   ]
  },
  {
   "cell_type": "code",
   "execution_count": 6,
   "id": "748ef0c1",
   "metadata": {},
   "outputs": [],
   "source": [
    "time2_er_dates = [f\"chameleon_suicide_er_date_stu_{event}\" for event in redcap_event_names]\n",
    "for er_time in time2_er_dates:\n",
    "    df[er_time] = pd.to_datetime(df[er_time], errors='coerce')\n",
    "df[\"ER_date_target\"] = df[time2_er_dates].min(axis=1)\n",
    "columns.append(\"ER_date_target\")"
   ]
  },
  {
   "cell_type": "markdown",
   "id": "581aa9b6",
   "metadata": {},
   "source": [
    "## Psych ward"
   ]
  },
  {
   "cell_type": "code",
   "execution_count": 7,
   "id": "803d1d52",
   "metadata": {},
   "outputs": [],
   "source": [
    "time2_psych_dates = [f\"chameleon_psychiatric_date_stu_{event}\" for event in redcap_event_names]\n",
    "for psych_time in time2_psych_dates:\n",
    "    df[psych_time] = pd.to_datetime(df[psych_time], errors='coerce')\n",
    "    \n",
    "df[\"psychiatric_date_target\"] = df[time2_psych_dates].min(axis=1)\n",
    "columns.append(\"psychiatric_date_target\")"
   ]
  },
  {
   "cell_type": "markdown",
   "id": "f0829d29",
   "metadata": {},
   "source": [
    "## Attempt\n"
   ]
  },
  {
   "cell_type": "code",
   "execution_count": 8,
   "id": "80e2606f",
   "metadata": {},
   "outputs": [],
   "source": [
    "time2_visit_date_dates = [f\"visit_date_stu_{event}\" for event in redcap_event_names]\n",
    "time2_is_attempt = [f\"chameleon_attempt_stu_{event}\" for event in redcap_event_names]"
   ]
  },
  {
   "cell_type": "code",
   "execution_count": 9,
   "id": "82c162ad",
   "metadata": {},
   "outputs": [],
   "source": [
    "for visit_date, is_attempt in zip(time2_visit_date_dates, time2_is_attempt):\n",
    "    df.loc[df[is_attempt] != 1, visit_date] = pd.NaT\n",
    "    df[visit_date] = pd.to_datetime(df[visit_date], errors='coerce')"
   ]
  },
  {
   "cell_type": "code",
   "execution_count": 10,
   "id": "fb78851b",
   "metadata": {},
   "outputs": [],
   "source": [
    "df[\"suicide_attempt_date_target\"] = df[time2_visit_date_dates].min(axis=1)\n",
    "columns.append(\"suicide_attempt_date_target\")"
   ]
  },
  {
   "cell_type": "markdown",
   "id": "984856f2",
   "metadata": {},
   "source": [
    "## Save"
   ]
  },
  {
   "cell_type": "code",
   "execution_count": 11,
   "id": "7f74eb1f",
   "metadata": {},
   "outputs": [],
   "source": [
    "sci_intake = [f\"{q}_intake_arm_1\" for q in sci_af_ca]\n",
    "columns.extend(sci_intake)"
   ]
  },
  {
   "cell_type": "code",
   "execution_count": 12,
   "id": "d503d97d",
   "metadata": {},
   "outputs": [],
   "source": [
    "df[columns].to_csv(\"data_for_survival_analysis.csv\")"
   ]
  },
  {
   "cell_type": "code",
   "execution_count": null,
   "id": "77cf7b5b",
   "metadata": {},
   "outputs": [],
   "source": []
  }
 ],
 "metadata": {
  "kernelspec": {
   "display_name": "DeppClinic",
   "language": "python",
   "name": "deppclinic"
  },
  "language_info": {
   "codemirror_mode": {
    "name": "ipython",
    "version": 3
   },
   "file_extension": ".py",
   "mimetype": "text/x-python",
   "name": "python",
   "nbconvert_exporter": "python",
   "pygments_lexer": "ipython3",
   "version": "3.11.4"
  }
 },
 "nbformat": 4,
 "nbformat_minor": 5
}
