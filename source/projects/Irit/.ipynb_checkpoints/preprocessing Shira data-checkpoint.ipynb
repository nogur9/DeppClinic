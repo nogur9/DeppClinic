{
 "cells": [
  {
   "cell_type": "code",
   "execution_count": 2,
   "id": "96481baf",
   "metadata": {},
   "outputs": [],
   "source": [
    "import sys\n",
    "sys.path.append(r\"../\")\n",
    "\n",
    "import pandas as pd\n",
    "from Irit.psychodiagnostic_computations import compute_swan_scores, compute_sdq_scores, compute_cbcl_scores\n",
    "\n",
    "from utils_Irit import calc_t_scores\n",
    "from utils.consts.assistment_consts import Questionnaires\n",
    "from utils.consts.questions_columns import basic_info_columns, swan_m, sdq\n",
    "\n",
    "import os\n",
    "import numpy as np"
   ]
  },
  {
   "cell_type": "code",
   "execution_count": 3,
   "id": "f20f46b8",
   "metadata": {},
   "outputs": [
    {
     "name": "stderr",
     "output_type": "stream",
     "text": [
      "C:\\Users\\nogur\\AppData\\Local\\Temp\\ipykernel_2620\\2078306108.py:1: DtypeWarning: Columns (0,44,50,73,84,309,437,442,443,450,457,486,502,540,549,568,728,733,745,747,752,763,801,810,829,882,883,884,885,886,887,888,889,890,891,892,951,989,994,1000,1015,1045,1065,1066,1070,1071,1072,1073,1075,1076,1077,1080,1081,1098,1103,1119,1121,1172,1174,1193,1195,1196,1197,1203,1204,1205,1206,1358,1360,1361,1362,1368,1369,1370,1371,1486,1492,1493,1496,1497,1498,1499,1508,1516,1532,1535,1546) have mixed types. Specify dtype option on import or set low_memory=False.\n",
      "  df = pd.read_csv(r\"../creating_the_clinic_dataset/preprocessed_data/merged_2021_and_2022.csv\")\n"
     ]
    }
   ],
   "source": [
    "df = pd.read_csv(r\"../creating_the_clinic_dataset/preprocessed_data/merged_2021_and_2022.csv\")\n",
    "df = df[df['redcap_event_name'] == 'intake_arm_1']\n"
   ]
  },
  {
   "cell_type": "code",
   "execution_count": 4,
   "id": "7d55f7ee",
   "metadata": {},
   "outputs": [],
   "source": [
    "questionnaires = Questionnaires().questionnaires\n",
    "\n",
    "info_columns = basic_info_columns\n",
    "swan_m_columns = questionnaires['swan_mother']['columns']\n",
    "sdq_columns = questionnaires['sdq']['columns']\n"
   ]
  },
  {
   "cell_type": "code",
   "execution_count": 5,
   "id": "5e13abbe",
   "metadata": {},
   "outputs": [],
   "source": [
    "\n",
    "df = df[basic_info_columns + swan_m_columns + sdq_columns]\n",
    "\n",
    "df, scores_columns_names = questionnaires['sdq']['scoring_function'](df)\n"
   ]
  },
  {
   "cell_type": "code",
   "execution_count": 6,
   "id": "ef5e2e3c",
   "metadata": {},
   "outputs": [],
   "source": [
    "\n",
    "df, params_swan = compute_swan_scores(df)\n",
    "df, params_sdq = compute_sdq_scores(df)"
   ]
  },
  {
   "cell_type": "code",
   "execution_count": 7,
   "id": "30d21de8",
   "metadata": {},
   "outputs": [],
   "source": [
    "df, param_t_score = calc_t_scores(df)\n"
   ]
  },
  {
   "cell_type": "code",
   "execution_count": 8,
   "id": "dc71abf9",
   "metadata": {},
   "outputs": [],
   "source": [
    "\n",
    "directory = \"data/preprocessed\"\n",
    "if not os.path.exists(directory):\n",
    "    os.makedirs(directory)\n",
    "\n",
    "filepath = os.path.join(directory, \"DeppClinic.csv\")\n",
    "df.to_csv(filepath, index=False)"
   ]
  },
  {
   "cell_type": "code",
   "execution_count": null,
   "id": "cd08816b",
   "metadata": {},
   "outputs": [],
   "source": []
  }
 ],
 "metadata": {
  "kernelspec": {
   "display_name": "DeppClinic",
   "language": "python",
   "name": "deppclinic"
  },
  "language_info": {
   "codemirror_mode": {
    "name": "ipython",
    "version": 3
   },
   "file_extension": ".py",
   "mimetype": "text/x-python",
   "name": "python",
   "nbconvert_exporter": "python",
   "pygments_lexer": "ipython3",
   "version": "3.11.4"
  }
 },
 "nbformat": 4,
 "nbformat_minor": 5
}
