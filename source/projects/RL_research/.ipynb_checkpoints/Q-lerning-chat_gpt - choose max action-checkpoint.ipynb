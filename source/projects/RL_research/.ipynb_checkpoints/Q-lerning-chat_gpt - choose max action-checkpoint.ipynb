{
 "cells": [
  {
   "cell_type": "code",
   "execution_count": 1,
   "id": "e74a2ad4",
   "metadata": {},
   "outputs": [],
   "source": [
    "import sys\n",
    "sys.path.append(r\"../../../\")\n",
    "#sys.path.append(r\"../utils/data_manipulation\")\n",
    "from app_project_utils import align_multiple_measurement_times, get_target_variables, load_data\n",
    "import pandas as pd\n",
    "import numpy as np\n",
    "from random import randint\n"
   ]
  },
  {
   "cell_type": "code",
   "execution_count": 2,
   "id": "fb4c5195",
   "metadata": {},
   "outputs": [],
   "source": [
    "age = 19\n",
    "groups = ['control']\n",
    "df = load_data(group='all')\n",
    "target_variables = get_target_variables()\n",
    "df = align_multiple_measurement_times(df, target_variables, age, groups)\n",
    "\n",
    "\n",
    "# Initialize Q-table\n",
    "q_table = {}"
   ]
  },
  {
   "cell_type": "code",
   "execution_count": null,
   "id": "5cc80008",
   "metadata": {},
   "outputs": [],
   "source": [
    "class Env:\n",
    "    def __init__(self, df, patient_id):\n",
    "        self.df = df\n",
    "        self.patient_id = patient_id\n",
    "        \n",
    "    def get_value(self, action):\n",
    "        value = df.query(\"patient_id == patient_id\")[action.key]\n",
    "        return value\n",
    "    \n",
    "    def do_action(self, state, action):\n",
    "        value = self.get_value(action)\n",
    "        next_state = state.get_next_state(action, value)"
   ]
  },
  {
   "cell_type": "code",
   "execution_count": null,
   "id": "710e0535",
   "metadata": {},
   "outputs": [],
   "source": [
    "class Action:\n",
    "    def __init__(self, key):\n",
    "        self.key = key\n",
    "\n",
    "    "
   ]
  },
  {
   "cell_type": "code",
   "execution_count": 39,
   "id": "67e47f59",
   "metadata": {},
   "outputs": [
    {
     "data": {
      "text/plain": [
       "True"
      ]
     },
     "execution_count": 39,
     "metadata": {},
     "output_type": "execute_result"
    }
   ],
   "source": []
  },
  {
   "cell_type": "code",
   "execution_count": null,
   "id": "954da0df",
   "metadata": {},
   "outputs": [],
   "source": [
    "class State:\n",
    "    def __init__(self, state:dict):\n",
    "        self.state = state\n",
    "    \n",
    "    def is_equal(self, other_state:dict):\n",
    "        # dict == dict: key and values comparsion\n",
    "        if self.state == other_state.state:\n",
    "            return True\n",
    "        else:\n",
    "            return False\n",
    "        \n",
    "    def get_next_state(self, action, value):\n",
    "        new_state_dict = self.state.copy()\n",
    "        new_state_dict[action.key] = value\n",
    "        return State(new_state_dict)\n",
    "    \n",
    "    \n",
    "    def get_possible_actions(self):\n",
    "        possible_actions = []\n",
    "        for key in self.state.keys():\n",
    "            if self.state[key] is None:\n",
    "                possible_actions.append(key)\n",
    "        return possible_actions"
   ]
  },
  {
   "cell_type": "code",
   "execution_count": 3,
   "id": "5bfa9448",
   "metadata": {},
   "outputs": [],
   "source": [
    "\n",
    "# Define rewards\n",
    "REWARD_CORRECT_PREDICTION = 10\n",
    "REWARD_ASKING_INFORMATIVE_QUESTION = 1\n",
    "REWARD_ASKING_REDUNDANT_QUESTION = -1\n",
    "\n",
    "# Define discount factor and learning rate\n",
    "GAMMA = 0.9\n",
    "ALPHA = 0.1\n",
    "\n"
   ]
  },
  {
   "cell_type": "code",
   "execution_count": 16,
   "id": "e4818642",
   "metadata": {},
   "outputs": [],
   "source": [
    "def choose_action(state):\n",
    "    # Choose a random action if no entries in Q-table for this state\n",
    "    if state not in q_table.keys():\n",
    "        return randint(0, len(df) - 1)\n",
    "    \n",
    "    # Choose the action with highest Q-value\n",
    "    return max(q_table[state], key=q_table[state].get)"
   ]
  },
  {
   "cell_type": "code",
   "execution_count": 17,
   "id": "455bdddb",
   "metadata": {},
   "outputs": [],
   "source": [
    "def update_q_table(state, action, reward, next_state):\n",
    "    # Calculate the Q-value update\n",
    "    q_value = q_table.get(state, {}).get(action, 0)\n",
    "    q_value += ALPHA * (reward + GAMMA * max(q_table.get(next_state, {}).values())) - q_value\n",
    "    q_table[state][action] = q_value"
   ]
  },
  {
   "cell_type": "code",
   "execution_count": 18,
   "id": "30357f60",
   "metadata": {},
   "outputs": [],
   "source": [
    "# Define a simple prediction function based on average target for questions asked\n",
    "def predict(state):\n",
    "    return np.mean([df.iloc[action]['target'] for action in state])\n"
   ]
  },
  {
   "cell_type": "code",
   "execution_count": 19,
   "id": "57f9fa76",
   "metadata": {},
   "outputs": [],
   "source": [
    "def run_simulation(df, max_questions):\n",
    "    total_reward = 0\n",
    "    init_state = State({feature: None for feature in feats})\n",
    "    current_state =  init_state\n",
    "    for _ in range(max_questions):\n",
    "        action = choose_action(state)\n",
    "        # Get features and target for chosen question\n",
    "        question_features = df.iloc[action].drop('target')\n",
    "        question_target = df.iloc[action]['target']\n",
    "        # Update state with new answer\n",
    "        state[action] = question_features\n",
    "\n",
    "        # Calculate reward based on prediction and informativeness\n",
    "        reward = REWARD_CORRECT_PREDICTION if question_target == predict(state) else 0\n",
    "        reward += REWARD_ASKING_INFORMATIVE_QUESTION if question_features.sum() > 0 else REWARD_ASKING_REDUNDANT_QUESTION\n",
    "\n",
    "        # Update Q-table\n",
    "        update_q_table(state.copy(), action, reward, state)\n",
    "        total_reward += reward\n",
    "\n",
    "    return total_reward, state"
   ]
  },
  {
   "cell_type": "code",
   "execution_count": null,
   "id": "c51a65e9",
   "metadata": {},
   "outputs": [],
   "source": []
  },
  {
   "cell_type": "code",
   "execution_count": 20,
   "id": "8c897885",
   "metadata": {},
   "outputs": [
    {
     "name": "stdout",
     "output_type": "stream",
     "text": [
      "{}\n"
     ]
    },
    {
     "ename": "TypeError",
     "evalue": "unhashable type: 'dict'",
     "output_type": "error",
     "traceback": [
      "\u001b[1;31m---------------------------------------------------------------------------\u001b[0m",
      "\u001b[1;31mTypeError\u001b[0m                                 Traceback (most recent call last)",
      "Cell \u001b[1;32mIn[20], line 3\u001b[0m\n\u001b[0;32m      1\u001b[0m \u001b[38;5;66;03m# Run simulations and print results\u001b[39;00m\n\u001b[0;32m      2\u001b[0m \u001b[38;5;28;01mfor\u001b[39;00m _ \u001b[38;5;129;01min\u001b[39;00m \u001b[38;5;28mrange\u001b[39m(\u001b[38;5;241m10\u001b[39m):\n\u001b[1;32m----> 3\u001b[0m     reward, _ \u001b[38;5;241m=\u001b[39m run_simulation(df\u001b[38;5;241m.\u001b[39mcopy(), \u001b[38;5;241m5\u001b[39m)\n\u001b[0;32m      4\u001b[0m     \u001b[38;5;28mprint\u001b[39m(\u001b[38;5;124mf\u001b[39m\u001b[38;5;124m\"\u001b[39m\u001b[38;5;124mTotal reward: \u001b[39m\u001b[38;5;132;01m{\u001b[39;00mreward\u001b[38;5;132;01m}\u001b[39;00m\u001b[38;5;124m\"\u001b[39m)\n",
      "Cell \u001b[1;32mIn[19], line 5\u001b[0m, in \u001b[0;36mrun_simulation\u001b[1;34m(df, max_questions)\u001b[0m\n\u001b[0;32m      3\u001b[0m state \u001b[38;5;241m=\u001b[39m {}  \u001b[38;5;66;03m# Store answers to previous questions\u001b[39;00m\n\u001b[0;32m      4\u001b[0m \u001b[38;5;28;01mfor\u001b[39;00m _ \u001b[38;5;129;01min\u001b[39;00m \u001b[38;5;28mrange\u001b[39m(max_questions):\n\u001b[1;32m----> 5\u001b[0m     action \u001b[38;5;241m=\u001b[39m choose_action(state)\n\u001b[0;32m      6\u001b[0m     \u001b[38;5;66;03m# Get features and target for chosen question\u001b[39;00m\n\u001b[0;32m      7\u001b[0m     question_features \u001b[38;5;241m=\u001b[39m df\u001b[38;5;241m.\u001b[39miloc[action]\u001b[38;5;241m.\u001b[39mdrop(\u001b[38;5;124m'\u001b[39m\u001b[38;5;124mtarget\u001b[39m\u001b[38;5;124m'\u001b[39m)\n",
      "Cell \u001b[1;32mIn[16], line 4\u001b[0m, in \u001b[0;36mchoose_action\u001b[1;34m(state)\u001b[0m\n\u001b[0;32m      1\u001b[0m \u001b[38;5;28;01mdef\u001b[39;00m \u001b[38;5;21mchoose_action\u001b[39m(state):\n\u001b[0;32m      2\u001b[0m     \u001b[38;5;66;03m# Choose a random action if no entries in Q-table for this state\u001b[39;00m\n\u001b[0;32m      3\u001b[0m     \u001b[38;5;28mprint\u001b[39m(state)\n\u001b[1;32m----> 4\u001b[0m     \u001b[38;5;28;01mif\u001b[39;00m state \u001b[38;5;129;01mnot\u001b[39;00m \u001b[38;5;129;01min\u001b[39;00m q_table\u001b[38;5;241m.\u001b[39mkeys():\n\u001b[0;32m      5\u001b[0m         \u001b[38;5;28;01mreturn\u001b[39;00m randint(\u001b[38;5;241m0\u001b[39m, \u001b[38;5;28mlen\u001b[39m(df) \u001b[38;5;241m-\u001b[39m \u001b[38;5;241m1\u001b[39m)\n\u001b[0;32m      6\u001b[0m     \u001b[38;5;66;03m# Choose the action with highest Q-value\u001b[39;00m\n",
      "\u001b[1;31mTypeError\u001b[0m: unhashable type: 'dict'"
     ]
    }
   ],
   "source": [
    "\n",
    "# Run simulations and print results\n",
    "for _ in range(10):\n",
    "    reward, _ = run_simulation(df.copy(), 5)\n",
    "    print(f\"Total reward: {reward}\")\n",
    "\n"
   ]
  },
  {
   "cell_type": "code",
   "execution_count": null,
   "id": "eb5566c6",
   "metadata": {},
   "outputs": [],
   "source": []
  }
 ],
 "metadata": {
  "kernelspec": {
   "display_name": "DeppClinic",
   "language": "python",
   "name": "deppclinic"
  },
  "language_info": {
   "codemirror_mode": {
    "name": "ipython",
    "version": 3
   },
   "file_extension": ".py",
   "mimetype": "text/x-python",
   "name": "python",
   "nbconvert_exporter": "python",
   "pygments_lexer": "ipython3",
   "version": "3.11.5"
  }
 },
 "nbformat": 4,
 "nbformat_minor": 5
}
