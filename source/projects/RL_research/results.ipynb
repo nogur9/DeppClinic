{
 "cells": [
  {
   "cell_type": "code",
   "execution_count": 1,
   "id": "4b804219",
   "metadata": {},
   "outputs": [],
   "source": [
    "import pandas as pd"
   ]
  },
  {
   "cell_type": "code",
   "execution_count": 2,
   "id": "2d64a0a2",
   "metadata": {},
   "outputs": [],
   "source": [
    "df = pd.read_csv(r\"data\\target.csv\")"
   ]
  },
  {
   "cell_type": "code",
   "execution_count": 3,
   "id": "0100c4bb",
   "metadata": {},
   "outputs": [],
   "source": [
    "cols = [\n",
    "    'chameleon_attempt_stu_align',\n",
    "    'chameleon_psychiatric_stu_align',\n",
    "    'chameleon_suicide_er_stu_align',\n",
    "    'mfq_36_align'\n",
    "    ]"
   ]
  },
  {
   "cell_type": "code",
   "execution_count": null,
   "id": "c02eefaf",
   "metadata": {},
   "outputs": [],
   "source": []
  },
  {
   "cell_type": "code",
   "execution_count": 16,
   "id": "4471e4fa",
   "metadata": {},
   "outputs": [
    {
     "name": "stdout",
     "output_type": "stream",
     "text": [
      "modcon_target\n",
      "0    347\n",
      "1     47\n",
      "Name: count, dtype: int64\n",
      "0.11928934010152284\n"
     ]
    }
   ],
   "source": [
    "print(df[df.measurement == 'Time 2'].modcon_target.value_counts())\n",
    "print(df[df.measurement == 'Time 2'].modcon_target.mean())\n"
   ]
  },
  {
   "cell_type": "code",
   "execution_count": 36,
   "id": "6ce37007",
   "metadata": {},
   "outputs": [
    {
     "name": "stdout",
     "output_type": "stream",
     "text": [
      "modcon_target\n",
      "0    287\n",
      "1     45\n",
      "Name: count, dtype: int64\n",
      "0.1355421686746988\n",
      "332\n"
     ]
    }
   ],
   "source": [
    "print(df[df.measurement == 'Time 3'].modcon_target.value_counts())\n",
    "print(df[df.measurement == 'Time 3'].modcon_target.mean())\n",
    "print(df[df.measurement == 'Time 3'].shape[0])"
   ]
  },
  {
   "cell_type": "code",
   "execution_count": 27,
   "id": "f118255d",
   "metadata": {},
   "outputs": [],
   "source": [
    "time2 = df[df.measurement == 'Time 2']\n",
    "time3 = df[df.measurement == 'Time 3']\n",
    "\n",
    "df_merged = time2.merge(time3, on='id', suffixes = ['_Time_2', '_Time_3'], how = 'outer')\n"
   ]
  },
  {
   "cell_type": "code",
   "execution_count": 34,
   "id": "5a07cc2a",
   "metadata": {},
   "outputs": [],
   "source": [
    "df_merged['Y'] = df_merged['modcon_target_Time_2'].fillna(0).astype(bool) | df_merged['modcon_target_Time_3'].fillna(0).astype(bool)"
   ]
  },
  {
   "cell_type": "code",
   "execution_count": 25,
   "id": "674c6b59",
   "metadata": {},
   "outputs": [
    {
     "data": {
      "text/plain": [
       "modcon_target_Time_2\n",
       "0.0    347\n",
       "1.0     47\n",
       "Name: count, dtype: int64"
      ]
     },
     "execution_count": 25,
     "metadata": {},
     "output_type": "execute_result"
    }
   ],
   "source": [
    "df_merged['modcon_target_Time_2'].value_counts()"
   ]
  },
  {
   "cell_type": "code",
   "execution_count": 35,
   "id": "f7151aa1",
   "metadata": {},
   "outputs": [
    {
     "name": "stdout",
     "output_type": "stream",
     "text": [
      "\n",
      "Grouped by Measurement:\n",
      "Y\n",
      "False    329\n",
      "True      76\n",
      "Name: count, dtype: int64\n",
      "0.18765432098765433\n"
     ]
    }
   ],
   "source": [
    "\n",
    "# Group by 'measurement' column and calculate the value counts\n",
    "print(\"\\nGrouped by Measurement:\")\n",
    "print(df_merged['Y'].value_counts())\n",
    "print(df_merged['Y'].mean())\n"
   ]
  },
  {
   "cell_type": "code",
   "execution_count": null,
   "id": "19a419c5",
   "metadata": {},
   "outputs": [],
   "source": []
  },
  {
   "cell_type": "code",
   "execution_count": 10,
   "id": "912d5b94",
   "metadata": {},
   "outputs": [
    {
     "name": "stdout",
     "output_type": "stream",
     "text": [
      "\n",
      "Grouped by Measurement:\n",
      "measurement  Time 2\n",
      "Time 2       0         347\n",
      "             1          47\n",
      "Time 3       0         287\n",
      "             1          45\n",
      "Name: modcon_target, dtype: int64\n"
     ]
    }
   ],
   "source": [
    "\n",
    "# Group by 'measurement' column and calculate the value counts\n",
    "print(\"\\nGrouped by Measurement:\")\n",
    "print(df.groupby('measurement')['modcon_target'].apply(lambda x: x.value_counts()))\n"
   ]
  },
  {
   "cell_type": "code",
   "execution_count": 15,
   "id": "e4dd408c",
   "metadata": {},
   "outputs": [
    {
     "name": "stdout",
     "output_type": "stream",
     "text": [
      "\n",
      "Sub-Variables counts:\n",
      "\n",
      "Variable: chameleon_attempt_stu_align\n",
      "Full Dataset:\n",
      "chameleon_attempt_stu_align\n",
      "0.0    519\n",
      "1.0     27\n",
      "Name: count, dtype: int64\n",
      "\n",
      "For Each Measurement:\n",
      "\n",
      "Variable: chameleon_psychiatric_stu_align\n",
      "Full Dataset:\n",
      "chameleon_psychiatric_stu_align\n",
      "0.0    519\n",
      "1.0     31\n",
      "Name: count, dtype: int64\n",
      "\n",
      "For Each Measurement:\n",
      "\n",
      "Variable: chameleon_suicide_er_stu_align\n",
      "Full Dataset:\n",
      "chameleon_suicide_er_stu_align\n",
      "0.0    486\n",
      "1.0     58\n",
      "Name: count, dtype: int64\n",
      "\n",
      "For Each Measurement:\n",
      "\n",
      "Variable: mfq_36_align\n",
      "Full Dataset:\n",
      "mfq_36_align\n",
      "0.0    351\n",
      "1.0     20\n",
      "Name: count, dtype: int64\n",
      "\n",
      "For Each Measurement:\n"
     ]
    }
   ],
   "source": [
    "# Calculate the value counts for each sub-variable for each measurement\n",
    "print(\"\\nSub-Variables counts:\")\n",
    "for variable in cols:\n",
    "    print(\"\\nVariable:\", variable)\n",
    "    print(\"Full Dataset:\")\n",
    "    print(df[variable].value_counts())\n",
    "    print(\"\\nFor Each Measurement:\")\n",
    "#     for measurement, group in df.groupby('measurement'):\n",
    "#         print(\"Measurement:\", measurement)\n",
    "#         print(group[variable].value_counts())"
   ]
  },
  {
   "cell_type": "code",
   "execution_count": null,
   "id": "80aeccde",
   "metadata": {},
   "outputs": [],
   "source": []
  }
 ],
 "metadata": {
  "kernelspec": {
   "display_name": "DeppClinic",
   "language": "python",
   "name": "deppclinic"
  },
  "language_info": {
   "codemirror_mode": {
    "name": "ipython",
    "version": 3
   },
   "file_extension": ".py",
   "mimetype": "text/x-python",
   "name": "python",
   "nbconvert_exporter": "python",
   "pygments_lexer": "ipython3",
   "version": "3.11.5"
  }
 },
 "nbformat": 4,
 "nbformat_minor": 5
}
