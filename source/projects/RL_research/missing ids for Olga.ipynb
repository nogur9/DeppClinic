{
 "cells": [
  {
   "cell_type": "code",
   "execution_count": 1,
   "id": "4b804219",
   "metadata": {},
   "outputs": [],
   "source": [
    "import pandas as pd\n",
    "import numpy as np"
   ]
  },
  {
   "cell_type": "code",
   "execution_count": 2,
   "id": "c86359a4",
   "metadata": {},
   "outputs": [],
   "source": [
    "df = pd.read_csv(r\"data\\DeppClinic_data.csv\")"
   ]
  },
  {
   "cell_type": "code",
   "execution_count": 3,
   "id": "956af7cd",
   "metadata": {},
   "outputs": [],
   "source": [
    "time1_df = df[df.measurement.isin(['Time 1'])]\n",
    "time2_df = df[df.measurement.isin(['Time 2'])]\n",
    "time3_df = df[df.measurement.isin(['Time 3'])]"
   ]
  },
  {
   "cell_type": "code",
   "execution_count": 4,
   "id": "ea2ea143",
   "metadata": {},
   "outputs": [],
   "source": [
    "time1_ids = pd.Series(time1_df.id.unique())"
   ]
  },
  {
   "cell_type": "code",
   "execution_count": 5,
   "id": "68e99f51",
   "metadata": {},
   "outputs": [],
   "source": [
    "time2_ids = pd.Series(time2_df.id.unique())"
   ]
  },
  {
   "cell_type": "code",
   "execution_count": 6,
   "id": "9aec4432",
   "metadata": {},
   "outputs": [],
   "source": [
    "time3_ids = pd.Series(time3_df.id.unique())"
   ]
  },
  {
   "cell_type": "code",
   "execution_count": 10,
   "id": "181e09a1",
   "metadata": {},
   "outputs": [],
   "source": [
    "time1_ids[~time1_ids.isin(time2_ids)].to_csv(\"time1 & missing time2.csv\", index=False)"
   ]
  },
  {
   "cell_type": "code",
   "execution_count": 11,
   "id": "6780d689",
   "metadata": {},
   "outputs": [],
   "source": [
    "time1_ids[~time1_ids.isin(time3_ids)].to_csv(\"time1 & missing time3.csv\", index=False)"
   ]
  },
  {
   "cell_type": "code",
   "execution_count": 15,
   "id": "eb1a026b",
   "metadata": {},
   "outputs": [],
   "source": [
    "time2_ids[~time2_ids.isin(time1_ids)].to_csv(\"time2 & missing time1.csv\", index=False)"
   ]
  },
  {
   "cell_type": "code",
   "execution_count": 14,
   "id": "6edf6e32",
   "metadata": {},
   "outputs": [
    {
     "data": {
      "text/plain": [
       "Series([], dtype: object)"
      ]
     },
     "execution_count": 14,
     "metadata": {},
     "output_type": "execute_result"
    }
   ],
   "source": [
    "time3_ids[~time3_ids.isin(time1_ids)]"
   ]
  },
  {
   "cell_type": "code",
   "execution_count": null,
   "id": "0ebf33cd",
   "metadata": {},
   "outputs": [],
   "source": []
  }
 ],
 "metadata": {
  "kernelspec": {
   "display_name": "DeppClinic",
   "language": "python",
   "name": "deppclinic"
  },
  "language_info": {
   "codemirror_mode": {
    "name": "ipython",
    "version": 3
   },
   "file_extension": ".py",
   "mimetype": "text/x-python",
   "name": "python",
   "nbconvert_exporter": "python",
   "pygments_lexer": "ipython3",
   "version": "3.11.5"
  }
 },
 "nbformat": 4,
 "nbformat_minor": 5
}
