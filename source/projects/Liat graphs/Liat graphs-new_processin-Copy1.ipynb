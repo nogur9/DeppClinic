{
 "cells": [
  {
   "cell_type": "code",
   "execution_count": 1,
   "id": "1a7a8e0e",
   "metadata": {},
   "outputs": [
    {
     "data": {
      "text/plain": [
       "'C:\\\\Users\\\\nogur\\\\Documents\\\\DeppClinic\\\\source\\\\projects\\\\Liat graphs'"
      ]
     },
     "execution_count": 1,
     "metadata": {},
     "output_type": "execute_result"
    }
   ],
   "source": [
    "import sys\n",
    "sys.path.append(r\"../\")\n",
    "import pandas as pd\n",
    "import matplotlib.pyplot as plt\n",
    "import seaborn as sns\n",
    "import scipy\n",
    "import pingouin as pg\n",
    "#from main import create_dataset\n",
    "import dtale\n",
    "import os\n",
    "from plotly.offline import iplot, init_notebook_mode\n",
    "import plotly.graph_objs as go\n",
    "from statsmodels.stats.contingency_tables import mcnemar\n",
    "os.getcwd()"
   ]
  },
  {
   "cell_type": "code",
   "execution_count": 2,
   "id": "b8bb8996",
   "metadata": {},
   "outputs": [],
   "source": [
    "suicidal_ideation_time2 = [\n",
    "\n",
    "    'c_ssrs_t_last_1_clin',\n",
    "    'c_ssrs_t_last_2_clin',\n",
    "    'c_ssrs_t_last_3_clin',\n",
    "    'c_ssrs_t_last_4_clin',\n",
    "    'c_ssrs_t_last_5_clin',\n",
    "\n",
    " #   'c_ssrs_t_2weeks_1_clin',\n",
    "    'c_ssrs_t_2weeks_2_clin',\n",
    "    'c_ssrs_t_2weeks_3_clin',\n",
    "    'c_ssrs_t_2weeks_4_clin',\n",
    "    'c_ssrs_t_2weeks_5_clin',\n",
    "\n",
    "    'c_ssrs_1',\n",
    "    'c_ssrs_2',\n",
    "    'c_ssrs_3',\n",
    "    'c_ssrs_4',\n",
    "    'c_ssrs_5',\n",
    "\n",
    " #   'chameleon_ideation_stu'\n",
    "]"
   ]
  },
  {
   "cell_type": "code",
   "execution_count": null,
   "id": "2478a48f",
   "metadata": {},
   "outputs": [],
   "source": []
  },
  {
   "cell_type": "code",
   "execution_count": 3,
   "id": "b5de0846",
   "metadata": {
    "scrolled": true
   },
   "outputs": [],
   "source": [
    "times = {'intake': ['intake_arm_1', 'pre_treatment_arm_1'],\n",
    "         'time2' : ['5th_session_arm_1', 'control_5weeks_arm_1'],\n",
    "         'time3' : ['followup_3month_arm_1', 'control_3month_arm_1', 'control_6month_arm_1'],\n",
    "        }\n",
    "# if not os.path.exists(\"Liat graphs/plots\"):\n",
    "#     os.mkdir(\"Liat graphs/plots\")\n",
    "\n",
    "group_names = {\n",
    "    '0': 'invalid',\n",
    "    '1': 'ipt', # חירום\n",
    "    '2' : 'tau', # רגיל\n",
    "    '3': 'control' # מינימלית\n",
    "}\n",
    "\n",
    "# for time in times.keys():\n",
    "# #     print(time)\n",
    "#     create_dataset(event_names = times[time], path = f\"Liat graphs/data/{time}/DeppClinic_patient_data1.csv\")\n"
   ]
  },
  {
   "cell_type": "code",
   "execution_count": 4,
   "id": "e4637e05",
   "metadata": {},
   "outputs": [],
   "source": [
    "df_times = {\n",
    "    'intake': pd.read_csv(r'data/new_processing/intake/DeppClinic_patient_data.csv'),\n",
    "    'time2' : pd.read_csv(r'data/new_processing/time2/DeppClinic_patient_data.csv'),\n",
    "    'time3' : pd.read_csv(r'data/new_processing/time3/DeppClinic_patient_data.csv')\n",
    "         }\n",
    "\n",
    "intake_target_variables =  ['suicidal_ideation', 'suicidal_behavior',\n",
    "        'suicidal_attempt', 'ER', 'NSSI']\n",
    "\n",
    "time2_target_variables = ['suicidal_ideation', 'suicidal_behavior', \n",
    "        'suicidal_attempt', 'ER', 'Psychiatric', \n",
    "        'NSSI', 'finished_treatment']\n",
    "\n",
    "target_variables = {\n",
    "    'intake': intake_target_variables,\n",
    "    'time2': time2_target_variables, \n",
    "    'time3': time2_target_variables}\n",
    "        "
   ]
  },
  {
   "cell_type": "code",
   "execution_count": 5,
   "id": "b9b7d66d",
   "metadata": {},
   "outputs": [],
   "source": [
    "for time in times:\n",
    "    df = df_times[time]\n",
    "    df_times[time] = df[df['age_child_pre'] < 19.5]"
   ]
  },
  {
   "cell_type": "code",
   "execution_count": 6,
   "id": "969d49ff",
   "metadata": {},
   "outputs": [],
   "source": [
    "    \n",
    "def used_app(x, app_ids):\n",
    "    if x['id'] in list(app_ids['patient_id']):\n",
    "        return True\n",
    "    else:\n",
    "        return False\n",
    "\n",
    "app_ids = pd.read_csv(r\"../../../Data/helper_docs/APP_patient_ids.csv\")\n"
   ]
  },
  {
   "cell_type": "code",
   "execution_count": 7,
   "id": "f771b24e",
   "metadata": {},
   "outputs": [
    {
     "name": "stderr",
     "output_type": "stream",
     "text": [
      "C:\\Users\\nogur\\AppData\\Local\\Temp\\ipykernel_4108\\2824216653.py:14: SettingWithCopyWarning:\n",
      "\n",
      "\n",
      "A value is trying to be set on a copy of a slice from a DataFrame.\n",
      "Try using .loc[row_indexer,col_indexer] = value instead\n",
      "\n",
      "See the caveats in the documentation: https://pandas.pydata.org/pandas-docs/stable/user_guide/indexing.html#returning-a-view-versus-a-copy\n",
      "\n",
      "C:\\Users\\nogur\\AppData\\Local\\Temp\\ipykernel_4108\\2824216653.py:14: SettingWithCopyWarning:\n",
      "\n",
      "\n",
      "A value is trying to be set on a copy of a slice from a DataFrame.\n",
      "Try using .loc[row_indexer,col_indexer] = value instead\n",
      "\n",
      "See the caveats in the documentation: https://pandas.pydata.org/pandas-docs/stable/user_guide/indexing.html#returning-a-view-versus-a-copy\n",
      "\n",
      "C:\\Users\\nogur\\AppData\\Local\\Temp\\ipykernel_4108\\2824216653.py:14: SettingWithCopyWarning:\n",
      "\n",
      "\n",
      "A value is trying to be set on a copy of a slice from a DataFrame.\n",
      "Try using .loc[row_indexer,col_indexer] = value instead\n",
      "\n",
      "See the caveats in the documentation: https://pandas.pydata.org/pandas-docs/stable/user_guide/indexing.html#returning-a-view-versus-a-copy\n",
      "\n"
     ]
    }
   ],
   "source": [
    "def rename_groups(df, group_names):\n",
    "    df['group'] = '0'\n",
    "    df.loc[df['group___1'] == 1, 'group'] = '1'\n",
    "    df.loc[df['group___2'] == 1, 'group'] = '2'\n",
    "    df.loc[df['group___3'] == 1, 'group'] = '3'\n",
    "    df['group'] = df['group'].map(group_names)\n",
    "    return df\n",
    "\n",
    "for time in times:\n",
    "    df = df_times[time]\n",
    "    df_times[time] = rename_groups(df, group_names)\n",
    "    # df_times[time] = df_times[time][df_times[time][\"group\"].isin([\"ipt\", \"control\"])]\n",
    "    df_times[time] = df_times[time][df_times[time][\"group\"].isin([\"ipt\"])]\n",
    "    df_times[time]['used_app'] = df.apply(used_app, args=[app_ids], axis=1)\n",
    "    df_times[time] = df_times[time].dropna(subset = ['suicidal_ideation'])"
   ]
  },
  {
   "cell_type": "code",
   "execution_count": 8,
   "id": "fc5bb38e",
   "metadata": {},
   "outputs": [],
   "source": [
    "time2 = df_times['intake'].id.isin(df_times['time2'].id)"
   ]
  },
  {
   "cell_type": "code",
   "execution_count": 9,
   "id": "df86cbf3",
   "metadata": {},
   "outputs": [],
   "source": [
    "time3 = df_times['intake'].id.isin(df_times['time3'].id)"
   ]
  },
  {
   "cell_type": "code",
   "execution_count": 10,
   "id": "cd6163ca",
   "metadata": {},
   "outputs": [],
   "source": [
    "union_ids = list(df_times['intake'][time2 & time3].id)\n"
   ]
  },
  {
   "cell_type": "code",
   "execution_count": 11,
   "id": "ff0ca2fb",
   "metadata": {},
   "outputs": [
    {
     "name": "stdout",
     "output_type": "stream",
     "text": [
      "(112, 389)\n",
      "(82, 389)\n",
      "(135, 391)\n",
      "(82, 391)\n",
      "(116, 391)\n",
      "(82, 391)\n"
     ]
    }
   ],
   "source": [
    "for time in times:\n",
    "    print(df_times[time].shape)\n",
    "    df_times[time] = df_times[time][df_times[time].id.isin(union_ids)]\n",
    "    print(df_times[time].shape)\n"
   ]
  },
  {
   "cell_type": "markdown",
   "id": "4062e54a",
   "metadata": {},
   "source": [
    "## Intake"
   ]
  },
  {
   "cell_type": "code",
   "execution_count": 12,
   "id": "e91180f8",
   "metadata": {},
   "outputs": [
    {
     "data": {
      "text/plain": [
       "used_app  suicidal_ideation\n",
       "False     1.0                  48\n",
       "          0.0                   7\n",
       "True      1.0                  25\n",
       "          0.0                   2\n",
       "Name: count, dtype: int64"
      ]
     },
     "execution_count": 12,
     "metadata": {},
     "output_type": "execute_result"
    }
   ],
   "source": [
    "df_times['intake'].groupby('used_app').suicidal_ideation.value_counts()"
   ]
  },
  {
   "cell_type": "markdown",
   "id": "ab5ab7a1",
   "metadata": {},
   "source": [
    "## Time 2"
   ]
  },
  {
   "cell_type": "code",
   "execution_count": 13,
   "id": "cdae2f40",
   "metadata": {},
   "outputs": [
    {
     "data": {
      "text/plain": [
       "used_app  suicidal_ideation\n",
       "False     1.0                  41\n",
       "          0.0                  14\n",
       "True      1.0                  21\n",
       "          0.0                   6\n",
       "Name: count, dtype: int64"
      ]
     },
     "execution_count": 13,
     "metadata": {},
     "output_type": "execute_result"
    }
   ],
   "source": [
    "df_times['time2'].groupby('used_app').suicidal_ideation.value_counts()"
   ]
  },
  {
   "cell_type": "markdown",
   "id": "7a79c4d0",
   "metadata": {},
   "source": [
    "## Time 3"
   ]
  },
  {
   "cell_type": "code",
   "execution_count": 14,
   "id": "9fd50cd1",
   "metadata": {},
   "outputs": [
    {
     "data": {
      "text/plain": [
       "used_app  suicidal_ideation\n",
       "False     0.0                  29\n",
       "          1.0                  26\n",
       "True      1.0                  15\n",
       "          0.0                  12\n",
       "Name: count, dtype: int64"
      ]
     },
     "execution_count": 14,
     "metadata": {},
     "output_type": "execute_result"
    }
   ],
   "source": [
    "df_times['time3'].groupby('used_app').suicidal_ideation.value_counts()"
   ]
  },
  {
   "cell_type": "code",
   "execution_count": 15,
   "id": "b09b4cf4",
   "metadata": {
    "scrolled": true
   },
   "outputs": [
    {
     "ename": "KeyError",
     "evalue": "\"['control'] not in index\"",
     "output_type": "error",
     "traceback": [
      "\u001b[1;31m---------------------------------------------------------------------------\u001b[0m",
      "\u001b[1;31mKeyError\u001b[0m                                  Traceback (most recent call last)",
      "Cell \u001b[1;32mIn[15], line 8\u001b[0m\n\u001b[0;32m      5\u001b[0m intake \u001b[38;5;241m=\u001b[39m intake[[\u001b[38;5;124m'\u001b[39m\u001b[38;5;124mgroup\u001b[39m\u001b[38;5;124m'\u001b[39m, target]]\n\u001b[0;32m      6\u001b[0m time2 \u001b[38;5;241m=\u001b[39m time2[[\u001b[38;5;124m'\u001b[39m\u001b[38;5;124mgroup\u001b[39m\u001b[38;5;124m'\u001b[39m, target]]\n\u001b[1;32m----> 8\u001b[0m intake_values \u001b[38;5;241m=\u001b[39m intake\u001b[38;5;241m.\u001b[39mgroupby(\u001b[38;5;124m'\u001b[39m\u001b[38;5;124mgroup\u001b[39m\u001b[38;5;124m'\u001b[39m)[target]\u001b[38;5;241m.\u001b[39msum()[[\u001b[38;5;124m'\u001b[39m\u001b[38;5;124mipt\u001b[39m\u001b[38;5;124m'\u001b[39m, \u001b[38;5;124m'\u001b[39m\u001b[38;5;124mcontrol\u001b[39m\u001b[38;5;124m'\u001b[39m]]\u001b[38;5;241m.\u001b[39mvalues\n\u001b[0;32m      9\u001b[0m intake_gb \u001b[38;5;241m=\u001b[39m intake\u001b[38;5;241m.\u001b[39mgroupby(\u001b[38;5;124m'\u001b[39m\u001b[38;5;124mgroup\u001b[39m\u001b[38;5;124m'\u001b[39m)[target]\u001b[38;5;241m.\u001b[39msum()[[\u001b[38;5;124m'\u001b[39m\u001b[38;5;124mipt\u001b[39m\u001b[38;5;124m'\u001b[39m, \u001b[38;5;124m'\u001b[39m\u001b[38;5;124mcontrol\u001b[39m\u001b[38;5;124m'\u001b[39m]]\n\u001b[0;32m     11\u001b[0m time2_values \u001b[38;5;241m=\u001b[39m time2\u001b[38;5;241m.\u001b[39mgroupby(\u001b[38;5;124m'\u001b[39m\u001b[38;5;124mgroup\u001b[39m\u001b[38;5;124m'\u001b[39m)[target]\u001b[38;5;241m.\u001b[39msum()[[\u001b[38;5;124m'\u001b[39m\u001b[38;5;124mipt\u001b[39m\u001b[38;5;124m'\u001b[39m, \u001b[38;5;124m'\u001b[39m\u001b[38;5;124mcontrol\u001b[39m\u001b[38;5;124m'\u001b[39m]]\u001b[38;5;241m.\u001b[39mvalues\n",
      "File \u001b[1;32m~\\anaconda3\\envs\\DeppClinic\\Lib\\site-packages\\pandas\\core\\series.py:1072\u001b[0m, in \u001b[0;36mSeries.__getitem__\u001b[1;34m(self, key)\u001b[0m\n\u001b[0;32m   1069\u001b[0m     key \u001b[38;5;241m=\u001b[39m np\u001b[38;5;241m.\u001b[39masarray(key, dtype\u001b[38;5;241m=\u001b[39m\u001b[38;5;28mbool\u001b[39m)\n\u001b[0;32m   1070\u001b[0m     \u001b[38;5;28;01mreturn\u001b[39;00m \u001b[38;5;28mself\u001b[39m\u001b[38;5;241m.\u001b[39m_get_rows_with_mask(key)\n\u001b[1;32m-> 1072\u001b[0m \u001b[38;5;28;01mreturn\u001b[39;00m \u001b[38;5;28mself\u001b[39m\u001b[38;5;241m.\u001b[39m_get_with(key)\n",
      "File \u001b[1;32m~\\anaconda3\\envs\\DeppClinic\\Lib\\site-packages\\pandas\\core\\series.py:1113\u001b[0m, in \u001b[0;36mSeries._get_with\u001b[1;34m(self, key)\u001b[0m\n\u001b[0;32m   1110\u001b[0m         \u001b[38;5;28;01mreturn\u001b[39;00m \u001b[38;5;28mself\u001b[39m\u001b[38;5;241m.\u001b[39miloc[key]\n\u001b[0;32m   1112\u001b[0m \u001b[38;5;66;03m# handle the dup indexing case GH#4246\u001b[39;00m\n\u001b[1;32m-> 1113\u001b[0m \u001b[38;5;28;01mreturn\u001b[39;00m \u001b[38;5;28mself\u001b[39m\u001b[38;5;241m.\u001b[39mloc[key]\n",
      "File \u001b[1;32m~\\anaconda3\\envs\\DeppClinic\\Lib\\site-packages\\pandas\\core\\indexing.py:1153\u001b[0m, in \u001b[0;36m_LocationIndexer.__getitem__\u001b[1;34m(self, key)\u001b[0m\n\u001b[0;32m   1150\u001b[0m axis \u001b[38;5;241m=\u001b[39m \u001b[38;5;28mself\u001b[39m\u001b[38;5;241m.\u001b[39maxis \u001b[38;5;129;01mor\u001b[39;00m \u001b[38;5;241m0\u001b[39m\n\u001b[0;32m   1152\u001b[0m maybe_callable \u001b[38;5;241m=\u001b[39m com\u001b[38;5;241m.\u001b[39mapply_if_callable(key, \u001b[38;5;28mself\u001b[39m\u001b[38;5;241m.\u001b[39mobj)\n\u001b[1;32m-> 1153\u001b[0m \u001b[38;5;28;01mreturn\u001b[39;00m \u001b[38;5;28mself\u001b[39m\u001b[38;5;241m.\u001b[39m_getitem_axis(maybe_callable, axis\u001b[38;5;241m=\u001b[39maxis)\n",
      "File \u001b[1;32m~\\anaconda3\\envs\\DeppClinic\\Lib\\site-packages\\pandas\\core\\indexing.py:1382\u001b[0m, in \u001b[0;36m_LocIndexer._getitem_axis\u001b[1;34m(self, key, axis)\u001b[0m\n\u001b[0;32m   1379\u001b[0m     \u001b[38;5;28;01mif\u001b[39;00m \u001b[38;5;28mhasattr\u001b[39m(key, \u001b[38;5;124m\"\u001b[39m\u001b[38;5;124mndim\u001b[39m\u001b[38;5;124m\"\u001b[39m) \u001b[38;5;129;01mand\u001b[39;00m key\u001b[38;5;241m.\u001b[39mndim \u001b[38;5;241m>\u001b[39m \u001b[38;5;241m1\u001b[39m:\n\u001b[0;32m   1380\u001b[0m         \u001b[38;5;28;01mraise\u001b[39;00m \u001b[38;5;167;01mValueError\u001b[39;00m(\u001b[38;5;124m\"\u001b[39m\u001b[38;5;124mCannot index with multidimensional key\u001b[39m\u001b[38;5;124m\"\u001b[39m)\n\u001b[1;32m-> 1382\u001b[0m     \u001b[38;5;28;01mreturn\u001b[39;00m \u001b[38;5;28mself\u001b[39m\u001b[38;5;241m.\u001b[39m_getitem_iterable(key, axis\u001b[38;5;241m=\u001b[39maxis)\n\u001b[0;32m   1384\u001b[0m \u001b[38;5;66;03m# nested tuple slicing\u001b[39;00m\n\u001b[0;32m   1385\u001b[0m \u001b[38;5;28;01mif\u001b[39;00m is_nested_tuple(key, labels):\n",
      "File \u001b[1;32m~\\anaconda3\\envs\\DeppClinic\\Lib\\site-packages\\pandas\\core\\indexing.py:1322\u001b[0m, in \u001b[0;36m_LocIndexer._getitem_iterable\u001b[1;34m(self, key, axis)\u001b[0m\n\u001b[0;32m   1319\u001b[0m \u001b[38;5;28mself\u001b[39m\u001b[38;5;241m.\u001b[39m_validate_key(key, axis)\n\u001b[0;32m   1321\u001b[0m \u001b[38;5;66;03m# A collection of keys\u001b[39;00m\n\u001b[1;32m-> 1322\u001b[0m keyarr, indexer \u001b[38;5;241m=\u001b[39m \u001b[38;5;28mself\u001b[39m\u001b[38;5;241m.\u001b[39m_get_listlike_indexer(key, axis)\n\u001b[0;32m   1323\u001b[0m \u001b[38;5;28;01mreturn\u001b[39;00m \u001b[38;5;28mself\u001b[39m\u001b[38;5;241m.\u001b[39mobj\u001b[38;5;241m.\u001b[39m_reindex_with_indexers(\n\u001b[0;32m   1324\u001b[0m     {axis: [keyarr, indexer]}, copy\u001b[38;5;241m=\u001b[39m\u001b[38;5;28;01mTrue\u001b[39;00m, allow_dups\u001b[38;5;241m=\u001b[39m\u001b[38;5;28;01mTrue\u001b[39;00m\n\u001b[0;32m   1325\u001b[0m )\n",
      "File \u001b[1;32m~\\anaconda3\\envs\\DeppClinic\\Lib\\site-packages\\pandas\\core\\indexing.py:1520\u001b[0m, in \u001b[0;36m_LocIndexer._get_listlike_indexer\u001b[1;34m(self, key, axis)\u001b[0m\n\u001b[0;32m   1517\u001b[0m ax \u001b[38;5;241m=\u001b[39m \u001b[38;5;28mself\u001b[39m\u001b[38;5;241m.\u001b[39mobj\u001b[38;5;241m.\u001b[39m_get_axis(axis)\n\u001b[0;32m   1518\u001b[0m axis_name \u001b[38;5;241m=\u001b[39m \u001b[38;5;28mself\u001b[39m\u001b[38;5;241m.\u001b[39mobj\u001b[38;5;241m.\u001b[39m_get_axis_name(axis)\n\u001b[1;32m-> 1520\u001b[0m keyarr, indexer \u001b[38;5;241m=\u001b[39m ax\u001b[38;5;241m.\u001b[39m_get_indexer_strict(key, axis_name)\n\u001b[0;32m   1522\u001b[0m \u001b[38;5;28;01mreturn\u001b[39;00m keyarr, indexer\n",
      "File \u001b[1;32m~\\anaconda3\\envs\\DeppClinic\\Lib\\site-packages\\pandas\\core\\indexes\\base.py:6114\u001b[0m, in \u001b[0;36mIndex._get_indexer_strict\u001b[1;34m(self, key, axis_name)\u001b[0m\n\u001b[0;32m   6111\u001b[0m \u001b[38;5;28;01melse\u001b[39;00m:\n\u001b[0;32m   6112\u001b[0m     keyarr, indexer, new_indexer \u001b[38;5;241m=\u001b[39m \u001b[38;5;28mself\u001b[39m\u001b[38;5;241m.\u001b[39m_reindex_non_unique(keyarr)\n\u001b[1;32m-> 6114\u001b[0m \u001b[38;5;28mself\u001b[39m\u001b[38;5;241m.\u001b[39m_raise_if_missing(keyarr, indexer, axis_name)\n\u001b[0;32m   6116\u001b[0m keyarr \u001b[38;5;241m=\u001b[39m \u001b[38;5;28mself\u001b[39m\u001b[38;5;241m.\u001b[39mtake(indexer)\n\u001b[0;32m   6117\u001b[0m \u001b[38;5;28;01mif\u001b[39;00m \u001b[38;5;28misinstance\u001b[39m(key, Index):\n\u001b[0;32m   6118\u001b[0m     \u001b[38;5;66;03m# GH 42790 - Preserve name from an Index\u001b[39;00m\n",
      "File \u001b[1;32m~\\anaconda3\\envs\\DeppClinic\\Lib\\site-packages\\pandas\\core\\indexes\\base.py:6178\u001b[0m, in \u001b[0;36mIndex._raise_if_missing\u001b[1;34m(self, key, indexer, axis_name)\u001b[0m\n\u001b[0;32m   6175\u001b[0m     \u001b[38;5;28;01mraise\u001b[39;00m \u001b[38;5;167;01mKeyError\u001b[39;00m(\u001b[38;5;124mf\u001b[39m\u001b[38;5;124m\"\u001b[39m\u001b[38;5;124mNone of [\u001b[39m\u001b[38;5;132;01m{\u001b[39;00mkey\u001b[38;5;132;01m}\u001b[39;00m\u001b[38;5;124m] are in the [\u001b[39m\u001b[38;5;132;01m{\u001b[39;00maxis_name\u001b[38;5;132;01m}\u001b[39;00m\u001b[38;5;124m]\u001b[39m\u001b[38;5;124m\"\u001b[39m)\n\u001b[0;32m   6177\u001b[0m not_found \u001b[38;5;241m=\u001b[39m \u001b[38;5;28mlist\u001b[39m(ensure_index(key)[missing_mask\u001b[38;5;241m.\u001b[39mnonzero()[\u001b[38;5;241m0\u001b[39m]]\u001b[38;5;241m.\u001b[39munique())\n\u001b[1;32m-> 6178\u001b[0m \u001b[38;5;28;01mraise\u001b[39;00m \u001b[38;5;167;01mKeyError\u001b[39;00m(\u001b[38;5;124mf\u001b[39m\u001b[38;5;124m\"\u001b[39m\u001b[38;5;132;01m{\u001b[39;00mnot_found\u001b[38;5;132;01m}\u001b[39;00m\u001b[38;5;124m not in index\u001b[39m\u001b[38;5;124m\"\u001b[39m)\n",
      "\u001b[1;31mKeyError\u001b[0m: \"['control'] not in index\""
     ]
    }
   ],
   "source": [
    "for target in target_variables['intake']:\n",
    "    intake = df_times['intake']\n",
    "    time2 = df_times['time2']\n",
    "    \n",
    "    intake = intake[['group', target]]\n",
    "    time2 = time2[['group', target]]\n",
    "\n",
    "    intake_values = intake.groupby('group')[target].sum()[['ipt', 'control']].values\n",
    "    intake_gb = intake.groupby('group')[target].sum()[['ipt', 'control']]\n",
    "\n",
    "    time2_values = time2.groupby('group')[target].sum()[['ipt', 'control']].values\n",
    "    time2_gb = time2.groupby('group')[target].sum()[['ipt', 'control']]\n",
    "\n",
    "    df = pd.DataFrame({'intake': intake_values, 'time2': time2_values})\n",
    "    print(f\"\\n\\n{target =}\\n\\n{intake_gb = }\\n\\n{time2_gb = }\\n\\n\")\n",
    "#     print('\\n\\n\\n\\n\\n',target)\n",
    "#     print(mcnemar(df.values, exact=False))"
   ]
  },
  {
   "cell_type": "code",
   "execution_count": 20,
   "id": "89cf37ff",
   "metadata": {
    "scrolled": true
   },
   "outputs": [
    {
     "name": "stdout",
     "output_type": "stream",
     "text": [
      "\n",
      "\n",
      "\n",
      "\n",
      "\n",
      " suicidal_ideation\n",
      "pvalue      0.02474467204639891\n",
      "statistic   5.041666666666667\n",
      "\n",
      "\n",
      "\n",
      "\n",
      "\n",
      " suicidal_behavior\n",
      "pvalue      0.008528852154051912\n",
      "statistic   6.918918918918919\n",
      "\n",
      "\n",
      "\n",
      "\n",
      "\n",
      " suicidal_attempt\n",
      "pvalue      0.0023457869795667934\n",
      "statistic   9.257142857142858\n",
      "\n",
      "\n",
      "\n",
      "\n",
      "\n",
      " ER\n",
      "pvalue      4.78548397437734e-05\n",
      "statistic   16.53125\n",
      "\n",
      "\n",
      "\n",
      "\n",
      "\n",
      " NSSI\n",
      "pvalue      0.00394775185690346\n",
      "statistic   8.307692307692308\n"
     ]
    }
   ],
   "source": [
    "for target in target_variables['intake']:\n",
    "    intake = df_times['intake']\n",
    "    time3 = df_times['time3']\n",
    "    \n",
    "    intake = intake[['group', target]]\n",
    "    time3 = time3[['group', target]]\n",
    "\n",
    "    intake_values = intake.groupby('group')[target].sum()[['ipt', 'control']].values\n",
    "    time3_values = time3.groupby('group')[target].sum()[['ipt', 'control']].values\n",
    "\n",
    "    df = pd.DataFrame({'intake': intake_values, 'time3': time3_values})\n",
    "    print('\\n\\n\\n\\n\\n', target)\n",
    "    print(mcnemar(df.values, exact=False))"
   ]
  },
  {
   "cell_type": "code",
   "execution_count": null,
   "id": "6da6b0ee",
   "metadata": {},
   "outputs": [],
   "source": []
  },
  {
   "cell_type": "code",
   "execution_count": null,
   "id": "0c42ce73",
   "metadata": {},
   "outputs": [],
   "source": []
  },
  {
   "cell_type": "code",
   "execution_count": null,
   "id": "8f78f763",
   "metadata": {},
   "outputs": [],
   "source": []
  }
 ],
 "metadata": {
  "kernelspec": {
   "display_name": "DeppClinic",
   "language": "python",
   "name": "deppclinic"
  },
  "language_info": {
   "codemirror_mode": {
    "name": "ipython",
    "version": 3
   },
   "file_extension": ".py",
   "mimetype": "text/x-python",
   "name": "python",
   "nbconvert_exporter": "python",
   "pygments_lexer": "ipython3",
   "version": "3.11.5"
  }
 },
 "nbformat": 4,
 "nbformat_minor": 5
}
