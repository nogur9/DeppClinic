{
 "cells": [
  {
   "cell_type": "code",
   "execution_count": 1,
   "id": "1a7a8e0e",
   "metadata": {},
   "outputs": [],
   "source": [
    "import pandas as pd\n",
    "import matplotlib.pyplot as plt\n",
    "import seaborn as sns\n",
    "import scipy\n",
    "import pingouin as pg\n",
    "from main import create_dataset\n",
    "import os\n"
   ]
  },
  {
   "cell_type": "code",
   "execution_count": 2,
   "id": "b5de0846",
   "metadata": {
    "scrolled": true
   },
   "outputs": [],
   "source": [
    "if not os.path.exists(\"Liat graphs/data/chi_square_data\"):\n",
    "    os.mkdir(\"Liat graphs/data/chi_square_data\")\n",
    "\n",
    "if not os.path.exists(\"Liat graphs/data/chi_square_data/intake\"):\n",
    "    os.mkdir(\"Liat graphs/data/chi_square_data/intake\")\n",
    "\n",
    "if not os.path.exists(\"Liat graphs/data/chi_square_data/time2\"):\n",
    "    os.mkdir(\"Liat graphs/data/chi_square_data/time2\")\n",
    "    \n",
    "if not os.path.exists(\"Liat graphs/data/chi_square_data/time3\"):\n",
    "    os.mkdir(\"Liat graphs/data/chi_square_data/time3\")\n",
    "    \n",
    "    \n",
    "df_times = {\n",
    "    'intake': pd.read_csv(r'Liat graphs/data/intake_processed.csv'),\n",
    "    'time2' : pd.read_csv(r'Liat graphs/data/time2_processed.csv'),\n",
    "    'time3' : pd.read_csv(r'Liat graphs/data/time3_processed.csv')\n",
    "}\n"
   ]
  },
  {
   "cell_type": "code",
   "execution_count": 3,
   "id": "e4637e05",
   "metadata": {},
   "outputs": [],
   "source": [
    "intake_target_variables =  ['suicidal_ideation', 'suicidal_behavior',\n",
    "        'suicidal_attempt', 'ER', 'NSSI']\n",
    "\n",
    "time2_target_variables = ['suicidal_ideation', 'suicidal_behavior', \n",
    "        'suicidal_attempt', 'ER', 'Psychiatric', \n",
    "        'NSSI', 'finished_treatment']\n",
    "\n",
    "target_variables = {\n",
    "    'intake': intake_target_variables,\n",
    "    'time2': time2_target_variables, \n",
    "    'time3': time2_target_variables}\n",
    "        "
   ]
  },
  {
   "cell_type": "code",
   "execution_count": 4,
   "id": "1d7a8367",
   "metadata": {},
   "outputs": [],
   "source": [
    "def create_plotting_dataset (df, target):\n",
    " \n",
    "    expected, observed, stats = pg.chi2_independence(data=df, x=target, y='group')\n",
    "    \n",
    "    # undoing Yates's correction for continuity\n",
    "    contingency_table = pd.crosstab(df['group'], df[target])\n",
    "    \n",
    "    return contingency_table, stats.pval[0]\n"
   ]
  },
  {
   "cell_type": "markdown",
   "id": "931461ed",
   "metadata": {},
   "source": [
    "### Intake"
   ]
  },
  {
   "cell_type": "code",
   "execution_count": 5,
   "id": "96765c0e",
   "metadata": {},
   "outputs": [
    {
     "name": "stderr",
     "output_type": "stream",
     "text": [
      "C:\\Users\\nogur\\anaconda3\\Lib\\site-packages\\pingouin\\contingency.py:150: UserWarning: Low count on observed frequencies.\n",
      "  warnings.warn(\"Low count on {} frequencies.\".format(name))\n",
      "C:\\Users\\nogur\\anaconda3\\Lib\\site-packages\\pingouin\\contingency.py:150: UserWarning: Low count on expected frequencies.\n",
      "  warnings.warn(\"Low count on {} frequencies.\".format(name))\n"
     ]
    }
   ],
   "source": [
    "df = df_times['intake']\n",
    "df = df[df.group.isin(['ipt', 'control'])]\n",
    "df = df[target_variables['intake'] + ['group']]\n",
    "    \n",
    "for target in target_variables['intake']:\n",
    "    observed, pval = create_plotting_dataset(df, target)\n",
    "    observed.to_csv(f\"Liat graphs/data/chi_square_data/intake/{target} - pval = {pval.round(decimals=3)}.csv\")"
   ]
  },
  {
   "cell_type": "markdown",
   "id": "74af7fdb",
   "metadata": {},
   "source": [
    "### Time 2"
   ]
  },
  {
   "cell_type": "code",
   "execution_count": 6,
   "id": "f04eb1ce",
   "metadata": {},
   "outputs": [
    {
     "name": "stderr",
     "output_type": "stream",
     "text": [
      "C:\\Users\\nogur\\anaconda3\\Lib\\site-packages\\pingouin\\contingency.py:150: UserWarning: Low count on observed frequencies.\n",
      "  warnings.warn(\"Low count on {} frequencies.\".format(name))\n",
      "C:\\Users\\nogur\\anaconda3\\Lib\\site-packages\\pingouin\\contingency.py:150: UserWarning: Low count on observed frequencies.\n",
      "  warnings.warn(\"Low count on {} frequencies.\".format(name))\n",
      "C:\\Users\\nogur\\anaconda3\\Lib\\site-packages\\pingouin\\contingency.py:150: UserWarning: Low count on expected frequencies.\n",
      "  warnings.warn(\"Low count on {} frequencies.\".format(name))\n",
      "C:\\Users\\nogur\\anaconda3\\Lib\\site-packages\\pingouin\\contingency.py:150: UserWarning: Low count on observed frequencies.\n",
      "  warnings.warn(\"Low count on {} frequencies.\".format(name))\n",
      "C:\\Users\\nogur\\anaconda3\\Lib\\site-packages\\pingouin\\contingency.py:150: UserWarning: Low count on expected frequencies.\n",
      "  warnings.warn(\"Low count on {} frequencies.\".format(name))\n"
     ]
    }
   ],
   "source": [
    "df = df_times['time2']\n",
    "df = df[df.group.isin(['ipt', 'control'])]\n",
    "df = df[target_variables['time2'] + ['group']]\n",
    "    \n",
    "for target in target_variables['time2']:\n",
    "    observed, pval = create_plotting_dataset(df, target)\n",
    "    observed.to_csv(f\"Liat graphs/data/chi_square_data/time2/{target} - pval = {pval.round(decimals=3)}.csv\")"
   ]
  },
  {
   "cell_type": "markdown",
   "id": "a68c0f09",
   "metadata": {},
   "source": [
    "### Time 3"
   ]
  },
  {
   "cell_type": "code",
   "execution_count": 7,
   "id": "4119378e",
   "metadata": {},
   "outputs": [
    {
     "name": "stderr",
     "output_type": "stream",
     "text": [
      "C:\\Users\\nogur\\anaconda3\\Lib\\site-packages\\pingouin\\contingency.py:150: UserWarning: Low count on observed frequencies.\n",
      "  warnings.warn(\"Low count on {} frequencies.\".format(name))\n",
      "C:\\Users\\nogur\\anaconda3\\Lib\\site-packages\\pingouin\\contingency.py:150: UserWarning: Low count on expected frequencies.\n",
      "  warnings.warn(\"Low count on {} frequencies.\".format(name))\n",
      "C:\\Users\\nogur\\anaconda3\\Lib\\site-packages\\pingouin\\contingency.py:150: UserWarning: Low count on observed frequencies.\n",
      "  warnings.warn(\"Low count on {} frequencies.\".format(name))\n",
      "C:\\Users\\nogur\\anaconda3\\Lib\\site-packages\\pingouin\\contingency.py:150: UserWarning: Low count on expected frequencies.\n",
      "  warnings.warn(\"Low count on {} frequencies.\".format(name))\n"
     ]
    }
   ],
   "source": [
    "df = df_times['time3']\n",
    "df = df[df.group.isin(['ipt', 'control'])]\n",
    "df = df[target_variables['time3'] + ['group']]\n",
    "    \n",
    "for target in target_variables['time3']:\n",
    "    observed, pval = create_plotting_dataset(df, target)\n",
    "    observed.to_csv(f\"Liat graphs/data/chi_square_data/time3/{target} - pval = {pval.round(decimals=3)}.csv\")"
   ]
  },
  {
   "cell_type": "code",
   "execution_count": null,
   "id": "8e1bbee6",
   "metadata": {},
   "outputs": [],
   "source": []
  }
 ],
 "metadata": {
  "kernelspec": {
   "display_name": "Python 3 (ipykernel)",
   "language": "python",
   "name": "python3"
  },
  "language_info": {
   "codemirror_mode": {
    "name": "ipython",
    "version": 3
   },
   "file_extension": ".py",
   "mimetype": "text/x-python",
   "name": "python",
   "nbconvert_exporter": "python",
   "pygments_lexer": "ipython3",
   "version": "3.11.4"
  }
 },
 "nbformat": 4,
 "nbformat_minor": 5
}
