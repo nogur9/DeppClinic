{
 "cells": [
  {
   "cell_type": "code",
   "execution_count": 1,
   "id": "9a6f57bc",
   "metadata": {},
   "outputs": [],
   "source": [
    "import pandas as pd"
   ]
  },
  {
   "cell_type": "code",
   "execution_count": 4,
   "id": "439f4dab",
   "metadata": {},
   "outputs": [],
   "source": [
    "df = pd.read_csv(\"DeppClinic_patient_data.csv\")"
   ]
  },
  {
   "cell_type": "code",
   "execution_count": 5,
   "id": "7f0f874c",
   "metadata": {},
   "outputs": [],
   "source": [
    "\n",
    "group_names = {\n",
    "    '0': 'invalid',\n",
    "    '1': 'ipt', # חירום\n",
    "    '2' : 'tau', # רגיל\n",
    "    '3': 'control' # מינימלית\n",
    "}\n",
    "df = df[df['age_child_pre'] < 12.5]\n"
   ]
  },
  {
   "cell_type": "code",
   "execution_count": 6,
   "id": "d2b35501",
   "metadata": {},
   "outputs": [],
   "source": [
    "def rename_groups(df, group_names):\n",
    "    df['group'] = '0'\n",
    "    df.loc[df['group___1'] == 1, 'group'] = '1'\n",
    "    df.loc[df['group___2'] == 1, 'group'] = '2'\n",
    "    df.loc[df['group___3'] == 1, 'group'] = '3'\n",
    "    df['group'] = df['group'].map(group_names)\n",
    "    return df\n",
    "\n",
    "\n",
    "df = rename_groups(df, group_names)\n",
    "df = df[df['group'].isin(['ipt', 'control'])]"
   ]
  },
  {
   "cell_type": "code",
   "execution_count": 8,
   "id": "5cc430ad",
   "metadata": {},
   "outputs": [
    {
     "data": {
      "text/plain": [
       "group    suicidal_ideation\n",
       "control  0                    33\n",
       "         1                    22\n",
       "ipt      1                    24\n",
       "         0                    16\n",
       "Name: count, dtype: int64"
      ]
     },
     "execution_count": 8,
     "metadata": {},
     "output_type": "execute_result"
    }
   ],
   "source": [
    "df.groupby(['group'])['suicidal_ideation'].value_counts()"
   ]
  },
  {
   "cell_type": "code",
   "execution_count": 10,
   "id": "0ff7232b",
   "metadata": {},
   "outputs": [
    {
     "data": {
      "text/html": [
       "<div>\n",
       "<style scoped>\n",
       "    .dataframe tbody tr th:only-of-type {\n",
       "        vertical-align: middle;\n",
       "    }\n",
       "\n",
       "    .dataframe tbody tr th {\n",
       "        vertical-align: top;\n",
       "    }\n",
       "\n",
       "    .dataframe thead th {\n",
       "        text-align: right;\n",
       "    }\n",
       "</style>\n",
       "<table border=\"1\" class=\"dataframe\">\n",
       "  <thead>\n",
       "    <tr style=\"text-align: right;\">\n",
       "      <th></th>\n",
       "      <th>id</th>\n",
       "      <th>suicidal_ideation</th>\n",
       "    </tr>\n",
       "  </thead>\n",
       "  <tbody>\n",
       "    <tr>\n",
       "      <th>10</th>\n",
       "      <td>i6535</td>\n",
       "      <td>0</td>\n",
       "    </tr>\n",
       "    <tr>\n",
       "      <th>11</th>\n",
       "      <td>N4125‏</td>\n",
       "      <td>0</td>\n",
       "    </tr>\n",
       "    <tr>\n",
       "      <th>15</th>\n",
       "      <td>E5541</td>\n",
       "      <td>1</td>\n",
       "    </tr>\n",
       "    <tr>\n",
       "      <th>21</th>\n",
       "      <td>N7245</td>\n",
       "      <td>1</td>\n",
       "    </tr>\n",
       "    <tr>\n",
       "      <th>24</th>\n",
       "      <td>H0740</td>\n",
       "      <td>1</td>\n",
       "    </tr>\n",
       "    <tr>\n",
       "      <th>...</th>\n",
       "      <td>...</td>\n",
       "      <td>...</td>\n",
       "    </tr>\n",
       "    <tr>\n",
       "      <th>508</th>\n",
       "      <td>A1651</td>\n",
       "      <td>1</td>\n",
       "    </tr>\n",
       "    <tr>\n",
       "      <th>511</th>\n",
       "      <td>T8560</td>\n",
       "      <td>1</td>\n",
       "    </tr>\n",
       "    <tr>\n",
       "      <th>515</th>\n",
       "      <td>A3781</td>\n",
       "      <td>0</td>\n",
       "    </tr>\n",
       "    <tr>\n",
       "      <th>522</th>\n",
       "      <td>N7753</td>\n",
       "      <td>0</td>\n",
       "    </tr>\n",
       "    <tr>\n",
       "      <th>526</th>\n",
       "      <td>T4075</td>\n",
       "      <td>1</td>\n",
       "    </tr>\n",
       "  </tbody>\n",
       "</table>\n",
       "<p>95 rows × 2 columns</p>\n",
       "</div>"
      ],
      "text/plain": [
       "         id  suicidal_ideation\n",
       "10    i6535                  0\n",
       "11   N4125‏                  0\n",
       "15    E5541                  1\n",
       "21    N7245                  1\n",
       "24    H0740                  1\n",
       "..      ...                ...\n",
       "508   A1651                  1\n",
       "511   T8560                  1\n",
       "515   A3781                  0\n",
       "522   N7753                  0\n",
       "526   T4075                  1\n",
       "\n",
       "[95 rows x 2 columns]"
      ]
     },
     "execution_count": 10,
     "metadata": {},
     "output_type": "execute_result"
    }
   ],
   "source": [
    "df[['id', 'suicidal_ideation']]"
   ]
  },
  {
   "cell_type": "code",
   "execution_count": null,
   "id": "23859ed4",
   "metadata": {},
   "outputs": [],
   "source": []
  }
 ],
 "metadata": {
  "kernelspec": {
   "display_name": "DeppClinic",
   "language": "python",
   "name": "deppclinic"
  },
  "language_info": {
   "codemirror_mode": {
    "name": "ipython",
    "version": 3
   },
   "file_extension": ".py",
   "mimetype": "text/x-python",
   "name": "python",
   "nbconvert_exporter": "python",
   "pygments_lexer": "ipython3",
   "version": "3.11.5"
  }
 },
 "nbformat": 4,
 "nbformat_minor": 5
}
