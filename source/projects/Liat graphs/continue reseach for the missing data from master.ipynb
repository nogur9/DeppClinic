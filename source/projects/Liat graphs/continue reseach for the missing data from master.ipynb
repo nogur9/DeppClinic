{
 "cells": [
  {
   "cell_type": "code",
   "execution_count": 1,
   "id": "43047595",
   "metadata": {},
   "outputs": [],
   "source": [
    "import pandas as pd\n",
    "import os"
   ]
  },
  {
   "cell_type": "code",
   "execution_count": 2,
   "id": "5bcc3a04",
   "metadata": {},
   "outputs": [
    {
     "data": {
      "text/plain": [
       "'C:\\\\Users\\\\nogur\\\\Documents\\\\DeppClinic\\\\Liat graphs'"
      ]
     },
     "execution_count": 2,
     "metadata": {},
     "output_type": "execute_result"
    }
   ],
   "source": [
    "os.getcwd()"
   ]
  },
  {
   "cell_type": "code",
   "execution_count": 3,
   "id": "53e39251",
   "metadata": {},
   "outputs": [
    {
     "name": "stderr",
     "output_type": "stream",
     "text": [
      "C:\\Users\\nogur\\AppData\\Local\\Temp\\ipykernel_22488\\2256626102.py:1: DtypeWarning: Columns (0,44,50,73,84,309,437,442,443,450,457,486,502,540,549,568,728,733,745,747,752,763,801,810,829,882,883,884,885,886,887,888,889,890,891,892,951,989,994,1000,1015,1045,1065,1066,1070,1071,1072,1073,1075,1076,1077,1080,1081,1098,1103,1119,1121,1172,1174,1193,1195,1196,1197,1203,1204,1205,1206,1358,1360,1361,1362,1368,1369,1370,1371,1486,1492,1493,1496,1497,1498,1499,1508,1516,1532,1535,1546) have mixed types. Specify dtype option on import or set low_memory=False.\n",
      "  df = pd.read_csv(r\"../creating_the_clinic_dataset/preprocessed_data/merged_2021_and_2022.csv\", na_values=' ')\n"
     ]
    }
   ],
   "source": [
    "df = pd.read_csv(r\"../creating_the_clinic_dataset/preprocessed_data/merged_2021_and_2022.csv\", na_values=' ')\n",
    "df_missing = pd.read_csv(\"data/נבדקי רדקאפ שלא קיימים במאסטר.csv\")"
   ]
  },
  {
   "cell_type": "code",
   "execution_count": null,
   "id": "d0fb4ffd",
   "metadata": {},
   "outputs": [],
   "source": []
  },
  {
   "cell_type": "code",
   "execution_count": 4,
   "id": "cc06f6bb",
   "metadata": {},
   "outputs": [],
   "source": [
    "df_missing = df_missing[df_missing['הערות'] == 'לא מופיע ברדקאפ']"
   ]
  },
  {
   "cell_type": "code",
   "execution_count": 5,
   "id": "0e08727c",
   "metadata": {},
   "outputs": [],
   "source": [
    "missing_data_from_redcap = df[df.id.isin(df_missing.id)]"
   ]
  },
  {
   "cell_type": "code",
   "execution_count": 7,
   "id": "72a77e88",
   "metadata": {},
   "outputs": [
    {
     "data": {
      "text/plain": [
       "array([2022, '2021'], dtype=object)"
      ]
     },
     "execution_count": 7,
     "metadata": {},
     "output_type": "execute_result"
    }
   ],
   "source": [
    "missing_data_from_redcap.original_dataset.unique()"
   ]
  },
  {
   "cell_type": "code",
   "execution_count": 10,
   "id": "74ecbec2",
   "metadata": {},
   "outputs": [
    {
     "data": {
      "text/plain": [
       "709    ER 31.7\n",
       "732    ER 11.9\n",
       "773    ER 1/12\n",
       "Name: id, dtype: object"
      ]
     },
     "execution_count": 10,
     "metadata": {},
     "output_type": "execute_result"
    }
   ],
   "source": [
    "missing_data_from_redcap[missing_data_from_redcap.original_dataset == 2022].id"
   ]
  },
  {
   "cell_type": "code",
   "execution_count": null,
   "id": "2145d79a",
   "metadata": {},
   "outputs": [],
   "source": [
    "df2[df2.id.isin]"
   ]
  }
 ],
 "metadata": {
  "kernelspec": {
   "display_name": "DeppClinic",
   "language": "python",
   "name": "deppclinic"
  },
  "language_info": {
   "codemirror_mode": {
    "name": "ipython",
    "version": 3
   },
   "file_extension": ".py",
   "mimetype": "text/x-python",
   "name": "python",
   "nbconvert_exporter": "python",
   "pygments_lexer": "ipython3",
   "version": "3.11.4"
  }
 },
 "nbformat": 4,
 "nbformat_minor": 5
}
