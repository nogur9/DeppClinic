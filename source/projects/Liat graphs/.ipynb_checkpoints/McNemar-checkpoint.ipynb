{
 "cells": [
  {
   "cell_type": "code",
   "execution_count": 3,
   "id": "1a7a8e0e",
   "metadata": {},
   "outputs": [],
   "source": [
    "import pandas as pd\n",
    "import matplotlib.pyplot as plt\n",
    "import seaborn as sns\n",
    "import scipy\n",
    "import pingouin as pg\n",
    "from main import create_dataset\n",
    "import os\n",
    "\n",
    "from statsmodels.stats.contingency_tables import mcnemar\n",
    "import statsmodels.api as sm\n",
    "from statsmodels.stats.contingency_tables import Table"
   ]
  },
  {
   "cell_type": "code",
   "execution_count": 4,
   "id": "b5de0846",
   "metadata": {
    "scrolled": true
   },
   "outputs": [],
   "source": [
    "times = {'intake': ['intake_arm_1', 'pre_treatment_arm_1'],\n",
    "         'time2' : ['5th_session_arm_1', 'control_5weeks_arm_1'],\n",
    "         'time3' : ['followup_3month_arm_1', 'control_3month_arm_1', 'control_6month_arm_1'],\n",
    "        }\n",
    "if not os.path.exists(\"Liat graphs/plots\"):\n",
    "    os.mkdir(\"Liat graphs/plots\")\n",
    "\n",
    "group_names = {\n",
    "    '0': 'invalid',\n",
    "    '1': 'ipt', # חירום\n",
    "    '2' : 'tau', # רגיל\n",
    "    '3': 'control' # מינימלית\n",
    "}\n",
    "\n",
    "# for time in times.keys():\n",
    "#     print(time)\n",
    "#     create_dataset(event_names = times[time], path = f\"Liat graphs/data/{time}.csv\")\n"
   ]
  },
  {
   "cell_type": "code",
   "execution_count": 5,
   "id": "e4637e05",
   "metadata": {},
   "outputs": [],
   "source": [
    "df_times = {\n",
    "    'intake': pd.read_csv(r'Liat graphs/data/intake.csv'),\n",
    "    'time2' : pd.read_csv(r'Liat graphs/data/time2.csv'),\n",
    "    'time3' : pd.read_csv(r'Liat graphs/data/time3.csv')\n",
    "         }\n",
    "\n",
    "intake_target_variables =  ['suicidal_ideation', 'suicidal_behavior',\n",
    "        'suicidal_attempt', 'ER', 'NSSI']\n",
    "\n",
    "time2_target_variables = ['suicidal_ideation', 'suicidal_behavior', \n",
    "        'suicidal_attempt', 'ER', 'Psychiatric', \n",
    "        'NSSI', 'finished_treatment']\n",
    "\n",
    "target_variables = {\n",
    "    'intake': intake_target_variables,\n",
    "    'time2': time2_target_variables, \n",
    "    'time3': time2_target_variables}\n",
    "        "
   ]
  },
  {
   "cell_type": "code",
   "execution_count": 7,
   "id": "f771b24e",
   "metadata": {},
   "outputs": [],
   "source": [
    "def rename_groups(df, group_names):\n",
    "    df['group'] = '0'\n",
    "    df.loc[df['group___1'] == 1, 'group'] = '1'\n",
    "    df.loc[df['group___2'] == 1, 'group'] = '2'\n",
    "    df.loc[df['group___3'] == 1, 'group'] = '3'\n",
    "    df['group'] = df['group'].map(group_names)\n",
    "    return df\n",
    "\n",
    "for time in times:\n",
    "    df_times[time]['time'] = time\n",
    "    df_times[time] = rename_groups(df_times[time], group_names)"
   ]
  },
  {
   "cell_type": "code",
   "execution_count": 9,
   "id": "9f02b8dd",
   "metadata": {},
   "outputs": [],
   "source": [
    "df_short = pd.concat([df_times['intake'], df_times['time2']])\n",
    "df_long = pd.concat([df_times['intake'], df_times['time3']])"
   ]
  },
  {
   "cell_type": "markdown",
   "id": "2c71439b",
   "metadata": {},
   "source": [
    "## Short time"
   ]
  },
  {
   "cell_type": "code",
   "execution_count": 16,
   "id": "6da6b0ee",
   "metadata": {},
   "outputs": [],
   "source": [
    "contingency_table = pd.crosstab(df['group'], df['time'], values=df['target'], aggfunc='sum')"
   ]
  },
  {
   "cell_type": "code",
   "execution_count": 10,
   "id": "0c42ce73",
   "metadata": {},
   "outputs": [],
   "source": [
    "def do_mcnemar_test(df, groups, target_variable):\n",
    "    df = df[df.group.isin(groups)]\n",
    "    contingency_table = pd.crosstab(df['group'], df['time'], values=df[target_variable], aggfunc='sum')\n",
    "    print(f'{groups = }\\n {target_variable = }')\n",
    "    print(mcnemar(contingency_table.values))\n",
    "    print('\\t---------------------\\n\\n\\n\\n\\n')"
   ]
  },
  {
   "cell_type": "code",
   "execution_count": 13,
   "id": "90fe2d49",
   "metadata": {},
   "outputs": [
    {
     "name": "stdout",
     "output_type": "stream",
     "text": [
      "groups = ['ipt', 'control']\n",
      " target_variable = 'suicidal_ideation'\n",
      "pvalue      5.103511101755181e-05\n",
      "statistic   47.0\n",
      "\t---------------------\n",
      "\n",
      "\n",
      "\n",
      "\n",
      "\n",
      "groups = ['ipt', 'control']\n",
      " target_variable = 'suicidal_behavior'\n",
      "pvalue      0.417692190836533\n",
      "statistic   16.0\n",
      "\t---------------------\n",
      "\n",
      "\n",
      "\n",
      "\n",
      "\n",
      "groups = ['ipt', 'control']\n",
      " target_variable = 'suicidal_attempt'\n",
      "pvalue      0.01181793212890625\n",
      "statistic   4.0\n",
      "\t---------------------\n",
      "\n",
      "\n",
      "\n",
      "\n",
      "\n",
      "groups = ['ipt', 'control']\n",
      " target_variable = 'ER'\n",
      "pvalue      0.453125\n",
      "statistic   2.0\n",
      "\t---------------------\n",
      "\n",
      "\n",
      "\n",
      "\n",
      "\n",
      "groups = ['ipt', 'control']\n",
      " target_variable = 'NSSI'\n",
      "pvalue      0.01348929373119186\n",
      "statistic   20.0\n",
      "\t---------------------\n",
      "\n",
      "\n",
      "\n",
      "\n",
      "\n"
     ]
    }
   ],
   "source": [
    "for target_variable in intake_target_variables:\n",
    "    groups = ['ipt', 'control']\n",
    "    do_mcnemar_test(df_short, groups, target_variable)"
   ]
  },
  {
   "cell_type": "markdown",
   "id": "57768f3d",
   "metadata": {},
   "source": [
    "## Long time"
   ]
  },
  {
   "cell_type": "code",
   "execution_count": 14,
   "id": "2b450cfd",
   "metadata": {},
   "outputs": [
    {
     "name": "stdout",
     "output_type": "stream",
     "text": [
      "groups = ['ipt', 'control']\n",
      " target_variable = 'suicidal_ideation'\n",
      "pvalue      3.1939575642310886e-07\n",
      "statistic   37.0\n",
      "\t---------------------\n",
      "\n",
      "\n",
      "\n",
      "\n",
      "\n",
      "groups = ['ipt', 'control']\n",
      " target_variable = 'suicidal_behavior'\n",
      "pvalue      0.12144948495551944\n",
      "statistic   12.0\n",
      "\t---------------------\n",
      "\n",
      "\n",
      "\n",
      "\n",
      "\n",
      "groups = ['ipt', 'control']\n",
      " target_variable = 'suicidal_attempt'\n",
      "pvalue      0.001312255859375\n",
      "statistic   2.0\n",
      "\t---------------------\n",
      "\n",
      "\n",
      "\n",
      "\n",
      "\n",
      "groups = ['ipt', 'control']\n",
      " target_variable = 'ER'\n",
      "pvalue      0.453125\n",
      "statistic   2.0\n",
      "\t---------------------\n",
      "\n",
      "\n",
      "\n",
      "\n",
      "\n",
      "groups = ['ipt', 'control']\n",
      " target_variable = 'NSSI'\n",
      "pvalue      0.008641499683281734\n",
      "statistic   19.0\n",
      "\t---------------------\n",
      "\n",
      "\n",
      "\n",
      "\n",
      "\n"
     ]
    }
   ],
   "source": [
    "for target_variable in intake_target_variables:\n",
    "    groups = ['ipt', 'control']\n",
    "    do_mcnemar_test(df_long, groups, target_variable)"
   ]
  },
  {
   "cell_type": "code",
   "execution_count": null,
   "id": "bc15c8a0",
   "metadata": {},
   "outputs": [],
   "source": []
  }
 ],
 "metadata": {
  "kernelspec": {
   "display_name": "Python 3 (ipykernel)",
   "language": "python",
   "name": "python3"
  },
  "language_info": {
   "codemirror_mode": {
    "name": "ipython",
    "version": 3
   },
   "file_extension": ".py",
   "mimetype": "text/x-python",
   "name": "python",
   "nbconvert_exporter": "python",
   "pygments_lexer": "ipython3",
   "version": "3.11.4"
  }
 },
 "nbformat": 4,
 "nbformat_minor": 5
}
