{
 "cells": [
  {
   "cell_type": "code",
   "execution_count": 1,
   "id": "6313c3c5-0611-46f1-ad0a-7b3eba172a36",
   "metadata": {},
   "outputs": [],
   "source": [
    "import pandas as pd\n",
    "import re\n",
    "import pandas_profiling as pp"
   ]
  },
  {
   "cell_type": "code",
   "execution_count": 2,
   "id": "3bc07696-f4b4-4e26-aaa2-ee6de2f85588",
   "metadata": {},
   "outputs": [
    {
     "name": "stderr",
     "output_type": "stream",
     "text": [
      "C:\\Users\\nogur\\anaconda3\\lib\\site-packages\\IPython\\core\\interactiveshell.py:3444: DtypeWarning: Columns (48) have mixed types.Specify dtype option on import or set low_memory=False.\n",
      "  exec(code_obj, self.user_global_ns, self.user_ns)\n"
     ]
    }
   ],
   "source": [
    "df_2021 = pd.read_csv(r\"../original_data/Schneider Depression Clinic Database.csv\", na_values= ' ')"
   ]
  },
  {
   "cell_type": "code",
   "execution_count": 3,
   "id": "10b58d7d-28fd-4e17-bdc8-6f5777f2cf9d",
   "metadata": {},
   "outputs": [],
   "source": [
    "df = pd.read_csv('all_columns_2021.csv').rename({'0': 'name'},axis=1)\n",
    "opening_start = df[df['name'] == 'opening_timestamp'].index[0]\n",
    "opening_end = df[df['name'] == 'opening_complete'].index[0]\n",
    "marisscisf_start = df[df['name'] == 'marisscisf_timestamp'].index[0]\n",
    "marisscisf_end = df[df['name'] == 'marisscisf_complete'].index[0]"
   ]
  },
  {
   "cell_type": "code",
   "execution_count": 18,
   "id": "99a79c1e-bea3-4b02-b847-0f8b22613f85",
   "metadata": {},
   "outputs": [],
   "source": [
    "columns_dict = {\n",
    "    'opening': df.iloc[opening_start+1:opening_end]['name'].to_list(),\n",
    "    'maris_sci_sf': df.iloc[marisscisf_start+1:marisscisf_end]['name'].to_list(),\n",
    "}"
   ]
  },
  {
   "cell_type": "code",
   "execution_count": 6,
   "id": "81a04b2c-e1e2-4bac-b87d-666ec8d94bf3",
   "metadata": {},
   "outputs": [],
   "source": [
    "maris_2021 = df_2021[(df_2021.age_child_pre_first > 0) & (df_2021.age_child_pre_first <= 12) & (df_2021.redcap_event_name=='intake_arm_1')][columns_dict['maris_sci_sf']+['age_child_pre_first', 'id', 'record_id', 'redcap_event_name']]"
   ]
  },
  {
   "cell_type": "code",
   "execution_count": 22,
   "id": "e5666f85-10c6-4d1e-9e32-fda962ea154a",
   "metadata": {},
   "outputs": [
    {
     "data": {
      "text/plain": [
       "(86, 14)"
      ]
     },
     "execution_count": 22,
     "metadata": {},
     "output_type": "execute_result"
    }
   ],
   "source": [
    "maris_2021.shape"
   ]
  },
  {
   "cell_type": "code",
   "execution_count": 17,
   "id": "793ec3a7-dc96-48de-b084-8b182652ba1c",
   "metadata": {},
   "outputs": [
    {
     "data": {
      "text/plain": [
       "(50, 14)"
      ]
     },
     "execution_count": 17,
     "metadata": {},
     "output_type": "execute_result"
    }
   ],
   "source": [
    "maris_2021.dropna(subset=columns_dict['maris_sci_sf'], how='any').shape"
   ]
  },
  {
   "cell_type": "code",
   "execution_count": 16,
   "id": "35fc3348-a56c-4680-9760-e70cc4272f68",
   "metadata": {},
   "outputs": [
    {
     "data": {
      "text/plain": [
       "(52, 14)"
      ]
     },
     "execution_count": 16,
     "metadata": {},
     "output_type": "execute_result"
    }
   ],
   "source": [
    "maris_2021.dropna(subset=columns_dict['maris_sci_sf'], how='all').shape"
   ]
  },
  {
   "cell_type": "code",
   "execution_count": 23,
   "id": "f5961318-d7c9-459f-abcd-a0e426dfce87",
   "metadata": {},
   "outputs": [
    {
     "name": "stdout",
     "output_type": "stream",
     "text": [
      "['er_num', 'complaint___1', 'complaint___2', 'complaint___3', 'complaint___4', 'complaint___5', 'complaint___6', 'complaint_other', 'complaint_date', 'diagnosis___1', 'diagnosis___2', 'diagnosis___3', 'diagnosis___4', 'diagnosis___5', 'diagnosis___6', 'diagnosis___7', 'diagnosis___8', 'diagnosis___9', 'diagnosis___10', 'diagnosis___11', 'diagnosis___12', 'diagnosis___13', 'diagnosis___14', 'diagnosis_other', 'opening_psychothe', 'opening_psychothe_2___1', 'opening_psychothe_2___2', 'opening_psychothe_2___3', 'opening_psychothe_2___4', 'opening_psychothe_2___5', 'opening_psychothe_2___6', 'opening_psychothe_2___7', 'opening_psychothe_3', 'opening_medicine', 'opening_medicine_2___1', 'opening_medicine_2___2', 'opening_medicine_2___3', 'opening_medicine_2___4', 'opening_medicine_2___5', 'opening_medicine_3', 'iat_done', 'iat_done_no', 'group___1', 'group___2', 'group___3', 'Group', 'Group99', 'consent', 'consent_no']\n"
     ]
    }
   ],
   "source": [
    "print([i for i in columns_dict['opening']])"
   ]
  },
  {
   "cell_type": "code",
   "execution_count": 5,
   "id": "cb4c1171-3701-479c-88aa-4c65876e7366",
   "metadata": {},
   "outputs": [
    {
     "data": {
      "application/vnd.jupyter.widget-view+json": {
       "model_id": "1c4fb5ef9d614c53b6e7168188cf763a",
       "version_major": 2,
       "version_minor": 0
      },
      "text/plain": [
       "Summarize dataset:   0%|          | 0/5 [00:00<?, ?it/s]"
      ]
     },
     "metadata": {},
     "output_type": "display_data"
    },
    {
     "data": {
      "application/vnd.jupyter.widget-view+json": {
       "model_id": "3d6b1719b7644cb486a7378c44f78cb0",
       "version_major": 2,
       "version_minor": 0
      },
      "text/plain": [
       "Generate report structure:   0%|          | 0/1 [00:00<?, ?it/s]"
      ]
     },
     "metadata": {},
     "output_type": "display_data"
    },
    {
     "data": {
      "application/vnd.jupyter.widget-view+json": {
       "model_id": "bc3c8dec02564201a05cb5b32910ace4",
       "version_major": 2,
       "version_minor": 0
      },
      "text/plain": [
       "Render HTML:   0%|          | 0/1 [00:00<?, ?it/s]"
      ]
     },
     "metadata": {},
     "output_type": "display_data"
    },
    {
     "data": {
      "application/vnd.jupyter.widget-view+json": {
       "model_id": "7496dcd1cbb248af8b4df7406f36b083",
       "version_major": 2,
       "version_minor": 0
      },
      "text/plain": [
       "Export report to file:   0%|          | 0/1 [00:00<?, ?it/s]"
      ]
     },
     "metadata": {},
     "output_type": "display_data"
    }
   ],
   "source": [
    "to_profile = df_2021[(df_2021.age_child_pre_first > 0) & (df_2021.age_child_pre_first <= 12) & (df_2021.redcap_event_name=='intake_arm_1')][columns_dict['maris_sci_sf']+['age_child_pre_first', 'id', 'record_id', 'redcap_event_name']]\n",
    "profile = pp.ProfileReport(to_profile, title=\"2021 intake maris_sci_sf\")\n",
    "profile.to_file(\"2021_maris_sci_sf.html\")\n",
    "\n"
   ]
  },
  {
   "cell_type": "code",
   "execution_count": null,
   "id": "21ea0195-f932-495b-8222-0f99db49fd7a",
   "metadata": {},
   "outputs": [],
   "source": []
  },
  {
   "cell_type": "code",
   "execution_count": null,
   "id": "565697a2-b951-4f69-a05f-c6d57c267901",
   "metadata": {},
   "outputs": [],
   "source": []
  }
 ],
 "metadata": {
  "kernelspec": {
   "display_name": "Python 3 (ipykernel)",
   "language": "python",
   "name": "python3"
  },
  "language_info": {
   "codemirror_mode": {
    "name": "ipython",
    "version": 3
   },
   "file_extension": ".py",
   "mimetype": "text/x-python",
   "name": "python",
   "nbconvert_exporter": "python",
   "pygments_lexer": "ipython3",
   "version": "3.9.7"
  }
 },
 "nbformat": 4,
 "nbformat_minor": 5
}
