{
 "cells": [
  {
   "cell_type": "code",
   "execution_count": 2,
   "id": "c893a11b-7c9e-4abd-a911-5cbf0b3ac588",
   "metadata": {},
   "outputs": [],
   "source": [
    "import pandas as pd\n",
    "df = pd.read_csv('all_columns_2021.csv').rename({'0': 'name'},axis=1)"
   ]
  },
  {
   "cell_type": "code",
   "execution_count": 3,
   "id": "2a247030-2d62-4fd1-b4e4-885992195b53",
   "metadata": {},
   "outputs": [],
   "source": [
    "opening_start = df[df['name'] == 'opening_timestamp'].index[0]"
   ]
  },
  {
   "cell_type": "code",
   "execution_count": 4,
   "id": "6b254f25-07f7-4de3-bd3e-e242395d579c",
   "metadata": {},
   "outputs": [],
   "source": [
    "opening_end = df[df['name'] == 'opening_complete'].index[0]"
   ]
  },
  {
   "cell_type": "code",
   "execution_count": 6,
   "id": "e48f7347-0ae3-436a-be14-a0a731e2ca81",
   "metadata": {
    "collapsed": true,
    "jupyter": {
     "outputs_hidden": true
    },
    "tags": []
   },
   "outputs": [
    {
     "data": {
      "text/plain": [
       "83    marisscisf_timestamp\n",
       "85          maris_sci_sf_1\n",
       "86          maris_sci_sf_2\n",
       "87          maris_sci_sf_3\n",
       "88          maris_sci_sf_4\n",
       "89          maris_sci_sf_5\n",
       "90          maris_sci_sf_6\n",
       "91          maris_sci_sf_7\n",
       "92          maris_sci_sf_8\n",
       "93          maris_sci_sf_9\n",
       "94     marisscisf_complete\n",
       "Name: name, dtype: object"
      ]
     },
     "execution_count": 6,
     "metadata": {},
     "output_type": "execute_result"
    }
   ],
   "source": [
    "df[(df['name'].str.startswith('marisscisf')) | (df['name'].str.startswith('maris_sci_sf'))]['name']"
   ]
  },
  {
   "cell_type": "code",
   "execution_count": 7,
   "id": "4dc4dea0-9702-48d8-8500-75575e62900f",
   "metadata": {
    "tags": []
   },
   "outputs": [
    {
     "data": {
      "text/plain": [
       "['marisscisf_timestamp',\n",
       " 'age_child',\n",
       " 'maris_sci_sf_1',\n",
       " 'maris_sci_sf_2',\n",
       " 'maris_sci_sf_3',\n",
       " 'maris_sci_sf_4',\n",
       " 'maris_sci_sf_5',\n",
       " 'maris_sci_sf_6',\n",
       " 'maris_sci_sf_7',\n",
       " 'maris_sci_sf_8',\n",
       " 'maris_sci_sf_9',\n",
       " 'marisscisf_complete']"
      ]
     },
     "execution_count": 7,
     "metadata": {},
     "output_type": "execute_result"
    }
   ],
   "source": [
    "marisscisf_start = df[df['name'] == 'marisscisf_timestamp'].index[0]\n",
    "marisscisf_end = df[df['name'] == 'marisscisf_complete'].index[0]\n",
    "df.iloc[marisscisf_start:marisscisf_end+1]['name'].to_list()"
   ]
  },
  {
   "cell_type": "code",
   "execution_count": 9,
   "id": "f1372776-a0d6-47d5-894d-38809d891f27",
   "metadata": {
    "tags": []
   },
   "outputs": [
    {
     "data": {
      "text/plain": [
       "95     marissoqsf_timestamp\n",
       "96           maris_soq_sf_1\n",
       "97           maris_soq_sf_2\n",
       "98           maris_soq_sf_3\n",
       "99           maris_soq_sf_4\n",
       "100          maris_soq_sf_5\n",
       "101          maris_soq_sf_6\n",
       "102          maris_soq_sf_7\n",
       "103          maris_soq_sf_8\n",
       "104     marissoqsf_complete\n",
       "Name: name, dtype: object"
      ]
     },
     "execution_count": 9,
     "metadata": {},
     "output_type": "execute_result"
    }
   ],
   "source": [
    "marissoqsf_start = df[df['name'] == 'marissoqsf_timestamp'].index[0]\n",
    "marissoqsf_end = df[df['name'] == 'marissoqsf_complete'].index[0]\n",
    "df.iloc[marissoqsf_start:marissoqsf_end+1]['name']"
   ]
  },
  {
   "cell_type": "code",
   "execution_count": 10,
   "id": "865a6426-9fc7-40b9-8894-509e93c2aae1",
   "metadata": {
    "collapsed": true,
    "jupyter": {
     "outputs_hidden": true
    },
    "tags": []
   },
   "outputs": [
    {
     "data": {
      "text/plain": [
       "105    cssrs_intake_timestamp\n",
       "106             c_ssrs_1_life\n",
       "107             c_ssrs_2_life\n",
       "108             c_ssrs_3_life\n",
       "109             c_ssrs_4_life\n",
       "110             c_ssrs_5_life\n",
       "111             c_ssrs_6_life\n",
       "112           c_ssrs_1_2weeks\n",
       "113           c_ssrs_2_2weeks\n",
       "114           c_ssrs_3_2weeks\n",
       "115           c_ssrs_4_2weeks\n",
       "116           c_ssrs_5_2weeks\n",
       "117           c_ssrs_6_2weeks\n",
       "118           c_ssrs_6_3month\n",
       "119           c_ssrs_7_intake\n",
       "120           c_ssrs_8_intake\n",
       "121     cssrs_intake_complete\n",
       "Name: name, dtype: object"
      ]
     },
     "execution_count": 10,
     "metadata": {},
     "output_type": "execute_result"
    }
   ],
   "source": [
    "c_ssrs_intake_start = df[df['name'] == 'cssrs_intake_timestamp'].index[0]\n",
    "c_ssrs_intake_end = df[df['name'] == 'cssrs_intake_complete'].index[0]\n",
    "df.iloc[c_ssrs_intake_start:c_ssrs_intake_end+1]['name']"
   ]
  },
  {
   "cell_type": "code",
   "execution_count": 11,
   "id": "eb78970f-805b-4aae-a74e-5450798fae2c",
   "metadata": {
    "collapsed": true,
    "jupyter": {
     "outputs_hidden": true
    },
    "tags": []
   },
   "outputs": [
    {
     "data": {
      "text/plain": [
       "142        cssrs_timestamp\n",
       "143               c_ssrs_1\n",
       "144               c_ssrs_2\n",
       "145               c_ssrs_3\n",
       "146               c_ssrs_4\n",
       "147               c_ssrs_5\n",
       "148               c_ssrs_6\n",
       "149    c_ssrs_last_visit_6\n",
       "150               c_ssrs_7\n",
       "151               c_ssrs_8\n",
       "152         cssrs_complete\n",
       "Name: name, dtype: object"
      ]
     },
     "execution_count": 11,
     "metadata": {},
     "output_type": "execute_result"
    }
   ],
   "source": [
    "c_ssrs_start = df[df['name'] == 'cssrs_timestamp'].index[0]\n",
    "c_ssrs_end = df[df['name'] == 'cssrs_complete'].index[0]\n",
    "df.iloc[c_ssrs_start:c_ssrs_end+1]['name']"
   ]
  },
  {
   "cell_type": "code",
   "execution_count": 12,
   "id": "3c04e40b-83c9-4d29-b69e-9dbb6fd5f2a7",
   "metadata": {
    "collapsed": true,
    "jupyter": {
     "outputs_hidden": true
    },
    "tags": []
   },
   "outputs": [
    {
     "data": {
      "text/plain": [
       "122    mfq_short_timestamp\n",
       "123                  mfq_1\n",
       "124                  mfq_2\n",
       "125                  mfq_5\n",
       "126                  mfq_7\n",
       "127                  mfq_8\n",
       "128                 mfq_14\n",
       "129                 mfq_21\n",
       "130                 mfq_23\n",
       "131                 mfq_24\n",
       "132                 mfq_27\n",
       "133                 mfq_28\n",
       "134                 mfq_30\n",
       "135                 mfq_31\n",
       "136                 mfq_34\n",
       "137                 mfq_35\n",
       "138                 mfq_36\n",
       "139                 mfq_37\n",
       "140                mfq_sum\n",
       "141     mfq_short_complete\n",
       "Name: name, dtype: object"
      ]
     },
     "execution_count": 12,
     "metadata": {},
     "output_type": "execute_result"
    }
   ],
   "source": [
    "mfq_start = df[df['name'] == 'mfq_short_timestamp'].index[0]\n",
    "mfq_end = df[df['name'] == 'mfq_short_complete'].index[0]\n",
    "df.iloc[mfq_start:mfq_end+1]['name']"
   ]
  },
  {
   "cell_type": "code",
   "execution_count": 13,
   "id": "360baada-4dc8-425d-9c03-1428cb6054f1",
   "metadata": {
    "collapsed": true,
    "jupyter": {
     "outputs_hidden": true
    },
    "tags": []
   },
   "outputs": [
    {
     "data": {
      "text/plain": [
       "153    siq_timestamp\n",
       "154            siq_1\n",
       "155            siq_2\n",
       "156            siq_3\n",
       "157            siq_4\n",
       "158            siq_5\n",
       "159            siq_6\n",
       "160            siq_7\n",
       "161            siq_8\n",
       "162            siq_9\n",
       "163           siq_10\n",
       "164           siq_11\n",
       "165           siq_12\n",
       "166           siq_13\n",
       "167           siq_14\n",
       "168           siq_15\n",
       "169          siq_sum\n",
       "170     siq_complete\n",
       "Name: name, dtype: object"
      ]
     },
     "execution_count": 13,
     "metadata": {},
     "output_type": "execute_result"
    }
   ],
   "source": [
    "siq_start = df[df['name'] == 'siq_timestamp'].index[0]\n",
    "siq_end = df[df['name'] == 'siq_complete'].index[0]\n",
    "df.iloc[siq_start:siq_end+1]['name']"
   ]
  },
  {
   "cell_type": "code",
   "execution_count": 14,
   "id": "7b719edb-7fb5-492e-9dfa-ec5c1dbf9735",
   "metadata": {
    "collapsed": true,
    "jupyter": {
     "outputs_hidden": true
    },
    "tags": []
   },
   "outputs": [
    {
     "data": {
      "text/plain": [
       "171    sdq_timestamp\n",
       "172            sdq_1\n",
       "173            sdq_2\n",
       "174            sdq_3\n",
       "175            sdq_4\n",
       "176            sdq_5\n",
       "177            sdq_6\n",
       "178            sdq_7\n",
       "179            sdq_8\n",
       "180            sdq_9\n",
       "181           sdq_10\n",
       "182           sdq_11\n",
       "183           sdq_12\n",
       "184           sdq_13\n",
       "185           sdq_14\n",
       "186           sdq_15\n",
       "187           sdq_16\n",
       "188           sdq_17\n",
       "189           sdq_18\n",
       "190           sdq_19\n",
       "191           sdq_20\n",
       "192           sdq_21\n",
       "193           sdq_22\n",
       "194           sdq_23\n",
       "195           sdq_24\n",
       "196           sdq_25\n",
       "197     sdq_complete\n",
       "Name: name, dtype: object"
      ]
     },
     "execution_count": 14,
     "metadata": {},
     "output_type": "execute_result"
    }
   ],
   "source": [
    "sdq_start = df[df['name'] == 'sdq_timestamp'].index[0]\n",
    "sdq_end = df[df['name'] == 'sdq_complete'].index[0]\n",
    "df.iloc[sdq_start:sdq_end+1]['name']"
   ]
  },
  {
   "cell_type": "code",
   "execution_count": 15,
   "id": "a1a3ac6d-a2ef-4af3-b6f5-267e1b3c1c82",
   "metadata": {
    "collapsed": true,
    "jupyter": {
     "outputs_hidden": true
    },
    "tags": []
   },
   "outputs": [
    {
     "data": {
      "text/plain": [
       "198    sciafca_timestamp\n",
       "199          sci_af_ca_1\n",
       "200          sci_af_ca_2\n",
       "201          sci_af_ca_3\n",
       "202          sci_af_ca_4\n",
       "203          sci_af_ca_5\n",
       "204          sci_af_ca_6\n",
       "205          sci_af_ca_7\n",
       "206          sci_af_ca_8\n",
       "207          sci_af_ca_9\n",
       "208         sci_af_ca_10\n",
       "209         sci_af_ca_11\n",
       "210         sci_af_ca_12\n",
       "211         sci_af_ca_13\n",
       "212         sci_af_ca_14\n",
       "213         sci_af_ca_15\n",
       "214         sci_af_ca_16\n",
       "215         sci_af_ca_17\n",
       "216         sci_af_ca_18\n",
       "217         sci_af_ca_19\n",
       "218         sci_af_ca_20\n",
       "219         sci_af_ca_21\n",
       "220         sci_af_ca_22\n",
       "221         sci_af_ca_23\n",
       "222         sci_af_ca_24\n",
       "223         sci_af_ca_25\n",
       "224         sci_af_ca_26\n",
       "225         sci_af_ca_27\n",
       "226         sci_af_ca_28\n",
       "227         sci_af_ca_29\n",
       "228         sci_af_ca_30\n",
       "229         sci_af_ca_31\n",
       "230         sci_af_ca_32\n",
       "231         sci_af_ca_33\n",
       "232         sci_af_ca_34\n",
       "233         sci_af_ca_35\n",
       "234         sci_af_ca_36\n",
       "235         sci_af_ca_37\n",
       "236         sci_af_ca_38\n",
       "237         sci_af_ca_39\n",
       "238         sci_af_ca_40\n",
       "239     sciafca_complete\n",
       "Name: name, dtype: object"
      ]
     },
     "execution_count": 15,
     "metadata": {},
     "output_type": "execute_result"
    }
   ],
   "source": [
    "sciafca_start = df[df['name'] == 'sciafca_timestamp'].index[0]\n",
    "sciafca_end = df[df['name'] == 'sciafca_complete'].index[0]\n",
    "df.iloc[sciafca_start:sciafca_end+1]['name']"
   ]
  },
  {
   "cell_type": "code",
   "execution_count": 16,
   "id": "e63b892d-cea4-4917-88e7-0794bdcf454f",
   "metadata": {
    "collapsed": true,
    "jupyter": {
     "outputs_hidden": true
    },
    "tags": []
   },
   "outputs": [
    {
     "data": {
      "text/plain": [
       "240    scared_timestamp\n",
       "241            scared_1\n",
       "242            scared_2\n",
       "243            scared_3\n",
       "244            scared_4\n",
       "245            scared_5\n",
       "246            scared_6\n",
       "247            scared_7\n",
       "248            scared_8\n",
       "249            scared_9\n",
       "250           scared_10\n",
       "251           scared_11\n",
       "252           scared_12\n",
       "253           scared_13\n",
       "254           scared_14\n",
       "255           scared_15\n",
       "256           scared_16\n",
       "257           scared_17\n",
       "258           scared_18\n",
       "259           scared_19\n",
       "260           scared_20\n",
       "261           scared_21\n",
       "262           scared_22\n",
       "263           scared_23\n",
       "264           scared_24\n",
       "265           scared_25\n",
       "266           scared_26\n",
       "267           scared_27\n",
       "268           scared_28\n",
       "269           scared_29\n",
       "270           scared_30\n",
       "271           scared_31\n",
       "272           scared_32\n",
       "273           scared_33\n",
       "274           scared_34\n",
       "275           scared_35\n",
       "276           scared_36\n",
       "277           scared_37\n",
       "278           scared_38\n",
       "279           scared_39\n",
       "280           scared_40\n",
       "281           scared_41\n",
       "282     scared_complete\n",
       "Name: name, dtype: object"
      ]
     },
     "execution_count": 16,
     "metadata": {},
     "output_type": "execute_result"
    }
   ],
   "source": [
    "scared_start = df[df['name'] == 'scared_timestamp'].index[0]\n",
    "scared_end = df[df['name'] == 'scared_complete'].index[0]\n",
    "df.iloc[scared_start:scared_end+1]['name']"
   ]
  },
  {
   "cell_type": "code",
   "execution_count": 17,
   "id": "7fa69abe-f138-4c3b-9dca-d9e7a4ce67ec",
   "metadata": {
    "collapsed": true,
    "jupyter": {
     "outputs_hidden": true
    },
    "tags": []
   },
   "outputs": [
    {
     "data": {
      "text/plain": [
       "283    sas_timestamp\n",
       "284            sas_1\n",
       "285            sas_2\n",
       "286            sas_3\n",
       "287            sas_4\n",
       "288            sas_5\n",
       "289            sas_6\n",
       "290            sas_7\n",
       "291            sas_8\n",
       "292            sas_9\n",
       "293           sas_10\n",
       "294           sas_11\n",
       "295           sas_12\n",
       "296           sas_13\n",
       "297           sas_14\n",
       "298           sas_15\n",
       "299           sas_16\n",
       "300           sas_17\n",
       "301           sas_18\n",
       "302           sas_19\n",
       "303           sas_20\n",
       "304           sas_21\n",
       "305           sas_22\n",
       "306           sas_23\n",
       "307     sas_complete\n",
       "Name: name, dtype: object"
      ]
     },
     "execution_count": 17,
     "metadata": {},
     "output_type": "execute_result"
    }
   ],
   "source": [
    "sas_start = df[df['name'] == 'sas_timestamp'].index[0]\n",
    "sas_end = df[df['name'] == 'sas_complete'].index[0]\n",
    "df.iloc[sas_start:sas_end+1]['name']"
   ]
  },
  {
   "cell_type": "code",
   "execution_count": null,
   "id": "a8fee89d-8cf4-4a80-9f62-02d67e65133a",
   "metadata": {},
   "outputs": [],
   "source": [
    "erc_start = df[df['name'] == 'ecrrc_timestamp'].index[0]\n",
    "erc_end = df[df['name'] == 'ecrrc_complete'].index[0]\n",
    "df.iloc[erc_start:erc_end+1]['name']"
   ]
  },
  {
   "cell_type": "code",
   "execution_count": null,
   "id": "ac6b2428-ec03-4c58-86a1-21d73059d669",
   "metadata": {},
   "outputs": [],
   "source": [
    "ari_s_start = df[df['name'] == 'aris_timestamp'].index[0]\n",
    "ari_s_end = df[df['name'] == 'aris_complete'].index[0]\n",
    "df.iloc[ari_s_start:ari_s_end+1]['name']"
   ]
  },
  {
   "cell_type": "code",
   "execution_count": 19,
   "id": "fa893b19-c094-4549-a67c-ea087529de1e",
   "metadata": {
    "collapsed": true,
    "jupyter": {
     "outputs_hidden": true
    },
    "tags": []
   },
   "outputs": [
    {
     "data": {
      "text/plain": [
       "331    immirisk_adolescents_mast_athens_timestamp\n",
       "332                                           age\n",
       "333                                        mast_1\n",
       "334                                        mast_2\n",
       "335                                        mast_3\n",
       "336                                        mast_4\n",
       "337                                        mast_5\n",
       "338                                        mast_6\n",
       "339                                        mast_7\n",
       "340                                        mast_8\n",
       "341                                        mast_9\n",
       "342                                       mast_10\n",
       "343                                       mast_11\n",
       "344                                       mast_12\n",
       "345                                       mast_13\n",
       "346                                       mast_14\n",
       "347                                       mast_15\n",
       "348                                       mast_16\n",
       "349                                       mast_17\n",
       "350                                       mast_18\n",
       "351                                       mast_19\n",
       "352                                       mast_20\n",
       "353                                       mast_21\n",
       "354                                       mast_22\n",
       "355                                       mast_23\n",
       "356                                       mast_24\n",
       "357                                       mast_25\n",
       "358                                       mast_26\n",
       "359                                       mast_27\n",
       "360                                       mast_28\n",
       "361                                       mast_29\n",
       "362                                       mast_30\n",
       "363                                      athens_1\n",
       "364                                      athens_2\n",
       "365                                      athens_3\n",
       "366                                      athens_4\n",
       "367                                      athens_5\n",
       "368                                      athens_6\n",
       "369                                      athens_7\n",
       "370                                      athens_8\n",
       "371     immirisk_adolescents_mast_athens_complete\n",
       "Name: name, dtype: object"
      ]
     },
     "execution_count": 19,
     "metadata": {},
     "output_type": "execute_result"
    }
   ],
   "source": [
    "immirisk_adolescents_start = df[df['name'] == 'immirisk_adolescents_mast_athens_timestamp'].index[0]\n",
    "immirisk_adolescents_end = df[df['name'] == 'immirisk_adolescents_mast_athens_complete'].index[0]\n",
    "df.iloc[immirisk_adolescents_start:immirisk_adolescents_end+1]['name']"
   ]
  },
  {
   "cell_type": "code",
   "execution_count": 20,
   "id": "dd12f8e5-2d55-4bf3-9b0a-c42e3328a1df",
   "metadata": {
    "collapsed": true,
    "jupyter": {
     "outputs_hidden": true
    },
    "tags": []
   },
   "outputs": [
    {
     "data": {
      "text/plain": [
       "372    piu_cyberbulling_timestamp\n",
       "373                         piu_1\n",
       "374                         piu_2\n",
       "375                         piu_3\n",
       "376                         piu_4\n",
       "377                         piu_5\n",
       "378                         piu_6\n",
       "379                cyberbulling_1\n",
       "380                cyberbulling_2\n",
       "381                cyberbulling_3\n",
       "382                cyberbulling_4\n",
       "383                cyberbulling_5\n",
       "384                cyberbulling_6\n",
       "385                cyberbulling_7\n",
       "386                cyberbulling_8\n",
       "387                cyberbulling_9\n",
       "388               cyberbulling_10\n",
       "389               cyberbulling_11\n",
       "390                     bullied_1\n",
       "391                     bullied_2\n",
       "392                     bullied_3\n",
       "393                     bullied_4\n",
       "394     piu_cyberbulling_complete\n",
       "Name: name, dtype: object"
      ]
     },
     "execution_count": 20,
     "metadata": {},
     "output_type": "execute_result"
    }
   ],
   "source": [
    "piu_cyberbulling_start = df[df['name'] == 'piu_cyberbulling_timestamp'].index[0]\n",
    "piu_cyberbulling_end = df[df['name'] == 'piu_cyberbulling_complete'].index[0]\n",
    "df.iloc[piu_cyberbulling_start:piu_cyberbulling_end+1]['name']"
   ]
  },
  {
   "cell_type": "code",
   "execution_count": 21,
   "id": "6efa92aa-3b35-476b-a6bd-538565338c36",
   "metadata": {
    "collapsed": true,
    "jupyter": {
     "outputs_hidden": true
    },
    "tags": []
   },
   "outputs": [
    {
     "data": {
      "text/plain": [
       "395    erqca_timestamp\n",
       "396           erq_ca_1\n",
       "397           erq_ca_2\n",
       "398           erq_ca_3\n",
       "399           erq_ca_4\n",
       "400           erq_ca_5\n",
       "401           erq_ca_6\n",
       "402           erq_ca_7\n",
       "403           erq_ca_8\n",
       "404           erq_ca_9\n",
       "405          erq_ca_10\n",
       "406     erqca_complete\n",
       "Name: name, dtype: object"
      ]
     },
     "execution_count": 21,
     "metadata": {},
     "output_type": "execute_result"
    }
   ],
   "source": [
    "erq_start = df[df['name'] == 'erqca_timestamp'].index[0]\n",
    "erq_end = df[df['name'] == 'erqca_complete'].index[0]\n",
    "df.iloc[erq_start:erq_end+1]['name']"
   ]
  },
  {
   "cell_type": "code",
   "execution_count": 22,
   "id": "46353353-f34e-4e9c-8e8d-9584cc82742e",
   "metadata": {
    "collapsed": true,
    "jupyter": {
     "outputs_hidden": true
    },
    "tags": []
   },
   "outputs": [
    {
     "data": {
      "text/plain": [
       "407    ders_timestamp\n",
       "408            ders_1\n",
       "409            ders_2\n",
       "410            ders_3\n",
       "411            ders_4\n",
       "412            ders_5\n",
       "413            ders_6\n",
       "414            ders_7\n",
       "415            ders_8\n",
       "416            ders_9\n",
       "417           ders_10\n",
       "418           ders_11\n",
       "419           ders_12\n",
       "420           ders_13\n",
       "421           ders_14\n",
       "422           ders_15\n",
       "423           ders_16\n",
       "424           ders_17\n",
       "425           ders_18\n",
       "426           ders_19\n",
       "427           ders_20\n",
       "428           ders_21\n",
       "429           ders_22\n",
       "430           ders_23\n",
       "431           ders_24\n",
       "432           ders_25\n",
       "433           ders_26\n",
       "434           ders_27\n",
       "435           ders_28\n",
       "436           ders_29\n",
       "437           ders_30\n",
       "438           ders_31\n",
       "439           ders_32\n",
       "440           ders_33\n",
       "441           ders_34\n",
       "442           ders_35\n",
       "443           ders_36\n",
       "444     ders_complete\n",
       "Name: name, dtype: object"
      ]
     },
     "execution_count": 22,
     "metadata": {},
     "output_type": "execute_result"
    }
   ],
   "source": [
    "ders_start = df[df['name'] == 'ders_timestamp'].index[0]\n",
    "ders_end = df[df['name'] == 'ders_complete'].index[0]\n",
    "df.iloc[ders_start:ders_end+1]['name']"
   ]
  },
  {
   "cell_type": "code",
   "execution_count": 23,
   "id": "cfa9a82b-b168-4034-acc0-1fc204a009c8",
   "metadata": {},
   "outputs": [
    {
     "data": {
      "text/plain": [
       "465    cts_c_timestamp\n",
       "466            cts_c_1\n",
       "467            cts_c_2\n",
       "468            cts_c_3\n",
       "469            cts_c_4\n",
       "470          cts_c_4_1\n",
       "471     cts_c_complete\n",
       "Name: name, dtype: object"
      ]
     },
     "execution_count": 23,
     "metadata": {},
     "output_type": "execute_result"
    }
   ],
   "source": [
    "cts_start = df[df['name'] == 'cts_c_timestamp'].index[0]\n",
    "cts_end = df[df['name'] == 'cts_c_complete'].index[0]\n",
    "df.iloc[cts_start:cts_end+1]['name']"
   ]
  },
  {
   "cell_type": "code",
   "execution_count": null,
   "id": "da9dade8-9e3d-48b0-bb2d-169077dbdae0",
   "metadata": {},
   "outputs": [],
   "source": []
  },
  {
   "cell_type": "code",
   "execution_count": 27,
   "id": "7219579c-379e-4d84-9742-91484ca47c25",
   "metadata": {},
   "outputs": [
    {
     "data": {
      "text/plain": [
       "['opening_timestamp',\n",
       " 'er_num',\n",
       " 'complaint___1',\n",
       " 'complaint___2',\n",
       " 'complaint___3',\n",
       " 'complaint___4',\n",
       " 'complaint___5',\n",
       " 'complaint___6',\n",
       " 'complaint_other',\n",
       " 'complaint_date',\n",
       " 'diagnosis___1',\n",
       " 'diagnosis___2',\n",
       " 'diagnosis___3',\n",
       " 'diagnosis___4',\n",
       " 'diagnosis___5',\n",
       " 'diagnosis___6',\n",
       " 'diagnosis___7',\n",
       " 'diagnosis___8',\n",
       " 'diagnosis___9',\n",
       " 'diagnosis___10',\n",
       " 'diagnosis___11',\n",
       " 'diagnosis___12',\n",
       " 'diagnosis___13',\n",
       " 'diagnosis___14',\n",
       " 'diagnosis_other',\n",
       " 'opening_psychothe',\n",
       " 'opening_psychothe_2___1',\n",
       " 'opening_psychothe_2___2',\n",
       " 'opening_psychothe_2___3',\n",
       " 'opening_psychothe_2___4',\n",
       " 'opening_psychothe_2___5',\n",
       " 'opening_psychothe_2___6',\n",
       " 'opening_psychothe_2___7',\n",
       " 'opening_psychothe_3',\n",
       " 'opening_medicine',\n",
       " 'opening_medicine_2___1',\n",
       " 'opening_medicine_2___2',\n",
       " 'opening_medicine_2___3',\n",
       " 'opening_medicine_2___4',\n",
       " 'opening_medicine_2___5',\n",
       " 'opening_medicine_3',\n",
       " 'iat_done',\n",
       " 'iat_done_no',\n",
       " 'group___1',\n",
       " 'group___2',\n",
       " 'group___3',\n",
       " 'Group',\n",
       " 'Group99',\n",
       " 'consent',\n",
       " 'consent_no',\n",
       " 'opening_complete']"
      ]
     },
     "execution_count": 27,
     "metadata": {},
     "output_type": "execute_result"
    }
   ],
   "source": [
    "params_range = {\n",
    "    'opening': df.iloc[start:end+1]['name'].to_list()\n",
    "}"
   ]
  },
  {
   "cell_type": "code",
   "execution_count": null,
   "id": "93437a42-ddbd-412e-b5db-c9e74cb5d6a4",
   "metadata": {},
   "outputs": [],
   "source": []
  },
  {
   "cell_type": "code",
   "execution_count": null,
   "id": "34cbb910-c556-4de5-acbc-a4b8de0339a7",
   "metadata": {},
   "outputs": [],
   "source": []
  },
  {
   "cell_type": "code",
   "execution_count": null,
   "id": "3eb6168b-8299-4a3f-a452-41209336902f",
   "metadata": {},
   "outputs": [],
   "source": []
  },
  {
   "cell_type": "code",
   "execution_count": 6,
   "id": "c2ebbba0-88d1-41ba-b15e-05517d1738f2",
   "metadata": {},
   "outputs": [
    {
     "data": {
      "text/plain": [
       "6                         opening_timestamp\n",
       "31                        opening_psychothe\n",
       "32                  opening_psychothe_2___1\n",
       "33                  opening_psychothe_2___2\n",
       "34                  opening_psychothe_2___3\n",
       "35                  opening_psychothe_2___4\n",
       "36                  opening_psychothe_2___5\n",
       "37                  opening_psychothe_2___6\n",
       "38                  opening_psychothe_2___7\n",
       "39                      opening_psychothe_3\n",
       "40                         opening_medicine\n",
       "41                   opening_medicine_2___1\n",
       "42                   opening_medicine_2___2\n",
       "43                   opening_medicine_2___3\n",
       "44                   opening_medicine_2___4\n",
       "45                   opening_medicine_2___5\n",
       "46                       opening_medicine_3\n",
       "56                         opening_complete\n",
       "77              opening_child_pre_timestamp\n",
       "82               opening_child_pre_complete\n",
       "509             opening_parents_m_timestamp\n",
       "512              opening_parents_m_complete\n",
       "783             opening_parents_f_timestamp\n",
       "786              opening_parents_f_complete\n",
       "1057           opening_clinicians_timestamp\n",
       "1061            opening_clinicians_complete\n",
       "1105    opening_therapist_battery_timestamp\n",
       "1124     opening_therapist_battery_complete\n",
       "1397             opening_students_timestamp\n",
       "1401              opening_students_complete\n",
       "Name: name, dtype: object"
      ]
     },
     "execution_count": 6,
     "metadata": {},
     "output_type": "execute_result"
    }
   ],
   "source": [
    "df[(df['name'].str.startswith('opening'))]['name']"
   ]
  },
  {
   "cell_type": "code",
   "execution_count": null,
   "id": "21605d8e-121f-471e-8f1d-e3d57fc6ca23",
   "metadata": {},
   "outputs": [],
   "source": []
  }
 ],
 "metadata": {
  "kernelspec": {
   "display_name": "Python 3 (ipykernel)",
   "language": "python",
   "name": "python3"
  },
  "language_info": {
   "codemirror_mode": {
    "name": "ipython",
    "version": 3
   },
   "file_extension": ".py",
   "mimetype": "text/x-python",
   "name": "python",
   "nbconvert_exporter": "python",
   "pygments_lexer": "ipython3",
   "version": "3.9.7"
  }
 },
 "nbformat": 4,
 "nbformat_minor": 5
}
