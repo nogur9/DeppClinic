{
 "cells": [
  {
   "cell_type": "code",
   "execution_count": 1,
   "id": "6313c3c5-0611-46f1-ad0a-7b3eba172a36",
   "metadata": {},
   "outputs": [],
   "source": [
    "import pandas as pd\n",
    "import re\n",
    "import pandas_profiling as pp"
   ]
  },
  {
   "cell_type": "code",
   "execution_count": 2,
   "id": "3bc07696-f4b4-4e26-aaa2-ee6de2f85588",
   "metadata": {},
   "outputs": [
    {
     "name": "stderr",
     "output_type": "stream",
     "text": [
      "C:\\Users\\nogur\\anaconda3\\lib\\site-packages\\IPython\\core\\interactiveshell.py:3444: DtypeWarning: Columns (48) have mixed types.Specify dtype option on import or set low_memory=False.\n",
      "  exec(code_obj, self.user_global_ns, self.user_ns)\n"
     ]
    }
   ],
   "source": [
    "df_2021 = pd.read_csv(r\"../original_data/Schneider Depression Clinic Database.csv\", na_values= ' ')"
   ]
  },
  {
   "cell_type": "code",
   "execution_count": 3,
   "id": "10b58d7d-28fd-4e17-bdc8-6f5777f2cf9d",
   "metadata": {},
   "outputs": [],
   "source": [
    "df = pd.read_csv('all_columns_2021.csv').rename({'0': 'name'},axis=1)\n",
    "\n",
    "mfq_start = df[df['name'] == 'mfq_short_timestamp'].index[0]\n",
    "mfq_end = df[df['name'] == 'mfq_short_complete'].index[0]"
   ]
  },
  {
   "cell_type": "code",
   "execution_count": 14,
   "id": "99a79c1e-bea3-4b02-b847-0f8b22613f85",
   "metadata": {},
   "outputs": [],
   "source": [
    "columns_dict = {\n",
    "    'mfq': df.iloc[mfq_start+1:mfq_end-1]['name'].to_list(),\n",
    "}"
   ]
  },
  {
   "cell_type": "code",
   "execution_count": 15,
   "id": "81a04b2c-e1e2-4bac-b87d-666ec8d94bf3",
   "metadata": {},
   "outputs": [],
   "source": [
    "control5_weeks_2021 = df_2021[(df_2021.age_child_pre_first > 0) & (df_2021.age_child_pre_first <= 12) & (df_2021.redcap_event_name=='control_5weeks_arm_1')]\n",
    "intake_2021 = df_2021[(df_2021.age_child_pre_first > 0) & (df_2021.age_child_pre_first <= 12) & (df_2021.redcap_event_name=='intake_arm_1')]\n",
    "\n",
    "mfq_control5_weeks_2021 = control5_weeks_2021[columns_dict['mfq'] +['age_child_pre_first', 'id', 'record_id', 'redcap_event_name']]\n",
    "mfq_intake_2021 = intake_2021[columns_dict['mfq']+ ['age_child_pre_first', 'id', 'record_id', 'redcap_event_name']]"
   ]
  },
  {
   "cell_type": "code",
   "execution_count": 16,
   "id": "e5666f85-10c6-4d1e-9e32-fda962ea154a",
   "metadata": {},
   "outputs": [
    {
     "data": {
      "text/plain": [
       "(86, 21)"
      ]
     },
     "execution_count": 16,
     "metadata": {},
     "output_type": "execute_result"
    }
   ],
   "source": [
    "mfq_intake_2021.shape"
   ]
  },
  {
   "cell_type": "code",
   "execution_count": 17,
   "id": "793ec3a7-dc96-48de-b084-8b182652ba1c",
   "metadata": {},
   "outputs": [
    {
     "data": {
      "text/plain": [
       "(26, 21)"
      ]
     },
     "execution_count": 17,
     "metadata": {},
     "output_type": "execute_result"
    }
   ],
   "source": [
    "mfq_intake_2021.dropna(subset=columns_dict['mfq'], how='any').shape"
   ]
  },
  {
   "cell_type": "code",
   "execution_count": 32,
   "id": "35fc3348-a56c-4680-9760-e70cc4272f68",
   "metadata": {},
   "outputs": [
    {
     "data": {
      "text/plain": [
       "(51, 21)"
      ]
     },
     "execution_count": 32,
     "metadata": {},
     "output_type": "execute_result"
    }
   ],
   "source": [
    "clean_intake = mfq_intake_2021.dropna(subset=columns_dict['mfq'], how='all')\n",
    "mfq_intake_2021.dropna(subset=columns_dict['mfq'], how='all').shape"
   ]
  },
  {
   "cell_type": "code",
   "execution_count": 49,
   "id": "9272dfa0-14ae-4cbc-af5b-403545f93025",
   "metadata": {},
   "outputs": [
    {
     "data": {
      "text/plain": [
       "30.23255813953488"
      ]
     },
     "execution_count": 49,
     "metadata": {},
     "output_type": "execute_result"
    }
   ],
   "source": [
    "# full\n",
    "(mfq_intake_2021.dropna(subset=columns_dict['mfq'], how='any').shape[0] / mfq_intake_2021.shape[0])*100"
   ]
  },
  {
   "cell_type": "code",
   "execution_count": 50,
   "id": "f245eaf8-56d7-4734-8ff0-7b1dcafa5d4d",
   "metadata": {},
   "outputs": [
    {
     "data": {
      "text/plain": [
       "59.30232558139535"
      ]
     },
     "execution_count": 50,
     "metadata": {},
     "output_type": "execute_result"
    }
   ],
   "source": [
    "# partial\n",
    "(clean_intake.shape[0] / mfq_intake_2021.shape[0])*100"
   ]
  },
  {
   "cell_type": "code",
   "execution_count": 33,
   "id": "f5961318-d7c9-459f-abcd-a0e426dfce87",
   "metadata": {},
   "outputs": [
    {
     "name": "stdout",
     "output_type": "stream",
     "text": [
      "['mfq_1', 'mfq_2', 'mfq_5', 'mfq_7', 'mfq_8', 'mfq_14', 'mfq_21', 'mfq_23', 'mfq_24', 'mfq_27', 'mfq_28', 'mfq_30', 'mfq_31', 'mfq_34', 'mfq_35', 'mfq_36', 'mfq_37']\n"
     ]
    }
   ],
   "source": [
    "print([i for i in columns_dict['mfq']])"
   ]
  },
  {
   "cell_type": "code",
   "execution_count": 34,
   "id": "e67eefcd-63b2-4289-95ea-00cf37700f47",
   "metadata": {},
   "outputs": [
    {
     "data": {
      "text/plain": [
       "(35, 21)"
      ]
     },
     "execution_count": 34,
     "metadata": {},
     "output_type": "execute_result"
    }
   ],
   "source": [
    "mfq_control5_weeks_2021.shape"
   ]
  },
  {
   "cell_type": "code",
   "execution_count": 35,
   "id": "50c42718-eec9-4643-98ec-96ea1d036b1e",
   "metadata": {},
   "outputs": [
    {
     "data": {
      "text/plain": [
       "(20, 21)"
      ]
     },
     "execution_count": 35,
     "metadata": {},
     "output_type": "execute_result"
    }
   ],
   "source": [
    "mfq_control5_weeks_2021.dropna(subset=columns_dict['mfq'], how='any').shape"
   ]
  },
  {
   "cell_type": "code",
   "execution_count": 36,
   "id": "c2067d22-d549-4a08-9b42-0342cc9a1caf",
   "metadata": {},
   "outputs": [
    {
     "data": {
      "text/plain": [
       "(28, 21)"
      ]
     },
     "execution_count": 36,
     "metadata": {},
     "output_type": "execute_result"
    }
   ],
   "source": [
    "clean_5weeks = mfq_control5_weeks_2021.dropna(subset=columns_dict['mfq'], how='all')\n",
    "mfq_control5_weeks_2021.dropna(subset=columns_dict['mfq'], how='all').shape"
   ]
  },
  {
   "cell_type": "code",
   "execution_count": 37,
   "id": "b72ec5af-20db-4f1d-8720-502e935f2329",
   "metadata": {},
   "outputs": [
    {
     "name": "stdout",
     "output_type": "stream",
     "text": [
      "['mfq_1', 'mfq_2', 'mfq_5', 'mfq_7', 'mfq_8', 'mfq_14', 'mfq_21', 'mfq_23', 'mfq_24', 'mfq_27', 'mfq_28', 'mfq_30', 'mfq_31', 'mfq_34', 'mfq_35', 'mfq_36', 'mfq_37']\n"
     ]
    }
   ],
   "source": [
    "print([i for i in columns_dict['mfq']])"
   ]
  },
  {
   "cell_type": "code",
   "execution_count": 42,
   "id": "0851a6e7-366e-4a8e-a4f8-a44054e9c8aa",
   "metadata": {},
   "outputs": [
    {
     "data": {
      "text/plain": [
       "(23,)"
      ]
     },
     "execution_count": 42,
     "metadata": {},
     "output_type": "execute_result"
    }
   ],
   "source": [
    "clean_intake[clean_intake['id'].isin(clean_5weeks['id'])]['id']\n",
    "clean_intake[clean_intake['id'].isin(clean_5weeks['id'])]['id'].shape"
   ]
  },
  {
   "cell_type": "code",
   "execution_count": 39,
   "id": "6033ff68-b355-4e0a-a3c5-0f736ac55864",
   "metadata": {},
   "outputs": [
    {
     "data": {
      "text/plain": [
       "(56, 41)"
      ]
     },
     "execution_count": 39,
     "metadata": {},
     "output_type": "execute_result"
    }
   ],
   "source": [
    "pd.merge(clean_intake, clean_5weeks, on='id', how='outer', suffixes=('_intake', '_5_weeks')).shape"
   ]
  },
  {
   "cell_type": "code",
   "execution_count": 45,
   "id": "24c4d4bc-55d6-4335-8513-5364c0af91b8",
   "metadata": {},
   "outputs": [
    {
     "data": {
      "text/plain": [
       "0.5714285714285714"
      ]
     },
     "execution_count": 45,
     "metadata": {},
     "output_type": "execute_result"
    }
   ],
   "source": [
    "20/35"
   ]
  },
  {
   "cell_type": "code",
   "execution_count": null,
   "id": "8eafddbc-0498-4dbd-95f6-7e3cf6df5cce",
   "metadata": {},
   "outputs": [],
   "source": []
  },
  {
   "cell_type": "code",
   "execution_count": 5,
   "id": "cb4c1171-3701-479c-88aa-4c65876e7366",
   "metadata": {},
   "outputs": [
    {
     "data": {
      "application/vnd.jupyter.widget-view+json": {
       "model_id": "1c4fb5ef9d614c53b6e7168188cf763a",
       "version_major": 2,
       "version_minor": 0
      },
      "text/plain": [
       "Summarize dataset:   0%|          | 0/5 [00:00<?, ?it/s]"
      ]
     },
     "metadata": {},
     "output_type": "display_data"
    },
    {
     "data": {
      "application/vnd.jupyter.widget-view+json": {
       "model_id": "3d6b1719b7644cb486a7378c44f78cb0",
       "version_major": 2,
       "version_minor": 0
      },
      "text/plain": [
       "Generate report structure:   0%|          | 0/1 [00:00<?, ?it/s]"
      ]
     },
     "metadata": {},
     "output_type": "display_data"
    },
    {
     "data": {
      "application/vnd.jupyter.widget-view+json": {
       "model_id": "bc3c8dec02564201a05cb5b32910ace4",
       "version_major": 2,
       "version_minor": 0
      },
      "text/plain": [
       "Render HTML:   0%|          | 0/1 [00:00<?, ?it/s]"
      ]
     },
     "metadata": {},
     "output_type": "display_data"
    },
    {
     "data": {
      "application/vnd.jupyter.widget-view+json": {
       "model_id": "7496dcd1cbb248af8b4df7406f36b083",
       "version_major": 2,
       "version_minor": 0
      },
      "text/plain": [
       "Export report to file:   0%|          | 0/1 [00:00<?, ?it/s]"
      ]
     },
     "metadata": {},
     "output_type": "display_data"
    }
   ],
   "source": [
    "to_profile = df_2021[(df_2021.age_child_pre_first > 0) & (df_2021.age_child_pre_first <= 12) & (df_2021.redcap_event_name=='intake_arm_1')][columns_dict['maris_sci_sf']+['age_child_pre_first', 'id', 'record_id', 'redcap_event_name']]\n",
    "profile = pp.ProfileReport(to_profile, title=\"2021 intake maris_sci_sf\")\n",
    "profile.to_file(\"2021_maris_sci_sf.html\")\n",
    "\n"
   ]
  },
  {
   "cell_type": "code",
   "execution_count": null,
   "id": "21ea0195-f932-495b-8222-0f99db49fd7a",
   "metadata": {},
   "outputs": [],
   "source": []
  },
  {
   "cell_type": "code",
   "execution_count": null,
   "id": "565697a2-b951-4f69-a05f-c6d57c267901",
   "metadata": {},
   "outputs": [],
   "source": []
  }
 ],
 "metadata": {
  "kernelspec": {
   "display_name": "Python 3 (ipykernel)",
   "language": "python",
   "name": "python3"
  },
  "language_info": {
   "codemirror_mode": {
    "name": "ipython",
    "version": 3
   },
   "file_extension": ".py",
   "mimetype": "text/x-python",
   "name": "python",
   "nbconvert_exporter": "python",
   "pygments_lexer": "ipython3",
   "version": "3.9.7"
  }
 },
 "nbformat": 4,
 "nbformat_minor": 5
}
