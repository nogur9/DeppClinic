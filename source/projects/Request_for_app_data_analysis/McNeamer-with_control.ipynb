{
 "cells": [
  {
   "cell_type": "code",
   "execution_count": 1,
   "id": "cadaf4fd",
   "metadata": {},
   "outputs": [],
   "source": [
    "import sys\n",
    "sys.path.append(r\"../\")\n",
    "#sys.path.append(r\"../utils/data_manipulation\")\n",
    "import pandas as pd\n",
    "from utils.data_manipulation.data_imputation import impute_from_column\n",
    "from utils.consts.pathology_variables import pathology_variables_times\n",
    "from utils.target_variable import TargetVariable\n",
    "import matplotlib.pyplot as plt\n",
    "import seaborn as sns\n",
    "import scipy\n",
    "import pingouin as pg\n",
    "import plotly.graph_objs as go\n",
    "\n",
    "import os\n",
    "\n",
    "from statsmodels.stats.contingency_tables import mcnemar\n",
    "import statsmodels.api as sm\n",
    "from statsmodels.stats.contingency_tables import Table\n",
    "\n",
    "\n",
    "import matplotlib\n",
    "%matplotlib inline"
   ]
  },
  {
   "cell_type": "code",
   "execution_count": 2,
   "id": "69f51cbd",
   "metadata": {},
   "outputs": [],
   "source": [
    "if not os.path.exists(\"mcnemar_data_with_control\"):\n",
    "    os.mkdir(\"mcnemar_data_with_control\")\n",
    "\n",
    "if not os.path.exists(\"mcnemar_data_with_control/short_effect\"):\n",
    "    os.mkdir(\"mcnemar_data_with_control/short_effect\")\n",
    "\n",
    "if not os.path.exists(\"mcnemar_data_with_control/long_effect\"):\n",
    "    os.mkdir(\"mcnemar_data_with_control/long_effect\")\n"
   ]
  },
  {
   "cell_type": "code",
   "execution_count": 3,
   "id": "2e2c3c35",
   "metadata": {},
   "outputs": [
    {
     "name": "stdout",
     "output_type": "stream",
     "text": [
      "['Time 1' 'Time 2' 'Time 3']\n",
      "['control' 'ipt' 'tau']\n"
     ]
    }
   ],
   "source": [
    "df = pd.read_csv(r\"data\\treatment_group\\DeppClinic_patient_data.csv\")\n",
    "df = df[df['group'].isin(['ipt', 'tau', 'control'])]\n",
    "\n",
    "print(df.measurement.unique())\n",
    "print(df.group.unique())"
   ]
  },
  {
   "cell_type": "code",
   "execution_count": 4,
   "id": "a7dadb5e",
   "metadata": {},
   "outputs": [],
   "source": [
    "app_ids = pd.read_excel(r\"../helper_docs/APP_ID.xlsx\")\n",
    "def used_app(x, app_ids):\n",
    "    if x['id'] in list(app_ids['ID REDCap']):\n",
    "        return True\n",
    "    else:\n",
    "        return False\n",
    "df['used_app'] = df.apply(used_app, args=[app_ids], axis=1)"
   ]
  },
  {
   "cell_type": "code",
   "execution_count": 5,
   "id": "96ed8865",
   "metadata": {
    "scrolled": true
   },
   "outputs": [],
   "source": [
    "intake_target_variables = list(pathology_variables_times['intake'].keys()) + ['c_ssrs_intake_life_stb']\n",
    "\n",
    "\n",
    "time2_target_variables = list(pathology_variables_times['time2'].keys()) + ['c_ssrs_stb_score']\n",
    "\n",
    "\n",
    "target_variables_per_time = {\n",
    "    'Time 1': intake_target_variables,\n",
    "    'Time 2': time2_target_variables,\n",
    "    'Time 3': time2_target_variables}\n",
    "\n",
    "intake_to_time2_map = {\n",
    " 'c_ssrs_intake_life_stb': 'c_ssrs_stb_score',\n",
    " 'suicidal_behavior_intake': 'suicidal_behavior_time2',\n",
    " 'nssi_intake': 'nssi_time2',\n",
    " 'suicidal_ideation_life_intake': 'suicidal_ideation_time2',\n",
    " 'ER_intake': 'ER_time2',\n",
    " 'Psychiatric_hospitalization_intake': 'Psychiatric_hospitalization_time2'\n",
    " \n",
    "}"
   ]
  },
  {
   "cell_type": "code",
   "execution_count": 6,
   "id": "283e0bee",
   "metadata": {},
   "outputs": [],
   "source": [
    "\n",
    "time1_df = df[df.measurement.isin(['Time 1'])]\n",
    "time1_df = time1_df.drop(time2_target_variables, axis=1)\n",
    "time1_df = time1_df.rename(intake_to_time2_map, axis=1)\n",
    "\n",
    "time2_df = df[df.measurement.isin(['Time 2'])]\n",
    "time3_df = df[df.measurement.isin(['Time 3'])]\n"
   ]
  },
  {
   "cell_type": "code",
   "execution_count": 7,
   "id": "a14bd32a",
   "metadata": {},
   "outputs": [],
   "source": [
    "#df_short.groupby(['measurement', 'used_app', 'suicidal_behavior_time2']).id.nunique()"
   ]
  },
  {
   "cell_type": "code",
   "execution_count": 8,
   "id": "655d5783",
   "metadata": {},
   "outputs": [],
   "source": [
    "df_short = pd.concat([time1_df, time2_df])\n",
    "df_long = pd.concat([time1_df, time3_df])"
   ]
  },
  {
   "cell_type": "code",
   "execution_count": 10,
   "id": "ca2052be",
   "metadata": {},
   "outputs": [],
   "source": [
    "current_target_vars = ['suicidal_ideation_time2', 'suicidal_behavior_time2', 'nssi_time2', 'c_ssrs_stb_score']\n",
    "\n",
    "info_cols = ['group', 'id', 'used_app', 'measurement']\n",
    "\n",
    "df_long[current_target_vars + info_cols].to_csv(f\"mcnemar_data_with_control/long_effect_raw_data.csv\", index=False)\n",
    "df_short[current_target_vars + info_cols].to_csv(f\"mcnemar_data_with_control/short_effect_raw_data.csv\", index=False)\n"
   ]
  },
  {
   "cell_type": "code",
   "execution_count": 11,
   "id": "1280de8a",
   "metadata": {},
   "outputs": [],
   "source": [
    "def do_mcnemar_test(df, target_variable):\n",
    "    contingency_table = pd.crosstab(df['used_app'], df['measurement'], values=df[target_variable], aggfunc='sum')\n",
    "    results = mcnemar(contingency_table.values)\n",
    "\n",
    "    print(f'{target_variable = }\\nmcnemar(contingency_table.values) =\\n')\n",
    "    print(mcnemar(contingency_table.values))\n",
    "    print('\\t---------------------\\n\\n\\n\\n\\n')\n",
    "    \n",
    "    return contingency_table, results.pvalue"
   ]
  },
  {
   "cell_type": "markdown",
   "id": "2ce97783",
   "metadata": {},
   "source": [
    "## Short Effect"
   ]
  },
  {
   "cell_type": "code",
   "execution_count": 12,
   "id": "0981329a",
   "metadata": {
    "scrolled": true
   },
   "outputs": [
    {
     "name": "stdout",
     "output_type": "stream",
     "text": [
      "target_variable = 'suicidal_ideation_time2'\n",
      "mcnemar(contingency_table.values) =\n",
      "\n",
      "pvalue      0.6682658523131814\n",
      "statistic   65.0\n",
      "\t---------------------\n",
      "\n",
      "\n",
      "\n",
      "\n",
      "\n",
      "target_variable = 'suicidal_behavior_time2'\n",
      "mcnemar(contingency_table.values) =\n",
      "\n",
      "pvalue      0.04216544399495113\n",
      "statistic   30.0\n",
      "\t---------------------\n",
      "\n",
      "\n",
      "\n",
      "\n",
      "\n",
      "target_variable = 'nssi_time2'\n",
      "mcnemar(contingency_table.values) =\n",
      "\n",
      "pvalue      0.01861775143319464\n",
      "statistic   26.0\n",
      "\t---------------------\n",
      "\n",
      "\n",
      "\n",
      "\n",
      "\n"
     ]
    }
   ],
   "source": [
    "for target_variable in current_target_vars:\n",
    "    \n",
    "    if target_variable != 'c_ssrs_stb_score':\n",
    "        contingency_table, pval = do_mcnemar_test(df_short, target_variable)\n",
    "\n",
    "#         sns.barplot(data = df_short, x = 'used_app', y = target_variable, hue='measurement')\n",
    "#         plt.show()\n",
    "        contingency_table.to_csv(f\"mcnemar_data_with_control/short_effect/{target_variable} - pval = {pval.round(decimals=3)}.csv\", index=False)\n",
    "    else:\n",
    "        #         anova_result = pg.anova(data=df_short, dv=target_variable, between=['used_app', 'measurement', 'group'])[['Source', 'F', 'p-unc']]\n",
    "#         print(f\"\\n{target_variable = }\\n{anova_result}\\n\")\n",
    "        pass\n",
    "    "
   ]
  },
  {
   "cell_type": "markdown",
   "id": "b466fa0e",
   "metadata": {},
   "source": [
    "## Long Effect"
   ]
  },
  {
   "cell_type": "code",
   "execution_count": 13,
   "id": "658082d6",
   "metadata": {
    "scrolled": true
   },
   "outputs": [
    {
     "name": "stdout",
     "output_type": "stream",
     "text": [
      "target_variable = 'suicidal_ideation_time2'\n",
      "mcnemar(contingency_table.values) =\n",
      "\n",
      "pvalue      0.24488359344375762\n",
      "statistic   65.0\n",
      "\t---------------------\n",
      "\n",
      "\n",
      "\n",
      "\n",
      "\n",
      "target_variable = 'suicidal_behavior_time2'\n",
      "mcnemar(contingency_table.values) =\n",
      "\n",
      "pvalue      0.2353798622110552\n",
      "statistic   37.0\n",
      "\t---------------------\n",
      "\n",
      "\n",
      "\n",
      "\n",
      "\n",
      "target_variable = 'nssi_time2'\n",
      "mcnemar(contingency_table.values) =\n",
      "\n",
      "pvalue      0.59428829514694\n",
      "statistic   41.0\n",
      "\t---------------------\n",
      "\n",
      "\n",
      "\n",
      "\n",
      "\n"
     ]
    }
   ],
   "source": [
    "for target_variable in current_target_vars:\n",
    "    \n",
    "    if target_variable != 'c_ssrs_stb_score':\n",
    "        contingency_table, pval = do_mcnemar_test(df_long, target_variable)\n",
    "\n",
    "#         sns.barplot(data = df_short, x = 'used_app', y = target_variable, hue='measurement')\n",
    "#         plt.show()\n",
    "        contingency_table.to_csv(f\"mcnemar_data_with_control/long_effect/{target_variable} - pval = {pval.round(decimals=3)}.csv\", index=False)\n",
    "    else:\n",
    "        #         anova_result = pg.anova(data=df_short, dv=target_variable, between=['used_app', 'measurement', 'group'])[['Source', 'F', 'p-unc']]\n",
    "#         print(f\"\\n{target_variable = }\\n{anova_result}\\n\")\n",
    "        pass\n",
    "    "
   ]
  },
  {
   "cell_type": "code",
   "execution_count": null,
   "id": "d6432e40",
   "metadata": {},
   "outputs": [],
   "source": []
  }
 ],
 "metadata": {
  "kernelspec": {
   "display_name": "DeppClinic",
   "language": "python",
   "name": "deppclinic"
  },
  "language_info": {
   "codemirror_mode": {
    "name": "ipython",
    "version": 3
   },
   "file_extension": ".py",
   "mimetype": "text/x-python",
   "name": "python",
   "nbconvert_exporter": "python",
   "pygments_lexer": "ipython3",
   "version": "3.11.4"
  }
 },
 "nbformat": 4,
 "nbformat_minor": 5
}
