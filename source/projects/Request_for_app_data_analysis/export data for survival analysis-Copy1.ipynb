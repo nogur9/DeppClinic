{
 "cells": [
  {
   "cell_type": "code",
   "execution_count": 1,
   "id": "cadaf4fd",
   "metadata": {},
   "outputs": [],
   "source": [
    "import sys\n",
    "sys.path.append(r\"../\")\n",
    "#sys.path.append(r\"../utils/data_manipulation\")\n",
    "import pandas as pd\n",
    "from utils.data_manipulation.data_imputation import impute_from_column"
   ]
  },
  {
   "cell_type": "code",
   "execution_count": 2,
   "id": "96ed8865",
   "metadata": {
    "scrolled": true
   },
   "outputs": [],
   "source": [
    "df = pd.read_csv(r\"..\\DeppClinic_prediction_task.csv\")\n",
    "\n",
    "columns = [\"id\", \"age_child_pre\"]"
   ]
  },
  {
   "cell_type": "markdown",
   "id": "4dde63fc",
   "metadata": {},
   "source": [
    "## Intake time"
   ]
  },
  {
   "cell_type": "code",
   "execution_count": 4,
   "id": "af0dc724",
   "metadata": {},
   "outputs": [],
   "source": [
    "df[\"intake_date\"] =  pd.to_datetime(df[\"sciafca_timestamp_intake_arm_1\"], errors='coerce')\n",
    "columns.append(\"intake_date\")"
   ]
  },
  {
   "cell_type": "markdown",
   "id": "d407cdd8",
   "metadata": {},
   "source": [
    "## ER time"
   ]
  },
  {
   "cell_type": "code",
   "execution_count": 5,
   "id": "5110b697",
   "metadata": {},
   "outputs": [],
   "source": [
    "df = impute_from_column(df, \"complaint_date\", \"chameleon_suicide_er_date_stu_intake_arm_1\")\n",
    "df[\"ER_date_time1\"] = df[\"complaint_date\"]\n",
    "columns.append(\"ER_date_time1\")"
   ]
  },
  {
   "cell_type": "markdown",
   "id": "057b39f0",
   "metadata": {},
   "source": [
    "###  ER date"
   ]
  },
  {
   "cell_type": "code",
   "execution_count": 6,
   "id": "748ef0c1",
   "metadata": {},
   "outputs": [],
   "source": [
    "time2_er_dates = [f\"chameleon_suicide_er_date_stu_{event}\" for event in redcap_event_names]\n",
    "for er_time in time2_er_dates:\n",
    "    df[er_time] = pd.to_datetime(df[er_time], errors='coerce')\n",
    "df[\"ER_date_target\"] = df[time2_er_dates].min(axis=1)\n",
    "columns.append(\"ER_date_target\")"
   ]
  },
  {
   "cell_type": "markdown",
   "id": "581aa9b6",
   "metadata": {},
   "source": [
    "## Psych ward"
   ]
  },
  {
   "cell_type": "code",
   "execution_count": 7,
   "id": "803d1d52",
   "metadata": {},
   "outputs": [],
   "source": [
    "time2_psych_dates = [f\"chameleon_psychiatric_date_stu_{event}\" for event in redcap_event_names]\n",
    "for psych_time in time2_psych_dates:\n",
    "    df[psych_time] = pd.to_datetime(df[psych_time], errors='coerce')\n",
    "    \n",
    "df[\"psychiatric_date_target\"] = df[time2_psych_dates].min(axis=1)\n",
    "columns.append(\"psychiatric_date_target\")"
   ]
  },
  {
   "cell_type": "markdown",
   "id": "f0829d29",
   "metadata": {},
   "source": [
    "## Attempt\n"
   ]
  },
  {
   "cell_type": "code",
   "execution_count": 8,
   "id": "80e2606f",
   "metadata": {},
   "outputs": [],
   "source": [
    "time2_visit_date_dates = [f\"visit_date_stu_{event}\" for event in redcap_event_names]\n",
    "time2_is_attempt = [f\"chameleon_attempt_stu_{event}\" for event in redcap_event_names]"
   ]
  },
  {
   "cell_type": "code",
   "execution_count": 9,
   "id": "82c162ad",
   "metadata": {},
   "outputs": [],
   "source": [
    "for visit_date, is_attempt in zip(time2_visit_date_dates, time2_is_attempt):\n",
    "    df.loc[df[is_attempt] != 1, visit_date] = pd.NaT\n",
    "    df[visit_date] = pd.to_datetime(df[visit_date], errors='coerce')"
   ]
  },
  {
   "cell_type": "code",
   "execution_count": 10,
   "id": "fb78851b",
   "metadata": {},
   "outputs": [],
   "source": [
    "df[\"suicide_attempt_date_target\"] = df[time2_visit_date_dates].min(axis=1)\n",
    "columns.append(\"suicide_attempt_date_target\")"
   ]
  },
  {
   "cell_type": "markdown",
   "id": "984856f2",
   "metadata": {},
   "source": [
    "## Save"
   ]
  },
  {
   "cell_type": "code",
   "execution_count": 11,
   "id": "7f74eb1f",
   "metadata": {},
   "outputs": [],
   "source": [
    "sci_intake = [f\"{q}_intake_arm_1\" for q in sci_af_ca]\n",
    "columns.extend(sci_intake)"
   ]
  },
  {
   "cell_type": "code",
   "execution_count": 12,
   "id": "d503d97d",
   "metadata": {},
   "outputs": [],
   "source": [
    "df[columns].to_csv(\"data_for_survival_analysis.csv\")"
   ]
  },
  {
   "cell_type": "code",
   "execution_count": null,
   "id": "77cf7b5b",
   "metadata": {},
   "outputs": [],
   "source": []
  }
 ],
 "metadata": {
  "kernelspec": {
   "display_name": "DeppClinic",
   "language": "python",
   "name": "deppclinic"
  },
  "language_info": {
   "codemirror_mode": {
    "name": "ipython",
    "version": 3
   },
   "file_extension": ".py",
   "mimetype": "text/x-python",
   "name": "python",
   "nbconvert_exporter": "python",
   "pygments_lexer": "ipython3",
   "version": "3.11.4"
  }
 },
 "nbformat": 4,
 "nbformat_minor": 5
}
