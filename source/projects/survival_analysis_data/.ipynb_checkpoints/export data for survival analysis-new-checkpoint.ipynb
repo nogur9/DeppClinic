{
 "cells": [
  {
   "cell_type": "code",
   "execution_count": 1,
   "id": "cadaf4fd",
   "metadata": {},
   "outputs": [],
   "source": [
    "import sys\n",
    "sys.path.append('../../../')\n",
    "import pandas as pd\n",
    "from source.utils.consts.questions_columns import sci_af_ca\n"
   ]
  },
  {
   "cell_type": "code",
   "execution_count": 2,
   "id": "d8b8f09b",
   "metadata": {},
   "outputs": [],
   "source": [
    "redcap_event_names = [\n",
    "#    'intake_arm_1',\n",
    "    'control_6month_arm_1',\n",
    "    'pre_treatment_arm_1',\n",
    "    '5th_session_arm_1',\n",
    "    'post_treatment_arm_1',\n",
    "    'followup_3month_arm_1',\n",
    "    'control_3month_arm_1',\n",
    "    'control_5weeks_arm_1',\n",
    "#    'corona_arm_1',\n",
    "#    'er_arm_1',\n",
    "    'followup_12month_arm_1',\n",
    "    'er_one_week_arm_1',\n",
    "    'control_12month_arm_1', \n",
    "    'control_9month_arm_1'\n",
    "]"
   ]
  },
  {
   "cell_type": "code",
   "execution_count": 3,
   "id": "96ed8865",
   "metadata": {
    "scrolled": true
   },
   "outputs": [],
   "source": [
    "df = pd.read_csv(r\"C:\\Users\\nogur\\Documents\\DeppClinic\\Data\\processed_data\\survival_analysis\\data_patient_axis.csv\")\n",
    "\n",
    "info_columns = ['gender', 'id', 'age_child_pre', 'group_intake', 'suicide_attempt_intake_intake']"
   ]
  },
  {
   "cell_type": "code",
   "execution_count": 4,
   "id": "8259ead8",
   "metadata": {},
   "outputs": [],
   "source": [
    " def parse_datetime(date_str):\n",
    "    try:\n",
    "        return pd.to_datetime(date_str)\n",
    "    except ValueError:\n",
    "        try:\n",
    "            return pd.to_datetime(int(date_str))\n",
    "        except ValueError:\n",
    "            try:\n",
    "                return pd.to_datetime(date_str.split(\" \")[0], errors='coerce')\n",
    "        \n",
    "            except AttributeError:\n",
    "                return pd.NaT"
   ]
  },
  {
   "cell_type": "markdown",
   "id": "4dde63fc",
   "metadata": {},
   "source": [
    "## Intake time"
   ]
  },
  {
   "cell_type": "code",
   "execution_count": 5,
   "id": "8865cbb2",
   "metadata": {},
   "outputs": [
    {
     "name": "stderr",
     "output_type": "stream",
     "text": [
      "C:\\Users\\nogur\\AppData\\Local\\Temp\\ipykernel_11836\\3326314597.py:3: UserWarning: Parsing dates in %d/%m/%Y format when dayfirst=False (the default) was specified. Pass `dayfirst=True` or specify a format to silence this warning.\n",
      "  return pd.to_datetime(date_str)\n"
     ]
    },
    {
     "data": {
      "text/plain": [
       "Timestamp('2020-12-15 00:00:00')"
      ]
     },
     "execution_count": 5,
     "metadata": {},
     "output_type": "execute_result"
    }
   ],
   "source": [
    "pd.to_datetime(parse_datetime(\"15/12/2020\"))"
   ]
  },
  {
   "cell_type": "code",
   "execution_count": 6,
   "id": "af0dc724",
   "metadata": {},
   "outputs": [],
   "source": [
    "df[\"intake_date\"] =  df[\"sciafca_timestamp_intake\"].apply(parse_datetime)\n",
    "info_columns.append(\"intake_date\")"
   ]
  },
  {
   "cell_type": "markdown",
   "id": "f0829d29",
   "metadata": {},
   "source": [
    "## Attempt\n"
   ]
  },
  {
   "cell_type": "code",
   "execution_count": 9,
   "id": "80e2606f",
   "metadata": {},
   "outputs": [],
   "source": [
    "time2_visit_date_dates = [f\"visit_date_stu_{event}\" for event in redcap_event_names]\n",
    "time2_is_attempt = [f\"survival_analysis_target_{event}\" for event in redcap_event_names]"
   ]
  },
  {
   "cell_type": "code",
   "execution_count": 11,
   "id": "82c162ad",
   "metadata": {},
   "outputs": [
    {
     "name": "stdout",
     "output_type": "stream",
     "text": [
      "22.0\n",
      "6.0\n",
      "13.0\n",
      "4.0\n",
      "12.0\n",
      "31.0\n"
     ]
    },
    {
     "name": "stderr",
     "output_type": "stream",
     "text": [
      "C:\\Users\\nogur\\AppData\\Local\\Temp\\ipykernel_11836\\4073532483.py:3: FutureWarning: Setting an item of incompatible dtype is deprecated and will raise in a future error of pandas. Value 'NaT' has dtype incompatible with float64, please explicitly cast to a compatible dtype first.\n",
      "  df.loc[df[is_attempt] != 1, visit_date] = pd.NaT\n"
     ]
    },
    {
     "name": "stdout",
     "output_type": "stream",
     "text": [
      "44.0\n",
      "8.0\n",
      "0.0\n",
      "6.0\n",
      "2.0\n"
     ]
    }
   ],
   "source": [
    "for visit_date, is_attempt in zip(time2_visit_date_dates, time2_is_attempt):\n",
    "    print(df[is_attempt].sum())\n",
    "    df.loc[df[is_attempt] != 1, visit_date] = pd.NaT\n",
    "    df[visit_date] = df[visit_date].apply(parse_datetime)"
   ]
  },
  {
   "cell_type": "code",
   "execution_count": 14,
   "id": "fb78851b",
   "metadata": {},
   "outputs": [],
   "source": [
    "df[\"suicide_attempt_date_target\"] = df[time2_visit_date_dates].min(axis=1)\n",
    "info_columns.append(\"suicide_attempt_date_target\")"
   ]
  },
  {
   "cell_type": "markdown",
   "id": "984856f2",
   "metadata": {},
   "source": [
    "## Save"
   ]
  },
  {
   "cell_type": "code",
   "execution_count": 16,
   "id": "7f74eb1f",
   "metadata": {},
   "outputs": [],
   "source": [
    "sci_intake = [f\"{q}_intake\" for q in sci_af_ca]\n",
    "info_columns.extend(sci_intake+time2_visit_date_dates)"
   ]
  },
  {
   "cell_type": "code",
   "execution_count": 17,
   "id": "d503d97d",
   "metadata": {},
   "outputs": [],
   "source": [
    "df[info_columns].to_csv(r\"C:\\Users\\nogur\\Documents\\DeppClinic\\Data\\processed_data\\survival_analysis\\processed_data_for_survival_analysis.csv\")"
   ]
  },
  {
   "cell_type": "code",
   "execution_count": null,
   "id": "77cf7b5b",
   "metadata": {},
   "outputs": [],
   "source": []
  }
 ],
 "metadata": {
  "kernelspec": {
   "display_name": "DeppClinic",
   "language": "python",
   "name": "deppclinic"
  },
  "language_info": {
   "codemirror_mode": {
    "name": "ipython",
    "version": 3
   },
   "file_extension": ".py",
   "mimetype": "text/x-python",
   "name": "python",
   "nbconvert_exporter": "python",
   "pygments_lexer": "ipython3",
   "version": "3.11.5"
  }
 },
 "nbformat": 4,
 "nbformat_minor": 5
}
