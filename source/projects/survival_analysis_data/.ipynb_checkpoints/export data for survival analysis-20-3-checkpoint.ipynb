{
 "cells": [
  {
   "cell_type": "code",
   "execution_count": 1,
   "id": "cadaf4fd",
   "metadata": {},
   "outputs": [],
   "source": [
    "import sys\n",
    "sys.path.append('../../../')\n",
    "import pandas as pd\n",
    "from source.utils.consts.questions_columns import sci_af_ca, mfq, sdq, c_ssrs_intake, siq, cgi\n"
   ]
  },
  {
   "cell_type": "code",
   "execution_count": 2,
   "id": "d8b8f09b",
   "metadata": {},
   "outputs": [],
   "source": [
    "redcap_event_names = [\n",
    "#    'intake_arm_1',\n",
    "    'control_6month_arm_1',\n",
    "    'pre_treatment_arm_1',\n",
    "    '5th_session_arm_1',\n",
    "    'post_treatment_arm_1',\n",
    "    'followup_3month_arm_1',\n",
    "    'control_3month_arm_1',\n",
    "    'control_5weeks_arm_1',\n",
    "#    'corona_arm_1',\n",
    "#    'er_arm_1',\n",
    "    'followup_12month_arm_1',\n",
    "    'er_one_week_arm_1',\n",
    "    'control_12month_arm_1', \n",
    "    'control_9month_arm_1'\n",
    "]"
   ]
  },
  {
   "cell_type": "code",
   "execution_count": 3,
   "id": "96ed8865",
   "metadata": {
    "scrolled": true
   },
   "outputs": [
    {
     "name": "stderr",
     "output_type": "stream",
     "text": [
      "C:\\Users\\nogur\\AppData\\Local\\Temp\\ipykernel_11036\\1449648998.py:1: DtypeWarning: Columns (143,1227,1271,1300,1301,1367,1368) have mixed types. Specify dtype option on import or set low_memory=False.\n",
      "  df = pd.read_csv(r\"C:\\Users\\nogur\\Documents\\DeppClinic\\Data\\processed_data\\survival_analysis_20_3\\data_patient_axis.csv\")\n"
     ]
    }
   ],
   "source": [
    "df = pd.read_csv(r\"C:\\Users\\nogur\\Documents\\DeppClinic\\Data\\processed_data\\survival_analysis_20_3\\data_patient_axis.csv\")\n",
    "\n",
    "info_columns = ['gender', 'id', 'age_child_pre', 'group_intake', 'suicide_attempt_intake_intake']"
   ]
  },
  {
   "cell_type": "code",
   "execution_count": 4,
   "id": "fda27e4c",
   "metadata": {},
   "outputs": [
    {
     "data": {
      "text/plain": [
       "(617, 1695)"
      ]
     },
     "execution_count": 4,
     "metadata": {},
     "output_type": "execute_result"
    }
   ],
   "source": [
    "df.shape"
   ]
  },
  {
   "cell_type": "code",
   "execution_count": 5,
   "id": "8259ead8",
   "metadata": {},
   "outputs": [],
   "source": [
    " def parse_datetime(date_str): #convert_datetime\n",
    "    try:\n",
    "        return pd.to_datetime(date_str)\n",
    "    except ValueError:\n",
    "        try:\n",
    "            return pd.to_datetime(int(date_str))\n",
    "        except ValueError:\n",
    "            try:\n",
    "                return pd.to_datetime(date_str.split(\" \")[0], errors='coerce')\n",
    "        \n",
    "            except AttributeError:\n",
    "                return pd.NaT"
   ]
  },
  {
   "cell_type": "markdown",
   "id": "4dde63fc",
   "metadata": {},
   "source": [
    "## Intake time"
   ]
  },
  {
   "cell_type": "code",
   "execution_count": 6,
   "id": "8865cbb2",
   "metadata": {},
   "outputs": [
    {
     "name": "stderr",
     "output_type": "stream",
     "text": [
      "C:\\Users\\nogur\\AppData\\Local\\Temp\\ipykernel_11036\\3326314597.py:3: UserWarning: Parsing dates in %d/%m/%Y format when dayfirst=False (the default) was specified. Pass `dayfirst=True` or specify a format to silence this warning.\n",
      "  return pd.to_datetime(date_str)\n"
     ]
    },
    {
     "data": {
      "text/plain": [
       "Timestamp('2020-12-15 00:00:00')"
      ]
     },
     "execution_count": 6,
     "metadata": {},
     "output_type": "execute_result"
    }
   ],
   "source": [
    "pd.to_datetime(parse_datetime(\"15/12/2020\"))"
   ]
  },
  {
   "cell_type": "code",
   "execution_count": 7,
   "id": "af0dc724",
   "metadata": {},
   "outputs": [],
   "source": [
    "df[\"intake_date\"] =  df[\"sciafca_timestamp_intake\"].apply(parse_datetime)\n",
    "info_columns.append(\"intake_date\")"
   ]
  },
  {
   "cell_type": "markdown",
   "id": "f0829d29",
   "metadata": {},
   "source": [
    "## Attempt\n"
   ]
  },
  {
   "cell_type": "code",
   "execution_count": 8,
   "id": "80e2606f",
   "metadata": {},
   "outputs": [],
   "source": [
    "time2_visit_date_dates = [f\"visit_date_stu_{event}\" for event in redcap_event_names]\n",
    "time2_is_attempt = [f\"survival_analysis_target_{event}\" for event in redcap_event_names]\n",
    "time2_is_missing = [f\"ratio_of_missing_survival_analysis_target_values_{event}\" for event in redcap_event_names]"
   ]
  },
  {
   "cell_type": "code",
   "execution_count": 9,
   "id": "82c162ad",
   "metadata": {},
   "outputs": [
    {
     "name": "stderr",
     "output_type": "stream",
     "text": [
      "C:\\Users\\nogur\\AppData\\Local\\Temp\\ipykernel_11036\\3497349525.py:4: FutureWarning: Setting an item of incompatible dtype is deprecated and will raise in a future error of pandas. Value 'NaT' has dtype incompatible with float64, please explicitly cast to a compatible dtype first.\n",
      "  df.loc[df[is_attempt] != 1, visit_date] = pd.NaT\n",
      "C:\\Users\\nogur\\AppData\\Local\\Temp\\ipykernel_11036\\3497349525.py:4: FutureWarning: Setting an item of incompatible dtype is deprecated and will raise in a future error of pandas. Value 'NaT' has dtype incompatible with float64, please explicitly cast to a compatible dtype first.\n",
      "  df.loc[df[is_attempt] != 1, visit_date] = pd.NaT\n"
     ]
    }
   ],
   "source": [
    "for visit_date, is_attempt in zip(time2_visit_date_dates, time2_is_attempt):\n",
    "    # print(df[is_attempt].sum())\n",
    "    # print(f\"{df[time2_is_missing].min() == 1 }\")\n",
    "    df.loc[df[is_attempt] != 1, visit_date] = pd.NaT\n",
    "    df[visit_date] = df[visit_date].apply(parse_datetime)\n",
    "    df[\"is_missing_target\"] = (df[time2_is_missing].min(axis=1) == 1)"
   ]
  },
  {
   "cell_type": "code",
   "execution_count": 10,
   "id": "fb78851b",
   "metadata": {},
   "outputs": [],
   "source": [
    "df[\"suicide_attempt_date_target\"] = df[time2_visit_date_dates].min(axis=1)\n",
    "info_columns.append(\"suicide_attempt_date_target\")\n",
    "info_columns.append(\"is_missing_target\")"
   ]
  },
  {
   "cell_type": "markdown",
   "id": "984856f2",
   "metadata": {},
   "source": [
    "## Save"
   ]
  },
  {
   "cell_type": "code",
   "execution_count": 11,
   "id": "fefa3c76",
   "metadata": {},
   "outputs": [],
   "source": [
    "scores = ['mfq_score_intake',\n",
    "          'SDQ_Conduct_intake',\n",
    "          'SDQ_Emo_intake',\n",
    "          'SDQ_Hyper_intake',\n",
    "          'SDQ_Peer_intake',\n",
    "          'SDQ_Externalizing_intake',\n",
    "          'SDQ_Internalizing_intake',\n",
    "          'sdq_score_intake',\n",
    "          'c_ssrs_intake_life_stb_intake',\n",
    "          'c_ssrs_intake_life_idea_intake',\n",
    "          'c_ssrs_intake_2weeks_stb_intake',\n",
    "          'c_ssrs_intake_2weeks_idea_intake',\n",
    "          'c_ssrs_intake_recent_stb_intake',\n",
    "          'c_ssrs_intake_recent_idea_intake',\n",
    "          'siq_score_intake']\n"
   ]
  },
  {
   "cell_type": "code",
   "execution_count": 12,
   "id": "7f74eb1f",
   "metadata": {},
   "outputs": [],
   "source": [
    "questions = sci_af_ca + mfq + sdq + c_ssrs_intake + siq + cgi\n",
    "questions_intake = [f\"{q}_intake\" for q in questions]\n",
    "columns = info_columns + time2_visit_date_dates + scores + questions_intake"
   ]
  },
  {
   "cell_type": "code",
   "execution_count": 13,
   "id": "d503d97d",
   "metadata": {},
   "outputs": [],
   "source": [
    "df[columns].to_csv(r\"C:\\Users\\nogur\\Documents\\DeppClinic\\Data\\processed_data\\survival_analysis_20_3\\processed_data_for_survival_analysis_20_3.csv\", index = False)\n",
    "df[columns].to_csv(r\"C:\\Users\\nogur\\Documents\\DeppClinic\\source/projects/survival_analysis_data/processed_data_for_survival_analysis_20_3.csv\", index = False)"
   ]
  },
  {
   "cell_type": "code",
   "execution_count": 14,
   "id": "372ce20a",
   "metadata": {},
   "outputs": [
    {
     "data": {
      "text/plain": [
       "0      False\n",
       "1      False\n",
       "2      False\n",
       "3      False\n",
       "4      False\n",
       "       ...  \n",
       "612     True\n",
       "613     True\n",
       "614     True\n",
       "615     True\n",
       "616     True\n",
       "Length: 617, dtype: bool"
      ]
     },
     "execution_count": 14,
     "metadata": {},
     "output_type": "execute_result"
    }
   ],
   "source": [
    "(df[time2_is_missing].min(axis=1) == 1)"
   ]
  },
  {
   "cell_type": "code",
   "execution_count": 15,
   "id": "263e1a4b",
   "metadata": {},
   "outputs": [],
   "source": [
    "id_missing_sci = df.query('ratio_of_missing_sci_af_ac_values_intake == 1')\n",
    "id_existing_sci = df.query('ratio_of_missing_sci_af_ac_values_intake < 1')"
   ]
  },
  {
   "cell_type": "code",
   "execution_count": 16,
   "id": "cce917f6",
   "metadata": {},
   "outputs": [],
   "source": [
    "id_missing_sci.to_csv('id_missing_sci_af_ca_intake.csv', index=False)"
   ]
  },
  {
   "cell_type": "code",
   "execution_count": null,
   "id": "5a9ad0f3",
   "metadata": {},
   "outputs": [],
   "source": []
  },
  {
   "cell_type": "code",
   "execution_count": null,
   "id": "98afb883",
   "metadata": {},
   "outputs": [],
   "source": []
  },
  {
   "cell_type": "code",
   "execution_count": 17,
   "id": "8365c51a",
   "metadata": {},
   "outputs": [],
   "source": [
    "df_demographic = pd.read_csv(r\"C:\\Users\\nogur\\Documents\\DeppClinic\\Data\\processed_data\\survival_analysis_20_3\\data_patient_axis_demographics.csv\")\n"
   ]
  },
  {
   "cell_type": "code",
   "execution_count": 18,
   "id": "7ab4b024",
   "metadata": {},
   "outputs": [],
   "source": [
    "relevant_demographics = df_demographic[df_demographic.id.isin(id_existing_sci.id)]"
   ]
  },
  {
   "cell_type": "code",
   "execution_count": 19,
   "id": "6c664068",
   "metadata": {},
   "outputs": [
    {
     "data": {
      "text/html": [
       "<div>\n",
       "<style scoped>\n",
       "    .dataframe tbody tr th:only-of-type {\n",
       "        vertical-align: middle;\n",
       "    }\n",
       "\n",
       "    .dataframe tbody tr th {\n",
       "        vertical-align: top;\n",
       "    }\n",
       "\n",
       "    .dataframe thead th {\n",
       "        text-align: right;\n",
       "    }\n",
       "</style>\n",
       "<table border=\"1\" class=\"dataframe\">\n",
       "  <thead>\n",
       "    <tr style=\"text-align: right;\">\n",
       "      <th></th>\n",
       "      <th>id</th>\n",
       "      <th>gender</th>\n",
       "      <th>redcap_event_name</th>\n",
       "      <th>age_child_pre</th>\n",
       "      <th>parents_born_m_intake</th>\n",
       "      <th>parents_born_2_m_intake</th>\n",
       "      <th>born_child_m_intake</th>\n",
       "      <th>born_child_2_m_intake</th>\n",
       "      <th>parent_religion_m_intake</th>\n",
       "      <th>parent_religion_other_m_intake</th>\n",
       "      <th>parents_economy_m_intake</th>\n",
       "      <th>parents_education_m_intake</th>\n",
       "      <th>parents_education_other_m_intake</th>\n",
       "      <th>parents_work_m_intake</th>\n",
       "      <th>paresnts_work_2_m_intake</th>\n",
       "      <th>together_live_m_intake</th>\n",
       "      <th>group_intake</th>\n",
       "      <th>visit_date_stu_intake</th>\n",
       "      <th>sciafca_timestamp_intake</th>\n",
       "    </tr>\n",
       "  </thead>\n",
       "  <tbody>\n",
       "    <tr>\n",
       "      <th>15</th>\n",
       "      <td>E5541</td>\n",
       "      <td>2.0</td>\n",
       "      <td>intake_arm_1</td>\n",
       "      <td>12.0</td>\n",
       "      <td>1.0</td>\n",
       "      <td>NaN</td>\n",
       "      <td>1.0</td>\n",
       "      <td>NaN</td>\n",
       "      <td>1.0</td>\n",
       "      <td>NaN</td>\n",
       "      <td>3.0</td>\n",
       "      <td>4.0</td>\n",
       "      <td>NaN</td>\n",
       "      <td>1.0</td>\n",
       "      <td>מהנדסת תעשייה וניהול</td>\n",
       "      <td>2.0</td>\n",
       "      <td>control</td>\n",
       "      <td>2022-03-06</td>\n",
       "      <td>2022-02-07 13:45:21</td>\n",
       "    </tr>\n",
       "    <tr>\n",
       "      <th>19</th>\n",
       "      <td>Y4863</td>\n",
       "      <td>2.0</td>\n",
       "      <td>intake_arm_1</td>\n",
       "      <td>16.0</td>\n",
       "      <td>2.0</td>\n",
       "      <td>אוקראינה</td>\n",
       "      <td>1.0</td>\n",
       "      <td>NaN</td>\n",
       "      <td>1.0</td>\n",
       "      <td>NaN</td>\n",
       "      <td>2.0</td>\n",
       "      <td>4.0</td>\n",
       "      <td>NaN</td>\n",
       "      <td>1.0</td>\n",
       "      <td>אחות מוסמכת</td>\n",
       "      <td>1.0</td>\n",
       "      <td>ipt</td>\n",
       "      <td>1644303038000000000</td>\n",
       "      <td>2022-02-08 06:50:38</td>\n",
       "    </tr>\n",
       "    <tr>\n",
       "      <th>20</th>\n",
       "      <td>L7829</td>\n",
       "      <td>2.0</td>\n",
       "      <td>intake_arm_1</td>\n",
       "      <td>16.0</td>\n",
       "      <td>2.0</td>\n",
       "      <td>בלרוס</td>\n",
       "      <td>1.0</td>\n",
       "      <td>NaN</td>\n",
       "      <td>1.0</td>\n",
       "      <td>NaN</td>\n",
       "      <td>3.0</td>\n",
       "      <td>5.0</td>\n",
       "      <td>NaN</td>\n",
       "      <td>1.0</td>\n",
       "      <td>אחות</td>\n",
       "      <td>1.0</td>\n",
       "      <td>ipt</td>\n",
       "      <td>1644859883000000000</td>\n",
       "      <td>2022-02-14 17:31:23</td>\n",
       "    </tr>\n",
       "    <tr>\n",
       "      <th>21</th>\n",
       "      <td>N7245</td>\n",
       "      <td>1.0</td>\n",
       "      <td>intake_arm_1</td>\n",
       "      <td>9.0</td>\n",
       "      <td>2.0</td>\n",
       "      <td>אירן</td>\n",
       "      <td>1.0</td>\n",
       "      <td>NaN</td>\n",
       "      <td>4.0</td>\n",
       "      <td>NaN</td>\n",
       "      <td>2.0</td>\n",
       "      <td>4.0</td>\n",
       "      <td>NaN</td>\n",
       "      <td>1.0</td>\n",
       "      <td>מורה</td>\n",
       "      <td>1.0</td>\n",
       "      <td>ipt</td>\n",
       "      <td>1644867071000000000</td>\n",
       "      <td>2022-02-14 19:31:11</td>\n",
       "    </tr>\n",
       "    <tr>\n",
       "      <th>22</th>\n",
       "      <td>I8857</td>\n",
       "      <td>2.0</td>\n",
       "      <td>intake_arm_1</td>\n",
       "      <td>14.0</td>\n",
       "      <td>1.0</td>\n",
       "      <td>NaN</td>\n",
       "      <td>1.0</td>\n",
       "      <td>NaN</td>\n",
       "      <td>1.0</td>\n",
       "      <td>NaN</td>\n",
       "      <td>2.0</td>\n",
       "      <td>3.0</td>\n",
       "      <td>NaN</td>\n",
       "      <td>2.0</td>\n",
       "      <td>יועצת עצמאית בתחום ההגירה לקנדה</td>\n",
       "      <td>1.0</td>\n",
       "      <td>ipt</td>\n",
       "      <td>1645360089000000000</td>\n",
       "      <td>2022-02-20 12:28:09</td>\n",
       "    </tr>\n",
       "    <tr>\n",
       "      <th>...</th>\n",
       "      <td>...</td>\n",
       "      <td>...</td>\n",
       "      <td>...</td>\n",
       "      <td>...</td>\n",
       "      <td>...</td>\n",
       "      <td>...</td>\n",
       "      <td>...</td>\n",
       "      <td>...</td>\n",
       "      <td>...</td>\n",
       "      <td>...</td>\n",
       "      <td>...</td>\n",
       "      <td>...</td>\n",
       "      <td>...</td>\n",
       "      <td>...</td>\n",
       "      <td>...</td>\n",
       "      <td>...</td>\n",
       "      <td>...</td>\n",
       "      <td>...</td>\n",
       "      <td>...</td>\n",
       "    </tr>\n",
       "    <tr>\n",
       "      <th>600</th>\n",
       "      <td>Y8148</td>\n",
       "      <td>2.0</td>\n",
       "      <td>intake_arm_1</td>\n",
       "      <td>15.0</td>\n",
       "      <td>2.0</td>\n",
       "      <td>????????</td>\n",
       "      <td>1.0</td>\n",
       "      <td>NaN</td>\n",
       "      <td>1.0</td>\n",
       "      <td>NaN</td>\n",
       "      <td>3.0</td>\n",
       "      <td>2.0</td>\n",
       "      <td>NaN</td>\n",
       "      <td>1.0</td>\n",
       "      <td>????? ?????</td>\n",
       "      <td>2.0</td>\n",
       "      <td>ipt</td>\n",
       "      <td>1642704954000000000</td>\n",
       "      <td>2022-01-20 18:55:54</td>\n",
       "    </tr>\n",
       "    <tr>\n",
       "      <th>601</th>\n",
       "      <td>L5416</td>\n",
       "      <td>2.0</td>\n",
       "      <td>intake_arm_1</td>\n",
       "      <td>15.0</td>\n",
       "      <td>2.0</td>\n",
       "      <td>???????</td>\n",
       "      <td>1.0</td>\n",
       "      <td>NaN</td>\n",
       "      <td>1.0</td>\n",
       "      <td>NaN</td>\n",
       "      <td>3.0</td>\n",
       "      <td>2.0</td>\n",
       "      <td>NaN</td>\n",
       "      <td>1.0</td>\n",
       "      <td>?? ???</td>\n",
       "      <td>1.0</td>\n",
       "      <td>ipt</td>\n",
       "      <td>1643646325000000000</td>\n",
       "      <td>2022-01-31 16:25:25</td>\n",
       "    </tr>\n",
       "    <tr>\n",
       "      <th>602</th>\n",
       "      <td>S6156</td>\n",
       "      <td>3.0</td>\n",
       "      <td>intake_arm_1</td>\n",
       "      <td>15.0</td>\n",
       "      <td>1.0</td>\n",
       "      <td>NaN</td>\n",
       "      <td>1.0</td>\n",
       "      <td>NaN</td>\n",
       "      <td>1.0</td>\n",
       "      <td>NaN</td>\n",
       "      <td>2.0</td>\n",
       "      <td>4.0</td>\n",
       "      <td>NaN</td>\n",
       "      <td>1.0</td>\n",
       "      <td>מזכירה</td>\n",
       "      <td>2.0</td>\n",
       "      <td>ipt</td>\n",
       "      <td>1645283124000000000</td>\n",
       "      <td>2022-02-19 15:05:24</td>\n",
       "    </tr>\n",
       "    <tr>\n",
       "      <th>603</th>\n",
       "      <td>D1313</td>\n",
       "      <td>2.0</td>\n",
       "      <td>intake_arm_1</td>\n",
       "      <td>15.0</td>\n",
       "      <td>1.0</td>\n",
       "      <td>NaN</td>\n",
       "      <td>1.0</td>\n",
       "      <td>NaN</td>\n",
       "      <td>3.0</td>\n",
       "      <td>NaN</td>\n",
       "      <td>4.0</td>\n",
       "      <td>2.0</td>\n",
       "      <td>NaN</td>\n",
       "      <td>1.0</td>\n",
       "      <td>????? ???????????</td>\n",
       "      <td>1.0</td>\n",
       "      <td>ipt</td>\n",
       "      <td>1643633764000000000</td>\n",
       "      <td>2022-01-31 12:56:04</td>\n",
       "    </tr>\n",
       "    <tr>\n",
       "      <th>604</th>\n",
       "      <td>J2171</td>\n",
       "      <td>1.0</td>\n",
       "      <td>intake_arm_1</td>\n",
       "      <td>15.0</td>\n",
       "      <td>1.0</td>\n",
       "      <td>NaN</td>\n",
       "      <td>2.0</td>\n",
       "      <td>NaN</td>\n",
       "      <td>1.0</td>\n",
       "      <td>NaN</td>\n",
       "      <td>3.0</td>\n",
       "      <td>4.0</td>\n",
       "      <td>NaN</td>\n",
       "      <td>1.0</td>\n",
       "      <td>????</td>\n",
       "      <td>2.0</td>\n",
       "      <td>ipt</td>\n",
       "      <td>1643638895000000000</td>\n",
       "      <td>2022-01-31 14:21:35</td>\n",
       "    </tr>\n",
       "  </tbody>\n",
       "</table>\n",
       "<p>401 rows × 19 columns</p>\n",
       "</div>"
      ],
      "text/plain": [
       "        id  gender redcap_event_name  age_child_pre  parents_born_m_intake  \\\n",
       "15   E5541     2.0      intake_arm_1           12.0                    1.0   \n",
       "19   Y4863     2.0      intake_arm_1           16.0                    2.0   \n",
       "20   L7829     2.0      intake_arm_1           16.0                    2.0   \n",
       "21   N7245     1.0      intake_arm_1            9.0                    2.0   \n",
       "22   I8857     2.0      intake_arm_1           14.0                    1.0   \n",
       "..     ...     ...               ...            ...                    ...   \n",
       "600  Y8148     2.0      intake_arm_1           15.0                    2.0   \n",
       "601  L5416     2.0      intake_arm_1           15.0                    2.0   \n",
       "602  S6156     3.0      intake_arm_1           15.0                    1.0   \n",
       "603  D1313     2.0      intake_arm_1           15.0                    1.0   \n",
       "604  J2171     1.0      intake_arm_1           15.0                    1.0   \n",
       "\n",
       "    parents_born_2_m_intake  born_child_m_intake born_child_2_m_intake  \\\n",
       "15                      NaN                  1.0                   NaN   \n",
       "19                 אוקראינה                  1.0                   NaN   \n",
       "20                    בלרוס                  1.0                   NaN   \n",
       "21                     אירן                  1.0                   NaN   \n",
       "22                      NaN                  1.0                   NaN   \n",
       "..                      ...                  ...                   ...   \n",
       "600                ????????                  1.0                   NaN   \n",
       "601                 ???????                  1.0                   NaN   \n",
       "602                     NaN                  1.0                   NaN   \n",
       "603                     NaN                  1.0                   NaN   \n",
       "604                     NaN                  2.0                   NaN   \n",
       "\n",
       "     parent_religion_m_intake parent_religion_other_m_intake  \\\n",
       "15                        1.0                            NaN   \n",
       "19                        1.0                            NaN   \n",
       "20                        1.0                            NaN   \n",
       "21                        4.0                            NaN   \n",
       "22                        1.0                            NaN   \n",
       "..                        ...                            ...   \n",
       "600                       1.0                            NaN   \n",
       "601                       1.0                            NaN   \n",
       "602                       1.0                            NaN   \n",
       "603                       3.0                            NaN   \n",
       "604                       1.0                            NaN   \n",
       "\n",
       "     parents_economy_m_intake  parents_education_m_intake  \\\n",
       "15                        3.0                         4.0   \n",
       "19                        2.0                         4.0   \n",
       "20                        3.0                         5.0   \n",
       "21                        2.0                         4.0   \n",
       "22                        2.0                         3.0   \n",
       "..                        ...                         ...   \n",
       "600                       3.0                         2.0   \n",
       "601                       3.0                         2.0   \n",
       "602                       2.0                         4.0   \n",
       "603                       4.0                         2.0   \n",
       "604                       3.0                         4.0   \n",
       "\n",
       "    parents_education_other_m_intake  parents_work_m_intake  \\\n",
       "15                               NaN                    1.0   \n",
       "19                               NaN                    1.0   \n",
       "20                               NaN                    1.0   \n",
       "21                               NaN                    1.0   \n",
       "22                               NaN                    2.0   \n",
       "..                               ...                    ...   \n",
       "600                              NaN                    1.0   \n",
       "601                              NaN                    1.0   \n",
       "602                              NaN                    1.0   \n",
       "603                              NaN                    1.0   \n",
       "604                              NaN                    1.0   \n",
       "\n",
       "            paresnts_work_2_m_intake  together_live_m_intake group_intake  \\\n",
       "15              מהנדסת תעשייה וניהול                     2.0      control   \n",
       "19                       אחות מוסמכת                     1.0          ipt   \n",
       "20                              אחות                     1.0          ipt   \n",
       "21                              מורה                     1.0          ipt   \n",
       "22   יועצת עצמאית בתחום ההגירה לקנדה                     1.0          ipt   \n",
       "..                               ...                     ...          ...   \n",
       "600                      ????? ?????                     2.0          ipt   \n",
       "601                           ?? ???                     1.0          ipt   \n",
       "602                           מזכירה                     2.0          ipt   \n",
       "603                ????? ???????????                     1.0          ipt   \n",
       "604                             ????                     2.0          ipt   \n",
       "\n",
       "    visit_date_stu_intake sciafca_timestamp_intake  \n",
       "15             2022-03-06      2022-02-07 13:45:21  \n",
       "19    1644303038000000000      2022-02-08 06:50:38  \n",
       "20    1644859883000000000      2022-02-14 17:31:23  \n",
       "21    1644867071000000000      2022-02-14 19:31:11  \n",
       "22    1645360089000000000      2022-02-20 12:28:09  \n",
       "..                    ...                      ...  \n",
       "600   1642704954000000000      2022-01-20 18:55:54  \n",
       "601   1643646325000000000      2022-01-31 16:25:25  \n",
       "602   1645283124000000000      2022-02-19 15:05:24  \n",
       "603   1643633764000000000      2022-01-31 12:56:04  \n",
       "604   1643638895000000000      2022-01-31 14:21:35  \n",
       "\n",
       "[401 rows x 19 columns]"
      ]
     },
     "execution_count": 19,
     "metadata": {},
     "output_type": "execute_result"
    }
   ],
   "source": [
    "relevant_demographics"
   ]
  },
  {
   "cell_type": "code",
   "execution_count": 21,
   "id": "fbfe32a9",
   "metadata": {},
   "outputs": [],
   "source": [
    "relevant_demographics.to_csv(r\"C:\\Users\\nogur\\Documents\\DeppClinic\\Data\\processed_data\\survival_analysis_20_3\\demographics_survival_analysis_20_3.csv\", index = False)\n",
    "relevant_demographics.to_csv(r\"C:\\Users\\nogur\\Documents\\DeppClinic\\source/projects/survival_analysis_data/demographics_survival_analysis_20_3.csv\", index = False)"
   ]
  },
  {
   "cell_type": "code",
   "execution_count": null,
   "id": "3faf72aa",
   "metadata": {},
   "outputs": [],
   "source": []
  }
 ],
 "metadata": {
  "kernelspec": {
   "display_name": "DeppClinic",
   "language": "python",
   "name": "deppclinic"
  },
  "language_info": {
   "codemirror_mode": {
    "name": "ipython",
    "version": 3
   },
   "file_extension": ".py",
   "mimetype": "text/x-python",
   "name": "python",
   "nbconvert_exporter": "python",
   "pygments_lexer": "ipython3",
   "version": "3.11.5"
  }
 },
 "nbformat": 4,
 "nbformat_minor": 5
}
