{
 "cells": [
  {
   "cell_type": "code",
   "execution_count": 1,
   "id": "536067d0",
   "metadata": {},
   "outputs": [],
   "source": [
    "import pandas as pd\n",
    "import snorkel\n",
    "import spacy\n",
    "from snorkel.labeling import labeling_function\n",
    "from snorkel.labeling.model import LabelModel\n",
    "from snorkel.labeling import PandasLFApplier\n",
    "import ipywidgets as widgets\n",
    "from IPython.display import display, clear_output\n",
    "#nlp = spacy.load(\"he_ner_news_trf\")"
   ]
  },
  {
   "cell_type": "code",
   "execution_count": 2,
   "id": "ec4b8353",
   "metadata": {},
   "outputs": [],
   "source": [
    "df = pd.read_csv(\"snorkel_data.csv\")"
   ]
  },
  {
   "cell_type": "code",
   "execution_count": 3,
   "id": "7d783d2a",
   "metadata": {},
   "outputs": [],
   "source": [
    "df['text'] = df.ending_childparent_f"
   ]
  },
  {
   "cell_type": "code",
   "execution_count": 4,
   "id": "40355d1f",
   "metadata": {},
   "outputs": [],
   "source": [
    "\n",
    "# Initialize variables\n",
    "current_index = 0\n",
    "\n",
    "# Create widgets\n",
    "text_output = widgets.Output()\n",
    "text_box = widgets.Textarea(value='', disabled=True)\n",
    "next_button = widgets.Button(description=\"Next\")"
   ]
  },
  {
   "cell_type": "code",
   "execution_count": 5,
   "id": "3a68e7f3",
   "metadata": {},
   "outputs": [
    {
     "data": {
      "application/vnd.jupyter.widget-view+json": {
       "model_id": "5081223d3f6d40e3ab1c39825c384cc0",
       "version_major": 2,
       "version_minor": 0
      },
      "text/plain": [
       "Output()"
      ]
     },
     "metadata": {},
     "output_type": "display_data"
    },
    {
     "data": {
      "application/vnd.jupyter.widget-view+json": {
       "model_id": "13708722b0d64eac9dbbc349c7c4d6cc",
       "version_major": 2,
       "version_minor": 0
      },
      "text/plain": [
       "Button(description='Next', style=ButtonStyle())"
      ]
     },
     "metadata": {},
     "output_type": "display_data"
    }
   ],
   "source": [
    "# Function to display the current 'text' and handle button click\n",
    "def display_text():\n",
    "    global current_index\n",
    "    while current_index < len(df) and pd.isnull(df['text'][current_index]):\n",
    "        current_index += 1\n",
    "\n",
    "    if current_index < len(df):\n",
    "        text_output.clear_output()\n",
    "        with text_output:\n",
    "            print(df['text'][current_index])\n",
    "        current_index += 1\n",
    "        \n",
    "# Define button click event\n",
    "def on_button_click(b):\n",
    "    display_text()\n",
    "\n",
    "# Attach button click event\n",
    "next_button.on_click(on_button_click)\n",
    "\n",
    "# Display the initial 'text' and button\n",
    "display_text()\n",
    "display(text_output)\n",
    "display(next_button)\n"
   ]
  },
  {
   "cell_type": "code",
   "execution_count": null,
   "id": "42aa236c",
   "metadata": {},
   "outputs": [],
   "source": []
  },
  {
   "cell_type": "code",
   "execution_count": null,
   "id": "08dcc0b6",
   "metadata": {},
   "outputs": [],
   "source": []
  }
 ],
 "metadata": {
  "kernelspec": {
   "display_name": "snorkel",
   "language": "python",
   "name": "snorkel"
  },
  "language_info": {
   "codemirror_mode": {
    "name": "ipython",
    "version": 3
   },
   "file_extension": ".py",
   "mimetype": "text/x-python",
   "name": "python",
   "nbconvert_exporter": "python",
   "pygments_lexer": "ipython3",
   "version": "3.10.12"
  }
 },
 "nbformat": 4,
 "nbformat_minor": 5
}
