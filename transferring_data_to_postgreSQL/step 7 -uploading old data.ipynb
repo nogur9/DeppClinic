{
 "cells": [
  {
   "cell_type": "code",
   "execution_count": 1,
   "id": "8fc6f342",
   "metadata": {},
   "outputs": [],
   "source": [
    "import pandas as pd\n",
    "import psycopg2\n",
    "import stat\n",
    "import os\n",
    "#os.getcwd()\n",
    "conn_str = \"dbname=postgres user=postgres password=asdf123\"\n"
   ]
  },
  {
   "cell_type": "code",
   "execution_count": 2,
   "id": "1fe2802a",
   "metadata": {},
   "outputs": [],
   "source": [
    "\n",
    "def get_all_table_names(conn_str):\n",
    "    conn = psycopg2.connect(conn_str)\n",
    "    sql = \"\"\"\n",
    "    SELECT table_name FROM INFORMATION_SCHEMA.TABLES\n",
    "    WHERE table_schema = N'old_data'\n",
    "    \"\"\"\n",
    "\n",
    "\n",
    "    questionnaire_columns = list(pd.read_sql_query(sql, conn).table_name)\n",
    "    conn.close()\n",
    "    return questionnaire_columns"
   ]
  },
  {
   "cell_type": "markdown",
   "id": "f2790095",
   "metadata": {},
   "source": [
    "## get column names"
   ]
  },
  {
   "cell_type": "code",
   "execution_count": 3,
   "id": "32378876",
   "metadata": {},
   "outputs": [],
   "source": [
    "def get_column_names(questionnaire_name, conn_str):\n",
    "    conn = psycopg2.connect(conn_str)\n",
    "    sql = \"\"\"\n",
    "    SELECT *\n",
    "    FROM INFORMATION_SCHEMA.COLUMNS\n",
    "    WHERE TABLE_NAME = N'{0}' \n",
    "    AND table_schema = N'old_data'\n",
    "    \"\"\".format(questionnaire_name)\n",
    "\n",
    "    questionnaire_columns = list(pd.read_sql_query(sql, conn).column_name)\n",
    "    conn.close()\n",
    "    return questionnaire_columns"
   ]
  },
  {
   "cell_type": "code",
   "execution_count": 4,
   "id": "23780a39",
   "metadata": {},
   "outputs": [],
   "source": [
    "def check_permissions(yourfile):\n",
    "    st = os.stat(yourfile)\n",
    "    oct_perm = oct(st.st_mode)\n",
    "    print(oct_perm)"
   ]
  },
  {
   "cell_type": "code",
   "execution_count": 5,
   "id": "a207e502",
   "metadata": {},
   "outputs": [],
   "source": [
    "def prepare_data(questionnaire_name, questionnaire_columns, old_data_df):\n",
    "    questionnaire_data = old_data_df[questionnaire_columns]\n",
    "\n",
    "    file_name = \"old_{0}_data.csv\".format(questionnaire_name)\n",
    "    directory = r\"C:/Users/nogur/Documents/DeppClinic/Data/postgres_db/old_data\"\n",
    "    full_path = r'{0}/{1}'.format(directory, file_name)\n",
    "    questionnaire_data.to_csv(full_path, index=False)\n",
    "    \n",
    "    # Change the file permissions\n",
    "    os.chmod(full_path, 0o777)\n",
    "    \n",
    "    os.chmod(directory, 0o777)\n",
    "    \n",
    "\n",
    "    return full_path\n"
   ]
  },
  {
   "cell_type": "code",
   "execution_count": 6,
   "id": "2002463e",
   "metadata": {},
   "outputs": [],
   "source": [
    "def upload_data(questionnaire_name, full_path, conn_str):\n",
    "    upload_data = \"\"\"\n",
    "    COPY old_data.{0}\n",
    "    FROM '{1}'\n",
    "    DELIMITER ','\n",
    "    CSV HEADER;\n",
    "\n",
    "    \"\"\".format(questionnaire_name, full_path)\n",
    "\n",
    "    print(upload_data)\n",
    "\n",
    "    conn = psycopg2.connect(conn_str)\n",
    "    # Open a cursor to perform database operations\n",
    "    cur = conn.cursor()\n",
    "    # Execute a command: create datacamp_courses table\n",
    "    cur.execute(upload_data)\n",
    "    \n",
    "    \n",
    "    # Make the changes to the database persistent\n",
    "    conn.commit()\n",
    "\n",
    "    # Close cursor and communication with the database\n",
    "    cur.close()\n",
    "    conn.close()"
   ]
  },
  {
   "cell_type": "code",
   "execution_count": 7,
   "id": "831149ee",
   "metadata": {},
   "outputs": [
    {
     "name": "stderr",
     "output_type": "stream",
     "text": [
      "C:\\Users\\nogur\\AppData\\Local\\Temp\\ipykernel_21824\\2309821648.py:1: DtypeWarning: Columns (1593) have mixed types. Specify dtype option on import or set low_memory=False.\n",
      "  old_data_df = pd.read_csv(r\"..\\Data\\Transferring_Data_to_PostgreSQL\\old_data.csv\")\n",
      "C:\\Users\\nogur\\AppData\\Local\\Temp\\ipykernel_21824\\995539080.py:9: UserWarning: pandas only supports SQLAlchemy connectable (engine/connection) or database string URI or sqlite3 DBAPI2 connection. Other DBAPI2 objects are not tested. Please consider using SQLAlchemy.\n",
      "  questionnaire_columns = list(pd.read_sql_query(sql, conn).table_name)\n"
     ]
    }
   ],
   "source": [
    "old_data_df = pd.read_csv(r\"..\\Data\\Transferring_Data_to_PostgreSQL\\old_data.csv\")\n",
    "table_names = get_all_table_names(conn_str)\n"
   ]
  },
  {
   "cell_type": "markdown",
   "id": "e07731da",
   "metadata": {},
   "source": [
    "## Prepare the needed table"
   ]
  },
  {
   "cell_type": "code",
   "execution_count": 8,
   "id": "f135062c",
   "metadata": {},
   "outputs": [
    {
     "name": "stdout",
     "output_type": "stream",
     "text": [
      "swan_f\n",
      "\n",
      "    COPY old_data.swan_f\n",
      "    FROM 'C:/Users/nogur/Documents/DeppClinic/Data/postgres_db/old_data/old_swan_f_data.csv'\n",
      "    DELIMITER ','\n",
      "    CSV HEADER;\n",
      "\n",
      "    \n",
      "cps_stu\n"
     ]
    },
    {
     "name": "stderr",
     "output_type": "stream",
     "text": [
      "C:\\Users\\nogur\\AppData\\Local\\Temp\\ipykernel_21824\\1120641209.py:10: UserWarning: pandas only supports SQLAlchemy connectable (engine/connection) or database string URI or sqlite3 DBAPI2 connection. Other DBAPI2 objects are not tested. Please consider using SQLAlchemy.\n",
      "  questionnaire_columns = list(pd.read_sql_query(sql, conn).column_name)\n",
      "C:\\Users\\nogur\\AppData\\Local\\Temp\\ipykernel_21824\\1120641209.py:10: UserWarning: pandas only supports SQLAlchemy connectable (engine/connection) or database string URI or sqlite3 DBAPI2 connection. Other DBAPI2 objects are not tested. Please consider using SQLAlchemy.\n",
      "  questionnaire_columns = list(pd.read_sql_query(sql, conn).column_name)\n",
      "C:\\Users\\nogur\\AppData\\Local\\Temp\\ipykernel_21824\\1120641209.py:10: UserWarning: pandas only supports SQLAlchemy connectable (engine/connection) or database string URI or sqlite3 DBAPI2 connection. Other DBAPI2 objects are not tested. Please consider using SQLAlchemy.\n",
      "  questionnaire_columns = list(pd.read_sql_query(sql, conn).column_name)\n"
     ]
    },
    {
     "name": "stdout",
     "output_type": "stream",
     "text": [
      "\n",
      "    COPY old_data.cps_stu\n",
      "    FROM 'C:/Users/nogur/Documents/DeppClinic/Data/postgres_db/old_data/old_cps_stu_data.csv'\n",
      "    DELIMITER ','\n",
      "    CSV HEADER;\n",
      "\n",
      "    \n",
      "cgi_s_clin\n",
      "\n",
      "    COPY old_data.cgi_s_clin\n",
      "    FROM 'C:/Users/nogur/Documents/DeppClinic/Data/postgres_db/old_data/old_cgi_s_clin_data.csv'\n",
      "    DELIMITER ','\n",
      "    CSV HEADER;\n",
      "\n",
      "    \n",
      "opening_parents_f\n"
     ]
    },
    {
     "name": "stderr",
     "output_type": "stream",
     "text": [
      "C:\\Users\\nogur\\AppData\\Local\\Temp\\ipykernel_21824\\1120641209.py:10: UserWarning: pandas only supports SQLAlchemy connectable (engine/connection) or database string URI or sqlite3 DBAPI2 connection. Other DBAPI2 objects are not tested. Please consider using SQLAlchemy.\n",
      "  questionnaire_columns = list(pd.read_sql_query(sql, conn).column_name)\n"
     ]
    },
    {
     "name": "stdout",
     "output_type": "stream",
     "text": [
      "\n",
      "    COPY old_data.opening_parents_f\n",
      "    FROM 'C:/Users/nogur/Documents/DeppClinic/Data/postgres_db/old_data/old_opening_parents_f_data.csv'\n",
      "    DELIMITER ','\n",
      "    CSV HEADER;\n",
      "\n",
      "    \n",
      "estimation_and_satisfaction\n"
     ]
    },
    {
     "name": "stderr",
     "output_type": "stream",
     "text": [
      "C:\\Users\\nogur\\AppData\\Local\\Temp\\ipykernel_21824\\1120641209.py:10: UserWarning: pandas only supports SQLAlchemy connectable (engine/connection) or database string URI or sqlite3 DBAPI2 connection. Other DBAPI2 objects are not tested. Please consider using SQLAlchemy.\n",
      "  questionnaire_columns = list(pd.read_sql_query(sql, conn).column_name)\n"
     ]
    },
    {
     "name": "stdout",
     "output_type": "stream",
     "text": [
      "\n",
      "    COPY old_data.estimation_and_satisfaction\n",
      "    FROM 'C:/Users/nogur/Documents/DeppClinic/Data/postgres_db/old_data/old_estimation_and_satisfaction_data.csv'\n",
      "    DELIMITER ','\n",
      "    CSV HEADER;\n",
      "\n",
      "    \n",
      "sas\n"
     ]
    },
    {
     "name": "stderr",
     "output_type": "stream",
     "text": [
      "C:\\Users\\nogur\\AppData\\Local\\Temp\\ipykernel_21824\\1120641209.py:10: UserWarning: pandas only supports SQLAlchemy connectable (engine/connection) or database string URI or sqlite3 DBAPI2 connection. Other DBAPI2 objects are not tested. Please consider using SQLAlchemy.\n",
      "  questionnaire_columns = list(pd.read_sql_query(sql, conn).column_name)\n"
     ]
    },
    {
     "name": "stdout",
     "output_type": "stream",
     "text": [
      "\n",
      "    COPY old_data.sas\n",
      "    FROM 'C:/Users/nogur/Documents/DeppClinic/Data/postgres_db/old_data/old_sas_data.csv'\n",
      "    DELIMITER ','\n",
      "    CSV HEADER;\n",
      "\n",
      "    \n",
      "dass_f\n"
     ]
    },
    {
     "name": "stderr",
     "output_type": "stream",
     "text": [
      "C:\\Users\\nogur\\AppData\\Local\\Temp\\ipykernel_21824\\1120641209.py:10: UserWarning: pandas only supports SQLAlchemy connectable (engine/connection) or database string URI or sqlite3 DBAPI2 connection. Other DBAPI2 objects are not tested. Please consider using SQLAlchemy.\n",
      "  questionnaire_columns = list(pd.read_sql_query(sql, conn).column_name)\n"
     ]
    },
    {
     "name": "stdout",
     "output_type": "stream",
     "text": [
      "\n",
      "    COPY old_data.dass_f\n",
      "    FROM 'C:/Users/nogur/Documents/DeppClinic/Data/postgres_db/old_data/old_dass_f_data.csv'\n",
      "    DELIMITER ','\n",
      "    CSV HEADER;\n",
      "\n",
      "    \n",
      "cps_clin\n"
     ]
    },
    {
     "name": "stderr",
     "output_type": "stream",
     "text": [
      "C:\\Users\\nogur\\AppData\\Local\\Temp\\ipykernel_21824\\1120641209.py:10: UserWarning: pandas only supports SQLAlchemy connectable (engine/connection) or database string URI or sqlite3 DBAPI2 connection. Other DBAPI2 objects are not tested. Please consider using SQLAlchemy.\n",
      "  questionnaire_columns = list(pd.read_sql_query(sql, conn).column_name)\n"
     ]
    },
    {
     "name": "stdout",
     "output_type": "stream",
     "text": [
      "\n",
      "    COPY old_data.cps_clin\n",
      "    FROM 'C:/Users/nogur/Documents/DeppClinic/Data/postgres_db/old_data/old_cps_clin_data.csv'\n",
      "    DELIMITER ','\n",
      "    CSV HEADER;\n",
      "\n",
      "    \n",
      "opening_therapist_battery\n"
     ]
    },
    {
     "name": "stderr",
     "output_type": "stream",
     "text": [
      "C:\\Users\\nogur\\AppData\\Local\\Temp\\ipykernel_21824\\1120641209.py:10: UserWarning: pandas only supports SQLAlchemy connectable (engine/connection) or database string URI or sqlite3 DBAPI2 connection. Other DBAPI2 objects are not tested. Please consider using SQLAlchemy.\n",
      "  questionnaire_columns = list(pd.read_sql_query(sql, conn).column_name)\n",
      "C:\\Users\\nogur\\AppData\\Local\\Temp\\ipykernel_21824\\1120641209.py:10: UserWarning: pandas only supports SQLAlchemy connectable (engine/connection) or database string URI or sqlite3 DBAPI2 connection. Other DBAPI2 objects are not tested. Please consider using SQLAlchemy.\n",
      "  questionnaire_columns = list(pd.read_sql_query(sql, conn).column_name)\n"
     ]
    },
    {
     "name": "stdout",
     "output_type": "stream",
     "text": [
      "\n",
      "    COPY old_data.opening_therapist_battery\n",
      "    FROM 'C:/Users/nogur/Documents/DeppClinic/Data/postgres_db/old_data/old_opening_therapist_battery_data.csv'\n",
      "    DELIMITER ','\n",
      "    CSV HEADER;\n",
      "\n",
      "    \n",
      "sci_af_ca\n",
      "\n",
      "    COPY old_data.sci_af_ca\n",
      "    FROM 'C:/Users/nogur/Documents/DeppClinic/Data/postgres_db/old_data/old_sci_af_ca_data.csv'\n",
      "    DELIMITER ','\n",
      "    CSV HEADER;\n",
      "\n",
      "    \n",
      "ecr_f\n",
      "\n",
      "    COPY old_data.ecr_f\n",
      "    FROM 'C:/Users/nogur/Documents/DeppClinic/Data/postgres_db/old_data/old_ecr_f_data.csv'\n",
      "    DELIMITER ','\n",
      "    CSV HEADER;\n",
      "\n",
      "    \n"
     ]
    },
    {
     "name": "stderr",
     "output_type": "stream",
     "text": [
      "C:\\Users\\nogur\\AppData\\Local\\Temp\\ipykernel_21824\\1120641209.py:10: UserWarning: pandas only supports SQLAlchemy connectable (engine/connection) or database string URI or sqlite3 DBAPI2 connection. Other DBAPI2 objects are not tested. Please consider using SQLAlchemy.\n",
      "  questionnaire_columns = list(pd.read_sql_query(sql, conn).column_name)\n",
      "C:\\Users\\nogur\\AppData\\Local\\Temp\\ipykernel_21824\\1120641209.py:10: UserWarning: pandas only supports SQLAlchemy connectable (engine/connection) or database string URI or sqlite3 DBAPI2 connection. Other DBAPI2 objects are not tested. Please consider using SQLAlchemy.\n",
      "  questionnaire_columns = list(pd.read_sql_query(sql, conn).column_name)\n"
     ]
    },
    {
     "name": "stdout",
     "output_type": "stream",
     "text": [
      "cshq_m\n",
      "\n",
      "    COPY old_data.cshq_m\n",
      "    FROM 'C:/Users/nogur/Documents/DeppClinic/Data/postgres_db/old_data/old_cshq_m_data.csv'\n",
      "    DELIMITER ','\n",
      "    CSV HEADER;\n",
      "\n",
      "    \n",
      "scs_clin\n"
     ]
    },
    {
     "name": "stderr",
     "output_type": "stream",
     "text": [
      "C:\\Users\\nogur\\AppData\\Local\\Temp\\ipykernel_21824\\1120641209.py:10: UserWarning: pandas only supports SQLAlchemy connectable (engine/connection) or database string URI or sqlite3 DBAPI2 connection. Other DBAPI2 objects are not tested. Please consider using SQLAlchemy.\n",
      "  questionnaire_columns = list(pd.read_sql_query(sql, conn).column_name)\n",
      "C:\\Users\\nogur\\AppData\\Local\\Temp\\ipykernel_21824\\1120641209.py:10: UserWarning: pandas only supports SQLAlchemy connectable (engine/connection) or database string URI or sqlite3 DBAPI2 connection. Other DBAPI2 objects are not tested. Please consider using SQLAlchemy.\n",
      "  questionnaire_columns = list(pd.read_sql_query(sql, conn).column_name)\n"
     ]
    },
    {
     "name": "stdout",
     "output_type": "stream",
     "text": [
      "\n",
      "    COPY old_data.scs_clin\n",
      "    FROM 'C:/Users/nogur/Documents/DeppClinic/Data/postgres_db/old_data/old_scs_clin_data.csv'\n",
      "    DELIMITER ','\n",
      "    CSV HEADER;\n",
      "\n",
      "    \n",
      "trq_sf_maris_clin\n",
      "\n",
      "    COPY old_data.trq_sf_maris_clin\n",
      "    FROM 'C:/Users/nogur/Documents/DeppClinic/Data/postgres_db/old_data/old_trq_sf_maris_clin_data.csv'\n",
      "    DELIMITER ','\n",
      "    CSV HEADER;\n",
      "\n",
      "    \n",
      "sdq_parents_m\n",
      "\n",
      "    COPY old_data.sdq_parents_m\n",
      "    FROM 'C:/Users/nogur/Documents/DeppClinic/Data/postgres_db/old_data/old_sdq_parents_m_data.csv'\n",
      "    DELIMITER ','\n",
      "    CSV HEADER;\n",
      "\n",
      "    \n"
     ]
    },
    {
     "name": "stderr",
     "output_type": "stream",
     "text": [
      "C:\\Users\\nogur\\AppData\\Local\\Temp\\ipykernel_21824\\1120641209.py:10: UserWarning: pandas only supports SQLAlchemy connectable (engine/connection) or database string URI or sqlite3 DBAPI2 connection. Other DBAPI2 objects are not tested. Please consider using SQLAlchemy.\n",
      "  questionnaire_columns = list(pd.read_sql_query(sql, conn).column_name)\n"
     ]
    },
    {
     "name": "stdout",
     "output_type": "stream",
     "text": [
      "maris_y_scars_clin\n",
      "\n",
      "    COPY old_data.maris_y_scars_clin\n",
      "    FROM 'C:/Users/nogur/Documents/DeppClinic/Data/postgres_db/old_data/old_maris_y_scars_clin_data.csv'\n",
      "    DELIMITER ','\n",
      "    CSV HEADER;\n",
      "\n",
      "    \n"
     ]
    },
    {
     "name": "stderr",
     "output_type": "stream",
     "text": [
      "C:\\Users\\nogur\\AppData\\Local\\Temp\\ipykernel_21824\\1120641209.py:10: UserWarning: pandas only supports SQLAlchemy connectable (engine/connection) or database string URI or sqlite3 DBAPI2 connection. Other DBAPI2 objects are not tested. Please consider using SQLAlchemy.\n",
      "  questionnaire_columns = list(pd.read_sql_query(sql, conn).column_name)\n"
     ]
    },
    {
     "name": "stdout",
     "output_type": "stream",
     "text": [
      "sdq_parents_f\n",
      "\n",
      "    COPY old_data.sdq_parents_f\n",
      "    FROM 'C:/Users/nogur/Documents/DeppClinic/Data/postgres_db/old_data/old_sdq_parents_f_data.csv'\n",
      "    DELIMITER ','\n",
      "    CSV HEADER;\n",
      "\n",
      "    \n",
      "intro\n"
     ]
    },
    {
     "name": "stderr",
     "output_type": "stream",
     "text": [
      "C:\\Users\\nogur\\AppData\\Local\\Temp\\ipykernel_21824\\1120641209.py:10: UserWarning: pandas only supports SQLAlchemy connectable (engine/connection) or database string URI or sqlite3 DBAPI2 connection. Other DBAPI2 objects are not tested. Please consider using SQLAlchemy.\n",
      "  questionnaire_columns = list(pd.read_sql_query(sql, conn).column_name)\n",
      "C:\\Users\\nogur\\AppData\\Local\\Temp\\ipykernel_21824\\1120641209.py:10: UserWarning: pandas only supports SQLAlchemy connectable (engine/connection) or database string URI or sqlite3 DBAPI2 connection. Other DBAPI2 objects are not tested. Please consider using SQLAlchemy.\n",
      "  questionnaire_columns = list(pd.read_sql_query(sql, conn).column_name)\n"
     ]
    },
    {
     "name": "stdout",
     "output_type": "stream",
     "text": [
      "\n",
      "    COPY old_data.intro\n",
      "    FROM 'C:/Users/nogur/Documents/DeppClinic/Data/postgres_db/old_data/old_intro_data.csv'\n",
      "    DELIMITER ','\n",
      "    CSV HEADER;\n",
      "\n",
      "    \n",
      "scs_stu\n"
     ]
    },
    {
     "name": "stderr",
     "output_type": "stream",
     "text": [
      "C:\\Users\\nogur\\AppData\\Local\\Temp\\ipykernel_21824\\1120641209.py:10: UserWarning: pandas only supports SQLAlchemy connectable (engine/connection) or database string URI or sqlite3 DBAPI2 connection. Other DBAPI2 objects are not tested. Please consider using SQLAlchemy.\n",
      "  questionnaire_columns = list(pd.read_sql_query(sql, conn).column_name)\n",
      "C:\\Users\\nogur\\AppData\\Local\\Temp\\ipykernel_21824\\1120641209.py:10: UserWarning: pandas only supports SQLAlchemy connectable (engine/connection) or database string URI or sqlite3 DBAPI2 connection. Other DBAPI2 objects are not tested. Please consider using SQLAlchemy.\n",
      "  questionnaire_columns = list(pd.read_sql_query(sql, conn).column_name)\n"
     ]
    },
    {
     "name": "stdout",
     "output_type": "stream",
     "text": [
      "\n",
      "    COPY old_data.scs_stu\n",
      "    FROM 'C:/Users/nogur/Documents/DeppClinic/Data/postgres_db/old_data/old_scs_stu_data.csv'\n",
      "    DELIMITER ','\n",
      "    CSV HEADER;\n",
      "\n",
      "    \n",
      "screening_form\n",
      "\n",
      "    COPY old_data.screening_form\n",
      "    FROM 'C:/Users/nogur/Documents/DeppClinic/Data/postgres_db/old_data/old_screening_form_data.csv'\n",
      "    DELIMITER ','\n",
      "    CSV HEADER;\n",
      "\n",
      "    \n",
      "dass_m\n"
     ]
    },
    {
     "name": "stderr",
     "output_type": "stream",
     "text": [
      "C:\\Users\\nogur\\AppData\\Local\\Temp\\ipykernel_21824\\1120641209.py:10: UserWarning: pandas only supports SQLAlchemy connectable (engine/connection) or database string URI or sqlite3 DBAPI2 connection. Other DBAPI2 objects are not tested. Please consider using SQLAlchemy.\n",
      "  questionnaire_columns = list(pd.read_sql_query(sql, conn).column_name)\n",
      "C:\\Users\\nogur\\AppData\\Local\\Temp\\ipykernel_21824\\1120641209.py:10: UserWarning: pandas only supports SQLAlchemy connectable (engine/connection) or database string URI or sqlite3 DBAPI2 connection. Other DBAPI2 objects are not tested. Please consider using SQLAlchemy.\n",
      "  questionnaire_columns = list(pd.read_sql_query(sql, conn).column_name)\n"
     ]
    },
    {
     "name": "stdout",
     "output_type": "stream",
     "text": [
      "\n",
      "    COPY old_data.dass_m\n",
      "    FROM 'C:/Users/nogur/Documents/DeppClinic/Data/postgres_db/old_data/old_dass_m_data.csv'\n",
      "    DELIMITER ','\n",
      "    CSV HEADER;\n",
      "\n",
      "    \n",
      "ending_parent_f\n",
      "\n",
      "    COPY old_data.ending_parent_f\n",
      "    FROM 'C:/Users/nogur/Documents/DeppClinic/Data/postgres_db/old_data/old_ending_parent_f_data.csv'\n",
      "    DELIMITER ','\n",
      "    CSV HEADER;\n",
      "\n",
      "    \n",
      "ders_p_f\n",
      "\n",
      "    COPY old_data.ders_p_f\n",
      "    FROM 'C:/Users/nogur/Documents/DeppClinic/Data/postgres_db/old_data/old_ders_p_f_data.csv'\n",
      "    DELIMITER ','\n",
      "    CSV HEADER;\n",
      "\n",
      "    \n"
     ]
    },
    {
     "name": "stderr",
     "output_type": "stream",
     "text": [
      "C:\\Users\\nogur\\AppData\\Local\\Temp\\ipykernel_21824\\1120641209.py:10: UserWarning: pandas only supports SQLAlchemy connectable (engine/connection) or database string URI or sqlite3 DBAPI2 connection. Other DBAPI2 objects are not tested. Please consider using SQLAlchemy.\n",
      "  questionnaire_columns = list(pd.read_sql_query(sql, conn).column_name)\n"
     ]
    },
    {
     "name": "stdout",
     "output_type": "stream",
     "text": [
      "sci_mother\n",
      "\n",
      "    COPY old_data.sci_mother\n",
      "    FROM 'C:/Users/nogur/Documents/DeppClinic/Data/postgres_db/old_data/old_sci_mother_data.csv'\n",
      "    DELIMITER ','\n",
      "    CSV HEADER;\n",
      "\n",
      "    \n"
     ]
    },
    {
     "name": "stderr",
     "output_type": "stream",
     "text": [
      "C:\\Users\\nogur\\AppData\\Local\\Temp\\ipykernel_21824\\1120641209.py:10: UserWarning: pandas only supports SQLAlchemy connectable (engine/connection) or database string URI or sqlite3 DBAPI2 connection. Other DBAPI2 objects are not tested. Please consider using SQLAlchemy.\n",
      "  questionnaire_columns = list(pd.read_sql_query(sql, conn).column_name)\n"
     ]
    },
    {
     "name": "stdout",
     "output_type": "stream",
     "text": [
      "c_ssrs_fu_maya\n",
      "\n",
      "    COPY old_data.c_ssrs_fu_maya\n",
      "    FROM 'C:/Users/nogur/Documents/DeppClinic/Data/postgres_db/old_data/old_c_ssrs_fu_maya_data.csv'\n",
      "    DELIMITER ','\n",
      "    CSV HEADER;\n",
      "\n",
      "    \n"
     ]
    },
    {
     "name": "stderr",
     "output_type": "stream",
     "text": [
      "C:\\Users\\nogur\\AppData\\Local\\Temp\\ipykernel_21824\\1120641209.py:10: UserWarning: pandas only supports SQLAlchemy connectable (engine/connection) or database string URI or sqlite3 DBAPI2 connection. Other DBAPI2 objects are not tested. Please consider using SQLAlchemy.\n",
      "  questionnaire_columns = list(pd.read_sql_query(sql, conn).column_name)\n"
     ]
    },
    {
     "name": "stdout",
     "output_type": "stream",
     "text": [
      "ders_p_m\n",
      "\n",
      "    COPY old_data.ders_p_m\n",
      "    FROM 'C:/Users/nogur/Documents/DeppClinic/Data/postgres_db/old_data/old_ders_p_m_data.csv'\n",
      "    DELIMITER ','\n",
      "    CSV HEADER;\n",
      "\n",
      "    \n"
     ]
    },
    {
     "name": "stderr",
     "output_type": "stream",
     "text": [
      "C:\\Users\\nogur\\AppData\\Local\\Temp\\ipykernel_21824\\1120641209.py:10: UserWarning: pandas only supports SQLAlchemy connectable (engine/connection) or database string URI or sqlite3 DBAPI2 connection. Other DBAPI2 objects are not tested. Please consider using SQLAlchemy.\n",
      "  questionnaire_columns = list(pd.read_sql_query(sql, conn).column_name)\n"
     ]
    },
    {
     "name": "stdout",
     "output_type": "stream",
     "text": [
      "moas_f\n",
      "\n",
      "    COPY old_data.moas_f\n",
      "    FROM 'C:/Users/nogur/Documents/DeppClinic/Data/postgres_db/old_data/old_moas_f_data.csv'\n",
      "    DELIMITER ','\n",
      "    CSV HEADER;\n",
      "\n",
      "    \n"
     ]
    },
    {
     "name": "stderr",
     "output_type": "stream",
     "text": [
      "C:\\Users\\nogur\\AppData\\Local\\Temp\\ipykernel_21824\\1120641209.py:10: UserWarning: pandas only supports SQLAlchemy connectable (engine/connection) or database string URI or sqlite3 DBAPI2 connection. Other DBAPI2 objects are not tested. Please consider using SQLAlchemy.\n",
      "  questionnaire_columns = list(pd.read_sql_query(sql, conn).column_name)\n"
     ]
    },
    {
     "name": "stdout",
     "output_type": "stream",
     "text": [
      "cdrsr_clin\n"
     ]
    },
    {
     "name": "stderr",
     "output_type": "stream",
     "text": [
      "C:\\Users\\nogur\\AppData\\Local\\Temp\\ipykernel_21824\\1120641209.py:10: UserWarning: pandas only supports SQLAlchemy connectable (engine/connection) or database string URI or sqlite3 DBAPI2 connection. Other DBAPI2 objects are not tested. Please consider using SQLAlchemy.\n",
      "  questionnaire_columns = list(pd.read_sql_query(sql, conn).column_name)\n"
     ]
    },
    {
     "name": "stdout",
     "output_type": "stream",
     "text": [
      "\n",
      "    COPY old_data.cdrsr_clin\n",
      "    FROM 'C:/Users/nogur/Documents/DeppClinic/Data/postgres_db/old_data/old_cdrsr_clin_data.csv'\n",
      "    DELIMITER ','\n",
      "    CSV HEADER;\n",
      "\n",
      "    \n",
      "sci_father\n",
      "\n",
      "    COPY old_data.sci_father\n",
      "    FROM 'C:/Users/nogur/Documents/DeppClinic/Data/postgres_db/old_data/old_sci_father_data.csv'\n",
      "    DELIMITER ','\n",
      "    CSV HEADER;\n",
      "\n",
      "    \n"
     ]
    },
    {
     "name": "stderr",
     "output_type": "stream",
     "text": [
      "C:\\Users\\nogur\\AppData\\Local\\Temp\\ipykernel_21824\\1120641209.py:10: UserWarning: pandas only supports SQLAlchemy connectable (engine/connection) or database string URI or sqlite3 DBAPI2 connection. Other DBAPI2 objects are not tested. Please consider using SQLAlchemy.\n",
      "  questionnaire_columns = list(pd.read_sql_query(sql, conn).column_name)\n",
      "C:\\Users\\nogur\\AppData\\Local\\Temp\\ipykernel_21824\\1120641209.py:10: UserWarning: pandas only supports SQLAlchemy connectable (engine/connection) or database string URI or sqlite3 DBAPI2 connection. Other DBAPI2 objects are not tested. Please consider using SQLAlchemy.\n",
      "  questionnaire_columns = list(pd.read_sql_query(sql, conn).column_name)\n"
     ]
    },
    {
     "name": "stdout",
     "output_type": "stream",
     "text": [
      "opening\n",
      "\n",
      "    COPY old_data.opening\n",
      "    FROM 'C:/Users/nogur/Documents/DeppClinic/Data/postgres_db/old_data/old_opening_data.csv'\n",
      "    DELIMITER ','\n",
      "    CSV HEADER;\n",
      "\n",
      "    \n"
     ]
    },
    {
     "ename": "StringDataRightTruncation",
     "evalue": "value too long for type character varying(1024)\nCONTEXT:  COPY opening, line 289, column diagnosis_other: \"???????,????? ??????\",1,0,0,1,0,0,0,0,????? ???? ??????,1,1,0,1,0,0, ,1, ,0,1,0,1, ,2, , , , , , , ,...\"\n",
     "output_type": "error",
     "traceback": [
      "\u001b[1;31m---------------------------------------------------------------------------\u001b[0m",
      "\u001b[1;31mStringDataRightTruncation\u001b[0m                 Traceback (most recent call last)",
      "Cell \u001b[1;32mIn[8], line 5\u001b[0m\n\u001b[0;32m      3\u001b[0m questionnaire_columns \u001b[38;5;241m=\u001b[39m get_column_names(questionnaire_name, conn_str)\n\u001b[0;32m      4\u001b[0m full_path \u001b[38;5;241m=\u001b[39m prepare_data(questionnaire_name, questionnaire_columns, old_data_df)\n\u001b[1;32m----> 5\u001b[0m upload_data(questionnaire_name, full_path, conn_str)\n",
      "Cell \u001b[1;32mIn[6], line 16\u001b[0m, in \u001b[0;36mupload_data\u001b[1;34m(questionnaire_name, full_path, conn_str)\u001b[0m\n\u001b[0;32m     14\u001b[0m cur \u001b[38;5;241m=\u001b[39m conn\u001b[38;5;241m.\u001b[39mcursor()\n\u001b[0;32m     15\u001b[0m \u001b[38;5;66;03m# Execute a command: create datacamp_courses table\u001b[39;00m\n\u001b[1;32m---> 16\u001b[0m cur\u001b[38;5;241m.\u001b[39mexecute(upload_data)\n\u001b[0;32m     19\u001b[0m \u001b[38;5;66;03m# Make the changes to the database persistent\u001b[39;00m\n\u001b[0;32m     20\u001b[0m conn\u001b[38;5;241m.\u001b[39mcommit()\n",
      "\u001b[1;31mStringDataRightTruncation\u001b[0m: value too long for type character varying(1024)\nCONTEXT:  COPY opening, line 289, column diagnosis_other: \"???????,????? ??????\",1,0,0,1,0,0,0,0,????? ???? ??????,1,1,0,1,0,0, ,1, ,0,1,0,1, ,2, , , , , , , ,...\"\n"
     ]
    }
   ],
   "source": [
    "\n",
    "for questionnaire_name in table_names[1:]:\n",
    "    print(questionnaire_name)\n",
    "    questionnaire_columns = get_column_names(questionnaire_name, conn_str)\n",
    "    full_path = prepare_data(questionnaire_name, questionnaire_columns, old_data_df)\n",
    "    upload_data(questionnaire_name, full_path, conn_str)\n"
   ]
  },
  {
   "cell_type": "code",
   "execution_count": null,
   "id": "86d26949",
   "metadata": {},
   "outputs": [],
   "source": []
  }
 ],
 "metadata": {
  "kernelspec": {
   "display_name": "DeppClinic",
   "language": "python",
   "name": "deppclinic"
  },
  "language_info": {
   "codemirror_mode": {
    "name": "ipython",
    "version": 3
   },
   "file_extension": ".py",
   "mimetype": "text/x-python",
   "name": "python",
   "nbconvert_exporter": "python",
   "pygments_lexer": "ipython3",
   "version": "3.11.5"
  }
 },
 "nbformat": 4,
 "nbformat_minor": 5
}
