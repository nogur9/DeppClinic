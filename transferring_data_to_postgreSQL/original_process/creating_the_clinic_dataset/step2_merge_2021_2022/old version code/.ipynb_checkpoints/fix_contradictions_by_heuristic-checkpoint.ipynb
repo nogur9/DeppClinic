{
 "cells": [
  {
   "cell_type": "code",
   "execution_count": 3,
   "id": "de423f4e-f7f8-478d-9155-eac2e18e8db3",
   "metadata": {},
   "outputs": [],
   "source": [
    "import pandas as pd"
   ]
  },
  {
   "cell_type": "code",
   "execution_count": 4,
   "id": "641a988b-cc47-49c9-9712-c13bf946441c",
   "metadata": {},
   "outputs": [
    {
     "ename": "NameError",
     "evalue": "name 'df_2021' is not defined",
     "output_type": "error",
     "traceback": [
      "\u001b[1;31m---------------------------------------------------------------------------\u001b[0m",
      "\u001b[1;31mNameError\u001b[0m                                 Traceback (most recent call last)",
      "\u001b[1;32m~\\AppData\\Local\\Temp/ipykernel_14308/74234299.py\u001b[0m in \u001b[0;36m<module>\u001b[1;34m\u001b[0m\n\u001b[1;32m----> 1\u001b[1;33m \u001b[0mdf_combined\u001b[0m \u001b[1;33m=\u001b[0m \u001b[0mpd\u001b[0m\u001b[1;33m.\u001b[0m\u001b[0mmerge\u001b[0m\u001b[1;33m(\u001b[0m\u001b[0mdf_2021\u001b[0m\u001b[1;33m,\u001b[0m \u001b[0mdf_2022\u001b[0m\u001b[1;33m,\u001b[0m \u001b[0mon\u001b[0m\u001b[1;33m=\u001b[0m\u001b[1;33m[\u001b[0m\u001b[1;34m'id'\u001b[0m\u001b[1;33m,\u001b[0m \u001b[1;34m'redcap_event_name'\u001b[0m\u001b[1;33m]\u001b[0m\u001b[1;33m,\u001b[0m \u001b[0mhow\u001b[0m\u001b[1;33m=\u001b[0m\u001b[1;34m'outer'\u001b[0m\u001b[1;33m)\u001b[0m\u001b[1;33m\u001b[0m\u001b[1;33m\u001b[0m\u001b[0m\n\u001b[0m",
      "\u001b[1;31mNameError\u001b[0m: name 'df_2021' is not defined"
     ]
    }
   ],
   "source": [
    "df_combined = pd.merge(df_2021, df_2022, on=['id', 'redcap_event_name'], how='outer')"
   ]
  },
  {
   "cell_type": "code",
   "execution_count": null,
   "id": "9b97fa38-5c86-4b9a-b915-06fd5d99ce1d",
   "metadata": {},
   "outputs": [],
   "source": [
    "# are there duplicates\n",
    "df_combined = df_combined.drop_duplicates(subset=['id', 'redcap_event_name'])"
   ]
  },
  {
   "cell_type": "code",
   "execution_count": null,
   "id": "7ec25923-e89b-4556-b48e-4e064c5fd3a8",
   "metadata": {},
   "outputs": [],
   "source": []
  },
  {
   "cell_type": "code",
   "execution_count": null,
   "id": "2a7047de-6daa-45e1-811c-8ab44afc6507",
   "metadata": {},
   "outputs": [],
   "source": [
    "def resolve_contradiction(row):\n",
    "    if pd.isnull(row['quiz_question_1_x']):\n",
    "        return row['quiz_question_1_y']\n",
    "    elif pd.isnull(row['quiz_question_1_y']):\n",
    "        return row['quiz_question_1_x']\n",
    "    else:\n",
    "        return max(row['quiz_question_1_x'], row['quiz_question_1_y'])\n",
    "\n",
    "df_combined['quiz_question_1'] = df_combined.apply(resolve_contradiction, axis=1)"
   ]
  },
  {
   "cell_type": "code",
   "execution_count": 5,
   "id": "fbe60036-724e-4e4b-bd01-72266f13c7ec",
   "metadata": {},
   "outputs": [],
   "source": [
    "def resolve_contradiction(row, col_x, col_y):\n",
    "    \"\"\"\n",
    "    The function takes a row of a DataFrame and two column names as input,\n",
    "    and returns the value based on a rule of resolving contradictions.\n",
    "    If the value in col_x is missing, it returns the value in col_y.\n",
    "    If the value in col_y is missing, it returns the value in col_x.\n",
    "    If both values are not missing, it returns the maximum value between the two.\n",
    "\n",
    "    Parameters:\n",
    "    row : pandas.Series\n",
    "        A row of a DataFrame\n",
    "    col_x : str\n",
    "        The name of the column in dataframe_x\n",
    "    col_y : str\n",
    "        The name of the column in dataframe_y\n",
    "\n",
    "    Returns:\n",
    "    int or float or any other value\n",
    "        The value based on the rule of resolving contradictions\n",
    "    \"\"\"\n",
    "    if pd.isnull(row[col_x]):\n",
    "        return row[col_y]\n",
    "    elif pd.isnull(row[col_y]):\n",
    "        return row[col_x]\n",
    "    else:\n",
    "        return max(row[col_x], row[col_y])"
   ]
  },
  {
   "cell_type": "code",
   "execution_count": null,
   "id": "3c606527-296b-4d00-a814-708cf1bcef75",
   "metadata": {},
   "outputs": [],
   "source": [
    "# Select a subset of columns\n",
    "cols_subset = ['quiz_question_1', 'quiz_question_2', 'quiz_question_3']\n",
    "\n",
    "# Get the common columns between the subset and the two DataFrames\n",
    "common_cols = list(set(cols_subset).intersection(cols_2021).intersection(cols_2022))\n",
    "\n",
    "# Iterate through the common columns\n",
    "for col in common_cols:\n",
    "    df_combined[col] = df_combined.apply(resolve_contradiction, axis=1, args=(col+'_x', col+'_y'))"
   ]
  },
  {
   "cell_type": "code",
   "execution_count": 6,
   "id": "fa74ed21-5f49-4e01-9832-5d427a5c27d1",
   "metadata": {},
   "outputs": [],
   "source": [
    "def subset1(df_combined):\n",
    "    cols_subset = ['quiz_question_1', 'quiz_question_2', 'quiz_question_3']\n",
    "    for col in cols_subset:\n",
    "        df_combined[col] = df_combined.apply(resolve_contradiction_1, axis=1, args=(col+'_x', col+'_y'))\n",
    "\n",
    "def subset2(df_combined):\n",
    "    cols_subset = ['age', 'gender', 'height', 'weight']\n",
    "    for col in cols_subset:\n",
    "        df_combined[col] = df_combined.apply(resolve_contradiction_2, axis=1, args=(col+'_x', col+'_y'))\n",
    "\n",
    "def subset3(df_combined):\n",
    "    cols_subset = ['symptoms', 'diagnosis', 'treatment']\n",
    "    for col in cols_subset:\n",
    "        df_combined[col] = df_combined.apply(resolve_contradiction_3, axis=1, args=(col+'_x', col+'_y'))"
   ]
  },
  {
   "cell_type": "code",
   "execution_count": 7,
   "id": "295a804e-673b-4897-b3c9-9b15a68ee63f",
   "metadata": {},
   "outputs": [
    {
     "ename": "NameError",
     "evalue": "name 'df_combined' is not defined",
     "output_type": "error",
     "traceback": [
      "\u001b[1;31m---------------------------------------------------------------------------\u001b[0m",
      "\u001b[1;31mNameError\u001b[0m                                 Traceback (most recent call last)",
      "\u001b[1;32m~\\AppData\\Local\\Temp/ipykernel_14308/697823847.py\u001b[0m in \u001b[0;36m<module>\u001b[1;34m\u001b[0m\n\u001b[1;32m----> 1\u001b[1;33m \u001b[0msubset1\u001b[0m\u001b[1;33m(\u001b[0m\u001b[0mdf_combined\u001b[0m\u001b[1;33m)\u001b[0m\u001b[1;33m\u001b[0m\u001b[1;33m\u001b[0m\u001b[0m\n\u001b[0m\u001b[0;32m      2\u001b[0m \u001b[0msubset2\u001b[0m\u001b[1;33m(\u001b[0m\u001b[0mdf_combined\u001b[0m\u001b[1;33m)\u001b[0m\u001b[1;33m\u001b[0m\u001b[1;33m\u001b[0m\u001b[0m\n\u001b[0;32m      3\u001b[0m \u001b[0msubset3\u001b[0m\u001b[1;33m(\u001b[0m\u001b[0mdf_combined\u001b[0m\u001b[1;33m)\u001b[0m\u001b[1;33m\u001b[0m\u001b[1;33m\u001b[0m\u001b[0m\n",
      "\u001b[1;31mNameError\u001b[0m: name 'df_combined' is not defined"
     ]
    }
   ],
   "source": [
    "subset1(df_combined)\n",
    "subset2(df_combined)\n",
    "subset3(df_combined)"
   ]
  },
  {
   "cell_type": "code",
   "execution_count": null,
   "id": "a1d2c438-7519-4d98-bcb2-ad436e85492b",
   "metadata": {},
   "outputs": [],
   "source": []
  },
  {
   "cell_type": "code",
   "execution_count": null,
   "id": "8d789ed3-aef1-48ba-b9a3-040ce22db181",
   "metadata": {},
   "outputs": [],
   "source": []
  },
  {
   "cell_type": "code",
   "execution_count": 8,
   "id": "e4c16dad-e79a-41f2-b703-c966c3140e50",
   "metadata": {},
   "outputs": [
    {
     "ename": "NameError",
     "evalue": "name 'df_combined' is not defined",
     "output_type": "error",
     "traceback": [
      "\u001b[1;31m---------------------------------------------------------------------------\u001b[0m",
      "\u001b[1;31mNameError\u001b[0m                                 Traceback (most recent call last)",
      "\u001b[1;32m~\\AppData\\Local\\Temp/ipykernel_14308/3732239740.py\u001b[0m in \u001b[0;36m<module>\u001b[1;34m\u001b[0m\n\u001b[1;32m----> 1\u001b[1;33m \u001b[0mdf_combined\u001b[0m\u001b[1;33m.\u001b[0m\u001b[0mdrop\u001b[0m\u001b[1;33m(\u001b[0m\u001b[0mcolumns\u001b[0m \u001b[1;33m=\u001b[0m \u001b[1;33m[\u001b[0m\u001b[1;34m'quiz_question_1_x'\u001b[0m\u001b[1;33m,\u001b[0m\u001b[1;34m'quiz_question_1_y'\u001b[0m\u001b[1;33m]\u001b[0m\u001b[1;33m,\u001b[0m \u001b[0minplace\u001b[0m\u001b[1;33m=\u001b[0m\u001b[1;32mTrue\u001b[0m\u001b[1;33m)\u001b[0m\u001b[1;33m\u001b[0m\u001b[1;33m\u001b[0m\u001b[0m\n\u001b[0m",
      "\u001b[1;31mNameError\u001b[0m: name 'df_combined' is not defined"
     ]
    }
   ],
   "source": [
    "df_combined.drop(columns = ['quiz_question_1_x','quiz_question_1_y'], inplace=True)"
   ]
  },
  {
   "cell_type": "code",
   "execution_count": null,
   "id": "2d495a50-2947-4d6f-a585-8455aca526cb",
   "metadata": {},
   "outputs": [],
   "source": []
  }
 ],
 "metadata": {
  "kernelspec": {
   "display_name": "Python 3 (ipykernel)",
   "language": "python",
   "name": "python3"
  },
  "language_info": {
   "codemirror_mode": {
    "name": "ipython",
    "version": 3
   },
   "file_extension": ".py",
   "mimetype": "text/x-python",
   "name": "python",
   "nbconvert_exporter": "python",
   "pygments_lexer": "ipython3",
   "version": "3.9.7"
  }
 },
 "nbformat": 4,
 "nbformat_minor": 5
}
