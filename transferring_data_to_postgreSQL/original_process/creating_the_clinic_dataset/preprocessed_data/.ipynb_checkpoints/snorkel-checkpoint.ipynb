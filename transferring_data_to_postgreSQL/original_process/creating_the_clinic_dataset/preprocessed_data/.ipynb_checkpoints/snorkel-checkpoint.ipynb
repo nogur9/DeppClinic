{
 "cells": [
  {
   "cell_type": "code",
   "execution_count": 1,
   "id": "536067d0",
   "metadata": {},
   "outputs": [
    {
     "name": "stderr",
     "output_type": "stream",
     "text": [
      "C:\\Users\\nogur\\anaconda3\\envs\\snorkel\\lib\\site-packages\\tqdm\\auto.py:21: TqdmWarning: IProgress not found. Please update jupyter and ipywidgets. See https://ipywidgets.readthedocs.io/en/stable/user_install.html\n",
      "  from .autonotebook import tqdm as notebook_tqdm\n"
     ]
    }
   ],
   "source": [
    "import pandas as pd\n",
    "import snorkel\n",
    "import spacy\n",
    "from snorkel.labeling import labeling_function\n",
    "from snorkel.labeling.model import LabelModel\n",
    "from snorkel.labeling import PandasLFApplier\n",
    "\n",
    "nlp = spacy.load(\"he_ner_news_trf\")"
   ]
  },
  {
   "cell_type": "code",
   "execution_count": 2,
   "id": "ec4b8353",
   "metadata": {},
   "outputs": [
    {
     "name": "stderr",
     "output_type": "stream",
     "text": [
      "C:\\Users\\nogur\\AppData\\Local\\Temp\\ipykernel_29160\\2363309583.py:1: DtypeWarning: Columns (0,3,44,50,51,73,84,93,309,349,437,442,443,450,457,475,479,484,486,491,493,502,503,538,540,549,568,728,733,734,740,745,750,755,759,762,767,769,771,774,776,785,786,805,821,823,832,851,860,894,904,905,906,907,908,909,910,911,912,913,914,916,953,964,973,974,1011,1016,1017,1023,1028,1033,1038,1039,1041,1042,1044,1045,1059,1068,1083,1089,1104,1106,1109,1110,1114,1115,1116,1117,1119,1120,1121,1124,1125,1126,1142,1147,1163,1165,1193,1195,1197,1199,1201,1204,1214,1216,1218,1224,1226,1230,1237,1238,1251,1253,1256,1258,1270,1271,1273,1274,1275,1281,1282,1283,1284,1394,1396,1397,1398,1413,1415,1417,1420,1436,1438,1439,1440,1446,1447,1448,1449,1502,1564,1570,1571,1574,1575,1576,1577,1582,1586,1589,1594,1610,1613,1624) have mixed types. Specify dtype option on import or set low_memory=False.\n",
      "  df = pd.read_csv(\"merged_2021_and_2022.csv\")\n"
     ]
    }
   ],
   "source": [
    "df = pd.read_csv(\"merged_2021_and_2022.csv\")"
   ]
  },
  {
   "cell_type": "markdown",
   "id": "e45b5a96",
   "metadata": {},
   "source": [
    "## Labels"
   ]
  },
  {
   "cell_type": "code",
   "execution_count": 3,
   "id": "cbbfcc09",
   "metadata": {},
   "outputs": [],
   "source": [
    "RISK = 1\n",
    "NON_RISK = -1\n",
    "ABSTAIN =  0"
   ]
  },
  {
   "cell_type": "code",
   "execution_count": 4,
   "id": "00369d70",
   "metadata": {},
   "outputs": [],
   "source": [
    "#df['chameleon_notes_stu'].unique()"
   ]
  },
  {
   "cell_type": "code",
   "execution_count": 5,
   "id": "40c01908",
   "metadata": {},
   "outputs": [],
   "source": [
    "@labeling_function()\n",
    "def lf_keyword_my_0(x):\n",
    "    \"\"\"Many spam comments talk about 'my channel', 'my video', etc.\"\"\"\n",
    "    \n",
    "    if \"אובדנות\" in x.chameleon_notes_stu:\n",
    "        return RISK\n",
    "    elif \"אין אובדנות\" in x.chameleon_notes_stu:\n",
    "        return NON_RISK\n",
    "    else:\n",
    "        return ABSTAIN\n",
    "\n",
    "@labeling_function()\n",
    "def lf_keyword_my_1(x):\n",
    "    \"\"\"Many spam comments talk about 'my channel', 'my video', etc.\"\"\"\n",
    "    if \"ניסיון אובדני\" in x.chameleon_notes_stu:\n",
    "        return RISK\n",
    "    elif \"ללא כוונה אובדנית\" in x.chameleon_notes_stu:\n",
    "        return NON_RISK\n",
    "    else:\n",
    "        return ABSTAIN\n"
   ]
  },
  {
   "cell_type": "markdown",
   "id": "3682d72b",
   "metadata": {},
   "source": [
    "## Chat GPT functions #1"
   ]
  },
  {
   "cell_type": "code",
   "execution_count": 6,
   "id": "16ecd88f",
   "metadata": {},
   "outputs": [],
   "source": [
    "\n",
    "# Labeling function based on keyword matching for suicidal ideation\n",
    "@labeling_function()\n",
    "def lf_keyword_suicidal_ideation(x):\n",
    "    text = x.chameleon_notes_stu\n",
    "    keywords = [\"התאבדות\", \"מחשבות אובדניות\", \"עצבני\", \"לא רואה סיבה לחיות\"]\n",
    "    for keyword in keywords:\n",
    "        if keyword in text:\n",
    "            return RISK\n",
    "    return ABSTAIN  # Abstain if none of the keywords are present\n",
    "\n",
    "# Labeling function based on sentiment analysis\n",
    "        # @labeling_function()\n",
    "        # def lf_negative_sentiment(text):\n",
    "        #     # Use a sentiment analysis tool to get sentiment score (you'll need to implement this)\n",
    "        #     sentiment_score = analyze_sentiment(text)\n",
    "        #     if sentiment_score < -0.5:  # Adjust the threshold as needed\n",
    "        #         return RISK\n",
    "        #     return None  # Abstain if sentiment is not strongly negative\n",
    "\n",
    "# Labeling function based on clinician's assessment\n",
    "@labeling_function()\n",
    "def lf_clinician_assessment(x):\n",
    "    text = x.chameleon_notes_stu\n",
    "    if \"הערת מטפל\" in text and \"אובדניות\" in text:\n",
    "        return RISK\n",
    "    return ABSTAIN  # Abstain if no clinician assessment is found\n",
    "\n"
   ]
  },
  {
   "cell_type": "markdown",
   "id": "e8ee3dc2",
   "metadata": {},
   "source": [
    "## Chat GPT functions #2"
   ]
  },
  {
   "cell_type": "code",
   "execution_count": 7,
   "id": "7db68d5d",
   "metadata": {},
   "outputs": [],
   "source": [
    "# Labeling function based on hospitalization\n",
    "@labeling_function()\n",
    "def lf_hospitalization(x):\n",
    "    text = x.chameleon_notes_stu\n",
    "    if \"אושפז\" in text and \"התעלפויות נשנות\" in text:\n",
    "        return RISK\n",
    "    return ABSTAIN\n",
    "\n",
    "# Labeling function based on lack of follow-up information\n",
    "#@labeling_function()\n",
    "        # def lf_lack_of_follow_up(text):\n",
    "        #     if \"אין מעקבים\" in text:\n",
    "        #         return RISK  # Lack of follow-up can indicate potential risk\n",
    "        #     return None\n",
    "\n",
    "# Labeling function for requesting hospitalization\n",
    "@labeling_function()\n",
    "def lf_request_hospitalization(x):\n",
    "    text = x.chameleon_notes_stu\n",
    "    if \"רוצה להתאשפז\" in text:\n",
    "        return RISK  # An explicit request for hospitalization can be concerning\n",
    "    return ABSTAIN\n",
    "\n",
    "# Labeling function for IPT treatment\n",
    "        # @labeling_function()\n",
    "        # def lf_ipt_treatment(text):\n",
    "        #     if \"טיפול ipt\" in text:\n",
    "        #         return RISK  # Mention of specific treatment may indicate ongoing issues\n",
    "        #     return None\n",
    "\n",
    "# Labeling function based on lack of information\n",
    "@labeling_function()\n",
    "def lf_lack_of_information(x):\n",
    "    text = x.chameleon_notes_stu\n",
    "    if \"אין מספיק פרטים\" in text:\n",
    "        return ABSTAIN  # Lack of information may make it difficult to label\n",
    "    return ABSTAIN\n",
    "\n",
    "# Labeling function based on self-harm mention\n",
    "@labeling_function()\n",
    "def lf_self_harm_mention(x):\n",
    "    text = x.chameleon_notes_stu\n",
    "    if \"פגיעה עצמית\" in text or \"חתכה את עצמה\" in text:\n",
    "        return RISK  # Mention of self-harm is a strong indicator\n",
    "    return ABSTAIN\n",
    "\n",
    "# Example labeling functions for \"Not dangerous\" and \"(not sure - unlabeled data)\" classes can also be defined here\n"
   ]
  },
  {
   "cell_type": "markdown",
   "id": "a75911b9",
   "metadata": {},
   "source": [
    "## Chat GPT functions #3"
   ]
  },
  {
   "cell_type": "code",
   "execution_count": 8,
   "id": "01b58de1",
   "metadata": {},
   "outputs": [],
   "source": [
    "# Labeling function based on family history of bipolar disorder\n",
    "        # @labeling_function()\n",
    "        # def lf_family_history_bipolar(text):\n",
    "        #     if \"תחלואה ביפולרית\" in text:\n",
    "        #         return RISK  # Family history of bipolar disorder may be relevant\n",
    "        #     return None\n",
    "\n",
    "# Labeling function based on fluctuating mood\n",
    "@labeling_function()\n",
    "def lf_fluctuating_mood(x):\n",
    "    text = x.chameleon_notes_stu\n",
    "    if \"יותר מדוכאת\" in text:\n",
    "        return RISK  # Mention of fluctuating mood can be concerning\n",
    "    \n",
    "    if \"מרבה להיות במיטה\" in text:\n",
    "        return RISK  # Mention of fluctuating mood can be concerning\n",
    "    return ABSTAIN\n",
    "\n",
    "# Labeling function for lack of attendance\n",
    "        # @labeling_function()\n",
    "        # def lf_lack_of_attendance(text):\n",
    "        #     if \"לא ברור אם היא הגיעה לפגישה\" in text:\n",
    "        #         return RISK  # Uncertainty about attendance can indicate potential issues\n",
    "        #     return None\n",
    "\n",
    "# Labeling function based on medication and treatment history\n",
    "@labeling_function()\n",
    "def lf_medication_history(x):\n",
    "    text = x.chameleon_notes_stu\n",
    "    if \"הפסיקה על דעת עצמה את הטיפול\" in text:\n",
    "        return RISK  # Stopping medication may be a concern\n",
    "    if \"מחשבות אובדניות פסיביות\" in text:\n",
    "        return RISK  # Mention of passive suicidal thoughts can be concerning\n",
    "    if \"אמירות אובדניות\" in text:\n",
    "        return RISK  # Mention of passive suicidal thoughts can be concerning\n",
    "    return ABSTAIN\n",
    "\n",
    "\n",
    "# Labeling function based on dangerous behavior\n",
    "@labeling_function()\n",
    "def lf_dangerous_behavior(x):\n",
    "    text = x.chameleon_notes_stu\n",
    "    if \"התנהגות מסוכנת\" in text:\n",
    "        return RISK  # Mention of dangerous behavior is alarming\n",
    "    if \"נתלה מהחלון\" in text:\n",
    "        return RISK  # Mention of dangerous behavior is alarming\n",
    "\n",
    "    return ABSTAIN\n",
    "\n",
    "# Labeling function based on medication refusal\n",
    "@labeling_function()\n",
    "def lf_medication_refusal(x):\n",
    "    text = x.chameleon_notes_stu\n",
    "    if \"מסרבת לקחת טיפול תרופתי\" in text:\n",
    "        return RISK  # Refusal of medication can be a concern\n",
    "    if \"מסרב לקחת טיפול תרופתי\" in text:\n",
    "        return RISK  # Refusal of medication can be a concern\n",
    "    return ABSTAIN\n",
    "\n",
    "# Example labeling functions for \"Not dangerous\" and \"(not sure - unlabeled data)\" classes can also be defined here\n"
   ]
  },
  {
   "cell_type": "markdown",
   "id": "d07da3d5",
   "metadata": {},
   "source": [
    "## Chat GPT functions #4"
   ]
  },
  {
   "cell_type": "code",
   "execution_count": 9,
   "id": "ec0b750b",
   "metadata": {},
   "outputs": [],
   "source": [
    "\n",
    "@labeling_function()\n",
    "def contains_keywords_1(x):\n",
    "    text = x.chameleon_notes_stu\n",
    "    # Check if the text contains specific keywords indicating refusal\n",
    "    keywords = [\"סרב\", \"לא מעוניינ\", \"לא רוצ\", \"הפסיק\", \"נשר\"]\n",
    "    if any(keyword in text for keyword in keywords):\n",
    "        return ABSTAIN  # Refusal or discontinuation\n",
    "    return ABSTAIN  # Abstain\n",
    "\n",
    "@labeling_function()\n",
    "def contains_keywords_2(x):\n",
    "    text = x.chameleon_notes_stu\n",
    "    # Check for keywords indicating hospitalization or self-harm\n",
    "    keywords = [\"אושפזה\", \"פגע\", \"אובדנ\", \"מתאבד\"]\n",
    "    if any(keyword in text for keyword in keywords):\n",
    "        return RISK  # Hospitalization or self-harm\n",
    "    return ABSTAIN  # Abstain"
   ]
  },
  {
   "cell_type": "markdown",
   "id": "fe6786ca",
   "metadata": {},
   "source": [
    "## Chat GPT functions #5"
   ]
  },
  {
   "cell_type": "code",
   "execution_count": 10,
   "id": "51e3bfb8",
   "metadata": {},
   "outputs": [],
   "source": [
    "@labeling_function()\n",
    "def text_length(x):\n",
    "    text = x.chameleon_notes_stu\n",
    "    # Label longer texts as requiring more attention\n",
    "    if len(text) > 50:\n",
    "        return RISK  # Requires more attention\n",
    "    return ABSTAIN  # Abstain\n"
   ]
  },
  {
   "cell_type": "markdown",
   "id": "42c75b4a",
   "metadata": {},
   "source": [
    "## Chat GPT functions #6"
   ]
  },
  {
   "cell_type": "code",
   "execution_count": 11,
   "id": "52184e8e",
   "metadata": {},
   "outputs": [],
   "source": [
    "@labeling_function()\n",
    "def positive_sentiment(x):\n",
    "    text = x.chameleon_notes_stu\n",
    "    # Check if the text contains positive sentiment phrases\n",
    "    positive_phrases = [\"שיפור\", \"משתפת\", \"התחיל\", \"הייתה טובה\"]\n",
    "    if any(phrase in text for phrase in positive_phrases):\n",
    "        return NON_RISK  # Positive sentiment\n",
    "    return ABSTAIN  # Abstain\n"
   ]
  },
  {
   "cell_type": "code",
   "execution_count": null,
   "id": "0d8c58b9",
   "metadata": {},
   "outputs": [],
   "source": []
  },
  {
   "cell_type": "code",
   "execution_count": null,
   "id": "2e127e58",
   "metadata": {},
   "outputs": [],
   "source": []
  },
  {
   "cell_type": "code",
   "execution_count": 12,
   "id": "048344d6",
   "metadata": {},
   "outputs": [],
   "source": [
    "# Define the set of labeling functions (LFs)\n",
    "df['chameleon_notes_stu'] = df['chameleon_notes_stu'].fillna('')\n",
    "lfs = [lf_keyword_my_0,\n",
    "lf_keyword_my_1,\n",
    "lf_keyword_suicidal_ideation,\n",
    "lf_clinician_assessment,\n",
    "lf_hospitalization,\n",
    "lf_request_hospitalization,\n",
    "lf_lack_of_information,\n",
    "lf_self_harm_mention,\n",
    "lf_fluctuating_mood,\n",
    "lf_medication_history,\n",
    "lf_dangerous_behavior,\n",
    "lf_medication_refusal,\n",
    "contains_keywords_1,\n",
    "contains_keywords_2,\n",
    "text_length,\n",
    "positive_sentiment]\n"
   ]
  },
  {
   "cell_type": "code",
   "execution_count": 13,
   "id": "2959125d",
   "metadata": {},
   "outputs": [
    {
     "name": "stderr",
     "output_type": "stream",
     "text": [
      "100%|████████████████████████████████████████████████████████████████████████████| 2770/2770 [00:00<00:00, 3977.58it/s]\n"
     ]
    }
   ],
   "source": [
    "\n",
    "# Apply the LFs to the unlabeled training data\n",
    "applier = PandasLFApplier(lfs)\n",
    "L_train = applier.apply(df)\n"
   ]
  },
  {
   "cell_type": "code",
   "execution_count": 14,
   "id": "7dadcbea",
   "metadata": {},
   "outputs": [
    {
     "data": {
      "text/plain": [
       "(2770, 1625)"
      ]
     },
     "execution_count": 14,
     "metadata": {},
     "output_type": "execute_result"
    }
   ],
   "source": [
    "df.shape"
   ]
  },
  {
   "cell_type": "code",
   "execution_count": 22,
   "id": "f50bec3a",
   "metadata": {},
   "outputs": [],
   "source": [
    "def labels(x):\n",
    "    if x.any() < 0:\n",
    "        return -1\n",
    "    elif x.sum() > 0:\n",
    "        return 1\n",
    "    else:\n",
    "        return 0"
   ]
  },
  {
   "cell_type": "code",
   "execution_count": 28,
   "id": "a0243471",
   "metadata": {},
   "outputs": [
    {
     "data": {
      "text/plain": [
       "137"
      ]
     },
     "execution_count": 28,
     "metadata": {},
     "output_type": "execute_result"
    }
   ],
   "source": [
    "(L_train > 0).any(axis=1).sum()"
   ]
  },
  {
   "cell_type": "code",
   "execution_count": 27,
   "id": "4a65d55a",
   "metadata": {},
   "outputs": [
    {
     "data": {
      "text/plain": [
       "19"
      ]
     },
     "execution_count": 27,
     "metadata": {},
     "output_type": "execute_result"
    }
   ],
   "source": [
    "(L_train < 0).any(axis=1).sum()"
   ]
  },
  {
   "cell_type": "code",
   "execution_count": 33,
   "id": "da579ba8",
   "metadata": {},
   "outputs": [
    {
     "data": {
      "text/plain": [
       "array([0, 0, 0, ..., 0, 0, 0])"
      ]
     },
     "execution_count": 33,
     "metadata": {},
     "output_type": "execute_result"
    }
   ],
   "source": [
    "L_train.sum(axis=1)"
   ]
  },
  {
   "cell_type": "code",
   "execution_count": 34,
   "id": "768ed525",
   "metadata": {},
   "outputs": [
    {
     "ename": "AttributeError",
     "evalue": "'int' object has no attribute 'any'",
     "output_type": "error",
     "traceback": [
      "\u001b[1;31m---------------------------------------------------------------------------\u001b[0m",
      "\u001b[1;31mAttributeError\u001b[0m                            Traceback (most recent call last)",
      "Cell \u001b[1;32mIn[34], line 1\u001b[0m\n\u001b[1;32m----> 1\u001b[0m \u001b[43mdf\u001b[49m\u001b[43m[\u001b[49m\u001b[38;5;124;43m'\u001b[39;49m\u001b[38;5;124;43mlabel\u001b[39;49m\u001b[38;5;124;43m'\u001b[39;49m\u001b[43m]\u001b[49m\u001b[38;5;241;43m.\u001b[39;49m\u001b[43mapply\u001b[49m\u001b[43m(\u001b[49m\u001b[43mlabels\u001b[49m\u001b[43m)\u001b[49m\n",
      "File \u001b[1;32m~\\anaconda3\\envs\\snorkel\\lib\\site-packages\\pandas\\core\\series.py:4765\u001b[0m, in \u001b[0;36mSeries.apply\u001b[1;34m(self, func, convert_dtype, args, by_row, **kwargs)\u001b[0m\n\u001b[0;32m   4625\u001b[0m \u001b[38;5;28;01mdef\u001b[39;00m \u001b[38;5;21mapply\u001b[39m(\n\u001b[0;32m   4626\u001b[0m     \u001b[38;5;28mself\u001b[39m,\n\u001b[0;32m   4627\u001b[0m     func: AggFuncType,\n\u001b[1;32m   (...)\u001b[0m\n\u001b[0;32m   4632\u001b[0m     \u001b[38;5;241m*\u001b[39m\u001b[38;5;241m*\u001b[39mkwargs,\n\u001b[0;32m   4633\u001b[0m ) \u001b[38;5;241m-\u001b[39m\u001b[38;5;241m>\u001b[39m DataFrame \u001b[38;5;241m|\u001b[39m Series:\n\u001b[0;32m   4634\u001b[0m \u001b[38;5;250m    \u001b[39m\u001b[38;5;124;03m\"\"\"\u001b[39;00m\n\u001b[0;32m   4635\u001b[0m \u001b[38;5;124;03m    Invoke function on values of Series.\u001b[39;00m\n\u001b[0;32m   4636\u001b[0m \n\u001b[1;32m   (...)\u001b[0m\n\u001b[0;32m   4756\u001b[0m \u001b[38;5;124;03m    dtype: float64\u001b[39;00m\n\u001b[0;32m   4757\u001b[0m \u001b[38;5;124;03m    \"\"\"\u001b[39;00m\n\u001b[0;32m   4758\u001b[0m     \u001b[38;5;28;01mreturn\u001b[39;00m \u001b[43mSeriesApply\u001b[49m\u001b[43m(\u001b[49m\n\u001b[0;32m   4759\u001b[0m \u001b[43m        \u001b[49m\u001b[38;5;28;43mself\u001b[39;49m\u001b[43m,\u001b[49m\n\u001b[0;32m   4760\u001b[0m \u001b[43m        \u001b[49m\u001b[43mfunc\u001b[49m\u001b[43m,\u001b[49m\n\u001b[0;32m   4761\u001b[0m \u001b[43m        \u001b[49m\u001b[43mconvert_dtype\u001b[49m\u001b[38;5;241;43m=\u001b[39;49m\u001b[43mconvert_dtype\u001b[49m\u001b[43m,\u001b[49m\n\u001b[0;32m   4762\u001b[0m \u001b[43m        \u001b[49m\u001b[43mby_row\u001b[49m\u001b[38;5;241;43m=\u001b[39;49m\u001b[43mby_row\u001b[49m\u001b[43m,\u001b[49m\n\u001b[0;32m   4763\u001b[0m \u001b[43m        \u001b[49m\u001b[43margs\u001b[49m\u001b[38;5;241;43m=\u001b[39;49m\u001b[43margs\u001b[49m\u001b[43m,\u001b[49m\n\u001b[0;32m   4764\u001b[0m \u001b[43m        \u001b[49m\u001b[43mkwargs\u001b[49m\u001b[38;5;241;43m=\u001b[39;49m\u001b[43mkwargs\u001b[49m\u001b[43m,\u001b[49m\n\u001b[1;32m-> 4765\u001b[0m \u001b[43m    \u001b[49m\u001b[43m)\u001b[49m\u001b[38;5;241;43m.\u001b[39;49m\u001b[43mapply\u001b[49m\u001b[43m(\u001b[49m\u001b[43m)\u001b[49m\n",
      "File \u001b[1;32m~\\anaconda3\\envs\\snorkel\\lib\\site-packages\\pandas\\core\\apply.py:1201\u001b[0m, in \u001b[0;36mSeriesApply.apply\u001b[1;34m(self)\u001b[0m\n\u001b[0;32m   1198\u001b[0m     \u001b[38;5;28;01mreturn\u001b[39;00m \u001b[38;5;28mself\u001b[39m\u001b[38;5;241m.\u001b[39mapply_compat()\n\u001b[0;32m   1200\u001b[0m \u001b[38;5;66;03m# self.func is Callable\u001b[39;00m\n\u001b[1;32m-> 1201\u001b[0m \u001b[38;5;28;01mreturn\u001b[39;00m \u001b[38;5;28;43mself\u001b[39;49m\u001b[38;5;241;43m.\u001b[39;49m\u001b[43mapply_standard\u001b[49m\u001b[43m(\u001b[49m\u001b[43m)\u001b[49m\n",
      "File \u001b[1;32m~\\anaconda3\\envs\\snorkel\\lib\\site-packages\\pandas\\core\\apply.py:1281\u001b[0m, in \u001b[0;36mSeriesApply.apply_standard\u001b[1;34m(self)\u001b[0m\n\u001b[0;32m   1275\u001b[0m \u001b[38;5;66;03m# row-wise access\u001b[39;00m\n\u001b[0;32m   1276\u001b[0m \u001b[38;5;66;03m# apply doesn't have a `na_action` keyword and for backward compat reasons\u001b[39;00m\n\u001b[0;32m   1277\u001b[0m \u001b[38;5;66;03m# we need to give `na_action=\"ignore\"` for categorical data.\u001b[39;00m\n\u001b[0;32m   1278\u001b[0m \u001b[38;5;66;03m# TODO: remove the `na_action=\"ignore\"` when that default has been changed in\u001b[39;00m\n\u001b[0;32m   1279\u001b[0m \u001b[38;5;66;03m#  Categorical (GH51645).\u001b[39;00m\n\u001b[0;32m   1280\u001b[0m action \u001b[38;5;241m=\u001b[39m \u001b[38;5;124m\"\u001b[39m\u001b[38;5;124mignore\u001b[39m\u001b[38;5;124m\"\u001b[39m \u001b[38;5;28;01mif\u001b[39;00m \u001b[38;5;28misinstance\u001b[39m(obj\u001b[38;5;241m.\u001b[39mdtype, CategoricalDtype) \u001b[38;5;28;01melse\u001b[39;00m \u001b[38;5;28;01mNone\u001b[39;00m\n\u001b[1;32m-> 1281\u001b[0m mapped \u001b[38;5;241m=\u001b[39m \u001b[43mobj\u001b[49m\u001b[38;5;241;43m.\u001b[39;49m\u001b[43m_map_values\u001b[49m\u001b[43m(\u001b[49m\n\u001b[0;32m   1282\u001b[0m \u001b[43m    \u001b[49m\u001b[43mmapper\u001b[49m\u001b[38;5;241;43m=\u001b[39;49m\u001b[43mcurried\u001b[49m\u001b[43m,\u001b[49m\u001b[43m \u001b[49m\u001b[43mna_action\u001b[49m\u001b[38;5;241;43m=\u001b[39;49m\u001b[43maction\u001b[49m\u001b[43m,\u001b[49m\u001b[43m \u001b[49m\u001b[43mconvert\u001b[49m\u001b[38;5;241;43m=\u001b[39;49m\u001b[38;5;28;43mself\u001b[39;49m\u001b[38;5;241;43m.\u001b[39;49m\u001b[43mconvert_dtype\u001b[49m\n\u001b[0;32m   1283\u001b[0m \u001b[43m\u001b[49m\u001b[43m)\u001b[49m\n\u001b[0;32m   1285\u001b[0m \u001b[38;5;28;01mif\u001b[39;00m \u001b[38;5;28mlen\u001b[39m(mapped) \u001b[38;5;129;01mand\u001b[39;00m \u001b[38;5;28misinstance\u001b[39m(mapped[\u001b[38;5;241m0\u001b[39m], ABCSeries):\n\u001b[0;32m   1286\u001b[0m     warnings\u001b[38;5;241m.\u001b[39mwarn(\n\u001b[0;32m   1287\u001b[0m         \u001b[38;5;124m\"\u001b[39m\u001b[38;5;124mReturning a DataFrame from Series.apply when the supplied function \u001b[39m\u001b[38;5;124m\"\u001b[39m\n\u001b[0;32m   1288\u001b[0m         \u001b[38;5;124m\"\u001b[39m\u001b[38;5;124mreturns a Series is deprecated and will be removed in a future \u001b[39m\u001b[38;5;124m\"\u001b[39m\n\u001b[1;32m   (...)\u001b[0m\n\u001b[0;32m   1291\u001b[0m         stacklevel\u001b[38;5;241m=\u001b[39mfind_stack_level(),\n\u001b[0;32m   1292\u001b[0m     )  \u001b[38;5;66;03m# GH52116\u001b[39;00m\n",
      "File \u001b[1;32m~\\anaconda3\\envs\\snorkel\\lib\\site-packages\\pandas\\core\\base.py:921\u001b[0m, in \u001b[0;36mIndexOpsMixin._map_values\u001b[1;34m(self, mapper, na_action, convert)\u001b[0m\n\u001b[0;32m    918\u001b[0m \u001b[38;5;28;01mif\u001b[39;00m \u001b[38;5;28misinstance\u001b[39m(arr, ExtensionArray):\n\u001b[0;32m    919\u001b[0m     \u001b[38;5;28;01mreturn\u001b[39;00m arr\u001b[38;5;241m.\u001b[39mmap(mapper, na_action\u001b[38;5;241m=\u001b[39mna_action)\n\u001b[1;32m--> 921\u001b[0m \u001b[38;5;28;01mreturn\u001b[39;00m \u001b[43malgorithms\u001b[49m\u001b[38;5;241;43m.\u001b[39;49m\u001b[43mmap_array\u001b[49m\u001b[43m(\u001b[49m\u001b[43marr\u001b[49m\u001b[43m,\u001b[49m\u001b[43m \u001b[49m\u001b[43mmapper\u001b[49m\u001b[43m,\u001b[49m\u001b[43m \u001b[49m\u001b[43mna_action\u001b[49m\u001b[38;5;241;43m=\u001b[39;49m\u001b[43mna_action\u001b[49m\u001b[43m,\u001b[49m\u001b[43m \u001b[49m\u001b[43mconvert\u001b[49m\u001b[38;5;241;43m=\u001b[39;49m\u001b[43mconvert\u001b[49m\u001b[43m)\u001b[49m\n",
      "File \u001b[1;32m~\\anaconda3\\envs\\snorkel\\lib\\site-packages\\pandas\\core\\algorithms.py:1812\u001b[0m, in \u001b[0;36mmap_array\u001b[1;34m(arr, mapper, na_action, convert)\u001b[0m\n\u001b[0;32m   1810\u001b[0m values \u001b[38;5;241m=\u001b[39m arr\u001b[38;5;241m.\u001b[39mastype(\u001b[38;5;28mobject\u001b[39m, copy\u001b[38;5;241m=\u001b[39m\u001b[38;5;28;01mFalse\u001b[39;00m)\n\u001b[0;32m   1811\u001b[0m \u001b[38;5;28;01mif\u001b[39;00m na_action \u001b[38;5;129;01mis\u001b[39;00m \u001b[38;5;28;01mNone\u001b[39;00m:\n\u001b[1;32m-> 1812\u001b[0m     \u001b[38;5;28;01mreturn\u001b[39;00m \u001b[43mlib\u001b[49m\u001b[38;5;241;43m.\u001b[39;49m\u001b[43mmap_infer\u001b[49m\u001b[43m(\u001b[49m\u001b[43mvalues\u001b[49m\u001b[43m,\u001b[49m\u001b[43m \u001b[49m\u001b[43mmapper\u001b[49m\u001b[43m,\u001b[49m\u001b[43m \u001b[49m\u001b[43mconvert\u001b[49m\u001b[38;5;241;43m=\u001b[39;49m\u001b[43mconvert\u001b[49m\u001b[43m)\u001b[49m\n\u001b[0;32m   1813\u001b[0m \u001b[38;5;28;01melse\u001b[39;00m:\n\u001b[0;32m   1814\u001b[0m     \u001b[38;5;28;01mreturn\u001b[39;00m lib\u001b[38;5;241m.\u001b[39mmap_infer_mask(\n\u001b[0;32m   1815\u001b[0m         values, mapper, mask\u001b[38;5;241m=\u001b[39misna(values)\u001b[38;5;241m.\u001b[39mview(np\u001b[38;5;241m.\u001b[39muint8), convert\u001b[38;5;241m=\u001b[39mconvert\n\u001b[0;32m   1816\u001b[0m     )\n",
      "File \u001b[1;32mlib.pyx:2917\u001b[0m, in \u001b[0;36mpandas._libs.lib.map_infer\u001b[1;34m()\u001b[0m\n",
      "Cell \u001b[1;32mIn[22], line 2\u001b[0m, in \u001b[0;36mlabels\u001b[1;34m(x)\u001b[0m\n\u001b[0;32m      1\u001b[0m \u001b[38;5;28;01mdef\u001b[39;00m \u001b[38;5;21mlabels\u001b[39m(x):\n\u001b[1;32m----> 2\u001b[0m     \u001b[38;5;28;01mif\u001b[39;00m \u001b[43mx\u001b[49m\u001b[38;5;241;43m.\u001b[39;49m\u001b[43many\u001b[49m() \u001b[38;5;241m<\u001b[39m \u001b[38;5;241m0\u001b[39m:\n\u001b[0;32m      3\u001b[0m         \u001b[38;5;28;01mreturn\u001b[39;00m \u001b[38;5;241m-\u001b[39m\u001b[38;5;241m1\u001b[39m\n\u001b[0;32m      4\u001b[0m     \u001b[38;5;28;01melif\u001b[39;00m x\u001b[38;5;241m.\u001b[39msum() \u001b[38;5;241m>\u001b[39m \u001b[38;5;241m0\u001b[39m:\n",
      "\u001b[1;31mAttributeError\u001b[0m: 'int' object has no attribute 'any'"
     ]
    }
   ],
   "source": [
    "df['label'].apply(labels)"
   ]
  },
  {
   "cell_type": "code",
   "execution_count": 24,
   "id": "aa3e96c1",
   "metadata": {},
   "outputs": [],
   "source": [
    "df['label'] = L_train"
   ]
  },
  {
   "cell_type": "code",
   "execution_count": 20,
   "id": "8294aa1f",
   "metadata": {},
   "outputs": [
    {
     "data": {
      "text/plain": [
       "<Axes: >"
      ]
     },
     "execution_count": 20,
     "metadata": {},
     "output_type": "execute_result"
    },
    {
     "data": {
      "image/png": "[encoded data removed]",
      "text/plain": [
       "<Figure size 640x480 with 1 Axes>"
      ]
     },
     "metadata": {},
     "output_type": "display_data"
    }
   ],
   "source": [
    "df.label.hist()"
   ]
  },
  {
   "cell_type": "code",
   "execution_count": 19,
   "id": "4d58946c",
   "metadata": {},
   "outputs": [
    {
     "data": {
      "text/html": [
       "<div>\n",
       "<style scoped>\n",
       "    .dataframe tbody tr th:only-of-type {\n",
       "        vertical-align: middle;\n",
       "    }\n",
       "\n",
       "    .dataframe tbody tr th {\n",
       "        vertical-align: top;\n",
       "    }\n",
       "\n",
       "    .dataframe thead th {\n",
       "        text-align: right;\n",
       "    }\n",
       "</style>\n",
       "<table border=\"1\" class=\"dataframe\">\n",
       "  <thead>\n",
       "    <tr style=\"text-align: right;\">\n",
       "      <th></th>\n",
       "      <th>record_id</th>\n",
       "      <th>redcap_event_name</th>\n",
       "      <th>redcap_survey_identifier</th>\n",
       "      <th>opening_timestamp</th>\n",
       "      <th>id</th>\n",
       "      <th>er_num</th>\n",
       "      <th>complaint___1</th>\n",
       "      <th>complaint___2</th>\n",
       "      <th>complaint___3</th>\n",
       "      <th>complaint___4</th>\n",
       "      <th>...</th>\n",
       "      <th>c_ssrs_fu_attemp_6_clin</th>\n",
       "      <th>c_ssrs_fu_attemp_6_2_clin</th>\n",
       "      <th>c_ssrs_fu_attemp_7_clin</th>\n",
       "      <th>c_ssrs_fu_attemp_8_clin</th>\n",
       "      <th>c_ssrs_fu_done_clin</th>\n",
       "      <th>c_ssrs_fu_done_2_clin</th>\n",
       "      <th>inattentive_child</th>\n",
       "      <th>inattentive_mother</th>\n",
       "      <th>inattentive_father</th>\n",
       "      <th>original_dataset</th>\n",
       "    </tr>\n",
       "    <tr>\n",
       "      <th>label</th>\n",
       "      <th></th>\n",
       "      <th></th>\n",
       "      <th></th>\n",
       "      <th></th>\n",
       "      <th></th>\n",
       "      <th></th>\n",
       "      <th></th>\n",
       "      <th></th>\n",
       "      <th></th>\n",
       "      <th></th>\n",
       "      <th></th>\n",
       "      <th></th>\n",
       "      <th></th>\n",
       "      <th></th>\n",
       "      <th></th>\n",
       "      <th></th>\n",
       "      <th></th>\n",
       "      <th></th>\n",
       "      <th></th>\n",
       "      <th></th>\n",
       "      <th></th>\n",
       "    </tr>\n",
       "  </thead>\n",
       "  <tbody>\n",
       "    <tr>\n",
       "      <th>-1</th>\n",
       "      <td>19</td>\n",
       "      <td>19</td>\n",
       "      <td>0</td>\n",
       "      <td>9</td>\n",
       "      <td>19</td>\n",
       "      <td>0</td>\n",
       "      <td>0</td>\n",
       "      <td>0</td>\n",
       "      <td>0</td>\n",
       "      <td>0</td>\n",
       "      <td>...</td>\n",
       "      <td>0</td>\n",
       "      <td>0</td>\n",
       "      <td>0</td>\n",
       "      <td>0</td>\n",
       "      <td>0</td>\n",
       "      <td>0</td>\n",
       "      <td>19</td>\n",
       "      <td>19</td>\n",
       "      <td>19</td>\n",
       "      <td>19</td>\n",
       "    </tr>\n",
       "    <tr>\n",
       "      <th>0</th>\n",
       "      <td>2751</td>\n",
       "      <td>2751</td>\n",
       "      <td>0</td>\n",
       "      <td>1009</td>\n",
       "      <td>2751</td>\n",
       "      <td>18</td>\n",
       "      <td>519</td>\n",
       "      <td>519</td>\n",
       "      <td>519</td>\n",
       "      <td>519</td>\n",
       "      <td>...</td>\n",
       "      <td>7</td>\n",
       "      <td>0</td>\n",
       "      <td>7</td>\n",
       "      <td>8</td>\n",
       "      <td>6</td>\n",
       "      <td>5</td>\n",
       "      <td>2751</td>\n",
       "      <td>2751</td>\n",
       "      <td>2751</td>\n",
       "      <td>2751</td>\n",
       "    </tr>\n",
       "  </tbody>\n",
       "</table>\n",
       "<p>2 rows × 1625 columns</p>\n",
       "</div>"
      ],
      "text/plain": [
       "       record_id  redcap_event_name  redcap_survey_identifier  \\\n",
       "label                                                           \n",
       "-1            19                 19                         0   \n",
       " 0          2751               2751                         0   \n",
       "\n",
       "       opening_timestamp    id  er_num  complaint___1  complaint___2  \\\n",
       "label                                                                  \n",
       "-1                     9    19       0              0              0   \n",
       " 0                  1009  2751      18            519            519   \n",
       "\n",
       "       complaint___3  complaint___4  ...  c_ssrs_fu_attemp_6_clin  \\\n",
       "label                                ...                            \n",
       "-1                 0              0  ...                        0   \n",
       " 0               519            519  ...                        7   \n",
       "\n",
       "       c_ssrs_fu_attemp_6_2_clin  c_ssrs_fu_attemp_7_clin  \\\n",
       "label                                                       \n",
       "-1                             0                        0   \n",
       " 0                             0                        7   \n",
       "\n",
       "       c_ssrs_fu_attemp_8_clin  c_ssrs_fu_done_clin  c_ssrs_fu_done_2_clin  \\\n",
       "label                                                                        \n",
       "-1                           0                    0                      0   \n",
       " 0                           8                    6                      5   \n",
       "\n",
       "       inattentive_child  inattentive_mother  inattentive_father  \\\n",
       "label                                                              \n",
       "-1                    19                  19                  19   \n",
       " 0                  2751                2751                2751   \n",
       "\n",
       "       original_dataset  \n",
       "label                    \n",
       "-1                   19  \n",
       " 0                 2751  \n",
       "\n",
       "[2 rows x 1625 columns]"
      ]
     },
     "execution_count": 19,
     "metadata": {},
     "output_type": "execute_result"
    }
   ],
   "source": [
    "df.groupby(['label']).count()"
   ]
  },
  {
   "cell_type": "code",
   "execution_count": 14,
   "id": "36a2a12b",
   "metadata": {},
   "outputs": [],
   "source": [
    "def is_word_within_proximity(text, w1, w2, nlp, proximity=2):\n",
    "    doc = nlp(text)\n",
    "    word_positions = {word: [] for word in [w1, w2]}\n",
    "\n",
    "    for i, token in enumerate(doc):\n",
    "        if token.text in word_positions:\n",
    "            word_positions[token.text].append(i)\n",
    "\n",
    "    for i in word_positions[w1]:\n",
    "        for j in word_positions[w2]:\n",
    "            if abs(i - j) <= proximity:\n",
    "                return True\n",
    "\n",
    "    return False\n"
   ]
  },
  {
   "cell_type": "code",
   "execution_count": 15,
   "id": "87cdd40f",
   "metadata": {},
   "outputs": [
    {
     "name": "stdout",
     "output_type": "stream",
     "text": [
      "True\n"
     ]
    }
   ],
   "source": [
    "\n",
    "text = \"זהו משפט לדוגמה בו נבדקת קרובות מילים שונות.\"\n",
    "w1 = \"נבדקת\"\n",
    "w2 = \"מילים\"\n",
    "\n",
    "result = is_word_within_proximity(text, w1, w2, nlp)\n",
    "print(result)  # Output: True"
   ]
  },
  {
   "cell_type": "code",
   "execution_count": 17,
   "id": "6a24b999",
   "metadata": {},
   "outputs": [
    {
     "name": "stdout",
     "output_type": "stream",
     "text": [
      "False\n"
     ]
    }
   ],
   "source": [
    "text = \"זהו משפט לדוגמה בו נבדקת קרובות מילים שונות.\"\n",
    "w1 = \"שונות\"\n",
    "w2 = \"לדוגמה\"\n",
    "\n",
    "result = is_word_within_proximity(text, w1, w2, nlp)\n",
    "print(result)  # Output: True"
   ]
  },
  {
   "cell_type": "code",
   "execution_count": 20,
   "id": "2962a8c9",
   "metadata": {},
   "outputs": [
    {
     "name": "stdout",
     "output_type": "stream",
     "text": [
      "        \n"
     ]
    }
   ],
   "source": [
    "\n",
    "def lemmatize_text(text, nlp):\n",
    "    doc = nlp(text)\n",
    "    lemmatized_text = \" \".join([token.lemma_ for token in doc])\n",
    "    return lemmatized_text\n",
    "\n",
    "text = \"זהו משפט לדוגמה בו נבדקת קרובות מילים שונות.\"\n",
    "\n",
    "lemmatized_text = lemmatize_text(text,nlp)\n",
    "print(lemmatized_text)\n"
   ]
  },
  {
   "cell_type": "code",
   "execution_count": 21,
   "id": "219ef5fe",
   "metadata": {},
   "outputs": [
    {
     "data": {
      "text/plain": [
       "'        '"
      ]
     },
     "execution_count": 21,
     "metadata": {},
     "output_type": "execute_result"
    }
   ],
   "source": [
    "lemmatized_text"
   ]
  },
  {
   "cell_type": "code",
   "execution_count": 22,
   "id": "6baceae9",
   "metadata": {},
   "outputs": [
    {
     "data": {
      "text/plain": [
       "'זהו משפט לדוגמה בו נבדקת קרובות מילים שונות.'"
      ]
     },
     "execution_count": 22,
     "metadata": {},
     "output_type": "execute_result"
    }
   ],
   "source": [
    "text"
   ]
  },
  {
   "cell_type": "code",
   "execution_count": 23,
   "id": "329dace2",
   "metadata": {},
   "outputs": [],
   "source": [
    "doc = nlp(text)\n",
    "lemmatized_text = \" \".join([token.lemma_ for token in doc])"
   ]
  },
  {
   "cell_type": "code",
   "execution_count": 24,
   "id": "9014b6bb",
   "metadata": {},
   "outputs": [
    {
     "data": {
      "text/plain": [
       "'        '"
      ]
     },
     "execution_count": 24,
     "metadata": {},
     "output_type": "execute_result"
    }
   ],
   "source": [
    "lemmatized_text"
   ]
  },
  {
   "cell_type": "code",
   "execution_count": 26,
   "id": "0b907335",
   "metadata": {},
   "outputs": [],
   "source": [
    "dd = [token for token in doc]"
   ]
  },
  {
   "cell_type": "code",
   "execution_count": 27,
   "id": "abc8dc7c",
   "metadata": {},
   "outputs": [
    {
     "data": {
      "text/plain": [
       "זהו"
      ]
     },
     "execution_count": 27,
     "metadata": {},
     "output_type": "execute_result"
    }
   ],
   "source": [
    "dd[0]"
   ]
  },
  {
   "cell_type": "code",
   "execution_count": 31,
   "id": "60c5c624",
   "metadata": {},
   "outputs": [],
   "source": [
    "token = dd[0]"
   ]
  },
  {
   "cell_type": "code",
   "execution_count": 32,
   "id": "e4ef68a3",
   "metadata": {},
   "outputs": [
    {
     "data": {
      "text/plain": [
       "('זהו', '', '')"
      ]
     },
     "execution_count": 32,
     "metadata": {},
     "output_type": "execute_result"
    }
   ],
   "source": [
    "token.text, token.pos_, token.dep_"
   ]
  },
  {
   "cell_type": "code",
   "execution_count": 33,
   "id": "faeb8846",
   "metadata": {},
   "outputs": [
    {
     "name": "stdout",
     "output_type": "stream",
     "text": [
      "מרגלית דהן \t PERS: 0.9999 (0,10)\n",
      "2/12/2001 \t DATE: 0.9897 (33,42)\n",
      "מ18.11.2001 \t DATE: 0.8282 (54,65)\n",
      "8% \t PERCENT: 0.9932 (230,232)\n"
     ]
    }
   ],
   "source": [
    "\n",
    "nlp = spacy.load(\"he_ner_news_trf\")\n",
    "text = \"\"\"מרגלית דהן\n",
    "מספר זהות 11278904-5\n",
    "\n",
    "2/12/2001\n",
    "ביקור חוזר מ18.11.2001\n",
    "במסגרת בירור פלפיטציות ואי סבילות למאמצים,מנורגיות קשות ע\"ר שרירנים- ביצעה מעבדה שהדגימה:\n",
    "המוגלובין 9, מיקרוציטי היפוכרומטי עם RDW 19,\n",
    "פריטין 10, סטורציית טרנספרין 8%. \n",
    "מבחינת עומס נגיפי HIV- undetectable ומקפידה על HAART\n",
    "\"\"\"\n",
    "\n",
    "doc = nlp(text)\n",
    "for entity in doc.ents:\n",
    "    print(f\"{entity.text} \\t {entity.label_}: {entity._.confidence_score:.4f} ({entity.start_char},{entity.end_char})\")\n"
   ]
  },
  {
   "cell_type": "code",
   "execution_count": 34,
   "id": "b608fc36",
   "metadata": {},
   "outputs": [
    {
     "name": "stdout",
     "output_type": "stream",
     "text": [
      "מרגלית, , )\n",
      "דהן, , )\n",
      "\n",
      ", , )\n",
      "מספר, , )\n",
      "זהות, , )\n",
      "11278904, , )\n",
      "-, , )\n",
      "5, , )\n",
      "\n",
      "\n",
      ", , )\n",
      "2/12/2001, , )\n",
      "\n",
      ", , )\n",
      "ביקור, , )\n",
      "חוזר, , )\n",
      "מ18.11.2001, , )\n",
      "\n",
      ", , )\n",
      "במסגרת, , )\n",
      "בירור, , )\n",
      "פלפיטציות, , )\n",
      "ואי, , )\n",
      "סבילות, , )\n",
      "למאמצים, , )\n",
      ",, , )\n",
      "מנורגיות, , )\n",
      "קשות, , )\n",
      "ע\"ר, , )\n",
      "שרירנים-, , )\n",
      "ביצעה, , )\n",
      "מעבדה, , )\n",
      "שהדגימה, , )\n",
      ":, , )\n",
      "\n",
      ", , )\n",
      "המוגלובין, , )\n",
      "9, , )\n",
      ",, , )\n",
      "מיקרוציטי, , )\n",
      "היפוכרומטי, , )\n",
      "עם, , )\n",
      "RDW, , )\n",
      "19, , )\n",
      ",, , )\n",
      "\n",
      ", , )\n",
      "פריטין, , )\n",
      "10, , )\n",
      ",, , )\n",
      "סטורציית, , )\n",
      "טרנספרין, , )\n",
      "8, , )\n",
      "%, , )\n",
      "., , )\n",
      "\n",
      ", , )\n",
      "מבחינת, , )\n",
      "עומס, , )\n",
      "נגיפי, , )\n",
      "HIV-, , )\n",
      "undetectable, , )\n",
      "ומקפידה, , )\n",
      "על, , )\n",
      "HAART, , )\n",
      "\n",
      ", , )\n"
     ]
    }
   ],
   "source": [
    "for token in doc:\n",
    "    print(f\"{token.text}, {token.pos_}, {token.dep_})\")\n"
   ]
  },
  {
   "cell_type": "code",
   "execution_count": 36,
   "id": "4c466ff4",
   "metadata": {},
   "outputs": [
    {
     "name": "stdout",
     "output_type": "stream",
     "text": [
      "היי \n",
      ", \n",
      "איך \n",
      "אתה \n",
      "? \n"
     ]
    }
   ],
   "source": [
    "import spacy\n",
    "nlp = spacy.load(\"he_ner_news_trf\")\n",
    "text = \"היי, איך אתה?\"\n",
    "doc = nlp(text)\n",
    "for token in doc:\n",
    "    print(token.text, token.pos_)\n"
   ]
  },
  {
   "cell_type": "code",
   "execution_count": null,
   "id": "ddf433ac",
   "metadata": {},
   "outputs": [],
   "source": []
  }
 ],
 "metadata": {
  "kernelspec": {
   "display_name": "snorkel",
   "language": "python",
   "name": "snorkel"
  },
  "language_info": {
   "codemirror_mode": {
    "name": "ipython",
    "version": 3
   },
   "file_extension": ".py",
   "mimetype": "text/x-python",
   "name": "python",
   "nbconvert_exporter": "python",
   "pygments_lexer": "ipython3",
   "version": "3.10.12"
  }
 },
 "nbformat": 4,
 "nbformat_minor": 5
}
