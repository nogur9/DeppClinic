{
 "cells": [
  {
   "cell_type": "code",
   "execution_count": 1,
   "id": "8fc6f342",
   "metadata": {},
   "outputs": [
    {
     "data": {
      "text/plain": [
       "'C:\\\\Users\\\\nogur\\\\Documents\\\\DeppClinic\\\\Transferring_Data_to_PostgreSQL'"
      ]
     },
     "execution_count": 1,
     "metadata": {},
     "output_type": "execute_result"
    }
   ],
   "source": [
    "import pandas as pd\n",
    "import psycopg2\n",
    "\n",
    "import os\n",
    "os.getcwd()"
   ]
  },
  {
   "cell_type": "code",
   "execution_count": 2,
   "id": "1fe2802a",
   "metadata": {},
   "outputs": [],
   "source": [
    "conn_str = \"dbname=postgres user=postgres password=asdf123\"\n",
    "\n",
    "\n",
    "def get_all_table_names(conn_str):\n",
    "    conn = psycopg2.connect(conn_str)\n",
    "    sql = \"\"\"\n",
    "    SELECT table_name FROM INFORMATION_SCHEMA.TABLES\n",
    "    WHERE table_schema = N'redcap_data'\n",
    "    \"\"\"\n",
    "\n",
    "\n",
    "    questionnaire_columns = list(pd.read_sql_query(sql, conn).table_name)\n",
    "    conn.close()\n",
    "    return questionnaire_columns"
   ]
  },
  {
   "cell_type": "markdown",
   "id": "f2790095",
   "metadata": {},
   "source": [
    "## get column names"
   ]
  },
  {
   "cell_type": "code",
   "execution_count": 3,
   "id": "32378876",
   "metadata": {},
   "outputs": [],
   "source": [
    "def get_column_names(questionnaire_name, conn_str):\n",
    "    conn = psycopg2.connect(conn_str)\n",
    "    sql = \"\"\"\n",
    "    SELECT *\n",
    "    FROM INFORMATION_SCHEMA.COLUMNS\n",
    "    WHERE TABLE_NAME = N'{0}'\n",
    "    AND table_schema = N'redcap_data'\n",
    "    \"\"\".format(questionnaire_name)\n",
    "\n",
    "\n",
    "    questionnaire_columns = list(pd.read_sql_query(sql, conn).column_name)\n",
    "    conn.close()\n",
    "    return questionnaire_columns"
   ]
  },
  {
   "cell_type": "code",
   "execution_count": 4,
   "id": "a207e502",
   "metadata": {},
   "outputs": [],
   "source": [
    "def prepare_data(questionnaire_name, questionnaire_columns, redcap_df):\n",
    "    questionnaire_data = redcap_df[questionnaire_columns]\n",
    "\n",
    "    file_name = \"redcap_{0}_data.csv\".format(questionnaire_name)\n",
    "    directory = r\"C:/Users/nogur/Documents/DeppClinic/Data/postgres_db/redcap_data\"\n",
    "    full_path = r'{0}/{1}'.format(directory, file_name)\n",
    "    questionnaire_data.to_csv(full_path, index=False)\n",
    "    \n",
    "    # Change the file permissions\n",
    "    os.chmod(full_path, 0o777)\n",
    "    \n",
    "    os.chmod(directory, 0o777)\n",
    "    \n",
    "\n",
    "    return full_path\n"
   ]
  },
  {
   "cell_type": "code",
   "execution_count": 5,
   "id": "2002463e",
   "metadata": {},
   "outputs": [],
   "source": [
    "def upload_data(questionnaire_name, full_path, conn_str):\n",
    "    upload_data_cmd = \"\"\"\n",
    "    COPY redcap_data.{0}\n",
    "    FROM '{1}'\n",
    "    DELIMITER ','\n",
    "    CSV HEADER;\n",
    "\n",
    "    \"\"\".format(questionnaire_name, full_path)\n",
    "\n",
    "    print(upload_data_cmd)\n",
    "    conn = psycopg2.connect(conn_str)\n",
    "    # Open a cursor to perform database operations\n",
    "    cur = conn.cursor()\n",
    "    # Execute a command: create datacamp_courses table\n",
    "    cur.execute(upload_data_cmd)\n",
    "    \n",
    "    \n",
    "    # Make the changes to the database persistent\n",
    "    conn.commit()\n",
    "\n",
    "    # Close cursor and communication with the database\n",
    "    cur.close()\n",
    "    conn.close()"
   ]
  },
  {
   "cell_type": "code",
   "execution_count": 6,
   "id": "831149ee",
   "metadata": {},
   "outputs": [
    {
     "name": "stderr",
     "output_type": "stream",
     "text": [
      "C:\\Users\\nogur\\AppData\\Local\\Temp\\ipykernel_6856\\2517591147.py:2: DtypeWarning: Columns (44,46,51,53,99,325,366,439,453,459,464,466,501,507,512,514,519,521,530,532,569,571,580,599,766,771,773,779,784,789,794,798,800,804,809,811,813,816,818,827,829,849,866,868,877,896,906,941,964,1002,1014,1025,1063,1068,1070,1076,1081,1086,1091,1093,1095,1097,1099,1100,1126,1142,1149,1165,1168,1172,1173,1177,1178,1179,1180,1182,1183,1184,1187,1188,1190,1207,1212,1229,1232,1260,1262,1264,1266,1268,1271,1281,1283,1285,1291,1293,1297,1305,1306,1319,1321,1324,1326,1338,1340,1342,1343,1344,1350,1351,1352,1353,1465,1467,1468,1470,1486,1489,1492,1496,1513,1515,1516,1517,1523,1524,1525,1526,1580,1650,1653,1654) have mixed types. Specify dtype option on import or set low_memory=False.\n",
      "  redcap_df = pd.read_csv(r\"Data\\Transferring_Data_to_PostgreSQL\\redcap_data.csv\")\n",
      "C:\\Users\\nogur\\AppData\\Local\\Temp\\ipykernel_6856\\3435154038.py:12: UserWarning: pandas only supports SQLAlchemy connectable (engine/connection) or database string URI or sqlite3 DBAPI2 connection. Other DBAPI2 objects are not tested. Please consider using SQLAlchemy.\n",
      "  questionnaire_columns = list(pd.read_sql_query(sql, conn).table_name)\n"
     ]
    }
   ],
   "source": [
    "os.chdir(\"..\")\n",
    "redcap_df = pd.read_csv(r\"Data\\Transferring_Data_to_PostgreSQL\\redcap_data.csv\")\n",
    "table_names = get_all_table_names(conn_str)\n"
   ]
  },
  {
   "cell_type": "markdown",
   "id": "e07731da",
   "metadata": {},
   "source": [
    "## Prepare the needed table"
   ]
  },
  {
   "cell_type": "code",
   "execution_count": 7,
   "id": "ed86e424",
   "metadata": {},
   "outputs": [
    {
     "data": {
      "text/plain": [
       "['intro']"
      ]
     },
     "execution_count": 7,
     "metadata": {},
     "output_type": "execute_result"
    }
   ],
   "source": [
    "table_names[-1:]"
   ]
  },
  {
   "cell_type": "code",
   "execution_count": 8,
   "id": "f135062c",
   "metadata": {},
   "outputs": [
    {
     "name": "stdout",
     "output_type": "stream",
     "text": [
      "siq\n",
      "\n",
      "    COPY redcap_data.siq\n",
      "    FROM 'C:/Users/nogur/Documents/DeppClinic/Data/postgres_db/redcap_data/redcap_siq_data.csv'\n",
      "    DELIMITER ','\n",
      "    CSV HEADER;\n",
      "\n",
      "    \n"
     ]
    },
    {
     "name": "stderr",
     "output_type": "stream",
     "text": [
      "C:\\Users\\nogur\\AppData\\Local\\Temp\\ipykernel_6856\\1858670926.py:11: UserWarning: pandas only supports SQLAlchemy connectable (engine/connection) or database string URI or sqlite3 DBAPI2 connection. Other DBAPI2 objects are not tested. Please consider using SQLAlchemy.\n",
      "  questionnaire_columns = list(pd.read_sql_query(sql, conn).column_name)\n"
     ]
    },
    {
     "name": "stdout",
     "output_type": "stream",
     "text": [
      "sci_af_ca\n",
      "\n",
      "    COPY redcap_data.sci_af_ca\n",
      "    FROM 'C:/Users/nogur/Documents/DeppClinic/Data/postgres_db/redcap_data/redcap_sci_af_ca_data.csv'\n",
      "    DELIMITER ','\n",
      "    CSV HEADER;\n",
      "\n",
      "    \n"
     ]
    },
    {
     "name": "stderr",
     "output_type": "stream",
     "text": [
      "C:\\Users\\nogur\\AppData\\Local\\Temp\\ipykernel_6856\\1858670926.py:11: UserWarning: pandas only supports SQLAlchemy connectable (engine/connection) or database string URI or sqlite3 DBAPI2 connection. Other DBAPI2 objects are not tested. Please consider using SQLAlchemy.\n",
      "  questionnaire_columns = list(pd.read_sql_query(sql, conn).column_name)\n"
     ]
    },
    {
     "name": "stdout",
     "output_type": "stream",
     "text": [
      "mast\n",
      "\n",
      "    COPY redcap_data.mast\n",
      "    FROM 'C:/Users/nogur/Documents/DeppClinic/Data/postgres_db/redcap_data/redcap_mast_data.csv'\n",
      "    DELIMITER ','\n",
      "    CSV HEADER;\n",
      "\n",
      "    \n",
      "demographics_f\n"
     ]
    },
    {
     "name": "stderr",
     "output_type": "stream",
     "text": [
      "C:\\Users\\nogur\\AppData\\Local\\Temp\\ipykernel_6856\\1858670926.py:11: UserWarning: pandas only supports SQLAlchemy connectable (engine/connection) or database string URI or sqlite3 DBAPI2 connection. Other DBAPI2 objects are not tested. Please consider using SQLAlchemy.\n",
      "  questionnaire_columns = list(pd.read_sql_query(sql, conn).column_name)\n",
      "C:\\Users\\nogur\\AppData\\Local\\Temp\\ipykernel_6856\\1858670926.py:11: UserWarning: pandas only supports SQLAlchemy connectable (engine/connection) or database string URI or sqlite3 DBAPI2 connection. Other DBAPI2 objects are not tested. Please consider using SQLAlchemy.\n",
      "  questionnaire_columns = list(pd.read_sql_query(sql, conn).column_name)\n"
     ]
    },
    {
     "name": "stdout",
     "output_type": "stream",
     "text": [
      "\n",
      "    COPY redcap_data.demographics_f\n",
      "    FROM 'C:/Users/nogur/Documents/DeppClinic/Data/postgres_db/redcap_data/redcap_demographics_f_data.csv'\n",
      "    DELIMITER ','\n",
      "    CSV HEADER;\n",
      "\n",
      "    \n",
      "swan_f\n"
     ]
    },
    {
     "name": "stderr",
     "output_type": "stream",
     "text": [
      "C:\\Users\\nogur\\AppData\\Local\\Temp\\ipykernel_6856\\1858670926.py:11: UserWarning: pandas only supports SQLAlchemy connectable (engine/connection) or database string URI or sqlite3 DBAPI2 connection. Other DBAPI2 objects are not tested. Please consider using SQLAlchemy.\n",
      "  questionnaire_columns = list(pd.read_sql_query(sql, conn).column_name)\n"
     ]
    },
    {
     "name": "stdout",
     "output_type": "stream",
     "text": [
      "\n",
      "    COPY redcap_data.swan_f\n",
      "    FROM 'C:/Users/nogur/Documents/DeppClinic/Data/postgres_db/redcap_data/redcap_swan_f_data.csv'\n",
      "    DELIMITER ','\n",
      "    CSV HEADER;\n",
      "\n",
      "    \n",
      "trq_sf_maris_clin\n",
      "\n",
      "    COPY redcap_data.trq_sf_maris_clin\n",
      "    FROM 'C:/Users/nogur/Documents/DeppClinic/Data/postgres_db/redcap_data/redcap_trq_sf_maris_clin_data.csv'\n",
      "    DELIMITER ','\n",
      "    CSV HEADER;\n",
      "\n",
      "    \n"
     ]
    },
    {
     "name": "stderr",
     "output_type": "stream",
     "text": [
      "C:\\Users\\nogur\\AppData\\Local\\Temp\\ipykernel_6856\\1858670926.py:11: UserWarning: pandas only supports SQLAlchemy connectable (engine/connection) or database string URI or sqlite3 DBAPI2 connection. Other DBAPI2 objects are not tested. Please consider using SQLAlchemy.\n",
      "  questionnaire_columns = list(pd.read_sql_query(sql, conn).column_name)\n",
      "C:\\Users\\nogur\\AppData\\Local\\Temp\\ipykernel_6856\\1858670926.py:11: UserWarning: pandas only supports SQLAlchemy connectable (engine/connection) or database string URI or sqlite3 DBAPI2 connection. Other DBAPI2 objects are not tested. Please consider using SQLAlchemy.\n",
      "  questionnaire_columns = list(pd.read_sql_query(sql, conn).column_name)\n"
     ]
    },
    {
     "name": "stdout",
     "output_type": "stream",
     "text": [
      "opening\n",
      "\n",
      "    COPY redcap_data.opening\n",
      "    FROM 'C:/Users/nogur/Documents/DeppClinic/Data/postgres_db/redcap_data/redcap_opening_data.csv'\n",
      "    DELIMITER ','\n",
      "    CSV HEADER;\n",
      "\n",
      "    \n",
      "opening_child_pre\n",
      "\n",
      "    COPY redcap_data.opening_child_pre\n",
      "    FROM 'C:/Users/nogur/Documents/DeppClinic/Data/postgres_db/redcap_data/redcap_opening_child_pre_data.csv'\n",
      "    DELIMITER ','\n",
      "    CSV HEADER;\n",
      "\n",
      "    \n",
      "erc_rc\n"
     ]
    },
    {
     "name": "stderr",
     "output_type": "stream",
     "text": [
      "C:\\Users\\nogur\\AppData\\Local\\Temp\\ipykernel_6856\\1858670926.py:11: UserWarning: pandas only supports SQLAlchemy connectable (engine/connection) or database string URI or sqlite3 DBAPI2 connection. Other DBAPI2 objects are not tested. Please consider using SQLAlchemy.\n",
      "  questionnaire_columns = list(pd.read_sql_query(sql, conn).column_name)\n",
      "C:\\Users\\nogur\\AppData\\Local\\Temp\\ipykernel_6856\\1858670926.py:11: UserWarning: pandas only supports SQLAlchemy connectable (engine/connection) or database string URI or sqlite3 DBAPI2 connection. Other DBAPI2 objects are not tested. Please consider using SQLAlchemy.\n",
      "  questionnaire_columns = list(pd.read_sql_query(sql, conn).column_name)\n"
     ]
    },
    {
     "name": "stdout",
     "output_type": "stream",
     "text": [
      "\n",
      "    COPY redcap_data.erc_rc\n",
      "    FROM 'C:/Users/nogur/Documents/DeppClinic/Data/postgres_db/redcap_data/redcap_erc_rc_data.csv'\n",
      "    DELIMITER ','\n",
      "    CSV HEADER;\n",
      "\n",
      "    \n",
      "piu_cyberbulling\n"
     ]
    },
    {
     "name": "stderr",
     "output_type": "stream",
     "text": [
      "C:\\Users\\nogur\\AppData\\Local\\Temp\\ipykernel_6856\\1858670926.py:11: UserWarning: pandas only supports SQLAlchemy connectable (engine/connection) or database string URI or sqlite3 DBAPI2 connection. Other DBAPI2 objects are not tested. Please consider using SQLAlchemy.\n",
      "  questionnaire_columns = list(pd.read_sql_query(sql, conn).column_name)\n"
     ]
    },
    {
     "name": "stdout",
     "output_type": "stream",
     "text": [
      "\n",
      "    COPY redcap_data.piu_cyberbulling\n",
      "    FROM 'C:/Users/nogur/Documents/DeppClinic/Data/postgres_db/redcap_data/redcap_piu_cyberbulling_data.csv'\n",
      "    DELIMITER ','\n",
      "    CSV HEADER;\n",
      "\n",
      "    \n",
      "sdq\n"
     ]
    },
    {
     "name": "stderr",
     "output_type": "stream",
     "text": [
      "C:\\Users\\nogur\\AppData\\Local\\Temp\\ipykernel_6856\\1858670926.py:11: UserWarning: pandas only supports SQLAlchemy connectable (engine/connection) or database string URI or sqlite3 DBAPI2 connection. Other DBAPI2 objects are not tested. Please consider using SQLAlchemy.\n",
      "  questionnaire_columns = list(pd.read_sql_query(sql, conn).column_name)\n"
     ]
    },
    {
     "name": "stdout",
     "output_type": "stream",
     "text": [
      "\n",
      "    COPY redcap_data.sdq\n",
      "    FROM 'C:/Users/nogur/Documents/DeppClinic/Data/postgres_db/redcap_data/redcap_sdq_data.csv'\n",
      "    DELIMITER ','\n",
      "    CSV HEADER;\n",
      "\n",
      "    \n",
      "scs_clin\n"
     ]
    },
    {
     "name": "stderr",
     "output_type": "stream",
     "text": [
      "C:\\Users\\nogur\\AppData\\Local\\Temp\\ipykernel_6856\\1858670926.py:11: UserWarning: pandas only supports SQLAlchemy connectable (engine/connection) or database string URI or sqlite3 DBAPI2 connection. Other DBAPI2 objects are not tested. Please consider using SQLAlchemy.\n",
      "  questionnaire_columns = list(pd.read_sql_query(sql, conn).column_name)\n"
     ]
    },
    {
     "name": "stdout",
     "output_type": "stream",
     "text": [
      "\n",
      "    COPY redcap_data.scs_clin\n",
      "    FROM 'C:/Users/nogur/Documents/DeppClinic/Data/postgres_db/redcap_data/redcap_scs_clin_data.csv'\n",
      "    DELIMITER ','\n",
      "    CSV HEADER;\n",
      "\n",
      "    \n",
      "maris_sci_sf\n",
      "\n",
      "    COPY redcap_data.maris_sci_sf\n",
      "    FROM 'C:/Users/nogur/Documents/DeppClinic/Data/postgres_db/redcap_data/redcap_maris_sci_sf_data.csv'\n",
      "    DELIMITER ','\n",
      "    CSV HEADER;\n",
      "\n",
      "    \n"
     ]
    },
    {
     "name": "stderr",
     "output_type": "stream",
     "text": [
      "C:\\Users\\nogur\\AppData\\Local\\Temp\\ipykernel_6856\\1858670926.py:11: UserWarning: pandas only supports SQLAlchemy connectable (engine/connection) or database string URI or sqlite3 DBAPI2 connection. Other DBAPI2 objects are not tested. Please consider using SQLAlchemy.\n",
      "  questionnaire_columns = list(pd.read_sql_query(sql, conn).column_name)\n"
     ]
    },
    {
     "name": "stdout",
     "output_type": "stream",
     "text": [
      "c_ssrs_intake\n",
      "\n",
      "    COPY redcap_data.c_ssrs_intake\n",
      "    FROM 'C:/Users/nogur/Documents/DeppClinic/Data/postgres_db/redcap_data/redcap_c_ssrs_intake_data.csv'\n",
      "    DELIMITER ','\n",
      "    CSV HEADER;\n",
      "\n",
      "    \n"
     ]
    },
    {
     "name": "stderr",
     "output_type": "stream",
     "text": [
      "C:\\Users\\nogur\\AppData\\Local\\Temp\\ipykernel_6856\\1858670926.py:11: UserWarning: pandas only supports SQLAlchemy connectable (engine/connection) or database string URI or sqlite3 DBAPI2 connection. Other DBAPI2 objects are not tested. Please consider using SQLAlchemy.\n",
      "  questionnaire_columns = list(pd.read_sql_query(sql, conn).column_name)\n",
      "C:\\Users\\nogur\\AppData\\Local\\Temp\\ipykernel_6856\\1858670926.py:11: UserWarning: pandas only supports SQLAlchemy connectable (engine/connection) or database string URI or sqlite3 DBAPI2 connection. Other DBAPI2 objects are not tested. Please consider using SQLAlchemy.\n",
      "  questionnaire_columns = list(pd.read_sql_query(sql, conn).column_name)\n"
     ]
    },
    {
     "name": "stdout",
     "output_type": "stream",
     "text": [
      "c_ssrs\n",
      "\n",
      "    COPY redcap_data.c_ssrs\n",
      "    FROM 'C:/Users/nogur/Documents/DeppClinic/Data/postgres_db/redcap_data/redcap_c_ssrs_data.csv'\n",
      "    DELIMITER ','\n",
      "    CSV HEADER;\n",
      "\n",
      "    \n",
      "scared\n",
      "\n",
      "    COPY redcap_data.scared\n",
      "    FROM 'C:/Users/nogur/Documents/DeppClinic/Data/postgres_db/redcap_data/redcap_scared_data.csv'\n",
      "    DELIMITER ','\n",
      "    CSV HEADER;\n",
      "\n",
      "    \n"
     ]
    },
    {
     "name": "stderr",
     "output_type": "stream",
     "text": [
      "C:\\Users\\nogur\\AppData\\Local\\Temp\\ipykernel_6856\\1858670926.py:11: UserWarning: pandas only supports SQLAlchemy connectable (engine/connection) or database string URI or sqlite3 DBAPI2 connection. Other DBAPI2 objects are not tested. Please consider using SQLAlchemy.\n",
      "  questionnaire_columns = list(pd.read_sql_query(sql, conn).column_name)\n",
      "C:\\Users\\nogur\\AppData\\Local\\Temp\\ipykernel_6856\\1858670926.py:11: UserWarning: pandas only supports SQLAlchemy connectable (engine/connection) or database string URI or sqlite3 DBAPI2 connection. Other DBAPI2 objects are not tested. Please consider using SQLAlchemy.\n",
      "  questionnaire_columns = list(pd.read_sql_query(sql, conn).column_name)\n"
     ]
    },
    {
     "name": "stdout",
     "output_type": "stream",
     "text": [
      "scs_stu\n",
      "\n",
      "    COPY redcap_data.scs_stu\n",
      "    FROM 'C:/Users/nogur/Documents/DeppClinic/Data/postgres_db/redcap_data/redcap_scs_stu_data.csv'\n",
      "    DELIMITER ','\n",
      "    CSV HEADER;\n",
      "\n",
      "    \n",
      "maris_soq_sf\n"
     ]
    },
    {
     "name": "stderr",
     "output_type": "stream",
     "text": [
      "C:\\Users\\nogur\\AppData\\Local\\Temp\\ipykernel_6856\\1858670926.py:11: UserWarning: pandas only supports SQLAlchemy connectable (engine/connection) or database string URI or sqlite3 DBAPI2 connection. Other DBAPI2 objects are not tested. Please consider using SQLAlchemy.\n",
      "  questionnaire_columns = list(pd.read_sql_query(sql, conn).column_name)\n"
     ]
    },
    {
     "name": "stdout",
     "output_type": "stream",
     "text": [
      "\n",
      "    COPY redcap_data.maris_soq_sf\n",
      "    FROM 'C:/Users/nogur/Documents/DeppClinic/Data/postgres_db/redcap_data/redcap_maris_soq_sf_data.csv'\n",
      "    DELIMITER ','\n",
      "    CSV HEADER;\n",
      "\n",
      "    \n",
      "demographics_m\n",
      "\n",
      "    COPY redcap_data.demographics_m\n",
      "    FROM 'C:/Users/nogur/Documents/DeppClinic/Data/postgres_db/redcap_data/redcap_demographics_m_data.csv'\n",
      "    DELIMITER ','\n",
      "    CSV HEADER;\n",
      "\n",
      "    \n",
      "dass_f\n"
     ]
    },
    {
     "name": "stderr",
     "output_type": "stream",
     "text": [
      "C:\\Users\\nogur\\AppData\\Local\\Temp\\ipykernel_6856\\1858670926.py:11: UserWarning: pandas only supports SQLAlchemy connectable (engine/connection) or database string URI or sqlite3 DBAPI2 connection. Other DBAPI2 objects are not tested. Please consider using SQLAlchemy.\n",
      "  questionnaire_columns = list(pd.read_sql_query(sql, conn).column_name)\n",
      "C:\\Users\\nogur\\AppData\\Local\\Temp\\ipykernel_6856\\1858670926.py:11: UserWarning: pandas only supports SQLAlchemy connectable (engine/connection) or database string URI or sqlite3 DBAPI2 connection. Other DBAPI2 objects are not tested. Please consider using SQLAlchemy.\n",
      "  questionnaire_columns = list(pd.read_sql_query(sql, conn).column_name)\n"
     ]
    },
    {
     "name": "stdout",
     "output_type": "stream",
     "text": [
      "\n",
      "    COPY redcap_data.dass_f\n",
      "    FROM 'C:/Users/nogur/Documents/DeppClinic/Data/postgres_db/redcap_data/redcap_dass_f_data.csv'\n",
      "    DELIMITER ','\n",
      "    CSV HEADER;\n",
      "\n",
      "    \n",
      "screening_form\n"
     ]
    },
    {
     "name": "stderr",
     "output_type": "stream",
     "text": [
      "C:\\Users\\nogur\\AppData\\Local\\Temp\\ipykernel_6856\\1858670926.py:11: UserWarning: pandas only supports SQLAlchemy connectable (engine/connection) or database string URI or sqlite3 DBAPI2 connection. Other DBAPI2 objects are not tested. Please consider using SQLAlchemy.\n",
      "  questionnaire_columns = list(pd.read_sql_query(sql, conn).column_name)\n"
     ]
    },
    {
     "name": "stdout",
     "output_type": "stream",
     "text": [
      "\n",
      "    COPY redcap_data.screening_form\n",
      "    FROM 'C:/Users/nogur/Documents/DeppClinic/Data/postgres_db/redcap_data/redcap_screening_form_data.csv'\n",
      "    DELIMITER ','\n",
      "    CSV HEADER;\n",
      "\n",
      "    \n",
      "covid19\n"
     ]
    },
    {
     "name": "stderr",
     "output_type": "stream",
     "text": [
      "C:\\Users\\nogur\\AppData\\Local\\Temp\\ipykernel_6856\\1858670926.py:11: UserWarning: pandas only supports SQLAlchemy connectable (engine/connection) or database string URI or sqlite3 DBAPI2 connection. Other DBAPI2 objects are not tested. Please consider using SQLAlchemy.\n",
      "  questionnaire_columns = list(pd.read_sql_query(sql, conn).column_name)\n"
     ]
    },
    {
     "name": "stdout",
     "output_type": "stream",
     "text": [
      "\n",
      "    COPY redcap_data.covid19\n",
      "    FROM 'C:/Users/nogur/Documents/DeppClinic/Data/postgres_db/redcap_data/redcap_covid19_data.csv'\n",
      "    DELIMITER ','\n",
      "    CSV HEADER;\n",
      "\n",
      "    \n",
      "c_ssrs_clin\n"
     ]
    },
    {
     "name": "stderr",
     "output_type": "stream",
     "text": [
      "C:\\Users\\nogur\\AppData\\Local\\Temp\\ipykernel_6856\\1858670926.py:11: UserWarning: pandas only supports SQLAlchemy connectable (engine/connection) or database string URI or sqlite3 DBAPI2 connection. Other DBAPI2 objects are not tested. Please consider using SQLAlchemy.\n",
      "  questionnaire_columns = list(pd.read_sql_query(sql, conn).column_name)\n"
     ]
    },
    {
     "name": "stdout",
     "output_type": "stream",
     "text": [
      "\n",
      "    COPY redcap_data.c_ssrs_clin\n",
      "    FROM 'C:/Users/nogur/Documents/DeppClinic/Data/postgres_db/redcap_data/redcap_c_ssrs_clin_data.csv'\n",
      "    DELIMITER ','\n",
      "    CSV HEADER;\n",
      "\n",
      "    \n",
      "athens\n",
      "\n",
      "    COPY redcap_data.athens\n",
      "    FROM 'C:/Users/nogur/Documents/DeppClinic/Data/postgres_db/redcap_data/redcap_athens_data.csv'\n",
      "    DELIMITER ','\n",
      "    CSV HEADER;\n",
      "\n",
      "    \n"
     ]
    },
    {
     "name": "stderr",
     "output_type": "stream",
     "text": [
      "C:\\Users\\nogur\\AppData\\Local\\Temp\\ipykernel_6856\\1858670926.py:11: UserWarning: pandas only supports SQLAlchemy connectable (engine/connection) or database string URI or sqlite3 DBAPI2 connection. Other DBAPI2 objects are not tested. Please consider using SQLAlchemy.\n",
      "  questionnaire_columns = list(pd.read_sql_query(sql, conn).column_name)\n",
      "C:\\Users\\nogur\\AppData\\Local\\Temp\\ipykernel_6856\\1858670926.py:11: UserWarning: pandas only supports SQLAlchemy connectable (engine/connection) or database string URI or sqlite3 DBAPI2 connection. Other DBAPI2 objects are not tested. Please consider using SQLAlchemy.\n",
      "  questionnaire_columns = list(pd.read_sql_query(sql, conn).column_name)\n"
     ]
    },
    {
     "name": "stdout",
     "output_type": "stream",
     "text": [
      "sci_mother\n",
      "\n",
      "    COPY redcap_data.sci_mother\n",
      "    FROM 'C:/Users/nogur/Documents/DeppClinic/Data/postgres_db/redcap_data/redcap_sci_mother_data.csv'\n",
      "    DELIMITER ','\n",
      "    CSV HEADER;\n",
      "\n",
      "    \n",
      "ari_p_m\n",
      "\n",
      "    COPY redcap_data.ari_p_m\n",
      "    FROM 'C:/Users/nogur/Documents/DeppClinic/Data/postgres_db/redcap_data/redcap_ari_p_m_data.csv'\n",
      "    DELIMITER ','\n",
      "    CSV HEADER;\n",
      "\n",
      "    \n"
     ]
    },
    {
     "name": "stderr",
     "output_type": "stream",
     "text": [
      "C:\\Users\\nogur\\AppData\\Local\\Temp\\ipykernel_6856\\1858670926.py:11: UserWarning: pandas only supports SQLAlchemy connectable (engine/connection) or database string URI or sqlite3 DBAPI2 connection. Other DBAPI2 objects are not tested. Please consider using SQLAlchemy.\n",
      "  questionnaire_columns = list(pd.read_sql_query(sql, conn).column_name)\n"
     ]
    },
    {
     "name": "stdout",
     "output_type": "stream",
     "text": [
      "swan_m\n",
      "\n",
      "    COPY redcap_data.swan_m\n",
      "    FROM 'C:/Users/nogur/Documents/DeppClinic/Data/postgres_db/redcap_data/redcap_swan_m_data.csv'\n",
      "    DELIMITER ','\n",
      "    CSV HEADER;\n",
      "\n",
      "    \n"
     ]
    },
    {
     "name": "stderr",
     "output_type": "stream",
     "text": [
      "C:\\Users\\nogur\\AppData\\Local\\Temp\\ipykernel_6856\\1858670926.py:11: UserWarning: pandas only supports SQLAlchemy connectable (engine/connection) or database string URI or sqlite3 DBAPI2 connection. Other DBAPI2 objects are not tested. Please consider using SQLAlchemy.\n",
      "  questionnaire_columns = list(pd.read_sql_query(sql, conn).column_name)\n"
     ]
    },
    {
     "name": "stdout",
     "output_type": "stream",
     "text": [
      "ecr_f\n",
      "\n",
      "    COPY redcap_data.ecr_f\n",
      "    FROM 'C:/Users/nogur/Documents/DeppClinic/Data/postgres_db/redcap_data/redcap_ecr_f_data.csv'\n",
      "    DELIMITER ','\n",
      "    CSV HEADER;\n",
      "\n",
      "    \n",
      "c_ssrs_fu_maya\n"
     ]
    },
    {
     "name": "stderr",
     "output_type": "stream",
     "text": [
      "C:\\Users\\nogur\\AppData\\Local\\Temp\\ipykernel_6856\\1858670926.py:11: UserWarning: pandas only supports SQLAlchemy connectable (engine/connection) or database string URI or sqlite3 DBAPI2 connection. Other DBAPI2 objects are not tested. Please consider using SQLAlchemy.\n",
      "  questionnaire_columns = list(pd.read_sql_query(sql, conn).column_name)\n",
      "C:\\Users\\nogur\\AppData\\Local\\Temp\\ipykernel_6856\\1858670926.py:11: UserWarning: pandas only supports SQLAlchemy connectable (engine/connection) or database string URI or sqlite3 DBAPI2 connection. Other DBAPI2 objects are not tested. Please consider using SQLAlchemy.\n",
      "  questionnaire_columns = list(pd.read_sql_query(sql, conn).column_name)\n"
     ]
    },
    {
     "name": "stdout",
     "output_type": "stream",
     "text": [
      "\n",
      "    COPY redcap_data.c_ssrs_fu_maya\n",
      "    FROM 'C:/Users/nogur/Documents/DeppClinic/Data/postgres_db/redcap_data/redcap_c_ssrs_fu_maya_data.csv'\n",
      "    DELIMITER ','\n",
      "    CSV HEADER;\n",
      "\n",
      "    \n",
      "c_ssrs_stu\n"
     ]
    },
    {
     "name": "stderr",
     "output_type": "stream",
     "text": [
      "C:\\Users\\nogur\\AppData\\Local\\Temp\\ipykernel_6856\\1858670926.py:11: UserWarning: pandas only supports SQLAlchemy connectable (engine/connection) or database string URI or sqlite3 DBAPI2 connection. Other DBAPI2 objects are not tested. Please consider using SQLAlchemy.\n",
      "  questionnaire_columns = list(pd.read_sql_query(sql, conn).column_name)\n"
     ]
    },
    {
     "name": "stdout",
     "output_type": "stream",
     "text": [
      "\n",
      "    COPY redcap_data.c_ssrs_stu\n",
      "    FROM 'C:/Users/nogur/Documents/DeppClinic/Data/postgres_db/redcap_data/redcap_c_ssrs_stu_data.csv'\n",
      "    DELIMITER ','\n",
      "    CSV HEADER;\n",
      "\n",
      "    \n",
      "mfq\n",
      "\n",
      "    COPY redcap_data.mfq\n",
      "    FROM 'C:/Users/nogur/Documents/DeppClinic/Data/postgres_db/redcap_data/redcap_mfq_data.csv'\n",
      "    DELIMITER ','\n",
      "    CSV HEADER;\n",
      "\n",
      "    \n"
     ]
    },
    {
     "name": "stderr",
     "output_type": "stream",
     "text": [
      "C:\\Users\\nogur\\AppData\\Local\\Temp\\ipykernel_6856\\1858670926.py:11: UserWarning: pandas only supports SQLAlchemy connectable (engine/connection) or database string URI or sqlite3 DBAPI2 connection. Other DBAPI2 objects are not tested. Please consider using SQLAlchemy.\n",
      "  questionnaire_columns = list(pd.read_sql_query(sql, conn).column_name)\n"
     ]
    },
    {
     "name": "stdout",
     "output_type": "stream",
     "text": [
      "sas\n"
     ]
    },
    {
     "name": "stderr",
     "output_type": "stream",
     "text": [
      "C:\\Users\\nogur\\AppData\\Local\\Temp\\ipykernel_6856\\1858670926.py:11: UserWarning: pandas only supports SQLAlchemy connectable (engine/connection) or database string URI or sqlite3 DBAPI2 connection. Other DBAPI2 objects are not tested. Please consider using SQLAlchemy.\n",
      "  questionnaire_columns = list(pd.read_sql_query(sql, conn).column_name)\n"
     ]
    },
    {
     "name": "stdout",
     "output_type": "stream",
     "text": [
      "\n",
      "    COPY redcap_data.sas\n",
      "    FROM 'C:/Users/nogur/Documents/DeppClinic/Data/postgres_db/redcap_data/redcap_sas_data.csv'\n",
      "    DELIMITER ','\n",
      "    CSV HEADER;\n",
      "\n",
      "    \n",
      "sci_father\n",
      "\n",
      "    COPY redcap_data.sci_father\n",
      "    FROM 'C:/Users/nogur/Documents/DeppClinic/Data/postgres_db/redcap_data/redcap_sci_father_data.csv'\n",
      "    DELIMITER ','\n",
      "    CSV HEADER;\n",
      "\n",
      "    \n"
     ]
    },
    {
     "name": "stderr",
     "output_type": "stream",
     "text": [
      "C:\\Users\\nogur\\AppData\\Local\\Temp\\ipykernel_6856\\1858670926.py:11: UserWarning: pandas only supports SQLAlchemy connectable (engine/connection) or database string URI or sqlite3 DBAPI2 connection. Other DBAPI2 objects are not tested. Please consider using SQLAlchemy.\n",
      "  questionnaire_columns = list(pd.read_sql_query(sql, conn).column_name)\n",
      "C:\\Users\\nogur\\AppData\\Local\\Temp\\ipykernel_6856\\1858670926.py:11: UserWarning: pandas only supports SQLAlchemy connectable (engine/connection) or database string URI or sqlite3 DBAPI2 connection. Other DBAPI2 objects are not tested. Please consider using SQLAlchemy.\n",
      "  questionnaire_columns = list(pd.read_sql_query(sql, conn).column_name)\n"
     ]
    },
    {
     "name": "stdout",
     "output_type": "stream",
     "text": [
      "ari_s\n",
      "\n",
      "    COPY redcap_data.ari_s\n",
      "    FROM 'C:/Users/nogur/Documents/DeppClinic/Data/postgres_db/redcap_data/redcap_ari_s_data.csv'\n",
      "    DELIMITER ','\n",
      "    CSV HEADER;\n",
      "\n",
      "    \n",
      "erq_ca\n"
     ]
    },
    {
     "name": "stderr",
     "output_type": "stream",
     "text": [
      "C:\\Users\\nogur\\AppData\\Local\\Temp\\ipykernel_6856\\1858670926.py:11: UserWarning: pandas only supports SQLAlchemy connectable (engine/connection) or database string URI or sqlite3 DBAPI2 connection. Other DBAPI2 objects are not tested. Please consider using SQLAlchemy.\n",
      "  questionnaire_columns = list(pd.read_sql_query(sql, conn).column_name)\n",
      "C:\\Users\\nogur\\AppData\\Local\\Temp\\ipykernel_6856\\1858670926.py:11: UserWarning: pandas only supports SQLAlchemy connectable (engine/connection) or database string URI or sqlite3 DBAPI2 connection. Other DBAPI2 objects are not tested. Please consider using SQLAlchemy.\n",
      "  questionnaire_columns = list(pd.read_sql_query(sql, conn).column_name)\n"
     ]
    },
    {
     "name": "stdout",
     "output_type": "stream",
     "text": [
      "\n",
      "    COPY redcap_data.erq_ca\n",
      "    FROM 'C:/Users/nogur/Documents/DeppClinic/Data/postgres_db/redcap_data/redcap_erq_ca_data.csv'\n",
      "    DELIMITER ','\n",
      "    CSV HEADER;\n",
      "\n",
      "    \n",
      "ders\n",
      "\n",
      "    COPY redcap_data.ders\n",
      "    FROM 'C:/Users/nogur/Documents/DeppClinic/Data/postgres_db/redcap_data/redcap_ders_data.csv'\n",
      "    DELIMITER ','\n",
      "    CSV HEADER;\n",
      "\n",
      "    \n",
      "wai\n",
      "\n",
      "    COPY redcap_data.wai\n",
      "    FROM 'C:/Users/nogur/Documents/DeppClinic/Data/postgres_db/redcap_data/redcap_wai_data.csv'\n",
      "    DELIMITER ','\n",
      "    CSV HEADER;\n",
      "\n",
      "    \n"
     ]
    },
    {
     "name": "stderr",
     "output_type": "stream",
     "text": [
      "C:\\Users\\nogur\\AppData\\Local\\Temp\\ipykernel_6856\\1858670926.py:11: UserWarning: pandas only supports SQLAlchemy connectable (engine/connection) or database string URI or sqlite3 DBAPI2 connection. Other DBAPI2 objects are not tested. Please consider using SQLAlchemy.\n",
      "  questionnaire_columns = list(pd.read_sql_query(sql, conn).column_name)\n"
     ]
    },
    {
     "name": "stdout",
     "output_type": "stream",
     "text": [
      "cshq_m\n",
      "\n",
      "    COPY redcap_data.cshq_m\n",
      "    FROM 'C:/Users/nogur/Documents/DeppClinic/Data/postgres_db/redcap_data/redcap_cshq_m_data.csv'\n",
      "    DELIMITER ','\n",
      "    CSV HEADER;\n",
      "\n",
      "    \n",
      "sdq_parents_m\n"
     ]
    },
    {
     "name": "stderr",
     "output_type": "stream",
     "text": [
      "C:\\Users\\nogur\\AppData\\Local\\Temp\\ipykernel_6856\\1858670926.py:11: UserWarning: pandas only supports SQLAlchemy connectable (engine/connection) or database string URI or sqlite3 DBAPI2 connection. Other DBAPI2 objects are not tested. Please consider using SQLAlchemy.\n",
      "  questionnaire_columns = list(pd.read_sql_query(sql, conn).column_name)\n",
      "C:\\Users\\nogur\\AppData\\Local\\Temp\\ipykernel_6856\\1858670926.py:11: UserWarning: pandas only supports SQLAlchemy connectable (engine/connection) or database string URI or sqlite3 DBAPI2 connection. Other DBAPI2 objects are not tested. Please consider using SQLAlchemy.\n",
      "  questionnaire_columns = list(pd.read_sql_query(sql, conn).column_name)\n"
     ]
    },
    {
     "name": "stdout",
     "output_type": "stream",
     "text": [
      "\n",
      "    COPY redcap_data.sdq_parents_m\n",
      "    FROM 'C:/Users/nogur/Documents/DeppClinic/Data/postgres_db/redcap_data/redcap_sdq_parents_m_data.csv'\n",
      "    DELIMITER ','\n",
      "    CSV HEADER;\n",
      "\n",
      "    \n",
      "dass_m\n",
      "\n",
      "    COPY redcap_data.dass_m\n",
      "    FROM 'C:/Users/nogur/Documents/DeppClinic/Data/postgres_db/redcap_data/redcap_dass_m_data.csv'\n",
      "    DELIMITER ','\n",
      "    CSV HEADER;\n",
      "\n",
      "    \n",
      "ders_p_m\n"
     ]
    },
    {
     "name": "stderr",
     "output_type": "stream",
     "text": [
      "C:\\Users\\nogur\\AppData\\Local\\Temp\\ipykernel_6856\\1858670926.py:11: UserWarning: pandas only supports SQLAlchemy connectable (engine/connection) or database string URI or sqlite3 DBAPI2 connection. Other DBAPI2 objects are not tested. Please consider using SQLAlchemy.\n",
      "  questionnaire_columns = list(pd.read_sql_query(sql, conn).column_name)\n",
      "C:\\Users\\nogur\\AppData\\Local\\Temp\\ipykernel_6856\\1858670926.py:11: UserWarning: pandas only supports SQLAlchemy connectable (engine/connection) or database string URI or sqlite3 DBAPI2 connection. Other DBAPI2 objects are not tested. Please consider using SQLAlchemy.\n",
      "  questionnaire_columns = list(pd.read_sql_query(sql, conn).column_name)\n"
     ]
    },
    {
     "name": "stdout",
     "output_type": "stream",
     "text": [
      "\n",
      "    COPY redcap_data.ders_p_m\n",
      "    FROM 'C:/Users/nogur/Documents/DeppClinic/Data/postgres_db/redcap_data/redcap_ders_p_m_data.csv'\n",
      "    DELIMITER ','\n",
      "    CSV HEADER;\n",
      "\n",
      "    \n",
      "ecr_m\n",
      "\n",
      "    COPY redcap_data.ecr_m\n",
      "    FROM 'C:/Users/nogur/Documents/DeppClinic/Data/postgres_db/redcap_data/redcap_ecr_m_data.csv'\n",
      "    DELIMITER ','\n",
      "    CSV HEADER;\n",
      "\n",
      "    \n"
     ]
    },
    {
     "name": "stderr",
     "output_type": "stream",
     "text": [
      "C:\\Users\\nogur\\AppData\\Local\\Temp\\ipykernel_6856\\1858670926.py:11: UserWarning: pandas only supports SQLAlchemy connectable (engine/connection) or database string URI or sqlite3 DBAPI2 connection. Other DBAPI2 objects are not tested. Please consider using SQLAlchemy.\n",
      "  questionnaire_columns = list(pd.read_sql_query(sql, conn).column_name)\n"
     ]
    },
    {
     "name": "stdout",
     "output_type": "stream",
     "text": [
      "cshq_f\n",
      "\n",
      "    COPY redcap_data.cshq_f\n",
      "    FROM 'C:/Users/nogur/Documents/DeppClinic/Data/postgres_db/redcap_data/redcap_cshq_f_data.csv'\n",
      "    DELIMITER ','\n",
      "    CSV HEADER;\n",
      "\n",
      "    \n"
     ]
    },
    {
     "name": "stderr",
     "output_type": "stream",
     "text": [
      "C:\\Users\\nogur\\AppData\\Local\\Temp\\ipykernel_6856\\1858670926.py:11: UserWarning: pandas only supports SQLAlchemy connectable (engine/connection) or database string URI or sqlite3 DBAPI2 connection. Other DBAPI2 objects are not tested. Please consider using SQLAlchemy.\n",
      "  questionnaire_columns = list(pd.read_sql_query(sql, conn).column_name)\n"
     ]
    },
    {
     "name": "stdout",
     "output_type": "stream",
     "text": [
      "erq_f\n"
     ]
    },
    {
     "name": "stderr",
     "output_type": "stream",
     "text": [
      "C:\\Users\\nogur\\AppData\\Local\\Temp\\ipykernel_6856\\1858670926.py:11: UserWarning: pandas only supports SQLAlchemy connectable (engine/connection) or database string URI or sqlite3 DBAPI2 connection. Other DBAPI2 objects are not tested. Please consider using SQLAlchemy.\n",
      "  questionnaire_columns = list(pd.read_sql_query(sql, conn).column_name)\n"
     ]
    },
    {
     "name": "stdout",
     "output_type": "stream",
     "text": [
      "\n",
      "    COPY redcap_data.erq_f\n",
      "    FROM 'C:/Users/nogur/Documents/DeppClinic/Data/postgres_db/redcap_data/redcap_erq_f_data.csv'\n",
      "    DELIMITER ','\n",
      "    CSV HEADER;\n",
      "\n",
      "    \n",
      "ari_p_f\n",
      "\n",
      "    COPY redcap_data.ari_p_f\n",
      "    FROM 'C:/Users/nogur/Documents/DeppClinic/Data/postgres_db/redcap_data/redcap_ari_p_f_data.csv'\n",
      "    DELIMITER ','\n",
      "    CSV HEADER;\n",
      "\n",
      "    \n"
     ]
    },
    {
     "name": "stderr",
     "output_type": "stream",
     "text": [
      "C:\\Users\\nogur\\AppData\\Local\\Temp\\ipykernel_6856\\1858670926.py:11: UserWarning: pandas only supports SQLAlchemy connectable (engine/connection) or database string URI or sqlite3 DBAPI2 connection. Other DBAPI2 objects are not tested. Please consider using SQLAlchemy.\n",
      "  questionnaire_columns = list(pd.read_sql_query(sql, conn).column_name)\n"
     ]
    },
    {
     "name": "stdout",
     "output_type": "stream",
     "text": [
      "opening_clinicians\n",
      "\n",
      "    COPY redcap_data.opening_clinicians\n",
      "    FROM 'C:/Users/nogur/Documents/DeppClinic/Data/postgres_db/redcap_data/redcap_opening_clinicians_data.csv'\n",
      "    DELIMITER ','\n",
      "    CSV HEADER;\n",
      "\n",
      "    \n",
      "wai_immirisk_clin\n"
     ]
    },
    {
     "name": "stderr",
     "output_type": "stream",
     "text": [
      "C:\\Users\\nogur\\AppData\\Local\\Temp\\ipykernel_6856\\1858670926.py:11: UserWarning: pandas only supports SQLAlchemy connectable (engine/connection) or database string URI or sqlite3 DBAPI2 connection. Other DBAPI2 objects are not tested. Please consider using SQLAlchemy.\n",
      "  questionnaire_columns = list(pd.read_sql_query(sql, conn).column_name)\n",
      "C:\\Users\\nogur\\AppData\\Local\\Temp\\ipykernel_6856\\1858670926.py:11: UserWarning: pandas only supports SQLAlchemy connectable (engine/connection) or database string URI or sqlite3 DBAPI2 connection. Other DBAPI2 objects are not tested. Please consider using SQLAlchemy.\n",
      "  questionnaire_columns = list(pd.read_sql_query(sql, conn).column_name)\n"
     ]
    },
    {
     "name": "stdout",
     "output_type": "stream",
     "text": [
      "\n",
      "    COPY redcap_data.wai_immirisk_clin\n",
      "    FROM 'C:/Users/nogur/Documents/DeppClinic/Data/postgres_db/redcap_data/redcap_wai_immirisk_clin_data.csv'\n",
      "    DELIMITER ','\n",
      "    CSV HEADER;\n",
      "\n",
      "    \n",
      "remote_clin\n"
     ]
    },
    {
     "name": "stderr",
     "output_type": "stream",
     "text": [
      "C:\\Users\\nogur\\AppData\\Local\\Temp\\ipykernel_6856\\1858670926.py:11: UserWarning: pandas only supports SQLAlchemy connectable (engine/connection) or database string URI or sqlite3 DBAPI2 connection. Other DBAPI2 objects are not tested. Please consider using SQLAlchemy.\n",
      "  questionnaire_columns = list(pd.read_sql_query(sql, conn).column_name)\n"
     ]
    },
    {
     "name": "stdout",
     "output_type": "stream",
     "text": [
      "\n",
      "    COPY redcap_data.remote_clin\n",
      "    FROM 'C:/Users/nogur/Documents/DeppClinic/Data/postgres_db/redcap_data/redcap_remote_clin_data.csv'\n",
      "    DELIMITER ','\n",
      "    CSV HEADER;\n",
      "\n",
      "    \n",
      "er_questionnaire_clin\n"
     ]
    },
    {
     "name": "stderr",
     "output_type": "stream",
     "text": [
      "C:\\Users\\nogur\\AppData\\Local\\Temp\\ipykernel_6856\\1858670926.py:11: UserWarning: pandas only supports SQLAlchemy connectable (engine/connection) or database string URI or sqlite3 DBAPI2 connection. Other DBAPI2 objects are not tested. Please consider using SQLAlchemy.\n",
      "  questionnaire_columns = list(pd.read_sql_query(sql, conn).column_name)\n"
     ]
    },
    {
     "name": "stdout",
     "output_type": "stream",
     "text": [
      "\n",
      "    COPY redcap_data.er_questionnaire_clin\n",
      "    FROM 'C:/Users/nogur/Documents/DeppClinic/Data/postgres_db/redcap_data/redcap_er_questionnaire_clin_data.csv'\n",
      "    DELIMITER ','\n",
      "    CSV HEADER;\n",
      "\n",
      "    \n",
      "sdq_parents_f\n"
     ]
    },
    {
     "name": "stderr",
     "output_type": "stream",
     "text": [
      "C:\\Users\\nogur\\AppData\\Local\\Temp\\ipykernel_6856\\1858670926.py:11: UserWarning: pandas only supports SQLAlchemy connectable (engine/connection) or database string URI or sqlite3 DBAPI2 connection. Other DBAPI2 objects are not tested. Please consider using SQLAlchemy.\n",
      "  questionnaire_columns = list(pd.read_sql_query(sql, conn).column_name)\n"
     ]
    },
    {
     "name": "stdout",
     "output_type": "stream",
     "text": [
      "\n",
      "    COPY redcap_data.sdq_parents_f\n",
      "    FROM 'C:/Users/nogur/Documents/DeppClinic/Data/postgres_db/redcap_data/redcap_sdq_parents_f_data.csv'\n",
      "    DELIMITER ','\n",
      "    CSV HEADER;\n",
      "\n",
      "    \n",
      "suicide_form_clin\n"
     ]
    },
    {
     "name": "stderr",
     "output_type": "stream",
     "text": [
      "C:\\Users\\nogur\\AppData\\Local\\Temp\\ipykernel_6856\\1858670926.py:11: UserWarning: pandas only supports SQLAlchemy connectable (engine/connection) or database string URI or sqlite3 DBAPI2 connection. Other DBAPI2 objects are not tested. Please consider using SQLAlchemy.\n",
      "  questionnaire_columns = list(pd.read_sql_query(sql, conn).column_name)\n"
     ]
    },
    {
     "name": "stdout",
     "output_type": "stream",
     "text": [
      "\n",
      "    COPY redcap_data.suicide_form_clin\n",
      "    FROM 'C:/Users/nogur/Documents/DeppClinic/Data/postgres_db/redcap_data/redcap_suicide_form_clin_data.csv'\n",
      "    DELIMITER ','\n",
      "    CSV HEADER;\n",
      "\n",
      "    \n",
      "mini_kid_sum_clin\n"
     ]
    },
    {
     "name": "stderr",
     "output_type": "stream",
     "text": [
      "C:\\Users\\nogur\\AppData\\Local\\Temp\\ipykernel_6856\\1858670926.py:11: UserWarning: pandas only supports SQLAlchemy connectable (engine/connection) or database string URI or sqlite3 DBAPI2 connection. Other DBAPI2 objects are not tested. Please consider using SQLAlchemy.\n",
      "  questionnaire_columns = list(pd.read_sql_query(sql, conn).column_name)\n"
     ]
    },
    {
     "name": "stdout",
     "output_type": "stream",
     "text": [
      "\n",
      "    COPY redcap_data.mini_kid_sum_clin\n",
      "    FROM 'C:/Users/nogur/Documents/DeppClinic/Data/postgres_db/redcap_data/redcap_mini_kid_sum_clin_data.csv'\n",
      "    DELIMITER ','\n",
      "    CSV HEADER;\n",
      "\n",
      "    \n",
      "trq_sf_maris_stu\n",
      "\n",
      "    COPY redcap_data.trq_sf_maris_stu\n",
      "    FROM 'C:/Users/nogur/Documents/DeppClinic/Data/postgres_db/redcap_data/redcap_trq_sf_maris_stu_data.csv'\n",
      "    DELIMITER ','\n",
      "    CSV HEADER;\n",
      "\n",
      "    \n"
     ]
    },
    {
     "name": "stderr",
     "output_type": "stream",
     "text": [
      "C:\\Users\\nogur\\AppData\\Local\\Temp\\ipykernel_6856\\1858670926.py:11: UserWarning: pandas only supports SQLAlchemy connectable (engine/connection) or database string URI or sqlite3 DBAPI2 connection. Other DBAPI2 objects are not tested. Please consider using SQLAlchemy.\n",
      "  questionnaire_columns = list(pd.read_sql_query(sql, conn).column_name)\n",
      "C:\\Users\\nogur\\AppData\\Local\\Temp\\ipykernel_6856\\1858670926.py:11: UserWarning: pandas only supports SQLAlchemy connectable (engine/connection) or database string URI or sqlite3 DBAPI2 connection. Other DBAPI2 objects are not tested. Please consider using SQLAlchemy.\n",
      "  questionnaire_columns = list(pd.read_sql_query(sql, conn).column_name)\n"
     ]
    },
    {
     "name": "stdout",
     "output_type": "stream",
     "text": [
      "mini_kid_sum_stu\n",
      "\n",
      "    COPY redcap_data.mini_kid_sum_stu\n",
      "    FROM 'C:/Users/nogur/Documents/DeppClinic/Data/postgres_db/redcap_data/redcap_mini_kid_sum_stu_data.csv'\n",
      "    DELIMITER ','\n",
      "    CSV HEADER;\n",
      "\n",
      "    \n",
      "chameleon\n",
      "\n",
      "    COPY redcap_data.chameleon\n",
      "    FROM 'C:/Users/nogur/Documents/DeppClinic/Data/postgres_db/redcap_data/redcap_chameleon_data.csv'\n",
      "    DELIMITER ','\n",
      "    CSV HEADER;\n",
      "\n",
      "    \n"
     ]
    },
    {
     "name": "stderr",
     "output_type": "stream",
     "text": [
      "C:\\Users\\nogur\\AppData\\Local\\Temp\\ipykernel_6856\\1858670926.py:11: UserWarning: pandas only supports SQLAlchemy connectable (engine/connection) or database string URI or sqlite3 DBAPI2 connection. Other DBAPI2 objects are not tested. Please consider using SQLAlchemy.\n",
      "  questionnaire_columns = list(pd.read_sql_query(sql, conn).column_name)\n",
      "C:\\Users\\nogur\\AppData\\Local\\Temp\\ipykernel_6856\\1858670926.py:11: UserWarning: pandas only supports SQLAlchemy connectable (engine/connection) or database string URI or sqlite3 DBAPI2 connection. Other DBAPI2 objects are not tested. Please consider using SQLAlchemy.\n",
      "  questionnaire_columns = list(pd.read_sql_query(sql, conn).column_name)\n"
     ]
    },
    {
     "name": "stdout",
     "output_type": "stream",
     "text": [
      "erq_m\n",
      "\n",
      "    COPY redcap_data.erq_m\n",
      "    FROM 'C:/Users/nogur/Documents/DeppClinic/Data/postgres_db/redcap_data/redcap_erq_m_data.csv'\n",
      "    DELIMITER ','\n",
      "    CSV HEADER;\n",
      "\n",
      "    \n",
      "cts_m\n"
     ]
    },
    {
     "name": "stderr",
     "output_type": "stream",
     "text": [
      "C:\\Users\\nogur\\AppData\\Local\\Temp\\ipykernel_6856\\1858670926.py:11: UserWarning: pandas only supports SQLAlchemy connectable (engine/connection) or database string URI or sqlite3 DBAPI2 connection. Other DBAPI2 objects are not tested. Please consider using SQLAlchemy.\n",
      "  questionnaire_columns = list(pd.read_sql_query(sql, conn).column_name)\n",
      "C:\\Users\\nogur\\AppData\\Local\\Temp\\ipykernel_6856\\1858670926.py:11: UserWarning: pandas only supports SQLAlchemy connectable (engine/connection) or database string URI or sqlite3 DBAPI2 connection. Other DBAPI2 objects are not tested. Please consider using SQLAlchemy.\n",
      "  questionnaire_columns = list(pd.read_sql_query(sql, conn).column_name)\n"
     ]
    },
    {
     "name": "stdout",
     "output_type": "stream",
     "text": [
      "\n",
      "    COPY redcap_data.cts_m\n",
      "    FROM 'C:/Users/nogur/Documents/DeppClinic/Data/postgres_db/redcap_data/redcap_cts_m_data.csv'\n",
      "    DELIMITER ','\n",
      "    CSV HEADER;\n",
      "\n",
      "    \n",
      "moas_m\n",
      "\n",
      "    COPY redcap_data.moas_m\n",
      "    FROM 'C:/Users/nogur/Documents/DeppClinic/Data/postgres_db/redcap_data/redcap_moas_m_data.csv'\n",
      "    DELIMITER ','\n",
      "    CSV HEADER;\n",
      "\n",
      "    \n",
      "ending_parent_m\n",
      "\n",
      "    COPY redcap_data.ending_parent_m\n",
      "    FROM 'C:/Users/nogur/Documents/DeppClinic/Data/postgres_db/redcap_data/redcap_ending_parent_m_data.csv'\n",
      "    DELIMITER ','\n",
      "    CSV HEADER;\n",
      "\n",
      "    \n",
      "opening_parents_f\n"
     ]
    },
    {
     "name": "stderr",
     "output_type": "stream",
     "text": [
      "C:\\Users\\nogur\\AppData\\Local\\Temp\\ipykernel_6856\\1858670926.py:11: UserWarning: pandas only supports SQLAlchemy connectable (engine/connection) or database string URI or sqlite3 DBAPI2 connection. Other DBAPI2 objects are not tested. Please consider using SQLAlchemy.\n",
      "  questionnaire_columns = list(pd.read_sql_query(sql, conn).column_name)\n",
      "C:\\Users\\nogur\\AppData\\Local\\Temp\\ipykernel_6856\\1858670926.py:11: UserWarning: pandas only supports SQLAlchemy connectable (engine/connection) or database string URI or sqlite3 DBAPI2 connection. Other DBAPI2 objects are not tested. Please consider using SQLAlchemy.\n",
      "  questionnaire_columns = list(pd.read_sql_query(sql, conn).column_name)\n"
     ]
    },
    {
     "name": "stdout",
     "output_type": "stream",
     "text": [
      "\n",
      "    COPY redcap_data.opening_parents_f\n",
      "    FROM 'C:/Users/nogur/Documents/DeppClinic/Data/postgres_db/redcap_data/redcap_opening_parents_f_data.csv'\n",
      "    DELIMITER ','\n",
      "    CSV HEADER;\n",
      "\n",
      "    \n",
      "ders_p_f\n"
     ]
    },
    {
     "name": "stderr",
     "output_type": "stream",
     "text": [
      "C:\\Users\\nogur\\AppData\\Local\\Temp\\ipykernel_6856\\1858670926.py:11: UserWarning: pandas only supports SQLAlchemy connectable (engine/connection) or database string URI or sqlite3 DBAPI2 connection. Other DBAPI2 objects are not tested. Please consider using SQLAlchemy.\n",
      "  questionnaire_columns = list(pd.read_sql_query(sql, conn).column_name)\n"
     ]
    },
    {
     "name": "stdout",
     "output_type": "stream",
     "text": [
      "\n",
      "    COPY redcap_data.ders_p_f\n",
      "    FROM 'C:/Users/nogur/Documents/DeppClinic/Data/postgres_db/redcap_data/redcap_ders_p_f_data.csv'\n",
      "    DELIMITER ','\n",
      "    CSV HEADER;\n",
      "\n",
      "    \n",
      "cdrsr_clin\n"
     ]
    },
    {
     "name": "stderr",
     "output_type": "stream",
     "text": [
      "C:\\Users\\nogur\\AppData\\Local\\Temp\\ipykernel_6856\\1858670926.py:11: UserWarning: pandas only supports SQLAlchemy connectable (engine/connection) or database string URI or sqlite3 DBAPI2 connection. Other DBAPI2 objects are not tested. Please consider using SQLAlchemy.\n",
      "  questionnaire_columns = list(pd.read_sql_query(sql, conn).column_name)\n",
      "C:\\Users\\nogur\\AppData\\Local\\Temp\\ipykernel_6856\\1858670926.py:11: UserWarning: pandas only supports SQLAlchemy connectable (engine/connection) or database string URI or sqlite3 DBAPI2 connection. Other DBAPI2 objects are not tested. Please consider using SQLAlchemy.\n",
      "  questionnaire_columns = list(pd.read_sql_query(sql, conn).column_name)\n"
     ]
    },
    {
     "name": "stdout",
     "output_type": "stream",
     "text": [
      "\n",
      "    COPY redcap_data.cdrsr_clin\n",
      "    FROM 'C:/Users/nogur/Documents/DeppClinic/Data/postgres_db/redcap_data/redcap_cdrsr_clin_data.csv'\n",
      "    DELIMITER ','\n",
      "    CSV HEADER;\n",
      "\n",
      "    \n",
      "ffq\n",
      "\n",
      "    COPY redcap_data.ffq\n",
      "    FROM 'C:/Users/nogur/Documents/DeppClinic/Data/postgres_db/redcap_data/redcap_ffq_data.csv'\n",
      "    DELIMITER ','\n",
      "    CSV HEADER;\n",
      "\n",
      "    \n",
      "opening_students\n",
      "\n",
      "    COPY redcap_data.opening_students\n",
      "    FROM 'C:/Users/nogur/Documents/DeppClinic/Data/postgres_db/redcap_data/redcap_opening_students_data.csv'\n",
      "    DELIMITER ','\n",
      "    CSV HEADER;\n",
      "\n",
      "    \n",
      "cgi_s_stu\n"
     ]
    },
    {
     "name": "stderr",
     "output_type": "stream",
     "text": [
      "C:\\Users\\nogur\\AppData\\Local\\Temp\\ipykernel_6856\\1858670926.py:11: UserWarning: pandas only supports SQLAlchemy connectable (engine/connection) or database string URI or sqlite3 DBAPI2 connection. Other DBAPI2 objects are not tested. Please consider using SQLAlchemy.\n",
      "  questionnaire_columns = list(pd.read_sql_query(sql, conn).column_name)\n",
      "C:\\Users\\nogur\\AppData\\Local\\Temp\\ipykernel_6856\\1858670926.py:11: UserWarning: pandas only supports SQLAlchemy connectable (engine/connection) or database string URI or sqlite3 DBAPI2 connection. Other DBAPI2 objects are not tested. Please consider using SQLAlchemy.\n",
      "  questionnaire_columns = list(pd.read_sql_query(sql, conn).column_name)\n",
      "C:\\Users\\nogur\\AppData\\Local\\Temp\\ipykernel_6856\\1858670926.py:11: UserWarning: pandas only supports SQLAlchemy connectable (engine/connection) or database string URI or sqlite3 DBAPI2 connection. Other DBAPI2 objects are not tested. Please consider using SQLAlchemy.\n",
      "  questionnaire_columns = list(pd.read_sql_query(sql, conn).column_name)\n"
     ]
    },
    {
     "name": "stdout",
     "output_type": "stream",
     "text": [
      "\n",
      "    COPY redcap_data.cgi_s_stu\n",
      "    FROM 'C:/Users/nogur/Documents/DeppClinic/Data/postgres_db/redcap_data/redcap_cgi_s_stu_data.csv'\n",
      "    DELIMITER ','\n",
      "    CSV HEADER;\n",
      "\n",
      "    \n",
      "remote_stu\n",
      "\n",
      "    COPY redcap_data.remote_stu\n",
      "    FROM 'C:/Users/nogur/Documents/DeppClinic/Data/postgres_db/redcap_data/redcap_remote_stu_data.csv'\n",
      "    DELIMITER ','\n",
      "    CSV HEADER;\n",
      "\n",
      "    \n",
      "cps_stu\n",
      "\n",
      "    COPY redcap_data.cps_stu\n",
      "    FROM 'C:/Users/nogur/Documents/DeppClinic/Data/postgres_db/redcap_data/redcap_cps_stu_data.csv'\n",
      "    DELIMITER ','\n",
      "    CSV HEADER;\n",
      "\n",
      "    \n",
      "cps_clin\n"
     ]
    },
    {
     "name": "stderr",
     "output_type": "stream",
     "text": [
      "C:\\Users\\nogur\\AppData\\Local\\Temp\\ipykernel_6856\\1858670926.py:11: UserWarning: pandas only supports SQLAlchemy connectable (engine/connection) or database string URI or sqlite3 DBAPI2 connection. Other DBAPI2 objects are not tested. Please consider using SQLAlchemy.\n",
      "  questionnaire_columns = list(pd.read_sql_query(sql, conn).column_name)\n",
      "C:\\Users\\nogur\\AppData\\Local\\Temp\\ipykernel_6856\\1858670926.py:11: UserWarning: pandas only supports SQLAlchemy connectable (engine/connection) or database string URI or sqlite3 DBAPI2 connection. Other DBAPI2 objects are not tested. Please consider using SQLAlchemy.\n",
      "  questionnaire_columns = list(pd.read_sql_query(sql, conn).column_name)\n"
     ]
    },
    {
     "name": "stdout",
     "output_type": "stream",
     "text": [
      "\n",
      "    COPY redcap_data.cps_clin\n",
      "    FROM 'C:/Users/nogur/Documents/DeppClinic/Data/postgres_db/redcap_data/redcap_cps_clin_data.csv'\n",
      "    DELIMITER ','\n",
      "    CSV HEADER;\n",
      "\n",
      "    \n",
      "cgi_s_clin\n",
      "\n",
      "    COPY redcap_data.cgi_s_clin\n",
      "    FROM 'C:/Users/nogur/Documents/DeppClinic/Data/postgres_db/redcap_data/redcap_cgi_s_clin_data.csv'\n",
      "    DELIMITER ','\n",
      "    CSV HEADER;\n",
      "\n",
      "    \n"
     ]
    },
    {
     "name": "stderr",
     "output_type": "stream",
     "text": [
      "C:\\Users\\nogur\\AppData\\Local\\Temp\\ipykernel_6856\\1858670926.py:11: UserWarning: pandas only supports SQLAlchemy connectable (engine/connection) or database string URI or sqlite3 DBAPI2 connection. Other DBAPI2 objects are not tested. Please consider using SQLAlchemy.\n",
      "  questionnaire_columns = list(pd.read_sql_query(sql, conn).column_name)\n",
      "C:\\Users\\nogur\\AppData\\Local\\Temp\\ipykernel_6856\\1858670926.py:11: UserWarning: pandas only supports SQLAlchemy connectable (engine/connection) or database string URI or sqlite3 DBAPI2 connection. Other DBAPI2 objects are not tested. Please consider using SQLAlchemy.\n",
      "  questionnaire_columns = list(pd.read_sql_query(sql, conn).column_name)\n"
     ]
    },
    {
     "name": "stdout",
     "output_type": "stream",
     "text": [
      "opening_therapist_battery\n",
      "\n",
      "    COPY redcap_data.opening_therapist_battery\n",
      "    FROM 'C:/Users/nogur/Documents/DeppClinic/Data/postgres_db/redcap_data/redcap_opening_therapist_battery_data.csv'\n",
      "    DELIMITER ','\n",
      "    CSV HEADER;\n",
      "\n",
      "    \n",
      "maris_y_scars_clin\n",
      "\n",
      "    COPY redcap_data.maris_y_scars_clin\n",
      "    FROM 'C:/Users/nogur/Documents/DeppClinic/Data/postgres_db/redcap_data/redcap_maris_y_scars_clin_data.csv'\n",
      "    DELIMITER ','\n",
      "    CSV HEADER;\n",
      "\n",
      "    \n",
      "ending_parent_f\n"
     ]
    },
    {
     "name": "stderr",
     "output_type": "stream",
     "text": [
      "C:\\Users\\nogur\\AppData\\Local\\Temp\\ipykernel_6856\\1858670926.py:11: UserWarning: pandas only supports SQLAlchemy connectable (engine/connection) or database string URI or sqlite3 DBAPI2 connection. Other DBAPI2 objects are not tested. Please consider using SQLAlchemy.\n",
      "  questionnaire_columns = list(pd.read_sql_query(sql, conn).column_name)\n",
      "C:\\Users\\nogur\\AppData\\Local\\Temp\\ipykernel_6856\\1858670926.py:11: UserWarning: pandas only supports SQLAlchemy connectable (engine/connection) or database string URI or sqlite3 DBAPI2 connection. Other DBAPI2 objects are not tested. Please consider using SQLAlchemy.\n",
      "  questionnaire_columns = list(pd.read_sql_query(sql, conn).column_name)\n"
     ]
    },
    {
     "name": "stdout",
     "output_type": "stream",
     "text": [
      "\n",
      "    COPY redcap_data.ending_parent_f\n",
      "    FROM 'C:/Users/nogur/Documents/DeppClinic/Data/postgres_db/redcap_data/redcap_ending_parent_f_data.csv'\n",
      "    DELIMITER ','\n",
      "    CSV HEADER;\n",
      "\n",
      "    \n",
      "moas_f\n"
     ]
    },
    {
     "name": "stderr",
     "output_type": "stream",
     "text": [
      "C:\\Users\\nogur\\AppData\\Local\\Temp\\ipykernel_6856\\1858670926.py:11: UserWarning: pandas only supports SQLAlchemy connectable (engine/connection) or database string URI or sqlite3 DBAPI2 connection. Other DBAPI2 objects are not tested. Please consider using SQLAlchemy.\n",
      "  questionnaire_columns = list(pd.read_sql_query(sql, conn).column_name)\n"
     ]
    },
    {
     "name": "stdout",
     "output_type": "stream",
     "text": [
      "\n",
      "    COPY redcap_data.moas_f\n",
      "    FROM 'C:/Users/nogur/Documents/DeppClinic/Data/postgres_db/redcap_data/redcap_moas_f_data.csv'\n",
      "    DELIMITER ','\n",
      "    CSV HEADER;\n",
      "\n",
      "    \n",
      "cts_f\n"
     ]
    },
    {
     "name": "stderr",
     "output_type": "stream",
     "text": [
      "C:\\Users\\nogur\\AppData\\Local\\Temp\\ipykernel_6856\\1858670926.py:11: UserWarning: pandas only supports SQLAlchemy connectable (engine/connection) or database string URI or sqlite3 DBAPI2 connection. Other DBAPI2 objects are not tested. Please consider using SQLAlchemy.\n",
      "  questionnaire_columns = list(pd.read_sql_query(sql, conn).column_name)\n",
      "C:\\Users\\nogur\\AppData\\Local\\Temp\\ipykernel_6856\\1858670926.py:11: UserWarning: pandas only supports SQLAlchemy connectable (engine/connection) or database string URI or sqlite3 DBAPI2 connection. Other DBAPI2 objects are not tested. Please consider using SQLAlchemy.\n",
      "  questionnaire_columns = list(pd.read_sql_query(sql, conn).column_name)\n"
     ]
    },
    {
     "name": "stdout",
     "output_type": "stream",
     "text": [
      "\n",
      "    COPY redcap_data.cts_f\n",
      "    FROM 'C:/Users/nogur/Documents/DeppClinic/Data/postgres_db/redcap_data/redcap_cts_f_data.csv'\n",
      "    DELIMITER ','\n",
      "    CSV HEADER;\n",
      "\n",
      "    \n",
      "cts_c\n",
      "\n",
      "    COPY redcap_data.cts_c\n",
      "    FROM 'C:/Users/nogur/Documents/DeppClinic/Data/postgres_db/redcap_data/redcap_cts_c_data.csv'\n",
      "    DELIMITER ','\n",
      "    CSV HEADER;\n",
      "\n",
      "    \n",
      "dshi_pre\n",
      "\n",
      "    COPY redcap_data.dshi_pre\n",
      "    FROM 'C:/Users/nogur/Documents/DeppClinic/Data/postgres_db/redcap_data/redcap_dshi_pre_data.csv'\n",
      "    DELIMITER ','\n",
      "    CSV HEADER;\n",
      "\n",
      "    \n"
     ]
    },
    {
     "name": "stderr",
     "output_type": "stream",
     "text": [
      "C:\\Users\\nogur\\AppData\\Local\\Temp\\ipykernel_6856\\1858670926.py:11: UserWarning: pandas only supports SQLAlchemy connectable (engine/connection) or database string URI or sqlite3 DBAPI2 connection. Other DBAPI2 objects are not tested. Please consider using SQLAlchemy.\n",
      "  questionnaire_columns = list(pd.read_sql_query(sql, conn).column_name)\n"
     ]
    },
    {
     "name": "stdout",
     "output_type": "stream",
     "text": [
      "dshi_post\n",
      "\n",
      "    COPY redcap_data.dshi_post\n",
      "    FROM 'C:/Users/nogur/Documents/DeppClinic/Data/postgres_db/redcap_data/redcap_dshi_post_data.csv'\n",
      "    DELIMITER ','\n",
      "    CSV HEADER;\n",
      "\n",
      "    \n"
     ]
    },
    {
     "name": "stderr",
     "output_type": "stream",
     "text": [
      "C:\\Users\\nogur\\AppData\\Local\\Temp\\ipykernel_6856\\1858670926.py:11: UserWarning: pandas only supports SQLAlchemy connectable (engine/connection) or database string URI or sqlite3 DBAPI2 connection. Other DBAPI2 objects are not tested. Please consider using SQLAlchemy.\n",
      "  questionnaire_columns = list(pd.read_sql_query(sql, conn).column_name)\n"
     ]
    },
    {
     "name": "stdout",
     "output_type": "stream",
     "text": [
      "inq\n",
      "\n",
      "    COPY redcap_data.inq\n",
      "    FROM 'C:/Users/nogur/Documents/DeppClinic/Data/postgres_db/redcap_data/redcap_inq_data.csv'\n",
      "    DELIMITER ','\n",
      "    CSV HEADER;\n",
      "\n",
      "    \n"
     ]
    },
    {
     "name": "stderr",
     "output_type": "stream",
     "text": [
      "C:\\Users\\nogur\\AppData\\Local\\Temp\\ipykernel_6856\\1858670926.py:11: UserWarning: pandas only supports SQLAlchemy connectable (engine/connection) or database string URI or sqlite3 DBAPI2 connection. Other DBAPI2 objects are not tested. Please consider using SQLAlchemy.\n",
      "  questionnaire_columns = list(pd.read_sql_query(sql, conn).column_name)\n",
      "C:\\Users\\nogur\\AppData\\Local\\Temp\\ipykernel_6856\\1858670926.py:11: UserWarning: pandas only supports SQLAlchemy connectable (engine/connection) or database string URI or sqlite3 DBAPI2 connection. Other DBAPI2 objects are not tested. Please consider using SQLAlchemy.\n",
      "  questionnaire_columns = list(pd.read_sql_query(sql, conn).column_name)\n"
     ]
    },
    {
     "name": "stdout",
     "output_type": "stream",
     "text": [
      "ending\n",
      "\n",
      "    COPY redcap_data.ending\n",
      "    FROM 'C:/Users/nogur/Documents/DeppClinic/Data/postgres_db/redcap_data/redcap_ending_data.csv'\n",
      "    DELIMITER ','\n",
      "    CSV HEADER;\n",
      "\n",
      "    \n",
      "opening_parents_m\n"
     ]
    },
    {
     "name": "stderr",
     "output_type": "stream",
     "text": [
      "C:\\Users\\nogur\\AppData\\Local\\Temp\\ipykernel_6856\\1858670926.py:11: UserWarning: pandas only supports SQLAlchemy connectable (engine/connection) or database string URI or sqlite3 DBAPI2 connection. Other DBAPI2 objects are not tested. Please consider using SQLAlchemy.\n",
      "  questionnaire_columns = list(pd.read_sql_query(sql, conn).column_name)\n",
      "C:\\Users\\nogur\\AppData\\Local\\Temp\\ipykernel_6856\\1858670926.py:11: UserWarning: pandas only supports SQLAlchemy connectable (engine/connection) or database string URI or sqlite3 DBAPI2 connection. Other DBAPI2 objects are not tested. Please consider using SQLAlchemy.\n",
      "  questionnaire_columns = list(pd.read_sql_query(sql, conn).column_name)\n"
     ]
    },
    {
     "name": "stdout",
     "output_type": "stream",
     "text": [
      "\n",
      "    COPY redcap_data.opening_parents_m\n",
      "    FROM 'C:/Users/nogur/Documents/DeppClinic/Data/postgres_db/redcap_data/redcap_opening_parents_m_data.csv'\n",
      "    DELIMITER ','\n",
      "    CSV HEADER;\n",
      "\n",
      "    \n",
      "estimation_and_satisfaction\n",
      "\n",
      "    COPY redcap_data.estimation_and_satisfaction\n",
      "    FROM 'C:/Users/nogur/Documents/DeppClinic/Data/postgres_db/redcap_data/redcap_estimation_and_satisfaction_data.csv'\n",
      "    DELIMITER ','\n",
      "    CSV HEADER;\n",
      "\n",
      "    \n",
      "intro\n",
      "\n",
      "    COPY redcap_data.intro\n",
      "    FROM 'C:/Users/nogur/Documents/DeppClinic/Data/postgres_db/redcap_data/redcap_intro_data.csv'\n",
      "    DELIMITER ','\n",
      "    CSV HEADER;\n",
      "\n",
      "    \n"
     ]
    },
    {
     "name": "stderr",
     "output_type": "stream",
     "text": [
      "C:\\Users\\nogur\\AppData\\Local\\Temp\\ipykernel_6856\\1858670926.py:11: UserWarning: pandas only supports SQLAlchemy connectable (engine/connection) or database string URI or sqlite3 DBAPI2 connection. Other DBAPI2 objects are not tested. Please consider using SQLAlchemy.\n",
      "  questionnaire_columns = list(pd.read_sql_query(sql, conn).column_name)\n"
     ]
    }
   ],
   "source": [
    "\n",
    "for questionnaire_name in table_names:\n",
    "    print(questionnaire_name)\n",
    "    questionnaire_columns = get_column_names(questionnaire_name, conn_str)\n",
    "    full_path = prepare_data(questionnaire_name, questionnaire_columns, redcap_df)\n",
    "    upload_data(questionnaire_name, full_path, conn_str)\n"
   ]
  },
  {
   "cell_type": "code",
   "execution_count": null,
   "id": "206b1fdd",
   "metadata": {},
   "outputs": [],
   "source": [
    "? os.getcwd"
   ]
  },
  {
   "cell_type": "code",
   "execution_count": null,
   "id": "3a0a5113",
   "metadata": {},
   "outputs": [],
   "source": []
  }
 ],
 "metadata": {
  "kernelspec": {
   "display_name": "DeppClinic",
   "language": "python",
   "name": "deppclinic"
  },
  "language_info": {
   "codemirror_mode": {
    "name": "ipython",
    "version": 3
   },
   "file_extension": ".py",
   "mimetype": "text/x-python",
   "name": "python",
   "nbconvert_exporter": "python",
   "pygments_lexer": "ipython3",
   "version": "3.11.5"
  }
 },
 "nbformat": 4,
 "nbformat_minor": 5
}
