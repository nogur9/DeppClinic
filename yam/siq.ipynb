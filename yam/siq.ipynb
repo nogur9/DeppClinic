{
 "cells": [
  {
   "cell_type": "code",
   "execution_count": 6,
   "id": "6313c3c5-0611-46f1-ad0a-7b3eba172a36",
   "metadata": {},
   "outputs": [],
   "source": [
    "import pandas as pd\n",
    "import re\n",
    "import pandas_profiling as pp"
   ]
  },
  {
   "cell_type": "code",
   "execution_count": 7,
   "id": "3bc07696-f4b4-4e26-aaa2-ee6de2f85588",
   "metadata": {},
   "outputs": [],
   "source": [
    "df_2021 = pd.read_csv(r\"../original_data/Schneider Depression Clinic Database.csv\", na_values= ' ')"
   ]
  },
  {
   "cell_type": "code",
   "execution_count": 8,
   "id": "10b58d7d-28fd-4e17-bdc8-6f5777f2cf9d",
   "metadata": {},
   "outputs": [],
   "source": [
    "df = pd.read_csv('all_columns_2021.csv').rename({'0': 'name'},axis=1)\n",
    "\n",
    "siq_start = df[df['name'] == 'siq_timestamp'].index[0]\n",
    "siq_end = df[df['name'] == 'siq_complete'].index[0]"
   ]
  },
  {
   "cell_type": "code",
   "execution_count": 9,
   "id": "99a79c1e-bea3-4b02-b847-0f8b22613f85",
   "metadata": {},
   "outputs": [],
   "source": [
    "columns_dict = {\n",
    "    'siq': df.iloc[siq_start+1:siq_end-1]['name'].to_list(),\n",
    "}"
   ]
  },
  {
   "cell_type": "code",
   "execution_count": 10,
   "id": "81a04b2c-e1e2-4bac-b87d-666ec8d94bf3",
   "metadata": {},
   "outputs": [],
   "source": [
    "control5_weeks_2021 = df_2021[(df_2021.age_child_pre_first > 0) & (df_2021.age_child_pre_first <= 12) & (df_2021.redcap_event_name=='control_5weeks_arm_1')]\n",
    "intake_2021 = df_2021[(df_2021.age_child_pre_first > 0) & (df_2021.age_child_pre_first <= 12) & (df_2021.redcap_event_name=='intake_arm_1')]\n",
    "\n",
    "parameter_5_weeks = control5_weeks_2021[columns_dict['siq'] +['age_child_pre_first', 'id', 'record_id', 'redcap_event_name']]\n",
    "parameter_intake = intake_2021[columns_dict['siq']+ ['age_child_pre_first', 'id', 'record_id', 'redcap_event_name']]"
   ]
  },
  {
   "cell_type": "markdown",
   "id": "64884d78-9561-4629-8eed-e920ce931a87",
   "metadata": {},
   "source": [
    "### columns"
   ]
  },
  {
   "cell_type": "code",
   "execution_count": 15,
   "id": "51a997fd-879d-45aa-8570-2a5c15fa1b79",
   "metadata": {},
   "outputs": [
    {
     "name": "stdout",
     "output_type": "stream",
     "text": [
      "['siq_1', 'siq_2', 'siq_3', 'siq_4', 'siq_5', 'siq_6', 'siq_7', 'siq_8', 'siq_9', 'siq_10', 'siq_11', 'siq_12', 'siq_13', 'siq_14', 'siq_15']\n"
     ]
    }
   ],
   "source": [
    "print([i for i in columns_dict['siq']])"
   ]
  },
  {
   "cell_type": "markdown",
   "id": "51391a92-a1dc-40a4-912a-780f3db43920",
   "metadata": {},
   "source": [
    "## intake"
   ]
  },
  {
   "cell_type": "code",
   "execution_count": 19,
   "id": "e5666f85-10c6-4d1e-9e32-fda962ea154a",
   "metadata": {},
   "outputs": [
    {
     "name": "stdout",
     "output_type": "stream",
     "text": [
      "full size = (86, 19)\n",
      "#N participants that filled all the questions = 49 \n",
      "56.97674418604651%\n",
      "\n",
      "#N participants that filled all the questions = 51 \n",
      "59.30232558139535%\n"
     ]
    }
   ],
   "source": [
    "intake_full_size = parameter_intake.shape[0]\n",
    "print('full size =', parameter_intake.shape)\n",
    "\n",
    "all_questions_intake = parameter_intake.dropna(subset=columns_dict['siq'], how='any')\n",
    "all_questions_size = parameter_intake.dropna(subset=columns_dict['siq'], how='any').shape[0]\n",
    "print('#N participants that filled all the questions =', all_questions_size, f'\\n{(all_questions_size/intake_full_size)*100}%')\n",
    "\n",
    "any_questions_intake = parameter_intake.dropna(subset=columns_dict['siq'], how='all')\n",
    "any_questions_size = parameter_intake.dropna(subset=columns_dict['siq'], how='all').shape[0]\n",
    "print('\\n#N participants that filled all the questions =', any_questions_size, f'\\n{(any_questions_size/intake_full_size)*100}%')\n"
   ]
  },
  {
   "cell_type": "code",
   "execution_count": null,
   "id": "793ec3a7-dc96-48de-b084-8b182652ba1c",
   "metadata": {},
   "outputs": [],
   "source": []
  },
  {
   "cell_type": "markdown",
   "id": "7a765010-a3d1-4f4a-ad17-ce4ae378a729",
   "metadata": {},
   "source": [
    "## control 5 weeks"
   ]
  },
  {
   "cell_type": "code",
   "execution_count": 20,
   "id": "ebaeb304-a794-4f42-b1a8-24a862a141d3",
   "metadata": {},
   "outputs": [
    {
     "name": "stdout",
     "output_type": "stream",
     "text": [
      "full size = (35, 19)\n",
      "#N participants that filled all the questions = 28 \n",
      "80.0%\n",
      "\n",
      "#N participants that filled all the questions = 28 \n",
      "80.0%\n"
     ]
    }
   ],
   "source": [
    "five_weeks_full_size = parameter_5_weeks.shape[0]\n",
    "print('full size =', parameter_5_weeks.shape)\n",
    "\n",
    "all_questions_5_weeks = parameter_5_weeks.dropna(subset=columns_dict['siq'], how='any')\n",
    "all_questions_size = parameter_5_weeks.dropna(subset=columns_dict['siq'], how='any').shape[0]\n",
    "print('#N participants that filled all the questions =', all_questions_size, f'\\n{(all_questions_size/five_weeks_full_size)*100}%')\n",
    "\n",
    "any_questions_5_weeks = parameter_5_weeks.dropna(subset=columns_dict['siq'], how='all')\n",
    "any_questions_size = parameter_5_weeks.dropna(subset=columns_dict['siq'], how='all').shape[0]\n",
    "print('\\n#N participants that filled all the questions =', any_questions_size, f'\\n{(any_questions_size/five_weeks_full_size)*100}%')\n"
   ]
  },
  {
   "cell_type": "markdown",
   "id": "5dbdb168-b655-499d-8dc2-c24ffd100e41",
   "metadata": {},
   "source": [
    "## both events"
   ]
  },
  {
   "cell_type": "code",
   "execution_count": 24,
   "id": "0851a6e7-366e-4a8e-a4f8-a44054e9c8aa",
   "metadata": {},
   "outputs": [
    {
     "name": "stdout",
     "output_type": "stream",
     "text": [
      "#N subjects in both events 35\n",
      "#N subjects that filled in both events, all questions 23\n",
      "#N subjects that filled in both events 24\n",
      "#N subjects total 55\n"
     ]
    }
   ],
   "source": [
    "ids_in_both_times = parameter_intake[parameter_intake['id'].isin(parameter_5_weeks['id'])]['id']\n",
    "print('#N subjects in both events', ids_in_both_times.shape[0])\n",
    "\n",
    "\n",
    "\n",
    "ids_in_both_dicts_all_q = all_questions_intake[all_questions_intake['id'].isin(all_questions_5_weeks['id'])]['id']\n",
    "print('#N subjects that filled in both events, all questions', ids_in_both_dicts_all_q.shape[0])\n",
    "\n",
    "\n",
    "\n",
    "ids_in_both_dicts = any_questions_intake[any_questions_intake['id'].isin(any_questions_5_weeks['id'])]['id']\n",
    "\n",
    "print('#N subjects that filled in both events', ids_in_both_dicts.shape[0])\n",
    "\n",
    "\n",
    "merged = pd.merge(any_questions_intake, any_questions_5_weeks, on='id', how='outer', suffixes=('_intake', '_5_weeks'))\n",
    "print('#N subjects total', merged.shape[0])\n"
   ]
  },
  {
   "cell_type": "code",
   "execution_count": null,
   "id": "b6dafed6-3449-40b6-bcb0-ea91f21acfe7",
   "metadata": {},
   "outputs": [],
   "source": []
  },
  {
   "cell_type": "code",
   "execution_count": 18,
   "id": "cb4c1171-3701-479c-88aa-4c65876e7366",
   "metadata": {},
   "outputs": [
    {
     "data": {
      "application/vnd.jupyter.widget-view+json": {
       "model_id": "8e76c06ff19541adbfb9a62698a8781c",
       "version_major": 2,
       "version_minor": 0
      },
      "text/plain": [
       "Summarize dataset:   0%|          | 0/5 [00:00<?, ?it/s]"
      ]
     },
     "metadata": {},
     "output_type": "display_data"
    },
    {
     "data": {
      "application/vnd.jupyter.widget-view+json": {
       "model_id": "1d6f10fc364d4e4fb117da0ea68f869e",
       "version_major": 2,
       "version_minor": 0
      },
      "text/plain": [
       "Generate report structure:   0%|          | 0/1 [00:00<?, ?it/s]"
      ]
     },
     "metadata": {},
     "output_type": "display_data"
    },
    {
     "data": {
      "application/vnd.jupyter.widget-view+json": {
       "model_id": "5eb8f3d81b534ae5b8615deabf286520",
       "version_major": 2,
       "version_minor": 0
      },
      "text/plain": [
       "Render HTML:   0%|          | 0/1 [00:00<?, ?it/s]"
      ]
     },
     "metadata": {},
     "output_type": "display_data"
    },
    {
     "data": {
      "application/vnd.jupyter.widget-view+json": {
       "model_id": "347b6528391e4c3f83b8f2dfd4c88ef3",
       "version_major": 2,
       "version_minor": 0
      },
      "text/plain": [
       "Export report to file:   0%|          | 0/1 [00:00<?, ?it/s]"
      ]
     },
     "metadata": {},
     "output_type": "display_data"
    }
   ],
   "source": [
    "to_profile = merged\n",
    "profile = pp.ProfileReport(to_profile, title=\"siq_2021\")\n",
    "profile.to_file(\"siq_2021.html\")\n",
    "\n"
   ]
  },
  {
   "cell_type": "code",
   "execution_count": null,
   "id": "21ea0195-f932-495b-8222-0f99db49fd7a",
   "metadata": {},
   "outputs": [],
   "source": []
  },
  {
   "cell_type": "code",
   "execution_count": null,
   "id": "565697a2-b951-4f69-a05f-c6d57c267901",
   "metadata": {},
   "outputs": [],
   "source": []
  }
 ],
 "metadata": {
  "kernelspec": {
   "display_name": "Python 3 (ipykernel)",
   "language": "python",
   "name": "python3"
  },
  "language_info": {
   "codemirror_mode": {
    "name": "ipython",
    "version": 3
   },
   "file_extension": ".py",
   "mimetype": "text/x-python",
   "name": "python",
   "nbconvert_exporter": "python",
   "pygments_lexer": "ipython3",
   "version": "3.9.7"
  }
 },
 "nbformat": 4,
 "nbformat_minor": 5
}
