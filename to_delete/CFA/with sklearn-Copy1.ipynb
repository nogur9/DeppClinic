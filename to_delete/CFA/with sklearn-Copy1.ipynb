{
 "cells": [
  {
   "cell_type": "code",
   "execution_count": 16,
   "id": "98ea2321",
   "metadata": {},
   "outputs": [],
   "source": [
    "import pandas as pd\n",
    "from questions_columns import sci_af_ca\n",
    "from factor_analyzer import ConfirmatoryFactorAnalyzer, ModelSpecificationParser, FactorAnalyzer\n",
    "import re\n",
    "\n",
    "from sklearn.decomposition import FactorAnalysis\n",
    "import seaborn as sns\n",
    "import matplotlib.pyplot as plt\n",
    "%matplotlib inline"
   ]
  },
  {
   "cell_type": "code",
   "execution_count": 17,
   "id": "9308ed4d",
   "metadata": {},
   "outputs": [],
   "source": [
    "df = pd.read_csv(r\"../create_dataset/data_for_research.csv\")"
   ]
  },
  {
   "cell_type": "code",
   "execution_count": 18,
   "id": "43f13122",
   "metadata": {},
   "outputs": [],
   "source": [
    "f = pd.read_excel(\"Factors.xlsx\")\n",
    "f = f.dropna(how='all', subset = ['question', 'F'])\n",
    "f['question_number'] = f.question.str.extract(r'(\\d+)')\n",
    "f['factor_number'] = f.F.str.extract(r'(\\d+)')"
   ]
  },
  {
   "cell_type": "code",
   "execution_count": 19,
   "id": "b2db4393",
   "metadata": {
    "scrolled": true
   },
   "outputs": [],
   "source": [
    "model_dict = {str(i): [] for i in range(1,6)}\n",
    "for i, row in f.iterrows():\n",
    "    model_dict[row['factor_number']].append(f\"sci_af_ca_{row['question_number']}\")"
   ]
  },
  {
   "cell_type": "code",
   "execution_count": 64,
   "id": "243832ae",
   "metadata": {},
   "outputs": [
    {
     "data": {
      "text/plain": [
       "[<matplotlib.lines.Line2D at 0x28f23553910>]"
      ]
     },
     "execution_count": 64,
     "metadata": {},
     "output_type": "execute_result"
    },
    {
     "data": {
      "image/png": "[encoded data removed]",
      "text/plain": [
       "<Figure size 432x288 with 1 Axes>"
      ]
     },
     "metadata": {
      "needs_background": "light"
     },
     "output_type": "display_data"
    }
   ],
   "source": [
    "fa = FactorAnalyzer(n_factors=5)\n",
    "x = df[sci_af_ca]\n",
    "fa.fit(x)\n",
    "#Get Eigen values and plot them\n",
    "ev, v = fa.get_eigenvalues()\n",
    "ev\n",
    "plt.plot(range(1,x.shape[1]),ev[1:])"
   ]
  },
  {
   "cell_type": "code",
   "execution_count": 58,
   "id": "e405bba1",
   "metadata": {},
   "outputs": [
    {
     "data": {
      "text/plain": [
       "array([22.10403284,  1.91866329,  1.73862431,  1.30213039,  1.08864518,\n",
       "        1.02491364,  0.99794172,  0.79505169,  0.66981406,  0.65275339,\n",
       "        0.60723582,  0.52633369,  0.49852547,  0.45378543,  0.42290652,\n",
       "        0.38110168,  0.37154276,  0.34376175,  0.33458643,  0.30856859,\n",
       "        0.29452872,  0.28383137,  0.26881799,  0.2556997 ,  0.23381163,\n",
       "        0.2178675 ,  0.20616611,  0.19890125,  0.19169343,  0.17094844,\n",
       "        0.16795978,  0.14895901,  0.13983216,  0.12223182,  0.11142601,\n",
       "        0.10522318,  0.09886256,  0.08557006,  0.07978122,  0.07696938])"
      ]
     },
     "execution_count": 58,
     "metadata": {},
     "output_type": "execute_result"
    }
   ],
   "source": [
    "ev"
   ]
  },
  {
   "cell_type": "code",
   "execution_count": 59,
   "id": "4231735d",
   "metadata": {},
   "outputs": [
    {
     "data": {
      "text/html": [
       "<div>\n",
       "<style scoped>\n",
       "    .dataframe tbody tr th:only-of-type {\n",
       "        vertical-align: middle;\n",
       "    }\n",
       "\n",
       "    .dataframe tbody tr th {\n",
       "        vertical-align: top;\n",
       "    }\n",
       "\n",
       "    .dataframe thead th {\n",
       "        text-align: right;\n",
       "    }\n",
       "</style>\n",
       "<table border=\"1\" class=\"dataframe\">\n",
       "  <thead>\n",
       "    <tr style=\"text-align: right;\">\n",
       "      <th></th>\n",
       "      <th>question</th>\n",
       "      <th>factor_number</th>\n",
       "    </tr>\n",
       "  </thead>\n",
       "  <tbody>\n",
       "    <tr>\n",
       "      <th>33</th>\n",
       "      <td>29. האם התעצבנת בקלות בגלל אחרים?</td>\n",
       "      <td>4</td>\n",
       "    </tr>\n",
       "    <tr>\n",
       "      <th>35</th>\n",
       "      <td>30. האם איבדת שליטה על המזג שלך בקלות?</td>\n",
       "      <td>4</td>\n",
       "    </tr>\n",
       "    <tr>\n",
       "      <th>37</th>\n",
       "      <td>31. האם כעסת רוב הזמן?</td>\n",
       "      <td>4</td>\n",
       "    </tr>\n",
       "    <tr>\n",
       "      <th>39</th>\n",
       "      <td>32. האם היה לך קשה להירדם?</td>\n",
       "      <td>4</td>\n",
       "    </tr>\n",
       "  </tbody>\n",
       "</table>\n",
       "</div>"
      ],
      "text/plain": [
       "                                  question factor_number\n",
       "33       29. האם התעצבנת בקלות בגלל אחרים?             4\n",
       "35  30. האם איבדת שליטה על המזג שלך בקלות?             4\n",
       "37                  31. האם כעסת רוב הזמן?             4\n",
       "39              32. האם היה לך קשה להירדם?             4"
      ]
     },
     "execution_count": 59,
     "metadata": {},
     "output_type": "execute_result"
    }
   ],
   "source": [
    "f[fa.loadings_.argmax(axis=1) == 1][['question', 'factor_number']]"
   ]
  },
  {
   "cell_type": "code",
   "execution_count": 60,
   "id": "1617bcfd",
   "metadata": {},
   "outputs": [
    {
     "data": {
      "text/html": [
       "<div>\n",
       "<style scoped>\n",
       "    .dataframe tbody tr th:only-of-type {\n",
       "        vertical-align: middle;\n",
       "    }\n",
       "\n",
       "    .dataframe tbody tr th {\n",
       "        vertical-align: top;\n",
       "    }\n",
       "\n",
       "    .dataframe thead th {\n",
       "        text-align: right;\n",
       "    }\n",
       "</style>\n",
       "<table border=\"1\" class=\"dataframe\">\n",
       "  <thead>\n",
       "    <tr style=\"text-align: right;\">\n",
       "      <th></th>\n",
       "      <th>question</th>\n",
       "      <th>factor_number</th>\n",
       "    </tr>\n",
       "  </thead>\n",
       "  <tbody>\n",
       "    <tr>\n",
       "      <th>3</th>\n",
       "      <td>4. האם הרגשת שראשך מתפוצץ מיותר מדי מחשבות?</td>\n",
       "      <td>3</td>\n",
       "    </tr>\n",
       "    <tr>\n",
       "      <th>12</th>\n",
       "      <td>12. האם הרגשת שמחשבותיך רצות מהר מדי?</td>\n",
       "      <td>3</td>\n",
       "    </tr>\n",
       "    <tr>\n",
       "      <th>23</th>\n",
       "      <td>21. האם חשת לחץ בראש מלחשוב יותר מדי?</td>\n",
       "      <td>3</td>\n",
       "    </tr>\n",
       "    <tr>\n",
       "      <th>25</th>\n",
       "      <td>23. האם הרגשת שראשך כואב מיותר מדי מחשבות בתוכו?</td>\n",
       "      <td>3</td>\n",
       "    </tr>\n",
       "    <tr>\n",
       "      <th>29</th>\n",
       "      <td>27. האם הרגשת שמחשבותיך מבולבלות?</td>\n",
       "      <td>3</td>\n",
       "    </tr>\n",
       "  </tbody>\n",
       "</table>\n",
       "</div>"
      ],
      "text/plain": [
       "                                            question factor_number\n",
       "3        4. האם הרגשת שראשך מתפוצץ מיותר מדי מחשבות?             3\n",
       "12             12. האם הרגשת שמחשבותיך רצות מהר מדי?             3\n",
       "23             21. האם חשת לחץ בראש מלחשוב יותר מדי?             3\n",
       "25  23. האם הרגשת שראשך כואב מיותר מדי מחשבות בתוכו?             3\n",
       "29                 27. האם הרגשת שמחשבותיך מבולבלות?             3"
      ]
     },
     "execution_count": 60,
     "metadata": {},
     "output_type": "execute_result"
    }
   ],
   "source": [
    "f[fa.loadings_.argmax(axis=1) == 2][['question', 'factor_number']]"
   ]
  },
  {
   "cell_type": "code",
   "execution_count": 61,
   "id": "14cb39e2",
   "metadata": {},
   "outputs": [
    {
     "data": {
      "text/html": [
       "<div>\n",
       "<style scoped>\n",
       "    .dataframe tbody tr th:only-of-type {\n",
       "        vertical-align: middle;\n",
       "    }\n",
       "\n",
       "    .dataframe tbody tr th {\n",
       "        vertical-align: top;\n",
       "    }\n",
       "\n",
       "    .dataframe thead th {\n",
       "        text-align: right;\n",
       "    }\n",
       "</style>\n",
       "<table border=\"1\" class=\"dataframe\">\n",
       "  <thead>\n",
       "    <tr style=\"text-align: right;\">\n",
       "      <th></th>\n",
       "      <th>question</th>\n",
       "      <th>factor_number</th>\n",
       "    </tr>\n",
       "  </thead>\n",
       "  <tbody>\n",
       "    <tr>\n",
       "      <th>1</th>\n",
       "      <td>2. האם חשת תחושות מוזרות בגופך?</td>\n",
       "      <td>2</td>\n",
       "    </tr>\n",
       "    <tr>\n",
       "      <th>10</th>\n",
       "      <td>10. האם גופך או עורך הרגישו מוזר?</td>\n",
       "      <td>2</td>\n",
       "    </tr>\n",
       "    <tr>\n",
       "      <th>11</th>\n",
       "      <td>11. האם הרגשת שמשהו קורה לגופך?</td>\n",
       "      <td>2</td>\n",
       "    </tr>\n",
       "    <tr>\n",
       "      <th>28</th>\n",
       "      <td>26. האם חשבת שמשהו עלול להרוג אותך בפתאומיות כ...</td>\n",
       "      <td>2</td>\n",
       "    </tr>\n",
       "  </tbody>\n",
       "</table>\n",
       "</div>"
      ],
      "text/plain": [
       "                                             question factor_number\n",
       "1                     2. האם חשת תחושות מוזרות בגופך?             2\n",
       "10                  10. האם גופך או עורך הרגישו מוזר?             2\n",
       "11                    11. האם הרגשת שמשהו קורה לגופך?             2\n",
       "28  26. האם חשבת שמשהו עלול להרוג אותך בפתאומיות כ...             2"
      ]
     },
     "execution_count": 61,
     "metadata": {},
     "output_type": "execute_result"
    }
   ],
   "source": [
    "f[fa.loadings_.argmax(axis=1) == 3][['question', 'factor_number']]"
   ]
  },
  {
   "cell_type": "code",
   "execution_count": 62,
   "id": "5b6cceb6",
   "metadata": {},
   "outputs": [
    {
     "data": {
      "text/html": [
       "<div>\n",
       "<style scoped>\n",
       "    .dataframe tbody tr th:only-of-type {\n",
       "        vertical-align: middle;\n",
       "    }\n",
       "\n",
       "    .dataframe tbody tr th {\n",
       "        vertical-align: top;\n",
       "    }\n",
       "\n",
       "    .dataframe thead th {\n",
       "        text-align: right;\n",
       "    }\n",
       "</style>\n",
       "<table border=\"1\" class=\"dataframe\">\n",
       "  <thead>\n",
       "    <tr style=\"text-align: right;\">\n",
       "      <th></th>\n",
       "      <th>question</th>\n",
       "      <th>factor_number</th>\n",
       "    </tr>\n",
       "  </thead>\n",
       "  <tbody>\n",
       "    <tr>\n",
       "      <th>2</th>\n",
       "      <td>3. האם הרגשת שכואב לך כל כך עד שאינך יכול לסבו...</td>\n",
       "      <td>2</td>\n",
       "    </tr>\n",
       "    <tr>\n",
       "      <th>6</th>\n",
       "      <td>7. האם הרגשת שחייך בסכנה?</td>\n",
       "      <td>2</td>\n",
       "    </tr>\n",
       "    <tr>\n",
       "      <th>9</th>\n",
       "      <td>9. האם הרגשת שכואב לך מאוד וזה לא יכול להפסק?</td>\n",
       "      <td>2</td>\n",
       "    </tr>\n",
       "    <tr>\n",
       "      <th>18</th>\n",
       "      <td>17. האם הרגשת כאב שחייב להיפסק?</td>\n",
       "      <td>2</td>\n",
       "    </tr>\n",
       "  </tbody>\n",
       "</table>\n",
       "</div>"
      ],
      "text/plain": [
       "                                             question factor_number\n",
       "2   3. האם הרגשת שכואב לך כל כך עד שאינך יכול לסבו...             2\n",
       "6                           7. האם הרגשת שחייך בסכנה?             2\n",
       "9       9. האם הרגשת שכואב לך מאוד וזה לא יכול להפסק?             2\n",
       "18                    17. האם הרגשת כאב שחייב להיפסק?             2"
      ]
     },
     "execution_count": 62,
     "metadata": {},
     "output_type": "execute_result"
    }
   ],
   "source": [
    "f[fa.loadings_.argmax(axis=1) == 4][['question', 'factor_number']]"
   ]
  },
  {
   "cell_type": "code",
   "execution_count": null,
   "id": "773731f9",
   "metadata": {},
   "outputs": [],
   "source": []
  }
 ],
 "metadata": {
  "kernelspec": {
   "display_name": "DeppClinic",
   "language": "python",
   "name": "deppclinic"
  },
  "language_info": {
   "codemirror_mode": {
    "name": "ipython",
    "version": 3
   },
   "file_extension": ".py",
   "mimetype": "text/x-python",
   "name": "python",
   "nbconvert_exporter": "python",
   "pygments_lexer": "ipython3",
   "version": "3.9.7"
  }
 },
 "nbformat": 4,
 "nbformat_minor": 5
}
