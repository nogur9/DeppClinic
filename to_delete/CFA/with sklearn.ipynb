{
 "cells": [
  {
   "cell_type": "code",
   "execution_count": 1,
   "id": "98ea2321",
   "metadata": {},
   "outputs": [],
   "source": [
    "import pandas as pd\n",
    "from questions_columns import sci_af_ca\n",
    "from factor_analyzer import ConfirmatoryFactorAnalyzer, ModelSpecificationParser\n",
    "import re\n",
    "\n",
    "from sklearn.decomposition import FactorAnalysis"
   ]
  },
  {
   "cell_type": "code",
   "execution_count": 2,
   "id": "9308ed4d",
   "metadata": {},
   "outputs": [],
   "source": [
    "df = pd.read_csv(r\"../create_dataset/data_for_research.csv\")"
   ]
  },
  {
   "cell_type": "code",
   "execution_count": 3,
   "id": "43f13122",
   "metadata": {},
   "outputs": [],
   "source": [
    "f = pd.read_excel(\"Factors.xlsx\")\n",
    "f = f.dropna(how='all', subset = ['question', 'F'])\n",
    "f['question_number'] = f.question.str.extract(r'(\\d+)')\n",
    "f['factor_number'] = f.F.str.extract(r'(\\d+)')"
   ]
  },
  {
   "cell_type": "code",
   "execution_count": 4,
   "id": "b2db4393",
   "metadata": {
    "scrolled": true
   },
   "outputs": [],
   "source": [
    "model_dict = {str(i): [] for i in range(1,6)}\n",
    "for i, row in f.iterrows():\n",
    "    model_dict[row['factor_number']].append(f\"sci_af_ca_{row['question_number']}\")"
   ]
  },
  {
   "cell_type": "code",
   "execution_count": 5,
   "id": "243832ae",
   "metadata": {},
   "outputs": [],
   "source": [
    "transformer = FactorAnalysis(n_components=5, random_state=0)"
   ]
  },
  {
   "cell_type": "code",
   "execution_count": 6,
   "id": "791e6c34",
   "metadata": {},
   "outputs": [],
   "source": [
    "X_transformed = transformer.fit_transform(df[sci_af_ca])"
   ]
  },
  {
   "cell_type": "code",
   "execution_count": 10,
   "id": "8f32427d",
   "metadata": {},
   "outputs": [
    {
     "data": {
      "text/plain": [
       "(40, 40)"
      ]
     },
     "execution_count": 10,
     "metadata": {},
     "output_type": "execute_result"
    }
   ],
   "source": [
    "transformer.get_covariance().shape"
   ]
  },
  {
   "cell_type": "code",
   "execution_count": 12,
   "id": "70b00894",
   "metadata": {},
   "outputs": [
    {
     "data": {
      "text/plain": [
       "(237, 5)"
      ]
     },
     "execution_count": 12,
     "metadata": {},
     "output_type": "execute_result"
    }
   ],
   "source": [
    "X_transformed.shape"
   ]
  },
  {
   "cell_type": "code",
   "execution_count": 14,
   "id": "45c6bb1c",
   "metadata": {},
   "outputs": [
    {
     "data": {
      "text/plain": [
       "(5, 40)"
      ]
     },
     "execution_count": 14,
     "metadata": {},
     "output_type": "execute_result"
    }
   ],
   "source": [
    "transformer.components_.shape"
   ]
  },
  {
   "cell_type": "code",
   "execution_count": null,
   "id": "04ab11ee",
   "metadata": {},
   "outputs": [],
   "source": []
  }
 ],
 "metadata": {
  "kernelspec": {
   "display_name": "DeppClinic",
   "language": "python",
   "name": "deppclinic"
  },
  "language_info": {
   "codemirror_mode": {
    "name": "ipython",
    "version": 3
   },
   "file_extension": ".py",
   "mimetype": "text/x-python",
   "name": "python",
   "nbconvert_exporter": "python",
   "pygments_lexer": "ipython3",
   "version": "3.9.7"
  }
 },
 "nbformat": 4,
 "nbformat_minor": 5
}
