{
 "cells": [
  {
   "cell_type": "markdown",
   "id": "01734230",
   "metadata": {},
   "source": [
    "https://www.ncbi.nlm.nih.gov/pmc/articles/PMC6004510/table/T2/\n",
    "\n",
    "https://en.wikipedia.org/wiki/Confirmatory_factor_analysis\n",
    "\n",
    "https://link.springer.com/article/10.3758/s13428-018-1055-2"
   ]
  },
  {
   "cell_type": "code",
   "execution_count": 1,
   "id": "98ea2321",
   "metadata": {},
   "outputs": [],
   "source": [
    "import pandas as pd\n",
    "from questions_columns import sci_af_ca\n",
    "from factor_analyzer import ConfirmatoryFactorAnalyzer, ModelSpecificationParser\n",
    "import re\n",
    "import semopy\n",
    "from semopy import stats"
   ]
  },
  {
   "cell_type": "code",
   "execution_count": 2,
   "id": "9308ed4d",
   "metadata": {},
   "outputs": [],
   "source": [
    "df = pd.read_csv(r\"../create_dataset/data_for_research.csv\")"
   ]
  },
  {
   "cell_type": "markdown",
   "id": "4ddd593d",
   "metadata": {},
   "source": [
    "load factors mappings"
   ]
  },
  {
   "cell_type": "code",
   "execution_count": 3,
   "id": "b78186ad",
   "metadata": {},
   "outputs": [],
   "source": [
    "f = pd.read_excel(\"Factors.xlsx\")\n",
    "f = f.dropna(how='all', subset = ['question', 'F'])\n",
    "f['question_number'] = f.question.str.extract(r'(\\d+)')\n",
    "f['factor_number'] = f.F.str.extract(r'(\\d+)')"
   ]
  },
  {
   "cell_type": "code",
   "execution_count": 4,
   "id": "e019f3f3",
   "metadata": {},
   "outputs": [],
   "source": [
    "model_dict = {f\"Factor{str(i)}\": [] for i in range(1,6)}\n",
    "for i, row in f.iterrows():\n",
    "    model_dict[f\"Factor{row['factor_number']}\"].append(f\"sci_af_ca_{row['question_number']}\")"
   ]
  },
  {
   "cell_type": "code",
   "execution_count": 5,
   "id": "35f4f19f",
   "metadata": {},
   "outputs": [],
   "source": [
    "model_factors_list = [f\"{key} =~ {' + '.join(model_dict[key])}\" for key in model_dict.keys()]"
   ]
  },
  {
   "cell_type": "markdown",
   "id": "5f22ab5b",
   "metadata": {},
   "source": [
    "All the observables into one factor"
   ]
  },
  {
   "cell_type": "code",
   "execution_count": 6,
   "id": "17c37cc4",
   "metadata": {},
   "outputs": [],
   "source": [
    "model_string = f\"\"\"\n",
    "{model_factors_list[0]}\n",
    "{model_factors_list[1]}\n",
    "{model_factors_list[2]}\n",
    "{model_factors_list[3]}\n",
    "{model_factors_list[4]}\n",
    "\"\"\"\n",
    "\n",
    "data  = df[sci_af_ca]"
   ]
  },
  {
   "cell_type": "markdown",
   "id": "290dbe15",
   "metadata": {},
   "source": [
    "Since indicators were binary, diagonally weighted least squares estimation, as recommended."
   ]
  },
  {
   "cell_type": "code",
   "execution_count": 7,
   "id": "e03b6b6d",
   "metadata": {},
   "outputs": [],
   "source": [
    "model= semopy.Model(model_string)\n",
    "model_fit = model.fit(data=data, obj = 'DWLS')"
   ]
  },
  {
   "cell_type": "markdown",
   "id": "df3d774d",
   "metadata": {},
   "source": [
    "Did it succeeded?"
   ]
  },
  {
   "cell_type": "code",
   "execution_count": 8,
   "id": "dc5445c7",
   "metadata": {},
   "outputs": [
    {
     "data": {
      "text/plain": [
       "'Optimization terminated successfully'"
      ]
     },
     "execution_count": 8,
     "metadata": {},
     "output_type": "execute_result"
    }
   ],
   "source": [
    "model_fit.message"
   ]
  },
  {
   "cell_type": "markdown",
   "id": "71e5e387",
   "metadata": {},
   "source": [
    "### Chi Squared"
   ]
  },
  {
   "cell_type": "markdown",
   "id": "fb70c7f3",
   "metadata": {},
   "source": [
    "The Chi-square goodness of fit test is a statistical hypothesis test used to determine whether a variable is likely to come from a specified distribution or not. The chi-square fit index assesses the fit between the hypothesized model and data from a set of measurement items (the observed variables). The model chi-square is the chi-square statistic obtained using maximum likelihood method.\n",
    "\n",
    "The chi-square value is a test statistic of the goodness of fit of a factor model. It compares the observed covariance matrix with a theoretically proposed covariance matrix\n",
    "\n",
    "expecting -  non-significant χ2"
   ]
  },
  {
   "cell_type": "code",
   "execution_count": 9,
   "id": "d91dd041",
   "metadata": {},
   "outputs": [
    {
     "data": {
      "text/plain": [
       "(673.6817673404281, 0.9326807675504475)"
      ]
     },
     "execution_count": 9,
     "metadata": {},
     "output_type": "execute_result"
    }
   ],
   "source": [
    "stats.calc_chi2(model)"
   ]
  },
  {
   "cell_type": "markdown",
   "id": "00e71ebf",
   "metadata": {},
   "source": [
    "### CFI, comparative fit index"
   ]
  },
  {
   "cell_type": "markdown",
   "id": "c362410b",
   "metadata": {},
   "source": [
    "The comparative fit index (CFI) analyzes the model fit by examining the discrepancy between the data and the hypothesized model, while adjusting for the issues of sample size\n",
    "\n",
    "CFI is an incremental relative fit index that measures the relative improvement in the fit of a researcher's model over that of a baseline model\n",
    "\n",
    "expecting - CFI≥.95\n",
    "\n",
    " CFI and TLI are incremental fit indices that compare the fit of a hypothesized model with that of a baseline model (i.e., a model with the worst fit)"
   ]
  },
  {
   "cell_type": "code",
   "execution_count": 10,
   "id": "ec37ac7d",
   "metadata": {},
   "outputs": [
    {
     "data": {
      "text/plain": [
       "1.0008618281129649"
      ]
     },
     "execution_count": 10,
     "metadata": {},
     "output_type": "execute_result"
    }
   ],
   "source": [
    "stats.calc_cfi(model)"
   ]
  },
  {
   "cell_type": "markdown",
   "id": "ff84c659",
   "metadata": {},
   "source": [
    "### TLI, Tucker–Lewis index"
   ]
  },
  {
   "cell_type": "markdown",
   "id": "736ae109",
   "metadata": {},
   "source": [
    "Also known as the non-normed fit index.\n",
    "\n",
    "TLI is based on the idea of comparing the proposed factor model to a model in which no interrelationships at all are assumed among any of the items\n",
    "\n",
    "analyzes the discrepancy between the chi-squared value of the hypothesized model and the chi-squared value of the null model. \n",
    "\n",
    "expecting - TLI≥.95\n",
    "\n",
    " CFI and TLI are incremental fit indices that compare the fit of a hypothesized model with that of a baseline model (i.e., a model with the worst fit)"
   ]
  },
  {
   "cell_type": "code",
   "execution_count": 11,
   "id": "5707df8c",
   "metadata": {},
   "outputs": [
    {
     "data": {
      "text/plain": [
       "1.0009208574357706"
      ]
     },
     "execution_count": 11,
     "metadata": {},
     "output_type": "execute_result"
    }
   ],
   "source": [
    "stats.calc_tli(model)"
   ]
  },
  {
   "cell_type": "markdown",
   "id": "bf776d09",
   "metadata": {},
   "source": [
    "### RMSEA, root mean square error of approximation"
   ]
  },
  {
   "cell_type": "markdown",
   "id": "7f1a0f21",
   "metadata": {},
   "source": [
    "RMSEA is a measure of the estimated discrepancy between the population and model-implied population covariance matrices per degree of freedom \n",
    "\n",
    "The root mean square error of approximation (RMSEA) avoids issues of sample size by analyzing the discrepancy between the hypothesized model, with optimally chosen parameter estimates, and the population covariance matrix\n",
    "\n",
    "expecting - RMSEA≤.06"
   ]
  },
  {
   "cell_type": "markdown",
   "id": "380cffe4",
   "metadata": {},
   "source": [
    "## All stats"
   ]
  },
  {
   "cell_type": "code",
   "execution_count": 12,
   "id": "cfc53fc7",
   "metadata": {},
   "outputs": [
    {
     "data": {
      "text/html": [
       "<div>\n",
       "<style scoped>\n",
       "    .dataframe tbody tr th:only-of-type {\n",
       "        vertical-align: middle;\n",
       "    }\n",
       "\n",
       "    .dataframe tbody tr th {\n",
       "        vertical-align: top;\n",
       "    }\n",
       "\n",
       "    .dataframe thead th {\n",
       "        text-align: right;\n",
       "    }\n",
       "</style>\n",
       "<table border=\"1\" class=\"dataframe\">\n",
       "  <thead>\n",
       "    <tr style=\"text-align: right;\">\n",
       "      <th></th>\n",
       "      <th>DoF</th>\n",
       "      <th>DoF Baseline</th>\n",
       "      <th>chi2</th>\n",
       "      <th>chi2 p-value</th>\n",
       "      <th>chi2 Baseline</th>\n",
       "      <th>CFI</th>\n",
       "      <th>GFI</th>\n",
       "      <th>AGFI</th>\n",
       "      <th>NFI</th>\n",
       "      <th>TLI</th>\n",
       "      <th>RMSEA</th>\n",
       "      <th>AIC</th>\n",
       "      <th>BIC</th>\n",
       "      <th>LogLik</th>\n",
       "    </tr>\n",
       "  </thead>\n",
       "  <tbody>\n",
       "    <tr>\n",
       "      <th>Value</th>\n",
       "      <td>730</td>\n",
       "      <td>780</td>\n",
       "      <td>673.681767</td>\n",
       "      <td>0.932681</td>\n",
       "      <td>66127.407229</td>\n",
       "      <td>1.000862</td>\n",
       "      <td>0.989812</td>\n",
       "      <td>0.989115</td>\n",
       "      <td>0.989812</td>\n",
       "      <td>1.000921</td>\n",
       "      <td>0</td>\n",
       "      <td>158.274688</td>\n",
       "      <td>470.400101</td>\n",
       "      <td>10.862656</td>\n",
       "    </tr>\n",
       "  </tbody>\n",
       "</table>\n",
       "</div>"
      ],
      "text/plain": [
       "       DoF  DoF Baseline        chi2  chi2 p-value  chi2 Baseline       CFI  \\\n",
       "Value  730           780  673.681767      0.932681   66127.407229  1.000862   \n",
       "\n",
       "            GFI      AGFI       NFI       TLI  RMSEA         AIC         BIC  \\\n",
       "Value  0.989812  0.989115  0.989812  1.000921      0  158.274688  470.400101   \n",
       "\n",
       "          LogLik  \n",
       "Value  10.862656  "
      ]
     },
     "execution_count": 12,
     "metadata": {},
     "output_type": "execute_result"
    }
   ],
   "source": [
    "stats.calc_stats(model)"
   ]
  },
  {
   "cell_type": "markdown",
   "id": "682291ff",
   "metadata": {},
   "source": [
    "The comparative fit index (CFI) analyzes the model fit by examining the discrepancy between the data and the hypothesized model, while adjusting for the issues of sample size.\n",
    "\n",
    "\n",
    "The CFI (Bentler, 1990) measures the relative improvement in fit going from the baseline model to the postulated model.\n",
    "\n",
    "CFI≥.95"
   ]
  },
  {
   "cell_type": "code",
   "execution_count": null,
   "id": "5e773110",
   "metadata": {},
   "outputs": [],
   "source": []
  }
 ],
 "metadata": {
  "kernelspec": {
   "display_name": "DeppClinic",
   "language": "python",
   "name": "deppclinic"
  },
  "language_info": {
   "codemirror_mode": {
    "name": "ipython",
    "version": 3
   },
   "file_extension": ".py",
   "mimetype": "text/x-python",
   "name": "python",
   "nbconvert_exporter": "python",
   "pygments_lexer": "ipython3",
   "version": "3.9.7"
  }
 },
 "nbformat": 4,
 "nbformat_minor": 5
}
