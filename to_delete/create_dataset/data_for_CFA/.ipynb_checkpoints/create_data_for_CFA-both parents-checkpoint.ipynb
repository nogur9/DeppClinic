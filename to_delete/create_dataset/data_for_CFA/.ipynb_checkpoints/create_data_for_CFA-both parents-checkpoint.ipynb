{
 "cells": [
  {
   "cell_type": "code",
   "execution_count": 1,
   "id": "bb6c9300",
   "metadata": {},
   "outputs": [],
   "source": [
    "import sys\n",
    "sys.path.append(r\"../../utils\")\n",
    "\n",
    "import numpy as np \n",
    "import pandas as pd\n",
    "from questions_columns import sci_af_ca,  scs_clin, sci_mother, sci_father, scs_stu\n",
    "import missingno\n",
    "from utils import simple_eda, impute_from_column\n"
   ]
  },
  {
   "cell_type": "code",
   "execution_count": 2,
   "id": "68445eee",
   "metadata": {},
   "outputs": [
    {
     "name": "stderr",
     "output_type": "stream",
     "text": [
      "C:\\Users\\nogur\\anaconda3\\lib\\site-packages\\IPython\\core\\interactiveshell.py:3444: DtypeWarning: Columns (0,44,50,73,84,309,437,442,443,450,457,486,502,540,549,568,728,733,745,747,752,763,801,810,829,882,883,884,885,886,887,888,889,890,891,892,951,989,994,1000,1015,1045,1065,1066,1070,1071,1072,1073,1075,1076,1077,1080,1081,1098,1103,1119,1121,1172,1174,1193,1195,1196,1197,1203,1204,1205,1206,1358,1360,1361,1362,1368,1369,1370,1371,1486,1492,1493,1496,1497,1498,1499,1508,1516,1532,1535,1546) have mixed types.Specify dtype option on import or set low_memory=False.\n",
      "  exec(code_obj, self.user_global_ns, self.user_ns)\n"
     ]
    }
   ],
   "source": [
    "df_base = pd.read_csv(r'../../creating_the_clinic_dataset/preprocessed_data/merged_2021_and_2022.csv', na_values = ' ')\n",
    "id_column = 'id'\n",
    "columns = sci_af_ca +  scs_clin + sci_mother + sci_father\n",
    "df = df_base[df_base.redcap_event_name == 'intake_arm_1'][columns + scs_stu + [id_column]]\n"
   ]
  },
  {
   "cell_type": "code",
   "execution_count": 3,
   "id": "f6da0961",
   "metadata": {},
   "outputs": [],
   "source": [
    "both_parents_name = [f\"{i}p\" for i in sci_p_columns]\n",
    "df[both_parents_name]= df[sci_mother]\n",
    "\n",
    "for column_name in sci_p_columns:\n",
    "    df = impute_from_column(df, impute_to = f\"{column_name}p\", impute_from = f'{column_name}f')\n"
   ]
  },
  {
   "cell_type": "code",
   "execution_count": 4,
   "id": "5ced8537",
   "metadata": {},
   "outputs": [],
   "source": [
    "sci_clin_columns = [i[:-4] for i in scs_clin]\n",
    "\n",
    "for column_name in sci_clin_columns:\n",
    "    df = impute_from_column(df, impute_to = f\"{column_name}clin\", impute_from = f'{column_name}stu')\n"
   ]
  },
  {
   "cell_type": "code",
   "execution_count": 5,
   "id": "35c4dc39",
   "metadata": {},
   "outputs": [
    {
     "data": {
      "text/plain": [
       "(408, 101)"
      ]
     },
     "execution_count": 5,
     "metadata": {},
     "output_type": "execute_result"
    }
   ],
   "source": [
    "df.shape"
   ]
  },
  {
   "cell_type": "code",
   "execution_count": 6,
   "id": "7e054d7c",
   "metadata": {},
   "outputs": [],
   "source": [
    "#df = df.dropna(thresh=0.5, subset = sci_af_ca)\n",
    "df = df[columns + both_parents_name + [id_column]]"
   ]
  },
  {
   "cell_type": "code",
   "execution_count": 7,
   "id": "89eb94e8",
   "metadata": {},
   "outputs": [
    {
     "data": {
      "text/plain": [
       "(408, 86)"
      ]
     },
     "execution_count": 7,
     "metadata": {},
     "output_type": "execute_result"
    }
   ],
   "source": [
    "df.shape"
   ]
  },
  {
   "cell_type": "code",
   "execution_count": null,
   "id": "0fd72b1a",
   "metadata": {},
   "outputs": [],
   "source": []
  },
  {
   "cell_type": "code",
   "execution_count": null,
   "id": "ffa7612b",
   "metadata": {},
   "outputs": [],
   "source": []
  },
  {
   "cell_type": "code",
   "execution_count": 8,
   "id": "de506c1f",
   "metadata": {},
   "outputs": [],
   "source": [
    "df.to_csv(\"data_for_CFA_both_parents.csv\", index=False)\n"
   ]
  },
  {
   "cell_type": "code",
   "execution_count": null,
   "id": "2fb6be06",
   "metadata": {},
   "outputs": [],
   "source": []
  }
 ],
 "metadata": {
  "kernelspec": {
   "display_name": "Python 3 (ipykernel)",
   "language": "python",
   "name": "python3"
  },
  "language_info": {
   "codemirror_mode": {
    "name": "ipython",
    "version": 3
   },
   "file_extension": ".py",
   "mimetype": "text/x-python",
   "name": "python",
   "nbconvert_exporter": "python",
   "pygments_lexer": "ipython3",
   "version": "3.11.4"
  }
 },
 "nbformat": 4,
 "nbformat_minor": 5
}
