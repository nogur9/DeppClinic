{
 "cells": [
  {
   "cell_type": "code",
   "execution_count": 2,
   "id": "8005d7c4-a55a-4abe-9d56-a256785d8afb",
   "metadata": {},
   "outputs": [],
   "source": [
    "import pandas as pd\n",
    "import pandas_profiling as pp\n",
    "import dtale\n",
    "import seaborn as sns"
   ]
  },
  {
   "cell_type": "code",
   "execution_count": 3,
   "id": "d1e4b5f5-3336-481f-b47d-53da5e0c9d8a",
   "metadata": {},
   "outputs": [
    {
     "name": "stderr",
     "output_type": "stream",
     "text": [
      "C:\\Users\\nogur\\anaconda3\\lib\\site-packages\\IPython\\core\\interactiveshell.py:3444: DtypeWarning:\n",
      "\n",
      "Columns (0,44,50,73,84,309,437,442,443,450,457,486,502,540,549,568,728,733,745,747,752,763,801,810,829,882,883,884,885,886,887,888,889,890,891,892,951,989,994,1000,1015,1045,1065,1066,1070,1071,1072,1073,1075,1076,1077,1080,1081,1098,1103,1119,1121,1172,1174,1193,1195,1196,1197,1203,1204,1205,1206,1358,1360,1361,1362,1368,1369,1370,1371,1486,1492,1493,1496,1497,1498,1499,1508,1516,1532,1535,1546) have mixed types.Specify dtype option on import or set low_memory=False.\n",
      "\n"
     ]
    }
   ],
   "source": [
    "df = pd.read_csv(r'../creating_the_clinic_dataset/preprocessed_data/merged_2021_and_2022.csv', na_values = ' ')\n",
    "df = df[df.redcap_event_name != 'intake_arm_1']"
   ]
  },
  {
   "cell_type": "code",
   "execution_count": 10,
   "id": "ad77e563-a5ce-4622-b43e-f1f7543d0e1b",
   "metadata": {},
   "outputs": [
    {
     "data": {
      "text/plain": [
       "array(['5th_session_arm_1', 'post_treatment_arm_1',\n",
       "       'control_6month_arm_1', 'pre_treatment_arm_1',\n",
       "       'followup_3month_arm_1', 'control_5weeks_arm_1',\n",
       "       'control_3month_arm_1', 'er_arm_1'], dtype=object)"
      ]
     },
     "execution_count": 10,
     "metadata": {},
     "output_type": "execute_result"
    }
   ],
   "source": [
    "df[~df['sci_af_ca_10'].isna()]['redcap_event_name'].unique()"
   ]
  },
  {
   "cell_type": "code",
   "execution_count": 12,
   "id": "0dddcc97-2676-4311-9222-5100ac265c29",
   "metadata": {},
   "outputs": [
    {
     "name": "stdout",
     "output_type": "stream",
     "text": [
      "[nan  2.  4.  3.  1.  5.]\n",
      "[nan  2.  1.  3.  5.]\n",
      "[nan  3.  2.  1.  4.  5.  0.]\n",
      "[nan  1.  2.  0.  3.  4.]\n",
      "[nan  3.  4.  0.  5.  2.]\n"
     ]
    }
   ],
   "source": [
    "print(df['c_ssrs_t_6_clin'].unique())\n",
    "print(df['c_ssrs_t_7_clin'].unique())\n",
    "print(df['c_ssrs_t_8_clin'].unique())\n",
    "print(df['c_ssrs_t_9_clin'].unique())\n",
    "print(df['c_ssrs_t_10_clin'].unique())"
   ]
  },
  {
   "cell_type": "code",
   "execution_count": 11,
   "id": "b4241c37-f766-4176-b4fd-f896e240484e",
   "metadata": {},
   "outputs": [],
   "source": [
    "c_ssrs_intake = [\n",
    "    'c_ssrs_t_2weeks_1_clin': 'הרצון להיות מת',\n",
    "    'c_ssrs_t_2weeks_2_clin': 'מחשבות אובדניות פעילות בלתי ספציפיות',\n",
    "    'c_ssrs_t_2weeks_3_clin': 'מחשבות אובדניות פעילות',\n",
    "    'c_ssrs_t_2weeks_4_clin': 'מחשבות אובדניות פעילות עם כוונה',\n",
    "    'c_ssrs_t_2weeks_5_clin': 'מחשבות אובדניות פעילות עם תכנית',\n",
    "    \n",
    "    'c_ssrs_t_last_1_clin': 'הרצון להיות מת',\n",
    "    'c_ssrs_t_last_2_clin': 'מחשבות אובדניות פעילות בלתי ספציפיות',\n",
    "    'c_ssrs_t_last_3_clin': 'מחשבות אובדניות פעילות',\n",
    "    'c_ssrs_t_last_4_clin': 'מחשבות אובדניות פעילות עם כוונה',\n",
    "    'c_ssrs_t_last_5_clin': 'מחשבות אובדניות פעילות עם תכנית',\n",
    "    \n",
    "    'c_ssrs_t_life_1_clin': 'הרצון להיות מת',\n",
    "    'c_ssrs_t_life_2_clin': 'מחשבות אובדניות פעילות בלתי ספציפיות',\n",
    "    'c_ssrs_t_life_3_clin': 'מחשבות אובדניות פעילות',\n",
    "    'c_ssrs_t_life_4_clin': 'מחשבות אובדניות פעילות עם כוונה',\n",
    "    'c_ssrs_t_life_5_clin': 'מחשבות אובדניות פעילות עם תכנית',\n",
    "    \n",
    "    'c_ssrs_t_6_clin': 'שכיחות',\n",
    "    'c_ssrs_t_7_clin': 'משך',\n",
    "    'c_ssrs_t_8_clin': 'יכולת שליטה',\n",
    "    'c_ssrs_t_9_clin': 'הגורמים המרתיעים',\n",
    "    'c_ssrs_t_10_clin': 'הסיבות למחשבות האובדניות',\n",
    "    \n",
    "    'c_ssrs_t_6_clin_2': '',\n",
    "    'c_ssrs_t_7_clin_2': '',\n",
    "    'c_ssrs_t_8_clin_2': '',\n",
    "    'c_ssrs_t_9_clin_2': '',\n",
    "    'c_ssrs_t_10_clin_2': '',\n",
    "    \n",
    "    'c_ssrs_t_11_2weeks_clin': '',\n",
    "    'c_ssrs_t_12_2weeks_clin': '',\n",
    "    'c_ssrs_t_13_2weeks_clin': '',\n",
    "    'c_ssrs_t_14_2weeks_clin': '',\n",
    "    'c_ssrs_t_15_2weeks_clin': '',\n",
    "    'c_ssrs_t_16_2weeks_clin': '',\n",
    "]\n",
    "\n",
    "\n",
    "\n",
    "c_ssrs_follow_up = [\n",
    "    'c_ssrs_fu_thought_1_clin',\n",
    "    'c_ssrs_fu_thought_2_clin',\n",
    "    'c_ssrs_fu_thought_3_clin',\n",
    "    'c_ssrs_fu_thought_4_clin', \n",
    "    'c_ssrs_fu_thought_5_clin',\n",
    "    'c_ssrs_fu_intensity_clin', \n",
    "    'c_ssrs_fu_frequ_clin',\n",
    "    'c_ssrs_fu_lengh_clin',\n",
    "    'c_ssrs_fu_control_clin',\n",
    "    'c_ssrs_fu_deter_clin',\n",
    "    'c_ssrs_fu_reason_clin',\n",
    "    'c_ssrs_fu_attemp_clin',\n",
    "    'c_ssrs_fu_attemp_2_3_clin',\n",
    "    'c_ssrs_fu_attemp_3_clin',\n",
    "    'c_ssrs_fu_attemp_4_clin',\n",
    "    'c_ssrs_fu_attemp_4_2_clin',\n",
    "    'c_ssrs_fu_attemp_4_3_clin',\n",
    "    'c_ssrs_fu_attemp_5_clin',\n",
    "    'c_ssrs_fu_attemp_5_2_clin',\n",
    "    'c_ssrs_fu_attemp_5_3_clin',\n",
    "    'c_ssrs_fu_attemp_6_clin',\n",
    "    'c_ssrs_fu_attemp_6_2_clin',\n",
    "    'c_ssrs_fu_attemp_7_clin',\n",
    "    'c_ssrs_fu_attemp_8_clin',\n",
    "    'c_ssrs_fu_done_clin',\n",
    "    'c_ssrs_fu_done_2_clin']\n"
   ]
  },
  {
   "cell_type": "code",
   "execution_count": null,
   "id": "4a271464-8742-4f18-ad84-b4d3af7a7fe7",
   "metadata": {},
   "outputs": [],
   "source": [
    "c_ssrs_questions = [\n",
    "'c_ssrs_t_2weeks_1_clin'\n",
    "'c_ssrs_t_2weeks_2_clin',\n",
    "'c_ssrs_t_2weeks_3_clin',\n",
    "'c_ssrs_t_2weeks_4_clin',\n",
    "'c_ssrs_t_2weeks_5_clin',\n",
    "'c_ssrs_t_last_1_clin',\n",
    "'c_ssrs_t_last_2_clin'\n",
    "'c_ssrs_t_last_3_clin',\n",
    "    'c_ssrs_t_last_4_clin',\n",
    "    'c_ssrs_t_last_5_clin',\n",
    "    'c_ssrs_t_life_1_clin',\n",
    "    'c_ssrs_t_life_2_clin',\n",
    "    'c_ssrs_t_life_3_clin',\n",
    "    'c_ssrs_t_life_4_clin',\n",
    "    'c_ssrs_t_life_5_clin'\n",
    "    'c_ssrs_t_6_clin',\n",
    "    'c_ssrs_t_7_clin',\n",
    "    'c_ssrs_t_8_clin',\n",
    "    'c_ssrs_t_9_clin',\n",
    "    'c_ssrs_t_10_clin',\n",
    "    'c_ssrs_t_6_clin_2',\n",
    "    'c_ssrs_t_7_clin_2',\n",
    "    'c_ssrs_t_8_clin_2',\n",
    "    'c_ssrs_t_9_clin_2',\n",
    "    'c_ssrs_t_10_clin_2',\n",
    "    'c_ssrs_t_11_2weeks_clin',\n",
    "    'c_ssrs_t_12_2weeks_clin',\n",
    "    'c_ssrs_t_13_2weeks_clin',\n",
    "    'c_ssrs_t_14_2weeks_clin',\n",
    "    'c_ssrs_t_15_2weeks_clin',\n",
    "    'c_ssrs_t_16_2weeks_clin',\n",
    "]\n",
    "\n",
    "c_ssrs_clin_fu_questions = [\n",
    "    'c_ssrs_fu_thought_1_clin',\n",
    "    'c_ssrs_fu_thought_2_clin',\n",
    "    'c_ssrs_fu_thought_3_clin',\n",
    "    'c_ssrs_fu_thought_4_clin', \n",
    "    'c_ssrs_fu_thought_5_clin',\n",
    "    'c_ssrs_fu_intensity_clin', \n",
    "    'c_ssrs_fu_frequ_clin',\n",
    "    'c_ssrs_fu_lengh_clin',\n",
    "    'c_ssrs_fu_control_clin',\n",
    "    'c_ssrs_fu_deter_clin',\n",
    "    'c_ssrs_fu_reason_clin',\n",
    "    'c_ssrs_fu_attemp_clin',\n",
    "    'c_ssrs_fu_attemp_2_3_clin',\n",
    "    'c_ssrs_fu_attemp_3_clin',\n",
    "    'c_ssrs_fu_attemp_4_clin',\n",
    "    'c_ssrs_fu_attemp_4_2_clin',\n",
    "    'c_ssrs_fu_attemp_4_3_clin',\n",
    "    'c_ssrs_fu_attemp_5_clin',\n",
    "    'c_ssrs_fu_attemp_5_2_clin',\n",
    "    'c_ssrs_fu_attemp_5_3_clin',\n",
    "    'c_ssrs_fu_attemp_6_clin',\n",
    "    'c_ssrs_fu_attemp_6_2_clin',\n",
    "    'c_ssrs_fu_attemp_7_clin',\n",
    "    'c_ssrs_fu_attemp_8_clin',\n",
    "    'c_ssrs_fu_done_clin',\n",
    "    'c_ssrs_fu_done_2_clin']\n",
    "\n"
   ]
  },
  {
   "cell_type": "markdown",
   "id": "880affc0-5a56-4a1b-9b46-570d59fc2bab",
   "metadata": {},
   "source": [
    "impute_missing_data -> \n",
    "missing c_ssrs_last_visit_6 -> immpute from c_ssrs_6"
   ]
  },
  {
   "cell_type": "code",
   "execution_count": 14,
   "id": "5fbee71a-f101-4420-b83a-c11e8c17ee20",
   "metadata": {},
   "outputs": [
    {
     "data": {
      "text/plain": [
       "array(['followup_3month_arm_1', 'followup_12month_arm_1',\n",
       "       'control_9month_arm_1', 'control_12month_arm_1',\n",
       "       '5th_session_arm_1', 'post_treatment_arm_1',\n",
       "       'control_5weeks_arm_1', 'control_3month_arm_1',\n",
       "       'control_6month_arm_1', 'pre_treatment_arm_1', 'corona_arm_1',\n",
       "       'er_arm_1', 'er_one_week_arm_1'], dtype=object)"
      ]
     },
     "execution_count": 14,
     "metadata": {},
     "output_type": "execute_result"
    }
   ],
   "source": [
    "df.redcap_event_name.unique()"
   ]
  },
  {
   "cell_type": "code",
   "execution_count": 12,
   "id": "361985ca-9e2a-4373-8cda-30b1986e5c04",
   "metadata": {},
   "outputs": [],
   "source": [
    "c_ssrs_rename = {\n",
    "    'c_ssrs_1': ' האם קיווית ללכת למות או ללכת לישון מבלי להתעורר?',\n",
    "    'c_ssrs_2':' האם היו לך מחשבות להרוג את עצמך?',\n",
    "    'c_ssrs_3': ' האם חשבת איך לעשות את זה',\n",
    "    'c_ssrs_4': ' האם היו לך כוונות אכן לפעול לפי המחשבות של להרוג את עצמך',\n",
    "    'c_ssrs_5': 'האם התחלת לתכנן או שכבר סגרת את פרטי התוכנית',\n",
    "    'c_ssrs_6': 'האם עשית משהו, התחלת לעשות משהו',\n",
    "    'c_ssrs_last_visit_6': 'מאז ביקור אחרון: האם עשית משהו, התחלת לעשות משהו',\n",
    "    'c_ssrs_7': 'בחודש האחרון, כמה פעמים עשית משהו מכל הדברים האלו?',\n",
    "    'c_ssrs_8': 'במשך כל חייך, כמה פעמים עשית משהו מכל הדברים האלו?'\n",
    "\n",
    "}"
   ]
  },
  {
   "cell_type": "code",
   "execution_count": 13,
   "id": "7501ca97-1dd5-4838-bd0c-d681adec123a",
   "metadata": {},
   "outputs": [
    {
     "data": {
      "application/vnd.jupyter.widget-view+json": {
       "model_id": "a2f27a1e5d014ec2bc57b81862c14a71",
       "version_major": 2,
       "version_minor": 0
      },
      "text/plain": [
       "Summarize dataset:   0%|          | 0/5 [00:00<?, ?it/s]"
      ]
     },
     "metadata": {},
     "output_type": "display_data"
    },
    {
     "data": {
      "application/vnd.jupyter.widget-view+json": {
       "model_id": "2494f1a8d014406eb8efcb2ded1215c1",
       "version_major": 2,
       "version_minor": 0
      },
      "text/plain": [
       "Generate report structure:   0%|          | 0/1 [00:00<?, ?it/s]"
      ]
     },
     "metadata": {},
     "output_type": "display_data"
    },
    {
     "data": {
      "application/vnd.jupyter.widget-view+json": {
       "model_id": "b092dd2b7b7f46bd8bce76182a579da9",
       "version_major": 2,
       "version_minor": 0
      },
      "text/plain": [
       "Render HTML:   0%|          | 0/1 [00:00<?, ?it/s]"
      ]
     },
     "metadata": {},
     "output_type": "display_data"
    },
    {
     "data": {
      "application/vnd.jupyter.widget-view+json": {
       "model_id": "2bdcb6749f3a41ad8217747a29024cb9",
       "version_major": 2,
       "version_minor": 0
      },
      "text/plain": [
       "Export report to file:   0%|          | 0/1 [00:00<?, ?it/s]"
      ]
     },
     "metadata": {},
     "output_type": "display_data"
    }
   ],
   "source": [
    "to_profile = df[c_ssrs+['age_child_pre', 'gender', 'age_child', 'redcap_event_name']].rename(c_ssrs_rename, axis=1)\n",
    "profile = pp.ProfileReport(to_profile, title=\"c_ssrs\")\n",
    "profile.to_file(\"c_ssrs.html\")\n",
    "\n"
   ]
  },
  {
   "cell_type": "code",
   "execution_count": null,
   "id": "beb672bf-5ad3-4644-85ba-cd546131da1a",
   "metadata": {},
   "outputs": [],
   "source": []
  },
  {
   "cell_type": "code",
   "execution_count": null,
   "id": "12db6aaf-f56d-40bc-aa9f-e8e21b5447a7",
   "metadata": {},
   "outputs": [],
   "source": []
  }
 ],
 "metadata": {
  "kernelspec": {
   "display_name": "Python 3 (ipykernel)",
   "language": "python",
   "name": "python3"
  },
  "language_info": {
   "codemirror_mode": {
    "name": "ipython",
    "version": 3
   },
   "file_extension": ".py",
   "mimetype": "text/x-python",
   "name": "python",
   "nbconvert_exporter": "python",
   "pygments_lexer": "ipython3",
   "version": "3.9.7"
  }
 },
 "nbformat": 4,
 "nbformat_minor": 5
}
