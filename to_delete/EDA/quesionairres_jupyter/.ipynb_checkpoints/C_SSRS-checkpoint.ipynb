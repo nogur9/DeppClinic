{
 "cells": [
  {
   "cell_type": "code",
   "execution_count": 1,
   "id": "8005d7c4-a55a-4abe-9d56-a256785d8afb",
   "metadata": {},
   "outputs": [
    {
     "name": "stderr",
     "output_type": "stream",
     "text": [
      "Using TensorFlow backend.\n"
     ]
    }
   ],
   "source": [
    "import pandas as pd\n",
    "import pandas_profiling as pp\n",
    "import dtale\n",
    "import seaborn as sns\n",
    "from questionnaires_aggregation import c_ssrs_aggregation\n",
    "from utils import impute_from_column, simple_eda\n",
    "from consts.questions_columns import c_ssrs\n",
    "from consts.questions_text_mapping import c_ssrs_rename\n",
    "\n",
    "from sklearn.decomposition import PCA, KernelPCA, NMF\n",
    "from sklearn.manifold import TSNE\n",
    "import matplotlib.pyplot as plt\n",
    "from umap import UMAP\n"
   ]
  },
  {
   "cell_type": "code",
   "execution_count": 2,
   "id": "d1e4b5f5-3336-481f-b47d-53da5e0c9d8a",
   "metadata": {},
   "outputs": [
    {
     "name": "stderr",
     "output_type": "stream",
     "text": [
      "C:\\Users\\nogur\\anaconda3\\lib\\site-packages\\IPython\\core\\interactiveshell.py:3444: DtypeWarning:\n",
      "\n",
      "Columns (0,44,50,73,84,309,437,442,443,450,457,486,502,540,549,568,728,733,745,747,752,763,801,810,829,882,883,884,885,886,887,888,889,890,891,892,951,989,994,1000,1015,1045,1065,1066,1070,1071,1072,1073,1075,1076,1077,1080,1081,1098,1103,1119,1121,1172,1174,1193,1195,1196,1197,1203,1204,1205,1206,1358,1360,1361,1362,1368,1369,1370,1371,1486,1492,1493,1496,1497,1498,1499,1508,1516,1532,1535,1546) have mixed types.Specify dtype option on import or set low_memory=False.\n",
      "\n"
     ]
    }
   ],
   "source": [
    "df = pd.read_csv(r'../../creating_the_clinic_dataset/preprocessed_data/merged_2021_and_2022.csv', na_values = ' ')\n",
    "df = df[df.redcap_event_name != 'intake_arm_1']\n",
    "\n",
    "questions_text = False\n",
    "activate_dtale = False\n",
    "dim_reduction = UMAP"
   ]
  },
  {
   "cell_type": "code",
   "execution_count": 3,
   "id": "abc65840-22a7-43a4-8b8f-d71159d73efd",
   "metadata": {},
   "outputs": [],
   "source": [
    "df = impute_from_column(df, impute_to = 'c_ssrs_6', impute_from = 'c_ssrs_last_visit_6')\n",
    "df['c_ssrs_stb'] = c_ssrs_aggregation(df, severity = 'stb')\n",
    "df['c_ssrs_idea'] = c_ssrs_aggregation(df, severity = 'idea')"
   ]
  },
  {
   "cell_type": "code",
   "execution_count": 11,
   "id": "12db6aaf-f56d-40bc-aa9f-e8e21b5447a7",
   "metadata": {},
   "outputs": [
    {
     "data": {
      "application/vnd.jupyter.widget-view+json": {
       "model_id": "d71b204218984f2983e521ed6a183866",
       "version_major": 2,
       "version_minor": 0
      },
      "text/plain": [
       "Summarize dataset:   0%|          | 0/5 [00:00<?, ?it/s]"
      ]
     },
     "metadata": {},
     "output_type": "display_data"
    },
    {
     "data": {
      "application/vnd.jupyter.widget-view+json": {
       "model_id": "1af500e481e34e5ab54b883692f6d806",
       "version_major": 2,
       "version_minor": 0
      },
      "text/plain": [
       "Generate report structure:   0%|          | 0/1 [00:00<?, ?it/s]"
      ]
     },
     "metadata": {},
     "output_type": "display_data"
    },
    {
     "data": {
      "application/vnd.jupyter.widget-view+json": {
       "model_id": "a49824b2fe624c5ebb9162b7b2d364bb",
       "version_major": 2,
       "version_minor": 0
      },
      "text/plain": [
       "Render HTML:   0%|          | 0/1 [00:00<?, ?it/s]"
      ]
     },
     "metadata": {},
     "output_type": "display_data"
    },
    {
     "data": {
      "application/vnd.jupyter.widget-view+json": {
       "model_id": "ae7e6015e0274717b9cdbfe0d1e850c5",
       "version_major": 2,
       "version_minor": 0
      },
      "text/plain": [
       "Export report to file:   0%|          | 0/1 [00:00<?, ?it/s]"
      ]
     },
     "metadata": {},
     "output_type": "display_data"
    }
   ],
   "source": [
    "columns = c_ssrs + ['c_ssrs_stb', 'c_ssrs_idea']\n",
    "\n",
    "if questions_text:\n",
    "    simple_eda(df, columns = columns, title = 'c_ssrs', path = '../pandas_profiling', rename=sdq_rename)\n",
    "else:\n",
    "    simple_eda(df, columns = columns, title = 'c_ssrs' path = '../pandas_profiling')"
   ]
  },
  {
   "cell_type": "code",
   "execution_count": 12,
   "id": "ad86a46b-68f4-4be8-aa37-1e8f0c094ae0",
   "metadata": {},
   "outputs": [],
   "source": [
    "if activate_dtale:\n",
    "    d = dtale.show(df[columns])\n",
    "    d.open_browser()"
   ]
  },
  {
   "cell_type": "code",
   "execution_count": 4,
   "id": "c8188ed8-a6d2-4610-9bb7-84d4a14a7073",
   "metadata": {},
   "outputs": [
    {
     "name": "stderr",
     "output_type": "stream",
     "text": [
      "C:\\Users\\nogur\\AppData\\Local\\Temp/ipykernel_21164/2552887713.py:18: UserWarning:\n",
      "\n",
      "Matplotlib is currently using agg, which is a non-GUI backend, so cannot show the figure.\n",
      "\n"
     ]
    }
   ],
   "source": [
    "if dim_reduction is not None:\n",
    "\n",
    "    sns.set(rc={'figure.figsize':(11,8)})\n",
    "    sns.set(font_scale=1.2)\n",
    "    plt.clf()\n",
    "    features = df[c_ssrs]\n",
    "    features = features.dropna(how= 'any', axis=0)\n",
    "\n",
    "    # Instantiate PCA and fit_transform your features\n",
    "    model = dim_reduction(n_components=2)\n",
    "    model_features = model.fit_transform(features)\n",
    "\n",
    "    # Concatenate your PCA features with your target variable\n",
    "    model_df = pd.DataFrame(model_features, columns=['var1', 'var2'])\n",
    "\n",
    "    # Plot the output using Seaborn\n",
    "    sns.scatterplot(x='var1', y='var2', data=model_df).figure.savefig(fr\"../cluster_vis/{name}_vis.png\") \n"
   ]
  },
  {
   "cell_type": "code",
   "execution_count": null,
   "id": "78c1ff54",
   "metadata": {},
   "outputs": [],
   "source": [
    "! pip install matplotlib==2.2.2"
   ]
  },
  {
   "cell_type": "code",
   "execution_count": null,
   "id": "79b12580",
   "metadata": {},
   "outputs": [],
   "source": []
  }
 ],
 "metadata": {
  "kernelspec": {
   "display_name": "Python 3 (ipykernel)",
   "language": "python",
   "name": "python3"
  },
  "language_info": {
   "codemirror_mode": {
    "name": "ipython",
    "version": 3
   },
   "file_extension": ".py",
   "mimetype": "text/x-python",
   "name": "python",
   "nbconvert_exporter": "python",
   "pygments_lexer": "ipython3",
   "version": "3.9.7"
  }
 },
 "nbformat": 4,
 "nbformat_minor": 5
}
