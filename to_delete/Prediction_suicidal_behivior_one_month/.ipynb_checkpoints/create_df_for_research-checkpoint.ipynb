{
 "cells": [
  {
   "cell_type": "code",
   "execution_count": 1,
   "id": "bb6c9300",
   "metadata": {},
   "outputs": [],
   "source": [
    "import numpy as np \n",
    "import pandas as pd"
   ]
  },
  {
   "cell_type": "code",
   "execution_count": 2,
   "id": "cdb362d6",
   "metadata": {},
   "outputs": [
    {
     "name": "stderr",
     "output_type": "stream",
     "text": [
      "C:\\Users\\nogur\\anaconda3\\lib\\site-packages\\IPython\\core\\interactiveshell.py:3444: DtypeWarning: Columns (0,44,50,73,84,309,437,442,443,450,457,486,502,540,549,568,728,733,745,747,752,763,801,810,829,882,883,884,885,886,887,888,889,890,891,892,951,989,994,1000,1015,1045,1065,1066,1070,1071,1072,1073,1075,1076,1077,1080,1081,1098,1103,1119,1121,1172,1174,1193,1195,1196,1197,1203,1204,1205,1206,1358,1360,1361,1362,1368,1369,1370,1371,1486,1492,1493,1496,1497,1498,1499,1508,1516,1532,1535,1546) have mixed types.Specify dtype option on import or set low_memory=False.\n",
      "  exec(code_obj, self.user_global_ns, self.user_ns)\n"
     ]
    }
   ],
   "source": [
    "def impute_from_column(df, impute_to, impute_from):\n",
    "    \"\"\"\n",
    "    test:\n",
    "    df[(df['c_ssrs_6'].isna()) & (~df['c_ssrs_last_visit_6'].isna())][['c_ssrs_6', 'c_ssrs_last_visit_6']]\n",
    "    df = impute_from_column(df, impute_to = 'c_ssrs_6', impute_from = 'c_ssrs_last_visit_6')\n",
    "    df[(df['c_ssrs_6'].isna()) & (~df['c_ssrs_last_visit_6'].isna())][['c_ssrs_6', 'c_ssrs_last_visit_6']]\n",
    "    \n",
    "    \"\"\"\n",
    "    df[impute_to] = np.where(df[impute_to].isnull(), df[impute_from], df[impute_to])\n",
    "    \n",
    "    return df\n",
    "\n",
    "df = pd.read_csv(r'../preprocessed_data/merged_2021_and_2022.csv', na_values = ' ')"
   ]
  },
  {
   "cell_type": "code",
   "execution_count": 3,
   "id": "68445eee",
   "metadata": {},
   "outputs": [],
   "source": [
    "cols = list(df.columns)\n",
    "id_column = 'id'\n",
    "cols.remove('redcap_event_name')\n",
    "cols.remove('age_child')\n",
    "limit = cols.index('age_child_pre')\n",
    "duplicate_cols = list(cols[limit + 1:])\n",
    "unique_cols = list(cols[:limit + 1])\n",
    "all_columns = unique_cols + duplicate_cols"
   ]
  },
  {
   "cell_type": "code",
   "execution_count": 4,
   "id": "5385e6ca",
   "metadata": {},
   "outputs": [],
   "source": [
    "df_intake = df[df.redcap_event_name == 'intake_arm_1'][all_columns]\n",
    "df_pre = df[df.redcap_event_name == 'pre_treatment_arm_1'][all_columns]#[duplicate_cols + [id_column]]"
   ]
  },
  {
   "cell_type": "code",
   "execution_count": 5,
   "id": "ecd311a0",
   "metadata": {},
   "outputs": [],
   "source": [
    "merged = pd.merge(df_intake, df_pre, on=[id_column], how='outer', suffixes=('', '_pre_treatment_arm_1'))"
   ]
  },
  {
   "cell_type": "code",
   "execution_count": 6,
   "id": "02971345",
   "metadata": {},
   "outputs": [],
   "source": [
    "for column_name in [i for i in all_columns if i != 'id']: #duplicate_cols:\n",
    "    merged = impute_from_column(merged, impute_to = column_name, impute_from = f'{column_name}_pre_treatment_arm_1')"
   ]
  },
  {
   "cell_type": "code",
   "execution_count": 7,
   "id": "3eda7731",
   "metadata": {},
   "outputs": [],
   "source": [
    "pre_treatment_cols = [i for i in merged.columns if i.endswith('_pre_treatment_arm_1')]\n",
    "merged = merged.drop(pre_treatment_cols, axis=1)"
   ]
  },
  {
   "cell_type": "code",
   "execution_count": 8,
   "id": "3071c921",
   "metadata": {},
   "outputs": [],
   "source": [
    "merged.to_csv(\"intake_data.csv\", index=False)"
   ]
  },
  {
   "cell_type": "code",
   "execution_count": 9,
   "id": "6965bb55",
   "metadata": {},
   "outputs": [
    {
     "data": {
      "text/plain": [
       "(419, 1545)"
      ]
     },
     "execution_count": 9,
     "metadata": {},
     "output_type": "execute_result"
    }
   ],
   "source": [
    "merged.shape"
   ]
  },
  {
   "cell_type": "code",
   "execution_count": 10,
   "id": "aff6e7f6",
   "metadata": {},
   "outputs": [],
   "source": [
    "a = (merged.groupby('id').age_child_pre.count() == 0)"
   ]
  },
  {
   "cell_type": "code",
   "execution_count": 11,
   "id": "d1f2590a",
   "metadata": {},
   "outputs": [
    {
     "data": {
      "text/plain": [
       "16"
      ]
     },
     "execution_count": 11,
     "metadata": {},
     "output_type": "execute_result"
    }
   ],
   "source": [
    "a[a].sum()"
   ]
  },
  {
   "cell_type": "code",
   "execution_count": 12,
   "id": "89284354",
   "metadata": {},
   "outputs": [],
   "source": [
    "a[a].to_csv(\"missing_age_part_2.csv\")"
   ]
  },
  {
   "cell_type": "code",
   "execution_count": null,
   "id": "35c4dc39",
   "metadata": {},
   "outputs": [],
   "source": []
  }
 ],
 "metadata": {
  "kernelspec": {
   "display_name": "Python 3 (ipykernel)",
   "language": "python",
   "name": "python3"
  },
  "language_info": {
   "codemirror_mode": {
    "name": "ipython",
    "version": 3
   },
   "file_extension": ".py",
   "mimetype": "text/x-python",
   "name": "python",
   "nbconvert_exporter": "python",
   "pygments_lexer": "ipython3",
   "version": "3.9.7"
  }
 },
 "nbformat": 4,
 "nbformat_minor": 5
}
