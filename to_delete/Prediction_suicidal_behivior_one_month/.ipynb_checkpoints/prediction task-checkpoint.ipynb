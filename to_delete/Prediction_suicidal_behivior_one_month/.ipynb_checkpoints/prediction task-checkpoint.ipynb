{
 "cells": [
  {
   "cell_type": "code",
   "execution_count": 36,
   "id": "556360a9",
   "metadata": {},
   "outputs": [],
   "source": [
    "import sys\n",
    "sys.path.append(r\"../../utils\")\n",
    "\n",
    "import pandas as pd\n",
    "from sklearn.model_selection import train_test_split\n",
    "\n",
    "from catboost import CatBoostClassifier, CatBoostRegressor\n",
    "from sklearn.metrics import accuracy_score, precision_score, recall_score, roc_auc_score, precision_recall_curve, roc_curve, auc, average_precision_score\n",
    "\n",
    "from questionnaires_aggregation import c_ssrs_aggregation\n",
    "from utils import impute_from_column, simple_eda\n",
    "from questions_columns import c_ssrs, sci_af_ca\n",
    "from xgboost import XGBClassifier, XGBRegressor"
   ]
  },
  {
   "cell_type": "code",
   "execution_count": 2,
   "id": "9f291d5a",
   "metadata": {},
   "outputs": [],
   "source": [
    "# Splitting the data into train, validation, and test sets\n",
    "train_ratio = 0.6\n",
    "val_ratio = 0.2\n",
    "test_ratio = 0.2\n",
    "c_ssrs = c_ssrs[:-3]\n",
    "target_col = 'suicidal_behavior_time2'\n",
    "\n",
    "sci_cols = ['is_sci_af_ca_missing', 'sci_af_ca_Factor1', 'sci_af_ca_Factor2',\n",
    "             'sci_af_ca_Factor3', 'sci_af_ca_Factor4', \n",
    "             'sci_af_ca_Factor5'] + sci_af_ca"
   ]
  },
  {
   "cell_type": "code",
   "execution_count": 3,
   "id": "dcf717d1",
   "metadata": {},
   "outputs": [],
   "source": [
    "df = pd.read_csv(r\"../create_dataset/data_for_prediction_task - measurement time axis.csv\")\n",
    "df_intake = df[df.measurement == 'time1']\n",
    "df_target = df[df.measurement == 'time2']"
   ]
  },
  {
   "cell_type": "code",
   "execution_count": 4,
   "id": "ac08df06",
   "metadata": {},
   "outputs": [],
   "source": [
    "df_target = df_target[[target_col, 'id']]\n",
    "df_intake = df_intake.dropna(subset=sci_cols, thresh=20)\n",
    "df_intake = df_intake[sci_cols + ['id']]\n",
    "data_for_prediction = pd.merge(df_intake, df_target, on='id', how='inner')\n"
   ]
  },
  {
   "cell_type": "code",
   "execution_count": 5,
   "id": "850fb7a3",
   "metadata": {},
   "outputs": [],
   "source": [
    "label = data_for_prediction[target_col]\n",
    "features = data_for_prediction[sci_cols]"
   ]
  },
  {
   "cell_type": "code",
   "execution_count": 6,
   "id": "69a07c9e",
   "metadata": {},
   "outputs": [],
   "source": [
    "\n",
    "# Splitting the data into training and testing sets\n",
    "X_train, X_test, y_train, y_test = train_test_split(features, label, test_size=test_ratio, random_state=42, stratify=label)\n",
    "\n",
    "# Splitting the training set into training and validation sets\n",
    "X_train, X_val, y_train, y_val = train_test_split(X_train, y_train, test_size=val_ratio/(train_ratio+val_ratio), random_state=42, stratify=y_train)"
   ]
  },
  {
   "cell_type": "code",
   "execution_count": 129,
   "id": "2741dc3a",
   "metadata": {},
   "outputs": [],
   "source": [
    "# Create a CatBoostClassifier object with early stopping based on the validation set\n",
    "eval_set  = [(X_val, y_val)]\n",
    "model = CatBoostClassifier(random_state=42, class_weights = {0: 1, 1: 5})\n",
    "\n",
    "# Fit the model on the training set\n",
    "model.fit(X_train, y_train, eval_set=eval_set, early_stopping_rounds = 5, verbose=0)#, use_best_model=True)\n",
    "\n",
    "# Evaluate the model on the training and validation sets\n",
    "\n",
    "# Make predictions on the training and validation sets\n",
    "y_train_pred = model.predict(X_train)\n",
    "y_train_prob = model.predict_proba(X_train)[:, 1]\n",
    "y_val_pred = model.predict(X_val)\n",
    "y_val_prob = model.predict_proba(X_val)[:, 1]\n",
    "\n",
    "\n",
    "y_test_pred = model.predict(X_test)\n",
    "y_test_prob = model.predict_proba(X_test)[:, 1]\n"
   ]
  },
  {
   "cell_type": "code",
   "execution_count": 130,
   "id": "b7c807a2",
   "metadata": {},
   "outputs": [],
   "source": [
    "# Function to calculate and print various performance metrics\n",
    "\n",
    "def print_performance_metrics(y_true, y_pred, y_prob):\n",
    "    accuracy = accuracy_score(y_true, y_pred)\n",
    "    precision = precision_score(y_true, y_pred)\n",
    "    recall = recall_score(y_true, y_pred)\n",
    "    roc_auc = roc_auc_score(y_true, y_prob)\n",
    "    average_precision = average_precision_score(y_true, y_prob)\n",
    "    \n",
    "    print(f'Accuracy: {accuracy:.4f}')\n",
    "    print(f'Precision: {precision:.4f}')\n",
    "    print(f'Recall: {recall:.4f}')\n",
    "    print(f'ROC AUC: {roc_auc:.4f}')\n",
    "    print(f'PR AUC: {average_precision:.4f}')\n"
   ]
  },
  {
   "cell_type": "code",
   "execution_count": 131,
   "id": "9d9d0302",
   "metadata": {},
   "outputs": [
    {
     "name": "stdout",
     "output_type": "stream",
     "text": [
      "Training set performance:\n",
      "Accuracy: 0.7321\n",
      "Precision: 0.4828\n",
      "Recall: 1.0000\n",
      "ROC AUC: 0.9826\n",
      "PR AUC: 0.9655\n"
     ]
    }
   ],
   "source": [
    "# Print the performance metrics for the training set\n",
    "print('Training set performance:')\n",
    "print_performance_metrics(y_train, y_train_pred, y_train_prob)\n",
    "\n"
   ]
  },
  {
   "cell_type": "code",
   "execution_count": 132,
   "id": "a7899d65",
   "metadata": {},
   "outputs": [
    {
     "name": "stdout",
     "output_type": "stream",
     "text": [
      "Validation set performance:\n",
      "Accuracy: 0.6579\n",
      "Precision: 0.4000\n",
      "Recall: 0.8889\n",
      "ROC AUC: 0.7625\n",
      "PR AUC: 0.4962\n"
     ]
    }
   ],
   "source": [
    "# Print the performance metrics for the validation set\n",
    "print('Validation set performance:')\n",
    "print_performance_metrics(y_val, y_val_pred, y_val_prob)\n"
   ]
  },
  {
   "cell_type": "code",
   "execution_count": 133,
   "id": "592fa5a9",
   "metadata": {},
   "outputs": [
    {
     "name": "stdout",
     "output_type": "stream",
     "text": [
      "Test set performance:\n",
      "Accuracy: 0.5789\n",
      "Precision: 0.3333\n",
      "Recall: 0.7778\n",
      "ROC AUC: 0.6973\n",
      "PR AUC: 0.5834\n"
     ]
    }
   ],
   "source": [
    "# Print the performance metrics for the validation set\n",
    "print('Test set performance:')\n",
    "print_performance_metrics(y_test, y_test_pred, y_test_prob)\n"
   ]
  },
  {
   "cell_type": "code",
   "execution_count": 123,
   "id": "accaa6c9",
   "metadata": {},
   "outputs": [
    {
     "name": "stdout",
     "output_type": "stream",
     "text": [
      "Feature importance scores:\n",
      "sci_af_ca_Factor5: 13.2700\n",
      "sci_af_ca_24: 11.5299\n",
      "sci_af_ca_7: 9.4866\n",
      "sci_af_ca_4: 7.9972\n",
      "sci_af_ca_18: 7.7621\n",
      "sci_af_ca_17: 7.1461\n",
      "sci_af_ca_21: 4.6805\n",
      "sci_af_ca_35: 4.5939\n",
      "sci_af_ca_1: 4.0137\n",
      "sci_af_ca_9: 3.8725\n",
      "sci_af_ca_31: 3.7448\n",
      "sci_af_ca_Factor2: 3.6877\n",
      "sci_af_ca_12: 3.6295\n",
      "sci_af_ca_11: 3.1049\n",
      "sci_af_ca_28: 2.9747\n",
      "sci_af_ca_32: 2.7677\n",
      "sci_af_ca_15: 2.2862\n",
      "sci_af_ca_6: 1.4773\n",
      "sci_af_ca_39: 1.1709\n",
      "sci_af_ca_38: 0.8039\n",
      "is_sci_af_ca_missing: 0.0000\n",
      "sci_af_ca_Factor1: 0.0000\n",
      "sci_af_ca_Factor3: 0.0000\n",
      "sci_af_ca_Factor4: 0.0000\n",
      "sci_af_ca_2: 0.0000\n",
      "sci_af_ca_3: 0.0000\n",
      "sci_af_ca_5: 0.0000\n",
      "sci_af_ca_8: 0.0000\n",
      "sci_af_ca_10: 0.0000\n",
      "sci_af_ca_13: 0.0000\n",
      "sci_af_ca_14: 0.0000\n",
      "sci_af_ca_16: 0.0000\n",
      "sci_af_ca_19: 0.0000\n",
      "sci_af_ca_20: 0.0000\n",
      "sci_af_ca_22: 0.0000\n",
      "sci_af_ca_23: 0.0000\n",
      "sci_af_ca_25: 0.0000\n",
      "sci_af_ca_26: 0.0000\n",
      "sci_af_ca_27: 0.0000\n",
      "sci_af_ca_29: 0.0000\n",
      "sci_af_ca_30: 0.0000\n",
      "sci_af_ca_33: 0.0000\n",
      "sci_af_ca_34: 0.0000\n",
      "sci_af_ca_36: 0.0000\n",
      "sci_af_ca_37: 0.0000\n",
      "sci_af_ca_40: 0.0000\n"
     ]
    }
   ],
   "source": [
    "\n",
    "# Get feature importance scores\n",
    "feature_importance = model.get_feature_importance()\n",
    "feature_names = X_train.columns.tolist()\n",
    "# Print feature importance scores\n",
    "print('Feature importance scores:')\n",
    "for feature_name, score in sorted(zip(feature_names, feature_importance), reverse=1, key = lambda x: x[1]):\n",
    "    print(f'{feature_name}: {score:.4f}')"
   ]
  },
  {
   "cell_type": "markdown",
   "id": "993b27d8",
   "metadata": {},
   "source": [
    "cool, \n",
    "use the train-validation-test variables that you created in the last snippet, \n",
    "and train CatBoostClassifier, with early_stopping parameter based on the validation set.\n",
    "\n",
    "after that look at the performance scores on the training & validation sets.\n",
    "and the feature-importance scores\n",
    "\n",
    "Since it's a complicated task, we need to use the following metrics: accuracy, precision, recall, precision-recall-auc, roc_auc"
   ]
  },
  {
   "cell_type": "code",
   "execution_count": null,
   "id": "2979fe7f",
   "metadata": {},
   "outputs": [],
   "source": []
  }
 ],
 "metadata": {
  "kernelspec": {
   "display_name": "DeppClinic",
   "language": "python",
   "name": "deppclinic"
  },
  "language_info": {
   "codemirror_mode": {
    "name": "ipython",
    "version": 3
   },
   "file_extension": ".py",
   "mimetype": "text/x-python",
   "name": "python",
   "nbconvert_exporter": "python",
   "pygments_lexer": "ipython3",
   "version": "3.9.7"
  }
 },
 "nbformat": 4,
 "nbformat_minor": 5
}
