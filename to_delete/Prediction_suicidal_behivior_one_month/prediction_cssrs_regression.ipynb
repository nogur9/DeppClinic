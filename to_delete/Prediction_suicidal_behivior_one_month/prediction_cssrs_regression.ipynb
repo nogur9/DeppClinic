{
 "cells": [
  {
   "cell_type": "code",
   "execution_count": 8,
   "id": "556360a9",
   "metadata": {},
   "outputs": [],
   "source": [
    "import sys\n",
    "sys.path.append(r\"../../utils\")\n",
    "import numpy as np\n",
    "import pandas as pd\n",
    "from sklearn.model_selection import train_test_split\n",
    "\n",
    "from catboost import CatBoostClassifier, CatBoostRegressor\n",
    "from sklearn.metrics import accuracy_score, precision_score, recall_score, roc_auc_score, precision_recall_curve, roc_curve, auc\n",
    "from sklearn.neural_network import MLPRegressor\n",
    "from questionnaires_aggregation import c_ssrs_aggregation, sci_af_ac_aggregation\n",
    "from utils import impute_from_column, simple_eda\n",
    "from questions_columns import c_ssrs, sci_af_ca, suicidal_behavior\n",
    "from xgboost import XGBClassifier, XGBRegressor\n",
    "from sklearn.metrics import r2_score, max_error"
   ]
  },
  {
   "cell_type": "code",
   "execution_count": 9,
   "id": "9f291d5a",
   "metadata": {},
   "outputs": [],
   "source": [
    "# Splitting the data into train, validation, and test sets\n",
    "train_ratio = 0.6\n",
    "val_ratio = 0.2\n",
    "test_ratio = 0.2\n",
    "c_ssrs = c_ssrs[:-3]"
   ]
  },
  {
   "cell_type": "code",
   "execution_count": 10,
   "id": "dcf717d1",
   "metadata": {},
   "outputs": [],
   "source": [
    "df = pd.read_csv(\"df_for_research.csv\")\n",
    "df_intake = df[df.measurement == 'time1']\n",
    "df_target = df[df.measurement == 'time2']"
   ]
  },
  {
   "cell_type": "code",
   "execution_count": 11,
   "id": "ebe27a64",
   "metadata": {},
   "outputs": [],
   "source": [
    "df_target = impute_from_column(df_target, impute_to = 'c_ssrs_6', impute_from = 'c_ssrs_last_visit_6')\n",
    "df_target.loc[df_target.query('c_ssrs_1 == 0 & c_ssrs_2 == 0').index, c_ssrs] = 0"
   ]
  },
  {
   "cell_type": "code",
   "execution_count": 12,
   "id": "ac08df06",
   "metadata": {},
   "outputs": [],
   "source": [
    "df_target = df_target.dropna(subset=c_ssrs, thresh=3)"
   ]
  },
  {
   "cell_type": "code",
   "execution_count": 13,
   "id": "4ce988de",
   "metadata": {},
   "outputs": [],
   "source": [
    "df_target['c_ssrs_stb'] = c_ssrs_aggregation(df_target, severity='stb')\n",
    "df_target = df_target[['c_ssrs_stb', 'id']]\n"
   ]
  },
  {
   "cell_type": "code",
   "execution_count": 14,
   "id": "69a07c9e",
   "metadata": {},
   "outputs": [],
   "source": [
    "df_intake = df_intake.dropna(subset=sci_af_ca, thresh=20)\n",
    "df_intake = df_intake[sci_af_ca + ['id']]\n",
    "data_for_prediction = pd.merge(df_intake, df_target, on='id', how='inner')\n",
    "data_for_prediction['label'] = np.log(data_for_prediction['c_ssrs_stb'] + 1)\n",
    "\n",
    "data_for_prediction, sci_af_ac_factors = sci_af_ac_aggregation(data_for_prediction)\n",
    "\n",
    "if False:\n",
    "    simple_eda(data_for_prediction, columns = list(data_for_prediction.columns), title = 'all', display_additional_columns=False)"
   ]
  },
  {
   "cell_type": "code",
   "execution_count": 15,
   "id": "0be634d5",
   "metadata": {},
   "outputs": [],
   "source": [
    "features = data_for_prediction[sci_af_ca + sci_af_ac_factors]\n",
    "label = data_for_prediction['label']"
   ]
  },
  {
   "cell_type": "code",
   "execution_count": 16,
   "id": "980bebbc",
   "metadata": {},
   "outputs": [],
   "source": [
    "\n",
    "# Splitting the data into training and testing sets\n",
    "X_train, X_test, y_train, y_test = train_test_split(features, label, test_size=test_ratio, random_state=42, stratify=label)\n",
    "\n",
    "# Splitting the training set into training and validation sets\n",
    "X_train, X_val, y_train, y_val = train_test_split(X_train, y_train, test_size=val_ratio/(train_ratio+val_ratio), random_state=42, stratify=y_train)"
   ]
  },
  {
   "cell_type": "code",
   "execution_count": null,
   "id": "3d7bd8cd",
   "metadata": {},
   "outputs": [],
   "source": []
  },
  {
   "cell_type": "code",
   "execution_count": 17,
   "id": "2741dc3a",
   "metadata": {
    "scrolled": true
   },
   "outputs": [
    {
     "name": "stdout",
     "output_type": "stream",
     "text": [
      "0:\tlearn: 0.0121895\ttest: 0.0056970\tbest: 0.0056970 (0)\ttotal: 148ms\tremaining: 2m 27s\n",
      "1:\tlearn: 0.0217628\ttest: 0.0166623\tbest: 0.0166623 (1)\ttotal: 150ms\tremaining: 1m 14s\n",
      "2:\tlearn: 0.0330819\ttest: 0.0271034\tbest: 0.0271034 (2)\ttotal: 153ms\tremaining: 50.7s\n",
      "3:\tlearn: 0.0438372\ttest: 0.0377243\tbest: 0.0377243 (3)\ttotal: 155ms\tremaining: 38.5s\n",
      "4:\tlearn: 0.0498669\ttest: 0.0389830\tbest: 0.0389830 (4)\ttotal: 156ms\tremaining: 31.1s\n",
      "5:\tlearn: 0.0575625\ttest: 0.0438509\tbest: 0.0438509 (5)\ttotal: 158ms\tremaining: 26.1s\n",
      "6:\tlearn: 0.0677874\ttest: 0.0497498\tbest: 0.0497498 (6)\ttotal: 160ms\tremaining: 22.6s\n",
      "7:\tlearn: 0.0768500\ttest: 0.0617428\tbest: 0.0617428 (7)\ttotal: 161ms\tremaining: 20s\n",
      "8:\tlearn: 0.0848020\ttest: 0.0675218\tbest: 0.0675218 (8)\ttotal: 163ms\tremaining: 18s\n",
      "9:\tlearn: 0.0935060\ttest: 0.0743589\tbest: 0.0743589 (9)\ttotal: 165ms\tremaining: 16.3s\n",
      "10:\tlearn: 0.0997361\ttest: 0.0804132\tbest: 0.0804132 (10)\ttotal: 167ms\tremaining: 15s\n",
      "11:\tlearn: 0.1069207\ttest: 0.0899726\tbest: 0.0899726 (11)\ttotal: 169ms\tremaining: 13.9s\n",
      "12:\tlearn: 0.1142877\ttest: 0.0956070\tbest: 0.0956070 (12)\ttotal: 171ms\tremaining: 12.9s\n",
      "13:\tlearn: 0.1223165\ttest: 0.1039856\tbest: 0.1039856 (13)\ttotal: 172ms\tremaining: 12.1s\n",
      "14:\tlearn: 0.1303815\ttest: 0.1110333\tbest: 0.1110333 (14)\ttotal: 173ms\tremaining: 11.4s\n",
      "15:\tlearn: 0.1367504\ttest: 0.1203033\tbest: 0.1203033 (15)\ttotal: 175ms\tremaining: 10.7s\n",
      "16:\tlearn: 0.1401724\ttest: 0.1249414\tbest: 0.1249414 (16)\ttotal: 176ms\tremaining: 10.2s\n",
      "17:\tlearn: 0.1456217\ttest: 0.1300407\tbest: 0.1300407 (17)\ttotal: 178ms\tremaining: 9.69s\n",
      "18:\tlearn: 0.1503757\ttest: 0.1353285\tbest: 0.1353285 (18)\ttotal: 179ms\tremaining: 9.26s\n",
      "19:\tlearn: 0.1533116\ttest: 0.1381619\tbest: 0.1381619 (19)\ttotal: 181ms\tremaining: 8.88s\n",
      "20:\tlearn: 0.1602944\ttest: 0.1441081\tbest: 0.1441081 (20)\ttotal: 182ms\tremaining: 8.51s\n",
      "21:\tlearn: 0.1661528\ttest: 0.1488124\tbest: 0.1488124 (21)\ttotal: 184ms\tremaining: 8.18s\n",
      "22:\tlearn: 0.1736366\ttest: 0.1556690\tbest: 0.1556690 (22)\ttotal: 186ms\tremaining: 7.88s\n",
      "23:\tlearn: 0.1786807\ttest: 0.1584514\tbest: 0.1584514 (23)\ttotal: 187ms\tremaining: 7.62s\n",
      "24:\tlearn: 0.1830359\ttest: 0.1610124\tbest: 0.1610124 (24)\ttotal: 189ms\tremaining: 7.37s\n",
      "25:\tlearn: 0.1880324\ttest: 0.1636927\tbest: 0.1636927 (25)\ttotal: 191ms\tremaining: 7.14s\n",
      "26:\tlearn: 0.1921750\ttest: 0.1642551\tbest: 0.1642551 (26)\ttotal: 192ms\tremaining: 6.93s\n",
      "27:\tlearn: 0.1984729\ttest: 0.1695971\tbest: 0.1695971 (27)\ttotal: 194ms\tremaining: 6.74s\n",
      "28:\tlearn: 0.2050550\ttest: 0.1722390\tbest: 0.1722390 (28)\ttotal: 196ms\tremaining: 6.56s\n",
      "29:\tlearn: 0.2096712\ttest: 0.1782466\tbest: 0.1782466 (29)\ttotal: 197ms\tremaining: 6.38s\n",
      "30:\tlearn: 0.2142890\ttest: 0.1827336\tbest: 0.1827336 (30)\ttotal: 199ms\tremaining: 6.21s\n",
      "31:\tlearn: 0.2192790\ttest: 0.1851713\tbest: 0.1851713 (31)\ttotal: 200ms\tremaining: 6.06s\n",
      "32:\tlearn: 0.2260990\ttest: 0.1899428\tbest: 0.1899428 (32)\ttotal: 202ms\tremaining: 5.92s\n",
      "33:\tlearn: 0.2308099\ttest: 0.1928542\tbest: 0.1928542 (33)\ttotal: 203ms\tremaining: 5.78s\n",
      "34:\tlearn: 0.2348385\ttest: 0.1963248\tbest: 0.1963248 (34)\ttotal: 205ms\tremaining: 5.64s\n",
      "35:\tlearn: 0.2404545\ttest: 0.2001199\tbest: 0.2001199 (35)\ttotal: 206ms\tremaining: 5.52s\n",
      "36:\tlearn: 0.2462000\ttest: 0.2038269\tbest: 0.2038269 (36)\ttotal: 208ms\tremaining: 5.41s\n",
      "37:\tlearn: 0.2495112\ttest: 0.2080848\tbest: 0.2080848 (37)\ttotal: 210ms\tremaining: 5.31s\n",
      "38:\tlearn: 0.2519155\ttest: 0.2118007\tbest: 0.2118007 (38)\ttotal: 211ms\tremaining: 5.2s\n",
      "39:\tlearn: 0.2563343\ttest: 0.2108278\tbest: 0.2118007 (38)\ttotal: 213ms\tremaining: 5.11s\n",
      "40:\tlearn: 0.2593210\ttest: 0.2123537\tbest: 0.2123537 (40)\ttotal: 214ms\tremaining: 5.01s\n",
      "41:\tlearn: 0.2614324\ttest: 0.2156592\tbest: 0.2156592 (41)\ttotal: 216ms\tremaining: 4.93s\n",
      "42:\tlearn: 0.2650465\ttest: 0.2172070\tbest: 0.2172070 (42)\ttotal: 218ms\tremaining: 4.86s\n",
      "43:\tlearn: 0.2685785\ttest: 0.2205861\tbest: 0.2205861 (43)\ttotal: 220ms\tremaining: 4.77s\n",
      "44:\tlearn: 0.2724766\ttest: 0.2257208\tbest: 0.2257208 (44)\ttotal: 221ms\tremaining: 4.69s\n",
      "45:\tlearn: 0.2749670\ttest: 0.2302143\tbest: 0.2302143 (45)\ttotal: 223ms\tremaining: 4.61s\n",
      "46:\tlearn: 0.2805601\ttest: 0.2305586\tbest: 0.2305586 (46)\ttotal: 224ms\tremaining: 4.54s\n",
      "47:\tlearn: 0.2845111\ttest: 0.2297450\tbest: 0.2305586 (46)\ttotal: 226ms\tremaining: 4.47s\n",
      "48:\tlearn: 0.2869279\ttest: 0.2317996\tbest: 0.2317996 (48)\ttotal: 227ms\tremaining: 4.41s\n",
      "49:\tlearn: 0.2907018\ttest: 0.2350211\tbest: 0.2350211 (49)\ttotal: 229ms\tremaining: 4.35s\n",
      "50:\tlearn: 0.2932667\ttest: 0.2360590\tbest: 0.2360590 (50)\ttotal: 231ms\tremaining: 4.29s\n",
      "51:\tlearn: 0.2960156\ttest: 0.2354624\tbest: 0.2360590 (50)\ttotal: 233ms\tremaining: 4.24s\n",
      "52:\tlearn: 0.2981675\ttest: 0.2385429\tbest: 0.2385429 (52)\ttotal: 235ms\tremaining: 4.19s\n",
      "53:\tlearn: 0.3019820\ttest: 0.2395975\tbest: 0.2395975 (53)\ttotal: 236ms\tremaining: 4.14s\n",
      "54:\tlearn: 0.3050314\ttest: 0.2380930\tbest: 0.2395975 (53)\ttotal: 238ms\tremaining: 4.09s\n",
      "55:\tlearn: 0.3096993\ttest: 0.2402690\tbest: 0.2402690 (55)\ttotal: 239ms\tremaining: 4.03s\n",
      "56:\tlearn: 0.3112667\ttest: 0.2435629\tbest: 0.2435629 (56)\ttotal: 241ms\tremaining: 3.98s\n",
      "57:\tlearn: 0.3153284\ttest: 0.2463509\tbest: 0.2463509 (57)\ttotal: 242ms\tremaining: 3.94s\n",
      "58:\tlearn: 0.3198312\ttest: 0.2457376\tbest: 0.2463509 (57)\ttotal: 244ms\tremaining: 3.89s\n",
      "59:\tlearn: 0.3224546\ttest: 0.2469858\tbest: 0.2469858 (59)\ttotal: 246ms\tremaining: 3.85s\n",
      "60:\tlearn: 0.3252120\ttest: 0.2484008\tbest: 0.2484008 (60)\ttotal: 248ms\tremaining: 3.81s\n",
      "61:\tlearn: 0.3286837\ttest: 0.2533500\tbest: 0.2533500 (61)\ttotal: 249ms\tremaining: 3.77s\n",
      "62:\tlearn: 0.3325991\ttest: 0.2534271\tbest: 0.2534271 (62)\ttotal: 251ms\tremaining: 3.74s\n",
      "63:\tlearn: 0.3355884\ttest: 0.2554942\tbest: 0.2554942 (63)\ttotal: 253ms\tremaining: 3.7s\n",
      "64:\tlearn: 0.3380560\ttest: 0.2566993\tbest: 0.2566993 (64)\ttotal: 254ms\tremaining: 3.66s\n",
      "65:\tlearn: 0.3420149\ttest: 0.2610206\tbest: 0.2610206 (65)\ttotal: 256ms\tremaining: 3.62s\n",
      "66:\tlearn: 0.3465490\ttest: 0.2620828\tbest: 0.2620828 (66)\ttotal: 257ms\tremaining: 3.58s\n",
      "67:\tlearn: 0.3491349\ttest: 0.2647391\tbest: 0.2647391 (67)\ttotal: 259ms\tremaining: 3.54s\n",
      "68:\tlearn: 0.3514735\ttest: 0.2667168\tbest: 0.2667168 (68)\ttotal: 260ms\tremaining: 3.5s\n",
      "69:\tlearn: 0.3542809\ttest: 0.2655955\tbest: 0.2667168 (68)\ttotal: 261ms\tremaining: 3.47s\n",
      "70:\tlearn: 0.3583189\ttest: 0.2675314\tbest: 0.2675314 (70)\ttotal: 263ms\tremaining: 3.43s\n",
      "71:\tlearn: 0.3614010\ttest: 0.2697963\tbest: 0.2697963 (71)\ttotal: 264ms\tremaining: 3.4s\n",
      "72:\tlearn: 0.3632607\ttest: 0.2713654\tbest: 0.2713654 (72)\ttotal: 265ms\tremaining: 3.37s\n",
      "73:\tlearn: 0.3665083\ttest: 0.2745564\tbest: 0.2745564 (73)\ttotal: 267ms\tremaining: 3.34s\n",
      "74:\tlearn: 0.3694079\ttest: 0.2772839\tbest: 0.2772839 (74)\ttotal: 268ms\tremaining: 3.31s\n",
      "75:\tlearn: 0.3738372\ttest: 0.2783724\tbest: 0.2783724 (75)\ttotal: 269ms\tremaining: 3.28s\n",
      "76:\tlearn: 0.3762285\ttest: 0.2806555\tbest: 0.2806555 (76)\ttotal: 271ms\tremaining: 3.25s\n",
      "77:\tlearn: 0.3783518\ttest: 0.2823045\tbest: 0.2823045 (77)\ttotal: 272ms\tremaining: 3.22s\n",
      "78:\tlearn: 0.3816379\ttest: 0.2836557\tbest: 0.2836557 (78)\ttotal: 274ms\tremaining: 3.19s\n",
      "79:\tlearn: 0.3823088\ttest: 0.2848045\tbest: 0.2848045 (79)\ttotal: 275ms\tremaining: 3.16s\n",
      "80:\tlearn: 0.3841354\ttest: 0.2859329\tbest: 0.2859329 (80)\ttotal: 277ms\tremaining: 3.14s\n",
      "81:\tlearn: 0.3880659\ttest: 0.2900032\tbest: 0.2900032 (81)\ttotal: 278ms\tremaining: 3.11s\n",
      "82:\tlearn: 0.3905839\ttest: 0.2909750\tbest: 0.2909750 (82)\ttotal: 279ms\tremaining: 3.08s\n",
      "83:\tlearn: 0.3927152\ttest: 0.2915129\tbest: 0.2915129 (83)\ttotal: 280ms\tremaining: 3.06s\n",
      "84:\tlearn: 0.3955647\ttest: 0.2910259\tbest: 0.2915129 (83)\ttotal: 282ms\tremaining: 3.03s\n",
      "85:\tlearn: 0.3970501\ttest: 0.2917155\tbest: 0.2917155 (85)\ttotal: 283ms\tremaining: 3.01s\n",
      "86:\tlearn: 0.4009386\ttest: 0.2908401\tbest: 0.2917155 (85)\ttotal: 285ms\tremaining: 2.99s\n",
      "87:\tlearn: 0.4044191\ttest: 0.2946104\tbest: 0.2946104 (87)\ttotal: 286ms\tremaining: 2.96s\n",
      "88:\tlearn: 0.4071719\ttest: 0.2943889\tbest: 0.2946104 (87)\ttotal: 287ms\tremaining: 2.94s\n",
      "89:\tlearn: 0.4103500\ttest: 0.2947203\tbest: 0.2947203 (89)\ttotal: 289ms\tremaining: 2.92s\n",
      "90:\tlearn: 0.4120021\ttest: 0.2950228\tbest: 0.2950228 (90)\ttotal: 290ms\tremaining: 2.9s\n",
      "91:\tlearn: 0.4162872\ttest: 0.2960007\tbest: 0.2960007 (91)\ttotal: 291ms\tremaining: 2.88s\n",
      "92:\tlearn: 0.4176904\ttest: 0.2963747\tbest: 0.2963747 (92)\ttotal: 293ms\tremaining: 2.85s\n",
      "93:\tlearn: 0.4196190\ttest: 0.2974453\tbest: 0.2974453 (93)\ttotal: 294ms\tremaining: 2.83s\n",
      "94:\tlearn: 0.4216169\ttest: 0.2978916\tbest: 0.2978916 (94)\ttotal: 295ms\tremaining: 2.81s\n",
      "95:\tlearn: 0.4235159\ttest: 0.2991806\tbest: 0.2991806 (95)\ttotal: 296ms\tremaining: 2.79s\n",
      "96:\tlearn: 0.4250396\ttest: 0.3007887\tbest: 0.3007887 (96)\ttotal: 298ms\tremaining: 2.77s\n",
      "97:\tlearn: 0.4281151\ttest: 0.3038551\tbest: 0.3038551 (97)\ttotal: 299ms\tremaining: 2.75s\n",
      "98:\tlearn: 0.4309828\ttest: 0.3063129\tbest: 0.3063129 (98)\ttotal: 301ms\tremaining: 2.73s\n",
      "99:\tlearn: 0.4347077\ttest: 0.3053054\tbest: 0.3063129 (98)\ttotal: 302ms\tremaining: 2.72s\n",
      "100:\tlearn: 0.4374625\ttest: 0.3078408\tbest: 0.3078408 (100)\ttotal: 303ms\tremaining: 2.7s\n",
      "101:\tlearn: 0.4409516\ttest: 0.3075969\tbest: 0.3078408 (100)\ttotal: 305ms\tremaining: 2.68s\n",
      "102:\tlearn: 0.4438012\ttest: 0.3078153\tbest: 0.3078408 (100)\ttotal: 306ms\tremaining: 2.67s\n"
     ]
    },
    {
     "name": "stdout",
     "output_type": "stream",
     "text": [
      "103:\tlearn: 0.4468843\ttest: 0.3085612\tbest: 0.3085612 (103)\ttotal: 308ms\tremaining: 2.65s\n",
      "104:\tlearn: 0.4481526\ttest: 0.3078307\tbest: 0.3085612 (103)\ttotal: 310ms\tremaining: 2.64s\n",
      "105:\tlearn: 0.4486734\ttest: 0.3083526\tbest: 0.3085612 (103)\ttotal: 311ms\tremaining: 2.63s\n",
      "106:\tlearn: 0.4499798\ttest: 0.3092812\tbest: 0.3092812 (106)\ttotal: 313ms\tremaining: 2.61s\n",
      "107:\tlearn: 0.4526874\ttest: 0.3089533\tbest: 0.3092812 (106)\ttotal: 314ms\tremaining: 2.59s\n",
      "108:\tlearn: 0.4543097\ttest: 0.3083323\tbest: 0.3092812 (106)\ttotal: 315ms\tremaining: 2.58s\n",
      "109:\tlearn: 0.4575837\ttest: 0.3091227\tbest: 0.3092812 (106)\ttotal: 317ms\tremaining: 2.56s\n",
      "Stopped by overfitting detector  (3 iterations wait)\n",
      "\n",
      "bestTest = 0.3092811841\n",
      "bestIteration = 106\n",
      "\n",
      "Shrink model to first 107 iterations.\n"
     ]
    }
   ],
   "source": [
    "# Create a CatBoostClassifier object with early stopping based on the validation set\n",
    "\n",
    "eval_set  = [(X_val, y_val)]\n",
    "model = CatBoostRegressor(random_state=42, depth = 3, l2_leaf_reg = 7, loss_function='RMSE', eval_metric='R2')\n",
    "\n",
    "\n",
    "# Fit the model on the training set\n",
    "model.fit(X_train, y_train, eval_set = eval_set, early_stopping_rounds = 3)    #eval_set=(X_val, y_val))\n",
    "\n",
    "\n",
    "# Make predictions on the training and validation sets\n",
    "y_train_pred = model.predict(X_train)\n",
    "y_val_pred = model.predict(X_val)\n"
   ]
  },
  {
   "cell_type": "code",
   "execution_count": null,
   "id": "dd138ea0",
   "metadata": {},
   "outputs": [],
   "source": []
  },
  {
   "cell_type": "code",
   "execution_count": 18,
   "id": "b70a4a16",
   "metadata": {},
   "outputs": [
    {
     "name": "stdout",
     "output_type": "stream",
     "text": [
      "max_error(y_val, y_val_pred) = 1.3779847539077354\n",
      "r2_score(y_val, y_val_pred) = 0.309281180711818\n"
     ]
    }
   ],
   "source": [
    "print(f\"{max_error(y_val, y_val_pred) = }\\n{r2_score(y_val, y_val_pred) = }\")"
   ]
  },
  {
   "cell_type": "code",
   "execution_count": 19,
   "id": "be64ab57",
   "metadata": {},
   "outputs": [
    {
     "name": "stdout",
     "output_type": "stream",
     "text": [
      "max_error(y_train, y_train_pred) = 1.3833627747768082\n",
      "r2_score(y_train, y_train_pred) = 0.4499797709787827\n"
     ]
    }
   ],
   "source": [
    "print(f\"{max_error(y_train, y_train_pred) = }\\n{r2_score(y_train, y_train_pred) = }\")"
   ]
  },
  {
   "cell_type": "code",
   "execution_count": null,
   "id": "592fa5a9",
   "metadata": {},
   "outputs": [],
   "source": []
  },
  {
   "cell_type": "code",
   "execution_count": 20,
   "id": "accaa6c9",
   "metadata": {},
   "outputs": [
    {
     "name": "stdout",
     "output_type": "stream",
     "text": [
      "Feature importance scores:\n",
      "sci_af_ca_24: 14.2575\n",
      "sci_af_ca_11: 8.6792\n",
      "sci_af_ca_Factor1: 6.8044\n",
      "sci_af_ca_19: 6.6013\n",
      "sci_af_ca_14: 4.2316\n",
      "sci_af_ca_40: 4.2029\n",
      "sci_af_ca_8: 3.9182\n",
      "sci_af_ca_Factor2: 3.1601\n",
      "sci_af_ca_7: 2.9430\n",
      "sci_af_ca_21: 2.7999\n",
      "sci_af_ca_16: 2.5196\n",
      "sci_af_ca_Factor4: 2.5039\n",
      "sci_af_ca_10: 2.3854\n",
      "sci_af_ca_29: 2.3246\n",
      "sci_af_ca_1: 2.3245\n",
      "sci_af_ca_26: 2.2489\n",
      "sci_af_ca_30: 2.0993\n",
      "sci_af_ca_Factor5: 2.0399\n",
      "sci_af_ca_27: 1.8154\n",
      "sci_af_ca_Factor3: 1.7674\n",
      "sci_af_ca_36: 1.7312\n",
      "sci_af_ca_2: 1.6462\n",
      "sci_af_ca_4: 1.5998\n",
      "sci_af_ca_5: 1.5886\n",
      "sci_af_ca_37: 1.1563\n",
      "sci_af_ca_35: 1.0902\n",
      "sci_af_ca_39: 1.0726\n",
      "sci_af_ca_28: 1.0048\n",
      "sci_af_ca_15: 0.9416\n",
      "sci_af_ca_31: 0.9095\n",
      "sci_af_ca_33: 0.9022\n",
      "sci_af_ca_20: 0.8863\n",
      "sci_af_ca_13: 0.8630\n",
      "sci_af_ca_22: 0.8061\n",
      "sci_af_ca_9: 0.7727\n",
      "sci_af_ca_25: 0.7520\n",
      "sci_af_ca_12: 0.5363\n",
      "sci_af_ca_6: 0.5052\n",
      "sci_af_ca_38: 0.4890\n",
      "sci_af_ca_34: 0.3694\n",
      "sci_af_ca_18: 0.2922\n",
      "sci_af_ca_23: 0.1830\n",
      "sci_af_ca_3: 0.1432\n",
      "sci_af_ca_17: 0.0985\n",
      "sci_af_ca_32: 0.0331\n"
     ]
    }
   ],
   "source": [
    "\n",
    "# Get feature importance scores\n",
    "feature_importance = model.get_feature_importance()\n",
    "feature_names = X_train.columns.tolist()\n",
    "# Print feature importance scores\n",
    "print('Feature importance scores:')\n",
    "for feature_name, score in sorted(zip(feature_names, feature_importance), reverse=1, key = lambda x: x[1]):\n",
    "    print(f'{feature_name}: {score:.4f}')"
   ]
  },
  {
   "cell_type": "markdown",
   "id": "993b27d8",
   "metadata": {},
   "source": [
    "cool, \n",
    "use the train-validation-test variables that you created in the last snippet, \n",
    "and train CatBoostClassifier, with early_stopping parameter based on the validation set.\n",
    "\n",
    "after that look at the performance scores on the training & validation sets.\n",
    "and the feature-importance scores\n",
    "\n",
    "Since it's a complicated task, we need to use the following metrics: accuracy, precision, recall, precision-recall-auc, roc_auc"
   ]
  },
  {
   "cell_type": "code",
   "execution_count": null,
   "id": "2979fe7f",
   "metadata": {},
   "outputs": [],
   "source": []
  }
 ],
 "metadata": {
  "kernelspec": {
   "display_name": "DeppClinic",
   "language": "python",
   "name": "deppclinic"
  },
  "language_info": {
   "codemirror_mode": {
    "name": "ipython",
    "version": 3
   },
   "file_extension": ".py",
   "mimetype": "text/x-python",
   "name": "python",
   "nbconvert_exporter": "python",
   "pygments_lexer": "ipython3",
   "version": "3.9.7"
  }
 },
 "nbformat": 4,
 "nbformat_minor": 5
}
