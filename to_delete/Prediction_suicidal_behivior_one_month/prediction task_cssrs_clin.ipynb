{
 "cells": [
  {
   "cell_type": "code",
   "execution_count": 1,
   "id": "556360a9",
   "metadata": {},
   "outputs": [],
   "source": [
    "import sys\n",
    "sys.path.append(r\"../../utils\")\n",
    "\n",
    "import pandas as pd\n",
    "from sklearn.model_selection import train_test_split\n",
    "\n",
    "from catboost import CatBoostClassifier\n",
    "from sklearn.metrics import accuracy_score, precision_score, recall_score, roc_auc_score, precision_recall_curve, roc_curve, auc\n",
    "\n",
    "from questionnaires_aggregation import c_ssrs_aggregation\n",
    "from utils import impute_from_column, simple_eda\n",
    "from questions_columns import c_ssrs, sci_af_ca\n",
    "from xgboost import XGBClassifier"
   ]
  },
  {
   "cell_type": "code",
   "execution_count": 2,
   "id": "9f291d5a",
   "metadata": {},
   "outputs": [],
   "source": [
    "# Splitting the data into train, validation, and test sets\n",
    "train_ratio = 0.6\n",
    "val_ratio = 0.2\n",
    "test_ratio = 0.2\n",
    "c_ssrs = c_ssrs[:-3]"
   ]
  },
  {
   "cell_type": "code",
   "execution_count": 3,
   "id": "dcf717d1",
   "metadata": {},
   "outputs": [],
   "source": [
    "df = pd.read_csv(\"df_for_research.csv\")\n",
    "df_intake = df[df.measurement == 'time1']\n",
    "df_target = df[df.measurement == 'time2']"
   ]
  },
  {
   "cell_type": "code",
   "execution_count": 4,
   "id": "ebe27a64",
   "metadata": {},
   "outputs": [
    {
     "name": "stderr",
     "output_type": "stream",
     "text": [
      "C:\\Users\\nogur\\Documents\\DeppClinic\\research\\Prediction_suicidal_behivior_one_month\\../../utils\\utils.py:14: SettingWithCopyWarning: \n",
      "A value is trying to be set on a copy of a slice from a DataFrame.\n",
      "Try using .loc[row_indexer,col_indexer] = value instead\n",
      "\n",
      "See the caveats in the documentation: https://pandas.pydata.org/pandas-docs/stable/user_guide/indexing.html#returning-a-view-versus-a-copy\n",
      "  df[impute_to] = np.where(df[impute_to].isnull(), df[impute_from], df[impute_to])\n",
      "C:\\Users\\nogur\\anaconda3\\envs\\DeppClinic\\lib\\site-packages\\pandas\\core\\indexing.py:1817: SettingWithCopyWarning: \n",
      "A value is trying to be set on a copy of a slice from a DataFrame.\n",
      "Try using .loc[row_indexer,col_indexer] = value instead\n",
      "\n",
      "See the caveats in the documentation: https://pandas.pydata.org/pandas-docs/stable/user_guide/indexing.html#returning-a-view-versus-a-copy\n",
      "  self._setitem_single_column(loc, value, pi)\n"
     ]
    }
   ],
   "source": [
    "df_target = impute_from_column(df_target, impute_to = 'c_ssrs_6', impute_from = 'c_ssrs_last_visit_6')\n",
    "df_target.loc[df_target.query('c_ssrs_1 == 0 & c_ssrs_2 == 0').index, c_ssrs] = 0"
   ]
  },
  {
   "cell_type": "code",
   "execution_count": 5,
   "id": "ac08df06",
   "metadata": {},
   "outputs": [],
   "source": [
    "df_target = df_target.dropna(subset=c_ssrs, thresh=3)"
   ]
  },
  {
   "cell_type": "code",
   "execution_count": 7,
   "id": "4ce988de",
   "metadata": {},
   "outputs": [],
   "source": [
    "df_target['c_ssrs_stb'] = c_ssrs_aggregation(df_target, severity = 'stb')\n",
    "df_target = df_target[['c_ssrs_stb', 'id']]\n"
   ]
  },
  {
   "cell_type": "code",
   "execution_count": 8,
   "id": "ebec6fde",
   "metadata": {},
   "outputs": [
    {
     "data": {
      "text/plain": [
       "(262, 2)"
      ]
     },
     "execution_count": 8,
     "metadata": {},
     "output_type": "execute_result"
    }
   ],
   "source": [
    "df_target.shape"
   ]
  },
  {
   "cell_type": "code",
   "execution_count": 9,
   "id": "42993b66",
   "metadata": {},
   "outputs": [
    {
     "data": {
      "text/plain": [
       "(408, 258)"
      ]
     },
     "execution_count": 9,
     "metadata": {},
     "output_type": "execute_result"
    }
   ],
   "source": [
    "df_intake.shape"
   ]
  },
  {
   "cell_type": "code",
   "execution_count": 10,
   "id": "69a07c9e",
   "metadata": {},
   "outputs": [],
   "source": [
    "df_intake = df_intake.dropna(subset=sci_af_ca, thresh=20)"
   ]
  },
  {
   "cell_type": "code",
   "execution_count": 11,
   "id": "bdd30967",
   "metadata": {},
   "outputs": [
    {
     "data": {
      "text/plain": [
       "(237, 41)"
      ]
     },
     "execution_count": 11,
     "metadata": {},
     "output_type": "execute_result"
    }
   ],
   "source": [
    "df_intake = df_intake[sci_af_ca + ['id']]\n",
    "df_intake.shape"
   ]
  },
  {
   "cell_type": "code",
   "execution_count": 12,
   "id": "4d96d086",
   "metadata": {},
   "outputs": [
    {
     "data": {
      "text/plain": [
       "154"
      ]
     },
     "execution_count": 12,
     "metadata": {},
     "output_type": "execute_result"
    }
   ],
   "source": [
    "df_intake['id'].isin(df_target['id']).sum()"
   ]
  },
  {
   "cell_type": "code",
   "execution_count": 13,
   "id": "57e95d11",
   "metadata": {},
   "outputs": [
    {
     "data": {
      "application/vnd.jupyter.widget-view+json": {
       "model_id": "2ad3f36bdbbb4d398ccb817e0083cb0c",
       "version_major": 2,
       "version_minor": 0
      },
      "text/plain": [
       "Summarize dataset:   0%|          | 0/5 [00:00<?, ?it/s]"
      ]
     },
     "metadata": {},
     "output_type": "display_data"
    },
    {
     "data": {
      "application/vnd.jupyter.widget-view+json": {
       "model_id": "35e9050ff8254406bd66c8ac1b299e3a",
       "version_major": 2,
       "version_minor": 0
      },
      "text/plain": [
       "Generate report structure:   0%|          | 0/1 [00:00<?, ?it/s]"
      ]
     },
     "metadata": {},
     "output_type": "display_data"
    },
    {
     "data": {
      "application/vnd.jupyter.widget-view+json": {
       "model_id": "78807a49d13b41bfb07889474abe58f9",
       "version_major": 2,
       "version_minor": 0
      },
      "text/plain": [
       "Render HTML:   0%|          | 0/1 [00:00<?, ?it/s]"
      ]
     },
     "metadata": {},
     "output_type": "display_data"
    },
    {
     "data": {
      "application/vnd.jupyter.widget-view+json": {
       "model_id": "09a0c34378e24bd796034311bd7c6980",
       "version_major": 2,
       "version_minor": 0
      },
      "text/plain": [
       "Export report to file:   0%|          | 0/1 [00:00<?, ?it/s]"
      ]
     },
     "metadata": {},
     "output_type": "display_data"
    }
   ],
   "source": [
    "data_for_prediction = pd.merge(df_intake, df_target, on='id', how='inner')\n",
    "data_for_prediction['label'] = (data_for_prediction['c_ssrs_stb'] > 3).astype(int)\n",
    "if True:\n",
    "    simple_eda(data_for_prediction, columns = list(data_for_prediction.columns), title = 'all', display_additional_columns=False)"
   ]
  },
  {
   "cell_type": "code",
   "execution_count": 14,
   "id": "0be634d5",
   "metadata": {},
   "outputs": [],
   "source": [
    "features = data_for_prediction[sci_af_ca]\n",
    "label = data_for_prediction['label']"
   ]
  },
  {
   "cell_type": "code",
   "execution_count": 15,
   "id": "980bebbc",
   "metadata": {},
   "outputs": [],
   "source": [
    "\n",
    "# Splitting the data into training and testing sets\n",
    "X_train, X_test, y_train, y_test = train_test_split(features, label, test_size=test_ratio, random_state=42, stratify=label)\n",
    "\n",
    "# Splitting the training set into training and validation sets\n",
    "X_train, X_val, y_train, y_val = train_test_split(X_train, y_train, test_size=val_ratio/(train_ratio+val_ratio), random_state=42, stratify=y_train)"
   ]
  },
  {
   "cell_type": "code",
   "execution_count": 21,
   "id": "2741dc3a",
   "metadata": {},
   "outputs": [],
   "source": [
    "# Create a CatBoostClassifier object with early stopping based on the validation set\n",
    "model = CatBoostClassifier(early_stopping_rounds=2, random_state=42, verbose=False, l2_leaf_reg=6, class_weights=[1, 4], eval_metric='AUC')\n",
    "\n",
    "# Fit the model on the training set\n",
    "model.fit(X_train, y_train, eval_set=(X_val, y_val))\n",
    "\n",
    "# Evaluate the model on the training and validation sets\n",
    "\n",
    "# Make predictions on the training and validation sets\n",
    "y_train_pred = model.predict(X_train)\n",
    "y_train_prob = model.predict_proba(X_train)[:, 1]\n",
    "y_val_pred = model.predict(X_val)\n",
    "y_val_prob = model.predict_proba(X_val)[:, 1]\n"
   ]
  },
  {
   "cell_type": "code",
   "execution_count": 22,
   "id": "b7c807a2",
   "metadata": {},
   "outputs": [],
   "source": [
    "# Function to calculate and print various performance metrics\n",
    "def print_performance_metrics(y_true, y_pred, y_prob):\n",
    "    accuracy = accuracy_score(y_true, y_pred)\n",
    "    precision = precision_score(y_true, y_pred)\n",
    "    recall = recall_score(y_true, y_pred)\n",
    "    roc_auc = roc_auc_score(y_true, y_prob)\n",
    "#     precision_recall_auc = auc(*precision_recall_curve(y_true, y_prob)[:2])\n",
    "#     fpr, tpr, _ = roc_curve(y_true, y_prob)\n",
    "\n",
    "    print(f'Accuracy: {accuracy:.4f}')\n",
    "    print(f'Precision: {precision:.4f}')\n",
    "    print(f'Recall: {recall:.4f}')\n",
    "    print(f'ROC AUC: {roc_auc:.4f}')\n",
    "#     print(f'Precision-Recall AUC: {precision_recall_auc:.4f}')\n",
    "#     print(f'FPR: {fpr}')\n",
    "#     print(f'TPR: {tpr}')\n",
    "#     print(f'Thresholds: {_}\\n')"
   ]
  },
  {
   "cell_type": "code",
   "execution_count": 23,
   "id": "9d9d0302",
   "metadata": {},
   "outputs": [
    {
     "name": "stdout",
     "output_type": "stream",
     "text": [
      "Training set performance:\n",
      "Accuracy: 0.7717\n",
      "Precision: 0.5116\n",
      "Recall: 1.0000\n",
      "ROC AUC: 0.9458\n"
     ]
    }
   ],
   "source": [
    "# Print the performance metrics for the training set\n",
    "print('Training set performance:')\n",
    "print_performance_metrics(y_train, y_train_pred, y_train_prob)\n",
    "\n"
   ]
  },
  {
   "cell_type": "code",
   "execution_count": 24,
   "id": "a7899d65",
   "metadata": {},
   "outputs": [
    {
     "name": "stdout",
     "output_type": "stream",
     "text": [
      "Validation set performance:\n",
      "Accuracy: 0.6129\n",
      "Precision: 0.3333\n",
      "Recall: 0.5000\n",
      "ROC AUC: 0.7174\n"
     ]
    }
   ],
   "source": [
    "# Print the performance metrics for the validation set\n",
    "print('Validation set performance:')\n",
    "print_performance_metrics(y_val, y_val_pred, y_val_prob)\n"
   ]
  },
  {
   "cell_type": "code",
   "execution_count": null,
   "id": "592fa5a9",
   "metadata": {},
   "outputs": [],
   "source": []
  },
  {
   "cell_type": "code",
   "execution_count": 25,
   "id": "accaa6c9",
   "metadata": {},
   "outputs": [
    {
     "name": "stdout",
     "output_type": "stream",
     "text": [
      "Feature importance scores:\n",
      "sci_af_ca_21: 18.5610\n",
      "sci_af_ca_8: 18.0660\n",
      "sci_af_ca_18: 11.9367\n",
      "sci_af_ca_24: 7.7212\n",
      "sci_af_ca_4: 7.3499\n",
      "sci_af_ca_9: 6.0046\n",
      "sci_af_ca_25: 5.7582\n",
      "sci_af_ca_28: 5.4893\n",
      "sci_af_ca_38: 4.8078\n",
      "sci_af_ca_13: 3.7556\n",
      "sci_af_ca_26: 2.0497\n",
      "sci_af_ca_20: 1.9450\n",
      "sci_af_ca_6: 1.5260\n",
      "sci_af_ca_10: 1.4394\n",
      "sci_af_ca_27: 1.1243\n",
      "sci_af_ca_31: 0.8914\n",
      "sci_af_ca_1: 0.7024\n",
      "sci_af_ca_34: 0.5053\n",
      "sci_af_ca_14: 0.3662\n",
      "sci_af_ca_2: 0.0000\n",
      "sci_af_ca_3: 0.0000\n",
      "sci_af_ca_5: 0.0000\n",
      "sci_af_ca_7: 0.0000\n",
      "sci_af_ca_11: 0.0000\n",
      "sci_af_ca_12: 0.0000\n",
      "sci_af_ca_15: 0.0000\n",
      "sci_af_ca_16: 0.0000\n",
      "sci_af_ca_17: 0.0000\n",
      "sci_af_ca_19: 0.0000\n",
      "sci_af_ca_22: 0.0000\n",
      "sci_af_ca_23: 0.0000\n",
      "sci_af_ca_29: 0.0000\n",
      "sci_af_ca_30: 0.0000\n",
      "sci_af_ca_32: 0.0000\n",
      "sci_af_ca_33: 0.0000\n",
      "sci_af_ca_35: 0.0000\n",
      "sci_af_ca_36: 0.0000\n",
      "sci_af_ca_37: 0.0000\n",
      "sci_af_ca_39: 0.0000\n",
      "sci_af_ca_40: 0.0000\n"
     ]
    }
   ],
   "source": [
    "\n",
    "# Get feature importance scores\n",
    "feature_importance = model.get_feature_importance()\n",
    "feature_names = X_train.columns.tolist()\n",
    "# Print feature importance scores\n",
    "print('Feature importance scores:')\n",
    "for feature_name, score in sorted(zip(feature_names, feature_importance), reverse=1, key = lambda x: x[1]):\n",
    "    print(f'{feature_name}: {score:.4f}')"
   ]
  },
  {
   "cell_type": "markdown",
   "id": "993b27d8",
   "metadata": {},
   "source": [
    "cool, \n",
    "use the train-validation-test variables that you created in the last snippet, \n",
    "and train CatBoostClassifier, with early_stopping parameter based on the validation set.\n",
    "\n",
    "after that look at the performance scores on the training & validation sets.\n",
    "and the feature-importance scores\n",
    "\n",
    "Since it's a complicated task, we need to use the following metrics: accuracy, precision, recall, precision-recall-auc, roc_auc"
   ]
  },
  {
   "cell_type": "code",
   "execution_count": null,
   "id": "2979fe7f",
   "metadata": {},
   "outputs": [],
   "source": []
  }
 ],
 "metadata": {
  "kernelspec": {
   "display_name": "DeppClinic",
   "language": "python",
   "name": "deppclinic"
  },
  "language_info": {
   "codemirror_mode": {
    "name": "ipython",
    "version": 3
   },
   "file_extension": ".py",
   "mimetype": "text/x-python",
   "name": "python",
   "nbconvert_exporter": "python",
   "pygments_lexer": "ipython3",
   "version": "3.9.7"
  }
 },
 "nbformat": 4,
 "nbformat_minor": 5
}
