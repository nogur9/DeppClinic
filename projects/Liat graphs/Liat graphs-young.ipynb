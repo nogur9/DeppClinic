{
 "cells": [
  {
   "cell_type": "code",
   "execution_count": 15,
   "id": "1a7a8e0e",
   "metadata": {},
   "outputs": [],
   "source": [
    "import pandas as pd\n",
    "import matplotlib.pyplot as plt\n",
    "import seaborn as sns\n",
    "import scipy\n",
    "import pingouin as pg\n",
    "from main import create_dataset\n",
    "import dtale\n",
    "import os\n",
    "from plotly.offline import iplot, init_notebook_mode\n",
    "import plotly.graph_objs as go\n",
    "from statsmodels.stats.contingency_tables import mcnemar\n",
    "from sklearn.preprocessing import OneHotEncoder, LabelEncoder, StandardScaler\n",
    "import statsmodels.api as sm"
   ]
  },
  {
   "cell_type": "code",
   "execution_count": 2,
   "id": "b5de0846",
   "metadata": {
    "scrolled": true
   },
   "outputs": [],
   "source": [
    "times = {'intake': ['intake_arm_1', 'pre_treatment_arm_1'],\n",
    "         'time2' : ['5th_session_arm_1', 'control_5weeks_arm_1'],\n",
    "         'time3' : ['followup_3month_arm_1', 'control_3month_arm_1', 'control_6month_arm_1'],\n",
    "        }\n",
    "if not os.path.exists(\"Liat graphs/young/plots\"):\n",
    "    os.mkdir(\"Liat graphs/young/plots\")\n",
    "    \n",
    "if not os.path.exists(\"Liat graphs/young/data\"):\n",
    "    os.mkdir(\"Liat graphs/young/data\")\n",
    "\n",
    "group_names = {\n",
    "    '0': 'invalid',\n",
    "    '1': 'ipt', # חירום\n",
    "    '2' : 'tau', # רגיל\n",
    "    '3': 'control' # מינימלית\n",
    "}\n",
    "\n",
    "# for time in times.keys():\n",
    "#     print(time)\n",
    "#     create_dataset(event_names = times[time], path = f\"Liat graphs/data/{time}.csv\")\n"
   ]
  },
  {
   "cell_type": "code",
   "execution_count": 3,
   "id": "e4637e05",
   "metadata": {},
   "outputs": [],
   "source": [
    "df_times = {\n",
    "    'intake': pd.read_csv(r'Liat graphs/data/intake.csv'),\n",
    "    'time2' : pd.read_csv(r'Liat graphs/data/time2.csv'),\n",
    "    'time3' : pd.read_csv(r'Liat graphs/data/time3.csv')\n",
    "         }\n",
    "\n",
    "intake_target_variables =  ['suicidal_ideation', 'suicidal_behavior', 'NSSI']\n",
    "\n",
    "time2_target_variables = ['suicidal_ideation', 'suicidal_behavior', 'NSSI']\n",
    "\n",
    "target_variables = {\n",
    "    'intake': intake_target_variables,\n",
    "    'time2': time2_target_variables, \n",
    "    'time3': time2_target_variables}\n",
    "        "
   ]
  },
  {
   "cell_type": "code",
   "execution_count": 4,
   "id": "b9b7d66d",
   "metadata": {},
   "outputs": [
    {
     "name": "stderr",
     "output_type": "stream",
     "text": [
      "C:\\Users\\nogur\\AppData\\Local\\Temp\\ipykernel_5244\\2766089086.py:4: SettingWithCopyWarning:\n",
      "\n",
      "\n",
      "A value is trying to be set on a copy of a slice from a DataFrame.\n",
      "Try using .loc[row_indexer,col_indexer] = value instead\n",
      "\n",
      "See the caveats in the documentation: https://pandas.pydata.org/pandas-docs/stable/user_guide/indexing.html#returning-a-view-versus-a-copy\n",
      "\n",
      "C:\\Users\\nogur\\AppData\\Local\\Temp\\ipykernel_5244\\2766089086.py:4: SettingWithCopyWarning:\n",
      "\n",
      "\n",
      "A value is trying to be set on a copy of a slice from a DataFrame.\n",
      "Try using .loc[row_indexer,col_indexer] = value instead\n",
      "\n",
      "See the caveats in the documentation: https://pandas.pydata.org/pandas-docs/stable/user_guide/indexing.html#returning-a-view-versus-a-copy\n",
      "\n",
      "C:\\Users\\nogur\\AppData\\Local\\Temp\\ipykernel_5244\\2766089086.py:4: SettingWithCopyWarning:\n",
      "\n",
      "\n",
      "A value is trying to be set on a copy of a slice from a DataFrame.\n",
      "Try using .loc[row_indexer,col_indexer] = value instead\n",
      "\n",
      "See the caveats in the documentation: https://pandas.pydata.org/pandas-docs/stable/user_guide/indexing.html#returning-a-view-versus-a-copy\n",
      "\n"
     ]
    }
   ],
   "source": [
    "for time in times:\n",
    "    df = df_times[time]\n",
    "    df_times[time] = df[df['age_child_pre'] < 12.5]\n",
    "    df_times[time]['time'] = time\n"
   ]
  },
  {
   "cell_type": "code",
   "execution_count": null,
   "id": "969d49ff",
   "metadata": {},
   "outputs": [],
   "source": []
  },
  {
   "cell_type": "code",
   "execution_count": 5,
   "id": "f771b24e",
   "metadata": {},
   "outputs": [],
   "source": [
    "def rename_groups(df, group_names):\n",
    "    df['group'] = '0'\n",
    "    df.loc[df['group___1'] == 1, 'group'] = '1'\n",
    "    df.loc[df['group___2'] == 1, 'group'] = '2'\n",
    "    df.loc[df['group___3'] == 1, 'group'] = '3'\n",
    "    df['group'] = df['group'].map(group_names)\n",
    "    return df\n",
    "\n",
    "for time in times:\n",
    "    df = df_times[time]\n",
    "    df_times[time] = rename_groups(df, group_names)\n",
    "    df_times[time] = df[df['group'].isin(['ipt', 'control'])]"
   ]
  },
  {
   "cell_type": "code",
   "execution_count": 6,
   "id": "503b62cb",
   "metadata": {},
   "outputs": [],
   "source": [
    "def plot (df, target, stat='anova'):\n",
    "    # remove any pre-existing indices for ease of use in the D-Tale code, but this is not required\n",
    "    df = df.reset_index().drop('index', axis=1, errors='ignore')\n",
    "    \n",
    "    \n",
    "    df.columns = [str(c) for c in df.columns]  # update columns to strings in case they are numbers\n",
    "    \n",
    "    if stat == 'anova':\n",
    "        anova_result = pg.anova(data=df, dv=target, between='group')[['Source', 'F', 'p-unc']]\n",
    "        anova_str = anova_result.round(decimals=3).to_string(index=False).split('\\n')\n",
    "        stat_text = f\"<b>ANOVA Result:</b><br>{anova_str[0]}</b><br>{anova_str[1]}\"\n",
    "    elif stat == 'chi_square':\n",
    "        expected, observed, stats = pg.chi2_independence(data=df, x=target, y='group')\n",
    "        stats = stats[stats.test == 'pearson'].round(3)[['pval', 'power']].to_string(index=False).split('\\n')\n",
    "        stat_text = f\"<b>chi_square Result:</b><br>{stats[0]}</b><br>{stats[1]}\"\n",
    "        \n",
    "        \n",
    "    chart_data = pd.concat([\n",
    "        pd.Series(df.index, index=df.index, name='__index__'),\n",
    "        df['group'],\n",
    "        df[target],\n",
    "    ], axis=1)\n",
    "    chart_data = chart_data.query(f\"\"\"(`{target}` == 1) or (`{target}` == 0)\"\"\")\n",
    "    chart_data = chart_data.sort_values([target, 'group'])\n",
    "    chart_data = chart_data.rename(columns={'group': 'x'})\n",
    "    chart_data_pctct = chart_data.groupby([target, 'x'])[['__index__']].count()\n",
    "    chart_data_pctct = chart_data_pctct / chart_data_pctct.groupby(['x']).count()\n",
    "    chart_data_pctct.columns = ['__index__|pctct']\n",
    "    chart_data = chart_data_pctct.reset_index()\n",
    "    chart_data = chart_data.dropna()\n",
    "    \n",
    "    chart_data = chart_data.query(f\"\"\"{target} == 1\"\"\")\n",
    "\n",
    "\n",
    "    charts = []\n",
    "    charts.append(go.Bar(\n",
    "        x=chart_data['x'],\n",
    "        y=chart_data['__index__|pctct'],\n",
    "        name=f'({target}: 1)',\n",
    "        marker_color = 'red'\n",
    "    ))\n",
    "\n",
    "\n",
    "    chart_data = pd.concat([\n",
    "        pd.Series(df.index, index=df.index, name='__index__'),\n",
    "        df['group'],\n",
    "        df[target],\n",
    "    ], axis=1)\n",
    "    chart_data = chart_data.query(f\"\"\"(`{target}` == 1) or (`{target}` == 0)\"\"\")\n",
    "    chart_data = chart_data.sort_values([target, 'group'])\n",
    "    chart_data = chart_data.rename(columns={'group': 'x'})\n",
    "    chart_data_pctct = chart_data.groupby([target, 'x'])[['__index__']].count()\n",
    "    chart_data_pctct = chart_data_pctct / chart_data_pctct.groupby(['x']).count()\n",
    "    chart_data_pctct.columns = ['__index__|pctct']\n",
    "    chart_data = chart_data_pctct.reset_index()\n",
    "    chart_data = chart_data.dropna()\n",
    "    # WARNING: This is not taking into account grouping of any kind, please apply filter associated with\n",
    "    #          the group in question in order to replicate chart. For this we're using '\"\"\"`gender` == 'man'\"\"\"'\n",
    "    chart_data = chart_data.query(f\"\"\"`{target}` == 0\"\"\")\n",
    "\n",
    "    charts.append(go.Bar(\n",
    "        x=chart_data['x'],\n",
    "        y=chart_data['__index__|pctct'],\n",
    "        name=f'({target}: 0)',\n",
    "        marker_color = 'green'\n",
    "    ))\n",
    "\n",
    "    figure = go.Figure(data=charts, layout=go.Layout({\n",
    "        'barmode': 'group',\n",
    "        'legend': {'orientation': 'h'},\n",
    "        'title': {'text': f'{target} x group'},\n",
    "        'xaxis': {'tickformat': '0:g', 'title': {'text': 'group'}},\n",
    "        'yaxis': {'tickformat': '0:g', 'title': {'text': 'Count'}, 'type': 'linear'},\n",
    "    }))\n",
    "    figure.add_annotation(\n",
    "        x=1,\n",
    "        y=1,\n",
    "        text=stat_text,\n",
    "        showarrow=False,\n",
    "        font=dict(size=11, color='black'),\n",
    "        bgcolor='lightgray',\n",
    "        bordercolor='black',\n",
    "        borderwidth=1,\n",
    "        borderpad=12,\n",
    "        xref='paper',\n",
    "        yref='paper'\n",
    "    )\n",
    "    figure.show()\n",
    "    return figure\n"
   ]
  },
  {
   "cell_type": "code",
   "execution_count": 7,
   "id": "6c7a9203",
   "metadata": {
    "scrolled": true
   },
   "outputs": [],
   "source": [
    "if False:\n",
    "    df_intake = df_times['intake']\n",
    "    df_intake = df_intake[df_intake.group.isin(['ipt', 'control'])]\n",
    "    df_intake = df_intake[target_variables[time] + ['group', 'age_child_pre']]\n",
    "    df_intake.to_csv(f'Liat graphs/young/data/{time}_groups_targets_data.csv')\n",
    "\n",
    "\n",
    "    for target in target_variables['intake']:\n",
    "\n",
    "        figure = plot(df_intake, target, stat='chi_square')\n",
    "        figure.write_html(f\"Liat graphs/young/plots/intake_{target} X groups.html\")\n"
   ]
  },
  {
   "cell_type": "code",
   "execution_count": 11,
   "id": "f0363781",
   "metadata": {},
   "outputs": [],
   "source": []
  },
  {
   "cell_type": "code",
   "execution_count": null,
   "id": "a637e81a",
   "metadata": {},
   "outputs": [],
   "source": []
  },
  {
   "cell_type": "code",
   "execution_count": null,
   "id": "4cbf1a07",
   "metadata": {},
   "outputs": [],
   "source": []
  },
  {
   "cell_type": "code",
   "execution_count": 8,
   "id": "bc82f022",
   "metadata": {},
   "outputs": [],
   "source": [
    "\n",
    "current_target_vars = ['suicidal_ideation', 'suicidal_behavior', 'NSSI']\n",
    "\n",
    "info_cols = ['group', 'age_child_pre', 'gender', 'time']\n",
    "\n",
    "df_short = pd.concat([df_times['intake'], df_times['time2']])[current_target_vars + info_cols]\n",
    "df_long = pd.concat([df_times['intake'], df_times['time3']])[current_target_vars + info_cols]"
   ]
  },
  {
   "cell_type": "code",
   "execution_count": 9,
   "id": "256c6fb4",
   "metadata": {},
   "outputs": [
    {
     "name": "stderr",
     "output_type": "stream",
     "text": [
      "2023-09-23 16:46:51,523 - ERROR    - Exception occurred while processing request: \n",
      "Image export using the \"kaleido\" engine requires the kaleido package,\n",
      "which can be installed using pip:\n",
      "    $ pip install -U kaleido\n",
      "Traceback (most recent call last):\n",
      "  File \"C:\\Users\\nogur\\anaconda3\\Lib\\site-packages\\dtale\\views.py\", line 119, in _handle_exceptions\n",
      "    return func(*args, **kwargs)\n",
      "           ^^^^^^^^^^^^^^^^^^^^^\n",
      "  File \"C:\\Users\\nogur\\anaconda3\\Lib\\site-packages\\dtale\\views.py\", line 3708, in chart_export\n",
      "    output = export_png(data_id, params)\n",
      "             ^^^^^^^^^^^^^^^^^^^^^^^^^^^\n",
      "  File \"C:\\Users\\nogur\\anaconda3\\Lib\\site-packages\\dtale\\dash_application\\charts.py\", line 4156, in export_png\n",
      "    write_image(chart, file=image_buffer, format=\"png\")\n",
      "  File \"C:\\Users\\nogur\\anaconda3\\Lib\\site-packages\\plotly\\io\\_kaleido.py\", line 267, in write_image\n",
      "    img_data = to_image(\n",
      "               ^^^^^^^^^\n",
      "  File \"C:\\Users\\nogur\\anaconda3\\Lib\\site-packages\\plotly\\io\\_kaleido.py\", line 133, in to_image\n",
      "    raise ValueError(\n",
      "ValueError: \n",
      "Image export using the \"kaleido\" engine requires the kaleido package,\n",
      "which can be installed using pip:\n",
      "    $ pip install -U kaleido\n",
      "\n"
     ]
    }
   ],
   "source": [
    "d = dtale.show(df_long)\n",
    "d.open_browser()"
   ]
  },
  {
   "cell_type": "code",
   "execution_count": 22,
   "id": "2e168cb0",
   "metadata": {},
   "outputs": [],
   "source": [
    "def plot_treatment_improvement (df, target):\n",
    "\n",
    "    # remove any pre-existing indices for ease of use in the D-Tale code, but this is not required\n",
    "    df = df.reset_index().drop('index', axis=1, errors='ignore')\n",
    "    df.columns = [str(c) for c in df.columns]  # update columns to strings in case they are numbers\n",
    "\n",
    "    chart_data = pd.concat([\n",
    "        df['group'],\n",
    "        df['suicidal_ideation'],\n",
    "        df['time'],\n",
    "    ], axis=1)\n",
    "    chart_data = chart_data.query(\"\"\"(`time` == 'intake') or (`time` == 'time3')\"\"\")\n",
    "    chart_data = chart_data.sort_values(['time', 'group'])\n",
    "    chart_data = chart_data.rename(columns={'group': 'x'})\n",
    "    chart_data_mean = chart_data.groupby(['time','x'], dropna=True)[[target]].mean()\n",
    "    chart_data_mean.columns = [f'{target}||mean']\n",
    "    chart_data = chart_data_mean.reset_index()\n",
    "    chart_data = chart_data.dropna()\n",
    "    # WARNING: This is not taking into account grouping of any kind, please apply filter associated with\n",
    "    #          the group in question in order to replicate chart. For this we're using '\"\"\"`time` == 'intake'\"\"\"'\n",
    "\n",
    "    import plotly.graph_objs as go\n",
    "\n",
    "    charts = []\n",
    "\n",
    "    intake_chart_data = chart_data.query(\"\"\"`time` == 'intake'\"\"\")\n",
    "    charts.append(go.Bar(\n",
    "        x=intake_chart_data['x'],\n",
    "        y=intake_chart_data[f'{target}||mean'],\n",
    "        name='(time: intake)'\n",
    "    ))\n",
    "    \n",
    "    \n",
    "    time3_chart_data = chart_data.query(\"\"\"`time` == 'time3'\"\"\")\n",
    "    charts.append(go.Bar(\n",
    "        x=time3_chart_data['x'],\n",
    "        y=time3_chart_data[f'{target}||mean'],\n",
    "        name='(time: long follow up)'\n",
    "    ))\n",
    "    \n",
    "    figure = go.Figure(data=charts, layout=go.Layout({\n",
    "        'barmode': 'group',\n",
    "        'legend': {'orientation': 'h', 'y': -0.3},\n",
    "        'title': {'text': f'Rate of {target} by treatment group'},\n",
    "        'xaxis': {'title': {'text': 'group'}},\n",
    "        'yaxis': {'title': {'text': f'Rate of {target}'}, 'type': 'linear'}\n",
    "    }))\n",
    "\n",
    "    figure.show()\n",
    "    return figure\n"
   ]
  },
  {
   "cell_type": "code",
   "execution_count": 23,
   "id": "0f2ecb8f",
   "metadata": {},
   "outputs": [],
   "source": [
    "def logistic_regresstion_test(df, target):\n",
    "    X = df[['time', 'group']]\n",
    "    Y = df[target]\n",
    "\n",
    "    label_encoder_of_time = LabelEncoder()\n",
    "    label_encoder_of_group = LabelEncoder()\n",
    "    standard_scaler = StandardScaler()\n",
    "    \n",
    "    X['group'] = label_encoder_of_group.fit_transform(X['group'])\n",
    "    X['time'] = label_encoder_of_group.fit_transform(X['time'])\n",
    "    X[['group', 'time']] = standard_scaler.fit_transform(X[['group', 'time']])\n",
    "    X['interaction'] = X['time'] * X['group']\n",
    "    \n",
    "    model = sm.Logit(Y, X).fit()\n",
    "    \n",
    "    wald_test_with_interation = model.wald_test('time + group + interaction = 0')\n",
    "    wald_test_linear = model.wald_test('time + group = 0')\n",
    "    \n",
    "    print(f\"{wald_test_with_interation = }\")\n",
    "    print(f\"{wald_test_linear = }\")\n",
    "\n"
   ]
  },
  {
   "cell_type": "code",
   "execution_count": 24,
   "id": "1468d023",
   "metadata": {},
   "outputs": [
    {
     "data": {
      "application/vnd.plotly.v1+json": {
       "config": {
        "plotlyServerURL": "https://plot.ly"
       },
       "data": [
        {
         "name": "(time: intake)",
         "type": "bar",
         "x": [
          "control",
          "ipt"
         ],
         "y": [
          0.4722222222222222,
          0.6111111111111112
         ]
        },
        {
         "name": "(time: long follow up)",
         "type": "bar",
         "x": [
          "control",
          "ipt"
         ],
         "y": [
          0.34782608695652173,
          0.26666666666666666
         ]
        }
       ],
       "layout": {
        "barmode": "group",
        "legend": {
         "orientation": "h",
         "y": -0.3
        },
        "template": {
         "data": {
          "bar": [
           {
            "error_x": {
             "color": "#2a3f5f"
            },
            "error_y": {
             "color": "#2a3f5f"
            },
            "marker": {
             "line": {
              "color": "#E5ECF6",
              "width": 0.5
             },
             "pattern": {
              "fillmode": "overlay",
              "size": 10,
              "solidity": 0.2
             }
            },
            "type": "bar"
           }
          ],
          "barpolar": [
           {
            "marker": {
             "line": {
              "color": "#E5ECF6",
              "width": 0.5
             },
             "pattern": {
              "fillmode": "overlay",
              "size": 10,
              "solidity": 0.2
             }
            },
            "type": "barpolar"
           }
          ],
          "carpet": [
           {
            "aaxis": {
             "endlinecolor": "#2a3f5f",
             "gridcolor": "white",
             "linecolor": "white",
             "minorgridcolor": "white",
             "startlinecolor": "#2a3f5f"
            },
            "baxis": {
             "endlinecolor": "#2a3f5f",
             "gridcolor": "white",
             "linecolor": "white",
             "minorgridcolor": "white",
             "startlinecolor": "#2a3f5f"
            },
            "type": "carpet"
           }
          ],
          "choropleth": [
           {
            "colorbar": {
             "outlinewidth": 0,
             "ticks": ""
            },
            "type": "choropleth"
           }
          ],
          "contour": [
           {
            "colorbar": {
             "outlinewidth": 0,
             "ticks": ""
            },
            "colorscale": [
             [
              0,
              "#0d0887"
             ],
             [
              0.1111111111111111,
              "#46039f"
             ],
             [
              0.2222222222222222,
              "#7201a8"
             ],
             [
              0.3333333333333333,
              "#9c179e"
             ],
             [
              0.4444444444444444,
              "#bd3786"
             ],
             [
              0.5555555555555556,
              "#d8576b"
             ],
             [
              0.6666666666666666,
              "#ed7953"
             ],
             [
              0.7777777777777778,
              "#fb9f3a"
             ],
             [
              0.8888888888888888,
              "#fdca26"
             ],
             [
              1,
              "#f0f921"
             ]
            ],
            "type": "contour"
           }
          ],
          "contourcarpet": [
           {
            "colorbar": {
             "outlinewidth": 0,
             "ticks": ""
            },
            "type": "contourcarpet"
           }
          ],
          "heatmap": [
           {
            "colorbar": {
             "outlinewidth": 0,
             "ticks": ""
            },
            "colorscale": [
             [
              0,
              "#0d0887"
             ],
             [
              0.1111111111111111,
              "#46039f"
             ],
             [
              0.2222222222222222,
              "#7201a8"
             ],
             [
              0.3333333333333333,
              "#9c179e"
             ],
             [
              0.4444444444444444,
              "#bd3786"
             ],
             [
              0.5555555555555556,
              "#d8576b"
             ],
             [
              0.6666666666666666,
              "#ed7953"
             ],
             [
              0.7777777777777778,
              "#fb9f3a"
             ],
             [
              0.8888888888888888,
              "#fdca26"
             ],
             [
              1,
              "#f0f921"
             ]
            ],
            "type": "heatmap"
           }
          ],
          "heatmapgl": [
           {
            "colorbar": {
             "outlinewidth": 0,
             "ticks": ""
            },
            "colorscale": [
             [
              0,
              "#0d0887"
             ],
             [
              0.1111111111111111,
              "#46039f"
             ],
             [
              0.2222222222222222,
              "#7201a8"
             ],
             [
              0.3333333333333333,
              "#9c179e"
             ],
             [
              0.4444444444444444,
              "#bd3786"
             ],
             [
              0.5555555555555556,
              "#d8576b"
             ],
             [
              0.6666666666666666,
              "#ed7953"
             ],
             [
              0.7777777777777778,
              "#fb9f3a"
             ],
             [
              0.8888888888888888,
              "#fdca26"
             ],
             [
              1,
              "#f0f921"
             ]
            ],
            "type": "heatmapgl"
           }
          ],
          "histogram": [
           {
            "marker": {
             "pattern": {
              "fillmode": "overlay",
              "size": 10,
              "solidity": 0.2
             }
            },
            "type": "histogram"
           }
          ],
          "histogram2d": [
           {
            "colorbar": {
             "outlinewidth": 0,
             "ticks": ""
            },
            "colorscale": [
             [
              0,
              "#0d0887"
             ],
             [
              0.1111111111111111,
              "#46039f"
             ],
             [
              0.2222222222222222,
              "#7201a8"
             ],
             [
              0.3333333333333333,
              "#9c179e"
             ],
             [
              0.4444444444444444,
              "#bd3786"
             ],
             [
              0.5555555555555556,
              "#d8576b"
             ],
             [
              0.6666666666666666,
              "#ed7953"
             ],
             [
              0.7777777777777778,
              "#fb9f3a"
             ],
             [
              0.8888888888888888,
              "#fdca26"
             ],
             [
              1,
              "#f0f921"
             ]
            ],
            "type": "histogram2d"
           }
          ],
          "histogram2dcontour": [
           {
            "colorbar": {
             "outlinewidth": 0,
             "ticks": ""
            },
            "colorscale": [
             [
              0,
              "#0d0887"
             ],
             [
              0.1111111111111111,
              "#46039f"
             ],
             [
              0.2222222222222222,
              "#7201a8"
             ],
             [
              0.3333333333333333,
              "#9c179e"
             ],
             [
              0.4444444444444444,
              "#bd3786"
             ],
             [
              0.5555555555555556,
              "#d8576b"
             ],
             [
              0.6666666666666666,
              "#ed7953"
             ],
             [
              0.7777777777777778,
              "#fb9f3a"
             ],
             [
              0.8888888888888888,
              "#fdca26"
             ],
             [
              1,
              "#f0f921"
             ]
            ],
            "type": "histogram2dcontour"
           }
          ],
          "mesh3d": [
           {
            "colorbar": {
             "outlinewidth": 0,
             "ticks": ""
            },
            "type": "mesh3d"
           }
          ],
          "parcoords": [
           {
            "line": {
             "colorbar": {
              "outlinewidth": 0,
              "ticks": ""
             }
            },
            "type": "parcoords"
           }
          ],
          "pie": [
           {
            "automargin": true,
            "type": "pie"
           }
          ],
          "scatter": [
           {
            "fillpattern": {
             "fillmode": "overlay",
             "size": 10,
             "solidity": 0.2
            },
            "type": "scatter"
           }
          ],
          "scatter3d": [
           {
            "line": {
             "colorbar": {
              "outlinewidth": 0,
              "ticks": ""
             }
            },
            "marker": {
             "colorbar": {
              "outlinewidth": 0,
              "ticks": ""
             }
            },
            "type": "scatter3d"
           }
          ],
          "scattercarpet": [
           {
            "marker": {
             "colorbar": {
              "outlinewidth": 0,
              "ticks": ""
             }
            },
            "type": "scattercarpet"
           }
          ],
          "scattergeo": [
           {
            "marker": {
             "colorbar": {
              "outlinewidth": 0,
              "ticks": ""
             }
            },
            "type": "scattergeo"
           }
          ],
          "scattergl": [
           {
            "marker": {
             "colorbar": {
              "outlinewidth": 0,
              "ticks": ""
             }
            },
            "type": "scattergl"
           }
          ],
          "scattermapbox": [
           {
            "marker": {
             "colorbar": {
              "outlinewidth": 0,
              "ticks": ""
             }
            },
            "type": "scattermapbox"
           }
          ],
          "scatterpolar": [
           {
            "marker": {
             "colorbar": {
              "outlinewidth": 0,
              "ticks": ""
             }
            },
            "type": "scatterpolar"
           }
          ],
          "scatterpolargl": [
           {
            "marker": {
             "colorbar": {
              "outlinewidth": 0,
              "ticks": ""
             }
            },
            "type": "scatterpolargl"
           }
          ],
          "scatterternary": [
           {
            "marker": {
             "colorbar": {
              "outlinewidth": 0,
              "ticks": ""
             }
            },
            "type": "scatterternary"
           }
          ],
          "surface": [
           {
            "colorbar": {
             "outlinewidth": 0,
             "ticks": ""
            },
            "colorscale": [
             [
              0,
              "#0d0887"
             ],
             [
              0.1111111111111111,
              "#46039f"
             ],
             [
              0.2222222222222222,
              "#7201a8"
             ],
             [
              0.3333333333333333,
              "#9c179e"
             ],
             [
              0.4444444444444444,
              "#bd3786"
             ],
             [
              0.5555555555555556,
              "#d8576b"
             ],
             [
              0.6666666666666666,
              "#ed7953"
             ],
             [
              0.7777777777777778,
              "#fb9f3a"
             ],
             [
              0.8888888888888888,
              "#fdca26"
             ],
             [
              1,
              "#f0f921"
             ]
            ],
            "type": "surface"
           }
          ],
          "table": [
           {
            "cells": {
             "fill": {
              "color": "#EBF0F8"
             },
             "line": {
              "color": "white"
             }
            },
            "header": {
             "fill": {
              "color": "#C8D4E3"
             },
             "line": {
              "color": "white"
             }
            },
            "type": "table"
           }
          ]
         },
         "layout": {
          "annotationdefaults": {
           "arrowcolor": "#2a3f5f",
           "arrowhead": 0,
           "arrowwidth": 1
          },
          "autotypenumbers": "strict",
          "coloraxis": {
           "colorbar": {
            "outlinewidth": 0,
            "ticks": ""
           }
          },
          "colorscale": {
           "diverging": [
            [
             0,
             "#8e0152"
            ],
            [
             0.1,
             "#c51b7d"
            ],
            [
             0.2,
             "#de77ae"
            ],
            [
             0.3,
             "#f1b6da"
            ],
            [
             0.4,
             "#fde0ef"
            ],
            [
             0.5,
             "#f7f7f7"
            ],
            [
             0.6,
             "#e6f5d0"
            ],
            [
             0.7,
             "#b8e186"
            ],
            [
             0.8,
             "#7fbc41"
            ],
            [
             0.9,
             "#4d9221"
            ],
            [
             1,
             "#276419"
            ]
           ],
           "sequential": [
            [
             0,
             "#0d0887"
            ],
            [
             0.1111111111111111,
             "#46039f"
            ],
            [
             0.2222222222222222,
             "#7201a8"
            ],
            [
             0.3333333333333333,
             "#9c179e"
            ],
            [
             0.4444444444444444,
             "#bd3786"
            ],
            [
             0.5555555555555556,
             "#d8576b"
            ],
            [
             0.6666666666666666,
             "#ed7953"
            ],
            [
             0.7777777777777778,
             "#fb9f3a"
            ],
            [
             0.8888888888888888,
             "#fdca26"
            ],
            [
             1,
             "#f0f921"
            ]
           ],
           "sequentialminus": [
            [
             0,
             "#0d0887"
            ],
            [
             0.1111111111111111,
             "#46039f"
            ],
            [
             0.2222222222222222,
             "#7201a8"
            ],
            [
             0.3333333333333333,
             "#9c179e"
            ],
            [
             0.4444444444444444,
             "#bd3786"
            ],
            [
             0.5555555555555556,
             "#d8576b"
            ],
            [
             0.6666666666666666,
             "#ed7953"
            ],
            [
             0.7777777777777778,
             "#fb9f3a"
            ],
            [
             0.8888888888888888,
             "#fdca26"
            ],
            [
             1,
             "#f0f921"
            ]
           ]
          },
          "colorway": [
           "#636efa",
           "#EF553B",
           "#00cc96",
           "#ab63fa",
           "#FFA15A",
           "#19d3f3",
           "#FF6692",
           "#B6E880",
           "#FF97FF",
           "#FECB52"
          ],
          "font": {
           "color": "#2a3f5f"
          },
          "geo": {
           "bgcolor": "white",
           "lakecolor": "white",
           "landcolor": "#E5ECF6",
           "showlakes": true,
           "showland": true,
           "subunitcolor": "white"
          },
          "hoverlabel": {
           "align": "left"
          },
          "hovermode": "closest",
          "mapbox": {
           "style": "light"
          },
          "paper_bgcolor": "white",
          "plot_bgcolor": "#E5ECF6",
          "polar": {
           "angularaxis": {
            "gridcolor": "white",
            "linecolor": "white",
            "ticks": ""
           },
           "bgcolor": "#E5ECF6",
           "radialaxis": {
            "gridcolor": "white",
            "linecolor": "white",
            "ticks": ""
           }
          },
          "scene": {
           "xaxis": {
            "backgroundcolor": "#E5ECF6",
            "gridcolor": "white",
            "gridwidth": 2,
            "linecolor": "white",
            "showbackground": true,
            "ticks": "",
            "zerolinecolor": "white"
           },
           "yaxis": {
            "backgroundcolor": "#E5ECF6",
            "gridcolor": "white",
            "gridwidth": 2,
            "linecolor": "white",
            "showbackground": true,
            "ticks": "",
            "zerolinecolor": "white"
           },
           "zaxis": {
            "backgroundcolor": "#E5ECF6",
            "gridcolor": "white",
            "gridwidth": 2,
            "linecolor": "white",
            "showbackground": true,
            "ticks": "",
            "zerolinecolor": "white"
           }
          },
          "shapedefaults": {
           "line": {
            "color": "#2a3f5f"
           }
          },
          "ternary": {
           "aaxis": {
            "gridcolor": "white",
            "linecolor": "white",
            "ticks": ""
           },
           "baxis": {
            "gridcolor": "white",
            "linecolor": "white",
            "ticks": ""
           },
           "bgcolor": "#E5ECF6",
           "caxis": {
            "gridcolor": "white",
            "linecolor": "white",
            "ticks": ""
           }
          },
          "title": {
           "x": 0.05
          },
          "xaxis": {
           "automargin": true,
           "gridcolor": "white",
           "linecolor": "white",
           "ticks": "",
           "title": {
            "standoff": 15
           },
           "zerolinecolor": "white",
           "zerolinewidth": 2
          },
          "yaxis": {
           "automargin": true,
           "gridcolor": "white",
           "linecolor": "white",
           "ticks": "",
           "title": {
            "standoff": 15
           },
           "zerolinecolor": "white",
           "zerolinewidth": 2
          }
         }
        },
        "title": {
         "text": "Rate of suicidal_ideation by treatment group"
        },
        "xaxis": {
         "title": {
          "text": "group"
         }
        },
        "yaxis": {
         "title": {
          "text": "Rate of suicidal_ideation"
         },
         "type": "linear"
        }
       }
      },
      "text/html": [
       "<div>                            <div id=\"5ecbadd8-0dad-4d17-9af9-dcf882466836\" class=\"plotly-graph-div\" style=\"height:525px; width:100%;\"></div>            <script type=\"text/javascript\">                require([\"plotly\"], function(Plotly) {                    window.PLOTLYENV=window.PLOTLYENV || {};                                    if (document.getElementById(\"5ecbadd8-0dad-4d17-9af9-dcf882466836\")) {                    Plotly.newPlot(                        \"5ecbadd8-0dad-4d17-9af9-dcf882466836\",                        [{\"name\":\"(time: intake)\",\"x\":[\"control\",\"ipt\"],\"y\":[0.4722222222222222,0.6111111111111112],\"type\":\"bar\"},{\"name\":\"(time: long follow up)\",\"x\":[\"control\",\"ipt\"],\"y\":[0.34782608695652173,0.26666666666666666],\"type\":\"bar\"}],                        {\"barmode\":\"group\",\"legend\":{\"orientation\":\"h\",\"y\":-0.3},\"title\":{\"text\":\"Rate of suicidal_ideation by treatment group\"},\"xaxis\":{\"title\":{\"text\":\"group\"}},\"yaxis\":{\"title\":{\"text\":\"Rate of suicidal_ideation\"},\"type\":\"linear\"},\"template\":{\"data\":{\"histogram2dcontour\":[{\"type\":\"histogram2dcontour\",\"colorbar\":{\"outlinewidth\":0,\"ticks\":\"\"},\"colorscale\":[[0.0,\"#0d0887\"],[0.1111111111111111,\"#46039f\"],[0.2222222222222222,\"#7201a8\"],[0.3333333333333333,\"#9c179e\"],[0.4444444444444444,\"#bd3786\"],[0.5555555555555556,\"#d8576b\"],[0.6666666666666666,\"#ed7953\"],[0.7777777777777778,\"#fb9f3a\"],[0.8888888888888888,\"#fdca26\"],[1.0,\"#f0f921\"]]}],\"choropleth\":[{\"type\":\"choropleth\",\"colorbar\":{\"outlinewidth\":0,\"ticks\":\"\"}}],\"histogram2d\":[{\"type\":\"histogram2d\",\"colorbar\":{\"outlinewidth\":0,\"ticks\":\"\"},\"colorscale\":[[0.0,\"#0d0887\"],[0.1111111111111111,\"#46039f\"],[0.2222222222222222,\"#7201a8\"],[0.3333333333333333,\"#9c179e\"],[0.4444444444444444,\"#bd3786\"],[0.5555555555555556,\"#d8576b\"],[0.6666666666666666,\"#ed7953\"],[0.7777777777777778,\"#fb9f3a\"],[0.8888888888888888,\"#fdca26\"],[1.0,\"#f0f921\"]]}],\"heatmap\":[{\"type\":\"heatmap\",\"colorbar\":{\"outlinewidth\":0,\"ticks\":\"\"},\"colorscale\":[[0.0,\"#0d0887\"],[0.1111111111111111,\"#46039f\"],[0.2222222222222222,\"#7201a8\"],[0.3333333333333333,\"#9c179e\"],[0.4444444444444444,\"#bd3786\"],[0.5555555555555556,\"#d8576b\"],[0.6666666666666666,\"#ed7953\"],[0.7777777777777778,\"#fb9f3a\"],[0.8888888888888888,\"#fdca26\"],[1.0,\"#f0f921\"]]}],\"heatmapgl\":[{\"type\":\"heatmapgl\",\"colorbar\":{\"outlinewidth\":0,\"ticks\":\"\"},\"colorscale\":[[0.0,\"#0d0887\"],[0.1111111111111111,\"#46039f\"],[0.2222222222222222,\"#7201a8\"],[0.3333333333333333,\"#9c179e\"],[0.4444444444444444,\"#bd3786\"],[0.5555555555555556,\"#d8576b\"],[0.6666666666666666,\"#ed7953\"],[0.7777777777777778,\"#fb9f3a\"],[0.8888888888888888,\"#fdca26\"],[1.0,\"#f0f921\"]]}],\"contourcarpet\":[{\"type\":\"contourcarpet\",\"colorbar\":{\"outlinewidth\":0,\"ticks\":\"\"}}],\"contour\":[{\"type\":\"contour\",\"colorbar\":{\"outlinewidth\":0,\"ticks\":\"\"},\"colorscale\":[[0.0,\"#0d0887\"],[0.1111111111111111,\"#46039f\"],[0.2222222222222222,\"#7201a8\"],[0.3333333333333333,\"#9c179e\"],[0.4444444444444444,\"#bd3786\"],[0.5555555555555556,\"#d8576b\"],[0.6666666666666666,\"#ed7953\"],[0.7777777777777778,\"#fb9f3a\"],[0.8888888888888888,\"#fdca26\"],[1.0,\"#f0f921\"]]}],\"surface\":[{\"type\":\"surface\",\"colorbar\":{\"outlinewidth\":0,\"ticks\":\"\"},\"colorscale\":[[0.0,\"#0d0887\"],[0.1111111111111111,\"#46039f\"],[0.2222222222222222,\"#7201a8\"],[0.3333333333333333,\"#9c179e\"],[0.4444444444444444,\"#bd3786\"],[0.5555555555555556,\"#d8576b\"],[0.6666666666666666,\"#ed7953\"],[0.7777777777777778,\"#fb9f3a\"],[0.8888888888888888,\"#fdca26\"],[1.0,\"#f0f921\"]]}],\"mesh3d\":[{\"type\":\"mesh3d\",\"colorbar\":{\"outlinewidth\":0,\"ticks\":\"\"}}],\"scatter\":[{\"fillpattern\":{\"fillmode\":\"overlay\",\"size\":10,\"solidity\":0.2},\"type\":\"scatter\"}],\"parcoords\":[{\"type\":\"parcoords\",\"line\":{\"colorbar\":{\"outlinewidth\":0,\"ticks\":\"\"}}}],\"scatterpolargl\":[{\"type\":\"scatterpolargl\",\"marker\":{\"colorbar\":{\"outlinewidth\":0,\"ticks\":\"\"}}}],\"bar\":[{\"error_x\":{\"color\":\"#2a3f5f\"},\"error_y\":{\"color\":\"#2a3f5f\"},\"marker\":{\"line\":{\"color\":\"#E5ECF6\",\"width\":0.5},\"pattern\":{\"fillmode\":\"overlay\",\"size\":10,\"solidity\":0.2}},\"type\":\"bar\"}],\"scattergeo\":[{\"type\":\"scattergeo\",\"marker\":{\"colorbar\":{\"outlinewidth\":0,\"ticks\":\"\"}}}],\"scatterpolar\":[{\"type\":\"scatterpolar\",\"marker\":{\"colorbar\":{\"outlinewidth\":0,\"ticks\":\"\"}}}],\"histogram\":[{\"marker\":{\"pattern\":{\"fillmode\":\"overlay\",\"size\":10,\"solidity\":0.2}},\"type\":\"histogram\"}],\"scattergl\":[{\"type\":\"scattergl\",\"marker\":{\"colorbar\":{\"outlinewidth\":0,\"ticks\":\"\"}}}],\"scatter3d\":[{\"type\":\"scatter3d\",\"line\":{\"colorbar\":{\"outlinewidth\":0,\"ticks\":\"\"}},\"marker\":{\"colorbar\":{\"outlinewidth\":0,\"ticks\":\"\"}}}],\"scattermapbox\":[{\"type\":\"scattermapbox\",\"marker\":{\"colorbar\":{\"outlinewidth\":0,\"ticks\":\"\"}}}],\"scatterternary\":[{\"type\":\"scatterternary\",\"marker\":{\"colorbar\":{\"outlinewidth\":0,\"ticks\":\"\"}}}],\"scattercarpet\":[{\"type\":\"scattercarpet\",\"marker\":{\"colorbar\":{\"outlinewidth\":0,\"ticks\":\"\"}}}],\"carpet\":[{\"aaxis\":{\"endlinecolor\":\"#2a3f5f\",\"gridcolor\":\"white\",\"linecolor\":\"white\",\"minorgridcolor\":\"white\",\"startlinecolor\":\"#2a3f5f\"},\"baxis\":{\"endlinecolor\":\"#2a3f5f\",\"gridcolor\":\"white\",\"linecolor\":\"white\",\"minorgridcolor\":\"white\",\"startlinecolor\":\"#2a3f5f\"},\"type\":\"carpet\"}],\"table\":[{\"cells\":{\"fill\":{\"color\":\"#EBF0F8\"},\"line\":{\"color\":\"white\"}},\"header\":{\"fill\":{\"color\":\"#C8D4E3\"},\"line\":{\"color\":\"white\"}},\"type\":\"table\"}],\"barpolar\":[{\"marker\":{\"line\":{\"color\":\"#E5ECF6\",\"width\":0.5},\"pattern\":{\"fillmode\":\"overlay\",\"size\":10,\"solidity\":0.2}},\"type\":\"barpolar\"}],\"pie\":[{\"automargin\":true,\"type\":\"pie\"}]},\"layout\":{\"autotypenumbers\":\"strict\",\"colorway\":[\"#636efa\",\"#EF553B\",\"#00cc96\",\"#ab63fa\",\"#FFA15A\",\"#19d3f3\",\"#FF6692\",\"#B6E880\",\"#FF97FF\",\"#FECB52\"],\"font\":{\"color\":\"#2a3f5f\"},\"hovermode\":\"closest\",\"hoverlabel\":{\"align\":\"left\"},\"paper_bgcolor\":\"white\",\"plot_bgcolor\":\"#E5ECF6\",\"polar\":{\"bgcolor\":\"#E5ECF6\",\"angularaxis\":{\"gridcolor\":\"white\",\"linecolor\":\"white\",\"ticks\":\"\"},\"radialaxis\":{\"gridcolor\":\"white\",\"linecolor\":\"white\",\"ticks\":\"\"}},\"ternary\":{\"bgcolor\":\"#E5ECF6\",\"aaxis\":{\"gridcolor\":\"white\",\"linecolor\":\"white\",\"ticks\":\"\"},\"baxis\":{\"gridcolor\":\"white\",\"linecolor\":\"white\",\"ticks\":\"\"},\"caxis\":{\"gridcolor\":\"white\",\"linecolor\":\"white\",\"ticks\":\"\"}},\"coloraxis\":{\"colorbar\":{\"outlinewidth\":0,\"ticks\":\"\"}},\"colorscale\":{\"sequential\":[[0.0,\"#0d0887\"],[0.1111111111111111,\"#46039f\"],[0.2222222222222222,\"#7201a8\"],[0.3333333333333333,\"#9c179e\"],[0.4444444444444444,\"#bd3786\"],[0.5555555555555556,\"#d8576b\"],[0.6666666666666666,\"#ed7953\"],[0.7777777777777778,\"#fb9f3a\"],[0.8888888888888888,\"#fdca26\"],[1.0,\"#f0f921\"]],\"sequentialminus\":[[0.0,\"#0d0887\"],[0.1111111111111111,\"#46039f\"],[0.2222222222222222,\"#7201a8\"],[0.3333333333333333,\"#9c179e\"],[0.4444444444444444,\"#bd3786\"],[0.5555555555555556,\"#d8576b\"],[0.6666666666666666,\"#ed7953\"],[0.7777777777777778,\"#fb9f3a\"],[0.8888888888888888,\"#fdca26\"],[1.0,\"#f0f921\"]],\"diverging\":[[0,\"#8e0152\"],[0.1,\"#c51b7d\"],[0.2,\"#de77ae\"],[0.3,\"#f1b6da\"],[0.4,\"#fde0ef\"],[0.5,\"#f7f7f7\"],[0.6,\"#e6f5d0\"],[0.7,\"#b8e186\"],[0.8,\"#7fbc41\"],[0.9,\"#4d9221\"],[1,\"#276419\"]]},\"xaxis\":{\"gridcolor\":\"white\",\"linecolor\":\"white\",\"ticks\":\"\",\"title\":{\"standoff\":15},\"zerolinecolor\":\"white\",\"automargin\":true,\"zerolinewidth\":2},\"yaxis\":{\"gridcolor\":\"white\",\"linecolor\":\"white\",\"ticks\":\"\",\"title\":{\"standoff\":15},\"zerolinecolor\":\"white\",\"automargin\":true,\"zerolinewidth\":2},\"scene\":{\"xaxis\":{\"backgroundcolor\":\"#E5ECF6\",\"gridcolor\":\"white\",\"linecolor\":\"white\",\"showbackground\":true,\"ticks\":\"\",\"zerolinecolor\":\"white\",\"gridwidth\":2},\"yaxis\":{\"backgroundcolor\":\"#E5ECF6\",\"gridcolor\":\"white\",\"linecolor\":\"white\",\"showbackground\":true,\"ticks\":\"\",\"zerolinecolor\":\"white\",\"gridwidth\":2},\"zaxis\":{\"backgroundcolor\":\"#E5ECF6\",\"gridcolor\":\"white\",\"linecolor\":\"white\",\"showbackground\":true,\"ticks\":\"\",\"zerolinecolor\":\"white\",\"gridwidth\":2}},\"shapedefaults\":{\"line\":{\"color\":\"#2a3f5f\"}},\"annotationdefaults\":{\"arrowcolor\":\"#2a3f5f\",\"arrowhead\":0,\"arrowwidth\":1},\"geo\":{\"bgcolor\":\"white\",\"landcolor\":\"#E5ECF6\",\"subunitcolor\":\"white\",\"showland\":true,\"showlakes\":true,\"lakecolor\":\"white\"},\"title\":{\"x\":0.05},\"mapbox\":{\"style\":\"light\"}}}},                        {\"responsive\": true}                    ).then(function(){\n",
       "                            \n",
       "var gd = document.getElementById('5ecbadd8-0dad-4d17-9af9-dcf882466836');\n",
       "var x = new MutationObserver(function (mutations, observer) {{\n",
       "        var display = window.getComputedStyle(gd).display;\n",
       "        if (!display || display === 'none') {{\n",
       "            console.log([gd, 'removed!']);\n",
       "            Plotly.purge(gd);\n",
       "            observer.disconnect();\n",
       "        }}\n",
       "}});\n",
       "\n",
       "// Listen for the removal of the full notebook cells\n",
       "var notebookContainer = gd.closest('#notebook-container');\n",
       "if (notebookContainer) {{\n",
       "    x.observe(notebookContainer, {childList: true});\n",
       "}}\n",
       "\n",
       "// Listen for the clearing of the current output cell\n",
       "var outputEl = gd.closest('.output');\n",
       "if (outputEl) {{\n",
       "    x.observe(outputEl, {childList: true});\n",
       "}}\n",
       "\n",
       "                        })                };                });            </script>        </div>"
      ]
     },
     "metadata": {},
     "output_type": "display_data"
    }
   ],
   "source": [
    "figure = plot_treatment_improvement (df_long, 'suicidal_ideation')\n",
    "\n",
    "\n",
    "\n",
    "df_long.to_csv(f'Liat graphs/young/data/treatment_effect_data.csv')\n",
    "figure.write_html(f\"Liat graphs/young/plots/treatment_effect_suicidal_ideation.html\")\n"
   ]
  },
  {
   "cell_type": "code",
   "execution_count": 16,
   "id": "cd07bef5",
   "metadata": {
    "scrolled": true
   },
   "outputs": [
    {
     "name": "stdout",
     "output_type": "stream",
     "text": [
      "target = 'suicidal_ideation'\n",
      "Optimization terminated successfully.\n",
      "         Current function value: 0.656563\n",
      "         Iterations 4\n",
      "wald_test_with_interation = <class 'statsmodels.stats.contrast.ContrastResults'>\n",
      "<Wald test (chi2): statistic=[[4.05770164]], p-value=0.04397030721853156, df_denom=1>\n",
      "wald_test_linear = <class 'statsmodels.stats.contrast.ContrastResults'>\n",
      "<Wald test (chi2): statistic=[[2.47984302]], p-value=0.11531376172741112, df_denom=1>\n",
      "target = 'suicidal_behavior'\n",
      "Optimization terminated successfully.\n",
      "         Current function value: 0.689344\n",
      "         Iterations 4\n",
      "wald_test_with_interation = <class 'statsmodels.stats.contrast.ContrastResults'>\n",
      "<Wald test (chi2): statistic=[[0.37425232]], p-value=0.540695465228956, df_denom=1>\n",
      "wald_test_linear = <class 'statsmodels.stats.contrast.ContrastResults'>\n",
      "<Wald test (chi2): statistic=[[0.39680343]], p-value=0.5287447338495318, df_denom=1>\n",
      "target = 'NSSI'\n",
      "Optimization terminated successfully.\n",
      "         Current function value: 0.692309\n",
      "         Iterations 3\n",
      "wald_test_with_interation = <class 'statsmodels.stats.contrast.ContrastResults'>\n",
      "<Wald test (chi2): statistic=[[0.16713621]], p-value=0.6826695952722455, df_denom=1>\n",
      "wald_test_linear = <class 'statsmodels.stats.contrast.ContrastResults'>\n",
      "<Wald test (chi2): statistic=[[0.04393429]], p-value=0.8339759222599825, df_denom=1>\n"
     ]
    },
    {
     "name": "stderr",
     "output_type": "stream",
     "text": [
      "C:\\Users\\nogur\\AppData\\Local\\Temp\\ipykernel_5244\\2985745859.py:9: SettingWithCopyWarning:\n",
      "\n",
      "\n",
      "A value is trying to be set on a copy of a slice from a DataFrame.\n",
      "Try using .loc[row_indexer,col_indexer] = value instead\n",
      "\n",
      "See the caveats in the documentation: https://pandas.pydata.org/pandas-docs/stable/user_guide/indexing.html#returning-a-view-versus-a-copy\n",
      "\n",
      "C:\\Users\\nogur\\AppData\\Local\\Temp\\ipykernel_5244\\2985745859.py:10: SettingWithCopyWarning:\n",
      "\n",
      "\n",
      "A value is trying to be set on a copy of a slice from a DataFrame.\n",
      "Try using .loc[row_indexer,col_indexer] = value instead\n",
      "\n",
      "See the caveats in the documentation: https://pandas.pydata.org/pandas-docs/stable/user_guide/indexing.html#returning-a-view-versus-a-copy\n",
      "\n",
      "C:\\Users\\nogur\\AppData\\Local\\Temp\\ipykernel_5244\\2985745859.py:11: SettingWithCopyWarning:\n",
      "\n",
      "\n",
      "A value is trying to be set on a copy of a slice from a DataFrame.\n",
      "Try using .loc[row_indexer,col_indexer] = value instead\n",
      "\n",
      "See the caveats in the documentation: https://pandas.pydata.org/pandas-docs/stable/user_guide/indexing.html#returning-a-view-versus-a-copy\n",
      "\n",
      "C:\\Users\\nogur\\AppData\\Local\\Temp\\ipykernel_5244\\2985745859.py:12: SettingWithCopyWarning:\n",
      "\n",
      "\n",
      "A value is trying to be set on a copy of a slice from a DataFrame.\n",
      "Try using .loc[row_indexer,col_indexer] = value instead\n",
      "\n",
      "See the caveats in the documentation: https://pandas.pydata.org/pandas-docs/stable/user_guide/indexing.html#returning-a-view-versus-a-copy\n",
      "\n",
      "C:\\Users\\nogur\\anaconda3\\Lib\\site-packages\\statsmodels\\base\\model.py:1906: FutureWarning:\n",
      "\n",
      "The behavior of wald_test will change after 0.14 to returning scalar test statistic values. To get the future behavior now, set scalar to True. To silence this message while retaining the legacy behavior, set scalar to False.\n",
      "\n",
      "C:\\Users\\nogur\\AppData\\Local\\Temp\\ipykernel_5244\\2985745859.py:9: SettingWithCopyWarning:\n",
      "\n",
      "\n",
      "A value is trying to be set on a copy of a slice from a DataFrame.\n",
      "Try using .loc[row_indexer,col_indexer] = value instead\n",
      "\n",
      "See the caveats in the documentation: https://pandas.pydata.org/pandas-docs/stable/user_guide/indexing.html#returning-a-view-versus-a-copy\n",
      "\n",
      "C:\\Users\\nogur\\AppData\\Local\\Temp\\ipykernel_5244\\2985745859.py:10: SettingWithCopyWarning:\n",
      "\n",
      "\n",
      "A value is trying to be set on a copy of a slice from a DataFrame.\n",
      "Try using .loc[row_indexer,col_indexer] = value instead\n",
      "\n",
      "See the caveats in the documentation: https://pandas.pydata.org/pandas-docs/stable/user_guide/indexing.html#returning-a-view-versus-a-copy\n",
      "\n",
      "C:\\Users\\nogur\\AppData\\Local\\Temp\\ipykernel_5244\\2985745859.py:11: SettingWithCopyWarning:\n",
      "\n",
      "\n",
      "A value is trying to be set on a copy of a slice from a DataFrame.\n",
      "Try using .loc[row_indexer,col_indexer] = value instead\n",
      "\n",
      "See the caveats in the documentation: https://pandas.pydata.org/pandas-docs/stable/user_guide/indexing.html#returning-a-view-versus-a-copy\n",
      "\n",
      "C:\\Users\\nogur\\AppData\\Local\\Temp\\ipykernel_5244\\2985745859.py:12: SettingWithCopyWarning:\n",
      "\n",
      "\n",
      "A value is trying to be set on a copy of a slice from a DataFrame.\n",
      "Try using .loc[row_indexer,col_indexer] = value instead\n",
      "\n",
      "See the caveats in the documentation: https://pandas.pydata.org/pandas-docs/stable/user_guide/indexing.html#returning-a-view-versus-a-copy\n",
      "\n",
      "C:\\Users\\nogur\\anaconda3\\Lib\\site-packages\\statsmodels\\base\\model.py:1906: FutureWarning:\n",
      "\n",
      "The behavior of wald_test will change after 0.14 to returning scalar test statistic values. To get the future behavior now, set scalar to True. To silence this message while retaining the legacy behavior, set scalar to False.\n",
      "\n",
      "C:\\Users\\nogur\\AppData\\Local\\Temp\\ipykernel_5244\\2985745859.py:9: SettingWithCopyWarning:\n",
      "\n",
      "\n",
      "A value is trying to be set on a copy of a slice from a DataFrame.\n",
      "Try using .loc[row_indexer,col_indexer] = value instead\n",
      "\n",
      "See the caveats in the documentation: https://pandas.pydata.org/pandas-docs/stable/user_guide/indexing.html#returning-a-view-versus-a-copy\n",
      "\n",
      "C:\\Users\\nogur\\AppData\\Local\\Temp\\ipykernel_5244\\2985745859.py:10: SettingWithCopyWarning:\n",
      "\n",
      "\n",
      "A value is trying to be set on a copy of a slice from a DataFrame.\n",
      "Try using .loc[row_indexer,col_indexer] = value instead\n",
      "\n",
      "See the caveats in the documentation: https://pandas.pydata.org/pandas-docs/stable/user_guide/indexing.html#returning-a-view-versus-a-copy\n",
      "\n",
      "C:\\Users\\nogur\\AppData\\Local\\Temp\\ipykernel_5244\\2985745859.py:11: SettingWithCopyWarning:\n",
      "\n",
      "\n",
      "A value is trying to be set on a copy of a slice from a DataFrame.\n",
      "Try using .loc[row_indexer,col_indexer] = value instead\n",
      "\n",
      "See the caveats in the documentation: https://pandas.pydata.org/pandas-docs/stable/user_guide/indexing.html#returning-a-view-versus-a-copy\n",
      "\n",
      "C:\\Users\\nogur\\AppData\\Local\\Temp\\ipykernel_5244\\2985745859.py:12: SettingWithCopyWarning:\n",
      "\n",
      "\n",
      "A value is trying to be set on a copy of a slice from a DataFrame.\n",
      "Try using .loc[row_indexer,col_indexer] = value instead\n",
      "\n",
      "See the caveats in the documentation: https://pandas.pydata.org/pandas-docs/stable/user_guide/indexing.html#returning-a-view-versus-a-copy\n",
      "\n",
      "C:\\Users\\nogur\\anaconda3\\Lib\\site-packages\\statsmodels\\base\\model.py:1906: FutureWarning:\n",
      "\n",
      "The behavior of wald_test will change after 0.14 to returning scalar test statistic values. To get the future behavior now, set scalar to True. To silence this message while retaining the legacy behavior, set scalar to False.\n",
      "\n"
     ]
    }
   ],
   "source": [
    "for target in target_variables['intake']:\n",
    "    print(f'{target = }')\n",
    "    logistic_regresstion_test(df_long, target)"
   ]
  },
  {
   "cell_type": "code",
   "execution_count": null,
   "id": "a5c48955",
   "metadata": {},
   "outputs": [],
   "source": []
  },
  {
   "cell_type": "code",
   "execution_count": 17,
   "id": "b09b4cf4",
   "metadata": {
    "scrolled": true
   },
   "outputs": [
    {
     "name": "stdout",
     "output_type": "stream",
     "text": [
      "target = 'suicidal_ideation'\n",
      "Optimization terminated successfully.\n",
      "         Current function value: 0.681658\n",
      "         Iterations 4\n",
      "wald_test_with_interation = <class 'statsmodels.stats.contrast.ContrastResults'>\n",
      "<Wald test (chi2): statistic=[[1.3637821]], p-value=0.24288308485540322, df_denom=1>\n",
      "wald_test_linear = <class 'statsmodels.stats.contrast.ContrastResults'>\n",
      "<Wald test (chi2): statistic=[[0.23750775]], p-value=0.626011969616308, df_denom=1>\n",
      "target = 'suicidal_behavior'\n",
      "Optimization terminated successfully.\n",
      "         Current function value: 0.687183\n",
      "         Iterations 4\n",
      "wald_test_with_interation = <class 'statsmodels.stats.contrast.ContrastResults'>\n",
      "<Wald test (chi2): statistic=[[0.61722165]], p-value=0.43208161442900206, df_denom=1>\n",
      "wald_test_linear = <class 'statsmodels.stats.contrast.ContrastResults'>\n",
      "<Wald test (chi2): statistic=[[1.22992159]], p-value=0.2674222869475166, df_denom=1>\n",
      "target = 'NSSI'\n",
      "Optimization terminated successfully.\n",
      "         Current function value: 0.691924\n",
      "         Iterations 3\n",
      "wald_test_with_interation = <class 'statsmodels.stats.contrast.ContrastResults'>\n",
      "<Wald test (chi2): statistic=[[0.01474341]], p-value=0.9033564275133684, df_denom=1>\n",
      "wald_test_linear = <class 'statsmodels.stats.contrast.ContrastResults'>\n",
      "<Wald test (chi2): statistic=[[0.00891341]], p-value=0.9247827987987871, df_denom=1>\n"
     ]
    },
    {
     "name": "stderr",
     "output_type": "stream",
     "text": [
      "C:\\Users\\nogur\\AppData\\Local\\Temp\\ipykernel_5244\\2985745859.py:9: SettingWithCopyWarning:\n",
      "\n",
      "\n",
      "A value is trying to be set on a copy of a slice from a DataFrame.\n",
      "Try using .loc[row_indexer,col_indexer] = value instead\n",
      "\n",
      "See the caveats in the documentation: https://pandas.pydata.org/pandas-docs/stable/user_guide/indexing.html#returning-a-view-versus-a-copy\n",
      "\n",
      "C:\\Users\\nogur\\AppData\\Local\\Temp\\ipykernel_5244\\2985745859.py:10: SettingWithCopyWarning:\n",
      "\n",
      "\n",
      "A value is trying to be set on a copy of a slice from a DataFrame.\n",
      "Try using .loc[row_indexer,col_indexer] = value instead\n",
      "\n",
      "See the caveats in the documentation: https://pandas.pydata.org/pandas-docs/stable/user_guide/indexing.html#returning-a-view-versus-a-copy\n",
      "\n",
      "C:\\Users\\nogur\\AppData\\Local\\Temp\\ipykernel_5244\\2985745859.py:11: SettingWithCopyWarning:\n",
      "\n",
      "\n",
      "A value is trying to be set on a copy of a slice from a DataFrame.\n",
      "Try using .loc[row_indexer,col_indexer] = value instead\n",
      "\n",
      "See the caveats in the documentation: https://pandas.pydata.org/pandas-docs/stable/user_guide/indexing.html#returning-a-view-versus-a-copy\n",
      "\n",
      "C:\\Users\\nogur\\AppData\\Local\\Temp\\ipykernel_5244\\2985745859.py:12: SettingWithCopyWarning:\n",
      "\n",
      "\n",
      "A value is trying to be set on a copy of a slice from a DataFrame.\n",
      "Try using .loc[row_indexer,col_indexer] = value instead\n",
      "\n",
      "See the caveats in the documentation: https://pandas.pydata.org/pandas-docs/stable/user_guide/indexing.html#returning-a-view-versus-a-copy\n",
      "\n",
      "C:\\Users\\nogur\\anaconda3\\Lib\\site-packages\\statsmodels\\base\\model.py:1906: FutureWarning:\n",
      "\n",
      "The behavior of wald_test will change after 0.14 to returning scalar test statistic values. To get the future behavior now, set scalar to True. To silence this message while retaining the legacy behavior, set scalar to False.\n",
      "\n",
      "C:\\Users\\nogur\\AppData\\Local\\Temp\\ipykernel_5244\\2985745859.py:9: SettingWithCopyWarning:\n",
      "\n",
      "\n",
      "A value is trying to be set on a copy of a slice from a DataFrame.\n",
      "Try using .loc[row_indexer,col_indexer] = value instead\n",
      "\n",
      "See the caveats in the documentation: https://pandas.pydata.org/pandas-docs/stable/user_guide/indexing.html#returning-a-view-versus-a-copy\n",
      "\n",
      "C:\\Users\\nogur\\AppData\\Local\\Temp\\ipykernel_5244\\2985745859.py:10: SettingWithCopyWarning:\n",
      "\n",
      "\n",
      "A value is trying to be set on a copy of a slice from a DataFrame.\n",
      "Try using .loc[row_indexer,col_indexer] = value instead\n",
      "\n",
      "See the caveats in the documentation: https://pandas.pydata.org/pandas-docs/stable/user_guide/indexing.html#returning-a-view-versus-a-copy\n",
      "\n",
      "C:\\Users\\nogur\\AppData\\Local\\Temp\\ipykernel_5244\\2985745859.py:11: SettingWithCopyWarning:\n",
      "\n",
      "\n",
      "A value is trying to be set on a copy of a slice from a DataFrame.\n",
      "Try using .loc[row_indexer,col_indexer] = value instead\n",
      "\n",
      "See the caveats in the documentation: https://pandas.pydata.org/pandas-docs/stable/user_guide/indexing.html#returning-a-view-versus-a-copy\n",
      "\n",
      "C:\\Users\\nogur\\AppData\\Local\\Temp\\ipykernel_5244\\2985745859.py:12: SettingWithCopyWarning:\n",
      "\n",
      "\n",
      "A value is trying to be set on a copy of a slice from a DataFrame.\n",
      "Try using .loc[row_indexer,col_indexer] = value instead\n",
      "\n",
      "See the caveats in the documentation: https://pandas.pydata.org/pandas-docs/stable/user_guide/indexing.html#returning-a-view-versus-a-copy\n",
      "\n",
      "C:\\Users\\nogur\\anaconda3\\Lib\\site-packages\\statsmodels\\base\\model.py:1906: FutureWarning:\n",
      "\n",
      "The behavior of wald_test will change after 0.14 to returning scalar test statistic values. To get the future behavior now, set scalar to True. To silence this message while retaining the legacy behavior, set scalar to False.\n",
      "\n",
      "C:\\Users\\nogur\\AppData\\Local\\Temp\\ipykernel_5244\\2985745859.py:9: SettingWithCopyWarning:\n",
      "\n",
      "\n",
      "A value is trying to be set on a copy of a slice from a DataFrame.\n",
      "Try using .loc[row_indexer,col_indexer] = value instead\n",
      "\n",
      "See the caveats in the documentation: https://pandas.pydata.org/pandas-docs/stable/user_guide/indexing.html#returning-a-view-versus-a-copy\n",
      "\n",
      "C:\\Users\\nogur\\AppData\\Local\\Temp\\ipykernel_5244\\2985745859.py:10: SettingWithCopyWarning:\n",
      "\n",
      "\n",
      "A value is trying to be set on a copy of a slice from a DataFrame.\n",
      "Try using .loc[row_indexer,col_indexer] = value instead\n",
      "\n",
      "See the caveats in the documentation: https://pandas.pydata.org/pandas-docs/stable/user_guide/indexing.html#returning-a-view-versus-a-copy\n",
      "\n",
      "C:\\Users\\nogur\\AppData\\Local\\Temp\\ipykernel_5244\\2985745859.py:11: SettingWithCopyWarning:\n",
      "\n",
      "\n",
      "A value is trying to be set on a copy of a slice from a DataFrame.\n",
      "Try using .loc[row_indexer,col_indexer] = value instead\n",
      "\n",
      "See the caveats in the documentation: https://pandas.pydata.org/pandas-docs/stable/user_guide/indexing.html#returning-a-view-versus-a-copy\n",
      "\n",
      "C:\\Users\\nogur\\AppData\\Local\\Temp\\ipykernel_5244\\2985745859.py:12: SettingWithCopyWarning:\n",
      "\n",
      "\n",
      "A value is trying to be set on a copy of a slice from a DataFrame.\n",
      "Try using .loc[row_indexer,col_indexer] = value instead\n",
      "\n",
      "See the caveats in the documentation: https://pandas.pydata.org/pandas-docs/stable/user_guide/indexing.html#returning-a-view-versus-a-copy\n",
      "\n",
      "C:\\Users\\nogur\\anaconda3\\Lib\\site-packages\\statsmodels\\base\\model.py:1906: FutureWarning:\n",
      "\n",
      "The behavior of wald_test will change after 0.14 to returning scalar test statistic values. To get the future behavior now, set scalar to True. To silence this message while retaining the legacy behavior, set scalar to False.\n",
      "\n"
     ]
    }
   ],
   "source": [
    "for target in target_variables['intake']:\n",
    "    print(f'{target = }')\n",
    "    logistic_regresstion_test(df_short, target)"
   ]
  },
  {
   "cell_type": "code",
   "execution_count": null,
   "id": "0c42ce73",
   "metadata": {},
   "outputs": [],
   "source": []
  },
  {
   "cell_type": "code",
   "execution_count": null,
   "id": "8f78f763",
   "metadata": {},
   "outputs": [],
   "source": []
  }
 ],
 "metadata": {
  "kernelspec": {
   "display_name": "Python 3 (ipykernel)",
   "language": "python",
   "name": "python3"
  },
  "language_info": {
   "codemirror_mode": {
    "name": "ipython",
    "version": 3
   },
   "file_extension": ".py",
   "mimetype": "text/x-python",
   "name": "python",
   "nbconvert_exporter": "python",
   "pygments_lexer": "ipython3",
   "version": "3.11.4"
  }
 },
 "nbformat": 4,
 "nbformat_minor": 5
}
