{
 "cells": [
  {
   "cell_type": "code",
   "execution_count": 1,
   "id": "9e00f6ca",
   "metadata": {},
   "outputs": [],
   "source": [
    "import pandas as pd"
   ]
  },
  {
   "cell_type": "code",
   "execution_count": null,
   "id": "c8727045",
   "metadata": {},
   "outputs": [],
   "source": [
    "chameleon_start = 'chameleon_timestamp'\n",
    "\n",
    "chameleon_end = 'chameleon_complete'"
   ]
  },
  {
   "cell_type": "code",
   "execution_count": null,
   "id": "4121a897",
   "metadata": {},
   "outputs": [],
   "source": [
    "df = pd.read_csv(r'creating_the_clinic_dataset/preprocessed_data/merged_2021_and_2022.csv')"
   ]
  },
  {
   "cell_type": "code",
   "execution_count": null,
   "id": "4fd30662",
   "metadata": {},
   "outputs": [],
   "source": [
    "chameleon_columns_2021 = cols_2021[cols_2021.index(chameleon_start):cols_2021.index(chameleon_end)+1]\n"
   ]
  }
 ],
 "metadata": {
  "kernelspec": {
   "display_name": "DeppClinic",
   "language": "python",
   "name": "deppclinic"
  },
  "language_info": {
   "codemirror_mode": {
    "name": "ipython",
    "version": 3
   },
   "file_extension": ".py",
   "mimetype": "text/x-python",
   "name": "python",
   "nbconvert_exporter": "python",
   "pygments_lexer": "ipython3",
   "version": "3.9.7"
  }
 },
 "nbformat": 4,
 "nbformat_minor": 5
}
