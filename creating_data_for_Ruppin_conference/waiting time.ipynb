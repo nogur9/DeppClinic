{
 "cells": [
  {
   "cell_type": "code",
   "execution_count": 1,
   "id": "2180e468",
   "metadata": {},
   "outputs": [],
   "source": [
    "# import resources\n",
    "%matplotlib inline\n",
    "\n",
    "import matplotlib.pyplot as plt\n",
    "import pandas as pd\n",
    "import numpy as np\n",
    "import scipy.stats as stats\n",
    "import seaborn as sns\n",
    "import dtale\n",
    "import pingouin as pg"
   ]
  },
  {
   "cell_type": "code",
   "execution_count": 2,
   "id": "7828d83e",
   "metadata": {},
   "outputs": [],
   "source": [
    "# import resources\n",
    "%matplotlib inline\n",
    "#df = pd.read_excel(\"אינטייק תחילת טיפול 210423.xlsx\")\n",
    "df = pd.read_excel(\"אינטייק תחילת טיפול 210423 - עם השלמות.xlsx\")"
   ]
  },
  {
   "cell_type": "code",
   "execution_count": 3,
   "id": "acf904c6",
   "metadata": {},
   "outputs": [
    {
     "name": "stdout",
     "output_type": "stream",
     "text": [
      "(0, 'Unnamed: 0')\n",
      "(1, 'תאריך אינטייק\\nקליני')\n",
      "(2, 'תאריך תחילת טיפול במרפאה')\n",
      "(3, 'סוג טיפול (IPT מקוצר, IPT רגיל, TAU)')\n"
     ]
    }
   ],
   "source": [
    "print(*enumerate(df.columns), sep='\\n')\n",
    "\n",
    "rename = {\n",
    "    df.columns[0] : 'id',\n",
    "    df.columns[1]: 'intake_date',\n",
    "    df.columns[2]: 'treatment_start_date',\n",
    "    df.columns[3]: 'treatment_type',\n",
    "}\n"
   ]
  },
  {
   "cell_type": "code",
   "execution_count": 4,
   "id": "4109b640",
   "metadata": {},
   "outputs": [
    {
     "name": "stdout",
     "output_type": "stream",
     "text": [
      "(0, 'id')\n",
      "(1, 'intake_date')\n",
      "(2, 'treatment_start_date')\n",
      "(3, 'treatment_type')\n",
      "\n",
      " id                              object\n",
      "intake_date             datetime64[ns]\n",
      "treatment_start_date    datetime64[ns]\n",
      "treatment_type                  object\n",
      "dtype: object\n"
     ]
    }
   ],
   "source": [
    "df = df.rename(rename, axis=1)\n",
    "print(*enumerate(df.columns), sep='\\n')\n",
    "print('\\n', df.dtypes)"
   ]
  },
  {
   "cell_type": "code",
   "execution_count": 5,
   "id": "06876e73",
   "metadata": {},
   "outputs": [],
   "source": [
    "treatment_types = list(df.treatment_type.unique())\n",
    "rename_types = {\n",
    "    treatment_types[1]: 'IPT-SCI', #'IPT מקוצר'\n",
    "    treatment_types[2]: 'TAU', #TAU\n",
    "    treatment_types[3]: 'TAU', # 'IPT רגיל'\n",
    "    treatment_types[4]: 'IPT-SCI', #'IPT SCI'\n",
    "    treatment_types[5]: 'IPT-SCI', #'מקוצר'\n",
    "    treatment_types[6]: 'IPT-SCI', #'ipt מקוצר'\n",
    "}\n",
    "\n",
    "df['treatment_type_renamed'] = df.treatment_type.map(rename_types)"
   ]
  },
  {
   "cell_type": "code",
   "execution_count": 6,
   "id": "c34ef5ca",
   "metadata": {},
   "outputs": [],
   "source": [
    "df = df.dropna(subset = ['treatment_start_date', 'intake_date'], how='any')\n",
    "\n",
    "df = df[~(df['treatment_start_date'] < df['intake_date'])]\n",
    "\n",
    "df['treatment_start_year'] = df['treatment_start_date'].dt.year"
   ]
  },
  {
   "cell_type": "code",
   "execution_count": 7,
   "id": "bb43a0a5",
   "metadata": {},
   "outputs": [],
   "source": [
    "delta = df['treatment_start_date'] - df['intake_date'] \n",
    "df['waiting_duration_days'] = delta.dt.days\n",
    "df['waiting_duration_weeks'] = df['waiting_duration_days'] / 7"
   ]
  },
  {
   "cell_type": "code",
   "execution_count": 8,
   "id": "4ffc67b6",
   "metadata": {},
   "outputs": [],
   "source": [
    "df = df[(df.treatment_start_year < 2023)]\n"
   ]
  },
  {
   "cell_type": "code",
   "execution_count": 9,
   "id": "ebe1d2f6",
   "metadata": {},
   "outputs": [
    {
     "name": "stdout",
     "output_type": "stream",
     "text": [
      "treatment_start_year\n",
      "2018    13.285714\n",
      "2019     7.285714\n",
      "2020     9.000000\n",
      "2021     9.000000\n",
      "2022    16.571429\n",
      "Name: waiting_duration_weeks, dtype: float64\n"
     ]
    },
    {
     "data": {
      "text/html": [
       "<div>\n",
       "<style scoped>\n",
       "    .dataframe tbody tr th:only-of-type {\n",
       "        vertical-align: middle;\n",
       "    }\n",
       "\n",
       "    .dataframe tbody tr th {\n",
       "        vertical-align: top;\n",
       "    }\n",
       "\n",
       "    .dataframe thead th {\n",
       "        text-align: right;\n",
       "    }\n",
       "</style>\n",
       "<table border=\"1\" class=\"dataframe\">\n",
       "  <thead>\n",
       "    <tr style=\"text-align: right;\">\n",
       "      <th></th>\n",
       "      <th>names</th>\n",
       "      <th>coef</th>\n",
       "      <th>se</th>\n",
       "      <th>T</th>\n",
       "      <th>pval</th>\n",
       "      <th>r2</th>\n",
       "      <th>adj_r2</th>\n",
       "      <th>CI[2.5%]</th>\n",
       "      <th>CI[97.5%]</th>\n",
       "    </tr>\n",
       "  </thead>\n",
       "  <tbody>\n",
       "    <tr>\n",
       "      <th>0</th>\n",
       "      <td>Intercept</td>\n",
       "      <td>-1662.685714</td>\n",
       "      <td>2638.705615</td>\n",
       "      <td>-0.630114</td>\n",
       "      <td>0.573345</td>\n",
       "      <td>0.118251</td>\n",
       "      <td>-0.175666</td>\n",
       "      <td>-10060.224651</td>\n",
       "      <td>6734.853222</td>\n",
       "    </tr>\n",
       "    <tr>\n",
       "      <th>1</th>\n",
       "      <td>x1</td>\n",
       "      <td>0.828571</td>\n",
       "      <td>1.306290</td>\n",
       "      <td>0.634294</td>\n",
       "      <td>0.570952</td>\n",
       "      <td>0.118251</td>\n",
       "      <td>-0.175666</td>\n",
       "      <td>-3.328625</td>\n",
       "      <td>4.985768</td>\n",
       "    </tr>\n",
       "  </tbody>\n",
       "</table>\n",
       "</div>"
      ],
      "text/plain": [
       "       names         coef           se         T      pval        r2  \\\n",
       "0  Intercept -1662.685714  2638.705615 -0.630114  0.573345  0.118251   \n",
       "1         x1     0.828571     1.306290  0.634294  0.570952  0.118251   \n",
       "\n",
       "     adj_r2      CI[2.5%]    CI[97.5%]  \n",
       "0 -0.175666 -10060.224651  6734.853222  \n",
       "1 -0.175666     -3.328625     4.985768  "
      ]
     },
     "metadata": {},
     "output_type": "display_data"
    },
    {
     "name": "stderr",
     "output_type": "stream",
     "text": [
      "findfont: Font family ['Heiti TC'] not found. Falling back to DejaVu Sans.\n",
      "findfont: Font family ['Heiti TC'] not found. Falling back to DejaVu Sans.\n"
     ]
    },
    {
     "data": {
      "image/png": "[encoded data removed]",
      "text/plain": [
       "<Figure size 432x288 with 1 Axes>"
      ]
     },
     "metadata": {
      "needs_background": "light"
     },
     "output_type": "display_data"
    }
   ],
   "source": [
    "gb = df.groupby('treatment_start_year')['waiting_duration_weeks'].median()\n",
    "print(gb)\n",
    "x = gb.index.values\n",
    "y = gb.values\n",
    "\n",
    "result = pg.linear_regression(x, y)\n",
    "\n",
    "display(result)\n",
    "\n",
    "plt.plot(x,y, marker='o', linestyle='dashed',)\n",
    "plt.xlabel(\"treatment_start_year\")\n",
    "plt.ylabel(\"waiting_duration_weeks\")\n",
    "plt.title(\"treatment_start_year X waiting_duration_weeks\")\n",
    "plt.show()"
   ]
  },
  {
   "cell_type": "code",
   "execution_count": 10,
   "id": "9c478d56",
   "metadata": {
    "scrolled": false
   },
   "outputs": [
    {
     "name": "stdout",
     "output_type": "stream",
     "text": [
      "treatment_start_year\n",
      "2018    17.214286\n",
      "2019    10.000000\n",
      "2020     4.000000\n",
      "2021     6.500000\n",
      "2022    12.928571\n",
      "Name: waiting_duration_weeks, dtype: float64\n"
     ]
    },
    {
     "data": {
      "text/html": [
       "<div>\n",
       "<style scoped>\n",
       "    .dataframe tbody tr th:only-of-type {\n",
       "        vertical-align: middle;\n",
       "    }\n",
       "\n",
       "    .dataframe tbody tr th {\n",
       "        vertical-align: top;\n",
       "    }\n",
       "\n",
       "    .dataframe thead th {\n",
       "        text-align: right;\n",
       "    }\n",
       "</style>\n",
       "<table border=\"1\" class=\"dataframe\">\n",
       "  <thead>\n",
       "    <tr style=\"text-align: right;\">\n",
       "      <th></th>\n",
       "      <th>names</th>\n",
       "      <th>coef</th>\n",
       "      <th>se</th>\n",
       "      <th>T</th>\n",
       "      <th>pval</th>\n",
       "      <th>r2</th>\n",
       "      <th>adj_r2</th>\n",
       "      <th>CI[2.5%]</th>\n",
       "      <th>CI[97.5%]</th>\n",
       "    </tr>\n",
       "  </thead>\n",
       "  <tbody>\n",
       "    <tr>\n",
       "      <th>0</th>\n",
       "      <td>Intercept</td>\n",
       "      <td>2448.557143</td>\n",
       "      <td>3579.787082</td>\n",
       "      <td>0.683995</td>\n",
       "      <td>0.543076</td>\n",
       "      <td>0.133946</td>\n",
       "      <td>-0.154739</td>\n",
       "      <td>-8943.923031</td>\n",
       "      <td>13841.037316</td>\n",
       "    </tr>\n",
       "    <tr>\n",
       "      <th>1</th>\n",
       "      <td>x1</td>\n",
       "      <td>-1.207143</td>\n",
       "      <td>1.772171</td>\n",
       "      <td>-0.681166</td>\n",
       "      <td>0.544634</td>\n",
       "      <td>0.133946</td>\n",
       "      <td>-0.154739</td>\n",
       "      <td>-6.846983</td>\n",
       "      <td>4.432697</td>\n",
       "    </tr>\n",
       "  </tbody>\n",
       "</table>\n",
       "</div>"
      ],
      "text/plain": [
       "       names         coef           se         T      pval        r2  \\\n",
       "0  Intercept  2448.557143  3579.787082  0.683995  0.543076  0.133946   \n",
       "1         x1    -1.207143     1.772171 -0.681166  0.544634  0.133946   \n",
       "\n",
       "     adj_r2     CI[2.5%]     CI[97.5%]  \n",
       "0 -0.154739 -8943.923031  13841.037316  \n",
       "1 -0.154739    -6.846983      4.432697  "
      ]
     },
     "metadata": {},
     "output_type": "display_data"
    },
    {
     "data": {
      "image/png": "[encoded data removed]",
      "text/plain": [
       "<Figure size 432x288 with 1 Axes>"
      ]
     },
     "metadata": {
      "needs_background": "light"
     },
     "output_type": "display_data"
    }
   ],
   "source": [
    "gb = df[df.treatment_type_renamed == 'TAU'].groupby('treatment_start_year')['waiting_duration_weeks'].median()\n",
    "print(gb)\n",
    "x = gb.index.values\n",
    "y = gb.values\n",
    "\n",
    "result = pg.linear_regression(x, y)\n",
    "\n",
    "display(result)\n",
    "\n",
    "plt.plot(x,y, marker='o', linestyle='dashed',)\n",
    "plt.xlabel(\"treatment_start_year\")\n",
    "plt.ylabel(\"waiting_duration_weeks\")\n",
    "plt.title(\"treatment_start_year X waiting_duration_weeks\")\n",
    "plt.show()"
   ]
  },
  {
   "cell_type": "code",
   "execution_count": 13,
   "id": "6c06b6a1",
   "metadata": {},
   "outputs": [
    {
     "name": "stdout",
     "output_type": "stream",
     "text": [
      "treatment_start_year\n",
      "2018     9.571429\n",
      "2019     7.000000\n",
      "2020    18.142857\n",
      "2021    11.000000\n",
      "2022    16.000000\n",
      "Name: waiting_duration_weeks, dtype: float64\n"
     ]
    },
    {
     "data": {
      "text/html": [
       "<div>\n",
       "<style scoped>\n",
       "    .dataframe tbody tr th:only-of-type {\n",
       "        vertical-align: middle;\n",
       "    }\n",
       "\n",
       "    .dataframe tbody tr th {\n",
       "        vertical-align: top;\n",
       "    }\n",
       "\n",
       "    .dataframe thead th {\n",
       "        text-align: right;\n",
       "    }\n",
       "</style>\n",
       "<table border=\"1\" class=\"dataframe\">\n",
       "  <thead>\n",
       "    <tr style=\"text-align: right;\">\n",
       "      <th></th>\n",
       "      <th>names</th>\n",
       "      <th>coef</th>\n",
       "      <th>se</th>\n",
       "      <th>T</th>\n",
       "      <th>pval</th>\n",
       "      <th>r2</th>\n",
       "      <th>adj_r2</th>\n",
       "      <th>CI[2.5%]</th>\n",
       "      <th>CI[97.5%]</th>\n",
       "    </tr>\n",
       "  </thead>\n",
       "  <tbody>\n",
       "    <tr>\n",
       "      <th>0</th>\n",
       "      <td>Intercept</td>\n",
       "      <td>-3392.800000</td>\n",
       "      <td>2775.290111</td>\n",
       "      <td>-1.222503</td>\n",
       "      <td>0.308801</td>\n",
       "      <td>0.334133</td>\n",
       "      <td>0.112178</td>\n",
       "      <td>-12225.011759</td>\n",
       "      <td>5439.411759</td>\n",
       "    </tr>\n",
       "    <tr>\n",
       "      <th>1</th>\n",
       "      <td>x1</td>\n",
       "      <td>1.685714</td>\n",
       "      <td>1.373906</td>\n",
       "      <td>1.226951</td>\n",
       "      <td>0.307348</td>\n",
       "      <td>0.334133</td>\n",
       "      <td>0.112178</td>\n",
       "      <td>-2.686667</td>\n",
       "      <td>6.058095</td>\n",
       "    </tr>\n",
       "  </tbody>\n",
       "</table>\n",
       "</div>"
      ],
      "text/plain": [
       "       names         coef           se         T      pval        r2  \\\n",
       "0  Intercept -3392.800000  2775.290111 -1.222503  0.308801  0.334133   \n",
       "1         x1     1.685714     1.373906  1.226951  0.307348  0.334133   \n",
       "\n",
       "     adj_r2      CI[2.5%]    CI[97.5%]  \n",
       "0  0.112178 -12225.011759  5439.411759  \n",
       "1  0.112178     -2.686667     6.058095  "
      ]
     },
     "metadata": {},
     "output_type": "display_data"
    },
    {
     "data": {
      "image/png": "[encoded data removed]",
      "text/plain": [
       "<Figure size 432x288 with 1 Axes>"
      ]
     },
     "metadata": {
      "needs_background": "light"
     },
     "output_type": "display_data"
    }
   ],
   "source": [
    "gb = df[df.treatment_type_renamed == 'IPT-SCI'].groupby('treatment_start_year')['waiting_duration_weeks'].median()\n",
    "print(gb)\n",
    "x = gb.index.values\n",
    "y = gb.values\n",
    "\n",
    "result = pg.linear_regression(x, y)\n",
    "\n",
    "display(result)\n",
    "\n",
    "plt.plot(x,y, marker='o', linestyle='dashed',)\n",
    "plt.xlabel(\"treatment_start_year\")\n",
    "plt.ylabel(\"waiting_duration_weeks\")\n",
    "plt.title(\"treatment_start_year X waiting_duration_weeks\")\n",
    "plt.show()"
   ]
  },
  {
   "cell_type": "code",
   "execution_count": 14,
   "id": "c0f33447",
   "metadata": {},
   "outputs": [
    {
     "data": {
      "text/html": [
       "<div>\n",
       "<style scoped>\n",
       "    .dataframe tbody tr th:only-of-type {\n",
       "        vertical-align: middle;\n",
       "    }\n",
       "\n",
       "    .dataframe tbody tr th {\n",
       "        vertical-align: top;\n",
       "    }\n",
       "\n",
       "    .dataframe thead th {\n",
       "        text-align: right;\n",
       "    }\n",
       "</style>\n",
       "<table border=\"1\" class=\"dataframe\">\n",
       "  <thead>\n",
       "    <tr style=\"text-align: right;\">\n",
       "      <th></th>\n",
       "      <th>Source</th>\n",
       "      <th>SS</th>\n",
       "      <th>DF</th>\n",
       "      <th>MS</th>\n",
       "      <th>F</th>\n",
       "      <th>p-unc</th>\n",
       "      <th>np2</th>\n",
       "    </tr>\n",
       "  </thead>\n",
       "  <tbody>\n",
       "    <tr>\n",
       "      <th>0</th>\n",
       "      <td>treatment_start_year</td>\n",
       "      <td>476.984</td>\n",
       "      <td>4.0</td>\n",
       "      <td>119.246</td>\n",
       "      <td>0.411</td>\n",
       "      <td>0.801</td>\n",
       "      <td>0.012</td>\n",
       "    </tr>\n",
       "    <tr>\n",
       "      <th>1</th>\n",
       "      <td>treatment_type_renamed</td>\n",
       "      <td>23.531</td>\n",
       "      <td>1.0</td>\n",
       "      <td>23.531</td>\n",
       "      <td>0.081</td>\n",
       "      <td>0.776</td>\n",
       "      <td>0.001</td>\n",
       "    </tr>\n",
       "    <tr>\n",
       "      <th>2</th>\n",
       "      <td>treatment_start_year * treatment_type_renamed</td>\n",
       "      <td>2772.003</td>\n",
       "      <td>4.0</td>\n",
       "      <td>693.001</td>\n",
       "      <td>2.388</td>\n",
       "      <td>0.054</td>\n",
       "      <td>0.065</td>\n",
       "    </tr>\n",
       "    <tr>\n",
       "      <th>3</th>\n",
       "      <td>Residual</td>\n",
       "      <td>40054.158</td>\n",
       "      <td>138.0</td>\n",
       "      <td>290.248</td>\n",
       "      <td>NaN</td>\n",
       "      <td>NaN</td>\n",
       "      <td>NaN</td>\n",
       "    </tr>\n",
       "  </tbody>\n",
       "</table>\n",
       "</div>"
      ],
      "text/plain": [
       "                                          Source         SS     DF       MS  \\\n",
       "0                           treatment_start_year    476.984    4.0  119.246   \n",
       "1                         treatment_type_renamed     23.531    1.0   23.531   \n",
       "2  treatment_start_year * treatment_type_renamed   2772.003    4.0  693.001   \n",
       "3                                       Residual  40054.158  138.0  290.248   \n",
       "\n",
       "       F  p-unc    np2  \n",
       "0  0.411  0.801  0.012  \n",
       "1  0.081  0.776  0.001  \n",
       "2  2.388  0.054  0.065  \n",
       "3    NaN    NaN    NaN  "
      ]
     },
     "execution_count": 14,
     "metadata": {},
     "output_type": "execute_result"
    }
   ],
   "source": [
    "pg.anova(data=df, dv='waiting_duration_weeks', between=['treatment_start_year', 'treatment_type_renamed'], ss_type=3).round(3)"
   ]
  },
  {
   "cell_type": "code",
   "execution_count": 13,
   "id": "77d578cf",
   "metadata": {},
   "outputs": [
    {
     "data": {
      "image/png": "[encoded data removed]",
      "text/plain": [
       "<Figure size 432x288 with 1 Axes>"
      ]
     },
     "metadata": {
      "needs_background": "light"
     },
     "output_type": "display_data"
    },
    {
     "data": {
      "text/plain": [
       "<Figure size 432x288 with 0 Axes>"
      ]
     },
     "metadata": {},
     "output_type": "display_data"
    }
   ],
   "source": [
    "for year in [2019]:#, 2020, 2021, 2022]:\n",
    "    plt.hist(df[df.treatment_start_year == year].waiting_duration_weeks, bins=20)\n",
    "    plt.show()\n",
    "    plt.clf()"
   ]
  },
  {
   "cell_type": "code",
   "execution_count": 14,
   "id": "0486c262",
   "metadata": {},
   "outputs": [],
   "source": [
    "d = dtale.show(df)\n",
    "d.open_browser()"
   ]
  },
  {
   "cell_type": "code",
   "execution_count": 15,
   "id": "eff90179",
   "metadata": {},
   "outputs": [],
   "source": [
    "? pg.anova"
   ]
  },
  {
   "cell_type": "code",
   "execution_count": 10,
   "id": "aeb1e6be",
   "metadata": {},
   "outputs": [],
   "source": [
    "gb1 = df[df.treatment_type_renamed == 'TAU'].groupby('treatment_start_year')['waiting_duration_weeks'].median()\n",
    "gb2 = df[df.treatment_type_renamed == 'IPT-SCI'].groupby('treatment_start_year')['waiting_duration_weeks'].median()\n",
    "x1 = gb1.index.values\n",
    "y1 = gb1.values\n",
    "x2 = gb2.index.values\n",
    "y2 = gb2.values\n"
   ]
  },
  {
   "cell_type": "code",
   "execution_count": 12,
   "id": "1d11cfe5",
   "metadata": {},
   "outputs": [
    {
     "data": {
      "image/png": "[encoded data removed]",
      "text/plain": [
       "<Figure size 432x288 with 1 Axes>"
      ]
     },
     "metadata": {
      "needs_background": "light"
     },
     "output_type": "display_data"
    }
   ],
   "source": [
    "\n",
    "plt.plot(x1,y1, marker='o', linestyle='dashed', label='TAU')\n",
    "plt.plot(x2,y2, marker='o', linestyle='dashed', label = 'IPT-SCI')\n",
    "plt.xlabel(\"treatment_start_year\")\n",
    "plt.ylabel(\"waiting_duration_weeks\")\n",
    "plt.title(\"treatment_start_year X waiting_duration_weeks\")\n",
    "plt.xticks([2018, 2019, 2020, 2021, 2022])\n",
    "plt.legend()\n",
    "plt.show()"
   ]
  },
  {
   "cell_type": "code",
   "execution_count": null,
   "id": "9cffd13a",
   "metadata": {},
   "outputs": [],
   "source": []
  }
 ],
 "metadata": {
  "kernelspec": {
   "display_name": "DeppClinic",
   "language": "python",
   "name": "deppclinic"
  },
  "language_info": {
   "codemirror_mode": {
    "name": "ipython",
    "version": 3
   },
   "file_extension": ".py",
   "mimetype": "text/x-python",
   "name": "python",
   "nbconvert_exporter": "python",
   "pygments_lexer": "ipython3",
   "version": "3.9.7"
  }
 },
 "nbformat": 4,
 "nbformat_minor": 5
}
