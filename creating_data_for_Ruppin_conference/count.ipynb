{
 "cells": [
  {
   "cell_type": "code",
   "execution_count": 1,
   "id": "2180e468",
   "metadata": {},
   "outputs": [],
   "source": [
    "# import resources\n",
    "%matplotlib inline\n",
    "\n",
    "\n",
    "import pandas as pd\n",
    "import numpy as np\n",
    "import scipy.stats as stats\n",
    "import seaborn as sns\n",
    "import dtale\n",
    "import pingouin as pg"
   ]
  },
  {
   "cell_type": "code",
   "execution_count": 2,
   "id": "7828d83e",
   "metadata": {},
   "outputs": [],
   "source": [
    "#df = pd.read_excel(\"אינטייק תחילת טיפול 210423.xlsx\")\n",
    "df = pd.read_excel(\"אינטייק תחילת טיפול 210423 - עם השלמות.xlsx\")"
   ]
  },
  {
   "cell_type": "code",
   "execution_count": 3,
   "id": "acf904c6",
   "metadata": {},
   "outputs": [
    {
     "name": "stdout",
     "output_type": "stream",
     "text": [
      "(0, 'Unnamed: 0')\n",
      "(1, 'תאריך אינטייק\\nקליני')\n",
      "(2, 'תאריך תחילת טיפול במרפאה')\n",
      "(3, 'סוג טיפול (IPT מקוצר, IPT רגיל, TAU)')\n"
     ]
    }
   ],
   "source": [
    "print(*enumerate(df.columns), sep='\\n')\n",
    "\n",
    "rename = {\n",
    "    df.columns[0] : 'id',\n",
    "    df.columns[1]: 'intake_date',\n",
    "    df.columns[2]: 'treatment_start_date',\n",
    "    df.columns[3]: 'treatment_type',\n",
    "}\n"
   ]
  },
  {
   "cell_type": "code",
   "execution_count": 4,
   "id": "4109b640",
   "metadata": {},
   "outputs": [
    {
     "name": "stdout",
     "output_type": "stream",
     "text": [
      "(0, 'id')\n",
      "(1, 'intake_date')\n",
      "(2, 'treatment_start_date')\n",
      "(3, 'treatment_type')\n",
      "\n",
      " id                              object\n",
      "intake_date             datetime64[ns]\n",
      "treatment_start_date    datetime64[ns]\n",
      "treatment_type                  object\n",
      "dtype: object\n"
     ]
    }
   ],
   "source": [
    "df = df.rename(rename, axis=1)\n",
    "print(*enumerate(df.columns), sep='\\n')\n",
    "print('\\n', df.dtypes)"
   ]
  },
  {
   "cell_type": "code",
   "execution_count": 5,
   "id": "92a7a3ac",
   "metadata": {},
   "outputs": [],
   "source": [
    "treatment_types = list(df.treatment_type.unique())\n",
    "rename_types = {\n",
    "    treatment_types[1]: 'IPT-SCI', #'IPT מקוצר'\n",
    "    treatment_types[2]: 'TAU', #TAU\n",
    "    treatment_types[3]: 'TAU', # 'IPT רגיל'\n",
    "    treatment_types[4]: 'IPT-SCI', #'IPT SCI'\n",
    "    treatment_types[5]: 'IPT-SCI', #'מקוצר'\n",
    "    treatment_types[6]: 'IPT-SCI', #'ipt מקוצר'\n",
    "}\n",
    "\n",
    "df['treatment_type_renamed'] = df.treatment_type.map(rename_types)"
   ]
  },
  {
   "cell_type": "code",
   "execution_count": 6,
   "id": "74ee6c12",
   "metadata": {},
   "outputs": [],
   "source": [
    "df = df.dropna(subset = ['treatment_start_date'], how='any')\n",
    "df['treatment_start_year'] = df['treatment_start_date'].dt.year"
   ]
  },
  {
   "cell_type": "code",
   "execution_count": 9,
   "id": "fd3877f7",
   "metadata": {},
   "outputs": [],
   "source": [
    "df.to_csv(\"data_for_rupin_conference.csv\")"
   ]
  },
  {
   "cell_type": "code",
   "execution_count": 7,
   "id": "19ade9c3",
   "metadata": {},
   "outputs": [
    {
     "data": {
      "text/html": [
       "<div>\n",
       "<style scoped>\n",
       "    .dataframe tbody tr th:only-of-type {\n",
       "        vertical-align: middle;\n",
       "    }\n",
       "\n",
       "    .dataframe tbody tr th {\n",
       "        vertical-align: top;\n",
       "    }\n",
       "\n",
       "    .dataframe thead th {\n",
       "        text-align: right;\n",
       "    }\n",
       "</style>\n",
       "<table border=\"1\" class=\"dataframe\">\n",
       "  <thead>\n",
       "    <tr style=\"text-align: right;\">\n",
       "      <th></th>\n",
       "      <th>id</th>\n",
       "      <th>intake_date</th>\n",
       "      <th>treatment_start_date</th>\n",
       "      <th>treatment_type</th>\n",
       "      <th>treatment_type_renamed</th>\n",
       "      <th>treatment_start_year</th>\n",
       "    </tr>\n",
       "  </thead>\n",
       "  <tbody>\n",
       "    <tr>\n",
       "      <th>1</th>\n",
       "      <td>204</td>\n",
       "      <td>NaT</td>\n",
       "      <td>2019-04-16</td>\n",
       "      <td>IPT מקוצר</td>\n",
       "      <td>IPT-SCI</td>\n",
       "      <td>2019</td>\n",
       "    </tr>\n",
       "    <tr>\n",
       "      <th>2</th>\n",
       "      <td>224</td>\n",
       "      <td>NaT</td>\n",
       "      <td>2019-04-30</td>\n",
       "      <td>TAU</td>\n",
       "      <td>TAU</td>\n",
       "      <td>2019</td>\n",
       "    </tr>\n",
       "    <tr>\n",
       "      <th>3</th>\n",
       "      <td>226</td>\n",
       "      <td>NaT</td>\n",
       "      <td>2020-05-12</td>\n",
       "      <td>IPT מקוצר</td>\n",
       "      <td>IPT-SCI</td>\n",
       "      <td>2020</td>\n",
       "    </tr>\n",
       "    <tr>\n",
       "      <th>4</th>\n",
       "      <td>654</td>\n",
       "      <td>NaT</td>\n",
       "      <td>2020-02-07</td>\n",
       "      <td>IPT מקוצר</td>\n",
       "      <td>IPT-SCI</td>\n",
       "      <td>2020</td>\n",
       "    </tr>\n",
       "    <tr>\n",
       "      <th>5</th>\n",
       "      <td>994</td>\n",
       "      <td>NaT</td>\n",
       "      <td>2020-02-18</td>\n",
       "      <td>TAU</td>\n",
       "      <td>TAU</td>\n",
       "      <td>2020</td>\n",
       "    </tr>\n",
       "    <tr>\n",
       "      <th>...</th>\n",
       "      <td>...</td>\n",
       "      <td>...</td>\n",
       "      <td>...</td>\n",
       "      <td>...</td>\n",
       "      <td>...</td>\n",
       "      <td>...</td>\n",
       "    </tr>\n",
       "    <tr>\n",
       "      <th>452</th>\n",
       "      <td>Y9606</td>\n",
       "      <td>2020-10-27</td>\n",
       "      <td>2020-12-08</td>\n",
       "      <td>TAU</td>\n",
       "      <td>TAU</td>\n",
       "      <td>2020</td>\n",
       "    </tr>\n",
       "    <tr>\n",
       "      <th>454</th>\n",
       "      <td>Y9759</td>\n",
       "      <td>2021-12-08</td>\n",
       "      <td>2022-01-06</td>\n",
       "      <td>IPT רגיל</td>\n",
       "      <td>TAU</td>\n",
       "      <td>2022</td>\n",
       "    </tr>\n",
       "    <tr>\n",
       "      <th>455</th>\n",
       "      <td>Y9804</td>\n",
       "      <td>2019-06-11</td>\n",
       "      <td>2019-12-03</td>\n",
       "      <td>IPT מקוצר</td>\n",
       "      <td>IPT-SCI</td>\n",
       "      <td>2019</td>\n",
       "    </tr>\n",
       "    <tr>\n",
       "      <th>458</th>\n",
       "      <td>Z7237</td>\n",
       "      <td>2022-04-04</td>\n",
       "      <td>2022-11-13</td>\n",
       "      <td>IPT מקוצר</td>\n",
       "      <td>IPT-SCI</td>\n",
       "      <td>2022</td>\n",
       "    </tr>\n",
       "    <tr>\n",
       "      <th>459</th>\n",
       "      <td>Z8409</td>\n",
       "      <td>2019-03-19</td>\n",
       "      <td>2019-05-31</td>\n",
       "      <td>IPT מקוצר</td>\n",
       "      <td>IPT-SCI</td>\n",
       "      <td>2019</td>\n",
       "    </tr>\n",
       "  </tbody>\n",
       "</table>\n",
       "<p>254 rows × 6 columns</p>\n",
       "</div>"
      ],
      "text/plain": [
       "        id intake_date treatment_start_date treatment_type  \\\n",
       "1      204         NaT           2019-04-16      IPT מקוצר   \n",
       "2      224         NaT           2019-04-30            TAU   \n",
       "3      226         NaT           2020-05-12      IPT מקוצר   \n",
       "4      654         NaT           2020-02-07      IPT מקוצר   \n",
       "5      994         NaT           2020-02-18            TAU   \n",
       "..     ...         ...                  ...            ...   \n",
       "452  Y9606  2020-10-27           2020-12-08            TAU   \n",
       "454  Y9759  2021-12-08           2022-01-06       IPT רגיל   \n",
       "455  Y9804  2019-06-11           2019-12-03      IPT מקוצר   \n",
       "458  Z7237  2022-04-04           2022-11-13      IPT מקוצר   \n",
       "459  Z8409  2019-03-19           2019-05-31      IPT מקוצר   \n",
       "\n",
       "    treatment_type_renamed  treatment_start_year  \n",
       "1                  IPT-SCI                  2019  \n",
       "2                      TAU                  2019  \n",
       "3                  IPT-SCI                  2020  \n",
       "4                  IPT-SCI                  2020  \n",
       "5                      TAU                  2020  \n",
       "..                     ...                   ...  \n",
       "452                    TAU                  2020  \n",
       "454                    TAU                  2022  \n",
       "455                IPT-SCI                  2019  \n",
       "458                IPT-SCI                  2022  \n",
       "459                IPT-SCI                  2019  \n",
       "\n",
       "[254 rows x 6 columns]"
      ]
     },
     "execution_count": 7,
     "metadata": {},
     "output_type": "execute_result"
    }
   ],
   "source": [
    "df.query(\"treatment_start_year < 2023\")"
   ]
  },
  {
   "cell_type": "code",
   "execution_count": 8,
   "id": "0486c262",
   "metadata": {},
   "outputs": [],
   "source": [
    "d = dtale.show(df.query(\"treatment_start_year < 2023\"))\n",
    "d.open_browser()"
   ]
  },
  {
   "cell_type": "code",
   "execution_count": null,
   "id": "eff90179",
   "metadata": {},
   "outputs": [],
   "source": []
  },
  {
   "cell_type": "code",
   "execution_count": null,
   "id": "aeb1e6be",
   "metadata": {},
   "outputs": [],
   "source": []
  }
 ],
 "metadata": {
  "kernelspec": {
   "display_name": "DeppClinic",
   "language": "python",
   "name": "deppclinic"
  },
  "language_info": {
   "codemirror_mode": {
    "name": "ipython",
    "version": 3
   },
   "file_extension": ".py",
   "mimetype": "text/x-python",
   "name": "python",
   "nbconvert_exporter": "python",
   "pygments_lexer": "ipython3",
   "version": "3.9.7"
  }
 },
 "nbformat": 4,
 "nbformat_minor": 5
}
