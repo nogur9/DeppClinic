{
 "cells": [
  {
   "cell_type": "code",
   "execution_count": 1,
   "id": "2180e468",
   "metadata": {},
   "outputs": [],
   "source": [
    "# import resources\n",
    "%matplotlib inline\n",
    "\n",
    "\n",
    "import pandas as pd\n",
    "import numpy as np\n",
    "import scipy.stats as stats\n",
    "import seaborn as sns\n",
    "import dtale\n",
    "import pingouin as pg"
   ]
  },
  {
   "cell_type": "code",
   "execution_count": 2,
   "id": "7828d83e",
   "metadata": {},
   "outputs": [],
   "source": [
    "#df = pd.read_excel(\"אינטייק תחילת טיפול 210423.xlsx\")\n",
    "df = pd.read_excel(\"אינטייק תחילת טיפול 210423 - עם השלמות.xlsx\")"
   ]
  },
  {
   "cell_type": "code",
   "execution_count": 3,
   "id": "acf904c6",
   "metadata": {},
   "outputs": [
    {
     "name": "stdout",
     "output_type": "stream",
     "text": [
      "(0, 'Unnamed: 0')\n",
      "(1, 'תאריך אינטייק\\nקליני')\n",
      "(2, 'תאריך תחילת טיפול במרפאה')\n",
      "(3, 'סוג טיפול (IPT מקוצר, IPT רגיל, TAU)')\n"
     ]
    }
   ],
   "source": [
    "print(*enumerate(df.columns), sep='\\n')\n",
    "\n",
    "rename = {\n",
    "    df.columns[0] : 'id',\n",
    "    df.columns[1]: 'intake_date',\n",
    "    df.columns[2]: 'treatment_start_date',\n",
    "    df.columns[3]: 'treatment_type',\n",
    "}\n"
   ]
  },
  {
   "cell_type": "code",
   "execution_count": 4,
   "id": "4109b640",
   "metadata": {},
   "outputs": [
    {
     "name": "stdout",
     "output_type": "stream",
     "text": [
      "(0, 'id')\n",
      "(1, 'intake_date')\n",
      "(2, 'treatment_start_date')\n",
      "(3, 'treatment_type')\n",
      "\n",
      " id                              object\n",
      "intake_date             datetime64[ns]\n",
      "treatment_start_date    datetime64[ns]\n",
      "treatment_type                  object\n",
      "dtype: object\n"
     ]
    }
   ],
   "source": [
    "df = df.rename(rename, axis=1)\n",
    "print(*enumerate(df.columns), sep='\\n')\n",
    "print('\\n', df.dtypes)"
   ]
  },
  {
   "cell_type": "code",
   "execution_count": 5,
   "id": "92a7a3ac",
   "metadata": {},
   "outputs": [],
   "source": [
    "treatment_types = list(df.treatment_type.unique())\n",
    "rename_types = {\n",
    "    treatment_types[1]: 'IPT-SCI', #'IPT מקוצר'\n",
    "    treatment_types[2]: 'TAU', #TAU\n",
    "    treatment_types[3]: 'TAU', # 'IPT רגיל'\n",
    "    treatment_types[4]: 'IPT-SCI', #'IPT SCI'\n",
    "    treatment_types[5]: 'IPT-SCI', #'מקוצר'\n",
    "    treatment_types[6]: 'IPT-SCI', #'ipt מקוצר'\n",
    "}\n",
    "\n",
    "df['treatment_type_renamed'] = df.treatment_type.map(rename_types)"
   ]
  },
  {
   "cell_type": "code",
   "execution_count": 6,
   "id": "74ee6c12",
   "metadata": {},
   "outputs": [],
   "source": [
    "df = df.dropna(subset = ['treatment_start_date'], how='any')\n",
    "df['treatment_start_year'] = df['treatment_start_date'].dt.year"
   ]
  },
  {
   "cell_type": "code",
   "execution_count": 9,
   "id": "fd3877f7",
   "metadata": {},
   "outputs": [],
   "source": [
    "df.to_csv(\"data_for_rupin_conference.csv\")"
   ]
  },
  {
   "cell_type": "code",
   "execution_count": 8,
   "id": "0486c262",
   "metadata": {},
   "outputs": [],
   "source": [
    "d = dtale.show(df)\n",
    "d.open_browser()"
   ]
  },
  {
   "cell_type": "code",
   "execution_count": null,
   "id": "eff90179",
   "metadata": {},
   "outputs": [],
   "source": []
  },
  {
   "cell_type": "code",
   "execution_count": null,
   "id": "aeb1e6be",
   "metadata": {},
   "outputs": [],
   "source": []
  }
 ],
 "metadata": {
  "kernelspec": {
   "display_name": "DeppClinic",
   "language": "python",
   "name": "deppclinic"
  },
  "language_info": {
   "codemirror_mode": {
    "name": "ipython",
    "version": 3
   },
   "file_extension": ".py",
   "mimetype": "text/x-python",
   "name": "python",
   "nbconvert_exporter": "python",
   "pygments_lexer": "ipython3",
   "version": "3.9.7"
  }
 },
 "nbformat": 4,
 "nbformat_minor": 5
}
