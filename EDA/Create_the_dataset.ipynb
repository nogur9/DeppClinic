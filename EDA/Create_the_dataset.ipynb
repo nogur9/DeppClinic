{
 "cells": [
  {
   "cell_type": "code",
   "execution_count": 2,
   "id": "40646f16-d3b5-4946-a601-1475cce7d273",
   "metadata": {},
   "outputs": [],
   "source": [
    "import pandas as pd\n",
    "import pandas_profiling as pp\n",
    "import dtale\n",
    "import seaborn as sns\n",
    "from quesionairres_jupyter.utils import simple_eda, impute_from_column\n",
    "from quesionairres_jupyter.consts.questions_columns import siq, sdq, c_ssrs_intake, c_ssrs, mfq, scared, ATHENS, SAS, sci_af_ca\n"
   ]
  },
  {
   "cell_type": "code",
   "execution_count": 8,
   "id": "3a95d9df-2e6a-4b3f-847c-f42fb2f70f5a",
   "metadata": {},
   "outputs": [],
   "source": [
    "df = pd.read_csv(r'../creating_the_clinic_dataset/preprocessed_data/merged_2021_and_2022.csv', na_values = ' ')\n",
    "all_questionarries = siq + sdq + c_ssrs_intake + c_ssrs + mfq + scared + ATHENS + SAS + sci_af_ca"
   ]
  },
  {
   "cell_type": "code",
   "execution_count": 9,
   "id": "319fe893-947c-4441-8bb8-617f0afbf359",
   "metadata": {},
   "outputs": [],
   "source": [
    "additional_columns = ['id', 'gender', 'redcap_event_name', 'age_child']\n",
    "all_columns = additional_columns + all_questionarries"
   ]
  },
  {
   "cell_type": "code",
   "execution_count": 10,
   "id": "d413c4bd-3696-486f-ad8c-eef4fba34e91",
   "metadata": {},
   "outputs": [],
   "source": [
    "df_intake = df[df.redcap_event_name == 'intake_arm_1'][all_columns]\n",
    "df_pre = df[df.redcap_event_name == 'pre_treatment_arm_1'][all_columns]\n",
    "df_5weeks = df[df.redcap_event_name == 'control_5weeks_arm_1'][all_columns]"
   ]
  },
  {
   "cell_type": "code",
   "execution_count": 11,
   "id": "5658bd47-711d-46f4-a419-c08f2df8b1e6",
   "metadata": {},
   "outputs": [],
   "source": [
    "merged = pd.merge(df_pre, df_5weeks, on=['id'], how='outer', suffixes=('', '_5weeks'))"
   ]
  },
  {
   "cell_type": "code",
   "execution_count": 12,
   "id": "6a51fc21-a8ee-4206-8f82-c35bbb0ab5f9",
   "metadata": {},
   "outputs": [],
   "source": [
    "columns_to_impute = ['gender', 'age_child'] + all_questionarries"
   ]
  },
  {
   "cell_type": "code",
   "execution_count": 13,
   "id": "9f85a2ec-9db5-4dbc-a43d-8c71d8171533",
   "metadata": {},
   "outputs": [],
   "source": [
    "for column_name in columns_to_impute:\n",
    "    merged = impute_from_column(merged, impute_to = column_name, impute_from = f'{column_name}_5weeks')"
   ]
  },
  {
   "cell_type": "code",
   "execution_count": 14,
   "id": "954b4054-27ca-4c46-a1bd-58fd228ea6f4",
   "metadata": {},
   "outputs": [],
   "source": [
    "output_df = pd.concat([df_intake, merged[all_columns]])"
   ]
  },
  {
   "cell_type": "code",
   "execution_count": 15,
   "id": "56c92f40-8688-4349-bc5d-983199d535ff",
   "metadata": {},
   "outputs": [],
   "source": [
    "output_df.to_csv(\"data_for_research.csv\", index=False)"
   ]
  },
  {
   "cell_type": "code",
   "execution_count": null,
   "id": "85d0d1cb-3599-448a-8c6d-ded067bdaa85",
   "metadata": {},
   "outputs": [],
   "source": []
  }
 ],
 "metadata": {
  "kernelspec": {
   "display_name": "Python 3 (ipykernel)",
   "language": "python",
   "name": "python3"
  },
  "language_info": {
   "codemirror_mode": {
    "name": "ipython",
    "version": 3
   },
   "file_extension": ".py",
   "mimetype": "text/x-python",
   "name": "python",
   "nbconvert_exporter": "python",
   "pygments_lexer": "ipython3",
   "version": "3.9.7"
  }
 },
 "nbformat": 4,
 "nbformat_minor": 5
}
