{
 "cells": [
  {
   "cell_type": "code",
   "execution_count": 8,
   "id": "8005d7c4-a55a-4abe-9d56-a256785d8afb",
   "metadata": {},
   "outputs": [],
   "source": [
    "import pandas as pd\n",
    "import pandas_profiling as pp\n",
    "import dtale\n",
    "import seaborn as sns"
   ]
  },
  {
   "cell_type": "code",
   "execution_count": 9,
   "id": "d1e4b5f5-3336-481f-b47d-53da5e0c9d8a",
   "metadata": {},
   "outputs": [],
   "source": [
    "df = pd.read_csv(r'../preprocessed_data/merged_2021_and_2022.csv', na_values = ' ')\n",
    "df = df[df.redcap_event_name != 'intake_arm_1']"
   ]
  },
  {
   "cell_type": "code",
   "execution_count": 10,
   "id": "ad77e563-a5ce-4622-b43e-f1f7543d0e1b",
   "metadata": {},
   "outputs": [
    {
     "data": {
      "text/plain": [
       "array(['5th_session_arm_1', 'post_treatment_arm_1',\n",
       "       'control_6month_arm_1', 'pre_treatment_arm_1',\n",
       "       'followup_3month_arm_1', 'control_5weeks_arm_1',\n",
       "       'control_3month_arm_1', 'er_arm_1'], dtype=object)"
      ]
     },
     "execution_count": 10,
     "metadata": {},
     "output_type": "execute_result"
    }
   ],
   "source": [
    "df[~df['sci_af_ca_10'].isna()]['redcap_event_name'].unique()"
   ]
  },
  {
   "cell_type": "code",
   "execution_count": 11,
   "id": "b4241c37-f766-4176-b4fd-f896e240484e",
   "metadata": {},
   "outputs": [],
   "source": [
    "c_ssrs = [\n",
    "'c_ssrs_1',\n",
    "    'c_ssrs_2',\n",
    "    'c_ssrs_3', \n",
    "    'c_ssrs_4', \n",
    "    'c_ssrs_5',\n",
    "    'c_ssrs_6',\n",
    "    'c_ssrs_last_visit_6',\n",
    "    'c_ssrs_7',\n",
    "    'c_ssrs_8',\n",
    "]"
   ]
  },
  {
   "cell_type": "code",
   "execution_count": null,
   "id": "8d09a53c-81f6-45df-a10c-848fd60588ed",
   "metadata": {},
   "outputs": [],
   "source": [
    "c_ssrs_agg = {\n",
    "'c_ssrs_1': 1,\n",
    "'c_ssrs_2': 2,\n",
    "'c_ssrs_3': 3,\n",
    "'c_ssrs_4': 4,\n",
    "'c_ssrs_5': 5,\n",
    "'c_ssrs_6': 6,\n",
    "'c_ssrs_last_visit_6': 6\n",
    "}"
   ]
  },
  {
   "cell_type": "markdown",
   "id": "880affc0-5a56-4a1b-9b46-570d59fc2bab",
   "metadata": {},
   "source": [
    "impute_missing_data -> \n",
    "missing c_ssrs_last_visit_6 -> immpute from c_ssrs_6"
   ]
  },
  {
   "cell_type": "code",
   "execution_count": 14,
   "id": "5fbee71a-f101-4420-b83a-c11e8c17ee20",
   "metadata": {},
   "outputs": [
    {
     "data": {
      "text/plain": [
       "array(['followup_3month_arm_1', 'followup_12month_arm_1',\n",
       "       'control_9month_arm_1', 'control_12month_arm_1',\n",
       "       '5th_session_arm_1', 'post_treatment_arm_1',\n",
       "       'control_5weeks_arm_1', 'control_3month_arm_1',\n",
       "       'control_6month_arm_1', 'pre_treatment_arm_1', 'corona_arm_1',\n",
       "       'er_arm_1', 'er_one_week_arm_1'], dtype=object)"
      ]
     },
     "execution_count": 14,
     "metadata": {},
     "output_type": "execute_result"
    }
   ],
   "source": [
    "df.redcap_event_name.unique()"
   ]
  },
  {
   "cell_type": "code",
   "execution_count": 12,
   "id": "361985ca-9e2a-4373-8cda-30b1986e5c04",
   "metadata": {},
   "outputs": [],
   "source": [
    "c_ssrs_rename = {\n",
    "    'c_ssrs_1': ' האם קיווית ללכת למות או ללכת לישון מבלי להתעורר?',\n",
    "    'c_ssrs_2':' האם היו לך מחשבות להרוג את עצמך?',\n",
    "    'c_ssrs_3': ' האם חשבת איך לעשות את זה',\n",
    "    'c_ssrs_4': ' האם היו לך כוונות אכן לפעול לפי המחשבות של להרוג את עצמך',\n",
    "    'c_ssrs_5': 'האם התחלת לתכנן או שכבר סגרת את פרטי התוכנית',\n",
    "    'c_ssrs_6': 'האם עשית משהו, התחלת לעשות משהו',\n",
    "    'c_ssrs_last_visit_6': 'מאז ביקור אחרון: האם עשית משהו, התחלת לעשות משהו',\n",
    "    'c_ssrs_7': 'בחודש האחרון, כמה פעמים עשית משהו מכל הדברים האלו?',\n",
    "    'c_ssrs_8': 'במשך כל חייך, כמה פעמים עשית משהו מכל הדברים האלו?'\n",
    "\n",
    "}"
   ]
  },
  {
   "cell_type": "code",
   "execution_count": 13,
   "id": "7501ca97-1dd5-4838-bd0c-d681adec123a",
   "metadata": {},
   "outputs": [
    {
     "data": {
      "application/vnd.jupyter.widget-view+json": {
       "model_id": "a2f27a1e5d014ec2bc57b81862c14a71",
       "version_major": 2,
       "version_minor": 0
      },
      "text/plain": [
       "Summarize dataset:   0%|          | 0/5 [00:00<?, ?it/s]"
      ]
     },
     "metadata": {},
     "output_type": "display_data"
    },
    {
     "data": {
      "application/vnd.jupyter.widget-view+json": {
       "model_id": "2494f1a8d014406eb8efcb2ded1215c1",
       "version_major": 2,
       "version_minor": 0
      },
      "text/plain": [
       "Generate report structure:   0%|          | 0/1 [00:00<?, ?it/s]"
      ]
     },
     "metadata": {},
     "output_type": "display_data"
    },
    {
     "data": {
      "application/vnd.jupyter.widget-view+json": {
       "model_id": "b092dd2b7b7f46bd8bce76182a579da9",
       "version_major": 2,
       "version_minor": 0
      },
      "text/plain": [
       "Render HTML:   0%|          | 0/1 [00:00<?, ?it/s]"
      ]
     },
     "metadata": {},
     "output_type": "display_data"
    },
    {
     "data": {
      "application/vnd.jupyter.widget-view+json": {
       "model_id": "2bdcb6749f3a41ad8217747a29024cb9",
       "version_major": 2,
       "version_minor": 0
      },
      "text/plain": [
       "Export report to file:   0%|          | 0/1 [00:00<?, ?it/s]"
      ]
     },
     "metadata": {},
     "output_type": "display_data"
    }
   ],
   "source": [
    "to_profile = df[c_ssrs+['age_child_pre', 'gender', 'age_child', 'redcap_event_name']].rename(c_ssrs_rename, axis=1)\n",
    "profile = pp.ProfileReport(to_profile, title=\"c_ssrs\")\n",
    "profile.to_file(\"c_ssrs.html\")\n",
    "\n"
   ]
  },
  {
   "cell_type": "code",
   "execution_count": null,
   "id": "beb672bf-5ad3-4644-85ba-cd546131da1a",
   "metadata": {},
   "outputs": [],
   "source": []
  },
  {
   "cell_type": "code",
   "execution_count": null,
   "id": "12db6aaf-f56d-40bc-aa9f-e8e21b5447a7",
   "metadata": {},
   "outputs": [],
   "source": []
  }
 ],
 "metadata": {
  "kernelspec": {
   "display_name": "Python 3 (ipykernel)",
   "language": "python",
   "name": "python3"
  },
  "language_info": {
   "codemirror_mode": {
    "name": "ipython",
    "version": 3
   },
   "file_extension": ".py",
   "mimetype": "text/x-python",
   "name": "python",
   "nbconvert_exporter": "python",
   "pygments_lexer": "ipython3",
   "version": "3.9.7"
  }
 },
 "nbformat": 4,
 "nbformat_minor": 5
}
