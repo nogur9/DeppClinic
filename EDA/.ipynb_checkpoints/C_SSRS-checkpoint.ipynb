{
 "cells": [
  {
   "cell_type": "code",
   "execution_count": 7,
   "id": "8005d7c4-a55a-4abe-9d56-a256785d8afb",
   "metadata": {},
   "outputs": [],
   "source": [
    "import pandas as pd\n",
    "import pandas_profiling as pp\n",
    "import dtale\n",
    "import seaborn as sns\n",
    "from questionnaires_aggregation import c_ssrs_aggregation\n",
    "from utils import impute_from_column, simple_eda\n",
    "from questions_columns import c_ssrs\n",
    "from questions_text_mapping import c_ssrs_rename"
   ]
  },
  {
   "cell_type": "code",
   "execution_count": 8,
   "id": "d1e4b5f5-3336-481f-b47d-53da5e0c9d8a",
   "metadata": {},
   "outputs": [
    {
     "name": "stderr",
     "output_type": "stream",
     "text": [
      "C:\\Users\\nogur\\anaconda3\\lib\\site-packages\\IPython\\core\\interactiveshell.py:3444: DtypeWarning:\n",
      "\n",
      "Columns (0,44,50,73,84,309,437,442,443,450,457,486,502,540,549,568,728,733,745,747,752,763,801,810,829,882,883,884,885,886,887,888,889,890,891,892,951,989,994,1000,1015,1045,1065,1066,1070,1071,1072,1073,1075,1076,1077,1080,1081,1098,1103,1119,1121,1172,1174,1193,1195,1196,1197,1203,1204,1205,1206,1358,1360,1361,1362,1368,1369,1370,1371,1486,1492,1493,1496,1497,1498,1499,1508,1516,1532,1535,1546) have mixed types.Specify dtype option on import or set low_memory=False.\n",
      "\n"
     ]
    }
   ],
   "source": [
    "df = pd.read_csv(r'../creating_the_clinic_dataset/preprocessed_data/merged_2021_and_2022.csv', na_values = ' ')\n",
    "df = df[df.redcap_event_name != 'intake_arm_1']"
   ]
  },
  {
   "cell_type": "code",
   "execution_count": 9,
   "id": "abc65840-22a7-43a4-8b8f-d71159d73efd",
   "metadata": {},
   "outputs": [],
   "source": [
    "df = impute_from_column(df, impute_to = 'c_ssrs_6', impute_from = 'c_ssrs_last_visit_6')"
   ]
  },
  {
   "cell_type": "code",
   "execution_count": 10,
   "id": "beb672bf-5ad3-4644-85ba-cd546131da1a",
   "metadata": {},
   "outputs": [],
   "source": [
    "df['c_ssrs_stb'] = c_ssrs_aggregation(df, severity = 'stb')\n",
    "df['c_ssrs_idea'] = c_ssrs_aggregation(df, severity = 'idea')"
   ]
  },
  {
   "cell_type": "code",
   "execution_count": null,
   "id": "12db6aaf-f56d-40bc-aa9f-e8e21b5447a7",
   "metadata": {},
   "outputs": [
    {
     "data": {
      "application/vnd.jupyter.widget-view+json": {
       "model_id": "76b037bff8084f709bde3a3f3dd140b0",
       "version_major": 2,
       "version_minor": 0
      },
      "text/plain": [
       "Summarize dataset:   0%|          | 0/5 [00:00<?, ?it/s]"
      ]
     },
     "metadata": {},
     "output_type": "display_data"
    },
    {
     "data": {
      "application/vnd.jupyter.widget-view+json": {
       "model_id": "506bd559c4ef4eae9f92bdd73c598a50",
       "version_major": 2,
       "version_minor": 0
      },
      "text/plain": [
       "Generate report structure:   0%|          | 0/1 [00:00<?, ?it/s]"
      ]
     },
     "metadata": {},
     "output_type": "display_data"
    },
    {
     "data": {
      "application/vnd.jupyter.widget-view+json": {
       "model_id": "201dfdf14331474ab48ca2db83c05cc6",
       "version_major": 2,
       "version_minor": 0
      },
      "text/plain": [
       "Render HTML:   0%|          | 0/1 [00:00<?, ?it/s]"
      ]
     },
     "metadata": {},
     "output_type": "display_data"
    }
   ],
   "source": [
    "columns = c_ssrs + ['c_ssrs_stb', 'c_ssrs_idea']\n",
    "simple_eda(df, columns = columns, title = 'c_ssrs')"
   ]
  },
  {
   "cell_type": "code",
   "execution_count": null,
   "id": "ad86a46b-68f4-4be8-aa37-1e8f0c094ae0",
   "metadata": {},
   "outputs": [],
   "source": []
  },
  {
   "cell_type": "code",
   "execution_count": null,
   "id": "c8188ed8-a6d2-4610-9bb7-84d4a14a7073",
   "metadata": {},
   "outputs": [],
   "source": []
  }
 ],
 "metadata": {
  "kernelspec": {
   "display_name": "Python 3 (ipykernel)",
   "language": "python",
   "name": "python3"
  },
  "language_info": {
   "codemirror_mode": {
    "name": "ipython",
    "version": 3
   },
   "file_extension": ".py",
   "mimetype": "text/x-python",
   "name": "python",
   "nbconvert_exporter": "python",
   "pygments_lexer": "ipython3",
   "version": "3.9.7"
  }
 },
 "nbformat": 4,
 "nbformat_minor": 5
}
