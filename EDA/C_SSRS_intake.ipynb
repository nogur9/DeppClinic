{
 "cells": [
  {
   "cell_type": "code",
   "execution_count": 1,
   "id": "8005d7c4-a55a-4abe-9d56-a256785d8afb",
   "metadata": {},
   "outputs": [],
   "source": [
    "import pandas as pd\n",
    "import pandas_profiling as pp\n",
    "import dtale\n",
    "import seaborn as sns\n",
    "from questionnaires_aggregation import c_ssrs_intake_aggregation\n",
    "from utils import impute_from_column, simple_eda\n",
    "from questions_columns import c_ssrs_intake\n",
    "from questions_text_mapping import intake_c_ssrs_rename"
   ]
  },
  {
   "cell_type": "code",
   "execution_count": 2,
   "id": "d1e4b5f5-3336-481f-b47d-53da5e0c9d8a",
   "metadata": {},
   "outputs": [
    {
     "name": "stderr",
     "output_type": "stream",
     "text": [
      "C:\\Users\\nogur\\anaconda3\\lib\\site-packages\\IPython\\core\\interactiveshell.py:3444: DtypeWarning:\n",
      "\n",
      "Columns (0,44,50,73,84,309,437,442,443,450,457,486,502,540,549,568,728,733,745,747,752,763,801,810,829,882,883,884,885,886,887,888,889,890,891,892,951,989,994,1000,1015,1045,1065,1066,1070,1071,1072,1073,1075,1076,1077,1080,1081,1098,1103,1119,1121,1172,1174,1193,1195,1196,1197,1203,1204,1205,1206,1358,1360,1361,1362,1368,1369,1370,1371,1486,1492,1493,1496,1497,1498,1499,1508,1516,1532,1535,1546) have mixed types.Specify dtype option on import or set low_memory=False.\n",
      "\n"
     ]
    }
   ],
   "source": [
    "df = pd.read_csv(r'../creating_the_clinic_dataset/preprocessed_data/merged_2021_and_2022.csv', na_values = ' ')\n",
    "df = df[df.redcap_event_name == 'intake_arm_1']"
   ]
  },
  {
   "cell_type": "code",
   "execution_count": 3,
   "id": "b0ea99f9-6cba-48f7-bfa2-19a27328e638",
   "metadata": {},
   "outputs": [],
   "source": [
    "columns = c_ssrs_intake"
   ]
  },
  {
   "cell_type": "code",
   "execution_count": 4,
   "id": "beb672bf-5ad3-4644-85ba-cd546131da1a",
   "metadata": {},
   "outputs": [],
   "source": [
    "for time in ['life', '2weeks', 'recent']:\n",
    "    for severity in ['stb', 'idea']:\n",
    "        agg_column = f'c_ssrs_intake_{time}_{severity}'\n",
    "        df[agg_column] = c_ssrs_intake_aggregation(df, severity = severity, time = time)\n",
    "        columns.append(agg_column)"
   ]
  },
  {
   "cell_type": "code",
   "execution_count": 5,
   "id": "c4837572-59c7-41c7-946f-2dc0c3286454",
   "metadata": {},
   "outputs": [
    {
     "data": {
      "application/vnd.jupyter.widget-view+json": {
       "model_id": "a7e05bf39ca9456995cf55c696d5bcbc",
       "version_major": 2,
       "version_minor": 0
      },
      "text/plain": [
       "Summarize dataset:   0%|          | 0/5 [00:00<?, ?it/s]"
      ]
     },
     "metadata": {},
     "output_type": "display_data"
    },
    {
     "data": {
      "application/vnd.jupyter.widget-view+json": {
       "model_id": "ece1bab60b0f47ef813d9a6d7623a37e",
       "version_major": 2,
       "version_minor": 0
      },
      "text/plain": [
       "Generate report structure:   0%|          | 0/1 [00:00<?, ?it/s]"
      ]
     },
     "metadata": {},
     "output_type": "display_data"
    },
    {
     "data": {
      "application/vnd.jupyter.widget-view+json": {
       "model_id": "f13d9e48666f4b8ca075962fc01a2614",
       "version_major": 2,
       "version_minor": 0
      },
      "text/plain": [
       "Render HTML:   0%|          | 0/1 [00:00<?, ?it/s]"
      ]
     },
     "metadata": {},
     "output_type": "display_data"
    },
    {
     "data": {
      "application/vnd.jupyter.widget-view+json": {
       "model_id": "721265770e73405d96704a9bcd9d30ac",
       "version_major": 2,
       "version_minor": 0
      },
      "text/plain": [
       "Export report to file:   0%|          | 0/1 [00:00<?, ?it/s]"
      ]
     },
     "metadata": {},
     "output_type": "display_data"
    }
   ],
   "source": [
    "simple_eda(df, columns = columns, title = 'c_ssrs_intake', rename=intake_c_ssrs_rename)"
   ]
  },
  {
   "cell_type": "code",
   "execution_count": null,
   "id": "e31e16d4-23a6-4d77-b2d1-8dee2d63f29c",
   "metadata": {},
   "outputs": [],
   "source": []
  },
  {
   "cell_type": "code",
   "execution_count": null,
   "id": "2c8e4e59-2344-4b0b-b4cd-74415c7cb261",
   "metadata": {},
   "outputs": [],
   "source": []
  },
  {
   "cell_type": "code",
   "execution_count": null,
   "id": "bbd1fcbf-482e-492d-8294-75f720553dc3",
   "metadata": {},
   "outputs": [],
   "source": []
  }
 ],
 "metadata": {
  "kernelspec": {
   "display_name": "Python 3 (ipykernel)",
   "language": "python",
   "name": "python3"
  },
  "language_info": {
   "codemirror_mode": {
    "name": "ipython",
    "version": 3
   },
   "file_extension": ".py",
   "mimetype": "text/x-python",
   "name": "python",
   "nbconvert_exporter": "python",
   "pygments_lexer": "ipython3",
   "version": "3.9.7"
  }
 },
 "nbformat": 4,
 "nbformat_minor": 5
}
