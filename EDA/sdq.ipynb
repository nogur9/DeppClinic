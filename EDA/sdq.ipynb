{
 "cells": [
  {
   "cell_type": "code",
   "execution_count": 22,
   "id": "8005d7c4-a55a-4abe-9d56-a256785d8afb",
   "metadata": {},
   "outputs": [],
   "source": [
    "import pandas as pd\n",
    "import pandas_profiling as pp\n",
    "import dtale\n",
    "import seaborn as sns\n",
    "from utils import simple_eda\n",
    "from questions_columns import sdq\n",
    "from questions_text_mapping import sdq_rename\n",
    "from sklearn.decomposition import PCA, KernelPCA, NMF\n",
    "from sklearn.manifold import TSNE\n",
    "import matplotlib.pyplot as plt\n",
    "from umap import UMAP\n"
   ]
  },
  {
   "cell_type": "code",
   "execution_count": 23,
   "id": "d1e4b5f5-3336-481f-b47d-53da5e0c9d8a",
   "metadata": {},
   "outputs": [],
   "source": [
    "df = pd.read_csv(r'data_for_research.csv', na_values = ' ')\n",
    "questions_text = False\n",
    "activate_dtale = True\n",
    "dim_reductiom = UMAP"
   ]
  },
  {
   "cell_type": "code",
   "execution_count": 3,
   "id": "beb672bf-5ad3-4644-85ba-cd546131da1a",
   "metadata": {},
   "outputs": [],
   "source": [
    "df['sdq_sum'] = df[sdq].sum(axis=1, skipna=False)\n",
    "df['sdq_missing_rate'] = df[sdq].isna().sum(axis=1) / len(sdq)"
   ]
  },
  {
   "cell_type": "code",
   "execution_count": 4,
   "id": "12db6aaf-f56d-40bc-aa9f-e8e21b5447a7",
   "metadata": {},
   "outputs": [
    {
     "name": "stderr",
     "output_type": "stream",
     "text": [
      "C:\\Users\\nogur\\anaconda3\\lib\\site-packages\\pandas\\core\\frame.py:5039: SettingWithCopyWarning:\n",
      "\n",
      "\n",
      "A value is trying to be set on a copy of a slice from a DataFrame\n",
      "\n",
      "See the caveats in the documentation: https://pandas.pydata.org/pandas-docs/stable/user_guide/indexing.html#returning-a-view-versus-a-copy\n",
      "\n"
     ]
    },
    {
     "data": {
      "application/vnd.jupyter.widget-view+json": {
       "model_id": "d35cc1d6abdb45b7ae83b956a62ca0ce",
       "version_major": 2,
       "version_minor": 0
      },
      "text/plain": [
       "Summarize dataset:   0%|          | 0/5 [00:00<?, ?it/s]"
      ]
     },
     "metadata": {},
     "output_type": "display_data"
    },
    {
     "data": {
      "application/vnd.jupyter.widget-view+json": {
       "model_id": "5bbc88e4bb994a05b0302fb453cdbda1",
       "version_major": 2,
       "version_minor": 0
      },
      "text/plain": [
       "Generate report structure:   0%|          | 0/1 [00:00<?, ?it/s]"
      ]
     },
     "metadata": {},
     "output_type": "display_data"
    },
    {
     "data": {
      "application/vnd.jupyter.widget-view+json": {
       "model_id": "801c9f9c617c4e3aab778db4f4c351c2",
       "version_major": 2,
       "version_minor": 0
      },
      "text/plain": [
       "Render HTML:   0%|          | 0/1 [00:00<?, ?it/s]"
      ]
     },
     "metadata": {},
     "output_type": "display_data"
    },
    {
     "data": {
      "application/vnd.jupyter.widget-view+json": {
       "model_id": "1a877618b79249b6baa03b358c05a09e",
       "version_major": 2,
       "version_minor": 0
      },
      "text/plain": [
       "Export report to file:   0%|          | 0/1 [00:00<?, ?it/s]"
      ]
     },
     "metadata": {},
     "output_type": "display_data"
    }
   ],
   "source": [
    "columns = sdq + ['sdq_sum', 'sdq_missing_rate']\n",
    "if questions_text:\n",
    "    simple_eda(df, columns = columns, title = 'sdq', rename=sdq_rename)\n",
    "else:\n",
    "    simple_eda(df, columns = columns, title = 'sdq')"
   ]
  },
  {
   "cell_type": "code",
   "execution_count": 26,
   "id": "ad86a46b-68f4-4be8-aa37-1e8f0c094ae0",
   "metadata": {},
   "outputs": [],
   "source": [
    "if activate_dtale:\n",
    "    d = dtale.show(df[columns])\n",
    "    d.open_browser()"
   ]
  },
  {
   "cell_type": "code",
   "execution_count": 25,
   "id": "c8188ed8-a6d2-4610-9bb7-84d4a14a7073",
   "metadata": {},
   "outputs": [],
   "source": [
    "if dim_reduction is not None:\n",
    "\n",
    "    sns.set(rc={'figure.figsize':(11,8)})\n",
    "    sns.set(font_scale=1.2)\n",
    "    plt.clf()\n",
    "    features = df[sdq]\n",
    "    features = features.dropna(how= 'any', axis=0)\n",
    "\n",
    "    # Instantiate PCA and fit_transform your features\n",
    "    model = dim_reduction(n_components=2)\n",
    "    model_features = model.fit_transform(features)\n",
    "\n",
    "    # Concatenate your PCA features with your target variable\n",
    "    model_df = pd.DataFrame(model_features, columns=['var1', 'var2'])\n",
    "\n",
    "    # Plot the output using Seaborn\n",
    "    sns.scatterplot(x='var1', y='var2', data=model_df).figure.savefig(\"sdq_vis.png\") \n"
   ]
  },
  {
   "cell_type": "code",
   "execution_count": null,
   "id": "00aff4f4-2bf1-48b0-9d56-5e56983de24c",
   "metadata": {},
   "outputs": [],
   "source": []
  }
 ],
 "metadata": {
  "kernelspec": {
   "display_name": "Python 3 (ipykernel)",
   "language": "python",
   "name": "python3"
  },
  "language_info": {
   "codemirror_mode": {
    "name": "ipython",
    "version": 3
   },
   "file_extension": ".py",
   "mimetype": "text/x-python",
   "name": "python",
   "nbconvert_exporter": "python",
   "pygments_lexer": "ipython3",
   "version": "3.9.7"
  }
 },
 "nbformat": 4,
 "nbformat_minor": 5
}
