{
 "cells": [
  {
   "cell_type": "code",
   "execution_count": 6,
   "id": "98e65676-3550-43ca-96c7-21bb1b0ad8f7",
   "metadata": {},
   "outputs": [],
   "source": [
    "import numpy as np\n",
    "import pandas as pd"
   ]
  },
  {
   "cell_type": "code",
   "execution_count": 5,
   "id": "a1694234-cc1f-4e13-822b-d8da3ef95a6f",
   "metadata": {},
   "outputs": [],
   "source": [
    "columns = ['c_ssrs_1_life',\n",
    "    'c_ssrs_2_life',\n",
    "    'c_ssrs_3_life',\n",
    "    'c_ssrs_4_life',\n",
    "    'c_ssrs_5_life',\n",
    "    'c_ssrs_6_life']\n",
    "\n",
    "\n",
    "values = [np.random.randint(2, size=6), np.random.randint(2, size=6)]"
   ]
  },
  {
   "cell_type": "code",
   "execution_count": 9,
   "id": "cd808a6f-b0fa-40e9-a696-b38b5d72c418",
   "metadata": {},
   "outputs": [
    {
     "data": {
      "text/html": [
       "<div>\n",
       "<style scoped>\n",
       "    .dataframe tbody tr th:only-of-type {\n",
       "        vertical-align: middle;\n",
       "    }\n",
       "\n",
       "    .dataframe tbody tr th {\n",
       "        vertical-align: top;\n",
       "    }\n",
       "\n",
       "    .dataframe thead th {\n",
       "        text-align: right;\n",
       "    }\n",
       "</style>\n",
       "<table border=\"1\" class=\"dataframe\">\n",
       "  <thead>\n",
       "    <tr style=\"text-align: right;\">\n",
       "      <th></th>\n",
       "      <th>c_ssrs_1_life</th>\n",
       "      <th>c_ssrs_2_life</th>\n",
       "      <th>c_ssrs_3_life</th>\n",
       "      <th>c_ssrs_4_life</th>\n",
       "      <th>c_ssrs_5_life</th>\n",
       "      <th>c_ssrs_6_life</th>\n",
       "    </tr>\n",
       "  </thead>\n",
       "  <tbody>\n",
       "    <tr>\n",
       "      <th>0</th>\n",
       "      <td>0</td>\n",
       "      <td>0</td>\n",
       "      <td>0</td>\n",
       "      <td>1</td>\n",
       "      <td>0</td>\n",
       "      <td>0</td>\n",
       "    </tr>\n",
       "    <tr>\n",
       "      <th>1</th>\n",
       "      <td>1</td>\n",
       "      <td>1</td>\n",
       "      <td>1</td>\n",
       "      <td>1</td>\n",
       "      <td>0</td>\n",
       "      <td>0</td>\n",
       "    </tr>\n",
       "  </tbody>\n",
       "</table>\n",
       "</div>"
      ],
      "text/plain": [
       "   c_ssrs_1_life  c_ssrs_2_life  c_ssrs_3_life  c_ssrs_4_life  c_ssrs_5_life  \\\n",
       "0              0              0              0              1              0   \n",
       "1              1              1              1              1              0   \n",
       "\n",
       "   c_ssrs_6_life  \n",
       "0              0  \n",
       "1              0  "
      ]
     },
     "execution_count": 9,
     "metadata": {},
     "output_type": "execute_result"
    }
   ],
   "source": [
    "df = pd.DataFrame(values, columns = columns)\n",
    "df"
   ]
  },
  {
   "cell_type": "code",
   "execution_count": 10,
   "id": "23be2a53-20b7-4e4b-81ab-939f7c8e5001",
   "metadata": {},
   "outputs": [],
   "source": [
    "    c_ssrs_agg = {\n",
    "    'c_ssrs_1_life': 1,\n",
    "    'c_ssrs_2_life': 2,\n",
    "    'c_ssrs_3_life': 3,\n",
    "    'c_ssrs_4_life': 4,\n",
    "    'c_ssrs_5_life': 5,\n",
    "    'c_ssrs_6_life': 6}"
   ]
  },
  {
   "cell_type": "code",
   "execution_count": 17,
   "id": "aa4a909b-63b4-4f7a-9efc-2c877d623080",
   "metadata": {},
   "outputs": [
    {
     "data": {
      "text/plain": [
       "0    4\n",
       "1    4\n",
       "dtype: int64"
      ]
     },
     "execution_count": 17,
     "metadata": {},
     "output_type": "execute_result"
    }
   ],
   "source": [
    "(df[c_ssrs_agg.keys()] * c_ssrs_agg.values()).max(axis=1)"
   ]
  },
  {
   "cell_type": "code",
   "execution_count": 20,
   "id": "0cfa2325-37e5-473c-b11a-f046a5eda0a1",
   "metadata": {},
   "outputs": [
    {
     "data": {
      "text/plain": [
       "['c_ssrs_6_life']"
      ]
     },
     "execution_count": 20,
     "metadata": {},
     "output_type": "execute_result"
    }
   ],
   "source": [
    "[i for i in c_ssrs_agg.keys() if c_ssrs_agg[i] == 6]"
   ]
  },
  {
   "cell_type": "code",
   "execution_count": null,
   "id": "c26a5a66-edd4-4cb2-9276-b83261332121",
   "metadata": {},
   "outputs": [],
   "source": []
  }
 ],
 "metadata": {
  "kernelspec": {
   "display_name": "Python 3 (ipykernel)",
   "language": "python",
   "name": "python3"
  },
  "language_info": {
   "codemirror_mode": {
    "name": "ipython",
    "version": 3
   },
   "file_extension": ".py",
   "mimetype": "text/x-python",
   "name": "python",
   "nbconvert_exporter": "python",
   "pygments_lexer": "ipython3",
   "version": "3.9.7"
  }
 },
 "nbformat": 4,
 "nbformat_minor": 5
}
