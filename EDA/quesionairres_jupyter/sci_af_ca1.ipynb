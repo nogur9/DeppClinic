{
 "cells": [
  {
   "cell_type": "code",
   "execution_count": 7,
   "id": "8005d7c4-a55a-4abe-9d56-a256785d8afb",
   "metadata": {},
   "outputs": [],
   "source": [
    "import pandas as pd\n",
    "import pandas_profiling as pp\n",
    "import dtale\n",
    "import seaborn as sns\n",
    "\n",
    "import sys\n",
    "sys.path.append(r\"../../utils\")\n",
    "\n",
    "from utils import simple_eda\n",
    "from sklearn.decomposition import PCA, KernelPCA, NMF\n",
    "from sklearn.manifold import TSNE\n",
    "import matplotlib.pyplot as plt\n",
    "from umap import UMAP\n",
    "from questions_columns import sci_af_ca,  scs_clin, sci_mother, sci_father, scs_stu\n",
    "from sklearn.cluster import KMeans"
   ]
  },
  {
   "cell_type": "code",
   "execution_count": 3,
   "id": "d1e4b5f5-3336-481f-b47d-53da5e0c9d8a",
   "metadata": {},
   "outputs": [],
   "source": [
    "df = pd.read_csv(r'../data_for_research.csv', na_values = ' ')\n",
    "questions_text = False\n",
    "activate_dtale = False\n",
    "dim_reduction = UMAP\n",
    "\n",
    "name = 'sci_af_ca'\n",
    "df['sci_af_ca_sum'] = df[sci_af_ca].sum(axis=1)\n",
    "df['sci_af_ca_missing_rate'] = df[sci_af_ca].isna().sum(axis=1) / len(sci_af_ca)"
   ]
  },
  {
   "cell_type": "code",
   "execution_count": 4,
   "id": "12db6aaf-f56d-40bc-aa9f-e8e21b5447a7",
   "metadata": {},
   "outputs": [],
   "source": [
    "columns = sci_af_ca + ['sci_af_ca_sum', 'sci_af_ca_missing_rate']\n",
    "# if questions_text:\n",
    "#     simple_eda(df, columns = columns, title = name, path = '../pandas_profiling', rename = sci_af_ca_rename)\n",
    "# else:\n",
    "#     simple_eda(df, columns = columns, title = name, path = '../pandas_profiling',)"
   ]
  },
  {
   "cell_type": "code",
   "execution_count": 4,
   "id": "ad86a46b-68f4-4be8-aa37-1e8f0c094ae0",
   "metadata": {},
   "outputs": [],
   "source": [
    "if activate_dtale:\n",
    "    d = dtale.show(df[columns])\n",
    "    d.open_browser()"
   ]
  },
  {
   "cell_type": "code",
   "execution_count": 10,
   "id": "c8188ed8-a6d2-4610-9bb7-84d4a14a7073",
   "metadata": {},
   "outputs": [],
   "source": [
    "\n",
    "sns.set(rc={'figure.figsize':(11,8)})\n",
    "sns.set(font_scale=1.2)\n",
    "plt.clf()\n",
    "features = df[sci_af_ca]\n",
    "features = features.dropna(how= 'any', axis=0)\n",
    "\n",
    "# Instantiate PCA and fit_transform your features\n",
    "model = dim_reduction(n_components=2)\n",
    "model_features = model.fit_transform(features)\n",
    "\n",
    "\n",
    "# Apply k-means clustering\n",
    "kmeans = KMeans(n_clusters=2)\n",
    "clusters = kmeans.fit_predict(model_features)\n",
    "\n",
    "\n",
    "# Concatenate your PCA features with your target variable\n",
    "model_df = pd.DataFrame(model_features, columns=['var1', 'var2'])\n",
    "\n",
    "# Plot the output using Seaborn\n",
    "\n",
    "#sns.scatterplot(x='var1', y='var2', data=model_df).figure.savefig(fr\"../cluster_vis/{name}_vis.png\") \n",
    "sns.scatterplot(x='var1', y='var2', hue=clusters, palette='viridis', data=model_df).figure.savefig(fr\"../cluster_vis/{name}_vis.png\") \n"
   ]
  },
  {
   "cell_type": "code",
   "execution_count": 14,
   "id": "00aff4f4-2bf1-48b0-9d56-5e56983de24c",
   "metadata": {},
   "outputs": [
    {
     "data": {
      "text/plain": [
       "array([[9.545334 , 2.0551114],\n",
       "       [3.7029028, 4.7209053]], dtype=float32)"
      ]
     },
     "execution_count": 14,
     "metadata": {},
     "output_type": "execute_result"
    }
   ],
   "source": [
    "kmeans.cluster_centers_"
   ]
  },
  {
   "cell_type": "code",
   "execution_count": 18,
   "id": "5ed885c8",
   "metadata": {},
   "outputs": [],
   "source": [
    "a =  model.inverse_transform([kmeans.cluster_centers_[0]])"
   ]
  },
  {
   "cell_type": "code",
   "execution_count": 19,
   "id": "588a7f04",
   "metadata": {},
   "outputs": [],
   "source": [
    "b = model.inverse_transform([kmeans.cluster_centers_[1]])"
   ]
  },
  {
   "cell_type": "code",
   "execution_count": 27,
   "id": "46130fa6",
   "metadata": {},
   "outputs": [
    {
     "data": {
      "text/plain": [
       "(array([ 3,  8, 15, 16, 19, 22, 23], dtype=int64),)"
      ]
     },
     "execution_count": 27,
     "metadata": {},
     "output_type": "execute_result"
    }
   ],
   "source": [
    "import numpy as np\n",
    "\n",
    "x = (a - b)[0]\n",
    "np.where(x < -3)"
   ]
  },
  {
   "cell_type": "code",
   "execution_count": 28,
   "id": "67eb16f5",
   "metadata": {},
   "outputs": [
    {
     "data": {
      "text/plain": [
       "array([ 0.11397421, -2.190793  , -1.3543977 , -3.0497158 , -1.571567  ,\n",
       "       -2.4727035 , -2.1834068 , -2.0914583 , -3.179544  , -1.0730116 ,\n",
       "       -0.9709539 , -2.1334546 , -2.377247  , -1.5442342 , -1.8698994 ,\n",
       "       -3.1202912 , -3.1653361 , -2.5049882 , -2.6566129 , -3.722766  ,\n",
       "       -2.8163319 , -2.3131044 , -3.170481  , -3.0580087 , -2.6395593 ,\n",
       "       -1.2833974 , -2.34276   , -2.4657328 , -0.8190018 , -1.3515731 ,\n",
       "       -1.6400794 , -2.1925862 , -2.6085129 , -1.4129307 , -2.8321981 ,\n",
       "       -1.6478949 , -1.4341512 , -1.5716771 , -2.581475  , -1.6359522 ],\n",
       "      dtype=float32)"
      ]
     },
     "execution_count": 28,
     "metadata": {},
     "output_type": "execute_result"
    }
   ],
   "source": [
    "x"
   ]
  },
  {
   "cell_type": "code",
   "execution_count": null,
   "id": "5cf44efa",
   "metadata": {},
   "outputs": [],
   "source": []
  }
 ],
 "metadata": {
  "kernelspec": {
   "display_name": "Python 3 (ipykernel)",
   "language": "python",
   "name": "python3"
  },
  "language_info": {
   "codemirror_mode": {
    "name": "ipython",
    "version": 3
   },
   "file_extension": ".py",
   "mimetype": "text/x-python",
   "name": "python",
   "nbconvert_exporter": "python",
   "pygments_lexer": "ipython3",
   "version": "3.9.7"
  }
 },
 "nbformat": 4,
 "nbformat_minor": 5
}
