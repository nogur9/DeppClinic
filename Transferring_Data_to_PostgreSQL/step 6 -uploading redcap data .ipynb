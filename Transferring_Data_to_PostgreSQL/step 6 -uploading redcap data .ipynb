{
 "cells": [
  {
   "cell_type": "code",
   "execution_count": 1,
   "id": "8fc6f342",
   "metadata": {},
   "outputs": [
    {
     "data": {
      "text/plain": [
       "'C:\\\\Users\\\\nogur\\\\Documents\\\\DeppClinic\\\\Transferring_Data_to_PostgreSQL'"
      ]
     },
     "execution_count": 1,
     "metadata": {},
     "output_type": "execute_result"
    }
   ],
   "source": [
    "import pandas as pd\n",
    "import psycopg2\n",
    "\n",
    "import os\n",
    "os.getcwd()"
   ]
  },
  {
   "cell_type": "code",
   "execution_count": 2,
   "id": "1fe2802a",
   "metadata": {},
   "outputs": [],
   "source": [
    "conn_str = \"dbname=postgres user=postgres password=asdf123\"\n",
    "\n",
    "\n",
    "def get_all_table_names(conn_str):\n",
    "    conn = psycopg2.connect(conn_str)\n",
    "    sql = \"\"\"\n",
    "    SELECT table_name FROM INFORMATION_SCHEMA.TABLES\n",
    "    WHERE table_schema = N'redcap_data'\n",
    "    \"\"\"\n",
    "\n",
    "\n",
    "    questionnaire_columns = list(pd.read_sql_query(sql, conn).table_name)\n",
    "    conn.close()\n",
    "    return questionnaire_columns"
   ]
  },
  {
   "cell_type": "markdown",
   "id": "f2790095",
   "metadata": {},
   "source": [
    "## get column names"
   ]
  },
  {
   "cell_type": "code",
   "execution_count": 3,
   "id": "32378876",
   "metadata": {},
   "outputs": [],
   "source": [
    "def get_column_names(questionnaire_name, conn_str):\n",
    "    conn = psycopg2.connect(conn_str)\n",
    "    sql = \"\"\"\n",
    "    SELECT *\n",
    "    FROM INFORMATION_SCHEMA.COLUMNS\n",
    "    WHERE TABLE_NAME = N'{0}'\n",
    "    AND table_schema = N'redcap_data'\n",
    "    \"\"\".format(questionnaire_name)\n",
    "\n",
    "\n",
    "    questionnaire_columns = list(pd.read_sql_query(sql, conn).column_name)\n",
    "    conn.close()\n",
    "    return questionnaire_columns"
   ]
  },
  {
   "cell_type": "code",
   "execution_count": 4,
   "id": "a207e502",
   "metadata": {},
   "outputs": [],
   "source": [
    "def prepare_data(questionnaire_name, questionnaire_columns, redcap_df):\n",
    "    questionnaire_data = redcap_df[questionnaire_columns]\n",
    "\n",
    "    file_name = \"redcap_{0}_data.csv\".format(questionnaire_name)\n",
    "    directory = r\"C:/Users/nogur/Documents/DeppClinic/Data/postgres_db/redcap_data\"\n",
    "    full_path = r'{0}/{1}'.format(directory, file_name)\n",
    "    questionnaire_data.to_csv(full_path, index=False)\n",
    "    \n",
    "    # Change the file permissions\n",
    "    os.chmod(full_path, 0o777)\n",
    "    \n",
    "    os.chmod(directory, 0o777)\n",
    "    \n",
    "\n",
    "    return full_path\n"
   ]
  },
  {
   "cell_type": "code",
   "execution_count": 5,
   "id": "2002463e",
   "metadata": {},
   "outputs": [],
   "source": [
    "def upload_data(questionnaire_name, full_path, conn_str):\n",
    "    upload_data_cmd = \"\"\"\n",
    "    COPY redcap_data.{0}\n",
    "    FROM '{1}'\n",
    "    DELIMITER ','\n",
    "    CSV HEADER;\n",
    "\n",
    "    \"\"\".format(questionnaire_name, full_path)\n",
    "\n",
    "    print(upload_data_cmd)\n",
    "    conn = psycopg2.connect(conn_str)\n",
    "    # Open a cursor to perform database operations\n",
    "    cur = conn.cursor()\n",
    "    # Execute a command: create datacamp_courses table\n",
    "    cur.execute(upload_data_cmd)\n",
    "    \n",
    "    \n",
    "    # Make the changes to the database persistent\n",
    "    conn.commit()\n",
    "\n",
    "    # Close cursor and communication with the database\n",
    "    cur.close()\n",
    "    conn.close()"
   ]
  },
  {
   "cell_type": "code",
   "execution_count": 6,
   "id": "831149ee",
   "metadata": {},
   "outputs": [
    {
     "name": "stderr",
     "output_type": "stream",
     "text": [
      "C:\\Users\\nogur\\AppData\\Local\\Temp\\ipykernel_14224\\2517591147.py:2: DtypeWarning: Columns (44,46,51,53,99,145,325,366,459,464,466,501,507,512,514,516,519,521,530,532,569,571,580,599,766,771,773,779,784,789,794,798,800,804,809,811,813,816,818,827,829,849,866,868,877,896,906,941,964,1002,1014,1025,1063,1068,1070,1076,1081,1086,1091,1093,1095,1097,1099,1100,1126,1142,1149,1165,1168,1172,1173,1177,1178,1179,1180,1182,1183,1184,1187,1188,1190,1207,1212,1229,1232,1260,1262,1264,1266,1268,1270,1271,1281,1283,1285,1287,1289,1291,1293,1295,1297,1299,1301,1303,1305,1306,1319,1321,1324,1326,1336,1338,1340,1342,1343,1344,1350,1351,1352,1353,1459,1465,1467,1468,1470,1486,1489,1492,1496,1513,1515,1516,1517,1523,1524,1525,1526,1580,1650,1653,1654) have mixed types. Specify dtype option on import or set low_memory=False.\n",
      "  redcap_df = pd.read_csv(r\"Data\\Transferring_Data_to_PostgreSQL\\redcap_data.csv\")\n",
      "C:\\Users\\nogur\\AppData\\Local\\Temp\\ipykernel_14224\\3435154038.py:12: UserWarning: pandas only supports SQLAlchemy connectable (engine/connection) or database string URI or sqlite3 DBAPI2 connection. Other DBAPI2 objects are not tested. Please consider using SQLAlchemy.\n",
      "  questionnaire_columns = list(pd.read_sql_query(sql, conn).table_name)\n"
     ]
    }
   ],
   "source": [
    "os.chdir(\"..\")\n",
    "redcap_df = pd.read_csv(r\"Data\\Transferring_Data_to_PostgreSQL\\redcap_data.csv\")\n",
    "table_names = get_all_table_names(conn_str)\n"
   ]
  },
  {
   "cell_type": "markdown",
   "id": "e07731da",
   "metadata": {},
   "source": [
    "## Prepare the needed table"
   ]
  },
  {
   "cell_type": "code",
   "execution_count": 7,
   "id": "ed86e424",
   "metadata": {},
   "outputs": [
    {
     "data": {
      "text/plain": [
       "['intro']"
      ]
     },
     "execution_count": 7,
     "metadata": {},
     "output_type": "execute_result"
    }
   ],
   "source": [
    "table_names[-1:]"
   ]
  },
  {
   "cell_type": "code",
   "execution_count": 8,
   "id": "f135062c",
   "metadata": {},
   "outputs": [
    {
     "name": "stdout",
     "output_type": "stream",
     "text": [
      "siq\n",
      "\n",
      "    COPY redcap_data.siq\n",
      "    FROM 'C:/Users/nogur/Documents/DeppClinic/Data/postgres_db/redcap_data/redcap_siq_data.csv'\n",
      "    DELIMITER ','\n",
      "    CSV HEADER;\n",
      "\n",
      "    \n"
     ]
    },
    {
     "name": "stderr",
     "output_type": "stream",
     "text": [
      "C:\\Users\\nogur\\AppData\\Local\\Temp\\ipykernel_14224\\1858670926.py:11: UserWarning: pandas only supports SQLAlchemy connectable (engine/connection) or database string URI or sqlite3 DBAPI2 connection. Other DBAPI2 objects are not tested. Please consider using SQLAlchemy.\n",
      "  questionnaire_columns = list(pd.read_sql_query(sql, conn).column_name)\n"
     ]
    },
    {
     "ename": "InsufficientPrivilege",
     "evalue": "could not open file \"C:/Users/nogur/Documents/DeppClinic/Data/postgres_db/redcap_data/redcap_siq_data.csv\" for reading: Permission denied\nHINT:  COPY FROM instructs the PostgreSQL server process to read a file. You may want a client-side facility such as psql's \\copy.\n",
     "output_type": "error",
     "traceback": [
      "\u001b[1;31m---------------------------------------------------------------------------\u001b[0m",
      "\u001b[1;31mInsufficientPrivilege\u001b[0m                     Traceback (most recent call last)",
      "Cell \u001b[1;32mIn[8], line 5\u001b[0m\n\u001b[0;32m      3\u001b[0m questionnaire_columns \u001b[38;5;241m=\u001b[39m get_column_names(questionnaire_name, conn_str)\n\u001b[0;32m      4\u001b[0m full_path \u001b[38;5;241m=\u001b[39m prepare_data(questionnaire_name, questionnaire_columns, redcap_df)\n\u001b[1;32m----> 5\u001b[0m upload_data(questionnaire_name, full_path, conn_str)\n",
      "Cell \u001b[1;32mIn[5], line 15\u001b[0m, in \u001b[0;36mupload_data\u001b[1;34m(questionnaire_name, full_path, conn_str)\u001b[0m\n\u001b[0;32m     13\u001b[0m cur \u001b[38;5;241m=\u001b[39m conn\u001b[38;5;241m.\u001b[39mcursor()\n\u001b[0;32m     14\u001b[0m \u001b[38;5;66;03m# Execute a command: create datacamp_courses table\u001b[39;00m\n\u001b[1;32m---> 15\u001b[0m cur\u001b[38;5;241m.\u001b[39mexecute(upload_data_cmd)\n\u001b[0;32m     18\u001b[0m \u001b[38;5;66;03m# Make the changes to the database persistent\u001b[39;00m\n\u001b[0;32m     19\u001b[0m conn\u001b[38;5;241m.\u001b[39mcommit()\n",
      "\u001b[1;31mInsufficientPrivilege\u001b[0m: could not open file \"C:/Users/nogur/Documents/DeppClinic/Data/postgres_db/redcap_data/redcap_siq_data.csv\" for reading: Permission denied\nHINT:  COPY FROM instructs the PostgreSQL server process to read a file. You may want a client-side facility such as psql's \\copy.\n"
     ]
    }
   ],
   "source": [
    "\n",
    "for questionnaire_name in table_names:\n",
    "    print(questionnaire_name)\n",
    "    questionnaire_columns = get_column_names(questionnaire_name, conn_str)\n",
    "    full_path = prepare_data(questionnaire_name, questionnaire_columns, redcap_df)\n",
    "    upload_data(questionnaire_name, full_path, conn_str)\n"
   ]
  },
  {
   "cell_type": "code",
   "execution_count": null,
   "id": "206b1fdd",
   "metadata": {},
   "outputs": [],
   "source": [
    "? os.getcwd"
   ]
  },
  {
   "cell_type": "code",
   "execution_count": null,
   "id": "3a0a5113",
   "metadata": {},
   "outputs": [],
   "source": []
  }
 ],
 "metadata": {
  "kernelspec": {
   "display_name": "DeppClinic",
   "language": "python",
   "name": "deppclinic"
  },
  "language_info": {
   "codemirror_mode": {
    "name": "ipython",
    "version": 3
   },
   "file_extension": ".py",
   "mimetype": "text/x-python",
   "name": "python",
   "nbconvert_exporter": "python",
   "pygments_lexer": "ipython3",
   "version": "3.11.5"
  }
 },
 "nbformat": 4,
 "nbformat_minor": 5
}
