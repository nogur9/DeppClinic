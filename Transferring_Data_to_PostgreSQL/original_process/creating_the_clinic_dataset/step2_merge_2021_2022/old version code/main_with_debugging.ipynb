{
 "cells": [
  {
   "cell_type": "code",
   "execution_count": 1,
   "id": "35cab2af-f10c-4eeb-84a2-d33bd74e1984",
   "metadata": {},
   "outputs": [],
   "source": [
    "import pandas as pd\n",
    "import re\n",
    "import seaborn as sns\n",
    "import matplotlib.pyplot as plt\n",
    "sns.set(rc={'figure.figsize':(11,8)})\n",
    "sns.set(font_scale=1.2)\n",
    "import numpy as np\n",
    "from utils import fix_wrong_record_id, fill_id, format_datetime_columns, delete_redundant_columns, mark_inattentive_participants\n",
    "from merge_datasets import split_to_intersection_and_union, fix_wrong_groups, resolve_contradiction\n",
    "from columns_index_for_merging import columns_dict, merging_functions_by_columns_set, keep_both_values, weird_text_columns"
   ]
  },
  {
   "cell_type": "code",
   "execution_count": 2,
   "id": "80c245cb-3104-4047-8e90-9a4b4795adbb",
   "metadata": {},
   "outputs": [
    {
     "name": "stderr",
     "output_type": "stream",
     "text": [
      "C:\\Users\\nogur\\anaconda3\\lib\\site-packages\\IPython\\core\\interactiveshell.py:3444: DtypeWarning: Columns (44,51,53,99,325,366,439,453,459,464,466,501,507,512,514,521,530,532,569,571,580,599,766,771,777,781,786,788,793,795,804,806,826,843,845,854,873,883,918,941,979,991,1002,1040,1045,1047,1049,1051,1053,1054,1080,1096,1119,1122,1126,1127,1131,1132,1133,1134,1136,1137,1138,1141,1142,1144,1161,1183,1186,1237,1239,1259,1261,1262,1263,1269,1270,1271,1272,1384,1387,1389,1405,1408,1411,1415,1432,1434,1435,1436,1442,1443,1444,1445,1499,1568,1569,1572,1573) have mixed types.Specify dtype option on import or set low_memory=False.\n",
      "  exec(code_obj, self.user_global_ns, self.user_ns)\n",
      "C:\\Users\\nogur\\anaconda3\\lib\\site-packages\\IPython\\core\\interactiveshell.py:3444: DtypeWarning: Columns (48) have mixed types.Specify dtype option on import or set low_memory=False.\n",
      "  exec(code_obj, self.user_global_ns, self.user_ns)\n"
     ]
    }
   ],
   "source": [
    "df_2022 = pd.read_csv(\"../original_data/ImmiRiskIPT2022_DATA_2022-12-12_1719.csv\", na_values= ' ')\n",
    "df_2021 = pd.read_csv(r\"../original_data/Schneider Depression Clinic Database.csv\", na_values= ' ')"
   ]
  },
  {
   "cell_type": "code",
   "execution_count": 3,
   "id": "bbc4f50a-c929-43df-afa9-1c1137153ed7",
   "metadata": {},
   "outputs": [
    {
     "data": {
      "text/plain": [
       "['trqsfmarisclin_timestamp',\n",
       " 'trqsfmarisclin_complete',\n",
       " 'trqsfmaris_stu_timestamp',\n",
       " 'trqsfmaris_stu_complete']"
      ]
     },
     "execution_count": 3,
     "metadata": {},
     "output_type": "execute_result"
    }
   ],
   "source": [
    "[i for i in df_2021.columns if 'trqsfmaris' in i]"
   ]
  },
  {
   "cell_type": "markdown",
   "id": "d207fabe-1b75-4bf5-86dd-2c5f21ba1e40",
   "metadata": {},
   "source": [
    "# the preparing datasets"
   ]
  },
  {
   "cell_type": "code",
   "execution_count": 3,
   "id": "4b2591f3-f99b-45e4-81ef-d2c6cce017a9",
   "metadata": {},
   "outputs": [],
   "source": [
    "df_2021_1 = fix_wrong_record_id(df_2021, year=2021)\n",
    "df_2022_1 = fix_wrong_record_id(df_2022, year=2022)"
   ]
  },
  {
   "cell_type": "markdown",
   "id": "111ad7b0-7b17-4bcf-b86f-b161c80f807c",
   "metadata": {},
   "source": [
    "##### fill id function - only for 2022"
   ]
  },
  {
   "cell_type": "code",
   "execution_count": 4,
   "id": "81d3bd56-f899-41b0-8451-55d01be2ca1d",
   "metadata": {},
   "outputs": [],
   "source": [
    "df_2022_2 = fill_id(df_2022_1)"
   ]
  },
  {
   "cell_type": "code",
   "execution_count": 5,
   "id": "55c1f7e9-fea1-4ee6-bb56-d9f1ad48a258",
   "metadata": {},
   "outputs": [],
   "source": [
    "df_2021_3 = format_datetime_columns(df_2021_1)\n",
    "df_2022_3 = format_datetime_columns(df_2022_2)"
   ]
  },
  {
   "cell_type": "code",
   "execution_count": 6,
   "id": "73b98f34-bae2-4ac1-aba8-07262a496461",
   "metadata": {},
   "outputs": [],
   "source": [
    "df_2021_4 = mark_inattentive_participants(df_2021_3, year=2021)\n",
    "df_2022_4 = mark_inattentive_participants(df_2022_3, year=2022)"
   ]
  },
  {
   "cell_type": "code",
   "execution_count": 7,
   "id": "ca2f10dc-8da3-4a61-96a2-96c1e73687c9",
   "metadata": {},
   "outputs": [],
   "source": [
    "df_2021_5, df_2022_5 = delete_redundant_columns(df_2021 = df_2021_4, df_2022 = df_2022_4)"
   ]
  },
  {
   "cell_type": "markdown",
   "id": "386d53f8-c99f-4262-9091-679ae200a4da",
   "metadata": {},
   "source": [
    "# merging the datasets"
   ]
  },
  {
   "cell_type": "code",
   "execution_count": 8,
   "id": "fd1a3beb-b030-4c50-815b-c58b6a180603",
   "metadata": {},
   "outputs": [],
   "source": [
    "union, intersection_2021, intersection_2022 = split_to_intersection_and_union(df_2021 = df_2021_5, df_2022=df_2022_5)"
   ]
  },
  {
   "cell_type": "markdown",
   "id": "ddd775a6-de53-4abb-a2f5-a380d9db339b",
   "metadata": {},
   "source": [
    "## handling contradictions"
   ]
  },
  {
   "cell_type": "code",
   "execution_count": 9,
   "id": "8abea521-d9fa-4a53-b710-ea35488affdc",
   "metadata": {},
   "outputs": [],
   "source": [
    "intersection_df = pd.merge(intersection_2021, intersection_2022, on=['id', 'redcap_event_name'], how='outer', suffixes=('_2021', '_2022'))"
   ]
  },
  {
   "cell_type": "code",
   "execution_count": 13,
   "id": "4b305e94-86f5-495f-aec5-c12eebf336ca",
   "metadata": {},
   "outputs": [
    {
     "name": "stdout",
     "output_type": "stream",
     "text": [
      "diagnosis_binary <built-in function max>\n",
      "complaint_binary <built-in function max>\n",
      "timestamp <built-in function min>\n",
      "date <built-in function min>\n",
      "groups <built-in function max>\n",
      "age_child_pre <built-in function max>\n",
      "record_id take 2021\n",
      "chameleon_binary_0_1 <built-in function max>\n",
      "chameleon_binary_1_2 <built-in function min>\n",
      "opening_psychothe_binary_0_1 <built-in function max>\n",
      "opening_psychothe_binary_1_2 <built-in function min>\n",
      "opening_medicine_binary_0_1 <built-in function max>\n",
      "opening_medicine_binary_1_2 <built-in function min>\n",
      "with_who_m <built-in function max>\n",
      "with_who_f <built-in function max>\n"
     ]
    }
   ],
   "source": [
    "result2 = intersection_df.copy()\n",
    "\n",
    "for key, value in merging_functions_by_columns_set.items():\n",
    "    print(key, value)\n",
    "    columns = columns_dict[key]\n",
    "    for col in columns:\n",
    "        result2[col] = result2.apply(resolve_contradiction, args = (f'{col}_2021', f'{col}_2022', value, col), axis=1)\n",
    "        result2 = result2.drop([f'{col}_2021', f'{col}_2022'], axis=1)\n",
    "\n",
    "## iterate over the other columns\n",
    "        \n",
    "# validate\n",
    "# i = columns.iloc[0]\n",
    "# result2[(~result2[f'{i}_2022'].isna()) & (~result2[f'{i}_2021'].isna())][[i, f'{i}_2021', f'{i}_2022']]"
   ]
  },
  {
   "cell_type": "code",
   "execution_count": 11,
   "id": "41279b0e-f0f9-49ab-b3ac-06e6173bbda8",
   "metadata": {},
   "outputs": [
    {
     "name": "stdout",
     "output_type": "stream",
     "text": [
      "        id redcap_event_name\n",
      "231  D2016      intake_arm_1\n"
     ]
    },
    {
     "ename": "ValueError",
     "evalue": "",
     "output_type": "error",
     "traceback": [
      "\u001b[1;31m---------------------------------------------------------------------------\u001b[0m",
      "\u001b[1;31mValueError\u001b[0m                                Traceback (most recent call last)",
      "\u001b[1;32m~\\AppData\\Local\\Temp/ipykernel_7752/853548601.py\u001b[0m in \u001b[0;36m<module>\u001b[1;34m\u001b[0m\n\u001b[1;32m----> 1\u001b[1;33m \u001b[0mresult2\u001b[0m \u001b[1;33m=\u001b[0m \u001b[0mfix_wrong_groups\u001b[0m\u001b[1;33m(\u001b[0m\u001b[0mresult2\u001b[0m\u001b[1;33m)\u001b[0m\u001b[1;33m\u001b[0m\u001b[1;33m\u001b[0m\u001b[0m\n\u001b[0m",
      "\u001b[1;32m~\\Documents\\DeppClinic\\functions_for_merging\\merge_datasets.py\u001b[0m in \u001b[0;36mfix_wrong_groups\u001b[1;34m(df)\u001b[0m\n\u001b[0;32m     38\u001b[0m     \u001b[1;32mif\u001b[0m \u001b[0mdf\u001b[0m\u001b[1;33m[\u001b[0m\u001b[1;33m(\u001b[0m\u001b[0mdf\u001b[0m\u001b[1;33m[\u001b[0m\u001b[1;34m'group___2'\u001b[0m\u001b[1;33m]\u001b[0m \u001b[1;33m==\u001b[0m \u001b[1;36m1\u001b[0m\u001b[1;33m)\u001b[0m \u001b[1;33m&\u001b[0m \u001b[1;33m(\u001b[0m\u001b[0mdf\u001b[0m\u001b[1;33m[\u001b[0m\u001b[1;34m'group___1'\u001b[0m\u001b[1;33m]\u001b[0m \u001b[1;33m==\u001b[0m \u001b[1;36m1\u001b[0m\u001b[1;33m)\u001b[0m\u001b[1;33m]\u001b[0m\u001b[1;33m.\u001b[0m\u001b[0mshape\u001b[0m\u001b[1;33m[\u001b[0m\u001b[1;36m0\u001b[0m\u001b[1;33m]\u001b[0m\u001b[1;33m:\u001b[0m\u001b[1;33m\u001b[0m\u001b[1;33m\u001b[0m\u001b[0m\n\u001b[0;32m     39\u001b[0m         \u001b[0mprint\u001b[0m\u001b[1;33m(\u001b[0m\u001b[0mdf\u001b[0m\u001b[1;33m[\u001b[0m\u001b[1;33m(\u001b[0m\u001b[0mdf\u001b[0m\u001b[1;33m[\u001b[0m\u001b[1;34m'group___2'\u001b[0m\u001b[1;33m]\u001b[0m \u001b[1;33m==\u001b[0m \u001b[1;36m1\u001b[0m\u001b[1;33m)\u001b[0m \u001b[1;33m&\u001b[0m \u001b[1;33m(\u001b[0m\u001b[0mdf\u001b[0m\u001b[1;33m[\u001b[0m\u001b[1;34m'group___1'\u001b[0m\u001b[1;33m]\u001b[0m \u001b[1;33m==\u001b[0m \u001b[1;36m1\u001b[0m\u001b[1;33m)\u001b[0m\u001b[1;33m]\u001b[0m\u001b[1;33m[\u001b[0m\u001b[1;33m[\u001b[0m\u001b[1;34m'id'\u001b[0m\u001b[1;33m,\u001b[0m \u001b[1;34m'redcap_event_name'\u001b[0m\u001b[1;33m]\u001b[0m\u001b[1;33m]\u001b[0m\u001b[1;33m)\u001b[0m\u001b[1;33m\u001b[0m\u001b[1;33m\u001b[0m\u001b[0m\n\u001b[1;32m---> 40\u001b[1;33m         \u001b[1;32mraise\u001b[0m \u001b[0mValueError\u001b[0m\u001b[1;33m\u001b[0m\u001b[1;33m\u001b[0m\u001b[0m\n\u001b[0m\u001b[0;32m     41\u001b[0m \u001b[1;33m\u001b[0m\u001b[0m\n\u001b[0;32m     42\u001b[0m     \u001b[1;32mreturn\u001b[0m \u001b[0mdf\u001b[0m\u001b[1;33m\u001b[0m\u001b[1;33m\u001b[0m\u001b[0m\n",
      "\u001b[1;31mValueError\u001b[0m: "
     ]
    }
   ],
   "source": [
    "result2 = fix_wrong_groups(result2)"
   ]
  },
  {
   "cell_type": "code",
   "execution_count": null,
   "id": "c25ed1e5-3323-4f2b-9dba-a2e108580794",
   "metadata": {},
   "outputs": [],
   "source": []
  }
 ],
 "metadata": {
  "kernelspec": {
   "display_name": "Python 3 (ipykernel)",
   "language": "python",
   "name": "python3"
  },
  "language_info": {
   "codemirror_mode": {
    "name": "ipython",
    "version": 3
   },
   "file_extension": ".py",
   "mimetype": "text/x-python",
   "name": "python",
   "nbconvert_exporter": "python",
   "pygments_lexer": "ipython3",
   "version": "3.9.7"
  }
 },
 "nbformat": 4,
 "nbformat_minor": 5
}
