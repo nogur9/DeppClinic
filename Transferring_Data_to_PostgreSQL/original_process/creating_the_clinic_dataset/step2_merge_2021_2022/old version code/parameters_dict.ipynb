{
 "cells": [
  {
   "cell_type": "code",
   "execution_count": 1,
   "id": "fcd2dd77-6da2-4a5e-90f5-294b3e01b6a8",
   "metadata": {},
   "outputs": [],
   "source": [
    "import pandas as pd\n"
   ]
  },
  {
   "cell_type": "code",
   "execution_count": 2,
   "id": "8ef663d2-ca11-4ec7-9948-f3a076fabf56",
   "metadata": {},
   "outputs": [],
   "source": [
    "df = pd.read_csv('columns_list.csv').rename({'0': 'name'},axis=1)"
   ]
  },
  {
   "cell_type": "code",
   "execution_count": 3,
   "id": "5a029471-20a6-47fb-8adc-1969aad3c504",
   "metadata": {},
   "outputs": [],
   "source": [
    "columns_dict = {\n",
    "    'diagnosis_binary': df[(df['name'].str.startswith('diagnosis')) & (df['name'].str.contains(r'\\d', regex=True))]['name'],\n",
    "    'complaint_binary': df[(df['name'].str.startswith('complaint')) & (df['name'].str.contains(r'\\d', regex=True))]['name'],\n",
    "    'timestamp': df[df['name'].str.contains('timestamp')]['name'],\n",
    "    'date': df[df['name'].str.contains('date')]['name'],\n",
    "    'chameleon_all': ['chameleon_timestamp', 'chameleon_follow_stu', 'treatment_end_stu', 'treatment_end_2_stu', 'visit_date_stu', 'chameleon_ideation_stu', 'chameleon_behavior_stu', 'chameleon_attempt_stu', 'chameleon_nssi_stu', 'chameleon_suicide_er_stu', 'chameleon_suicide_er_date_stu', 'chameleon_suicide_er_date_2_stu', 'chameleon_suicide_er_date_3_stu', 'chameleon_psychiatric_stu', 'chameleon_psychiatric_date_stu', 'chameleon_psychiatric_date_2_stu', 'chameleon_psychiatric_date_3_stu', 'emergency_stu', 'chameleon_psychotherapy_stu', 'chameleon_psychotherapy_2_stu___1', 'chameleon_psychotherapy_2_stu___2', 'chameleon_psychotherapy_2_stu___3', 'chameleon_psychotherapy_2_stu___4', 'chameleon_psychotherapy_2_stu___5', 'chameleon_psychotherapy_2_stu___6', 'chameleon_psychotherapy_2_stu___7', 'chameleon_psychotherapy_other_stu', 'chameleon_medicine_stu', 'chameleon_medicine_2_stu___1', 'chameleon_medicine_2_stu___2', 'chameleon_medicine_2_stu___3', 'chameleon_medicine_2_stu___4', 'chameleon_medicine_2_stu___5', 'chameleon_medicine_other_stu', 'chameleon_notes_stu'],\n",
    "\n",
    "    'chameleon_binary_0_1': ['chameleon_psychotherapy_2_stu___1', 'chameleon_psychotherapy_2_stu___2', 'chameleon_psychotherapy_2_stu___3', 'chameleon_psychotherapy_2_stu___4', 'chameleon_psychotherapy_2_stu___6', 'chameleon_psychotherapy_2_stu___7', 'chameleon_medicine_2_stu___1', 'chameleon_medicine_2_stu___2', 'chameleon_medicine_2_stu___4', 'chameleon_medicine_2_stu___5'],\n",
    "    #problems - chameleon_psychotherapy_stu, chameleon_psychotherapy_2_stu___5, chameleon_medicine_stu, chameleon_medicine_2_stu___3 \n",
    "\n",
    "    'chameleon_binary_1_2': ['chameleon_follow_stu', 'treatment_end_stu', 'chameleon_behavior_stu', 'chameleon_attempt_stu', 'chameleon_nssi_stu', 'chameleon_suicide_er_stu', 'chameleon_psychiatric_stu'],\n",
    "    #chameleon_ideation_stu, emergency_stu, chameleon_psychotherapy_stu, chameleon_medicine_stu \n",
    "\n",
    "    'chameleon_others':['chameleon_timestamp', 'treatment_end_2_stu', 'visit_date_stu', 'chameleon_suicide_er_date_stu', 'chameleon_suicide_er_date_2_stu', 'chameleon_suicide_er_date_3_stu', 'chameleon_psychiatric_date_stu', 'chameleon_psychiatric_date_2_stu', 'chameleon_psychiatric_date_3_stu', 'chameleon_psychotherapy_other_stu', 'chameleon_medicine_other_stu', 'chameleon_notes_stu'],\n",
    "\n",
    "    'opening_psychothe_binary_0_1': ['opening_psychothe_2___1', 'opening_psychothe_2___2', 'opening_psychothe_2___3', 'opening_psychothe_2___4', 'opening_psychothe_2___5', 'opening_psychothe_2___6', 'opening_psychothe_2___7'],\n",
    "    'opening_psychothe_binary_1_2': ['opening_psychothe'],\n",
    "    'opening_medicine_binary_0_1': ['opening_medicine_2___1', 'opening_medicine_2___2', 'opening_medicine_2___3', 'opening_medicine_2___4', 'opening_medicine_2___5'],\n",
    "    'opening_medicine_binary_1_2': ['opening_medicine'],\n",
    "\n",
    "    'with_who_m': ['with_who_m___1', 'with_who_m___2', 'with_who_m___3', 'with_who_m___4', 'with_who_m___5', 'with_who_m___6', 'with_who_m___7'],\n",
    "    # range 0-2?????\n",
    "\n",
    "    \n",
    "    'groups': ['group___1', 'group___2', 'group___3']\n",
    "}"
   ]
  },
  {
   "cell_type": "code",
   "execution_count": null,
   "id": "7c532e2c-9d6e-41a9-9bf6-01869bdbec4d",
   "metadata": {},
   "outputs": [],
   "source": [
    "merging_functions_by_columns_set = {\n",
    "\n",
    "}"
   ]
  },
  {
   "cell_type": "code",
   "execution_count": null,
   "id": "82e7ef16-d899-4291-ac01-a1eac7bd2a27",
   "metadata": {},
   "outputs": [],
   "source": [
    "special_cases_of_merging_functions = {\n",
    "    'visit_date_stu'\n",
    "    'record_id'\n",
    "    'age_child_pre'\n",
    "}"
   ]
  },
  {
   "cell_type": "code",
   "execution_count": null,
   "id": "89d9d3bf-c879-447c-95ac-5a7ac12c03c4",
   "metadata": {},
   "outputs": [],
   "source": []
  },
  {
   "cell_type": "code",
   "execution_count": null,
   "id": "c3484593-32a3-4f13-b330-f38297e65dcb",
   "metadata": {},
   "outputs": [],
   "source": []
  },
  {
   "cell_type": "code",
   "execution_count": null,
   "id": "25e279b1-8353-4ee7-9aa7-a2088a18e315",
   "metadata": {},
   "outputs": [],
   "source": []
  },
  {
   "cell_type": "code",
   "execution_count": null,
   "id": "27203559-ca86-4515-ab13-041cf49dc95f",
   "metadata": {},
   "outputs": [],
   "source": []
  },
  {
   "cell_type": "code",
   "execution_count": null,
   "id": "fc039f94-255f-4702-b7d8-4eda431056e1",
   "metadata": {},
   "outputs": [],
   "source": []
  },
  {
   "cell_type": "code",
   "execution_count": null,
   "id": "1bb59cf3-f44b-4c86-b2a9-6da3980f59d7",
   "metadata": {},
   "outputs": [],
   "source": []
  },
  {
   "cell_type": "code",
   "execution_count": 34,
   "id": "613e5f3c-bc9c-44fa-b59e-1894026a3523",
   "metadata": {},
   "outputs": [
    {
     "data": {
      "text/plain": [
       "496    with_who_m___1\n",
       "497    with_who_m___2\n",
       "498    with_who_m___3\n",
       "499    with_who_m___4\n",
       "500    with_who_m___5\n",
       "501    with_who_m___6\n",
       "502    with_who_m___7\n",
       "Name: name, dtype: object"
      ]
     },
     "execution_count": 34,
     "metadata": {},
     "output_type": "execute_result"
    }
   ],
   "source": [
    "df[(df['name'].str.startswith('with_who_m'))]['name']"
   ]
  },
  {
   "cell_type": "code",
   "execution_count": 36,
   "id": "46a70db2-1758-4bd5-bae3-9315b531cde8",
   "metadata": {},
   "outputs": [
    {
     "name": "stdout",
     "output_type": "stream",
     "text": [
      "['with_who_m___1', 'with_who_m___2', 'with_who_m___3', 'with_who_m___4', 'with_who_m___5', 'with_who_m___6', 'with_who_m___7']\n"
     ]
    }
   ],
   "source": [
    "print(list(df[(df['name'].str.contains('with_who_m'))]['name']))"
   ]
  },
  {
   "cell_type": "code",
   "execution_count": null,
   "id": "b6bf520d-580b-4e12-98c9-8940a8b70616",
   "metadata": {},
   "outputs": [
    {
     "data": {
      "text/plain": [
       "6                   complaint___1\n",
       "7                   complaint___2\n",
       "8                   complaint___3\n",
       "9                   complaint___4\n",
       "10                  complaint___5\n",
       "                  ...            \n",
       "1538      c_ssrs_fu_attemp_6_clin\n",
       "1539    c_ssrs_fu_attemp_6_2_clin\n",
       "1540      c_ssrs_fu_attemp_7_clin\n",
       "1541      c_ssrs_fu_attemp_8_clin\n",
       "1543        c_ssrs_fu_done_2_clin\n",
       "Name: name, Length: 1309, dtype: object"
      ]
     },
     "execution_count": 15,
     "metadata": {},
     "output_type": "execute_result"
    }
   ],
   "source": [
    "df[df['name'].str.contains(r'\\d', regex=True)]['name']"
   ]
  },
  {
   "cell_type": "code",
   "execution_count": null,
   "id": "ccd99ffa-13bd-4731-88fd-fdff5db1c556",
   "metadata": {},
   "outputs": [
    {
     "data": {
      "text/plain": [
       "14     diagnosis___1\n",
       "15     diagnosis___2\n",
       "16     diagnosis___3\n",
       "17     diagnosis___4\n",
       "18     diagnosis___5\n",
       "19     diagnosis___6\n",
       "20     diagnosis___7\n",
       "21     diagnosis___8\n",
       "22     diagnosis___9\n",
       "23    diagnosis___10\n",
       "24    diagnosis___11\n",
       "25    diagnosis___12\n",
       "26    diagnosis___13\n",
       "27    diagnosis___14\n",
       "Name: name, dtype: object"
      ]
     },
     "execution_count": 16,
     "metadata": {},
     "output_type": "execute_result"
    }
   ],
   "source": [
    "\n"
   ]
  },
  {
   "cell_type": "code",
   "execution_count": null,
   "id": "9de09daa-f317-45ef-8cdb-bf3042b96ff0",
   "metadata": {},
   "outputs": [],
   "source": []
  }
 ],
 "metadata": {
  "kernelspec": {
   "display_name": "Python 3 (ipykernel)",
   "language": "python",
   "name": "python3"
  },
  "language_info": {
   "codemirror_mode": {
    "name": "ipython",
    "version": 3
   },
   "file_extension": ".py",
   "mimetype": "text/x-python",
   "name": "python",
   "nbconvert_exporter": "python",
   "pygments_lexer": "ipython3",
   "version": "3.9.7"
  }
 },
 "nbformat": 4,
 "nbformat_minor": 5
}
