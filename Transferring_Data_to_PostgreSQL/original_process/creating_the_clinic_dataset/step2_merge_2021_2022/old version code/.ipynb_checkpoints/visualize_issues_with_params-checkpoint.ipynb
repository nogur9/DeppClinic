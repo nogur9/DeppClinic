{
 "cells": [
  {
   "cell_type": "code",
   "execution_count": 1,
   "id": "35cab2af-f10c-4eeb-84a2-d33bd74e1984",
   "metadata": {},
   "outputs": [],
   "source": [
    "import pandas as pd\n",
    "import re\n",
    "import seaborn as sns\n",
    "import matplotlib.pyplot as plt\n",
    "sns.set(rc={'figure.figsize':(11,8)})\n",
    "sns.set(font_scale=1.2)\n",
    "import numpy as np\n",
    "from utils import fix_wrong_record_id, fill_id, format_datetime_columns, delete_redundant_columns\n",
    "from merge_datasets import split_to_intersection_and_union "
   ]
  },
  {
   "cell_type": "code",
   "execution_count": 2,
   "id": "80c245cb-3104-4047-8e90-9a4b4795adbb",
   "metadata": {},
   "outputs": [
    {
     "name": "stderr",
     "output_type": "stream",
     "text": [
      "C:\\Users\\nogur\\anaconda3\\lib\\site-packages\\IPython\\core\\interactiveshell.py:3444: DtypeWarning: Columns (44,51,53,99,325,366,439,453,459,464,466,501,507,512,514,521,530,532,569,571,580,599,766,771,777,781,786,788,793,795,804,806,826,843,845,854,873,883,918,941,979,991,1002,1040,1045,1047,1049,1051,1053,1054,1080,1096,1119,1122,1126,1127,1131,1132,1133,1134,1136,1137,1138,1141,1142,1144,1161,1183,1186,1237,1239,1259,1261,1262,1263,1269,1270,1271,1272,1384,1387,1389,1405,1408,1411,1415,1432,1434,1435,1436,1442,1443,1444,1445,1499,1568,1569,1572,1573) have mixed types.Specify dtype option on import or set low_memory=False.\n",
      "  exec(code_obj, self.user_global_ns, self.user_ns)\n",
      "C:\\Users\\nogur\\anaconda3\\lib\\site-packages\\IPython\\core\\interactiveshell.py:3444: DtypeWarning: Columns (48) have mixed types.Specify dtype option on import or set low_memory=False.\n",
      "  exec(code_obj, self.user_global_ns, self.user_ns)\n"
     ]
    }
   ],
   "source": [
    "df_2022 = pd.read_csv(\"../original_data/ImmiRiskIPT2022_DATA_2022-12-12_1719.csv\", na_values= ' ')\n",
    "df_2021 = pd.read_csv(r\"../original_data/Schneider Depression Clinic Database.csv\", na_values= ' ')"
   ]
  },
  {
   "cell_type": "markdown",
   "id": "d207fabe-1b75-4bf5-86dd-2c5f21ba1e40",
   "metadata": {},
   "source": [
    "# the preparing datasets"
   ]
  },
  {
   "cell_type": "code",
   "execution_count": 3,
   "id": "4b2591f3-f99b-45e4-81ef-d2c6cce017a9",
   "metadata": {},
   "outputs": [],
   "source": [
    "df_2021_1 = fix_wrong_record_id(df_2021, year=2021)\n",
    "df_2022_1 = fix_wrong_record_id(df_2022, year=2022)"
   ]
  },
  {
   "cell_type": "markdown",
   "id": "111ad7b0-7b17-4bcf-b86f-b161c80f807c",
   "metadata": {},
   "source": [
    "##### fill id function - only for 2022"
   ]
  },
  {
   "cell_type": "code",
   "execution_count": 4,
   "id": "81d3bd56-f899-41b0-8451-55d01be2ca1d",
   "metadata": {},
   "outputs": [],
   "source": [
    "df_2022_2 = fill_id(df_2022_1)"
   ]
  },
  {
   "cell_type": "code",
   "execution_count": 5,
   "id": "55c1f7e9-fea1-4ee6-bb56-d9f1ad48a258",
   "metadata": {},
   "outputs": [],
   "source": [
    "df_2021_3 = format_datetime_columns(df_2021_1)\n",
    "df_2022_3 = format_datetime_columns(df_2022_2)"
   ]
  },
  {
   "cell_type": "code",
   "execution_count": 6,
   "id": "ca2f10dc-8da3-4a61-96a2-96c1e73687c9",
   "metadata": {},
   "outputs": [],
   "source": [
    "df_2021_4, df_2022_4 = delete_redundant_columns(df_2021 = df_2021_3, df_2022 = df_2022_3)"
   ]
  },
  {
   "cell_type": "markdown",
   "id": "386d53f8-c99f-4262-9091-679ae200a4da",
   "metadata": {},
   "source": [
    "# merging the datasets"
   ]
  },
  {
   "cell_type": "code",
   "execution_count": 7,
   "id": "fd1a3beb-b030-4c50-815b-c58b6a180603",
   "metadata": {},
   "outputs": [],
   "source": [
    "union, intersection_2021, intersection_2022 = split_to_intersection_and_union(df_2021 = df_2021_4, df_2022=df_2022_4)\n",
    "\n",
    "# validate\n",
    "# intersection_2021.duplicated(subset=['redcap_event_name', 'id']).any()"
   ]
  },
  {
   "cell_type": "markdown",
   "id": "ddd775a6-de53-4abb-a2f5-a380d9db339b",
   "metadata": {},
   "source": [
    "## handling contradictions"
   ]
  },
  {
   "cell_type": "code",
   "execution_count": 45,
   "id": "8abea521-d9fa-4a53-b710-ea35488affdc",
   "metadata": {},
   "outputs": [
    {
     "data": {
      "text/plain": [
       "Index(['record_id', 'redcap_event_name', 'redcap_survey_identifier',\n",
       "       'opening_timestamp', 'id', 'er_num', 'complaint___1', 'complaint___2',\n",
       "       'complaint___3', 'complaint___4',\n",
       "       ...\n",
       "       'c_ssrs_fu_attemp_5_2_clin', 'c_ssrs_fu_attemp_5_3_clin',\n",
       "       'c_ssrs_fu_attemp_6_clin', 'c_ssrs_fu_attemp_6_2_clin',\n",
       "       'c_ssrs_fu_attemp_7_clin', 'c_ssrs_fu_attemp_8_clin',\n",
       "       'c_ssrs_fu_done_clin', 'c_ssrs_fu_done_2_clin', 'original_dataset',\n",
       "       'id & redcup'],\n",
       "      dtype='object', length=1546)"
      ]
     },
     "execution_count": 45,
     "metadata": {},
     "output_type": "execute_result"
    }
   ],
   "source": [
    "\n",
    "result = pd.merge(intersection_2021, intersection_2022, how=\"inner\", on=['redcap_event_name', 'id'])\n",
    "# validate\n",
    "# result.shape\n",
    "# intersection_2022.shape\n",
    "\n"
   ]
  },
  {
   "cell_type": "code",
   "execution_count": 50,
   "id": "1e67deb1-520f-47a1-8d8d-739d94ee3afb",
   "metadata": {},
   "outputs": [],
   "source": [
    "pd.Series(intersection_2022.columns).to_csv('columns_list.csv', index=False)"
   ]
  },
  {
   "cell_type": "code",
   "execution_count": 23,
   "id": "e953f3b6-b753-40e1-b885-cc5edd087de2",
   "metadata": {},
   "outputs": [],
   "source": [
    "shared_columns = [col for col in intersection_2022.columns if col in intersection_2021.columns]\n",
    "unique_2022_columns = [col for col in intersection_2022.columns if col not in intersection_2021.columns]\n",
    "# validate\n",
    "# len(shared_columns) == intersection_2021.shape[1]"
   ]
  },
  {
   "cell_type": "code",
   "execution_count": 42,
   "id": "ac104d2b-81ae-4178-a9bb-d3541e14111c",
   "metadata": {},
   "outputs": [],
   "source": [
    "def resolve_contradiction(row, col_x, col_y, resolve_func=max):\n",
    "    \"\"\"\n",
    "    The function takes a row of a DataFrame and two column names as input,\n",
    "    and returns the value based on a rule of resolving contradictions.\n",
    "    If the value in col_x is missing, it returns the value in col_y.\n",
    "    If the value in col_y is missing, it returns the value in col_x.\n",
    "    If both values are not missing, it returns the maximum value between the two.\n",
    "\n",
    "    Parameters:\n",
    "    row : pandas.Series\n",
    "        A row of a DataFrame\n",
    "    col_x : str\n",
    "        The name of the column in dataframe_x\n",
    "    col_y : str\n",
    "        The name of the column in dataframe_y\n",
    "\n",
    "    Returns:\n",
    "    int or float or any other value\n",
    "        The value based on the rule of resolving contradictions\n",
    "    \"\"\"\n",
    "    if pd.isnull(row[col_x]):\n",
    "        return row[col_y]\n",
    "    \n",
    "    elif pd.isnull(row[col_y]):\n",
    "        return row[col_x]\n",
    "    \n",
    "    elif row[col_y] == row[col_x]:\n",
    "        return row[col_x]\n",
    "    \n",
    "    elif resolve_func == None:\n",
    "        raise ValueError\n",
    "    else:\n",
    "        return resolve_func(row[col_x], row[col_y])"
   ]
  },
  {
   "cell_type": "code",
   "execution_count": 43,
   "id": "4b264a25-7c1d-4884-8e6c-ed00b878485a",
   "metadata": {},
   "outputs": [],
   "source": [
    "result['record_id'] = result.apply(resolve_contradiction, args = ('record_id_x', 'record_id_y'), axis=1)"
   ]
  },
  {
   "cell_type": "code",
   "execution_count": 57,
   "id": "7bf89393-2049-4682-a9cd-638f802b137e",
   "metadata": {},
   "outputs": [
    {
     "data": {
      "text/plain": [
       "array([nan, 'אוטיזם + הפרעת אישיות (לא צוינה איזה)',\n",
       "       'הפרעת אישיות גבולית, אנורקסיה', 'חרדה חברתית ',\n",
       "       'הפרעת אישיות גבולית, הפרעת אכילה, אובדנות קשה', 'טיקים',\n",
       "       'הפרעות שינה', 'בולימיה,אישיות גבולית', 'התפרצויות זעם',\n",
       "       'האם הופנתה לאור אמירה בבית הספר', 'הפרעת הסתגלות', 'לקויות למידה',\n",
       "       'אנורקסיה נרבוזה', '\"כ\"כנראה הפרעת אכילה',\n",
       "       'הפרעת אישיות לא ספציפית', 'חשד להפרעה סכיזואידית',\n",
       "       \"דיכאון עם חשד לפיצ'רים פסיכוטיים\"], dtype=object)"
      ]
     },
     "execution_count": 57,
     "metadata": {},
     "output_type": "execute_result"
    }
   ],
   "source": [
    "result['diagnosis_other_y'].unique()"
   ]
  },
  {
   "cell_type": "code",
   "execution_count": null,
   "id": "036c7694-efb2-4f12-8c8d-e39e03f16082",
   "metadata": {},
   "outputs": [],
   "source": []
  }
 ],
 "metadata": {
  "kernelspec": {
   "display_name": "Python 3 (ipykernel)",
   "language": "python",
   "name": "python3"
  },
  "language_info": {
   "codemirror_mode": {
    "name": "ipython",
    "version": 3
   },
   "file_extension": ".py",
   "mimetype": "text/x-python",
   "name": "python",
   "nbconvert_exporter": "python",
   "pygments_lexer": "ipython3",
   "version": "3.9.7"
  }
 },
 "nbformat": 4,
 "nbformat_minor": 5
}
