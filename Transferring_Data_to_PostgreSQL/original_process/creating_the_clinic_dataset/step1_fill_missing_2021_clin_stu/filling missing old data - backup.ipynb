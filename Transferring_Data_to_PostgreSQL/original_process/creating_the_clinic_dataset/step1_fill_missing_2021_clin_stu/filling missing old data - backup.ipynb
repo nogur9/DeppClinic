{
 "cells": [
  {
   "cell_type": "code",
   "execution_count": 1,
   "id": "16be9df2-5d54-4ce9-8858-2fa485dc1e8b",
   "metadata": {},
   "outputs": [
    {
     "ename": "ModuleNotFoundError",
     "evalue": "No module named 'creating_the_clinic_dataset'",
     "output_type": "error",
     "traceback": [
      "\u001b[1;31m---------------------------------------------------------------------------\u001b[0m",
      "\u001b[1;31mModuleNotFoundError\u001b[0m                       Traceback (most recent call last)",
      "Cell \u001b[1;32mIn[1], line 4\u001b[0m\n\u001b[0;32m      2\u001b[0m \u001b[38;5;28;01mimport\u001b[39;00m \u001b[38;5;21;01mnumpy\u001b[39;00m \u001b[38;5;28;01mas\u001b[39;00m \u001b[38;5;21;01mnp\u001b[39;00m\n\u001b[0;32m      3\u001b[0m \u001b[38;5;28;01mimport\u001b[39;00m \u001b[38;5;21;01mre\u001b[39;00m\n\u001b[1;32m----> 4\u001b[0m \u001b[38;5;28;01mfrom\u001b[39;00m \u001b[38;5;21;01mcompleting_missing_clinician_questionnaire_2021\u001b[39;00m \u001b[38;5;28;01mimport\u001b[39;00m map_additional_column_name_to_2021_clinician_column_name, remove_from_stu_columns, map_additional_column_name_to_2021_student_column_name, IsClinician\n\u001b[0;32m      6\u001b[0m \u001b[38;5;28;01mfrom\u001b[39;00m \u001b[38;5;21;01mcreating_the_clinic_dataset\u001b[39;00m\u001b[38;5;21;01m.\u001b[39;00m\u001b[38;5;21;01mstep2_merge_2021_2022\u001b[39;00m\u001b[38;5;21;01m.\u001b[39;00m\u001b[38;5;21;01mutils\u001b[39;00m \u001b[38;5;28;01mimport\u001b[39;00m fix_wrong_record_id, fill_id, remove_test_id\n",
      "File \u001b[1;32m~\\Documents\\DeppClinic\\creating_the_clinic_dataset\\step1_fill_missing_2021_clin_stu\\completing_missing_clinician_questionnaire_2021.py:3\u001b[0m\n\u001b[0;32m      1\u001b[0m \u001b[38;5;28;01mimport\u001b[39;00m \u001b[38;5;21;01mpandas\u001b[39;00m \u001b[38;5;28;01mas\u001b[39;00m \u001b[38;5;21;01mpd\u001b[39;00m\n\u001b[0;32m      2\u001b[0m \u001b[38;5;28;01mimport\u001b[39;00m \u001b[38;5;21;01mre\u001b[39;00m\n\u001b[1;32m----> 3\u001b[0m \u001b[38;5;28;01mfrom\u001b[39;00m \u001b[38;5;21;01mcreating_the_clinic_dataset\u001b[39;00m\u001b[38;5;21;01m.\u001b[39;00m\u001b[38;5;21;01mstep2_merge_2021_2022\u001b[39;00m\u001b[38;5;21;01m.\u001b[39;00m\u001b[38;5;21;01mutils\u001b[39;00m \u001b[38;5;28;01mimport\u001b[39;00m fill_id\n\u001b[0;32m      6\u001b[0m \u001b[38;5;28;01mdef\u001b[39;00m \u001b[38;5;21mIsClinician\u001b[39m(row):\n\u001b[0;32m      7\u001b[0m \u001b[38;5;250m    \u001b[39m\u001b[38;5;124;03m\"\"\"\u001b[39;00m\n\u001b[0;32m      8\u001b[0m \u001b[38;5;124;03m    Determine if data in row belongs to either student or clinician.\u001b[39;00m\n\u001b[0;32m      9\u001b[0m \u001b[38;5;124;03m    default - student\u001b[39;00m\n\u001b[1;32m   (...)\u001b[0m\n\u001b[0;32m     15\u001b[0m \u001b[38;5;124;03m    if column not empty. determine it's clinician\u001b[39;00m\n\u001b[0;32m     16\u001b[0m \u001b[38;5;124;03m    \"\"\"\u001b[39;00m\n",
      "\u001b[1;31mModuleNotFoundError\u001b[0m: No module named 'creating_the_clinic_dataset'"
     ]
    }
   ],
   "source": [
    "import pandas as pd\n",
    "import numpy as np\n",
    "import re\n",
    "from completing_missing_clinician_questionnaire_2021 import map_additional_column_name_to_2021_clinician_column_name, remove_from_stu_columns, map_additional_column_name_to_2021_student_column_name, IsClinician\n",
    "\n",
    "from creating_the_clinic_dataset.step2_merge_2021_2022.utils import fix_wrong_record_id, fill_id, remove_test_id"
   ]
  },
  {
   "cell_type": "code",
   "execution_count": 2,
   "id": "9c54ed83-7fb0-452c-876e-98f89167fbf2",
   "metadata": {},
   "outputs": [
    {
     "name": "stderr",
     "output_type": "stream",
     "text": [
      "C:\\Users\\nogur\\AppData\\Local\\Temp\\ipykernel_7348\\915307582.py:1: DtypeWarning: Columns (48) have mixed types. Specify dtype option on import or set low_memory=False.\n",
      "  df_2021 = pd.read_csv(r\"../original_data/Schneider Depression Clinic Database.csv\", na_values= ' ')\n",
      "C:\\Users\\nogur\\AppData\\Local\\Temp\\ipykernel_7348\\915307582.py:2: DtypeWarning: Columns (44,46,51,53,99,325,366,439,453,459,464,466,501,507,512,514,519,521,530,532,569,571,580,599,766,771,773,779,784,789,794,798,800,804,809,811,813,816,818,827,829,849,866,868,877,896,906,941,964,1002,1014,1025,1063,1068,1070,1076,1081,1086,1091,1093,1095,1097,1099,1100,1126,1142,1149,1165,1168,1172,1173,1177,1178,1179,1180,1182,1183,1184,1187,1188,1190,1207,1212,1229,1232,1260,1262,1264,1266,1268,1271,1281,1283,1285,1291,1293,1297,1305,1306,1319,1321,1324,1326,1338,1340,1342,1343,1344,1350,1351,1352,1353,1465,1467,1468,1470,1486,1489,1492,1496,1513,1515,1516,1517,1523,1524,1525,1526,1580,1650,1653,1654) have mixed types. Specify dtype option on import or set low_memory=False.\n",
      "  df_2022 = pd.read_csv(r\"../original_data/ImmiRiskIPT2022_DATA_2023-09-03_1503.csv\", na_values= ' ')\n",
      "C:\\Users\\nogur\\AppData\\Local\\Temp\\ipykernel_7348\\915307582.py:4: DtypeWarning: Columns (48,56,57,76,80,81,82,84,91,138,200,290,292,293,294,300,301,302,303,373,376,379,436,437,438,440) have mixed types. Specify dtype option on import or set low_memory=False.\n",
      "  additional_data = pd.read_csv(r\"../original_data/Student_Clinician_data_2021.csv\", na_values= ' ')\n"
     ]
    }
   ],
   "source": [
    "imputation_data = pd.read_csv(r\"../original_data/Student_Clinician_data_2021.csv\", na_values= ' ')\n",
    "# the warning rooted from the nan values\n",
    "\n",
    "\n",
    "rename = {'cssrs_followup_timestamp':'cssrs_fw_maya_timestamp', 'cssrs_followup_complete':'cssrs_fw_maya_complete'}\n",
    "additional_data = additional_data.rename(rename, axis=1)\n",
    "\n",
    "## error record_id = 363\n",
    "additional_data = additional_data[additional_data['record_id']!=363]\n",
    "\n",
    "#do the imputation id like of 2022 dataset\n",
    "additional_data = fill_id(additional_data)\n",
    "df = remove_test_id(df)"
   ]
  },
  {
   "cell_type": "code",
   "execution_count": null,
   "id": "28a193cd",
   "metadata": {},
   "outputs": [],
   "source": [
    "def upload_to_sql(connection_str, column, row, imputation_row):\n",
    "    \n",
    "    \n",
    "    if row.isna()[column]:\n",
    "    \n",
    "        try:\n",
    "            questionnaire_alias = row.quesionairre_alias[column]\n",
    "        except KeyError:\n",
    "            return\n",
    "        \n",
    "        \n",
    "        imputation_value = imputation_row[questionnaire_alias]\n",
    "\n",
    "        \n",
    "        conn = psycopg2.connect(connection_str)\n",
    "        cur = conn.cursor()\n",
    "        cur.execute(\"\"\"UPDATE  table\n",
    "        SET {0} = '{1}'\n",
    "        WHERE primary_key = \"{2}\";\"\"\".format(column, imputation_value, imputation_row['primary_key']))\n",
    "\n",
    "        conn.commit()\n",
    "        cur.close()\n",
    "        conn.close()\n"
   ]
  },
  {
   "cell_type": "code",
   "execution_count": null,
   "id": "124b505c",
   "metadata": {},
   "outputs": [],
   "source": [
    "def fill_columns (connection_str, df, imputation_df):\n",
    "    \n",
    "    for _, row in df.iterrows():\n",
    "        for column in df.columns:\n",
    "            \n",
    "            imputation_row = imputation_df[imputation_df['primary_key'] == row['primary_key']]\n",
    "            \n",
    "            upload_to_sql(connection_str, column, row, imputation_row)\n",
    "            \n",
    "\n"
   ]
  },
  {
   "cell_type": "code",
   "execution_count": null,
   "id": "d673d394",
   "metadata": {},
   "outputs": [],
   "source": [
    "def impute_data(data_df, impute_df, column_aliases, connection_str, table_name):\n",
    "    data_df.set_index('primary_key', in_place=True)\n",
    "    impute_df.rename(column_aliases, axis=1, in_place=True)\n",
    "    # fill the missing values with the imputation values\n",
    "    data_df = data_df.fillna(impute_df.set_index('primary_key'))\n",
    "\n",
    "    # upload the dataframe to the database\n",
    "    with psycopg2.connect(connection_str) as conn:\n",
    "        data_df.to_sql(table_name, conn, if_exists='replace', index_label='primary_key')"
   ]
  },
  {
   "cell_type": "code",
   "execution_count": null,
   "id": "9f53397a",
   "metadata": {},
   "outputs": [],
   "source": []
  },
  {
   "cell_type": "code",
   "execution_count": 7,
   "id": "c96b19db-f485-4a89-b968-1cbe1a82dd65",
   "metadata": {},
   "outputs": [],
   "source": [
    "def fill_columns(columns_to_add, map_for_data, df_2021, row):\n",
    "    for column in columns_to_add:\n",
    "        if not row.isna()[column]:\n",
    "            column_rename = map_for_data[column]\n",
    "\n",
    "            df_2021.loc[(df_2021['id']==row['id']) & (df_2021['redcap_event_name']==row['redcap_event_name']), column_rename] = row[column]\n",
    "    return df_2021\n",
    "\n",
    "\n",
    "\n",
    "# # check if not equals \n",
    "# if not (df_2021[(df_2021['id']==row['id']) & (df_2021['redcap_event_name']==row['redcap_event_name'])][column_rename] == row[column]).all():\n",
    "#     print(column)\n",
    "#change value\n"
   ]
  },
  {
   "cell_type": "code",
   "execution_count": 8,
   "id": "c6f8a164-2d52-4dce-ba0b-9f636406553f",
   "metadata": {},
   "outputs": [],
   "source": [
    "#         only_clin_cols = [column for column in clinician_columns_add if column not in stu_columns_add]\n",
    "#         print(row[only_clin_cols].isna().all())\n",
    "        "
   ]
  },
  {
   "cell_type": "code",
   "execution_count": 9,
   "id": "add13af3-489f-4895-a1f2-3f0fdffe6537",
   "metadata": {},
   "outputs": [],
   "source": [
    "\n",
    "# cols_2022 = list(df_2022.columns)\n",
    "# cols_add = list(additional_data.columns)"
   ]
  },
  {
   "cell_type": "code",
   "execution_count": 10,
   "id": "8f3b09e4-b37d-4ff0-8fbe-8d3a7d1bef5c",
   "metadata": {},
   "outputs": [],
   "source": [
    "for i, row in imputation_data.iterrows():\n",
    "    \n",
    "    fill_columns(chameleon_columns_add, map_chameleon_2021_add, df_2021, row)\n",
    "    \n",
    "    if IsClinician(row):\n",
    "\n",
    "        fill_columns(stu_columns_add, map_for_student_data, df_2021, row)\n",
    "    \n",
    "    else:\n",
    "        fill_columns(clinician_columns_add, map_for_clinician_data, df_2021, row)\n"
   ]
  },
  {
   "cell_type": "code",
   "execution_count": 11,
   "id": "b18970ce-2aa0-4695-8ba7-ed916d5d82f7",
   "metadata": {},
   "outputs": [],
   "source": [
    "df_2021.to_csv(r'../preprocessed_data/2021_data_imputed_with_clin_stu.csv', index=False)\n",
    "df_2022.to_csv(r'../preprocessed_data/2022_data_imputed_with_clin_stu.csv', index=False)"
   ]
  },
  {
   "cell_type": "code",
   "execution_count": null,
   "id": "7a7d1fb4-ee94-4240-9c59-623c596a1143",
   "metadata": {},
   "outputs": [],
   "source": []
  }
 ],
 "metadata": {
  "kernelspec": {
   "display_name": "DeppClinic",
   "language": "python",
   "name": "deppclinic"
  },
  "language_info": {
   "codemirror_mode": {
    "name": "ipython",
    "version": 3
   },
   "file_extension": ".py",
   "mimetype": "text/x-python",
   "name": "python",
   "nbconvert_exporter": "python",
   "pygments_lexer": "ipython3",
   "version": "3.11.5"
  }
 },
 "nbformat": 4,
 "nbformat_minor": 5
}
