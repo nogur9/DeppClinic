{
 "cells": [
  {
   "cell_type": "code",
   "execution_count": 1,
   "id": "8fc6f342",
   "metadata": {},
   "outputs": [],
   "source": [
    "import pandas as pd"
   ]
  },
  {
   "cell_type": "code",
   "execution_count": 2,
   "id": "f0a3eb81",
   "metadata": {},
   "outputs": [],
   "source": [
    "import psycopg2\n"
   ]
  },
  {
   "cell_type": "code",
   "execution_count": 3,
   "id": "f3fe44e6",
   "metadata": {},
   "outputs": [
    {
     "name": "stdout",
     "output_type": "stream",
     "text": [
      "C:\\Users\\nogur\\anaconda3\\envs\\DeppClinic\\python.exe\n"
     ]
    }
   ],
   "source": [
    "import sys\n",
    "print(sys.executable)"
   ]
  },
  {
   "cell_type": "code",
   "execution_count": 4,
   "id": "1fe2802a",
   "metadata": {},
   "outputs": [],
   "source": [
    "conn = psycopg2.connect(\"dbname=DeppClinic user=postgres password=asdf123, port=5433\")"
   ]
  },
  {
   "cell_type": "markdown",
   "id": "f2790095",
   "metadata": {},
   "source": [
    "## SELECT"
   ]
  },
  {
   "cell_type": "code",
   "execution_count": 5,
   "id": "32378876",
   "metadata": {},
   "outputs": [],
   "source": [
    "sql = \"SELECT * FROM auxiliary_questionnaires_data.questionnaires_columns_names;\"\n",
    "df = pd.read_sql_query(sql, conn)"
   ]
  },
  {
   "cell_type": "code",
   "execution_count": 6,
   "id": "c1c1b4ad",
   "metadata": {},
   "outputs": [
    {
     "data": {
      "text/html": [
       "<div>\n",
       "<style scoped>\n",
       "    .dataframe tbody tr th:only-of-type {\n",
       "        vertical-align: middle;\n",
       "    }\n",
       "\n",
       "    .dataframe tbody tr th {\n",
       "        vertical-align: top;\n",
       "    }\n",
       "\n",
       "    .dataframe thead th {\n",
       "        text-align: right;\n",
       "    }\n",
       "</style>\n",
       "<table border=\"1\" class=\"dataframe\">\n",
       "  <thead>\n",
       "    <tr style=\"text-align: right;\">\n",
       "      <th></th>\n",
       "      <th>questionnaire_name</th>\n",
       "      <th>column_names</th>\n",
       "      <th>old_data_column_names</th>\n",
       "      <th>imputation_data_column_names</th>\n",
       "      <th>reverse_questions</th>\n",
       "    </tr>\n",
       "  </thead>\n",
       "  <tbody>\n",
       "    <tr>\n",
       "      <th>0</th>\n",
       "      <td>c_ssrs_intake</td>\n",
       "      <td>[cssrs_intake_timestamp, c_ssrs_1_life, c_ssrs...</td>\n",
       "      <td>None</td>\n",
       "      <td>None</td>\n",
       "      <td>None</td>\n",
       "    </tr>\n",
       "    <tr>\n",
       "      <th>1</th>\n",
       "      <td>c_ssrs</td>\n",
       "      <td>[cssrs_timestamp, c_ssrs_1, c_ssrs_2, c_ssrs_3...</td>\n",
       "      <td>None</td>\n",
       "      <td>None</td>\n",
       "      <td>None</td>\n",
       "    </tr>\n",
       "    <tr>\n",
       "      <th>2</th>\n",
       "      <td>c_ssrs_clin</td>\n",
       "      <td>[cssrs_t_clin_timestamp, c_ssrs_t_time_clin, c...</td>\n",
       "      <td>None</td>\n",
       "      <td>None</td>\n",
       "      <td>None</td>\n",
       "    </tr>\n",
       "    <tr>\n",
       "      <th>3</th>\n",
       "      <td>c_ssrs_stu</td>\n",
       "      <td>[cssrs_t_stu_timestamp, c_ssrs_t_time_stu, c_s...</td>\n",
       "      <td>None</td>\n",
       "      <td>None</td>\n",
       "      <td>None</td>\n",
       "    </tr>\n",
       "    <tr>\n",
       "      <th>4</th>\n",
       "      <td>mfq</td>\n",
       "      <td>[mfq_short_timestamp, mfq_1, mfq_2, mfq_5, mfq...</td>\n",
       "      <td>None</td>\n",
       "      <td>None</td>\n",
       "      <td>None</td>\n",
       "    </tr>\n",
       "    <tr>\n",
       "      <th>...</th>\n",
       "      <td>...</td>\n",
       "      <td>...</td>\n",
       "      <td>...</td>\n",
       "      <td>...</td>\n",
       "      <td>...</td>\n",
       "    </tr>\n",
       "    <tr>\n",
       "      <th>77</th>\n",
       "      <td>estimation_and_satisfaction</td>\n",
       "      <td>[estimation_and_satisfaction_timestamp, satis_...</td>\n",
       "      <td>None</td>\n",
       "      <td>None</td>\n",
       "      <td>None</td>\n",
       "    </tr>\n",
       "    <tr>\n",
       "      <th>78</th>\n",
       "      <td>intro</td>\n",
       "      <td>[record_id, redcap_event_name, redcap_survey_i...</td>\n",
       "      <td>None</td>\n",
       "      <td>None</td>\n",
       "      <td>None</td>\n",
       "    </tr>\n",
       "    <tr>\n",
       "      <th>79</th>\n",
       "      <td>dass_m</td>\n",
       "      <td>[dass_m_timestamp, dass_1_m, dass_2_m, dass_3_...</td>\n",
       "      <td>None</td>\n",
       "      <td>None</td>\n",
       "      <td>None</td>\n",
       "    </tr>\n",
       "    <tr>\n",
       "      <th>80</th>\n",
       "      <td>opening_clinicians</td>\n",
       "      <td>[opening_clinicians_timestamp, who_clin, who_o...</td>\n",
       "      <td>None</td>\n",
       "      <td>None</td>\n",
       "      <td>None</td>\n",
       "    </tr>\n",
       "    <tr>\n",
       "      <th>81</th>\n",
       "      <td>inq</td>\n",
       "      <td>[inq_timestamp, inq_1, inq_2, inq_3, inq_4, in...</td>\n",
       "      <td>None</td>\n",
       "      <td>None</td>\n",
       "      <td>None</td>\n",
       "    </tr>\n",
       "  </tbody>\n",
       "</table>\n",
       "<p>82 rows × 5 columns</p>\n",
       "</div>"
      ],
      "text/plain": [
       "             questionnaire_name  \\\n",
       "0                 c_ssrs_intake   \n",
       "1                        c_ssrs   \n",
       "2                   c_ssrs_clin   \n",
       "3                    c_ssrs_stu   \n",
       "4                           mfq   \n",
       "..                          ...   \n",
       "77  estimation_and_satisfaction   \n",
       "78                        intro   \n",
       "79                       dass_m   \n",
       "80           opening_clinicians   \n",
       "81                          inq   \n",
       "\n",
       "                                         column_names old_data_column_names  \\\n",
       "0   [cssrs_intake_timestamp, c_ssrs_1_life, c_ssrs...                  None   \n",
       "1   [cssrs_timestamp, c_ssrs_1, c_ssrs_2, c_ssrs_3...                  None   \n",
       "2   [cssrs_t_clin_timestamp, c_ssrs_t_time_clin, c...                  None   \n",
       "3   [cssrs_t_stu_timestamp, c_ssrs_t_time_stu, c_s...                  None   \n",
       "4   [mfq_short_timestamp, mfq_1, mfq_2, mfq_5, mfq...                  None   \n",
       "..                                                ...                   ...   \n",
       "77  [estimation_and_satisfaction_timestamp, satis_...                  None   \n",
       "78  [record_id, redcap_event_name, redcap_survey_i...                  None   \n",
       "79  [dass_m_timestamp, dass_1_m, dass_2_m, dass_3_...                  None   \n",
       "80  [opening_clinicians_timestamp, who_clin, who_o...                  None   \n",
       "81  [inq_timestamp, inq_1, inq_2, inq_3, inq_4, in...                  None   \n",
       "\n",
       "   imputation_data_column_names reverse_questions  \n",
       "0                          None              None  \n",
       "1                          None              None  \n",
       "2                          None              None  \n",
       "3                          None              None  \n",
       "4                          None              None  \n",
       "..                          ...               ...  \n",
       "77                         None              None  \n",
       "78                         None              None  \n",
       "79                         None              None  \n",
       "80                         None              None  \n",
       "81                         None              None  \n",
       "\n",
       "[82 rows x 5 columns]"
      ]
     },
     "execution_count": 6,
     "metadata": {},
     "output_type": "execute_result"
    }
   ],
   "source": [
    "df"
   ]
  },
  {
   "cell_type": "code",
   "execution_count": null,
   "id": "44c94360",
   "metadata": {},
   "outputs": [],
   "source": []
  },
  {
   "cell_type": "code",
   "execution_count": null,
   "id": "22732aa9",
   "metadata": {},
   "outputs": [],
   "source": []
  },
  {
   "cell_type": "markdown",
   "id": "e93f66bd",
   "metadata": {},
   "source": [
    "## do a code"
   ]
  },
  {
   "cell_type": "code",
   "execution_count": null,
   "id": "43f66b48",
   "metadata": {},
   "outputs": [],
   "source": [
    "# Open a cursor to perform database operations\n",
    "cur = conn.cursor()"
   ]
  },
  {
   "cell_type": "code",
   "execution_count": 11,
   "id": "7917b9ed",
   "metadata": {},
   "outputs": [],
   "source": [
    "\n",
    "# Execute a command: create datacamp_courses table\n",
    "cur.execute(\"\"\"\n",
    "\n",
    "\n",
    "            \"\"\")\n",
    "\n"
   ]
  },
  {
   "cell_type": "code",
   "execution_count": null,
   "id": "fd59fda8",
   "metadata": {},
   "outputs": [],
   "source": [
    "# Make the changes to the database persistent\n",
    "conn.commit()"
   ]
  },
  {
   "cell_type": "code",
   "execution_count": null,
   "id": "5eb33fcb",
   "metadata": {},
   "outputs": [],
   "source": [
    "# Close cursor and communication with the database\n",
    "cur.close()\n",
    "conn.close()"
   ]
  }
 ],
 "metadata": {
  "kernelspec": {
   "display_name": "DeppClinic",
   "language": "python",
   "name": "deppclinic"
  },
  "language_info": {
   "codemirror_mode": {
    "name": "ipython",
    "version": 3
   },
   "file_extension": ".py",
   "mimetype": "text/x-python",
   "name": "python",
   "nbconvert_exporter": "python",
   "pygments_lexer": "ipython3",
   "version": "3.11.5"
  }
 },
 "nbformat": 4,
 "nbformat_minor": 5
}
