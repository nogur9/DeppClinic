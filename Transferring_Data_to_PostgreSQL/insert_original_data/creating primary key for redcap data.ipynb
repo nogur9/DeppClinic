{
 "cells": [
  {
   "cell_type": "code",
   "execution_count": 1,
   "id": "ec2803dc",
   "metadata": {},
   "outputs": [],
   "source": [
    "import pandas as pd\n",
    "\n",
    "import sys\n",
    "sys.path.append(r\"../../\")\n",
    "\n",
    "from creating_the_clinic_dataset.step2_merge_2021_2022.utils import fix_wrong_record_id, fill_id, remove_test_id"
   ]
  },
  {
   "cell_type": "code",
   "execution_count": 2,
   "id": "c93da9c8",
   "metadata": {},
   "outputs": [
    {
     "name": "stderr",
     "output_type": "stream",
     "text": [
      "C:\\Users\\nogur\\AppData\\Local\\Temp\\ipykernel_16672\\3493283761.py:1: DtypeWarning: Columns (44,46,51,53,99,325,366,439,453,459,464,466,501,507,512,514,519,521,530,532,569,571,580,599,766,771,773,779,784,789,794,798,800,804,809,811,813,816,818,827,829,849,866,868,877,896,906,941,964,1002,1014,1025,1063,1068,1070,1076,1081,1086,1091,1093,1095,1097,1099,1100,1126,1142,1149,1165,1168,1172,1173,1177,1178,1179,1180,1182,1183,1184,1187,1188,1190,1207,1212,1229,1232,1260,1262,1264,1266,1268,1271,1281,1283,1285,1291,1293,1297,1305,1306,1319,1321,1324,1326,1338,1340,1342,1343,1344,1350,1351,1352,1353,1465,1467,1468,1470,1486,1489,1492,1496,1513,1515,1516,1517,1523,1524,1525,1526,1580,1650,1653,1654) have mixed types. Specify dtype option on import or set low_memory=False.\n",
      "  df = pd.read_csv(r\"../../OriginalDataset/ImmiRiskIPT2022_DATA_2023-09-03_1503.csv\")\n"
     ]
    }
   ],
   "source": [
    "df = pd.read_csv(r\"../../OriginalDataset/ImmiRiskIPT2022_DATA_2023-09-03_1503.csv\")"
   ]
  },
  {
   "cell_type": "code",
   "execution_count": 3,
   "id": "3f345d73",
   "metadata": {},
   "outputs": [],
   "source": [
    "df = fix_wrong_record_id(df, year=2022)\n",
    "\n",
    "df = fill_id(df)\n",
    "\n",
    "df = remove_test_id(df)"
   ]
  },
  {
   "cell_type": "code",
   "execution_count": 4,
   "id": "4ed34a5f",
   "metadata": {},
   "outputs": [],
   "source": [
    "df['primary_key'] = df['id'].astype(str) + '_' + df['redcap_event_name'].astype(str)"
   ]
  },
  {
   "cell_type": "code",
   "execution_count": 9,
   "id": "eb929e4a",
   "metadata": {},
   "outputs": [
    {
     "name": "stdout",
     "output_type": "stream",
     "text": [
      "df.primary_key.nunique() = 2008\n",
      "df.shape = (2008, 1703)\n"
     ]
    }
   ],
   "source": [
    "print (f\"{df.primary_key.nunique() = }\\n{df.shape = }\")"
   ]
  },
  {
   "cell_type": "code",
   "execution_count": 10,
   "id": "6538fa57",
   "metadata": {},
   "outputs": [],
   "source": [
    "df.to_csv(\"redcap_data.csv\", index=False)"
   ]
  },
  {
   "cell_type": "code",
   "execution_count": null,
   "id": "4320e91a",
   "metadata": {},
   "outputs": [],
   "source": []
  }
 ],
 "metadata": {
  "kernelspec": {
   "display_name": "DeppClinic",
   "language": "python",
   "name": "deppclinic"
  },
  "language_info": {
   "codemirror_mode": {
    "name": "ipython",
    "version": 3
   },
   "file_extension": ".py",
   "mimetype": "text/x-python",
   "name": "python",
   "nbconvert_exporter": "python",
   "pygments_lexer": "ipython3",
   "version": "3.11.4"
  }
 },
 "nbformat": 4,
 "nbformat_minor": 5
}
