{
 "cells": [
  {
   "cell_type": "code",
   "execution_count": 1,
   "id": "ec2803dc",
   "metadata": {},
   "outputs": [],
   "source": [
    "import pandas as pd\n",
    "\n",
    "import sys\n",
    "sys.path.append(r\"../../\")\n",
    "\n",
    "from creating_the_clinic_dataset.step2_merge_2021_2022.utils import fix_wrong_record_id, fill_id, remove_test_id"
   ]
  },
  {
   "cell_type": "code",
   "execution_count": 2,
   "id": "c93da9c8",
   "metadata": {},
   "outputs": [
    {
     "name": "stderr",
     "output_type": "stream",
     "text": [
      "C:\\Users\\nogur\\AppData\\Local\\Temp\\ipykernel_9972\\307395390.py:1: DtypeWarning: Columns (1593) have mixed types. Specify dtype option on import or set low_memory=False.\n",
      "  df = pd.read_csv(r\"../../Data/OriginalDataset/Schneider Depression Clinic Database.csv\")\n"
     ]
    }
   ],
   "source": [
    "df = pd.read_csv(r\"../../Data/OriginalDataset/Schneider Depression Clinic Database.csv\")"
   ]
  },
  {
   "cell_type": "code",
   "execution_count": 3,
   "id": "3f345d73",
   "metadata": {},
   "outputs": [],
   "source": [
    "df = fix_wrong_record_id(df, year=2021)\n",
    "\n",
    "df = remove_test_id(df)"
   ]
  },
  {
   "cell_type": "markdown",
   "id": "a56c2dd3",
   "metadata": {},
   "source": [
    "## Adding columns that are in the old data and not in the redcap data"
   ]
  },
  {
   "cell_type": "code",
   "execution_count": 4,
   "id": "4ed34a5f",
   "metadata": {},
   "outputs": [],
   "source": [
    "df['primary_key'] = df['id'].astype(str) + '_' + df['redcap_event_name'].astype(str)"
   ]
  },
  {
   "cell_type": "code",
   "execution_count": 5,
   "id": "322f0be5",
   "metadata": {},
   "outputs": [],
   "source": [
    "rename = {'trqsfmarisclin_timestamp': 'trqsfmaris_clin_timestamp',\n",
    "          'trqsfmarisclin_complete': 'trqsfmaris_clin_complete',\n",
    "            'chameleon_complete_stu': 'chameleon_complete',\n",
    "         }\n",
    "\n",
    "\n",
    "\n",
    "df = df.rename(rename, axis=1)"
   ]
  },
  {
   "cell_type": "code",
   "execution_count": 6,
   "id": "eb929e4a",
   "metadata": {},
   "outputs": [
    {
     "name": "stdout",
     "output_type": "stream",
     "text": [
      "df.primary_key.nunique() = 1166\n",
      "df.shape = (1166, 1597)\n"
     ]
    }
   ],
   "source": [
    "print (f\"{df.primary_key.nunique() = }\\n{df.shape = }\")"
   ]
  },
  {
   "cell_type": "code",
   "execution_count": 7,
   "id": "6538fa57",
   "metadata": {},
   "outputs": [],
   "source": [
    "df.to_csv(r\"../../Data/Transferring_Data_to_PostgreSQL/old_data.csv\", index=False)"
   ]
  },
  {
   "cell_type": "code",
   "execution_count": null,
   "id": "4320e91a",
   "metadata": {},
   "outputs": [],
   "source": []
  }
 ],
 "metadata": {
  "kernelspec": {
   "display_name": "DeppClinic",
   "language": "python",
   "name": "deppclinic"
  },
  "language_info": {
   "codemirror_mode": {
    "name": "ipython",
    "version": 3
   },
   "file_extension": ".py",
   "mimetype": "text/x-python",
   "name": "python",
   "nbconvert_exporter": "python",
   "pygments_lexer": "ipython3",
   "version": "3.11.5"
  }
 },
 "nbformat": 4,
 "nbformat_minor": 5
}
