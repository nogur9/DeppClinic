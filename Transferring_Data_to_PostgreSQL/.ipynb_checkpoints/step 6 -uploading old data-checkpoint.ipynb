{
 "cells": [
  {
   "cell_type": "code",
   "execution_count": 1,
   "id": "8fc6f342",
   "metadata": {},
   "outputs": [],
   "source": [
    "import pandas as pd\n",
    "import psycopg2\n",
    "\n",
    "import os\n",
    "#os.getcwd()\n",
    "conn_str = \"dbname=postgres user=postgres password=asdf123\"\n"
   ]
  },
  {
   "cell_type": "code",
   "execution_count": 2,
   "id": "1fe2802a",
   "metadata": {},
   "outputs": [],
   "source": [
    "\n",
    "def get_all_table_names(conn_str):\n",
    "    conn = psycopg2.connect(conn_str)\n",
    "    sql = \"\"\"\n",
    "    SELECT table_name FROM INFORMATION_SCHEMA.TABLES\n",
    "    WHERE table_schema = N'old_data'\n",
    "    \"\"\"\n",
    "\n",
    "\n",
    "    questionnaire_columns = list(pd.read_sql_query(sql, conn).table_name)\n",
    "    conn.close()\n",
    "    return questionnaire_columns"
   ]
  },
  {
   "cell_type": "markdown",
   "id": "f2790095",
   "metadata": {},
   "source": [
    "## get column names"
   ]
  },
  {
   "cell_type": "code",
   "execution_count": 3,
   "id": "32378876",
   "metadata": {},
   "outputs": [],
   "source": [
    "def get_column_names(questionnaire_name, conn_str):\n",
    "    conn = psycopg2.connect(conn_str)\n",
    "    sql = \"\"\"\n",
    "    SELECT *\n",
    "    FROM INFORMATION_SCHEMA.COLUMNS\n",
    "    WHERE TABLE_NAME = N'{0}'\n",
    "    \"\"\".format(questionnaire_name)\n",
    "\n",
    "    questionnaire_columns = list(pd.read_sql_query(sql, conn).column_name)\n",
    "    conn.close()\n",
    "    return questionnaire_columns"
   ]
  },
  {
   "cell_type": "code",
   "execution_count": 4,
   "id": "a207e502",
   "metadata": {},
   "outputs": [],
   "source": [
    "def prepare_data(questionnaire_name, questionnaire_columns, old_data_df):\n",
    "    questionnaire_data = old_data_df[questionnaire_columns]\n",
    "\n",
    "    file_name = \"old_{0}_data.csv\".format(questionnaire_name)\n",
    "    path = r\"..\\Data\\old_data\\{0}\".format(file_name)\n",
    "    questionnaire_data.to_csv(path, index=False)\n",
    "    \n",
    "    # Change the file permissions\n",
    "    os.chmod(path, 0o777)\n",
    "    \n",
    "    return file_name\n"
   ]
  },
  {
   "cell_type": "code",
   "execution_count": 5,
   "id": "2002463e",
   "metadata": {},
   "outputs": [],
   "source": [
    "def upload_data(questionnaire_name, file_name, conn_str):\n",
    "    upload_data = \"\"\"\n",
    "    COPY old_data.{0}\n",
    "    FROM '/postgres_db/old_data/{1}'\n",
    "    DELIMITER ','\n",
    "    CSV HEADER;\n",
    "\n",
    "    \"\"\".format(questionnaire_name, file_name)\n",
    "\n",
    "\n",
    "    conn = psycopg2.connect(conn_str)\n",
    "    # Open a cursor to perform database operations\n",
    "    cur = conn.cursor()\n",
    "    # Execute a command: create datacamp_courses table\n",
    "    cur.execute(upload_data)\n",
    "    \n",
    "    \n",
    "    # Make the changes to the database persistent\n",
    "    conn.commit()\n",
    "\n",
    "    # Close cursor and communication with the database\n",
    "    cur.close()\n",
    "    conn.close()"
   ]
  },
  {
   "cell_type": "code",
   "execution_count": 6,
   "id": "831149ee",
   "metadata": {},
   "outputs": [
    {
     "name": "stderr",
     "output_type": "stream",
     "text": [
      "C:\\Users\\nogur\\anaconda3\\envs\\DeppClinic\\lib\\site-packages\\IPython\\core\\interactiveshell.py:3444: DtypeWarning: Columns (44,46,51,53,99,325,366,439,453,459,464,466,501,507,512,514,519,521,530,532,569,571,580,599,766,771,773,779,784,789,794,798,800,804,809,811,813,816,818,827,829,849,866,868,877,896,906,941,964,1002,1014,1025,1063,1068,1070,1076,1081,1086,1091,1093,1095,1097,1099,1100,1126,1142,1149,1165,1168,1172,1173,1177,1178,1179,1180,1182,1183,1184,1187,1188,1190,1207,1212,1229,1232,1260,1262,1264,1266,1268,1271,1281,1283,1285,1291,1293,1297,1305,1306,1319,1321,1324,1326,1338,1340,1342,1343,1344,1350,1351,1352,1353,1465,1467,1468,1470,1486,1489,1492,1496,1513,1515,1516,1517,1523,1524,1525,1526,1580,1650,1653,1654) have mixed types.Specify dtype option on import or set low_memory=False.\n",
      "  exec(code_obj, self.user_global_ns, self.user_ns)\n"
     ]
    }
   ],
   "source": [
    "old_data_df = pd.read_csv(r\"insert_original_data\\old_data.csv\")\n",
    "table_names = get_all_table_names()\n"
   ]
  },
  {
   "cell_type": "markdown",
   "id": "e07731da",
   "metadata": {},
   "source": [
    "## Prepare the needed table"
   ]
  },
  {
   "cell_type": "code",
   "execution_count": 7,
   "id": "f135062c",
   "metadata": {},
   "outputs": [],
   "source": [
    "\n",
    "for questionnaire_name in table_names:\n",
    "\n",
    "    questionnaire_columns = get_column_names(questionnaire_name)\n",
    "    file_name = prepare_data(questionnaire_name, questionnaire_columns, old_data_df)\n",
    "    upload_data(questionnaire_name, file_name)\n"
   ]
  },
  {
   "cell_type": "code",
   "execution_count": null,
   "id": "4d50a915",
   "metadata": {},
   "outputs": [],
   "source": []
  }
 ],
 "metadata": {
  "kernelspec": {
   "display_name": "DeppClinic",
   "language": "python",
   "name": "deppclinic"
  },
  "language_info": {
   "codemirror_mode": {
    "name": "ipython",
    "version": 3
   },
   "file_extension": ".py",
   "mimetype": "text/x-python",
   "name": "python",
   "nbconvert_exporter": "python",
   "pygments_lexer": "ipython3",
   "version": "3.9.7"
  }
 },
 "nbformat": 4,
 "nbformat_minor": 5
}
