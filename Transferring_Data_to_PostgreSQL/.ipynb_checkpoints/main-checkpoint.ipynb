{
 "cells": [
  {
   "cell_type": "code",
   "execution_count": null,
   "id": "a72e962f",
   "metadata": {},
   "outputs": [],
   "source": [
    "import pandas as pd\n",
    "import psycopg2\n",
    "\n",
    "from step3_creating_empty_tables_of_redcap_data import creating_empty_redcap_data_tables\n",
    "from step5_creating_empty_tables_old_data import creating_empty_old_data_tables\n",
    "\n",
    "conn_str = \"dbname=postgres user=postgres password=asdf123\"\n"
   ]
  },
  {
   "cell_type": "markdown",
   "id": "5992e167",
   "metadata": {},
   "source": [
    "## Step 1 - create sql database"
   ]
  },
  {
   "cell_type": "code",
   "execution_count": null,
   "id": "08907589",
   "metadata": {},
   "outputs": [],
   "source": [
    "f = open(\"create sql database - step 1\", \"r\")\n",
    "prompt = f.read()\n",
    "\n",
    "conn = psycopg2.connect(conn_str)\n",
    "cur = conn.cursor()\n",
    "cur.execute(prompt)\n",
    "conn.commit()\n",
    "cur.close()\n",
    "conn.close()"
   ]
  },
  {
   "cell_type": "markdown",
   "id": "d7812e52",
   "metadata": {},
   "source": [
    "## Step 2 - create auxiliary_questionnaires_data & Redcap data columns"
   ]
  },
  {
   "cell_type": "code",
   "execution_count": null,
   "id": "5ec1d62b",
   "metadata": {},
   "outputs": [],
   "source": [
    "f = open(\"create sql database - step 2 auxiliary_questionnaires_data\", \"r\")\n",
    "prompt = f.read()\n",
    "\n",
    "conn = psycopg2.connect(conn_str)\n",
    "cur = conn.cursor()\n",
    "cur.execute(prompt)\n",
    "conn.commit()\n",
    "cur.close()\n",
    "conn.close()"
   ]
  },
  {
   "cell_type": "markdown",
   "id": "047990a0",
   "metadata": {},
   "source": [
    "## Step 3 - create empty redcap tables"
   ]
  },
  {
   "cell_type": "code",
   "execution_count": null,
   "id": "5fe061e5",
   "metadata": {},
   "outputs": [],
   "source": [
    "creating_empty_redcap_data_tables(conn_str)"
   ]
  },
  {
   "cell_type": "markdown",
   "id": "26b36c8d",
   "metadata": {},
   "source": [
    "## Step 4 - create auxiliary_questionnaires_data - Old data columns"
   ]
  },
  {
   "cell_type": "code",
   "execution_count": null,
   "id": "7202b20f",
   "metadata": {},
   "outputs": [],
   "source": [
    "f = open(\"create sql database - step 4 old data\", \"r\")\n",
    "prompt = f.read()\n",
    "\n",
    "conn = psycopg2.connect(conn_str)\n",
    "cur = conn.cursor()\n",
    "cur.execute(prompt)\n",
    "conn.commit()\n",
    "cur.close()\n",
    "conn.close()"
   ]
  },
  {
   "cell_type": "markdown",
   "id": "d2ffbab2",
   "metadata": {},
   "source": [
    "## Step 5 - create empty old data tables"
   ]
  },
  {
   "cell_type": "code",
   "execution_count": null,
   "id": "01fca2e5",
   "metadata": {},
   "outputs": [],
   "source": [
    "creating_empty_old_data_tables(conn_str)"
   ]
  }
 ],
 "metadata": {
  "kernelspec": {
   "display_name": "DeppClinic",
   "language": "python",
   "name": "deppclinic"
  },
  "language_info": {
   "codemirror_mode": {
    "name": "ipython",
    "version": 3
   },
   "file_extension": ".py",
   "mimetype": "text/x-python",
   "name": "python",
   "nbconvert_exporter": "python",
   "pygments_lexer": "ipython3",
   "version": "3.9.7"
  }
 },
 "nbformat": 4,
 "nbformat_minor": 5
}
