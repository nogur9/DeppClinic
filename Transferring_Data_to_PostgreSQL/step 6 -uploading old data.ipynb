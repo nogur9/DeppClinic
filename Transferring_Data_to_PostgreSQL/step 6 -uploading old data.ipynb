{
 "cells": [
  {
   "cell_type": "code",
   "execution_count": 1,
   "id": "8fc6f342",
   "metadata": {},
   "outputs": [],
   "source": [
    "import pandas as pd\n",
    "import psycopg2\n",
    "\n",
    "import os\n",
    "#os.getcwd()\n",
    "conn_str = \"dbname=postgres user=postgres password=asdf123\"\n"
   ]
  },
  {
   "cell_type": "code",
   "execution_count": 2,
   "id": "1fe2802a",
   "metadata": {},
   "outputs": [],
   "source": [
    "\n",
    "def get_all_table_names(conn_str):\n",
    "    conn = psycopg2.connect(conn_str)\n",
    "    sql = \"\"\"\n",
    "    SELECT table_name FROM INFORMATION_SCHEMA.TABLES\n",
    "    WHERE table_schema = N'old_data'\n",
    "    \"\"\"\n",
    "\n",
    "\n",
    "    questionnaire_columns = list(pd.read_sql_query(sql, conn).table_name)\n",
    "    conn.close()\n",
    "    return questionnaire_columns"
   ]
  },
  {
   "cell_type": "markdown",
   "id": "f2790095",
   "metadata": {},
   "source": [
    "## get column names"
   ]
  },
  {
   "cell_type": "code",
   "execution_count": 3,
   "id": "32378876",
   "metadata": {},
   "outputs": [],
   "source": [
    "def get_column_names(questionnaire_name, conn_str):\n",
    "    conn = psycopg2.connect(conn_str)\n",
    "    sql = \"\"\"\n",
    "    SELECT *\n",
    "    FROM INFORMATION_SCHEMA.COLUMNS\n",
    "    WHERE TABLE_NAME = N'{0}'\n",
    "    \"\"\".format(questionnaire_name)\n",
    "\n",
    "    questionnaire_columns = list(pd.read_sql_query(sql, conn).column_name)\n",
    "    conn.close()\n",
    "    return questionnaire_columns"
   ]
  },
  {
   "cell_type": "code",
   "execution_count": 4,
   "id": "a207e502",
   "metadata": {},
   "outputs": [],
   "source": [
    "def prepare_data(questionnaire_name, questionnaire_columns, old_data_df):\n",
    "    questionnaire_data = old_data_df[questionnaire_columns]\n",
    "\n",
    "    file_name = \"old_{0}_data.csv\".format(questionnaire_name)\n",
    "    path = r\"..\\Data\\postgres_db\\old_data\\{0}\".format(file_name)\n",
    "    questionnaire_data.to_csv(path, index=False)\n",
    "    \n",
    "    # Change the file permissions\n",
    "    os.chmod(path, 0o777)\n",
    "    \n",
    "    return file_name\n"
   ]
  },
  {
   "cell_type": "code",
   "execution_count": 5,
   "id": "2002463e",
   "metadata": {},
   "outputs": [],
   "source": [
    "def upload_data(questionnaire_name, file_name, conn_str):\n",
    "    upload_data = \"\"\"\n",
    "    COPY old_data.{0}\n",
    "    FROM '/postgres_db/old_data/{1}'\n",
    "    DELIMITER ','\n",
    "    CSV HEADER;\n",
    "\n",
    "    \"\"\".format(questionnaire_name, file_name)\n",
    "\n",
    "\n",
    "    conn = psycopg2.connect(conn_str)\n",
    "    # Open a cursor to perform database operations\n",
    "    cur = conn.cursor()\n",
    "    # Execute a command: create datacamp_courses table\n",
    "    cur.execute(upload_data)\n",
    "    \n",
    "    \n",
    "    # Make the changes to the database persistent\n",
    "    conn.commit()\n",
    "\n",
    "    # Close cursor and communication with the database\n",
    "    cur.close()\n",
    "    conn.close()"
   ]
  },
  {
   "cell_type": "code",
   "execution_count": 6,
   "id": "831149ee",
   "metadata": {},
   "outputs": [
    {
     "name": "stderr",
     "output_type": "stream",
     "text": [
      "C:\\Users\\nogur\\anaconda3\\envs\\DeppClinic\\lib\\site-packages\\IPython\\core\\interactiveshell.py:3444: DtypeWarning: Columns (1593) have mixed types.Specify dtype option on import or set low_memory=False.\n",
      "  exec(code_obj, self.user_global_ns, self.user_ns)\n"
     ]
    }
   ],
   "source": [
    "old_data_df = pd.read_csv(r\"..\\Data\\Transferring_Data_to_PostgreSQL\\old_data.csv\")\n",
    "table_names = get_all_table_names(conn_str)\n"
   ]
  },
  {
   "cell_type": "markdown",
   "id": "e07731da",
   "metadata": {},
   "source": [
    "## Prepare the needed table"
   ]
  },
  {
   "cell_type": "code",
   "execution_count": 7,
   "id": "f135062c",
   "metadata": {},
   "outputs": [
    {
     "ename": "UndefinedFile",
     "evalue": "could not open file \"/postgres_db/old_data/old_c_ssrs_intake_data.csv\" for reading: No such file or directory\nHINT:  COPY FROM instructs the PostgreSQL server process to read a file. You may want a client-side facility such as psql's \\copy.\n",
     "output_type": "error",
     "traceback": [
      "\u001b[1;31m---------------------------------------------------------------------------\u001b[0m",
      "\u001b[1;31mUndefinedFile\u001b[0m                             Traceback (most recent call last)",
      "\u001b[1;32m~\\AppData\\Local\\Temp\\ipykernel_1244\\2160404540.py\u001b[0m in \u001b[0;36m<module>\u001b[1;34m\u001b[0m\n\u001b[0;32m      3\u001b[0m     \u001b[0mquestionnaire_columns\u001b[0m \u001b[1;33m=\u001b[0m \u001b[0mget_column_names\u001b[0m\u001b[1;33m(\u001b[0m\u001b[0mquestionnaire_name\u001b[0m\u001b[1;33m,\u001b[0m \u001b[0mconn_str\u001b[0m\u001b[1;33m)\u001b[0m\u001b[1;33m\u001b[0m\u001b[1;33m\u001b[0m\u001b[0m\n\u001b[0;32m      4\u001b[0m     \u001b[0mfile_name\u001b[0m \u001b[1;33m=\u001b[0m \u001b[0mprepare_data\u001b[0m\u001b[1;33m(\u001b[0m\u001b[0mquestionnaire_name\u001b[0m\u001b[1;33m,\u001b[0m \u001b[0mquestionnaire_columns\u001b[0m\u001b[1;33m,\u001b[0m \u001b[0mold_data_df\u001b[0m\u001b[1;33m)\u001b[0m\u001b[1;33m\u001b[0m\u001b[1;33m\u001b[0m\u001b[0m\n\u001b[1;32m----> 5\u001b[1;33m     \u001b[0mupload_data\u001b[0m\u001b[1;33m(\u001b[0m\u001b[0mquestionnaire_name\u001b[0m\u001b[1;33m,\u001b[0m \u001b[0mfile_name\u001b[0m\u001b[1;33m,\u001b[0m \u001b[0mconn_str\u001b[0m\u001b[1;33m)\u001b[0m\u001b[1;33m\u001b[0m\u001b[1;33m\u001b[0m\u001b[0m\n\u001b[0m\u001b[0;32m      6\u001b[0m     \u001b[0mprint\u001b[0m\u001b[1;33m(\u001b[0m\u001b[0mquestionnaire_name\u001b[0m\u001b[1;33m)\u001b[0m\u001b[1;33m\u001b[0m\u001b[1;33m\u001b[0m\u001b[0m\n",
      "\u001b[1;32m~\\AppData\\Local\\Temp\\ipykernel_1244\\3234906901.py\u001b[0m in \u001b[0;36mupload_data\u001b[1;34m(questionnaire_name, file_name, conn_str)\u001b[0m\n\u001b[0;32m     13\u001b[0m     \u001b[0mcur\u001b[0m \u001b[1;33m=\u001b[0m \u001b[0mconn\u001b[0m\u001b[1;33m.\u001b[0m\u001b[0mcursor\u001b[0m\u001b[1;33m(\u001b[0m\u001b[1;33m)\u001b[0m\u001b[1;33m\u001b[0m\u001b[1;33m\u001b[0m\u001b[0m\n\u001b[0;32m     14\u001b[0m     \u001b[1;31m# Execute a command: create datacamp_courses table\u001b[0m\u001b[1;33m\u001b[0m\u001b[1;33m\u001b[0m\u001b[0m\n\u001b[1;32m---> 15\u001b[1;33m     \u001b[0mcur\u001b[0m\u001b[1;33m.\u001b[0m\u001b[0mexecute\u001b[0m\u001b[1;33m(\u001b[0m\u001b[0mupload_data\u001b[0m\u001b[1;33m)\u001b[0m\u001b[1;33m\u001b[0m\u001b[1;33m\u001b[0m\u001b[0m\n\u001b[0m\u001b[0;32m     16\u001b[0m \u001b[1;33m\u001b[0m\u001b[0m\n\u001b[0;32m     17\u001b[0m \u001b[1;33m\u001b[0m\u001b[0m\n",
      "\u001b[1;31mUndefinedFile\u001b[0m: could not open file \"/postgres_db/old_data/old_c_ssrs_intake_data.csv\" for reading: No such file or directory\nHINT:  COPY FROM instructs the PostgreSQL server process to read a file. You may want a client-side facility such as psql's \\copy.\n"
     ]
    }
   ],
   "source": [
    "\n",
    "for questionnaire_name in table_names:\n",
    "\n",
    "    questionnaire_columns = get_column_names(questionnaire_name, conn_str)\n",
    "    file_name = prepare_data(questionnaire_name, questionnaire_columns, old_data_df)\n",
    "    upload_data(questionnaire_name, file_name, conn_str)\n",
    "    print(questionnaire_name)\n"
   ]
  },
  {
   "cell_type": "code",
   "execution_count": null,
   "id": "4d50a915",
   "metadata": {},
   "outputs": [],
   "source": [
    "table_names"
   ]
  },
  {
   "cell_type": "code",
   "execution_count": null,
   "id": "0759d5ef",
   "metadata": {},
   "outputs": [],
   "source": []
  }
 ],
 "metadata": {
  "kernelspec": {
   "display_name": "DeppClinic",
   "language": "python",
   "name": "deppclinic"
  },
  "language_info": {
   "codemirror_mode": {
    "name": "ipython",
    "version": 3
   },
   "file_extension": ".py",
   "mimetype": "text/x-python",
   "name": "python",
   "nbconvert_exporter": "python",
   "pygments_lexer": "ipython3",
   "version": "3.9.7"
  }
 },
 "nbformat": 4,
 "nbformat_minor": 5
}
