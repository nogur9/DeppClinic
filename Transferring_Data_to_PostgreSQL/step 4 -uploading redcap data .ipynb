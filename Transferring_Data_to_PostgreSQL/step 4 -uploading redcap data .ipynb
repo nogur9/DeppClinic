{
 "cells": [
  {
   "cell_type": "code",
   "execution_count": 1,
   "id": "8fc6f342",
   "metadata": {},
   "outputs": [
    {
     "data": {
      "text/plain": [
       "'C:\\\\Users\\\\nogur\\\\Documents\\\\DeppClinic\\\\Transferring_Data_to_PostgreSQL'"
      ]
     },
     "execution_count": 1,
     "metadata": {},
     "output_type": "execute_result"
    }
   ],
   "source": [
    "import pandas as pd\n",
    "import psycopg2\n",
    "\n",
    "import os\n",
    "os.getcwd()"
   ]
  },
  {
   "cell_type": "code",
   "execution_count": 2,
   "id": "1fe2802a",
   "metadata": {},
   "outputs": [],
   "source": [
    "conn_str = \"dbname=postgres user=postgres password=asdf123\"\n",
    "\n",
    "\n",
    "def get_all_table_names(conn_str):\n",
    "    conn = psycopg2.connect(conn_str)\n",
    "    sql = \"\"\"\n",
    "    SELECT table_name FROM INFORMATION_SCHEMA.TABLES\n",
    "    WHERE table_schema = N'redcap_data'\n",
    "    \"\"\"\n",
    "\n",
    "\n",
    "    questionnaire_columns = list(pd.read_sql_query(sql, conn).table_name)\n",
    "    conn.close()\n",
    "    return questionnaire_columns"
   ]
  },
  {
   "cell_type": "markdown",
   "id": "f2790095",
   "metadata": {},
   "source": [
    "## get column names"
   ]
  },
  {
   "cell_type": "code",
   "execution_count": 3,
   "id": "32378876",
   "metadata": {},
   "outputs": [],
   "source": [
    "def get_column_names(questionnaire_name, conn_str):\n",
    "    conn = psycopg2.connect(conn_str)\n",
    "    sql = \"\"\"\n",
    "    SELECT *\n",
    "    FROM INFORMATION_SCHEMA.COLUMNS\n",
    "    WHERE TABLE_NAME = N'{0}'\n",
    "    \"\"\".format(questionnaire_name)\n",
    "\n",
    "\n",
    "    questionnaire_columns = list(pd.read_sql_query(sql, conn).column_name)\n",
    "    conn.close()\n",
    "    return questionnaire_columns"
   ]
  },
  {
   "cell_type": "code",
   "execution_count": 4,
   "id": "a207e502",
   "metadata": {},
   "outputs": [],
   "source": [
    "def prepare_data(questionnaire_name, questionnaire_columns):\n",
    "    questionnaire_data = redcap_df[questionnaire_columns]\n",
    "\n",
    "    file_name = \"redcap_{0}_data.csv\".format(questionnaire_name)\n",
    "    path = r\"Data\\postgres_db\\redcap_data\\{0}\".format(file_name)\n",
    "    questionnaire_data.to_csv(path, index=False)\n",
    "    \n",
    "    \n",
    "    # Change the file permissions\n",
    "    os.chmod(path, 0o0777)\n",
    "    \n",
    "    return path\n"
   ]
  },
  {
   "cell_type": "code",
   "execution_count": 26,
   "id": "2002463e",
   "metadata": {},
   "outputs": [],
   "source": [
    "def upload_data(questionnaire_name, file_name, conn_str):\n",
    "    upload_data_cmd = \"\"\"\n",
    "    COPY redcap_data.{0}\n",
    "    FROM '{1}'\n",
    "    DELIMITER ','\n",
    "    CSV HEADER;\n",
    "\n",
    "    \"\"\".format(questionnaire_name, file_name)\n",
    "\n",
    "    print(upload_data_cmd)\n",
    "    conn = psycopg2.connect(conn_str)\n",
    "    # Open a cursor to perform database operations\n",
    "    cur = conn.cursor()\n",
    "    # Execute a command: create datacamp_courses table\n",
    "    cur.execute(upload_data_cmd)\n",
    "    \n",
    "    \n",
    "    # Make the changes to the database persistent\n",
    "    conn.commit()\n",
    "\n",
    "    # Close cursor and communication with the database\n",
    "    cur.close()\n",
    "    conn.close()"
   ]
  },
  {
   "cell_type": "code",
   "execution_count": 27,
   "id": "831149ee",
   "metadata": {},
   "outputs": [],
   "source": [
    "os.chdir(\"..\")\n",
    "redcap_df = pd.read_csv(r\"Data\\Transferring_Data_to_PostgreSQL\\redcap_data.csv\")\n",
    "table_names = get_all_table_names(conn_str)\n"
   ]
  },
  {
   "cell_type": "markdown",
   "id": "e07731da",
   "metadata": {},
   "source": [
    "## Prepare the needed table"
   ]
  },
  {
   "cell_type": "code",
   "execution_count": 28,
   "id": "740eff3c",
   "metadata": {},
   "outputs": [
    {
     "data": {
      "text/plain": [
       "'C:\\\\Users\\\\nogur\\\\Documents\\\\DeppClinic\\\\Transferring_Data_to_PostgreSQL\\\\redcap_sci_af_ca_data.csv'"
      ]
     },
     "execution_count": 28,
     "metadata": {},
     "output_type": "execute_result"
    }
   ],
   "source": [
    "file_name"
   ]
  },
  {
   "cell_type": "code",
   "execution_count": 29,
   "id": "f135062c",
   "metadata": {},
   "outputs": [
    {
     "name": "stdout",
     "output_type": "stream",
     "text": [
      "sci_af_ca\n",
      "\n",
      "    COPY redcap_data.sci_af_ca\n",
      "    FROM 'C:\\Users\\nogur\\Documents\\DeppClinic\\Transferring_Data_to_PostgreSQL\\redcap_sci_af_ca_data.csv'\n",
      "    DELIMITER ','\n",
      "    CSV HEADER;\n",
      "\n",
      "    \n"
     ]
    },
    {
     "ename": "BadCopyFileFormat",
     "evalue": "extra data after last expected column\nCONTEXT:  COPY sci_af_ca, line 2: \"G8120_intake_arm_1,,,,,,,,,,,,,,,,,,,,,,,,,,,,,,,,,,,,,,,,,,G8120_intake_arm_1,,,,,,,,,,,,,,,,,,,,,,...\"\n",
     "output_type": "error",
     "traceback": [
      "\u001b[1;31m---------------------------------------------------------------------------\u001b[0m",
      "\u001b[1;31mBadCopyFileFormat\u001b[0m                         Traceback (most recent call last)",
      "\u001b[1;32m~\\AppData\\Local\\Temp\\ipykernel_11140\\2094580250.py\u001b[0m in \u001b[0;36m<module>\u001b[1;34m\u001b[0m\n\u001b[0;32m      4\u001b[0m     \u001b[1;31m#file_name = prepare_data(questionnaire_name, questionnaire_columns)\u001b[0m\u001b[1;33m\u001b[0m\u001b[1;33m\u001b[0m\u001b[0m\n\u001b[0;32m      5\u001b[0m     \u001b[0mfile_name\u001b[0m \u001b[1;33m=\u001b[0m \u001b[1;34mr\"{0}\\redcap_sci_af_ca_data.csv\"\u001b[0m\u001b[1;33m.\u001b[0m\u001b[0mformat\u001b[0m\u001b[1;33m(\u001b[0m\u001b[0mos\u001b[0m\u001b[1;33m.\u001b[0m\u001b[0mgetcwd\u001b[0m\u001b[1;33m(\u001b[0m\u001b[1;33m)\u001b[0m\u001b[1;33m)\u001b[0m\u001b[1;31m#r\"Documents\\DeppClinic\\Transferring_Data_to_PostgreSQL\\redcap_sci_af_ca_data.csv\"\u001b[0m\u001b[1;33m\u001b[0m\u001b[1;33m\u001b[0m\u001b[0m\n\u001b[1;32m----> 6\u001b[1;33m     \u001b[0mupload_data\u001b[0m\u001b[1;33m(\u001b[0m\u001b[0mquestionnaire_name\u001b[0m\u001b[1;33m,\u001b[0m \u001b[0mfile_name\u001b[0m\u001b[1;33m,\u001b[0m \u001b[0mconn_str\u001b[0m\u001b[1;33m)\u001b[0m\u001b[1;33m\u001b[0m\u001b[1;33m\u001b[0m\u001b[0m\n\u001b[0m",
      "\u001b[1;32m~\\AppData\\Local\\Temp\\ipykernel_11140\\3325449826.py\u001b[0m in \u001b[0;36mupload_data\u001b[1;34m(questionnaire_name, file_name, conn_str)\u001b[0m\n\u001b[0;32m     13\u001b[0m     \u001b[0mcur\u001b[0m \u001b[1;33m=\u001b[0m \u001b[0mconn\u001b[0m\u001b[1;33m.\u001b[0m\u001b[0mcursor\u001b[0m\u001b[1;33m(\u001b[0m\u001b[1;33m)\u001b[0m\u001b[1;33m\u001b[0m\u001b[1;33m\u001b[0m\u001b[0m\n\u001b[0;32m     14\u001b[0m     \u001b[1;31m# Execute a command: create datacamp_courses table\u001b[0m\u001b[1;33m\u001b[0m\u001b[1;33m\u001b[0m\u001b[0m\n\u001b[1;32m---> 15\u001b[1;33m     \u001b[0mcur\u001b[0m\u001b[1;33m.\u001b[0m\u001b[0mexecute\u001b[0m\u001b[1;33m(\u001b[0m\u001b[0mupload_data_cmd\u001b[0m\u001b[1;33m)\u001b[0m\u001b[1;33m\u001b[0m\u001b[1;33m\u001b[0m\u001b[0m\n\u001b[0m\u001b[0;32m     16\u001b[0m \u001b[1;33m\u001b[0m\u001b[0m\n\u001b[0;32m     17\u001b[0m \u001b[1;33m\u001b[0m\u001b[0m\n",
      "\u001b[1;31mBadCopyFileFormat\u001b[0m: extra data after last expected column\nCONTEXT:  COPY sci_af_ca, line 2: \"G8120_intake_arm_1,,,,,,,,,,,,,,,,,,,,,,,,,,,,,,,,,,,,,,,,,,G8120_intake_arm_1,,,,,,,,,,,,,,,,,,,,,,...\"\n"
     ]
    }
   ],
   "source": [
    "\n",
    "for questionnaire_name in table_names:\n",
    "    print(questionnaire_name)\n",
    "    questionnaire_columns = get_column_names(questionnaire_name, conn_str)\n",
    "    #file_name = prepare_data(questionnaire_name, questionnaire_columns)\n",
    "    file_name = r\"{0}\\Data\\postgres_db\\redcap_data\\redcap_sci_af_ca_data.csv\".format(os.getcwd())#r\"Documents\\DeppClinic\\Transferring_Data_to_PostgreSQL\\redcap_sci_af_ca_data.csv\"\n",
    "    upload_data(questionnaire_name, file_name, conn_str)\n"
   ]
  },
  {
   "cell_type": "code",
   "execution_count": 31,
   "id": "206b1fdd",
   "metadata": {},
   "outputs": [],
   "source": [
    "? os.getcwd"
   ]
  },
  {
   "cell_type": "code",
   "execution_count": null,
   "id": "e4074837",
   "metadata": {},
   "outputs": [],
   "source": []
  }
 ],
 "metadata": {
  "kernelspec": {
   "display_name": "DeppClinic",
   "language": "python",
   "name": "deppclinic"
  },
  "language_info": {
   "codemirror_mode": {
    "name": "ipython",
    "version": 3
   },
   "file_extension": ".py",
   "mimetype": "text/x-python",
   "name": "python",
   "nbconvert_exporter": "python",
   "pygments_lexer": "ipython3",
   "version": "3.9.7"
  }
 },
 "nbformat": 4,
 "nbformat_minor": 5
}
