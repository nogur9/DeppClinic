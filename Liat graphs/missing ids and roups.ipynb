{
 "cells": [
  {
   "cell_type": "code",
   "execution_count": 1,
   "id": "af49dcb5",
   "metadata": {},
   "outputs": [],
   "source": [
    "import pandas as pd"
   ]
  },
  {
   "cell_type": "code",
   "execution_count": 7,
   "id": "314dea3d",
   "metadata": {},
   "outputs": [],
   "source": [
    "df = pd.read_excel(\"data/master.xlsx\")"
   ]
  },
  {
   "cell_type": "code",
   "execution_count": 8,
   "id": "1f205a1e",
   "metadata": {},
   "outputs": [],
   "source": [
    "invalid_df = pd.read_csv(\"data/id_invalid_group.csv\")"
   ]
  },
  {
   "cell_type": "code",
   "execution_count": 25,
   "id": "70d66591",
   "metadata": {},
   "outputs": [
    {
     "data": {
      "text/html": [
       "<div>\n",
       "<style scoped>\n",
       "    .dataframe tbody tr th:only-of-type {\n",
       "        vertical-align: middle;\n",
       "    }\n",
       "\n",
       "    .dataframe tbody tr th {\n",
       "        vertical-align: top;\n",
       "    }\n",
       "\n",
       "    .dataframe thead th {\n",
       "        text-align: right;\n",
       "    }\n",
       "</style>\n",
       "<table border=\"1\" class=\"dataframe\">\n",
       "  <thead>\n",
       "    <tr style=\"text-align: right;\">\n",
       "      <th></th>\n",
       "      <th>id</th>\n",
       "      <th>status</th>\n",
       "      <th>group</th>\n",
       "    </tr>\n",
       "  </thead>\n",
       "  <tbody>\n",
       "    <tr>\n",
       "      <th>87</th>\n",
       "      <td>A6869</td>\n",
       "      <td>במהלך טיפול פסיכו במרפאה</td>\n",
       "      <td>TAU</td>\n",
       "    </tr>\n",
       "    <tr>\n",
       "      <th>92</th>\n",
       "      <td>N1651</td>\n",
       "      <td>סרב לטיפול</td>\n",
       "      <td>IPT מקוצר</td>\n",
       "    </tr>\n",
       "    <tr>\n",
       "      <th>102</th>\n",
       "      <td>L1833</td>\n",
       "      <td>סיים טיפול פסיכו</td>\n",
       "      <td>IPT מקוצר</td>\n",
       "    </tr>\n",
       "    <tr>\n",
       "      <th>104</th>\n",
       "      <td>S6551</td>\n",
       "      <td>סרב לטיפול</td>\n",
       "      <td>IPT מקוצר</td>\n",
       "    </tr>\n",
       "    <tr>\n",
       "      <th>115</th>\n",
       "      <td>L5494</td>\n",
       "      <td>סיים טיפול פסיכו</td>\n",
       "      <td>IPT מקוצר</td>\n",
       "    </tr>\n",
       "    <tr>\n",
       "      <th>123</th>\n",
       "      <td>A0120</td>\n",
       "      <td>סיים טיפול פסיכו</td>\n",
       "      <td>IPT מקוצר</td>\n",
       "    </tr>\n",
       "    <tr>\n",
       "      <th>137</th>\n",
       "      <td>Z7237</td>\n",
       "      <td>סיים טיפול פסיכו</td>\n",
       "      <td>IPT מקוצר</td>\n",
       "    </tr>\n",
       "    <tr>\n",
       "      <th>145</th>\n",
       "      <td>Y4963</td>\n",
       "      <td>סיים טיפול פסיכו</td>\n",
       "      <td>IPT מקוצר</td>\n",
       "    </tr>\n",
       "    <tr>\n",
       "      <th>146</th>\n",
       "      <td>T8437</td>\n",
       "      <td>סיים טיפול פסיכו</td>\n",
       "      <td>IPT מקוצר</td>\n",
       "    </tr>\n",
       "    <tr>\n",
       "      <th>174</th>\n",
       "      <td>L5416</td>\n",
       "      <td>סיים טיפול פסיכו</td>\n",
       "      <td>IPT מקוצר</td>\n",
       "    </tr>\n",
       "    <tr>\n",
       "      <th>190</th>\n",
       "      <td>R9638</td>\n",
       "      <td>סיים טיפול פסיכו</td>\n",
       "      <td>IPT מקוצר</td>\n",
       "    </tr>\n",
       "    <tr>\n",
       "      <th>204</th>\n",
       "      <td>O0206</td>\n",
       "      <td>סיים טיפול פסיכו</td>\n",
       "      <td>IPT מקוצר</td>\n",
       "    </tr>\n",
       "    <tr>\n",
       "      <th>284</th>\n",
       "      <td>O4497</td>\n",
       "      <td>סיים טיפול פסיכו</td>\n",
       "      <td>IPT מקוצר</td>\n",
       "    </tr>\n",
       "    <tr>\n",
       "      <th>374</th>\n",
       "      <td>S9728</td>\n",
       "      <td>סיים טיפול פסיכו</td>\n",
       "      <td>IPT מקוצר</td>\n",
       "    </tr>\n",
       "  </tbody>\n",
       "</table>\n",
       "</div>"
      ],
      "text/plain": [
       "        id                    status      group\n",
       "87   A6869  במהלך טיפול פסיכו במרפאה        TAU\n",
       "92   N1651                סרב לטיפול  IPT מקוצר\n",
       "102  L1833          סיים טיפול פסיכו  IPT מקוצר\n",
       "104  S6551                סרב לטיפול  IPT מקוצר\n",
       "115  L5494          סיים טיפול פסיכו  IPT מקוצר\n",
       "123  A0120          סיים טיפול פסיכו  IPT מקוצר\n",
       "137  Z7237          סיים טיפול פסיכו  IPT מקוצר\n",
       "145  Y4963          סיים טיפול פסיכו  IPT מקוצר\n",
       "146  T8437          סיים טיפול פסיכו  IPT מקוצר\n",
       "174  L5416          סיים טיפול פסיכו  IPT מקוצר\n",
       "190  R9638          סיים טיפול פסיכו  IPT מקוצר\n",
       "204  O0206          סיים טיפול פסיכו  IPT מקוצר\n",
       "284  O4497          סיים טיפול פסיכו  IPT מקוצר\n",
       "374  S9728          סיים טיפול פסיכו  IPT מקוצר"
      ]
     },
     "execution_count": 25,
     "metadata": {},
     "output_type": "execute_result"
    }
   ],
   "source": [
    "ids = df[df.id.isin(invalid_df.id)]\n",
    "ids = ids[~ ids.group.isna()]\n",
    "ids"
   ]
  },
  {
   "cell_type": "code",
   "execution_count": 19,
   "id": "2b393e3d",
   "metadata": {},
   "outputs": [],
   "source": [
    "invalid_df[(~invalid_df.id.isin(df.id))]['id'].to_excel(\"id missing from master.xlsx\", index=False)"
   ]
  },
  {
   "cell_type": "code",
   "execution_count": 22,
   "id": "4cb72039",
   "metadata": {},
   "outputs": [],
   "source": [
    "group_names = {\n",
    "    'IPT מקוצר': 'ipt', # חירום\n",
    "    'TAU' : 'tau', # רגיל\n",
    "}"
   ]
  },
  {
   "cell_type": "code",
   "execution_count": 29,
   "id": "3cb9cd25",
   "metadata": {},
   "outputs": [],
   "source": [
    "ids['group'] = ids.group.map(group_names)"
   ]
  },
  {
   "cell_type": "code",
   "execution_count": 31,
   "id": "209bb1aa",
   "metadata": {},
   "outputs": [],
   "source": [
    "ids[['group', 'id']].to_csv(\"data/imputing_missing_group_param.csv\")"
   ]
  },
  {
   "cell_type": "code",
   "execution_count": null,
   "id": "baa75545",
   "metadata": {},
   "outputs": [],
   "source": []
  }
 ],
 "metadata": {
  "kernelspec": {
   "display_name": "DeppClinic",
   "language": "python",
   "name": "deppclinic"
  },
  "language_info": {
   "codemirror_mode": {
    "name": "ipython",
    "version": 3
   },
   "file_extension": ".py",
   "mimetype": "text/x-python",
   "name": "python",
   "nbconvert_exporter": "python",
   "pygments_lexer": "ipython3",
   "version": "3.9.7"
  }
 },
 "nbformat": 4,
 "nbformat_minor": 5
}
