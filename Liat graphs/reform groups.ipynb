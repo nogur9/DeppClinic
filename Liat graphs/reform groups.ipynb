{
 "cells": [
  {
   "cell_type": "code",
   "execution_count": 1,
   "id": "1a7a8e0e",
   "metadata": {},
   "outputs": [],
   "source": [
    "import pandas as pd\n",
    "import matplotlib.pyplot as plt\n",
    "from main import create_dataset\n",
    "import os"
   ]
  },
  {
   "cell_type": "code",
   "execution_count": 2,
   "id": "b5de0846",
   "metadata": {
    "scrolled": true
   },
   "outputs": [],
   "source": [
    "times = {'intake': ['intake_arm_1', 'pre_treatment_arm_1'],\n",
    "         'time2' : ['5th_session_arm_1', 'control_5weeks_arm_1'],\n",
    "         'time3' : ['followup_3month_arm_1', 'control_3month_arm_1', 'control_6month_arm_1'],\n",
    "        }\n",
    "# if not os.path.exists(\"Liat graphs/plots\"):\n",
    "#     os.mkdir(\"Liat graphs/plots\")\n",
    "\n",
    "group_names = {\n",
    "    '0': 'invalid',\n",
    "    '1': 'ipt', # חירום\n",
    "    '2' : 'tau', # רגיל\n",
    "    '3': 'control' # מינימלית\n",
    "}\n",
    "\n",
    "impute = pd.read_csv(r\"Liat graphs/data/imputing_missing_group_param.csv\")\n"
   ]
  },
  {
   "cell_type": "code",
   "execution_count": 3,
   "id": "e4637e05",
   "metadata": {},
   "outputs": [],
   "source": [
    "df_times = {\n",
    "    'intake': pd.read_csv(r'Liat graphs/data/intake.csv'),\n",
    "    'time2' : pd.read_csv(r'Liat graphs/data/time2.csv'),\n",
    "    'time3' : pd.read_csv(r'Liat graphs/data/time3.csv')\n",
    "         }\n",
    "\n",
    "intake_target_variables =  ['suicidal_ideation', 'suicidal_behavior',\n",
    "        'suicidal_attempt', 'ER', 'NSSI']\n",
    "\n",
    "time2_target_variables = ['suicidal_ideation', 'suicidal_behavior', \n",
    "        'suicidal_attempt', 'ER', 'Psychiatric', \n",
    "        'NSSI', 'finished_treatment']\n",
    "\n",
    "target_variables = {\n",
    "    'intake': intake_target_variables,\n",
    "    'time2': time2_target_variables, \n",
    "    'time3': time2_target_variables}\n",
    "        "
   ]
  },
  {
   "cell_type": "code",
   "execution_count": 4,
   "id": "f771b24e",
   "metadata": {},
   "outputs": [],
   "source": [
    "def rename_groups(df, group_names):\n",
    "    df['group'] = '0'\n",
    "    df.loc[df['group___1'] == 1, 'group'] = '1'\n",
    "    df.loc[df['group___2'] == 1, 'group'] = '2'\n",
    "    df.loc[df['group___3'] == 1, 'group'] = '3'\n",
    "    df['group'] = df['group'].map(group_names)\n",
    "    return df\n",
    "\n",
    "for time in times:\n",
    "    df = df_times[time]\n",
    "    df_times[time] = rename_groups(df, group_names)\n",
    "\n",
    "    for i, row in impute.iterrows():\n",
    "        df.loc[df['id'] == row['id'], 'group'] = row.group"
   ]
  },
  {
   "cell_type": "code",
   "execution_count": 5,
   "id": "06c1cb48",
   "metadata": {},
   "outputs": [],
   "source": [
    "\n",
    "for time in times.keys():\n",
    "    \n",
    "    df_times[time].to_csv(f\"Liat graphs/data/{time}_processed.csv\", index=False)"
   ]
  }
 ],
 "metadata": {
  "kernelspec": {
   "display_name": "Python 3 (ipykernel)",
   "language": "python",
   "name": "python3"
  },
  "language_info": {
   "codemirror_mode": {
    "name": "ipython",
    "version": 3
   },
   "file_extension": ".py",
   "mimetype": "text/x-python",
   "name": "python",
   "nbconvert_exporter": "python",
   "pygments_lexer": "ipython3",
   "version": "3.11.4"
  }
 },
 "nbformat": 4,
 "nbformat_minor": 5
}
