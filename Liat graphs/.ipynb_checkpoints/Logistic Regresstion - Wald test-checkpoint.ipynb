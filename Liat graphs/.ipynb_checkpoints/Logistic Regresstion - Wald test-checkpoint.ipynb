{
 "cells": [
  {
   "cell_type": "code",
   "execution_count": 1,
   "id": "1a7a8e0e",
   "metadata": {},
   "outputs": [],
   "source": [
    "import pandas as pd\n",
    "import matplotlib.pyplot as plt\n",
    "import seaborn as sns\n",
    "import scipy\n",
    "import pingouin as pg\n",
    "from main import create_dataset\n",
    "from sklearn.preprocessing import OneHotEncoder, LabelEncoder, StandardScaler\n",
    "import os\n",
    "import numpy as np\n",
    "from statsmodels.stats.contingency_tables import mcnemar\n",
    "import statsmodels.api as sm\n",
    "import statsmodels.formula.api as smf\n",
    "from statsmodels.stats.contingency_tables import Table"
   ]
  },
  {
   "cell_type": "code",
   "execution_count": 2,
   "id": "028d0f47",
   "metadata": {},
   "outputs": [],
   "source": [
    "if not os.path.exists(\"Liat graphs/data/logistic_regression_data\"):\n",
    "    os.mkdir(\"Liat graphs/data/logistic_regression_data\")\n",
    "\n",
    "if not os.path.exists(\"Liat graphs/data/logistic_regression_data/young\"):\n",
    "    os.mkdir(\"Liat graphs/data/logistic_regression_data/young\")\n",
    "\n",
    "if not os.path.exists(\"Liat graphs/data/logistic_regression_data/young/short_effect\"):\n",
    "    os.mkdir(\"Liat graphs/data/logistic_regression_data/young/short_effect\")\n",
    "\n",
    "if not os.path.exists(\"Liat graphs/data/logistic_regression_data/young/long_effect\"):\n",
    "    os.mkdir(\"Liat graphs/data/logistic_regression_data/young/long_effect\")\n",
    "\n",
    "    \n",
    "df_times = {\n",
    "    'intake': pd.read_csv(r'Liat graphs/data/intake_processed.csv'),\n",
    "    'time2' : pd.read_csv(r'Liat graphs/data/time2_processed.csv'),\n",
    "    'time3' : pd.read_csv(r'Liat graphs/data/time3_processed.csv')\n",
    "}\n",
    "\n",
    "for time in df_times.keys():\n",
    "    df_times[time]['time'] = time"
   ]
  },
  {
   "cell_type": "code",
   "execution_count": 3,
   "id": "e4637e05",
   "metadata": {},
   "outputs": [],
   "source": [
    "\n",
    "intake_target_variables =  ['suicidal_ideation', 'suicidal_behavior',\n",
    "        'suicidal_attempt', 'ER', 'NSSI']\n",
    "\n",
    "time2_target_variables = ['suicidal_ideation', 'suicidal_behavior', \n",
    "        'suicidal_attempt', 'ER', 'Psychiatric', \n",
    "        'NSSI', 'finished_treatment']\n",
    "\n",
    "target_variables = {\n",
    "    'intake': intake_target_variables,\n",
    "    'time2': time2_target_variables, \n",
    "    'time3': time2_target_variables}\n",
    "\n",
    "for time in ['intake', 'time2', 'time3']:\n",
    "    df = df_times[time]\n",
    "    df = df[df['age_child_pre'] < 12.5]\n",
    "    df_times[time] = df[df['group'].isin(['ipt', 'control'])]\n"
   ]
  },
  {
   "cell_type": "code",
   "execution_count": 4,
   "id": "f771b24e",
   "metadata": {},
   "outputs": [],
   "source": [
    "df_short = pd.concat([df_times['intake'], df_times['time2']])\n",
    "df_long = pd.concat([df_times['intake'], df_times['time3']])\n",
    "\n",
    "current_target_vars = ['suicidal_ideation',\n",
    " 'suicidal_behavior', 'NSSI']\n",
    "\n",
    "info_cols = ['group', 'id', 'age_child_pre', 'gender', 'redcap_event_name', 'time']\n",
    "\n",
    "df_long[current_target_vars + info_cols].to_csv(f\"Liat graphs/data/logistic_regression_data/young/long_effect_raw_data.xlsx\", index=False)\n",
    "df_short[current_target_vars + info_cols].to_csv(f\"Liat graphs/data/logistic_regression_data/young/short_effect_raw_data.xlsx\", index=False)\n"
   ]
  },
  {
   "cell_type": "code",
   "execution_count": null,
   "id": "1f8844b9",
   "metadata": {},
   "outputs": [],
   "source": []
  },
  {
   "cell_type": "code",
   "execution_count": 16,
   "id": "6710fd37",
   "metadata": {},
   "outputs": [
    {
     "name": "stderr",
     "output_type": "stream",
     "text": [
      "C:\\Users\\nogur\\AppData\\Local\\Temp\\ipykernel_3944\\1626356146.py:9: SettingWithCopyWarning: \n",
      "A value is trying to be set on a copy of a slice from a DataFrame.\n",
      "Try using .loc[row_indexer,col_indexer] = value instead\n",
      "\n",
      "See the caveats in the documentation: https://pandas.pydata.org/pandas-docs/stable/user_guide/indexing.html#returning-a-view-versus-a-copy\n",
      "  X['group'] = label_encoder_of_group.fit_transform(X['group'])\n",
      "C:\\Users\\nogur\\AppData\\Local\\Temp\\ipykernel_3944\\1626356146.py:10: SettingWithCopyWarning: \n",
      "A value is trying to be set on a copy of a slice from a DataFrame.\n",
      "Try using .loc[row_indexer,col_indexer] = value instead\n",
      "\n",
      "See the caveats in the documentation: https://pandas.pydata.org/pandas-docs/stable/user_guide/indexing.html#returning-a-view-versus-a-copy\n",
      "  X['time'] = label_encoder_of_group.fit_transform(X['time'])\n",
      "C:\\Users\\nogur\\AppData\\Local\\Temp\\ipykernel_3944\\1626356146.py:11: SettingWithCopyWarning: \n",
      "A value is trying to be set on a copy of a slice from a DataFrame.\n",
      "Try using .loc[row_indexer,col_indexer] = value instead\n",
      "\n",
      "See the caveats in the documentation: https://pandas.pydata.org/pandas-docs/stable/user_guide/indexing.html#returning-a-view-versus-a-copy\n",
      "  X[['group', 'time']] = standard_scaler.fit_transform(X[['group', 'time']])\n",
      "C:\\Users\\nogur\\AppData\\Local\\Temp\\ipykernel_3944\\1626356146.py:12: SettingWithCopyWarning: \n",
      "A value is trying to be set on a copy of a slice from a DataFrame.\n",
      "Try using .loc[row_indexer,col_indexer] = value instead\n",
      "\n",
      "See the caveats in the documentation: https://pandas.pydata.org/pandas-docs/stable/user_guide/indexing.html#returning-a-view-versus-a-copy\n",
      "  X['interaction'] = X['time'] * X['group']\n"
     ]
    }
   ],
   "source": [
    "X = df_short[['time', 'group']]\n",
    "Y = df_short['suicidal_ideation']\n",
    "\n",
    "label_encoder_of_time = LabelEncoder()\n",
    "label_encoder_of_group = LabelEncoder()\n",
    "standard_scaler = StandardScaler()\n",
    "#ohe = OneHotEncoder(sparse_output=False)\n",
    "#X = ohe.fit_transform(df_long[['time', 'group']])\n",
    "X['group'] = label_encoder_of_group.fit_transform(X['group'])\n",
    "X['time'] = label_encoder_of_group.fit_transform(X['time'])\n",
    "X[['group', 'time']] = standard_scaler.fit_transform(X[['group', 'time']])\n",
    "X['interaction'] = X['time'] * X['group']\n"
   ]
  },
  {
   "cell_type": "code",
   "execution_count": 17,
   "id": "d758e92f",
   "metadata": {},
   "outputs": [
    {
     "name": "stdout",
     "output_type": "stream",
     "text": [
      "Optimization terminated successfully.\n",
      "         Current function value: 0.680410\n",
      "         Iterations 4\n",
      "Index(['time', 'group', 'interaction'], dtype='object')\n"
     ]
    },
    {
     "data": {
      "text/html": [
       "<table class=\"simpletable\">\n",
       "<caption>Logit Regression Results</caption>\n",
       "<tr>\n",
       "  <th>Dep. Variable:</th>   <td>suicidal_ideation</td> <th>  No. Observations:  </th>  <td>   135</td> \n",
       "</tr>\n",
       "<tr>\n",
       "  <th>Model:</th>                 <td>Logit</td>       <th>  Df Residuals:      </th>  <td>   132</td> \n",
       "</tr>\n",
       "<tr>\n",
       "  <th>Method:</th>                 <td>MLE</td>        <th>  Df Model:          </th>  <td>     2</td> \n",
       "</tr>\n",
       "<tr>\n",
       "  <th>Date:</th>            <td>Sat, 23 Sep 2023</td>  <th>  Pseudo R-squ.:     </th>  <td>0.01803</td>\n",
       "</tr>\n",
       "<tr>\n",
       "  <th>Time:</th>                <td>15:53:40</td>      <th>  Log-Likelihood:    </th> <td> -91.855</td>\n",
       "</tr>\n",
       "<tr>\n",
       "  <th>converged:</th>             <td>True</td>        <th>  LL-Null:           </th> <td> -93.542</td>\n",
       "</tr>\n",
       "<tr>\n",
       "  <th>Covariance Type:</th>     <td>nonrobust</td>     <th>  LLR p-value:       </th>  <td>0.1852</td> \n",
       "</tr>\n",
       "</table>\n",
       "<table class=\"simpletable\">\n",
       "<tr>\n",
       "       <td></td>          <th>coef</th>     <th>std err</th>      <th>z</th>      <th>P>|z|</th>  <th>[0.025</th>    <th>0.975]</th>  \n",
       "</tr>\n",
       "<tr>\n",
       "  <th>time</th>        <td>   -0.1942</td> <td>    0.174</td> <td>   -1.114</td> <td> 0.265</td> <td>   -0.536</td> <td>    0.148</td>\n",
       "</tr>\n",
       "<tr>\n",
       "  <th>group</th>       <td>    0.1078</td> <td>    0.174</td> <td>    0.619</td> <td> 0.536</td> <td>   -0.234</td> <td>    0.449</td>\n",
       "</tr>\n",
       "<tr>\n",
       "  <th>interaction</th> <td>   -0.2356</td> <td>    0.174</td> <td>   -1.353</td> <td> 0.176</td> <td>   -0.577</td> <td>    0.106</td>\n",
       "</tr>\n",
       "</table>"
      ],
      "text/latex": [
       "\\begin{center}\n",
       "\\begin{tabular}{lclc}\n",
       "\\toprule\n",
       "\\textbf{Dep. Variable:}   & suicidal\\_ideation & \\textbf{  No. Observations:  } &      135    \\\\\n",
       "\\textbf{Model:}           &       Logit        & \\textbf{  Df Residuals:      } &      132    \\\\\n",
       "\\textbf{Method:}          &        MLE         & \\textbf{  Df Model:          } &        2    \\\\\n",
       "\\textbf{Date:}            &  Sat, 23 Sep 2023  & \\textbf{  Pseudo R-squ.:     } &  0.01803    \\\\\n",
       "\\textbf{Time:}            &      15:53:40      & \\textbf{  Log-Likelihood:    } &   -91.855   \\\\\n",
       "\\textbf{converged:}       &        True        & \\textbf{  LL-Null:           } &   -93.542   \\\\\n",
       "\\textbf{Covariance Type:} &     nonrobust      & \\textbf{  LLR p-value:       } &   0.1852    \\\\\n",
       "\\bottomrule\n",
       "\\end{tabular}\n",
       "\\begin{tabular}{lcccccc}\n",
       "                     & \\textbf{coef} & \\textbf{std err} & \\textbf{z} & \\textbf{P$> |$z$|$} & \\textbf{[0.025} & \\textbf{0.975]}  \\\\\n",
       "\\midrule\n",
       "\\textbf{time}        &      -0.1942  &        0.174     &    -1.114  &         0.265        &       -0.536    &        0.148     \\\\\n",
       "\\textbf{group}       &       0.1078  &        0.174     &     0.619  &         0.536        &       -0.234    &        0.449     \\\\\n",
       "\\textbf{interaction} &      -0.2356  &        0.174     &    -1.353  &         0.176        &       -0.577    &        0.106     \\\\\n",
       "\\bottomrule\n",
       "\\end{tabular}\n",
       "%\\caption{Logit Regression Results}\n",
       "\\end{center}"
      ],
      "text/plain": [
       "<class 'statsmodels.iolib.summary.Summary'>\n",
       "\"\"\"\n",
       "                           Logit Regression Results                           \n",
       "==============================================================================\n",
       "Dep. Variable:      suicidal_ideation   No. Observations:                  135\n",
       "Model:                          Logit   Df Residuals:                      132\n",
       "Method:                           MLE   Df Model:                            2\n",
       "Date:                Sat, 23 Sep 2023   Pseudo R-squ.:                 0.01803\n",
       "Time:                        15:53:40   Log-Likelihood:                -91.855\n",
       "converged:                       True   LL-Null:                       -93.542\n",
       "Covariance Type:            nonrobust   LLR p-value:                    0.1852\n",
       "===============================================================================\n",
       "                  coef    std err          z      P>|z|      [0.025      0.975]\n",
       "-------------------------------------------------------------------------------\n",
       "time           -0.1942      0.174     -1.114      0.265      -0.536       0.148\n",
       "group           0.1078      0.174      0.619      0.536      -0.234       0.449\n",
       "interaction    -0.2356      0.174     -1.353      0.176      -0.577       0.106\n",
       "===============================================================================\n",
       "\"\"\""
      ]
     },
     "execution_count": 17,
     "metadata": {},
     "output_type": "execute_result"
    }
   ],
   "source": [
    "model = sm.Logit(Y, X).fit()\n",
    "\n",
    "x_vars = model.summary2().tables[1].index\n",
    "print(x_vars)\n",
    "\n",
    "model.summary()"
   ]
  },
  {
   "cell_type": "code",
   "execution_count": 18,
   "id": "5638a395",
   "metadata": {},
   "outputs": [
    {
     "name": "stderr",
     "output_type": "stream",
     "text": [
      "C:\\Users\\nogur\\anaconda3\\Lib\\site-packages\\statsmodels\\base\\model.py:1906: FutureWarning: The behavior of wald_test will change after 0.14 to returning scalar test statistic values. To get the future behavior now, set scalar to True. To silence this message while retaining the legacy behavior, set scalar to False.\n",
      "  warnings.warn(\n"
     ]
    },
    {
     "data": {
      "text/plain": [
       "<class 'statsmodels.stats.contrast.ContrastResults'>\n",
       "<Wald test (chi2): statistic=[[1.15462732]], p-value=0.28258258089561117, df_denom=1>"
      ]
     },
     "execution_count": 18,
     "metadata": {},
     "output_type": "execute_result"
    }
   ],
   "source": [
    "wald_test = model.wald_test('time + group + interaction = 0')\n",
    "wald_test"
   ]
  },
  {
   "cell_type": "code",
   "execution_count": 19,
   "id": "5dba5d08",
   "metadata": {},
   "outputs": [
    {
     "data": {
      "text/plain": [
       "<class 'statsmodels.stats.contrast.ContrastResults'>\n",
       "<Wald test (chi2): statistic=[[0.12669661]], p-value=0.7218820016181672, df_denom=1>"
      ]
     },
     "execution_count": 19,
     "metadata": {},
     "output_type": "execute_result"
    }
   ],
   "source": [
    "wald_test = model.wald_test('time + group = 0')\n",
    "wald_test"
   ]
  },
  {
   "cell_type": "markdown",
   "id": "3ff53947",
   "metadata": {},
   "source": [
    "# Long Effect"
   ]
  },
  {
   "cell_type": "code",
   "execution_count": 9,
   "id": "a4b3ae94",
   "metadata": {},
   "outputs": [],
   "source": [
    "X = df_long[['time', 'group']]\n",
    "Y = df_long['suicidal_ideation']"
   ]
  },
  {
   "cell_type": "code",
   "execution_count": 10,
   "id": "b2d121f2",
   "metadata": {},
   "outputs": [
    {
     "name": "stderr",
     "output_type": "stream",
     "text": [
      "C:\\Users\\nogur\\AppData\\Local\\Temp\\ipykernel_3944\\3795858058.py:6: SettingWithCopyWarning: \n",
      "A value is trying to be set on a copy of a slice from a DataFrame.\n",
      "Try using .loc[row_indexer,col_indexer] = value instead\n",
      "\n",
      "See the caveats in the documentation: https://pandas.pydata.org/pandas-docs/stable/user_guide/indexing.html#returning-a-view-versus-a-copy\n",
      "  X['group'] = label_encoder_of_group.fit_transform(X['group'])\n",
      "C:\\Users\\nogur\\AppData\\Local\\Temp\\ipykernel_3944\\3795858058.py:7: SettingWithCopyWarning: \n",
      "A value is trying to be set on a copy of a slice from a DataFrame.\n",
      "Try using .loc[row_indexer,col_indexer] = value instead\n",
      "\n",
      "See the caveats in the documentation: https://pandas.pydata.org/pandas-docs/stable/user_guide/indexing.html#returning-a-view-versus-a-copy\n",
      "  X['time'] = label_encoder_of_group.fit_transform(X['time'])\n",
      "C:\\Users\\nogur\\AppData\\Local\\Temp\\ipykernel_3944\\3795858058.py:8: SettingWithCopyWarning: \n",
      "A value is trying to be set on a copy of a slice from a DataFrame.\n",
      "Try using .loc[row_indexer,col_indexer] = value instead\n",
      "\n",
      "See the caveats in the documentation: https://pandas.pydata.org/pandas-docs/stable/user_guide/indexing.html#returning-a-view-versus-a-copy\n",
      "  X[['group', 'time']] = standard_scaler.fit_transform(X[['group', 'time']])\n",
      "C:\\Users\\nogur\\AppData\\Local\\Temp\\ipykernel_3944\\3795858058.py:9: SettingWithCopyWarning: \n",
      "A value is trying to be set on a copy of a slice from a DataFrame.\n",
      "Try using .loc[row_indexer,col_indexer] = value instead\n",
      "\n",
      "See the caveats in the documentation: https://pandas.pydata.org/pandas-docs/stable/user_guide/indexing.html#returning-a-view-versus-a-copy\n",
      "  X['interaction'] = X['time'] * X['group']\n"
     ]
    }
   ],
   "source": [
    "label_encoder_of_time = LabelEncoder()\n",
    "label_encoder_of_group = LabelEncoder()\n",
    "standard_scaler = StandardScaler()\n",
    "#ohe = OneHotEncoder(sparse_output=False)\n",
    "#X = ohe.fit_transform(df_long[['time', 'group']])\n",
    "X['group'] = label_encoder_of_group.fit_transform(X['group'])\n",
    "X['time'] = label_encoder_of_group.fit_transform(X['time'])\n",
    "X[['group', 'time']] = standard_scaler.fit_transform(X[['group', 'time']])\n",
    "X['interaction'] = X['time'] * X['group']\n"
   ]
  },
  {
   "cell_type": "code",
   "execution_count": 11,
   "id": "94fa911d",
   "metadata": {},
   "outputs": [
    {
     "name": "stdout",
     "output_type": "stream",
     "text": [
      "Optimization terminated successfully.\n",
      "         Current function value: 0.655901\n",
      "         Iterations 4\n"
     ]
    }
   ],
   "source": [
    "model = sm.Logit(Y, X).fit()\n",
    "\n",
    "x_vars = model.summary2().tables[1].index\n",
    "print(x_vars)\n",
    "\n",
    "model.summary()"
   ]
  },
  {
   "cell_type": "code",
   "execution_count": 14,
   "id": "b44160ea",
   "metadata": {},
   "outputs": [
    {
     "name": "stderr",
     "output_type": "stream",
     "text": [
      "C:\\Users\\nogur\\anaconda3\\Lib\\site-packages\\statsmodels\\base\\model.py:1906: FutureWarning: The behavior of wald_test will change after 0.14 to returning scalar test statistic values. To get the future behavior now, set scalar to True. To silence this message while retaining the legacy behavior, set scalar to False.\n",
      "  warnings.warn(\n"
     ]
    },
    {
     "data": {
      "text/plain": [
       "<class 'statsmodels.stats.contrast.ContrastResults'>\n",
       "<Wald test (chi2): statistic=[[3.49999237]], p-value=0.0613691118935156, df_denom=1>"
      ]
     },
     "execution_count": 14,
     "metadata": {},
     "output_type": "execute_result"
    }
   ],
   "source": [
    "wald_test = model.wald_test('time + group + interaction = 0')\n",
    "wald_test"
   ]
  },
  {
   "cell_type": "code",
   "execution_count": 15,
   "id": "30c0b4d2",
   "metadata": {},
   "outputs": [
    {
     "data": {
      "text/plain": [
       "<class 'statsmodels.stats.contrast.ContrastResults'>\n",
       "<Wald test (chi2): statistic=[[1.9986581]], p-value=0.1574385349013102, df_denom=1>"
      ]
     },
     "execution_count": 15,
     "metadata": {},
     "output_type": "execute_result"
    }
   ],
   "source": [
    "wald_test = model.wald_test('time + group = 0')\n",
    "wald_test"
   ]
  },
  {
   "cell_type": "code",
   "execution_count": 77,
   "id": "1df0ea11",
   "metadata": {},
   "outputs": [
    {
     "data": {
      "text/plain": [
       "group    time  \n",
       "control  intake    0.506309\n",
       "         time3     0.486985\n",
       "ipt      intake    0.488852\n",
       "         time3     0.461414\n",
       "Name: suicidal_ideation, dtype: float64"
      ]
     },
     "execution_count": 77,
     "metadata": {},
     "output_type": "execute_result"
    }
   ],
   "source": [
    "df_long.groupby(['group', 'time']).suicidal_ideation.std()"
   ]
  },
  {
   "cell_type": "code",
   "execution_count": 66,
   "id": "f3ca1524",
   "metadata": {},
   "outputs": [
    {
     "data": {
      "text/plain": [
       "group    time  \n",
       "control  intake    0.472222\n",
       "         time3     0.347826\n",
       "ipt      intake    0.631579\n",
       "         time3     0.290323\n",
       "Name: suicidal_ideation, dtype: float64"
      ]
     },
     "execution_count": 66,
     "metadata": {},
     "output_type": "execute_result"
    }
   ],
   "source": [
    "df_long.groupby(['group', 'time']).suicidal_ideation.mean()"
   ]
  },
  {
   "cell_type": "code",
   "execution_count": null,
   "id": "ae42d8c3",
   "metadata": {},
   "outputs": [],
   "source": []
  }
 ],
 "metadata": {
  "kernelspec": {
   "display_name": "Python 3 (ipykernel)",
   "language": "python",
   "name": "python3"
  },
  "language_info": {
   "codemirror_mode": {
    "name": "ipython",
    "version": 3
   },
   "file_extension": ".py",
   "mimetype": "text/x-python",
   "name": "python",
   "nbconvert_exporter": "python",
   "pygments_lexer": "ipython3",
   "version": "3.11.4"
  }
 },
 "nbformat": 4,
 "nbformat_minor": 5
}
