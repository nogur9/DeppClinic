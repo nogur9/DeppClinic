{
 "cells": [
  {
   "cell_type": "code",
   "execution_count": 1,
   "id": "1a7a8e0e",
   "metadata": {},
   "outputs": [],
   "source": [
    "import pandas as pd\n",
    "import matplotlib.pyplot as plt\n",
    "import seaborn as sns\n",
    "import scipy\n",
    "import pingouin as pg\n",
    "from main import create_dataset\n",
    "import os\n",
    "\n",
    "from statsmodels.stats.contingency_tables import mcnemar\n",
    "import statsmodels.api as sm\n",
    "from statsmodels.stats.contingency_tables import Table"
   ]
  },
  {
   "cell_type": "code",
   "execution_count": 3,
   "id": "028d0f47",
   "metadata": {},
   "outputs": [],
   "source": [
    "if not os.path.exists(\"Liat graphs/data/mcnemar_data\"):\n",
    "    os.mkdir(\"Liat graphs/data/mcnemar_data\")\n",
    "\n",
    "if not os.path.exists(\"Liat graphs/data/mcnemar_data/short_time\"):\n",
    "    os.mkdir(\"Liat graphs/data/mcnemar_data/short_time\")\n",
    "\n",
    "if not os.path.exists(\"Liat graphs/data/mcnemar_data/long_time\"):\n",
    "    os.mkdir(\"Liat graphs/data/mcnemar_data/long_time\")\n",
    "\n",
    "    \n",
    "df_times = {\n",
    "    'intake': pd.read_csv(r'Liat graphs/data/intake_processed.csv'),\n",
    "    'time2' : pd.read_csv(r'Liat graphs/data/time2_processed.csv'),\n",
    "    'time3' : pd.read_csv(r'Liat graphs/data/time3_processed.csv')\n",
    "}\n",
    "\n",
    "for time in df_times.keys():\n",
    "    df_times[time]['time'] = time"
   ]
  },
  {
   "cell_type": "code",
   "execution_count": 4,
   "id": "e4637e05",
   "metadata": {},
   "outputs": [],
   "source": [
    "\n",
    "intake_target_variables =  ['suicidal_ideation', 'suicidal_behavior',\n",
    "        'suicidal_attempt', 'ER', 'NSSI']\n",
    "\n",
    "time2_target_variables = ['suicidal_ideation', 'suicidal_behavior', \n",
    "        'suicidal_attempt', 'ER', 'Psychiatric', \n",
    "        'NSSI', 'finished_treatment']\n",
    "\n",
    "target_variables = {\n",
    "    'intake': intake_target_variables,\n",
    "    'time2': time2_target_variables, \n",
    "    'time3': time2_target_variables}\n",
    "        "
   ]
  },
  {
   "cell_type": "code",
   "execution_count": 5,
   "id": "f771b24e",
   "metadata": {},
   "outputs": [],
   "source": [
    "df_short = pd.concat([df_times['intake'], df_times['time2']])\n",
    "df_long = pd.concat([df_times['intake'], df_times['time3']])"
   ]
  },
  {
   "cell_type": "code",
   "execution_count": null,
   "id": "f2a3eae2",
   "metadata": {},
   "outputs": [],
   "source": []
  },
  {
   "cell_type": "markdown",
   "id": "33150112",
   "metadata": {},
   "source": [
    "## Short time"
   ]
  },
  {
   "cell_type": "code",
   "execution_count": 6,
   "id": "0c42ce73",
   "metadata": {},
   "outputs": [],
   "source": [
    "def do_mcnemar_test(df, groups, target_variable):\n",
    "    df = df[df.group.isin(groups)]\n",
    "    contingency_table = pd.crosstab(df['group'], df['time'], values=df[target_variable], aggfunc='sum')\n",
    "    results = mcnemar(contingency_table.values)\n",
    "    print(f'{groups = }\\n {target_variable = }')\n",
    "    print(mcnemar(contingency_table.values))\n",
    "    print('\\t---------------------\\n\\n\\n\\n\\n')\n",
    "    \n",
    "    return contingency_table, results.pvalue"
   ]
  },
  {
   "cell_type": "code",
   "execution_count": 8,
   "id": "0ea9d25d",
   "metadata": {
    "scrolled": true
   },
   "outputs": [
    {
     "name": "stdout",
     "output_type": "stream",
     "text": [
      "groups = ['ipt', 'control']\n",
      " target_variable = 'suicidal_ideation'\n",
      "pvalue      1.4694252456726812e-05\n",
      "statistic   47.0\n",
      "\t---------------------\n",
      "\n",
      "\n",
      "\n",
      "\n",
      "\n",
      "groups = ['ipt', 'control']\n",
      " target_variable = 'suicidal_behavior'\n",
      "pvalue      0.3367836351899315\n",
      "statistic   16.0\n",
      "\t---------------------\n",
      "\n",
      "\n",
      "\n",
      "\n",
      "\n",
      "groups = ['ipt', 'control']\n",
      " target_variable = 'suicidal_attempt'\n",
      "pvalue      0.01181793212890625\n",
      "statistic   4.0\n",
      "\t---------------------\n",
      "\n",
      "\n",
      "\n",
      "\n",
      "\n",
      "groups = ['ipt', 'control']\n",
      " target_variable = 'ER'\n",
      "pvalue      0.7265625\n",
      "statistic   3.0\n",
      "\t---------------------\n",
      "\n",
      "\n",
      "\n",
      "\n",
      "\n",
      "groups = ['ipt', 'control']\n",
      " target_variable = 'NSSI'\n",
      "pvalue      0.009853448195259268\n",
      "statistic   20.0\n",
      "\t---------------------\n",
      "\n",
      "\n",
      "\n",
      "\n",
      "\n"
     ]
    }
   ],
   "source": [
    "for target_variable in intake_target_variables:\n",
    "    \n",
    "    groups = ['ipt', 'control']\n",
    "    contingency_table, pval = do_mcnemar_test(df_short, groups, target_variable)\n",
    "    \n",
    "    \n",
    "    contingency_table.to_csv(f\"Liat graphs/data/mcnemar_data/short_time/{target_variable} - pval = {pval.round(decimals=3)}.csv\")\n",
    "    \n",
    "    "
   ]
  },
  {
   "cell_type": "markdown",
   "id": "7ea96bce",
   "metadata": {},
   "source": [
    "## Long time"
   ]
  },
  {
   "cell_type": "code",
   "execution_count": 9,
   "id": "9e11db0f",
   "metadata": {
    "scrolled": false
   },
   "outputs": [
    {
     "name": "stdout",
     "output_type": "stream",
     "text": [
      "groups = ['ipt', 'control']\n",
      " target_variable = 'suicidal_ideation'\n",
      "pvalue      6.990213957185692e-08\n",
      "statistic   37.0\n",
      "\t---------------------\n",
      "\n",
      "\n",
      "\n",
      "\n",
      "\n",
      "groups = ['ipt', 'control']\n",
      " target_variable = 'suicidal_behavior'\n",
      "pvalue      0.08953107893466952\n",
      "statistic   12.0\n",
      "\t---------------------\n",
      "\n",
      "\n",
      "\n",
      "\n",
      "\n",
      "groups = ['ipt', 'control']\n",
      " target_variable = 'suicidal_attempt'\n",
      "pvalue      0.001312255859375\n",
      "statistic   2.0\n",
      "\t---------------------\n",
      "\n",
      "\n",
      "\n",
      "\n",
      "\n",
      "groups = ['ipt', 'control']\n",
      " target_variable = 'ER'\n",
      "pvalue      0.7265625\n",
      "statistic   3.0\n",
      "\t---------------------\n",
      "\n",
      "\n",
      "\n",
      "\n",
      "\n",
      "groups = ['ipt', 'control']\n",
      " target_variable = 'NSSI'\n",
      "pvalue      0.0062176026593266705\n",
      "statistic   19.0\n",
      "\t---------------------\n",
      "\n",
      "\n",
      "\n",
      "\n",
      "\n"
     ]
    }
   ],
   "source": [
    "for target_variable in intake_target_variables:\n",
    "    \n",
    "    \n",
    "    groups = ['ipt', 'control']\n",
    "    contingency_table, pval = do_mcnemar_test(df_long, groups, target_variable)\n",
    "    \n",
    "    \n",
    "    contingency_table.to_csv(f\"Liat graphs/data/mcnemar_data/long_time/{target_variable} - pval = {pval.round(decimals=3)}.csv\")\n",
    "    "
   ]
  },
  {
   "cell_type": "markdown",
   "id": "4e078bed",
   "metadata": {},
   "source": [
    "## Test"
   ]
  },
  {
   "cell_type": "code",
   "execution_count": 10,
   "id": "31b74de2",
   "metadata": {},
   "outputs": [],
   "source": [
    "data = {\n",
    "    'group': ['X', 'X', 'Y', 'Y', 'Y'],\n",
    "    'target': [True, False, True, True, False]\n",
    "}\n",
    "\n",
    "df = pd.DataFrame(data)"
   ]
  },
  {
   "cell_type": "code",
   "execution_count": 11,
   "id": "4db2247d",
   "metadata": {},
   "outputs": [],
   "source": [
    "contingency_table = pd.crosstab(df['group'], df['target'])"
   ]
  },
  {
   "cell_type": "code",
   "execution_count": 13,
   "id": "2a2ab76a",
   "metadata": {},
   "outputs": [],
   "source": [
    "contingency_table.to_csv('meowmeow.csv')"
   ]
  },
  {
   "cell_type": "code",
   "execution_count": null,
   "id": "ae42d8c3",
   "metadata": {},
   "outputs": [],
   "source": []
  }
 ],
 "metadata": {
  "kernelspec": {
   "display_name": "Python 3 (ipykernel)",
   "language": "python",
   "name": "python3"
  },
  "language_info": {
   "codemirror_mode": {
    "name": "ipython",
    "version": 3
   },
   "file_extension": ".py",
   "mimetype": "text/x-python",
   "name": "python",
   "nbconvert_exporter": "python",
   "pygments_lexer": "ipython3",
   "version": "3.11.4"
  }
 },
 "nbformat": 4,
 "nbformat_minor": 5
}
