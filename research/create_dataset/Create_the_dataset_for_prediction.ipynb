{
 "cells": [
  {
   "cell_type": "code",
   "execution_count": 1,
   "id": "40646f16-d3b5-4946-a601-1475cce7d273",
   "metadata": {},
   "outputs": [],
   "source": [
    "import sys\n",
    "sys.path.append(r\"../../utils\")\n",
    "import numpy as np \n",
    "import pandas as pd\n",
    "from questions_columns import sci_af_ca, suicidal_behavior, c_ssrs\n",
    "from utils import simple_eda, impute_from_column\n",
    "\n",
    "c_ssrs = c_ssrs[:-2] "
   ]
  },
  {
   "cell_type": "code",
   "execution_count": 2,
   "id": "3a95d9df-2e6a-4b3f-847c-f42fb2f70f5a",
   "metadata": {},
   "outputs": [
    {
     "name": "stderr",
     "output_type": "stream",
     "text": [
      "C:\\Users\\nogur\\anaconda3\\lib\\site-packages\\IPython\\core\\interactiveshell.py:3444: DtypeWarning: Columns (0,44,50,73,84,309,437,442,443,450,457,486,502,540,549,568,728,733,745,747,752,763,801,810,829,882,883,884,885,886,887,888,889,890,891,892,951,989,994,1000,1015,1045,1065,1066,1070,1071,1072,1073,1075,1076,1077,1080,1081,1098,1103,1119,1121,1172,1174,1193,1195,1196,1197,1203,1204,1205,1206,1358,1360,1361,1362,1368,1369,1370,1371,1486,1492,1493,1496,1497,1498,1499,1508,1516,1532,1535,1546) have mixed types.Specify dtype option on import or set low_memory=False.\n",
      "  exec(code_obj, self.user_global_ns, self.user_ns)\n"
     ]
    }
   ],
   "source": [
    "info_columns = ['id', 'gender', 'redcap_event_name', 'age_child_pre']\n",
    "columns = set(suicidal_behavior + info_columns + sci_af_ca + c_ssrs)\n",
    "id_column = 'id'\n",
    "df = pd.read_csv(r'../../creating_the_clinic_dataset/preprocessed_data/merged_2021_and_2022.csv', na_values = ' ')"
   ]
  },
  {
   "cell_type": "code",
   "execution_count": 3,
   "id": "b7bdd8e4",
   "metadata": {},
   "outputs": [],
   "source": [
    "df_intake = df[df.redcap_event_name == 'intake_arm_1'][columns]\n",
    "df_pre = df[df.redcap_event_name == 'pre_treatment_arm_1'][columns]\n",
    "df_5weeks = df[df.redcap_event_name == 'control_5weeks_arm_1'][columns]\n",
    "df_3months = df[df.redcap_event_name == 'followup_3month_arm_1'][columns]"
   ]
  },
  {
   "cell_type": "code",
   "execution_count": 4,
   "id": "58302c5e",
   "metadata": {},
   "outputs": [],
   "source": [
    "columns.remove('id')\n",
    "df_pre_5weeks = pd.merge(df_pre, df_5weeks, on=['id'], how='outer', suffixes=('', '_5weeks'))\n",
    "\n",
    "for column_name in columns:\n",
    "    df_pre_5weeks = impute_from_column(df_pre_5weeks, impute_to = column_name, impute_from = f'{column_name}_5weeks')\n",
    "\n",
    "    \n",
    "    \n",
    "five_weeks_cols = [i for i in df_pre_5weeks.columns if i.endswith('_5weeks')]\n",
    "df_pre_5weeks = df_pre_5weeks.drop(five_weeks_cols, axis=1)"
   ]
  },
  {
   "cell_type": "code",
   "execution_count": 5,
   "id": "beea41d5",
   "metadata": {},
   "outputs": [],
   "source": [
    "df_time2 = pd.merge(df_pre_5weeks, df_3months, on=['id'], how='outer', suffixes=('', '_followup_3month_arm_1'))\n",
    "\n",
    "\n",
    "for column_name in columns:\n",
    "    df_time2 = impute_from_column(df_time2, impute_to = column_name, impute_from = f'{column_name}_followup_3month_arm_1')\n",
    "\n",
    "    \n",
    "    \n",
    "followup_3month_cols = [i for i in df_time2.columns if i.endswith('_followup_3month_arm_1')]\n",
    "df_time2 = df_time2.drop(followup_3month_cols, axis=1)"
   ]
  },
  {
   "cell_type": "code",
   "execution_count": 6,
   "id": "12ede4e2",
   "metadata": {},
   "outputs": [],
   "source": [
    "df_intake['measurement'] = 'time1'\n",
    "df_time2['measurement'] = 'time2'"
   ]
  },
  {
   "cell_type": "code",
   "execution_count": 7,
   "id": "954b4054-27ca-4c46-a1bd-58fd228ea6f4",
   "metadata": {},
   "outputs": [],
   "source": [
    "output_df = pd.concat([df_intake, df_time2])"
   ]
  },
  {
   "cell_type": "code",
   "execution_count": 8,
   "id": "90a9e2eb",
   "metadata": {},
   "outputs": [],
   "source": [
    "output_df = impute_from_column(output_df, impute_to = 'c_ssrs_6', impute_from = 'c_ssrs_last_visit_6')\n",
    "output_df.loc[output_df[~output_df[c_ssrs].isna().all(axis=1)].index, c_ssrs] = 0\n",
    "output_df[suicidal_behavior] = output_df[suicidal_behavior].replace(2, 0)\n",
    "\n",
    "output_df = output_df[suicidal_behavior + info_columns + sci_af_ca + ['measurement']]"
   ]
  },
  {
   "cell_type": "code",
   "execution_count": 9,
   "id": "357206c6",
   "metadata": {},
   "outputs": [
    {
     "data": {
      "text/plain": [
       "114    NaN\n",
       "117    NaN\n",
       "119    NaN\n",
       "122    NaN\n",
       "131    NaN\n",
       "      ... \n",
       "324    NaN\n",
       "325    NaN\n",
       "326    NaN\n",
       "327    NaN\n",
       "328    0.0\n",
       "Name: chameleon_suicide_er_stu, Length: 737, dtype: float64"
      ]
     },
     "execution_count": 9,
     "metadata": {},
     "output_type": "execute_result"
    }
   ],
   "source": [
    "output_df['chameleon_suicide_er_stu']"
   ]
  },
  {
   "cell_type": "code",
   "execution_count": null,
   "id": "a4468433",
   "metadata": {},
   "outputs": [],
   "source": []
  },
  {
   "cell_type": "code",
   "execution_count": 10,
   "id": "56c92f40-8688-4349-bc5d-983199d535ff",
   "metadata": {},
   "outputs": [],
   "source": [
    "output_df.to_csv(\"data_for_prediction_research.csv\", index=False)"
   ]
  },
  {
   "cell_type": "code",
   "execution_count": null,
   "id": "85d0d1cb-3599-448a-8c6d-ded067bdaa85",
   "metadata": {},
   "outputs": [],
   "source": []
  }
 ],
 "metadata": {
  "kernelspec": {
   "display_name": "Python 3 (ipykernel)",
   "language": "python",
   "name": "python3"
  },
  "language_info": {
   "codemirror_mode": {
    "name": "ipython",
    "version": 3
   },
   "file_extension": ".py",
   "mimetype": "text/x-python",
   "name": "python",
   "nbconvert_exporter": "python",
   "pygments_lexer": "ipython3",
   "version": "3.9.7"
  }
 },
 "nbformat": 4,
 "nbformat_minor": 5
}
