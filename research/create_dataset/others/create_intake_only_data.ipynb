{
 "cells": [
  {
   "cell_type": "code",
   "execution_count": 3,
   "id": "bb6c9300",
   "metadata": {},
   "outputs": [],
   "source": [
    "import sys\n",
    "sys.path.append(r\"../../utils\")\n",
    "\n",
    "import numpy as np \n",
    "import pandas as pd\n",
    "from questions_columns import all_questionarries, sci_af_ca,  scs_clin, sci_mother\n",
    "from statsmodels.imputation import mice\n",
    "import missingno"
   ]
  },
  {
   "cell_type": "code",
   "execution_count": 4,
   "id": "68445eee",
   "metadata": {},
   "outputs": [
    {
     "name": "stderr",
     "output_type": "stream",
     "text": [
      "C:\\Users\\nogur\\anaconda3\\lib\\site-packages\\IPython\\core\\interactiveshell.py:3444: DtypeWarning: Columns (0,44,50,73,84,309,437,442,443,450,457,486,502,540,549,568,728,733,745,747,752,763,801,810,829,882,883,884,885,886,887,888,889,890,891,892,951,989,994,1000,1015,1045,1065,1066,1070,1071,1072,1073,1075,1076,1077,1080,1081,1098,1103,1119,1121,1172,1174,1193,1195,1196,1197,1203,1204,1205,1206,1358,1360,1361,1362,1368,1369,1370,1371,1486,1492,1493,1496,1497,1498,1499,1508,1516,1532,1535,1546) have mixed types.Specify dtype option on import or set low_memory=False.\n",
      "  exec(code_obj, self.user_global_ns, self.user_ns)\n"
     ]
    }
   ],
   "source": [
    "df_base = pd.read_csv(r'../../creating_the_clinic_dataset/preprocessed_data/merged_2021_and_2022.csv', na_values = ' ')\n",
    "additional_columns = ['id']#['id', 'gender', 'redcap_event_name', 'age_child_pre']\n",
    "df = df_base[df_base.redcap_event_name == 'intake_arm_1'][additional_columns + sci_af_ca]\n",
    "#df.to_csv(\"data_for_sci_af_ca_CFA.csv\", index=False)\n"
   ]
  },
  {
   "cell_type": "code",
   "execution_count": 19,
   "id": "f6da0961",
   "metadata": {},
   "outputs": [
    {
     "data": {
      "text/html": [
       "<div>\n",
       "<style scoped>\n",
       "    .dataframe tbody tr th:only-of-type {\n",
       "        vertical-align: middle;\n",
       "    }\n",
       "\n",
       "    .dataframe tbody tr th {\n",
       "        vertical-align: top;\n",
       "    }\n",
       "\n",
       "    .dataframe thead th {\n",
       "        text-align: right;\n",
       "    }\n",
       "</style>\n",
       "<table border=\"1\" class=\"dataframe\">\n",
       "  <thead>\n",
       "    <tr style=\"text-align: right;\">\n",
       "      <th></th>\n",
       "      <th>record_id</th>\n",
       "      <th>redcap_event_name</th>\n",
       "      <th>redcap_survey_identifier</th>\n",
       "      <th>opening_timestamp</th>\n",
       "      <th>id</th>\n",
       "      <th>er_num</th>\n",
       "      <th>complaint___1</th>\n",
       "      <th>complaint___2</th>\n",
       "      <th>complaint___3</th>\n",
       "      <th>complaint___4</th>\n",
       "      <th>...</th>\n",
       "      <th>c_ssrs_fu_attemp_6_clin</th>\n",
       "      <th>c_ssrs_fu_attemp_6_2_clin</th>\n",
       "      <th>c_ssrs_fu_attemp_7_clin</th>\n",
       "      <th>c_ssrs_fu_attemp_8_clin</th>\n",
       "      <th>c_ssrs_fu_done_clin</th>\n",
       "      <th>c_ssrs_fu_done_2_clin</th>\n",
       "      <th>inattentive_child</th>\n",
       "      <th>inattentive_mother</th>\n",
       "      <th>inattentive_father</th>\n",
       "      <th>original_dataset</th>\n",
       "    </tr>\n",
       "  </thead>\n",
       "  <tbody>\n",
       "    <tr>\n",
       "      <th>1548</th>\n",
       "      <td>1003</td>\n",
       "      <td>pre_treatment_arm_1</td>\n",
       "      <td>NaN</td>\n",
       "      <td>2019-04-16 00:00:00</td>\n",
       "      <td>204</td>\n",
       "      <td>NaN</td>\n",
       "      <td>NaN</td>\n",
       "      <td>NaN</td>\n",
       "      <td>NaN</td>\n",
       "      <td>NaN</td>\n",
       "      <td>...</td>\n",
       "      <td>NaN</td>\n",
       "      <td>NaN</td>\n",
       "      <td>NaN</td>\n",
       "      <td>NaN</td>\n",
       "      <td>NaN</td>\n",
       "      <td>NaN</td>\n",
       "      <td>0</td>\n",
       "      <td>0</td>\n",
       "      <td>0</td>\n",
       "      <td>2021</td>\n",
       "    </tr>\n",
       "    <tr>\n",
       "      <th>1549</th>\n",
       "      <td>1003</td>\n",
       "      <td>5th_session_arm_1</td>\n",
       "      <td>NaN</td>\n",
       "      <td>2019-06-03 00:00:00</td>\n",
       "      <td>204</td>\n",
       "      <td>NaN</td>\n",
       "      <td>NaN</td>\n",
       "      <td>NaN</td>\n",
       "      <td>NaN</td>\n",
       "      <td>NaN</td>\n",
       "      <td>...</td>\n",
       "      <td>NaN</td>\n",
       "      <td>NaN</td>\n",
       "      <td>NaN</td>\n",
       "      <td>NaN</td>\n",
       "      <td>NaN</td>\n",
       "      <td>NaN</td>\n",
       "      <td>0</td>\n",
       "      <td>0</td>\n",
       "      <td>0</td>\n",
       "      <td>2021</td>\n",
       "    </tr>\n",
       "  </tbody>\n",
       "</table>\n",
       "<p>2 rows × 1547 columns</p>\n",
       "</div>"
      ],
      "text/plain": [
       "     record_id    redcap_event_name  redcap_survey_identifier  \\\n",
       "1548      1003  pre_treatment_arm_1                       NaN   \n",
       "1549      1003    5th_session_arm_1                       NaN   \n",
       "\n",
       "        opening_timestamp   id  er_num  complaint___1  complaint___2  \\\n",
       "1548  2019-04-16 00:00:00  204     NaN            NaN            NaN   \n",
       "1549  2019-06-03 00:00:00  204     NaN            NaN            NaN   \n",
       "\n",
       "      complaint___3  complaint___4  ...  c_ssrs_fu_attemp_6_clin  \\\n",
       "1548            NaN            NaN  ...                      NaN   \n",
       "1549            NaN            NaN  ...                      NaN   \n",
       "\n",
       "      c_ssrs_fu_attemp_6_2_clin c_ssrs_fu_attemp_7_clin  \\\n",
       "1548                        NaN                     NaN   \n",
       "1549                        NaN                     NaN   \n",
       "\n",
       "     c_ssrs_fu_attemp_8_clin  c_ssrs_fu_done_clin  c_ssrs_fu_done_2_clin  \\\n",
       "1548                     NaN                  NaN                    NaN   \n",
       "1549                     NaN                  NaN                    NaN   \n",
       "\n",
       "      inattentive_child  inattentive_mother  inattentive_father  \\\n",
       "1548                  0                   0                   0   \n",
       "1549                  0                   0                   0   \n",
       "\n",
       "      original_dataset  \n",
       "1548              2021  \n",
       "1549              2021  \n",
       "\n",
       "[2 rows x 1547 columns]"
      ]
     },
     "execution_count": 19,
     "metadata": {},
     "output_type": "execute_result"
    }
   ],
   "source": [
    "df_base.query(\"id == '204'\")"
   ]
  },
  {
   "cell_type": "code",
   "execution_count": 10,
   "id": "35c4dc39",
   "metadata": {},
   "outputs": [
    {
     "data": {
      "text/plain": [
       "True"
      ]
     },
     "execution_count": 10,
     "metadata": {},
     "output_type": "execute_result"
    }
   ],
   "source": [
    "df.shape[0] == df['id'].nunique()"
   ]
  },
  {
   "cell_type": "code",
   "execution_count": 11,
   "id": "7e054d7c",
   "metadata": {},
   "outputs": [],
   "source": [
    "df = df.dropna(thresh=0.5, subset = sci_af_ca)"
   ]
  },
  {
   "cell_type": "code",
   "execution_count": null,
   "id": "de506c1f",
   "metadata": {},
   "outputs": [],
   "source": []
  },
  {
   "cell_type": "code",
   "execution_count": 5,
   "id": "8f0af9ee",
   "metadata": {},
   "outputs": [],
   "source": [
    "from sklearn.experimental import enable_iterative_imputer\n",
    "from sklearn.impute import IterativeImputer\n",
    "\n",
    "# Load the dataset with missing values\n",
    "data = df[sci_af_ca]\n",
    "# Create the IterativeImputer object and fit the imputation model\n",
    "imputer = IterativeImputer(max_iter=20)\n",
    "imputed_data = imputer.fit_transform(data)"
   ]
  },
  {
   "cell_type": "code",
   "execution_count": 6,
   "id": "9985ca37",
   "metadata": {},
   "outputs": [],
   "source": [
    "df[sci_af_ca] = imputed_data"
   ]
  },
  {
   "cell_type": "code",
   "execution_count": 7,
   "id": "b8613689",
   "metadata": {},
   "outputs": [],
   "source": [
    "df.to_csv(\"data_for_research.csv\", index=False)\n"
   ]
  },
  {
   "cell_type": "code",
   "execution_count": null,
   "id": "2fb6be06",
   "metadata": {},
   "outputs": [],
   "source": []
  }
 ],
 "metadata": {
  "kernelspec": {
   "display_name": "Python 3 (ipykernel)",
   "language": "python",
   "name": "python3"
  },
  "language_info": {
   "codemirror_mode": {
    "name": "ipython",
    "version": 3
   },
   "file_extension": ".py",
   "mimetype": "text/x-python",
   "name": "python",
   "nbconvert_exporter": "python",
   "pygments_lexer": "ipython3",
   "version": "3.9.7"
  }
 },
 "nbformat": 4,
 "nbformat_minor": 5
}
