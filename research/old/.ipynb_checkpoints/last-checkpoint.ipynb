{
 "cells": [
  {
   "cell_type": "code",
   "execution_count": 1,
   "id": "360f2fe5-84c8-4248-ba8b-8824791a5347",
   "metadata": {},
   "outputs": [],
   "source": [
    "import pandas as pd\n",
    "import re\n",
    "import seaborn as sns\n",
    "import matplotlib.pyplot as plt\n",
    "sns.set(rc={'figure.figsize':(11,8)})\n",
    "sns.set(font_scale=1.2)\n",
    "import numpy as np"
   ]
  },
  {
   "cell_type": "markdown",
   "id": "83766e28-dcf7-4b84-8808-9cbf75291814",
   "metadata": {},
   "source": [
    "record_id = 85\n",
    "\n",
    "id = A6735"
   ]
  },
  {
   "cell_type": "code",
   "execution_count": null,
   "id": "d799c79b-a4fe-4d6a-935f-305f5ce0995a",
   "metadata": {},
   "outputs": [],
   "source": []
  },
  {
   "cell_type": "code",
   "execution_count": 2,
   "id": "be065faf-0ec6-4da9-9293-a22f0081e0fc",
   "metadata": {},
   "outputs": [
    {
     "name": "stderr",
     "output_type": "stream",
     "text": [
      "C:\\Users\\nogur\\anaconda3\\lib\\site-packages\\IPython\\core\\interactiveshell.py:3444: DtypeWarning: Columns (44,51,53,99,325,366,439,453,459,464,466,501,507,512,514,521,530,532,569,571,580,599,766,771,777,781,786,788,793,795,804,806,826,843,845,854,873,883,918,941,979,991,1002,1040,1045,1047,1049,1051,1053,1054,1080,1096,1119,1122,1126,1127,1131,1132,1133,1134,1136,1137,1138,1141,1142,1144,1161,1183,1186,1237,1239,1259,1261,1262,1263,1269,1270,1271,1272,1384,1387,1389,1405,1408,1411,1415,1432,1434,1435,1436,1442,1443,1444,1445,1499,1568,1569,1572,1573) have mixed types.Specify dtype option on import or set low_memory=False.\n",
      "  exec(code_obj, self.user_global_ns, self.user_ns)\n"
     ]
    },
    {
     "name": "stdout",
     "output_type": "stream",
     "text": [
      "(1138, 1621)\n",
      "(1166, 1596)\n"
     ]
    },
    {
     "name": "stderr",
     "output_type": "stream",
     "text": [
      "C:\\Users\\nogur\\anaconda3\\lib\\site-packages\\IPython\\core\\interactiveshell.py:3444: DtypeWarning: Columns (48) have mixed types.Specify dtype option on import or set low_memory=False.\n",
      "  exec(code_obj, self.user_global_ns, self.user_ns)\n"
     ]
    }
   ],
   "source": [
    "df = pd.read_csv(\"ImmiRiskIPT2022_DATA_2022-12-12_1719.csv\", na_values= ' ')\n",
    "print(df.shape)#.drop_duplicates(['id', 'redcap_event_name']).shape)\n",
    "df2 = pd.read_csv(r\"../Ver4/code/Schneider Depression Clinic Database.csv\", na_values= ' ')\n",
    "print(df2.drop_duplicates(['id', 'redcap_event_name']).shape)"
   ]
  },
  {
   "cell_type": "code",
   "execution_count": 52,
   "id": "559a8651-ffe9-493c-b47e-1b8267790b7c",
   "metadata": {},
   "outputs": [],
   "source": [
    "mult = [i for i in df.columns if i in df2.columns if not (i.endswith('complete') or i.startswith('diagnosis') or i.startswith('complaint') or i.startswith('timestamp'))]"
   ]
  },
  {
   "cell_type": "code",
   "execution_count": 53,
   "id": "c0375a2c-8d19-4b35-bc0d-3bfe7ef4621d",
   "metadata": {},
   "outputs": [],
   "source": [
    "y = df.dropna(subset=['id'])"
   ]
  },
  {
   "cell_type": "code",
   "execution_count": 54,
   "id": "96cc3487-aeb8-483d-8516-43dfcc5c772d",
   "metadata": {},
   "outputs": [],
   "source": [
    "def mew(record_id):\n",
    "    ID = None\n",
    "    dd = y[y.record_id == record_id]['id']\n",
    "    if dd.empty:\n",
    "        print(record_id)\n",
    "    else:\n",
    "        ID = dd.iloc[0]\n",
    "    return ID"
   ]
  },
  {
   "cell_type": "code",
   "execution_count": 55,
   "id": "44870b4a-413c-4de1-839c-3a1cbe63cc16",
   "metadata": {},
   "outputs": [
    {
     "name": "stdout",
     "output_type": "stream",
     "text": [
      "85\n",
      "550\n"
     ]
    }
   ],
   "source": [
    "df['id'] = df.record_id.apply(mew)"
   ]
  },
  {
   "cell_type": "code",
   "execution_count": 66,
   "id": "c0c640bb-9931-4d02-9c2d-b68896cd6b45",
   "metadata": {},
   "outputs": [
    {
     "data": {
      "text/html": [
       "<div>\n",
       "<style scoped>\n",
       "    .dataframe tbody tr th:only-of-type {\n",
       "        vertical-align: middle;\n",
       "    }\n",
       "\n",
       "    .dataframe tbody tr th {\n",
       "        vertical-align: top;\n",
       "    }\n",
       "\n",
       "    .dataframe thead th {\n",
       "        text-align: right;\n",
       "    }\n",
       "</style>\n",
       "<table border=\"1\" class=\"dataframe\">\n",
       "  <thead>\n",
       "    <tr style=\"text-align: right;\">\n",
       "      <th></th>\n",
       "      <th>record_id</th>\n",
       "      <th>redcap_event_name</th>\n",
       "      <th>redcap_survey_identifier</th>\n",
       "      <th>opening_timestamp</th>\n",
       "      <th>id</th>\n",
       "      <th>er_num</th>\n",
       "      <th>complaint___1</th>\n",
       "      <th>complaint___2</th>\n",
       "      <th>complaint___3</th>\n",
       "      <th>complaint___4</th>\n",
       "      <th>...</th>\n",
       "      <th>c_ssrs_fu_attemp_5_clin</th>\n",
       "      <th>c_ssrs_fu_attemp_5_2_clin</th>\n",
       "      <th>c_ssrs_fu_attemp_5_3_clin</th>\n",
       "      <th>c_ssrs_fu_attemp_6_clin</th>\n",
       "      <th>c_ssrs_fu_attemp_6_2_clin</th>\n",
       "      <th>c_ssrs_fu_attemp_7_clin</th>\n",
       "      <th>c_ssrs_fu_attemp_8_clin</th>\n",
       "      <th>c_ssrs_fu_done_clin</th>\n",
       "      <th>c_ssrs_fu_done_2_clin</th>\n",
       "      <th>cssrs_fw_maya_complete</th>\n",
       "    </tr>\n",
       "  </thead>\n",
       "  <tbody>\n",
       "  </tbody>\n",
       "</table>\n",
       "<p>0 rows × 1621 columns</p>\n",
       "</div>"
      ],
      "text/plain": [
       "Empty DataFrame\n",
       "Columns: [record_id, redcap_event_name, redcap_survey_identifier, opening_timestamp, id, er_num, complaint___1, complaint___2, complaint___3, complaint___4, complaint___5, complaint___6, complaint_other, complaint_date, diagnosis___1, diagnosis___2, diagnosis___3, diagnosis___4, diagnosis___5, diagnosis___6, diagnosis___7, diagnosis___8, diagnosis___9, diagnosis___10, diagnosis___11, diagnosis___12, diagnosis___13, diagnosis___14, diagnosis_other, opening_psychothe, opening_psychothe_2___1, opening_psychothe_2___2, opening_psychothe_2___3, opening_psychothe_2___4, opening_psychothe_2___5, opening_psychothe_2___6, opening_psychothe_2___7, opening_psychothe_3, opening_medicine, opening_medicine_2___1, opening_medicine_2___2, opening_medicine_2___3, opening_medicine_2___4, opening_medicine_2___5, opening_medicine_3, iat_done, iat_done_no, group___1, group___2, group___3, consent, consent_no, opening_complete, covid19_timestamp, covid_1___1, covid_1___2, covid_1___3, covid_1___4, covid_2, covid_3___1, covid_3___2, covid_3___3, covid_3___4, covid_3___5, covid_3___6, covid_3___7, covid_3___8, covid_4, covid_5, covid_6, covid_7, covid_8, covid19_complete, opening_child_pre_timestamp, age_child_pre, gender, opening_child_pre_complete, marisscisf_timestamp, age_child, maris_sci_sf_1, maris_sci_sf_2, maris_sci_sf_3, maris_sci_sf_4, maris_sci_sf_5, maris_sci_sf_6, maris_sci_sf_7, maris_sci_sf_8, maris_sci_sf_9, marisscisf_complete, marissoqsf_timestamp, maris_soq_sf_1, maris_soq_sf_2, maris_soq_sf_3, maris_soq_sf_4, maris_soq_sf_5, maris_soq_sf_6, maris_soq_sf_7, maris_soq_sf_8, marissoqsf_complete, cssrs_intake_timestamp, ...]\n",
       "Index: []\n",
       "\n",
       "[0 rows x 1621 columns]"
      ]
     },
     "execution_count": 66,
     "metadata": {},
     "output_type": "execute_result"
    }
   ],
   "source": [
    "df[df['id'] == 550]"
   ]
  },
  {
   "cell_type": "code",
   "execution_count": 56,
   "id": "a99b4ef6-cbdd-45c3-b624-c9aba972b973",
   "metadata": {},
   "outputs": [],
   "source": [
    "ss = pd.concat([df,df2])"
   ]
  },
  {
   "cell_type": "code",
   "execution_count": 57,
   "id": "5e0f63bf-4be7-41a9-9b90-85e38179fd49",
   "metadata": {
    "tags": []
   },
   "outputs": [],
   "source": [
    "ss = ss[ss.duplicated(subset=['id', 'redcap_event_name'], keep=False)]"
   ]
  },
  {
   "cell_type": "code",
   "execution_count": 58,
   "id": "fa93f841-f3ca-42f6-8846-a5e614335383",
   "metadata": {},
   "outputs": [],
   "source": [
    "ss = ss.sort_values(['id', 'redcap_event_name']).reset_index().drop('index', axis=1)"
   ]
  },
  {
   "cell_type": "code",
   "execution_count": 59,
   "id": "9656e3fa-65ac-4166-a69c-e3857dc079cf",
   "metadata": {},
   "outputs": [
    {
     "data": {
      "text/plain": [
       "2"
      ]
     },
     "execution_count": 59,
     "metadata": {},
     "output_type": "execute_result"
    }
   ],
   "source": [
    "df['id'].isna().sum()"
   ]
  },
  {
   "cell_type": "code",
   "execution_count": 60,
   "id": "2fde1983-8a3c-4920-9037-cfbab49e8531",
   "metadata": {},
   "outputs": [
    {
     "data": {
      "text/plain": [
       "0"
      ]
     },
     "execution_count": 60,
     "metadata": {},
     "output_type": "execute_result"
    }
   ],
   "source": [
    "df2['id'].isna().sum()"
   ]
  },
  {
   "cell_type": "code",
   "execution_count": 61,
   "id": "bfc0059e-f55f-4fe4-9b03-c6c1bd942845",
   "metadata": {
    "tags": []
   },
   "outputs": [],
   "source": [
    "def meow(s2):\n",
    "    diff = []\n",
    "    \n",
    "    for i in mult:\n",
    "        if not s2[i].isna().any():\n",
    "            if s2.iloc[1][i] != s2.iloc[0][i]:\n",
    "                diff.append(i)\n",
    "    return diff"
   ]
  },
  {
   "cell_type": "code",
   "execution_count": 62,
   "id": "beda4684-e53a-400c-bd6f-13006449b5dc",
   "metadata": {},
   "outputs": [],
   "source": [
    "diff_dicts = []"
   ]
  },
  {
   "cell_type": "code",
   "execution_count": 63,
   "id": "d83abe58-f37a-4d70-b3d9-9b54e8d7d3e6",
   "metadata": {},
   "outputs": [],
   "source": [
    "for i in ss['id'].unique():\n",
    "    for j in ss.redcap_event_name.unique():\n",
    "        if not ss[(ss['id'] == i) & (ss.redcap_event_name == j)].empty:\n",
    "            diff = meow(ss[(ss['id'] == i) & (ss.redcap_event_name == j)])\n",
    "            if len(diff):\n",
    "                diff_dicts.append({'id': i, 'redcap_event_name':j, 'differences': diff})"
   ]
  },
  {
   "cell_type": "code",
   "execution_count": 64,
   "id": "64591732-cf44-4e20-95d8-6faf6e21d4e4",
   "metadata": {},
   "outputs": [],
   "source": [
    "diffs = pd.DataFrame(diff_dicts)"
   ]
  },
  {
   "cell_type": "code",
   "execution_count": 71,
   "id": "d9c929dd-034a-4e62-903d-f2fe3d93eaa4",
   "metadata": {},
   "outputs": [
    {
     "data": {
      "text/plain": [
       "749    1.0\n",
       "Name: group___1, dtype: float64"
      ]
     },
     "execution_count": 71,
     "metadata": {},
     "output_type": "execute_result"
    }
   ],
   "source": [
    "df2[(df2['id'] == 'Y9804') & (df2.redcap_event_name == 'intake_arm_1')]['group___1']"
   ]
  },
  {
   "cell_type": "code",
   "execution_count": 72,
   "id": "6bcf2a33-364d-466f-a566-39cb6807a4c6",
   "metadata": {},
   "outputs": [
    {
     "data": {
      "text/plain": [
       "519    0.0\n",
       "Name: group___1, dtype: float64"
      ]
     },
     "execution_count": 72,
     "metadata": {},
     "output_type": "execute_result"
    }
   ],
   "source": [
    "df[(df['id'] == 'Y9804') & (df.redcap_event_name == 'intake_arm_1')]['group___1']"
   ]
  },
  {
   "cell_type": "code",
   "execution_count": 67,
   "id": "9ff19f0f-4dce-48a4-978d-eb9ed165de7a",
   "metadata": {},
   "outputs": [
    {
     "data": {
      "text/html": [
       "<div>\n",
       "<style scoped>\n",
       "    .dataframe tbody tr th:only-of-type {\n",
       "        vertical-align: middle;\n",
       "    }\n",
       "\n",
       "    .dataframe tbody tr th {\n",
       "        vertical-align: top;\n",
       "    }\n",
       "\n",
       "    .dataframe thead th {\n",
       "        text-align: right;\n",
       "    }\n",
       "</style>\n",
       "<table border=\"1\" class=\"dataframe\">\n",
       "  <thead>\n",
       "    <tr style=\"text-align: right;\">\n",
       "      <th></th>\n",
       "      <th>id</th>\n",
       "      <th>redcap_event_name</th>\n",
       "      <th>differences</th>\n",
       "    </tr>\n",
       "  </thead>\n",
       "  <tbody>\n",
       "    <tr>\n",
       "      <th>0</th>\n",
       "      <td>8120App</td>\n",
       "      <td>intake_arm_1</td>\n",
       "      <td>[opening_psychothe_2___4, opening_medicine_2___1]</td>\n",
       "    </tr>\n",
       "    <tr>\n",
       "      <th>1</th>\n",
       "      <td>8120App</td>\n",
       "      <td>control_3month_arm_1</td>\n",
       "      <td>[visit_date_stu, chameleon_ideation_stu, chame...</td>\n",
       "    </tr>\n",
       "    <tr>\n",
       "      <th>2</th>\n",
       "      <td>A0875</td>\n",
       "      <td>intake_arm_1</td>\n",
       "      <td>[opening_timestamp, opening_psychothe, opening...</td>\n",
       "    </tr>\n",
       "    <tr>\n",
       "      <th>3</th>\n",
       "      <td>A1066</td>\n",
       "      <td>intake_arm_1</td>\n",
       "      <td>[opening_psychothe_2___3, opening_medicine_2__...</td>\n",
       "    </tr>\n",
       "    <tr>\n",
       "      <th>4</th>\n",
       "      <td>A1651</td>\n",
       "      <td>intake_arm_1</td>\n",
       "      <td>[opening_psychothe_2___3, opening_psychothe_2_...</td>\n",
       "    </tr>\n",
       "    <tr>\n",
       "      <th>...</th>\n",
       "      <td>...</td>\n",
       "      <td>...</td>\n",
       "      <td>...</td>\n",
       "    </tr>\n",
       "    <tr>\n",
       "      <th>189</th>\n",
       "      <td>Y8189</td>\n",
       "      <td>intake_arm_1</td>\n",
       "      <td>[opening_psychothe_2___4, opening_psychothe_3,...</td>\n",
       "    </tr>\n",
       "    <tr>\n",
       "      <th>190</th>\n",
       "      <td>Y8189</td>\n",
       "      <td>5th_session_arm_1</td>\n",
       "      <td>[treatment_end_2_stu, visit_date_stu]</td>\n",
       "    </tr>\n",
       "    <tr>\n",
       "      <th>191</th>\n",
       "      <td>Y9606</td>\n",
       "      <td>intake_arm_1</td>\n",
       "      <td>[opening_psychothe_2___2, opening_medicine_2__...</td>\n",
       "    </tr>\n",
       "    <tr>\n",
       "      <th>192</th>\n",
       "      <td>Y9804</td>\n",
       "      <td>followup_3month_arm_1</td>\n",
       "      <td>[treatment_end_2_stu]</td>\n",
       "    </tr>\n",
       "    <tr>\n",
       "      <th>193</th>\n",
       "      <td>Y9804</td>\n",
       "      <td>intake_arm_1</td>\n",
       "      <td>[group___1, with_who_m___1, with_who_f___1]</td>\n",
       "    </tr>\n",
       "  </tbody>\n",
       "</table>\n",
       "<p>194 rows × 3 columns</p>\n",
       "</div>"
      ],
      "text/plain": [
       "          id      redcap_event_name  \\\n",
       "0    8120App           intake_arm_1   \n",
       "1    8120App   control_3month_arm_1   \n",
       "2      A0875           intake_arm_1   \n",
       "3      A1066           intake_arm_1   \n",
       "4      A1651           intake_arm_1   \n",
       "..       ...                    ...   \n",
       "189    Y8189           intake_arm_1   \n",
       "190    Y8189      5th_session_arm_1   \n",
       "191    Y9606           intake_arm_1   \n",
       "192    Y9804  followup_3month_arm_1   \n",
       "193    Y9804           intake_arm_1   \n",
       "\n",
       "                                           differences  \n",
       "0    [opening_psychothe_2___4, opening_medicine_2___1]  \n",
       "1    [visit_date_stu, chameleon_ideation_stu, chame...  \n",
       "2    [opening_timestamp, opening_psychothe, opening...  \n",
       "3    [opening_psychothe_2___3, opening_medicine_2__...  \n",
       "4    [opening_psychothe_2___3, opening_psychothe_2_...  \n",
       "..                                                 ...  \n",
       "189  [opening_psychothe_2___4, opening_psychothe_3,...  \n",
       "190              [treatment_end_2_stu, visit_date_stu]  \n",
       "191  [opening_psychothe_2___2, opening_medicine_2__...  \n",
       "192                              [treatment_end_2_stu]  \n",
       "193        [group___1, with_who_m___1, with_who_f___1]  \n",
       "\n",
       "[194 rows x 3 columns]"
      ]
     },
     "execution_count": 67,
     "metadata": {},
     "output_type": "execute_result"
    }
   ],
   "source": [
    "diffs"
   ]
  },
  {
   "cell_type": "code",
   "execution_count": null,
   "id": "c1fb2493-5792-445c-bc2d-9fde2634fcd9",
   "metadata": {},
   "outputs": [],
   "source": []
  },
  {
   "cell_type": "code",
   "execution_count": 16,
   "id": "1cc75c65-00dd-4698-8ab6-c692f0dcbc7f",
   "metadata": {},
   "outputs": [],
   "source": [
    "diffs.to_csv('records_with_differences_between_redcups_recordings.csv', index=False)"
   ]
  },
  {
   "cell_type": "code",
   "execution_count": null,
   "id": "26dfcd4b-0605-414e-a3ed-f533988f92e8",
   "metadata": {},
   "outputs": [],
   "source": []
  }
 ],
 "metadata": {
  "kernelspec": {
   "display_name": "Python 3 (ipykernel)",
   "language": "python",
   "name": "python3"
  },
  "language_info": {
   "codemirror_mode": {
    "name": "ipython",
    "version": 3
   },
   "file_extension": ".py",
   "mimetype": "text/x-python",
   "name": "python",
   "nbconvert_exporter": "python",
   "pygments_lexer": "ipython3",
   "version": "3.9.7"
  }
 },
 "nbformat": 4,
 "nbformat_minor": 5
}
