{
 "cells": [
  {
   "cell_type": "code",
   "execution_count": 1,
   "id": "a6a54af5-0084-440a-8012-940ef6e00e5e",
   "metadata": {},
   "outputs": [],
   "source": [
    "redcap_event_names = [\n",
    "    'intake_arm_1',\n",
    "    'control_6month_arm_1',\n",
    "    'pre_treatment_arm_1',\n",
    "    '5th_session_arm_1',\n",
    "    'post_treatment_arm_1',\n",
    "    'followup_3month_arm_1',\n",
    "    'control_3month_arm_1',\n",
    "    'control_5weeks_arm_1',\n",
    "    'corona_arm_1',\n",
    "    'er_arm_1',\n",
    "    'followup_12month_arm_1',\n",
    "    'er_one_week_arm_1',\n",
    "    'control_12month_arm_1', \n",
    "    'control_9month_arm_1'\n",
    "]\n"
   ]
  },
  {
   "cell_type": "code",
   "execution_count": 2,
   "id": "360f2fe5-84c8-4248-ba8b-8824791a5347",
   "metadata": {},
   "outputs": [],
   "source": [
    "import pandas as pd\n",
    "import re\n",
    "import seaborn as sns\n",
    "import matplotlib.pyplot as plt\n",
    "sns.set(rc={'figure.figsize':(11,8)})\n",
    "sns.set(font_scale=1.2)"
   ]
  },
  {
   "cell_type": "code",
   "execution_count": 3,
   "id": "be065faf-0ec6-4da9-9293-a22f0081e0fc",
   "metadata": {},
   "outputs": [
    {
     "name": "stderr",
     "output_type": "stream",
     "text": [
      "C:\\Users\\nogur\\anaconda3\\lib\\site-packages\\IPython\\core\\interactiveshell.py:3444: DtypeWarning: Columns (44,51,53,99,325,366,439,453,459,464,466,501,507,512,514,521,530,532,569,571,580,599,766,771,777,781,786,788,793,795,804,806,826,843,845,854,873,883,918,941,979,991,1002,1040,1045,1047,1049,1051,1053,1054,1080,1096,1119,1122,1126,1127,1131,1132,1133,1134,1136,1137,1138,1141,1142,1144,1161,1183,1186,1237,1239,1259,1261,1262,1263,1269,1270,1271,1272,1384,1387,1389,1405,1408,1411,1415,1432,1434,1435,1436,1442,1443,1444,1445,1499,1568,1569,1572,1573) have mixed types.Specify dtype option on import or set low_memory=False.\n",
      "  exec(code_obj, self.user_global_ns, self.user_ns)\n"
     ]
    },
    {
     "data": {
      "text/plain": [
       "(1138, 1621)"
      ]
     },
     "execution_count": 3,
     "metadata": {},
     "output_type": "execute_result"
    }
   ],
   "source": [
    "df = pd.read_csv(\"ImmiRiskIPT2022_DATA_2022-12-12_1719.csv\", na_values= ' ')\n",
    "df.shape"
   ]
  },
  {
   "cell_type": "code",
   "execution_count": 4,
   "id": "e662ee9d-f130-46a0-8cac-29e03560feca",
   "metadata": {},
   "outputs": [],
   "source": [
    "id_column = 'record_id'\n",
    "cols = list(df.columns)\n",
    "cols.remove('redcap_event_name')\n",
    "limit = 83\n",
    "# cols[limit]\n",
    "duplicate_cols = list(cols[limit+1:])"
   ]
  },
  {
   "cell_type": "markdown",
   "id": "aba2559d-3b7f-45eb-adfa-4eb3cd98e24a",
   "metadata": {},
   "source": [
    "# find duplicates\n"
   ]
  },
  {
   "cell_type": "code",
   "execution_count": 5,
   "id": "8bdf4fa8-0b4b-437e-a368-d62214f13d18",
   "metadata": {},
   "outputs": [
    {
     "name": "stdout",
     "output_type": "stream",
     "text": [
      "(256, 3156)\n"
     ]
    }
   ],
   "source": [
    "intake_arm_1  = df[df['redcap_event_name'] == 'intake_arm_1'][cols]\n",
    "control_6month_arm_1 = df[df['redcap_event_name'] == 'control_6month_arm_1'][[id_column] + duplicate_cols]\n",
    "\n",
    "unified_dataframe = intake_arm_1.merge(control_6month_arm_1, on = id_column, how='outer', suffixes=('_intake', '_control_6month'))\n",
    "print(unified_dataframe.shape)\n",
    "\n",
    "redcap_event_names.remove('intake_arm_1')\n",
    "redcap_event_names.remove('control_6month_arm_1')\n",
    "\n"
   ]
  },
  {
   "cell_type": "code",
   "execution_count": 6,
   "id": "6fd23ca8-d9b0-49a8-8fa0-f7f4ad1be934",
   "metadata": {},
   "outputs": [],
   "source": [
    "redcap_event_dataframes = {}"
   ]
  },
  {
   "cell_type": "code",
   "execution_count": 7,
   "id": "3b43d4be-6bad-491a-993d-81117955aae7",
   "metadata": {},
   "outputs": [],
   "source": [
    "\n",
    "for event_name in redcap_event_names: \n",
    "    specific_event_dataframe = df[df['redcap_event_name'] == event_name][[id_column] + duplicate_cols]\n",
    "    specific_event_dataframe = specific_event_dataframe.rename({i : f'{i}_{event_name}' for i in duplicate_cols}, axis=1)    \n",
    "    redcap_event_dataframes[event_name] = specific_event_dataframe\n"
   ]
  },
  {
   "cell_type": "code",
   "execution_count": 8,
   "id": "8f5d80be-93f8-4143-a5fe-1d2e43b2f8df",
   "metadata": {},
   "outputs": [
    {
     "name": "stdout",
     "output_type": "stream",
     "text": [
      "event_name = control_6month_arm_1 (256, 3156)\n",
      "event_name = pre_treatment_arm_1 (256, 4692)\n",
      "event_name = 5th_session_arm_1 (257, 6228)\n",
      "event_name = post_treatment_arm_1 (257, 7764)\n",
      "event_name = followup_3month_arm_1 (257, 9300)\n",
      "event_name = control_3month_arm_1 (257, 10836)\n",
      "event_name = control_5weeks_arm_1 (257, 12372)\n",
      "event_name = corona_arm_1 (257, 13908)\n",
      "event_name = er_arm_1 (257, 15444)\n",
      "event_name = followup_12month_arm_1 (257, 16980)\n",
      "event_name = er_one_week_arm_1 (257, 18516)\n",
      "event_name = control_12month_arm_1 (257, 20052)\n",
      "event_name = control_9month_arm_1 (257, 21588)\n"
     ]
    }
   ],
   "source": [
    "print('event_name = control_6month_arm_1', unified_dataframe.shape)\n",
    "\n",
    "for event_name in redcap_event_dataframes.keys():\n",
    "    unified_dataframe = unified_dataframe.merge(redcap_event_dataframes[event_name], on = id_column, how='outer')\n",
    "    print('event_name =', event_name, unified_dataframe.shape)\n"
   ]
  },
  {
   "cell_type": "code",
   "execution_count": 9,
   "id": "e2581ffc-23e7-4dc6-9aac-2d9cfede2dc6",
   "metadata": {},
   "outputs": [
    {
     "data": {
      "text/plain": [
       "1536"
      ]
     },
     "execution_count": 9,
     "metadata": {},
     "output_type": "execute_result"
    }
   ],
   "source": [
    "len(duplicate_cols)"
   ]
  },
  {
   "cell_type": "code",
   "execution_count": 10,
   "id": "47b1f263-e74b-41fd-ae00-674222325010",
   "metadata": {},
   "outputs": [
    {
     "name": "stdout",
     "output_type": "stream",
     "text": [
      "4692\n",
      "6228\n",
      "7764\n",
      "9300\n",
      "10836\n",
      "12372\n",
      "13908\n",
      "15444\n",
      "16980\n",
      "18516\n",
      "21588\n"
     ]
    }
   ],
   "source": [
    "print(3156 + 1536)\n",
    "print(4692 + 1536)\n",
    "print(6228 + 1536)\n",
    "print(7764 + 1536)\n",
    "print(9300 + 1536)\n",
    "print(10836 + 1536)\n",
    "print(12372 + 1536)\n",
    "print(13908 + 1536)\n",
    "print(15444 + 1536)\n",
    "print(16980 + 1536)\n",
    "print(20052 + 1536)\n",
    "print(21588 + 1536)\n"
   ]
  },
  {
   "cell_type": "code",
   "execution_count": 16,
   "id": "67ab89b8-2f69-4bc6-be35-099ea0419340",
   "metadata": {},
   "outputs": [
    {
     "data": {
      "text/plain": [
       "257"
      ]
     },
     "execution_count": 16,
     "metadata": {},
     "output_type": "execute_result"
    }
   ],
   "source": [
    "df.record_id.nunique()"
   ]
  },
  {
   "cell_type": "code",
   "execution_count": 17,
   "id": "bd4e4112",
   "metadata": {},
   "outputs": [],
   "source": [
    "unified_dataframe.to_csv(\"ImmiRiskIPT2022_DATA_2022-12-12_1719_reshaped.csv\", index=False)"
   ]
  },
  {
   "cell_type": "code",
   "execution_count": null,
   "id": "f953059f-a4af-4e55-9bcd-3055be40dcb8",
   "metadata": {},
   "outputs": [],
   "source": []
  }
 ],
 "metadata": {
  "kernelspec": {
   "display_name": "Python 3 (ipykernel)",
   "language": "python",
   "name": "python3"
  },
  "language_info": {
   "codemirror_mode": {
    "name": "ipython",
    "version": 3
   },
   "file_extension": ".py",
   "mimetype": "text/x-python",
   "name": "python",
   "nbconvert_exporter": "python",
   "pygments_lexer": "ipython3",
   "version": "3.9.7"
  }
 },
 "nbformat": 4,
 "nbformat_minor": 5
}
