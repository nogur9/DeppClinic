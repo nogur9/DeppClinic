{
 "cells": [
  {
   "cell_type": "markdown",
   "id": "a8eabff8",
   "metadata": {},
   "source": [
    "https://www.ncbi.nlm.nih.gov/pmc/articles/PMC6004510/table/T2/\n",
    "\n",
    "https://en.wikipedia.org/wiki/Confirmatory_factor_analysis\n",
    "\n",
    "https://link.springer.com/article/10.3758/s13428-018-1055-2"
   ]
  },
  {
   "cell_type": "code",
   "execution_count": 1,
   "id": "98ea2321",
   "metadata": {},
   "outputs": [],
   "source": [
    "import pandas as pd\n",
    "from questions_columns import sci_af_ca\n",
    "from factor_analyzer import ConfirmatoryFactorAnalyzer, ModelSpecificationParser\n",
    "import re\n",
    "import semopy\n",
    "from semopy import stats"
   ]
  },
  {
   "cell_type": "code",
   "execution_count": 2,
   "id": "9308ed4d",
   "metadata": {},
   "outputs": [],
   "source": [
    "df = pd.read_csv(r\"../create_dataset/data_for_research.csv\")"
   ]
  },
  {
   "cell_type": "markdown",
   "id": "27405df5",
   "metadata": {},
   "source": [
    "All the observables into one factor"
   ]
  },
  {
   "cell_type": "code",
   "execution_count": 3,
   "id": "a1c02d7d",
   "metadata": {},
   "outputs": [],
   "source": [
    "data  = df[sci_af_ca]"
   ]
  },
  {
   "cell_type": "code",
   "execution_count": 17,
   "id": "4fafb413",
   "metadata": {},
   "outputs": [],
   "source": [
    "? semopy.efa.explore_cfa_model"
   ]
  },
  {
   "cell_type": "code",
   "execution_count": 6,
   "id": "48f86ca0",
   "metadata": {},
   "outputs": [],
   "source": [
    "efa_result = semopy.efa.explore_cfa_model(data)"
   ]
  },
  {
   "cell_type": "code",
   "execution_count": 7,
   "id": "a7593731",
   "metadata": {},
   "outputs": [
    {
     "name": "stdout",
     "output_type": "stream",
     "text": [
      "eta1 =~ sci_af_ca_20 + sci_af_ca_5 + sci_af_ca_6 + sci_af_ca_24 + sci_af_ca_16 + sci_af_ca_19 + sci_af_ca_22 + sci_af_ca_13 + sci_af_ca_40 + sci_af_ca_38 + sci_af_ca_14 + sci_af_ca_39 + sci_af_ca_9 + sci_af_ca_15 + sci_af_ca_17 + sci_af_ca_35 + sci_af_ca_25 + sci_af_ca_3 + sci_af_ca_8 + sci_af_ca_36 + sci_af_ca_37 + sci_af_ca_18 + sci_af_ca_26 + sci_af_ca_7 + sci_af_ca_33 + sci_af_ca_34\n",
      "eta2 =~ sci_af_ca_40 + sci_af_ca_28 + sci_af_ca_9 + sci_af_ca_2 + sci_af_ca_3 + sci_af_ca_26 + sci_af_ca_8 + sci_af_ca_37 + sci_af_ca_11 + sci_af_ca_10 + sci_af_ca_7 + sci_af_ca_34 + sci_af_ca_1\n",
      "eta3 =~ sci_af_ca_30 + sci_af_ca_32 + sci_af_ca_28 + sci_af_ca_29 + sci_af_ca_31 + sci_af_ca_14 + sci_af_ca_15 + sci_af_ca_3\n",
      "eta4 =~ sci_af_ca_21 + sci_af_ca_27 + sci_af_ca_12 + sci_af_ca_23 + sci_af_ca_14 + sci_af_ca_4 + sci_af_ca_22 + sci_af_ca_28\n",
      "\n"
     ]
    }
   ],
   "source": [
    "print(efa_result)"
   ]
  },
  {
   "cell_type": "code",
   "execution_count": 8,
   "id": "17c37cc4",
   "metadata": {},
   "outputs": [],
   "source": [
    "model_string = efa_result"
   ]
  },
  {
   "cell_type": "markdown",
   "id": "700bb7e8",
   "metadata": {},
   "source": [
    "Since indicators were binary, diagonally weighted least squares estimation, as recommended."
   ]
  },
  {
   "cell_type": "code",
   "execution_count": 9,
   "id": "e03b6b6d",
   "metadata": {},
   "outputs": [],
   "source": [
    "model= semopy.Model(model_string)\n",
    "model_fit = model.fit(data=data, obj = 'DWLS')"
   ]
  },
  {
   "cell_type": "markdown",
   "id": "c0154374",
   "metadata": {},
   "source": [
    "Did it succeeded?"
   ]
  },
  {
   "cell_type": "code",
   "execution_count": 10,
   "id": "6b727b33",
   "metadata": {},
   "outputs": [
    {
     "data": {
      "text/plain": [
       "'Optimization terminated successfully'"
      ]
     },
     "execution_count": 10,
     "metadata": {},
     "output_type": "execute_result"
    }
   ],
   "source": [
    "model_fit.message"
   ]
  },
  {
   "cell_type": "markdown",
   "id": "63e40a43",
   "metadata": {},
   "source": [
    "### Chi Squared"
   ]
  },
  {
   "cell_type": "markdown",
   "id": "ea1fd6bc",
   "metadata": {},
   "source": [
    "The Chi-square goodness of fit test is a statistical hypothesis test used to determine whether a variable is likely to come from a specified distribution or not. The chi-square fit index assesses the fit between the hypothesized model and data from a set of measurement items (the observed variables). The model chi-square is the chi-square statistic obtained using maximum likelihood method.\n",
    "\n",
    "The chi-square value is a test statistic of the goodness of fit of a factor model. It compares the observed covariance matrix with a theoretically proposed covariance matrix\n",
    "\n",
    "expecting -  non-significant χ2"
   ]
  },
  {
   "cell_type": "code",
   "execution_count": 11,
   "id": "fca36e19",
   "metadata": {},
   "outputs": [
    {
     "data": {
      "text/plain": [
       "(385.086999729535, 1.0)"
      ]
     },
     "execution_count": 11,
     "metadata": {},
     "output_type": "execute_result"
    }
   ],
   "source": [
    "stats.calc_chi2(model)"
   ]
  },
  {
   "cell_type": "markdown",
   "id": "9523c31e",
   "metadata": {},
   "source": [
    "### CFI, comparative fit index"
   ]
  },
  {
   "cell_type": "markdown",
   "id": "eb95bb67",
   "metadata": {},
   "source": [
    "The comparative fit index (CFI) analyzes the model fit by examining the discrepancy between the data and the hypothesized model, while adjusting for the issues of sample size\n",
    "\n",
    "CFI is an incremental relative fit index that measures the relative improvement in the fit of a researcher's model over that of a baseline model\n",
    "\n",
    "expecting - CFI≥.95\n",
    "\n",
    " CFI and TLI are incremental fit indices that compare the fit of a hypothesized model with that of a baseline model (i.e., a model with the worst fit)"
   ]
  },
  {
   "cell_type": "code",
   "execution_count": 12,
   "id": "b91f07b6",
   "metadata": {},
   "outputs": [
    {
     "data": {
      "text/plain": [
       "1.0051098125301097"
      ]
     },
     "execution_count": 12,
     "metadata": {},
     "output_type": "execute_result"
    }
   ],
   "source": [
    "stats.calc_cfi(model)"
   ]
  },
  {
   "cell_type": "markdown",
   "id": "df175085",
   "metadata": {},
   "source": [
    "### TLI, Tucker–Lewis index"
   ]
  },
  {
   "cell_type": "markdown",
   "id": "9544fea4",
   "metadata": {},
   "source": [
    "Also known as the non-normed fit index.\n",
    "\n",
    "TLI is based on the idea of comparing the proposed factor model to a model in which no interrelationships at all are assumed among any of the items\n",
    "\n",
    "analyzes the discrepancy between the chi-squared value of the hypothesized model and the chi-squared value of the null model. \n",
    "\n",
    "expecting - TLI≥.95\n",
    "\n",
    " CFI and TLI are incremental fit indices that compare the fit of a hypothesized model with that of a baseline model (i.e., a model with the worst fit)"
   ]
  },
  {
   "cell_type": "code",
   "execution_count": 13,
   "id": "6ee1774b",
   "metadata": {},
   "outputs": [
    {
     "data": {
      "text/plain": [
       "1.0055433293094374"
      ]
     },
     "execution_count": 13,
     "metadata": {},
     "output_type": "execute_result"
    }
   ],
   "source": [
    "stats.calc_tli(model)"
   ]
  },
  {
   "cell_type": "markdown",
   "id": "0446aece",
   "metadata": {},
   "source": [
    "### RMSEA, root mean square error of approximation"
   ]
  },
  {
   "cell_type": "markdown",
   "id": "369ab66d",
   "metadata": {},
   "source": [
    "RMSEA is a measure of the estimated discrepancy between the population and model-implied population covariance matrices per degree of freedom \n",
    "\n",
    "The root mean square error of approximation (RMSEA) avoids issues of sample size by analyzing the discrepancy between the hypothesized model, with optimally chosen parameter estimates, and the population covariance matrix\n",
    "\n",
    "expecting - RMSEA≤.06"
   ]
  },
  {
   "cell_type": "markdown",
   "id": "54c6af48",
   "metadata": {},
   "source": [
    "## All stats"
   ]
  },
  {
   "cell_type": "code",
   "execution_count": 14,
   "id": "49b74867",
   "metadata": {},
   "outputs": [
    {
     "data": {
      "text/html": [
       "<div>\n",
       "<style scoped>\n",
       "    .dataframe tbody tr th:only-of-type {\n",
       "        vertical-align: middle;\n",
       "    }\n",
       "\n",
       "    .dataframe tbody tr th {\n",
       "        vertical-align: top;\n",
       "    }\n",
       "\n",
       "    .dataframe thead th {\n",
       "        text-align: right;\n",
       "    }\n",
       "</style>\n",
       "<table border=\"1\" class=\"dataframe\">\n",
       "  <thead>\n",
       "    <tr style=\"text-align: right;\">\n",
       "      <th></th>\n",
       "      <th>DoF</th>\n",
       "      <th>DoF Baseline</th>\n",
       "      <th>chi2</th>\n",
       "      <th>chi2 p-value</th>\n",
       "      <th>chi2 Baseline</th>\n",
       "      <th>CFI</th>\n",
       "      <th>GFI</th>\n",
       "      <th>AGFI</th>\n",
       "      <th>NFI</th>\n",
       "      <th>TLI</th>\n",
       "      <th>RMSEA</th>\n",
       "      <th>AIC</th>\n",
       "      <th>BIC</th>\n",
       "      <th>LogLik</th>\n",
       "    </tr>\n",
       "  </thead>\n",
       "  <tbody>\n",
       "    <tr>\n",
       "      <th>Value</th>\n",
       "      <td>719</td>\n",
       "      <td>780</td>\n",
       "      <td>385.087</td>\n",
       "      <td>1.0</td>\n",
       "      <td>66127.407229</td>\n",
       "      <td>1.00511</td>\n",
       "      <td>0.994177</td>\n",
       "      <td>0.993683</td>\n",
       "      <td>0.994177</td>\n",
       "      <td>1.005543</td>\n",
       "      <td>0</td>\n",
       "      <td>185.584901</td>\n",
       "      <td>535.858975</td>\n",
       "      <td>8.20755</td>\n",
       "    </tr>\n",
       "  </tbody>\n",
       "</table>\n",
       "</div>"
      ],
      "text/plain": [
       "       DoF  DoF Baseline     chi2  chi2 p-value  chi2 Baseline      CFI  \\\n",
       "Value  719           780  385.087           1.0   66127.407229  1.00511   \n",
       "\n",
       "            GFI      AGFI       NFI       TLI  RMSEA         AIC         BIC  \\\n",
       "Value  0.994177  0.993683  0.994177  1.005543      0  185.584901  535.858975   \n",
       "\n",
       "        LogLik  \n",
       "Value  8.20755  "
      ]
     },
     "execution_count": 14,
     "metadata": {},
     "output_type": "execute_result"
    }
   ],
   "source": [
    "stats.calc_stats(model)"
   ]
  },
  {
   "cell_type": "markdown",
   "id": "023eb6e8",
   "metadata": {},
   "source": [
    "The comparative fit index (CFI) analyzes the model fit by examining the discrepancy between the data and the hypothesized model, while adjusting for the issues of sample size.\n",
    "\n",
    "\n",
    "The CFI (Bentler, 1990) measures the relative improvement in fit going from the baseline model to the postulated model.\n",
    "\n",
    "CFI≥.95"
   ]
  },
  {
   "cell_type": "code",
   "execution_count": null,
   "id": "5db1691b",
   "metadata": {},
   "outputs": [],
   "source": []
  }
 ],
 "metadata": {
  "kernelspec": {
   "display_name": "DeppClinic",
   "language": "python",
   "name": "deppclinic"
  },
  "language_info": {
   "codemirror_mode": {
    "name": "ipython",
    "version": 3
   },
   "file_extension": ".py",
   "mimetype": "text/x-python",
   "name": "python",
   "nbconvert_exporter": "python",
   "pygments_lexer": "ipython3",
   "version": "3.9.7"
  }
 },
 "nbformat": 4,
 "nbformat_minor": 5
}
