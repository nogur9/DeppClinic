{
 "cells": [
  {
   "cell_type": "code",
   "execution_count": 43,
   "id": "98ea2321",
   "metadata": {},
   "outputs": [],
   "source": [
    "import pandas as pd\n",
    "from questions_columns import sci_af_ca\n",
    "from factor_analyzer import ConfirmatoryFactorAnalyzer, ModelSpecificationParser\n",
    "import re\n",
    "import semopy\n",
    "from semopy import stats"
   ]
  },
  {
   "cell_type": "code",
   "execution_count": 44,
   "id": "9308ed4d",
   "metadata": {},
   "outputs": [],
   "source": [
    "df = pd.read_csv(r\"../create_dataset/data_for_research.csv\")"
   ]
  },
  {
   "cell_type": "code",
   "execution_count": 45,
   "id": "43f13122",
   "metadata": {},
   "outputs": [],
   "source": [
    "f = pd.read_excel(\"Factors.xlsx\")\n",
    "f = f.dropna(how='all', subset = ['question', 'F'])\n",
    "f['question_number'] = f.question.str.extract(r'(\\d+)')\n",
    "f['factor_number'] = f.F.str.extract(r'(\\d+)')"
   ]
  },
  {
   "cell_type": "code",
   "execution_count": 46,
   "id": "b2db4393",
   "metadata": {
    "scrolled": true
   },
   "outputs": [],
   "source": [
    "model_dict = {f\"x{str(i)}\": [] for i in range(1,6)}\n",
    "for i, row in f.iterrows():\n",
    "    model_dict[f\"x{row['factor_number']}\"].append(f\"sci_af_ca_{row['question_number']}\")"
   ]
  },
  {
   "cell_type": "code",
   "execution_count": 47,
   "id": "17c37cc4",
   "metadata": {},
   "outputs": [],
   "source": [
    "strmodel = f\"\"\"\n",
    "Factor1 =~ {\" + \".join(sci_af_ca)}\n",
    "\"\"\""
   ]
  },
  {
   "cell_type": "code",
   "execution_count": 48,
   "id": "2aae571b",
   "metadata": {},
   "outputs": [],
   "source": [
    "data  = df[sci_af_ca]\n"
   ]
  },
  {
   "cell_type": "code",
   "execution_count": 49,
   "id": "e03b6b6d",
   "metadata": {},
   "outputs": [],
   "source": [
    "model= semopy.Model(strmodel)\n",
    "#model_fit = model.fit(data=data)"
   ]
  },
  {
   "cell_type": "code",
   "execution_count": 51,
   "id": "a52cd259",
   "metadata": {},
   "outputs": [],
   "source": [
    "model_fit = model.fit(data=data)"
   ]
  },
  {
   "cell_type": "code",
   "execution_count": null,
   "id": "cf4b2e89",
   "metadata": {},
   "outputs": [],
   "source": []
  },
  {
   "cell_type": "code",
   "execution_count": 52,
   "id": "ac813efe",
   "metadata": {},
   "outputs": [
    {
     "data": {
      "text/plain": [
       "0.7583399979268993"
      ]
     },
     "execution_count": 52,
     "metadata": {},
     "output_type": "execute_result"
    }
   ],
   "source": [
    "stats.calc_cfi(model)"
   ]
  },
  {
   "cell_type": "code",
   "execution_count": 58,
   "id": "92c1dbca",
   "metadata": {},
   "outputs": [],
   "source": [
    "#chi_square = model_fit.info_criteria['chisq']\n",
    "cfi = stats.calc_cfi(model)\n",
    "tli = stats.calc_tli(model)\n",
    "rmsea = stats.calc_rmsea(model)\n",
    "srmr = stats.calc_stats(model)"
   ]
  },
  {
   "cell_type": "code",
   "execution_count": 60,
   "id": "f9fdbcef",
   "metadata": {},
   "outputs": [
    {
     "data": {
      "text/html": [
       "<div>\n",
       "<style scoped>\n",
       "    .dataframe tbody tr th:only-of-type {\n",
       "        vertical-align: middle;\n",
       "    }\n",
       "\n",
       "    .dataframe tbody tr th {\n",
       "        vertical-align: top;\n",
       "    }\n",
       "\n",
       "    .dataframe thead th {\n",
       "        text-align: right;\n",
       "    }\n",
       "</style>\n",
       "<table border=\"1\" class=\"dataframe\">\n",
       "  <thead>\n",
       "    <tr style=\"text-align: right;\">\n",
       "      <th></th>\n",
       "      <th>DoF</th>\n",
       "      <th>DoF Baseline</th>\n",
       "      <th>chi2</th>\n",
       "      <th>chi2 p-value</th>\n",
       "      <th>chi2 Baseline</th>\n",
       "      <th>CFI</th>\n",
       "      <th>GFI</th>\n",
       "      <th>AGFI</th>\n",
       "      <th>NFI</th>\n",
       "      <th>TLI</th>\n",
       "      <th>RMSEA</th>\n",
       "      <th>AIC</th>\n",
       "      <th>BIC</th>\n",
       "      <th>LogLik</th>\n",
       "    </tr>\n",
       "  </thead>\n",
       "  <tbody>\n",
       "    <tr>\n",
       "      <th>Value</th>\n",
       "      <td>740</td>\n",
       "      <td>780</td>\n",
       "      <td>2955.994455</td>\n",
       "      <td>0.0</td>\n",
       "      <td>9949.885113</td>\n",
       "      <td>0.75834</td>\n",
       "      <td>0.702912</td>\n",
       "      <td>0.686853</td>\n",
       "      <td>0.702912</td>\n",
       "      <td>0.745277</td>\n",
       "      <td>0.112645</td>\n",
       "      <td>135.054899</td>\n",
       "      <td>412.49971</td>\n",
       "      <td>12.47255</td>\n",
       "    </tr>\n",
       "  </tbody>\n",
       "</table>\n",
       "</div>"
      ],
      "text/plain": [
       "       DoF  DoF Baseline         chi2  chi2 p-value  chi2 Baseline      CFI  \\\n",
       "Value  740           780  2955.994455           0.0    9949.885113  0.75834   \n",
       "\n",
       "            GFI      AGFI       NFI       TLI     RMSEA         AIC  \\\n",
       "Value  0.702912  0.686853  0.702912  0.745277  0.112645  135.054899   \n",
       "\n",
       "             BIC    LogLik  \n",
       "Value  412.49971  12.47255  "
      ]
     },
     "execution_count": 60,
     "metadata": {},
     "output_type": "execute_result"
    }
   ],
   "source": [
    "srmr"
   ]
  },
  {
   "cell_type": "code",
   "execution_count": 62,
   "id": "22bb7f15",
   "metadata": {},
   "outputs": [
    {
     "ename": "AttributeError",
     "evalue": "'SolverResult' object has no attribute 'residuals'",
     "output_type": "error",
     "traceback": [
      "\u001b[1;31m---------------------------------------------------------------------------\u001b[0m",
      "\u001b[1;31mAttributeError\u001b[0m                            Traceback (most recent call last)",
      "\u001b[1;32m~\\AppData\\Local\\Temp\\ipykernel_6588\\1039155298.py\u001b[0m in \u001b[0;36m<module>\u001b[1;34m\u001b[0m\n\u001b[0;32m      1\u001b[0m \u001b[1;31m# Calculate the standardized root mean residual (SRMR)\u001b[0m\u001b[1;33m\u001b[0m\u001b[1;33m\u001b[0m\u001b[0m\n\u001b[1;32m----> 2\u001b[1;33m \u001b[0mresiduals\u001b[0m \u001b[1;33m=\u001b[0m \u001b[0mmodel_fit\u001b[0m\u001b[1;33m.\u001b[0m\u001b[0mresiduals\u001b[0m\u001b[1;33m\u001b[0m\u001b[1;33m\u001b[0m\u001b[0m\n\u001b[0m\u001b[0;32m      3\u001b[0m \u001b[0mcov_matrix\u001b[0m \u001b[1;33m=\u001b[0m \u001b[0mmodel_fit\u001b[0m\u001b[1;33m.\u001b[0m\u001b[0mcov_matrix\u001b[0m\u001b[1;33m\u001b[0m\u001b[1;33m\u001b[0m\u001b[0m\n\u001b[0;32m      4\u001b[0m \u001b[0msrmr\u001b[0m \u001b[1;33m=\u001b[0m \u001b[0mnp\u001b[0m\u001b[1;33m.\u001b[0m\u001b[0msqrt\u001b[0m\u001b[1;33m(\u001b[0m\u001b[0mnp\u001b[0m\u001b[1;33m.\u001b[0m\u001b[0mmean\u001b[0m\u001b[1;33m(\u001b[0m\u001b[0mnp\u001b[0m\u001b[1;33m.\u001b[0m\u001b[0mdiag\u001b[0m\u001b[1;33m(\u001b[0m\u001b[0mresiduals\u001b[0m \u001b[1;33m@\u001b[0m \u001b[0mresiduals\u001b[0m\u001b[1;33m.\u001b[0m\u001b[0mT\u001b[0m\u001b[1;33m)\u001b[0m \u001b[1;33m/\u001b[0m \u001b[0mnp\u001b[0m\u001b[1;33m.\u001b[0m\u001b[0mdiag\u001b[0m\u001b[1;33m(\u001b[0m\u001b[0mcov_matrix\u001b[0m\u001b[1;33m)\u001b[0m\u001b[1;33m)\u001b[0m\u001b[1;33m)\u001b[0m\u001b[1;33m\u001b[0m\u001b[1;33m\u001b[0m\u001b[0m\n",
      "\u001b[1;31mAttributeError\u001b[0m: 'SolverResult' object has no attribute 'residuals'"
     ]
    }
   ],
   "source": [
    "# Calculate the standardized root mean residual (SRMR)\n",
    "residuals = model_fit.residuals\n",
    "cov_matrix = model_fit.cov_matrix\n",
    "srmr = np.sqrt(np.mean(np.diag(residuals @ residuals.T) / np.diag(cov_matrix)))\n"
   ]
  },
  {
   "cell_type": "code",
   "execution_count": 65,
   "id": "17e817ab",
   "metadata": {
    "scrolled": false
   },
   "outputs": [
    {
     "data": {
      "text/plain": [
       "dict_keys(['mimic_lavaan', 'parameters', 'n_param_reg', 'n_param_cov', 'baseline', 'constraints', 'cov_diag', 'params_to_start', 'objectives', 'description', 'vars', 'vars_senders', 'matrices', 'names', 'start_rules', 'mx_beta', 'names_beta', 'mx_lambda', 'names_lambda', 'mx_psi', 'names_psi', 'mx_theta', 'names_theta', 'first_manifs', 'mx_data', 'mx_cov', 'mx_cov_inv', 'cov_logdet', 'mx_covlike_identity', 'n_samples', 'n_obs', 'param_vals', 'param_ranges', 'mx_diffs', 'identity_c', 'last_result'])"
      ]
     },
     "execution_count": 65,
     "metadata": {},
     "output_type": "execute_result"
    }
   ],
   "source": [
    "model.__dict__.keys()"
   ]
  },
  {
   "cell_type": "code",
   "execution_count": null,
   "id": "23fde1b7",
   "metadata": {},
   "outputs": [],
   "source": []
  },
  {
   "cell_type": "code",
   "execution_count": 20,
   "id": "f951e8c3",
   "metadata": {},
   "outputs": [
    {
     "name": "stdout",
     "output_type": "stream",
     "text": [
      "Object ` semopy.Model.SolverResult` not found.\n"
     ]
    }
   ],
   "source": [
    "? semopy.Model.SolverResult"
   ]
  },
  {
   "cell_type": "code",
   "execution_count": null,
   "id": "ef045919",
   "metadata": {},
   "outputs": [],
   "source": []
  },
  {
   "cell_type": "code",
   "execution_count": null,
   "id": "f778bc89",
   "metadata": {},
   "outputs": [],
   "source": []
  },
  {
   "cell_type": "code",
   "execution_count": 5,
   "id": "b9497e40",
   "metadata": {},
   "outputs": [],
   "source": [
    "df_features  = df[sci_af_ca]\n",
    "model_spec = ModelSpecificationParser.parse_model_specification_from_dict(df_features, model_dict)"
   ]
  },
  {
   "cell_type": "code",
   "execution_count": 22,
   "id": "40e5dce9",
   "metadata": {},
   "outputs": [],
   "source": [
    "cfa = ConfirmatoryFactorAnalyzer(model_spec)"
   ]
  },
  {
   "cell_type": "code",
   "execution_count": 23,
   "id": "8149ea26",
   "metadata": {},
   "outputs": [
    {
     "name": "stderr",
     "output_type": "stream",
     "text": [
      "C:\\Users\\nogur\\anaconda3\\envs\\DeppClinic\\lib\\site-packages\\factor_analyzer\\confirmatory_factor_analyzer.py:753: UserWarning: The optimization routine failed to converge: ABNORMAL_TERMINATION_IN_LNSRCH\n",
      "  warnings.warn(\n"
     ]
    },
    {
     "data": {
      "text/plain": [
       "ConfirmatoryFactorAnalyzer(n_obs=237,\n",
       "                           specification=<factor_analyzer.confirmatory_factor_analyzer.ModelSpecification object at 0x0000018C9789B6A0>)"
      ]
     },
     "execution_count": 23,
     "metadata": {},
     "output_type": "execute_result"
    }
   ],
   "source": [
    "cfa.fit(df_features.values)"
   ]
  },
  {
   "cell_type": "code",
   "execution_count": 16,
   "id": "6ec1df7e",
   "metadata": {},
   "outputs": [],
   "source": [
    "from factor_analyzer.factor_analyzer import calculate_bartlett_sphericity, calculate_kmo, FactorAnalyzer"
   ]
  },
  {
   "cell_type": "code",
   "execution_count": 18,
   "id": "90b4e3ab",
   "metadata": {},
   "outputs": [
    {
     "name": "stdout",
     "output_type": "stream",
     "text": [
      "Chi-square value: 9313.148344339079\n",
      "P-value: 0.0\n",
      "KMO Model: 0.961215407671803\n"
     ]
    }
   ],
   "source": [
    "chi_square_value,p_value=calculate_bartlett_sphericity(df_features)\n",
    "kmo_all,kmo_model=calculate_kmo(df_features)\n",
    "print('Chi-square value:',chi_square_value)\n",
    "print('P-value:',p_value)\n",
    "print('KMO Model:',kmo_model)"
   ]
  },
  {
   "cell_type": "code",
   "execution_count": 25,
   "id": "f28993c4",
   "metadata": {},
   "outputs": [
    {
     "data": {
      "text/plain": [
       "{'specification': <factor_analyzer.confirmatory_factor_analyzer.ModelSpecification at 0x18c9789b6a0>,\n",
       " 'n_obs': 237,\n",
       " 'is_cov_matrix': False,\n",
       " 'bounds': None,\n",
       " 'max_iter': 200,\n",
       " 'tol': None,\n",
       " 'impute': 'median',\n",
       " 'disp': True,\n",
       " 'cov_': array([[1.75228329, 0.67633392, 0.51577813, ..., 0.44610017, 0.49629589,\n",
       "         0.56171882],\n",
       "        [0.67633392, 2.04201606, 1.22015297, ..., 0.82567424, 0.9455981 ,\n",
       "         1.09967531],\n",
       "        [0.51577813, 1.22015297, 2.38344398, ..., 1.13068059, 1.17431835,\n",
       "         1.14369905],\n",
       "        ...,\n",
       "        [0.44610017, 0.82567424, 1.13068059, ..., 1.98728476, 1.46443158,\n",
       "         1.46154144],\n",
       "        [0.49629589, 0.9455981 , 1.17431835, ..., 1.46443158, 1.81446454,\n",
       "         1.45739793],\n",
       "        [0.56171882, 1.09967531, 1.14369905, ..., 1.46154144, 1.45739793,\n",
       "         2.05580694]]),\n",
       " 'mean_': array([1.24050633, 1.57383966, 1.86313123, 2.23206751, 2.2742616 ,\n",
       "        2.16726535, 1.17721519, 1.8264167 , 1.9535865 , 1.27848101,\n",
       "        1.17299578, 2.21526765, 2.21123853, 2.54951988, 2.07747213,\n",
       "        2.04313883, 2.03794048, 2.65400844, 2.16746062, 2.04977846,\n",
       "        2.23250987, 2.07785262, 1.98754605, 2.16033755, 2.03355416,\n",
       "        1.59770477, 2.11274332, 1.98288236, 2.40131302, 2.1088667 ,\n",
       "        1.69966985, 1.63040311, 2.43497406, 1.93299597, 2.94408409,\n",
       "        2.53368652, 2.04960084, 2.28527697, 2.09835933, 1.94345963]),\n",
       " 'loadings_': array([[0.45462069, 0.        , 0.        , 0.        , 0.        ],\n",
       "        [0.8294226 , 0.        , 0.        , 0.        , 0.        ],\n",
       "        [1.05211291, 0.        , 0.        , 0.        , 0.        ],\n",
       "        [1.08183858, 0.        , 0.        , 0.        , 0.        ],\n",
       "        [1.19666567, 0.        , 0.        , 0.        , 0.        ],\n",
       "        [1.15890849, 0.        , 0.        , 0.        , 0.        ],\n",
       "        [0.83678197, 0.        , 0.        , 0.        , 0.        ],\n",
       "        [0.91814784, 0.        , 0.        , 0.        , 0.        ],\n",
       "        [1.11084853, 0.        , 0.        , 0.        , 0.        ],\n",
       "        [0.80622513, 0.        , 0.        , 0.        , 0.        ],\n",
       "        [0.        , 0.60990279, 0.        , 0.        , 0.        ],\n",
       "        [0.        , 1.00843487, 0.        , 0.        , 0.        ],\n",
       "        [0.        , 1.07826527, 0.        , 0.        , 0.        ],\n",
       "        [0.        , 1.03104985, 0.        , 0.        , 0.        ],\n",
       "        [0.        , 0.96870557, 0.        , 0.        , 0.        ],\n",
       "        [0.        , 1.03658927, 0.        , 0.        , 0.        ],\n",
       "        [0.        , 0.95786134, 0.        , 0.        , 0.        ],\n",
       "        [0.        , 0.82590469, 0.        , 0.        , 0.        ],\n",
       "        [0.        , 1.07161202, 0.        , 0.        , 0.        ],\n",
       "        [0.        , 1.11936455, 0.        , 0.        , 0.        ],\n",
       "        [0.        , 1.05112206, 0.        , 0.        , 0.        ],\n",
       "        [0.        , 0.        , 1.06154617, 0.        , 0.        ],\n",
       "        [0.        , 0.        , 1.09995332, 0.        , 0.        ],\n",
       "        [0.        , 0.        , 1.01266781, 0.        , 0.        ],\n",
       "        [0.        , 0.        , 0.87709543, 0.        , 0.        ],\n",
       "        [0.        , 0.        , 0.76276553, 0.        , 0.        ],\n",
       "        [0.        , 0.        , 1.01320751, 0.        , 0.        ],\n",
       "        [0.        , 0.        , 0.9715514 , 0.        , 0.        ],\n",
       "        [0.        , 0.        , 0.        , 1.06657993, 0.        ],\n",
       "        [0.        , 0.        , 0.        , 1.10434031, 0.        ],\n",
       "        [0.        , 0.        , 0.        , 0.9874108 , 0.        ],\n",
       "        [0.        , 0.        , 0.        , 1.08900009, 0.        ],\n",
       "        [0.        , 0.        , 0.        , 0.80639887, 0.        ],\n",
       "        [0.        , 0.        , 0.        , 0.79171218, 0.        ],\n",
       "        [0.        , 0.        , 0.        , 0.74717178, 0.        ],\n",
       "        [0.        , 0.        , 0.        , 0.        , 0.79781044],\n",
       "        [0.        , 0.        , 0.        , 0.        , 0.81582449],\n",
       "        [0.        , 0.        , 0.        , 0.        , 1.02797209],\n",
       "        [0.        , 0.        , 0.        , 0.        , 0.99239449],\n",
       "        [0.        , 0.        , 0.        , 0.        , 1.0908835 ]]),\n",
       " 'error_vars_': array([[1.16781861],\n",
       "        [0.99329368],\n",
       "        [0.88018725],\n",
       "        [0.94404866],\n",
       "        [0.58093834],\n",
       "        [0.67276397],\n",
       "        [0.86181901],\n",
       "        [1.05738561],\n",
       "        [0.68722235],\n",
       "        [1.12178609],\n",
       "        [1.10403852],\n",
       "        [0.84683871],\n",
       "        [0.6258617 ],\n",
       "        [0.61560636],\n",
       "        [0.87679673],\n",
       "        [0.66144663],\n",
       "        [0.87911701],\n",
       "        [0.94278509],\n",
       "        [0.63369581],\n",
       "        [0.44637002],\n",
       "        [0.79801494],\n",
       "        [0.75295651],\n",
       "        [0.81842383],\n",
       "        [0.65376559],\n",
       "        [1.00695495],\n",
       "        [0.96889084],\n",
       "        [0.63548154],\n",
       "        [0.69893624],\n",
       "        [0.60346935],\n",
       "        [0.63792024],\n",
       "        [0.55338782],\n",
       "        [0.67455724],\n",
       "        [1.00485069],\n",
       "        [1.04815404],\n",
       "        [0.83596352],\n",
       "        [0.85920721],\n",
       "        [0.78404555],\n",
       "        [0.57597514],\n",
       "        [0.48778366],\n",
       "        [0.44770781]]),\n",
       " 'factor_varcovs_': array([[1.        , 1.21292959, 1.14489275, 0.54899723, 0.81639325],\n",
       "        [1.21292959, 1.        , 1.89279727, 0.62098606, 1.04457427],\n",
       "        [1.14489275, 1.89279727, 1.        , 0.60494788, 0.98835783],\n",
       "        [0.54899723, 0.62098606, 0.60494788, 1.        , 0.45907375],\n",
       "        [0.81639325, 1.04457427, 0.98835783, 0.45907375, 1.        ]]),\n",
       " 'log_likelihood_': nan,\n",
       " 'aic_': nan,\n",
       " 'bic_': nan,\n",
       " '_n_factors': None,\n",
       " '_n_variables': None,\n",
       " '_n_lower_diag': None,\n",
       " 'model': <factor_analyzer.confirmatory_factor_analyzer.ModelSpecification at 0x18c9ac03ca0>}"
      ]
     },
     "execution_count": 25,
     "metadata": {},
     "output_type": "execute_result"
    }
   ],
   "source": [
    "cfa.__dict__"
   ]
  },
  {
   "cell_type": "code",
   "execution_count": 24,
   "id": "56066dd5",
   "metadata": {},
   "outputs": [
    {
     "data": {
      "text/plain": [
       "array([[0.45462069, 0.        , 0.        , 0.        , 0.        ],\n",
       "       [0.8294226 , 0.        , 0.        , 0.        , 0.        ],\n",
       "       [1.05211291, 0.        , 0.        , 0.        , 0.        ],\n",
       "       [1.08183858, 0.        , 0.        , 0.        , 0.        ],\n",
       "       [1.19666567, 0.        , 0.        , 0.        , 0.        ],\n",
       "       [1.15890849, 0.        , 0.        , 0.        , 0.        ],\n",
       "       [0.83678197, 0.        , 0.        , 0.        , 0.        ],\n",
       "       [0.91814784, 0.        , 0.        , 0.        , 0.        ],\n",
       "       [1.11084853, 0.        , 0.        , 0.        , 0.        ],\n",
       "       [0.80622513, 0.        , 0.        , 0.        , 0.        ],\n",
       "       [0.        , 0.60990279, 0.        , 0.        , 0.        ],\n",
       "       [0.        , 1.00843487, 0.        , 0.        , 0.        ],\n",
       "       [0.        , 1.07826527, 0.        , 0.        , 0.        ],\n",
       "       [0.        , 1.03104985, 0.        , 0.        , 0.        ],\n",
       "       [0.        , 0.96870557, 0.        , 0.        , 0.        ],\n",
       "       [0.        , 1.03658927, 0.        , 0.        , 0.        ],\n",
       "       [0.        , 0.95786134, 0.        , 0.        , 0.        ],\n",
       "       [0.        , 0.82590469, 0.        , 0.        , 0.        ],\n",
       "       [0.        , 1.07161202, 0.        , 0.        , 0.        ],\n",
       "       [0.        , 1.11936455, 0.        , 0.        , 0.        ],\n",
       "       [0.        , 1.05112206, 0.        , 0.        , 0.        ],\n",
       "       [0.        , 0.        , 1.06154617, 0.        , 0.        ],\n",
       "       [0.        , 0.        , 1.09995332, 0.        , 0.        ],\n",
       "       [0.        , 0.        , 1.01266781, 0.        , 0.        ],\n",
       "       [0.        , 0.        , 0.87709543, 0.        , 0.        ],\n",
       "       [0.        , 0.        , 0.76276553, 0.        , 0.        ],\n",
       "       [0.        , 0.        , 1.01320751, 0.        , 0.        ],\n",
       "       [0.        , 0.        , 0.9715514 , 0.        , 0.        ],\n",
       "       [0.        , 0.        , 0.        , 1.06657993, 0.        ],\n",
       "       [0.        , 0.        , 0.        , 1.10434031, 0.        ],\n",
       "       [0.        , 0.        , 0.        , 0.9874108 , 0.        ],\n",
       "       [0.        , 0.        , 0.        , 1.08900009, 0.        ],\n",
       "       [0.        , 0.        , 0.        , 0.80639887, 0.        ],\n",
       "       [0.        , 0.        , 0.        , 0.79171218, 0.        ],\n",
       "       [0.        , 0.        , 0.        , 0.74717178, 0.        ],\n",
       "       [0.        , 0.        , 0.        , 0.        , 0.79781044],\n",
       "       [0.        , 0.        , 0.        , 0.        , 0.81582449],\n",
       "       [0.        , 0.        , 0.        , 0.        , 1.02797209],\n",
       "       [0.        , 0.        , 0.        , 0.        , 0.99239449],\n",
       "       [0.        , 0.        , 0.        , 0.        , 1.0908835 ]])"
      ]
     },
     "execution_count": 24,
     "metadata": {},
     "output_type": "execute_result"
    }
   ],
   "source": [
    "cfa.loadings_"
   ]
  },
  {
   "cell_type": "code",
   "execution_count": null,
   "id": "243832ae",
   "metadata": {},
   "outputs": [],
   "source": []
  },
  {
   "cell_type": "code",
   "execution_count": null,
   "id": "791e6c34",
   "metadata": {},
   "outputs": [],
   "source": []
  },
  {
   "cell_type": "code",
   "execution_count": null,
   "id": "8f32427d",
   "metadata": {},
   "outputs": [],
   "source": []
  }
 ],
 "metadata": {
  "kernelspec": {
   "display_name": "DeppClinic",
   "language": "python",
   "name": "deppclinic"
  },
  "language_info": {
   "codemirror_mode": {
    "name": "ipython",
    "version": 3
   },
   "file_extension": ".py",
   "mimetype": "text/x-python",
   "name": "python",
   "nbconvert_exporter": "python",
   "pygments_lexer": "ipython3",
   "version": "3.9.7"
  }
 },
 "nbformat": 4,
 "nbformat_minor": 5
}
