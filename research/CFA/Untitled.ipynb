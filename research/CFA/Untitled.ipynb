{
 "cells": [
  {
   "cell_type": "code",
   "execution_count": 1,
   "id": "98ea2321",
   "metadata": {},
   "outputs": [],
   "source": [
    "import pandas as pd\n",
    "from questions_columns import sci_af_ca\n",
    "from factor_analyzer import ConfirmatoryFactorAnalyzer, ModelSpecificationParser\n",
    "import re\n",
    "\n"
   ]
  },
  {
   "cell_type": "code",
   "execution_count": 2,
   "id": "9308ed4d",
   "metadata": {},
   "outputs": [],
   "source": [
    "df = pd.read_csv(r\"../create_dataset/data_for_research.csv\")"
   ]
  },
  {
   "cell_type": "code",
   "execution_count": 3,
   "id": "43f13122",
   "metadata": {},
   "outputs": [],
   "source": [
    "f = pd.read_excel(\"Factors.xlsx\")\n",
    "f = f.dropna(how='all', subset = ['question', 'F'])\n",
    "f['question_number'] = f.question.str.extract(r'(\\d+)')\n",
    "f['factor_number'] = f.F.str.extract(r'(\\d+)')"
   ]
  },
  {
   "cell_type": "code",
   "execution_count": 4,
   "id": "b2db4393",
   "metadata": {
    "scrolled": true
   },
   "outputs": [],
   "source": [
    "model_dict = {str(i): [] for i in range(1,6)}\n",
    "for i, row in f.iterrows():\n",
    "    model_dict[row['factor_number']].append(f\"sci_af_ca_{row['question_number']}\")"
   ]
  },
  {
   "cell_type": "code",
   "execution_count": 26,
   "id": "b2482e87",
   "metadata": {},
   "outputs": [
    {
     "data": {
      "text/plain": [
       "{'1': ['sci_af_ca_5',\n",
       "  'sci_af_ca_6',\n",
       "  'sci_af_ca_13',\n",
       "  'sci_af_ca_15',\n",
       "  'sci_af_ca_16',\n",
       "  'sci_af_ca_19',\n",
       "  'sci_af_ca_20',\n",
       "  'sci_af_ca_22',\n",
       "  'sci_af_ca_24',\n",
       "  'sci_af_ca_25'],\n",
       " '2': ['sci_af_ca_1',\n",
       "  'sci_af_ca_2',\n",
       "  'sci_af_ca_3',\n",
       "  'sci_af_ca_7',\n",
       "  'sci_af_ca_8',\n",
       "  'sci_af_ca_9',\n",
       "  'sci_af_ca_10',\n",
       "  'sci_af_ca_11',\n",
       "  'sci_af_ca_14',\n",
       "  'sci_af_ca_17',\n",
       "  'sci_af_ca_26'],\n",
       " '3': ['sci_af_ca_4',\n",
       "  'sci_af_ca_12',\n",
       "  'sci_af_ca_18',\n",
       "  'sci_af_ca_21',\n",
       "  'sci_af_ca_23',\n",
       "  'sci_af_ca_27',\n",
       "  'sci_af_ca_28'],\n",
       " '4': ['sci_af_ca_29',\n",
       "  'sci_af_ca_30',\n",
       "  'sci_af_ca_31',\n",
       "  'sci_af_ca_32',\n",
       "  'sci_af_ca_33',\n",
       "  'sci_af_ca_34',\n",
       "  'sci_af_ca_40'],\n",
       " '5': ['sci_af_ca_35',\n",
       "  'sci_af_ca_36',\n",
       "  'sci_af_ca_37',\n",
       "  'sci_af_ca_38',\n",
       "  'sci_af_ca_39']}"
      ]
     },
     "execution_count": 26,
     "metadata": {},
     "output_type": "execute_result"
    }
   ],
   "source": [
    "model_dict"
   ]
  },
  {
   "cell_type": "code",
   "execution_count": 5,
   "id": "b9497e40",
   "metadata": {},
   "outputs": [],
   "source": [
    "df_features  = df[sci_af_ca]\n",
    "model_spec = ModelSpecificationParser.parse_model_specification_from_dict(df_features, model_dict)"
   ]
  },
  {
   "cell_type": "code",
   "execution_count": 22,
   "id": "40e5dce9",
   "metadata": {},
   "outputs": [],
   "source": [
    "cfa = ConfirmatoryFactorAnalyzer(model_spec)"
   ]
  },
  {
   "cell_type": "code",
   "execution_count": 23,
   "id": "8149ea26",
   "metadata": {},
   "outputs": [
    {
     "name": "stderr",
     "output_type": "stream",
     "text": [
      "C:\\Users\\nogur\\anaconda3\\envs\\DeppClinic\\lib\\site-packages\\factor_analyzer\\confirmatory_factor_analyzer.py:753: UserWarning: The optimization routine failed to converge: ABNORMAL_TERMINATION_IN_LNSRCH\n",
      "  warnings.warn(\n"
     ]
    },
    {
     "data": {
      "text/plain": [
       "ConfirmatoryFactorAnalyzer(n_obs=237,\n",
       "                           specification=<factor_analyzer.confirmatory_factor_analyzer.ModelSpecification object at 0x0000018C9789B6A0>)"
      ]
     },
     "execution_count": 23,
     "metadata": {},
     "output_type": "execute_result"
    }
   ],
   "source": [
    "cfa.fit(df_features.values)"
   ]
  },
  {
   "cell_type": "code",
   "execution_count": 16,
   "id": "6ec1df7e",
   "metadata": {},
   "outputs": [],
   "source": [
    "from factor_analyzer.factor_analyzer import calculate_bartlett_sphericity, calculate_kmo, FactorAnalyzer"
   ]
  },
  {
   "cell_type": "code",
   "execution_count": 18,
   "id": "90b4e3ab",
   "metadata": {},
   "outputs": [
    {
     "name": "stdout",
     "output_type": "stream",
     "text": [
      "Chi-square value: 9313.148344339079\n",
      "P-value: 0.0\n",
      "KMO Model: 0.961215407671803\n"
     ]
    }
   ],
   "source": [
    "chi_square_value,p_value=calculate_bartlett_sphericity(df_features)\n",
    "kmo_all,kmo_model=calculate_kmo(df_features)\n",
    "print('Chi-square value:',chi_square_value)\n",
    "print('P-value:',p_value)\n",
    "print('KMO Model:',kmo_model)"
   ]
  },
  {
   "cell_type": "code",
   "execution_count": 25,
   "id": "f28993c4",
   "metadata": {},
   "outputs": [
    {
     "data": {
      "text/plain": [
       "{'specification': <factor_analyzer.confirmatory_factor_analyzer.ModelSpecification at 0x18c9789b6a0>,\n",
       " 'n_obs': 237,\n",
       " 'is_cov_matrix': False,\n",
       " 'bounds': None,\n",
       " 'max_iter': 200,\n",
       " 'tol': None,\n",
       " 'impute': 'median',\n",
       " 'disp': True,\n",
       " 'cov_': array([[1.75228329, 0.67633392, 0.51577813, ..., 0.44610017, 0.49629589,\n",
       "         0.56171882],\n",
       "        [0.67633392, 2.04201606, 1.22015297, ..., 0.82567424, 0.9455981 ,\n",
       "         1.09967531],\n",
       "        [0.51577813, 1.22015297, 2.38344398, ..., 1.13068059, 1.17431835,\n",
       "         1.14369905],\n",
       "        ...,\n",
       "        [0.44610017, 0.82567424, 1.13068059, ..., 1.98728476, 1.46443158,\n",
       "         1.46154144],\n",
       "        [0.49629589, 0.9455981 , 1.17431835, ..., 1.46443158, 1.81446454,\n",
       "         1.45739793],\n",
       "        [0.56171882, 1.09967531, 1.14369905, ..., 1.46154144, 1.45739793,\n",
       "         2.05580694]]),\n",
       " 'mean_': array([1.24050633, 1.57383966, 1.86313123, 2.23206751, 2.2742616 ,\n",
       "        2.16726535, 1.17721519, 1.8264167 , 1.9535865 , 1.27848101,\n",
       "        1.17299578, 2.21526765, 2.21123853, 2.54951988, 2.07747213,\n",
       "        2.04313883, 2.03794048, 2.65400844, 2.16746062, 2.04977846,\n",
       "        2.23250987, 2.07785262, 1.98754605, 2.16033755, 2.03355416,\n",
       "        1.59770477, 2.11274332, 1.98288236, 2.40131302, 2.1088667 ,\n",
       "        1.69966985, 1.63040311, 2.43497406, 1.93299597, 2.94408409,\n",
       "        2.53368652, 2.04960084, 2.28527697, 2.09835933, 1.94345963]),\n",
       " 'loadings_': array([[0.45462069, 0.        , 0.        , 0.        , 0.        ],\n",
       "        [0.8294226 , 0.        , 0.        , 0.        , 0.        ],\n",
       "        [1.05211291, 0.        , 0.        , 0.        , 0.        ],\n",
       "        [1.08183858, 0.        , 0.        , 0.        , 0.        ],\n",
       "        [1.19666567, 0.        , 0.        , 0.        , 0.        ],\n",
       "        [1.15890849, 0.        , 0.        , 0.        , 0.        ],\n",
       "        [0.83678197, 0.        , 0.        , 0.        , 0.        ],\n",
       "        [0.91814784, 0.        , 0.        , 0.        , 0.        ],\n",
       "        [1.11084853, 0.        , 0.        , 0.        , 0.        ],\n",
       "        [0.80622513, 0.        , 0.        , 0.        , 0.        ],\n",
       "        [0.        , 0.60990279, 0.        , 0.        , 0.        ],\n",
       "        [0.        , 1.00843487, 0.        , 0.        , 0.        ],\n",
       "        [0.        , 1.07826527, 0.        , 0.        , 0.        ],\n",
       "        [0.        , 1.03104985, 0.        , 0.        , 0.        ],\n",
       "        [0.        , 0.96870557, 0.        , 0.        , 0.        ],\n",
       "        [0.        , 1.03658927, 0.        , 0.        , 0.        ],\n",
       "        [0.        , 0.95786134, 0.        , 0.        , 0.        ],\n",
       "        [0.        , 0.82590469, 0.        , 0.        , 0.        ],\n",
       "        [0.        , 1.07161202, 0.        , 0.        , 0.        ],\n",
       "        [0.        , 1.11936455, 0.        , 0.        , 0.        ],\n",
       "        [0.        , 1.05112206, 0.        , 0.        , 0.        ],\n",
       "        [0.        , 0.        , 1.06154617, 0.        , 0.        ],\n",
       "        [0.        , 0.        , 1.09995332, 0.        , 0.        ],\n",
       "        [0.        , 0.        , 1.01266781, 0.        , 0.        ],\n",
       "        [0.        , 0.        , 0.87709543, 0.        , 0.        ],\n",
       "        [0.        , 0.        , 0.76276553, 0.        , 0.        ],\n",
       "        [0.        , 0.        , 1.01320751, 0.        , 0.        ],\n",
       "        [0.        , 0.        , 0.9715514 , 0.        , 0.        ],\n",
       "        [0.        , 0.        , 0.        , 1.06657993, 0.        ],\n",
       "        [0.        , 0.        , 0.        , 1.10434031, 0.        ],\n",
       "        [0.        , 0.        , 0.        , 0.9874108 , 0.        ],\n",
       "        [0.        , 0.        , 0.        , 1.08900009, 0.        ],\n",
       "        [0.        , 0.        , 0.        , 0.80639887, 0.        ],\n",
       "        [0.        , 0.        , 0.        , 0.79171218, 0.        ],\n",
       "        [0.        , 0.        , 0.        , 0.74717178, 0.        ],\n",
       "        [0.        , 0.        , 0.        , 0.        , 0.79781044],\n",
       "        [0.        , 0.        , 0.        , 0.        , 0.81582449],\n",
       "        [0.        , 0.        , 0.        , 0.        , 1.02797209],\n",
       "        [0.        , 0.        , 0.        , 0.        , 0.99239449],\n",
       "        [0.        , 0.        , 0.        , 0.        , 1.0908835 ]]),\n",
       " 'error_vars_': array([[1.16781861],\n",
       "        [0.99329368],\n",
       "        [0.88018725],\n",
       "        [0.94404866],\n",
       "        [0.58093834],\n",
       "        [0.67276397],\n",
       "        [0.86181901],\n",
       "        [1.05738561],\n",
       "        [0.68722235],\n",
       "        [1.12178609],\n",
       "        [1.10403852],\n",
       "        [0.84683871],\n",
       "        [0.6258617 ],\n",
       "        [0.61560636],\n",
       "        [0.87679673],\n",
       "        [0.66144663],\n",
       "        [0.87911701],\n",
       "        [0.94278509],\n",
       "        [0.63369581],\n",
       "        [0.44637002],\n",
       "        [0.79801494],\n",
       "        [0.75295651],\n",
       "        [0.81842383],\n",
       "        [0.65376559],\n",
       "        [1.00695495],\n",
       "        [0.96889084],\n",
       "        [0.63548154],\n",
       "        [0.69893624],\n",
       "        [0.60346935],\n",
       "        [0.63792024],\n",
       "        [0.55338782],\n",
       "        [0.67455724],\n",
       "        [1.00485069],\n",
       "        [1.04815404],\n",
       "        [0.83596352],\n",
       "        [0.85920721],\n",
       "        [0.78404555],\n",
       "        [0.57597514],\n",
       "        [0.48778366],\n",
       "        [0.44770781]]),\n",
       " 'factor_varcovs_': array([[1.        , 1.21292959, 1.14489275, 0.54899723, 0.81639325],\n",
       "        [1.21292959, 1.        , 1.89279727, 0.62098606, 1.04457427],\n",
       "        [1.14489275, 1.89279727, 1.        , 0.60494788, 0.98835783],\n",
       "        [0.54899723, 0.62098606, 0.60494788, 1.        , 0.45907375],\n",
       "        [0.81639325, 1.04457427, 0.98835783, 0.45907375, 1.        ]]),\n",
       " 'log_likelihood_': nan,\n",
       " 'aic_': nan,\n",
       " 'bic_': nan,\n",
       " '_n_factors': None,\n",
       " '_n_variables': None,\n",
       " '_n_lower_diag': None,\n",
       " 'model': <factor_analyzer.confirmatory_factor_analyzer.ModelSpecification at 0x18c9ac03ca0>}"
      ]
     },
     "execution_count": 25,
     "metadata": {},
     "output_type": "execute_result"
    }
   ],
   "source": [
    "cfa.__dict__"
   ]
  },
  {
   "cell_type": "code",
   "execution_count": 24,
   "id": "56066dd5",
   "metadata": {},
   "outputs": [
    {
     "data": {
      "text/plain": [
       "array([[0.45462069, 0.        , 0.        , 0.        , 0.        ],\n",
       "       [0.8294226 , 0.        , 0.        , 0.        , 0.        ],\n",
       "       [1.05211291, 0.        , 0.        , 0.        , 0.        ],\n",
       "       [1.08183858, 0.        , 0.        , 0.        , 0.        ],\n",
       "       [1.19666567, 0.        , 0.        , 0.        , 0.        ],\n",
       "       [1.15890849, 0.        , 0.        , 0.        , 0.        ],\n",
       "       [0.83678197, 0.        , 0.        , 0.        , 0.        ],\n",
       "       [0.91814784, 0.        , 0.        , 0.        , 0.        ],\n",
       "       [1.11084853, 0.        , 0.        , 0.        , 0.        ],\n",
       "       [0.80622513, 0.        , 0.        , 0.        , 0.        ],\n",
       "       [0.        , 0.60990279, 0.        , 0.        , 0.        ],\n",
       "       [0.        , 1.00843487, 0.        , 0.        , 0.        ],\n",
       "       [0.        , 1.07826527, 0.        , 0.        , 0.        ],\n",
       "       [0.        , 1.03104985, 0.        , 0.        , 0.        ],\n",
       "       [0.        , 0.96870557, 0.        , 0.        , 0.        ],\n",
       "       [0.        , 1.03658927, 0.        , 0.        , 0.        ],\n",
       "       [0.        , 0.95786134, 0.        , 0.        , 0.        ],\n",
       "       [0.        , 0.82590469, 0.        , 0.        , 0.        ],\n",
       "       [0.        , 1.07161202, 0.        , 0.        , 0.        ],\n",
       "       [0.        , 1.11936455, 0.        , 0.        , 0.        ],\n",
       "       [0.        , 1.05112206, 0.        , 0.        , 0.        ],\n",
       "       [0.        , 0.        , 1.06154617, 0.        , 0.        ],\n",
       "       [0.        , 0.        , 1.09995332, 0.        , 0.        ],\n",
       "       [0.        , 0.        , 1.01266781, 0.        , 0.        ],\n",
       "       [0.        , 0.        , 0.87709543, 0.        , 0.        ],\n",
       "       [0.        , 0.        , 0.76276553, 0.        , 0.        ],\n",
       "       [0.        , 0.        , 1.01320751, 0.        , 0.        ],\n",
       "       [0.        , 0.        , 0.9715514 , 0.        , 0.        ],\n",
       "       [0.        , 0.        , 0.        , 1.06657993, 0.        ],\n",
       "       [0.        , 0.        , 0.        , 1.10434031, 0.        ],\n",
       "       [0.        , 0.        , 0.        , 0.9874108 , 0.        ],\n",
       "       [0.        , 0.        , 0.        , 1.08900009, 0.        ],\n",
       "       [0.        , 0.        , 0.        , 0.80639887, 0.        ],\n",
       "       [0.        , 0.        , 0.        , 0.79171218, 0.        ],\n",
       "       [0.        , 0.        , 0.        , 0.74717178, 0.        ],\n",
       "       [0.        , 0.        , 0.        , 0.        , 0.79781044],\n",
       "       [0.        , 0.        , 0.        , 0.        , 0.81582449],\n",
       "       [0.        , 0.        , 0.        , 0.        , 1.02797209],\n",
       "       [0.        , 0.        , 0.        , 0.        , 0.99239449],\n",
       "       [0.        , 0.        , 0.        , 0.        , 1.0908835 ]])"
      ]
     },
     "execution_count": 24,
     "metadata": {},
     "output_type": "execute_result"
    }
   ],
   "source": [
    "cfa.loadings_"
   ]
  },
  {
   "cell_type": "code",
   "execution_count": null,
   "id": "243832ae",
   "metadata": {},
   "outputs": [],
   "source": []
  },
  {
   "cell_type": "code",
   "execution_count": null,
   "id": "791e6c34",
   "metadata": {},
   "outputs": [],
   "source": []
  },
  {
   "cell_type": "code",
   "execution_count": null,
   "id": "8f32427d",
   "metadata": {},
   "outputs": [],
   "source": []
  }
 ],
 "metadata": {
  "kernelspec": {
   "display_name": "DeppClinic",
   "language": "python",
   "name": "deppclinic"
  },
  "language_info": {
   "codemirror_mode": {
    "name": "ipython",
    "version": 3
   },
   "file_extension": ".py",
   "mimetype": "text/x-python",
   "name": "python",
   "nbconvert_exporter": "python",
   "pygments_lexer": "ipython3",
   "version": "3.9.7"
  }
 },
 "nbformat": 4,
 "nbformat_minor": 5
}
