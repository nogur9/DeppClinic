{
 "cells": [
  {
   "cell_type": "markdown",
   "id": "a8eabff8",
   "metadata": {},
   "source": [
    "https://www.ncbi.nlm.nih.gov/pmc/articles/PMC6004510/table/T2/\n",
    "\n",
    "https://en.wikipedia.org/wiki/Confirmatory_factor_analysis\n",
    "\n",
    "https://link.springer.com/article/10.3758/s13428-018-1055-2"
   ]
  },
  {
   "cell_type": "code",
   "execution_count": 2,
   "id": "98ea2321",
   "metadata": {},
   "outputs": [],
   "source": [
    "import pandas as pd\n",
    "from questions_columns import sci_af_ca\n",
    "from factor_analyzer import ConfirmatoryFactorAnalyzer, ModelSpecificationParser\n",
    "import re\n",
    "import semopy\n",
    "from semopy import stats"
   ]
  },
  {
   "cell_type": "code",
   "execution_count": 3,
   "id": "9308ed4d",
   "metadata": {},
   "outputs": [],
   "source": [
    "df = pd.read_csv(r\"../create_dataset/data_for_research.csv\")"
   ]
  },
  {
   "cell_type": "markdown",
   "id": "27405df5",
   "metadata": {},
   "source": [
    "All the observables into one factor"
   ]
  },
  {
   "cell_type": "code",
   "execution_count": 3,
   "id": "17c37cc4",
   "metadata": {},
   "outputs": [],
   "source": [
    "model_string = f\"\"\"\n",
    "Factor1 =~ {\" + \".join(sci_af_ca)}\n",
    "\"\"\"\n",
    "\n",
    "data  = df[sci_af_ca]"
   ]
  },
  {
   "cell_type": "markdown",
   "id": "700bb7e8",
   "metadata": {},
   "source": [
    "Since indicators were binary, diagonally weighted least squares estimation, as recommended."
   ]
  },
  {
   "cell_type": "code",
   "execution_count": 4,
   "id": "e03b6b6d",
   "metadata": {},
   "outputs": [],
   "source": [
    "model= semopy.Model(model_string, mimic_lavaan=True)\n",
    "model_fit = model.fit(data=data, obj = 'DWLS')"
   ]
  },
  {
   "cell_type": "markdown",
   "id": "c0154374",
   "metadata": {},
   "source": [
    "Did it succeeded?"
   ]
  },
  {
   "cell_type": "code",
   "execution_count": 5,
   "id": "6b727b33",
   "metadata": {},
   "outputs": [
    {
     "data": {
      "text/plain": [
       "'Optimization terminated successfully'"
      ]
     },
     "execution_count": 5,
     "metadata": {},
     "output_type": "execute_result"
    }
   ],
   "source": [
    "model_fit.message"
   ]
  },
  {
   "cell_type": "markdown",
   "id": "63e40a43",
   "metadata": {},
   "source": [
    "### Chi Squared"
   ]
  },
  {
   "cell_type": "markdown",
   "id": "ea1fd6bc",
   "metadata": {},
   "source": [
    "The Chi-square goodness of fit test is a statistical hypothesis test used to determine whether a variable is likely to come from a specified distribution or not. The chi-square fit index assesses the fit between the hypothesized model and data from a set of measurement items (the observed variables). The model chi-square is the chi-square statistic obtained using maximum likelihood method.\n",
    "\n",
    "The chi-square value is a test statistic of the goodness of fit of a factor model. It compares the observed covariance matrix with a theoretically proposed covariance matrix\n",
    "\n",
    "expecting -  non-significant χ2"
   ]
  },
  {
   "cell_type": "code",
   "execution_count": 6,
   "id": "fca36e19",
   "metadata": {},
   "outputs": [
    {
     "data": {
      "text/plain": [
       "(878.3716092744129, 0.00032320526745976963)"
      ]
     },
     "execution_count": 6,
     "metadata": {},
     "output_type": "execute_result"
    }
   ],
   "source": [
    "stats.calc_chi2(model)"
   ]
  },
  {
   "cell_type": "markdown",
   "id": "9523c31e",
   "metadata": {},
   "source": [
    "### CFI, comparative fit index"
   ]
  },
  {
   "cell_type": "markdown",
   "id": "eb95bb67",
   "metadata": {},
   "source": [
    "The comparative fit index (CFI) analyzes the model fit by examining the discrepancy between the data and the hypothesized model, while adjusting for the issues of sample size\n",
    "\n",
    "CFI is an incremental relative fit index that measures the relative improvement in the fit of a researcher's model over that of a baseline model\n",
    "\n",
    "expecting - CFI≥.95\n",
    "\n",
    " CFI and TLI are incremental fit indices that compare the fit of a hypothesized model with that of a baseline model (i.e., a model with the worst fit)"
   ]
  },
  {
   "cell_type": "code",
   "execution_count": 7,
   "id": "b91f07b6",
   "metadata": {},
   "outputs": [
    {
     "data": {
      "text/plain": [
       "0.9978825233449757"
      ]
     },
     "execution_count": 7,
     "metadata": {},
     "output_type": "execute_result"
    }
   ],
   "source": [
    "stats.calc_cfi(model)"
   ]
  },
  {
   "cell_type": "markdown",
   "id": "df175085",
   "metadata": {},
   "source": [
    "### TLI, Tucker–Lewis index"
   ]
  },
  {
   "cell_type": "markdown",
   "id": "9544fea4",
   "metadata": {},
   "source": [
    "Also known as the non-normed fit index.\n",
    "\n",
    "TLI is based on the idea of comparing the proposed factor model to a model in which no interrelationships at all are assumed among any of the items\n",
    "\n",
    "analyzes the discrepancy between the chi-squared value of the hypothesized model and the chi-squared value of the null model. \n",
    "\n",
    "expecting - TLI≥.95\n",
    "\n",
    " CFI and TLI are incremental fit indices that compare the fit of a hypothesized model with that of a baseline model (i.e., a model with the worst fit)"
   ]
  },
  {
   "cell_type": "code",
   "execution_count": 8,
   "id": "6ee1774b",
   "metadata": {},
   "outputs": [
    {
     "data": {
      "text/plain": [
       "0.9977680651474068"
      ]
     },
     "execution_count": 8,
     "metadata": {},
     "output_type": "execute_result"
    }
   ],
   "source": [
    "stats.calc_tli(model)"
   ]
  },
  {
   "cell_type": "markdown",
   "id": "0446aece",
   "metadata": {},
   "source": [
    "### RMSEA, root mean square error of approximation"
   ]
  },
  {
   "cell_type": "markdown",
   "id": "369ab66d",
   "metadata": {},
   "source": [
    "RMSEA is a measure of the estimated discrepancy between the population and model-implied population covariance matrices per degree of freedom \n",
    "\n",
    "The root mean square error of approximation (RMSEA) avoids issues of sample size by analyzing the discrepancy between the hypothesized model, with optimally chosen parameter estimates, and the population covariance matrix\n",
    "\n",
    "expecting - RMSEA≤.06"
   ]
  },
  {
   "cell_type": "markdown",
   "id": "54c6af48",
   "metadata": {},
   "source": [
    "## All stats"
   ]
  },
  {
   "cell_type": "code",
   "execution_count": 9,
   "id": "49b74867",
   "metadata": {},
   "outputs": [
    {
     "data": {
      "text/html": [
       "<div>\n",
       "<style scoped>\n",
       "    .dataframe tbody tr th:only-of-type {\n",
       "        vertical-align: middle;\n",
       "    }\n",
       "\n",
       "    .dataframe tbody tr th {\n",
       "        vertical-align: top;\n",
       "    }\n",
       "\n",
       "    .dataframe thead th {\n",
       "        text-align: right;\n",
       "    }\n",
       "</style>\n",
       "<table border=\"1\" class=\"dataframe\">\n",
       "  <thead>\n",
       "    <tr style=\"text-align: right;\">\n",
       "      <th></th>\n",
       "      <th>DoF</th>\n",
       "      <th>DoF Baseline</th>\n",
       "      <th>chi2</th>\n",
       "      <th>chi2 p-value</th>\n",
       "      <th>chi2 Baseline</th>\n",
       "      <th>CFI</th>\n",
       "      <th>GFI</th>\n",
       "      <th>AGFI</th>\n",
       "      <th>NFI</th>\n",
       "      <th>TLI</th>\n",
       "      <th>RMSEA</th>\n",
       "      <th>AIC</th>\n",
       "      <th>BIC</th>\n",
       "      <th>LogLik</th>\n",
       "    </tr>\n",
       "  </thead>\n",
       "  <tbody>\n",
       "    <tr>\n",
       "      <th>Value</th>\n",
       "      <td>740</td>\n",
       "      <td>780</td>\n",
       "      <td>878.371609</td>\n",
       "      <td>0.000323</td>\n",
       "      <td>66127.407229</td>\n",
       "      <td>0.997883</td>\n",
       "      <td>0.986717</td>\n",
       "      <td>0.985999</td>\n",
       "      <td>0.986717</td>\n",
       "      <td>0.997768</td>\n",
       "      <td>0.028148</td>\n",
       "      <td>135.006186</td>\n",
       "      <td>412.450997</td>\n",
       "      <td>12.496907</td>\n",
       "    </tr>\n",
       "  </tbody>\n",
       "</table>\n",
       "</div>"
      ],
      "text/plain": [
       "       DoF  DoF Baseline        chi2  chi2 p-value  chi2 Baseline       CFI  \\\n",
       "Value  740           780  878.371609      0.000323   66127.407229  0.997883   \n",
       "\n",
       "            GFI      AGFI       NFI       TLI     RMSEA         AIC  \\\n",
       "Value  0.986717  0.985999  0.986717  0.997768  0.028148  135.006186   \n",
       "\n",
       "              BIC     LogLik  \n",
       "Value  412.450997  12.496907  "
      ]
     },
     "execution_count": 9,
     "metadata": {},
     "output_type": "execute_result"
    }
   ],
   "source": [
    "stats.calc_stats(model)"
   ]
  },
  {
   "cell_type": "markdown",
   "id": "023eb6e8",
   "metadata": {},
   "source": [
    "The comparative fit index (CFI) analyzes the model fit by examining the discrepancy between the data and the hypothesized model, while adjusting for the issues of sample size.\n",
    "\n",
    "\n",
    "The CFI (Bentler, 1990) measures the relative improvement in fit going from the baseline model to the postulated model.\n",
    "\n",
    "CFI≥.95"
   ]
  },
  {
   "cell_type": "code",
   "execution_count": null,
   "id": "5db1691b",
   "metadata": {},
   "outputs": [],
   "source": []
  }
 ],
 "metadata": {
  "kernelspec": {
   "display_name": "DeppClinic",
   "language": "python",
   "name": "deppclinic"
  },
  "language_info": {
   "codemirror_mode": {
    "name": "ipython",
    "version": 3
   },
   "file_extension": ".py",
   "mimetype": "text/x-python",
   "name": "python",
   "nbconvert_exporter": "python",
   "pygments_lexer": "ipython3",
   "version": "3.9.7"
  }
 },
 "nbformat": 4,
 "nbformat_minor": 5
}
