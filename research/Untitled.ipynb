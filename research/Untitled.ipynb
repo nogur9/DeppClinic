{
 "cells": [
  {
   "cell_type": "code",
   "execution_count": 1,
   "id": "1fb7fde1-be55-462b-8dd3-4c26f0f56782",
   "metadata": {},
   "outputs": [],
   "source": [
    "import pandas as pd\n",
    "import re\n",
    "import seaborn as sns\n",
    "import matplotlib.pyplot as plt\n",
    "sns.set(rc={'figure.figsize':(11,8)})\n",
    "sns.set(font_scale=1.2)\n",
    "import numpy as np"
   ]
  },
  {
   "cell_type": "code",
   "execution_count": 2,
   "id": "1459910a-6a52-4ad9-a3dc-d43b1baa332f",
   "metadata": {},
   "outputs": [
    {
     "name": "stderr",
     "output_type": "stream",
     "text": [
      "C:\\Users\\nogur\\anaconda3\\lib\\site-packages\\IPython\\core\\interactiveshell.py:3444: DtypeWarning: Columns (44,51,53,99,325,366,439,453,459,464,466,501,507,512,514,521,530,532,569,571,580,599,766,771,777,781,786,788,793,795,804,806,826,843,845,854,873,883,918,941,979,991,1002,1040,1045,1047,1049,1051,1053,1054,1080,1096,1119,1122,1126,1127,1131,1132,1133,1134,1136,1137,1138,1141,1142,1144,1161,1183,1186,1237,1239,1259,1261,1262,1263,1269,1270,1271,1272,1384,1387,1389,1405,1408,1411,1415,1432,1434,1435,1436,1442,1443,1444,1445,1499,1568,1569,1572,1573) have mixed types.Specify dtype option on import or set low_memory=False.\n",
      "  exec(code_obj, self.user_global_ns, self.user_ns)\n",
      "C:\\Users\\nogur\\anaconda3\\lib\\site-packages\\IPython\\core\\interactiveshell.py:3444: DtypeWarning: Columns (48) have mixed types.Specify dtype option on import or set low_memory=False.\n",
      "  exec(code_obj, self.user_global_ns, self.user_ns)\n"
     ]
    }
   ],
   "source": [
    "df_2022 = pd.read_csv(\"../original_data/ImmiRiskIPT2022_DATA_2022-12-12_1719.csv\", na_values= ' ')\n",
    "df_2021 = pd.read_csv(r\"../original_data/Schneider Depression Clinic Database.csv\", na_values= ' ')"
   ]
  },
  {
   "cell_type": "code",
   "execution_count": 3,
   "id": "d708ada3-e50a-47e5-a623-5e51db41211c",
   "metadata": {},
   "outputs": [],
   "source": [
    "df_2022.loc[df_2022['record_id'] == 85, 'id'] = 'A6735'\n",
    "df_2022 = df_2022[df_2022['record_id'] != 550]"
   ]
  },
  {
   "cell_type": "code",
   "execution_count": 4,
   "id": "f46bc8f0-094b-4a49-8278-6902ef286d6e",
   "metadata": {},
   "outputs": [],
   "source": [
    "y = df_2022.dropna(subset=['id'])\n",
    "\n",
    "\n",
    "def get_first_id(record_id):\n",
    "    ID = None\n",
    "    dd = y[y.record_id == record_id]['id']\n",
    "    if dd.empty:\n",
    "        print(record_id)\n",
    "    else:\n",
    "        ID = dd.iloc[0]\n",
    "    return ID\n",
    "df_2022['id'] = df_2022['record_id'].apply(get_first_id)\n"
   ]
  },
  {
   "cell_type": "code",
   "execution_count": 17,
   "id": "3bde8632-2322-4161-91db-4e6e7e23f3ca",
   "metadata": {},
   "outputs": [],
   "source": [
    "combined = pd.concat([df_2022,df_2021], ignore_index=True)\n",
    "combined1 = combined[combined.duplicated(subset=['id', 'redcap_event_name'], keep=False)]\n",
    "uniques = combined[~combined.duplicated(subset=['id', 'redcap_event_name'], keep=False)]\n",
    "\n",
    "#combined1 = combined1.sort_values(['id', 'redcap_event_name']).reset_index().drop('index', axis=1)"
   ]
  },
  {
   "cell_type": "code",
   "execution_count": 18,
   "id": "20e65ae2-f12c-4941-92df-a356c36e2626",
   "metadata": {},
   "outputs": [
    {
     "data": {
      "text/plain": [
       "(690, 1635)"
      ]
     },
     "execution_count": 18,
     "metadata": {},
     "output_type": "execute_result"
    }
   ],
   "source": [
    "combined1.shape"
   ]
  },
  {
   "cell_type": "code",
   "execution_count": 19,
   "id": "39e76151-d22d-4321-b94f-2e34be06dfff",
   "metadata": {},
   "outputs": [
    {
     "name": "stdout",
     "output_type": "stream",
     "text": [
      "(690, 1635)\n",
      "(345, 1635)\n"
     ]
    }
   ],
   "source": [
    "print(combined1.shape)\n",
    "print(combined1.drop_duplicates(subset=['id', 'redcap_event_name']).shape)"
   ]
  },
  {
   "cell_type": "code",
   "execution_count": 21,
   "id": "14ab7148-d1ad-43ea-9bfc-8e24a654a18e",
   "metadata": {},
   "outputs": [
    {
     "name": "stdout",
     "output_type": "stream",
     "text": [
      "(1137, 1621)\n",
      "(1137, 1621)\n"
     ]
    }
   ],
   "source": [
    "print(df_2022.shape)\n",
    "print(df_2022.drop_duplicates(subset=['id', 'redcap_event_name']).shape)"
   ]
  },
  {
   "cell_type": "code",
   "execution_count": 12,
   "id": "da115365-326f-4cfc-804d-ee05f4baa36a",
   "metadata": {},
   "outputs": [
    {
     "data": {
      "text/plain": [
       "(1137, 1621)"
      ]
     },
     "execution_count": 12,
     "metadata": {},
     "output_type": "execute_result"
    }
   ],
   "source": [
    "df_2022.shape"
   ]
  },
  {
   "cell_type": "code",
   "execution_count": 13,
   "id": "4034c264-0b49-4159-9d4e-912b00e35e07",
   "metadata": {},
   "outputs": [
    {
     "data": {
      "text/plain": [
       "(1167, 1596)"
      ]
     },
     "execution_count": 13,
     "metadata": {},
     "output_type": "execute_result"
    }
   ],
   "source": [
    "df_2021.shape"
   ]
  },
  {
   "cell_type": "code",
   "execution_count": 14,
   "id": "8585befb-18a5-4116-92ff-505b057d5c0d",
   "metadata": {},
   "outputs": [
    {
     "data": {
      "text/plain": [
       "2304"
      ]
     },
     "execution_count": 14,
     "metadata": {},
     "output_type": "execute_result"
    }
   ],
   "source": [
    "1137+1167"
   ]
  },
  {
   "cell_type": "code",
   "execution_count": null,
   "id": "b166f7a7-22d0-4388-ab91-441b2b894bfc",
   "metadata": {},
   "outputs": [],
   "source": []
  }
 ],
 "metadata": {
  "kernelspec": {
   "display_name": "Python 3 (ipykernel)",
   "language": "python",
   "name": "python3"
  },
  "language_info": {
   "codemirror_mode": {
    "name": "ipython",
    "version": 3
   },
   "file_extension": ".py",
   "mimetype": "text/x-python",
   "name": "python",
   "nbconvert_exporter": "python",
   "pygments_lexer": "ipython3",
   "version": "3.9.7"
  }
 },
 "nbformat": 4,
 "nbformat_minor": 5
}
