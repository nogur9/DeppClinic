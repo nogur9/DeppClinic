{
 "cells": [
  {
   "cell_type": "code",
   "execution_count": 1,
   "id": "360f2fe5-84c8-4248-ba8b-8824791a5347",
   "metadata": {},
   "outputs": [],
   "source": [
    "import pandas as pd\n",
    "import re\n",
    "import seaborn as sns\n",
    "import matplotlib.pyplot as plt\n",
    "sns.set(rc={'figure.figsize':(11,8)})\n",
    "sns.set(font_scale=1.2)\n",
    "import numpy as np"
   ]
  },
  {
   "cell_type": "code",
   "execution_count": 2,
   "id": "be065faf-0ec6-4da9-9293-a22f0081e0fc",
   "metadata": {},
   "outputs": [
    {
     "name": "stderr",
     "output_type": "stream",
     "text": [
      "C:\\Users\\nogur\\anaconda3\\lib\\site-packages\\IPython\\core\\interactiveshell.py:3444: DtypeWarning: Columns (44,51,53,99,325,366,439,453,459,464,466,501,507,512,514,521,530,532,569,571,580,599,766,771,777,781,786,788,793,795,804,806,826,843,845,854,873,883,918,941,979,991,1002,1040,1045,1047,1049,1051,1053,1054,1080,1096,1119,1122,1126,1127,1131,1132,1133,1134,1136,1137,1138,1141,1142,1144,1161,1183,1186,1237,1239,1259,1261,1262,1263,1269,1270,1271,1272,1384,1387,1389,1405,1408,1411,1415,1432,1434,1435,1436,1442,1443,1444,1445,1499,1568,1569,1572,1573) have mixed types.Specify dtype option on import or set low_memory=False.\n",
      "  exec(code_obj, self.user_global_ns, self.user_ns)\n",
      "C:\\Users\\nogur\\anaconda3\\lib\\site-packages\\IPython\\core\\interactiveshell.py:3444: DtypeWarning: Columns (48) have mixed types.Specify dtype option on import or set low_memory=False.\n",
      "  exec(code_obj, self.user_global_ns, self.user_ns)\n"
     ]
    }
   ],
   "source": [
    "df_2022 = pd.read_csv(\"../original_data/ImmiRiskIPT2022_DATA_2022-12-12_1719.csv\", na_values= ' ')\n",
    "df_2021 = pd.read_csv(r\"../original_data/Schneider Depression Clinic Database.csv\", na_values= ' ')\n"
   ]
  },
  {
   "cell_type": "code",
   "execution_count": 51,
   "id": "072b9b63-0352-4697-9b12-e7d6cf489c5d",
   "metadata": {},
   "outputs": [],
   "source": [
    "def is_solved(col_name):\n",
    "    if col_name.endswith('complete'):\n",
    "        return True\n",
    "    elif col_name.startswith('diagnosis'):\n",
    "        return True\n",
    "    elif col_name.startswith('complaint'):\n",
    "        return True\n",
    "    elif col_name.endswith('timestamp'):\n",
    "        if 'opening' in col_name:\n",
    "            return True\n",
    "    \n",
    "    elif col_name.startswith('group'):\n",
    "        return True\n",
    "    elif col_name.startswith('opening_psychothe'):\n",
    "        return True\n",
    "    elif col_name.startswith('opening_medicine'):\n",
    "        return True\n",
    "    elif col_name.startswith('with_who_'):\n",
    "        return True\n",
    "    \n",
    "    elif col_name.startswith('chameleon_'):\n",
    "        return True\n",
    "    elif col_name.startswith('visit_date_stu'):\n",
    "        return True\n",
    "    elif col_name.startswith('treatment_end_2_stu'):\n",
    "        return True\n",
    "    \n",
    "    return False"
   ]
  },
  {
   "cell_type": "code",
   "execution_count": 52,
   "id": "559a8651-ffe9-493c-b47e-1b8267790b7c",
   "metadata": {},
   "outputs": [],
   "source": [
    "mult = [i for i in df_2022.columns if (i in df_2021.columns) and (not is_solved(i))]"
   ]
  },
  {
   "cell_type": "code",
   "execution_count": null,
   "id": "c0375a2c-8d19-4b35-bc0d-3bfe7ef4621d",
   "metadata": {},
   "outputs": [],
   "source": [
    "import re\n",
    "\n",
    "def is_solved(col_name:str)-> bool:\n",
    "    \"\"\"\n",
    "    This function takes in a column name as a parameter and checks if it meets any of the specified conditions.\n",
    "    If the column name matches any of the conditions, it returns True. Otherwise, it returns False.\n",
    "    \n",
    "    Parameters:\n",
    "        col_name (str): The column name to be checked\n",
    "    \n",
    "    Returns:\n",
    "        bool: True if the column name meets any of the conditions, False otherwise\n",
    "    \"\"\"\n",
    "    patterns = [r'.*complete$', r'^diagnosis.*', r'^complaint.*', r'.*timestamp$', r'^group.*', r'^opening_psychothe.*',\n",
    "                r'^opening_medicine.*', r'^with_who_.*', r'^chameleon_.*', r'^visit_date_stu.*', r'^treatment_end_2_stu.*']\n",
    "    for pattern in patterns:\n",
    "        if re.match(pattern, col_name):\n",
    "            return True\n",
    "    return False\n",
    "\n",
    "mult = [i for i in df_2022.columns if (i in df_2021.columns) and (not is_solved(i))]"
   ]
  },
  {
   "cell_type": "code",
   "execution_count": 53,
   "id": "96cc3487-aeb8-483d-8516-43dfcc5c772d",
   "metadata": {},
   "outputs": [],
   "source": [
    "y = df_2022.dropna(subset=['id'])\n",
    "\n",
    "\n",
    "def get_first_id(record_id):\n",
    "    ID = None\n",
    "    dd = y[y.record_id == record_id]['id']\n",
    "    if dd.empty:\n",
    "        print(record_id)\n",
    "    else:\n",
    "        ID = dd.iloc[0]\n",
    "    return ID\n",
    "\n"
   ]
  },
  {
   "cell_type": "code",
   "execution_count": 54,
   "id": "25a6cdfb-ce0a-4c4f-9400-65a44108f141",
   "metadata": {},
   "outputs": [
    {
     "name": "stdout",
     "output_type": "stream",
     "text": [
      "85\n",
      "550\n"
     ]
    }
   ],
   "source": [
    "df_2022['id'] = df_2022['record_id'].apply(get_first_id)"
   ]
  },
  {
   "cell_type": "code",
   "execution_count": 55,
   "id": "a99b4ef6-cbdd-45c3-b624-c9aba972b973",
   "metadata": {},
   "outputs": [],
   "source": [
    "combined = pd.concat([df_2022,df_2021])\n",
    "combined = combined[combined.duplicated(subset=['id', 'redcap_event_name'], keep=False)]\n",
    "combined = combined.sort_values(['id', 'redcap_event_name']).reset_index().drop('index', axis=1)"
   ]
  },
  {
   "cell_type": "code",
   "execution_count": 56,
   "id": "bfc0059e-f55f-4fe4-9b03-c6c1bd942845",
   "metadata": {
    "tags": []
   },
   "outputs": [],
   "source": [
    "def find_diffs(s2):\n",
    "    diff = []\n",
    "    \n",
    "    for i in mult:\n",
    "        if not s2[i].isna().any():\n",
    "            if s2.iloc[1][i] != s2.iloc[0][i]:\n",
    "                diff.append(i)\n",
    "    return diff"
   ]
  },
  {
   "cell_type": "code",
   "execution_count": 57,
   "id": "beda4684-e53a-400c-bd6f-13006449b5dc",
   "metadata": {},
   "outputs": [],
   "source": [
    "diff_dicts = []"
   ]
  },
  {
   "cell_type": "code",
   "execution_count": 58,
   "id": "d83abe58-f37a-4d70-b3d9-9b54e8d7d3e6",
   "metadata": {},
   "outputs": [],
   "source": [
    "for i in combined['id'].unique():\n",
    "    for j in combined.redcap_event_name.unique():\n",
    "        if not combined[(combined['id'] == i) & (combined.redcap_event_name == j)].empty:\n",
    "            diff = find_diffs(combined[(combined['id'] == i) & (combined.redcap_event_name == j)])\n",
    "            if len(diff):\n",
    "                diff_dicts.append({'id': i, 'redcap_event_name':j, 'differences': diff})"
   ]
  },
  {
   "cell_type": "code",
   "execution_count": 59,
   "id": "64591732-cf44-4e20-95d8-6faf6e21d4e4",
   "metadata": {},
   "outputs": [],
   "source": [
    "diffs = pd.DataFrame(diff_dicts)"
   ]
  },
  {
   "cell_type": "code",
   "execution_count": null,
   "id": "cb1528f4-0571-4333-8b0e-9edd6d25e6ea",
   "metadata": {},
   "outputs": [],
   "source": []
  },
  {
   "cell_type": "code",
   "execution_count": 64,
   "id": "e9bb0665-aa18-4bce-a50e-86edee8f8f26",
   "metadata": {},
   "outputs": [],
   "source": [
    "ids = 'A1707'\n",
    "event_name = 'intake_arm_1'\n",
    "col = 'ending_timestamp'"
   ]
  },
  {
   "cell_type": "code",
   "execution_count": 65,
   "id": "d9c929dd-034a-4e62-903d-f2fe3d93eaa4",
   "metadata": {},
   "outputs": [
    {
     "data": {
      "text/plain": [
       "1031    11/16/2021 5:01:11\n",
       "Name: ending_timestamp, dtype: object"
      ]
     },
     "execution_count": 65,
     "metadata": {},
     "output_type": "execute_result"
    }
   ],
   "source": [
    "df_2021[(df_2021['id'] == ids) & (df_2021.redcap_event_name == event_name)][col]"
   ]
  },
  {
   "cell_type": "code",
   "execution_count": 66,
   "id": "6bcf2a33-364d-466f-a566-39cb6807a4c6",
   "metadata": {},
   "outputs": [
    {
     "data": {
      "text/plain": [
       "670    2022-07-26 15:40:56\n",
       "Name: ending_timestamp, dtype: object"
      ]
     },
     "execution_count": 66,
     "metadata": {},
     "output_type": "execute_result"
    }
   ],
   "source": [
    "df_2022[(df_2022['id'] == ids) & (df_2022.redcap_event_name == event_name)][col]"
   ]
  },
  {
   "cell_type": "code",
   "execution_count": 63,
   "id": "9ff19f0f-4dce-48a4-978d-eb9ed165de7a",
   "metadata": {},
   "outputs": [
    {
     "data": {
      "text/html": [
       "<div>\n",
       "<style scoped>\n",
       "    .dataframe tbody tr th:only-of-type {\n",
       "        vertical-align: middle;\n",
       "    }\n",
       "\n",
       "    .dataframe tbody tr th {\n",
       "        vertical-align: top;\n",
       "    }\n",
       "\n",
       "    .dataframe thead th {\n",
       "        text-align: right;\n",
       "    }\n",
       "</style>\n",
       "<table border=\"1\" class=\"dataframe\">\n",
       "  <thead>\n",
       "    <tr style=\"text-align: right;\">\n",
       "      <th></th>\n",
       "      <th>id</th>\n",
       "      <th>redcap_event_name</th>\n",
       "      <th>differences</th>\n",
       "    </tr>\n",
       "  </thead>\n",
       "  <tbody>\n",
       "    <tr>\n",
       "      <th>0</th>\n",
       "      <td>A1707</td>\n",
       "      <td>intake_arm_1</td>\n",
       "      <td>[age_child_pre, ending_timestamp]</td>\n",
       "    </tr>\n",
       "    <tr>\n",
       "      <th>1</th>\n",
       "      <td>A5327</td>\n",
       "      <td>intake_arm_1</td>\n",
       "      <td>[record_id]</td>\n",
       "    </tr>\n",
       "    <tr>\n",
       "      <th>2</th>\n",
       "      <td>A5327</td>\n",
       "      <td>control_5weeks_arm_1</td>\n",
       "      <td>[record_id]</td>\n",
       "    </tr>\n",
       "    <tr>\n",
       "      <th>3</th>\n",
       "      <td>A5327</td>\n",
       "      <td>5th_session_arm_1</td>\n",
       "      <td>[record_id]</td>\n",
       "    </tr>\n",
       "    <tr>\n",
       "      <th>4</th>\n",
       "      <td>APPD9667</td>\n",
       "      <td>control_6month_arm_1</td>\n",
       "      <td>[treatment_end_stu]</td>\n",
       "    </tr>\n",
       "    <tr>\n",
       "      <th>5</th>\n",
       "      <td>D4440</td>\n",
       "      <td>intake_arm_1</td>\n",
       "      <td>[iat_done_no]</td>\n",
       "    </tr>\n",
       "    <tr>\n",
       "      <th>6</th>\n",
       "      <td>D6169</td>\n",
       "      <td>followup_3month_arm_1</td>\n",
       "      <td>[record_id]</td>\n",
       "    </tr>\n",
       "    <tr>\n",
       "      <th>7</th>\n",
       "      <td>D6169</td>\n",
       "      <td>intake_arm_1</td>\n",
       "      <td>[record_id]</td>\n",
       "    </tr>\n",
       "    <tr>\n",
       "      <th>8</th>\n",
       "      <td>D6169</td>\n",
       "      <td>control_5weeks_arm_1</td>\n",
       "      <td>[record_id]</td>\n",
       "    </tr>\n",
       "    <tr>\n",
       "      <th>9</th>\n",
       "      <td>D6169</td>\n",
       "      <td>5th_session_arm_1</td>\n",
       "      <td>[record_id]</td>\n",
       "    </tr>\n",
       "  </tbody>\n",
       "</table>\n",
       "</div>"
      ],
      "text/plain": [
       "         id      redcap_event_name                        differences\n",
       "0     A1707           intake_arm_1  [age_child_pre, ending_timestamp]\n",
       "1     A5327           intake_arm_1                        [record_id]\n",
       "2     A5327   control_5weeks_arm_1                        [record_id]\n",
       "3     A5327      5th_session_arm_1                        [record_id]\n",
       "4  APPD9667   control_6month_arm_1                [treatment_end_stu]\n",
       "5     D4440           intake_arm_1                      [iat_done_no]\n",
       "6     D6169  followup_3month_arm_1                        [record_id]\n",
       "7     D6169           intake_arm_1                        [record_id]\n",
       "8     D6169   control_5weeks_arm_1                        [record_id]\n",
       "9     D6169      5th_session_arm_1                        [record_id]"
      ]
     },
     "execution_count": 63,
     "metadata": {},
     "output_type": "execute_result"
    }
   ],
   "source": [
    "diffs.iloc[:10]"
   ]
  },
  {
   "cell_type": "code",
   "execution_count": null,
   "id": "dcd99b08-d77a-44af-98b7-1bece23aa082",
   "metadata": {},
   "outputs": [],
   "source": []
  },
  {
   "cell_type": "code",
   "execution_count": null,
   "id": "b1eaff14-3ed1-4410-8a34-e316ee4385d2",
   "metadata": {},
   "outputs": [],
   "source": []
  },
  {
   "cell_type": "code",
   "execution_count": null,
   "id": "fadcf428-4fe8-43ca-827c-3e94a9e275e2",
   "metadata": {},
   "outputs": [],
   "source": []
  },
  {
   "cell_type": "code",
   "execution_count": 34,
   "id": "bd9fddbe-e7a0-4b1f-8129-ab22fc1bffb9",
   "metadata": {},
   "outputs": [],
   "source": [
    "ids = 'T4075'\n",
    "event_name = 'control_5weeks_arm_1'\n",
    "col = 'dass_10_f'"
   ]
  },
  {
   "cell_type": "code",
   "execution_count": 14,
   "id": "d501f325-8abe-4097-bb43-5f76059a4cc8",
   "metadata": {},
   "outputs": [
    {
     "data": {
      "text/plain": [
       "['ID_Merge',\n",
       " 'ID_2',\n",
       " 'Group',\n",
       " 'Group99',\n",
       " 'age_child_pre_first',\n",
       " 'gender_mean',\n",
       " 'chameleon_complete_stu',\n",
       " 'num',\n",
       " 'time',\n",
       " 'a',\n",
       " 'time99',\n",
       " 'time99_cin',\n",
       " 'N99',\n",
       " 'SCARED_SUM']"
      ]
     },
     "execution_count": 14,
     "metadata": {},
     "output_type": "execute_result"
    }
   ],
   "source": [
    "[i for i in df_2021 if i not in df_2022]"
   ]
  },
  {
   "cell_type": "code",
   "execution_count": 42,
   "id": "c875bc24-9782-48d4-9c5a-99c47f90fa1a",
   "metadata": {},
   "outputs": [
    {
     "data": {
      "text/plain": [
       "['er_id',\n",
       " 'ffq_sum_timestamp',\n",
       " 'ffq_sum',\n",
       " 'ffq_sum_complete',\n",
       " 'c_ssrs_t_6_clin_2',\n",
       " 'c_ssrs_t_7_clin_2',\n",
       " 'c_ssrs_t_8_clin_2',\n",
       " 'c_ssrs_t_9_clin_2',\n",
       " 'c_ssrs_t_10_clin_2',\n",
       " 'suicidal_behavior_last_17_clin',\n",
       " 'suicidal_behavior_last_11_clin_1',\n",
       " 'suicidal_behavior_last_12_clin_1',\n",
       " 'suicidal_behavior_last_13_clin_1',\n",
       " 'suicidal_behavior_last_18_clin',\n",
       " 'suicidal_behavior_last_19_clin',\n",
       " 'c_ssrs_t_17_life_clin',\n",
       " 'c_ssrs_t_11_life_clin_1',\n",
       " 'c_ssrs_t_12_life_clin_1',\n",
       " 'c_ssrs_t_13_life_clin_1',\n",
       " 'c_ssrs_t_18_life_clin',\n",
       " 'c_ssrs_t_19_life_clin',\n",
       " 'c_ssrs_t_6_stu_2',\n",
       " 'c_ssrs_t_7_stu_2',\n",
       " 'c_ssrs_t_8_stu_2',\n",
       " 'c_ssrs_t_9_stu_2',\n",
       " 'c_ssrs_t_10_stu_2',\n",
       " 'suicidal_behavior_last_17_stu',\n",
       " 'suicidal_behavior_last_11_stu_1',\n",
       " 'suicidal_behavior_last_12_stu_1',\n",
       " 'suicidal_behavior_last_13_stu_1',\n",
       " 'suicidal_behavior_last_18_stu',\n",
       " 'suicidal_behavior_last_19_stu',\n",
       " 'c_ssrs_t_17_life_stu',\n",
       " 'c_ssrs_t_11_life_stu_1',\n",
       " 'c_ssrs_t_12_life_stu_1',\n",
       " 'c_ssrs_t_13_life_stu_1',\n",
       " 'c_ssrs_t_18_life_stu',\n",
       " 'c_ssrs_t_19_life_stu',\n",
       " 'chameleon_complete']"
      ]
     },
     "execution_count": 42,
     "metadata": {},
     "output_type": "execute_result"
    }
   ],
   "source": [
    "[i for i in df_2022 if i not in df_2021]"
   ]
  },
  {
   "cell_type": "code",
   "execution_count": null,
   "id": "be7855a9-c211-44a4-8238-963e1a9f2e2f",
   "metadata": {},
   "outputs": [],
   "source": []
  },
  {
   "cell_type": "code",
   "execution_count": null,
   "id": "8fe897b5-e680-49fa-9b2e-a0a677bf061e",
   "metadata": {},
   "outputs": [],
   "source": []
  },
  {
   "cell_type": "code",
   "execution_count": null,
   "id": "c1fb2493-5792-445c-bc2d-9fde2634fcd9",
   "metadata": {},
   "outputs": [],
   "source": []
  },
  {
   "cell_type": "code",
   "execution_count": 16,
   "id": "1cc75c65-00dd-4698-8ab6-c692f0dcbc7f",
   "metadata": {},
   "outputs": [],
   "source": [
    "#diffs.to_csv('records_with_differences_between_redcups_recordings.csv', index=False)"
   ]
  },
  {
   "cell_type": "code",
   "execution_count": null,
   "id": "26dfcd4b-0605-414e-a3ed-f533988f92e8",
   "metadata": {},
   "outputs": [],
   "source": []
  }
 ],
 "metadata": {
  "kernelspec": {
   "display_name": "Python 3 (ipykernel)",
   "language": "python",
   "name": "python3"
  },
  "language_info": {
   "codemirror_mode": {
    "name": "ipython",
    "version": 3
   },
   "file_extension": ".py",
   "mimetype": "text/x-python",
   "name": "python",
   "nbconvert_exporter": "python",
   "pygments_lexer": "ipython3",
   "version": "3.9.7"
  }
 },
 "nbformat": 4,
 "nbformat_minor": 5
}
