{
 "cells": [
  {
   "cell_type": "code",
   "execution_count": 1,
   "id": "360f2fe5-84c8-4248-ba8b-8824791a5347",
   "metadata": {},
   "outputs": [],
   "source": [
    "import pandas as pd\n",
    "import re\n",
    "import seaborn as sns\n",
    "import matplotlib.pyplot as plt\n",
    "sns.set(rc={'figure.figsize':(11,8)})\n",
    "sns.set(font_scale=1.2)\n",
    "import numpy as np"
   ]
  },
  {
   "cell_type": "code",
   "execution_count": 7,
   "id": "be065faf-0ec6-4da9-9293-a22f0081e0fc",
   "metadata": {},
   "outputs": [
    {
     "name": "stderr",
     "output_type": "stream",
     "text": [
      "C:\\Users\\nogur\\anaconda3\\lib\\site-packages\\IPython\\core\\interactiveshell.py:3444: DtypeWarning: Columns (48) have mixed types.Specify dtype option on import or set low_memory=False.\n",
      "  exec(code_obj, self.user_global_ns, self.user_ns)\n"
     ]
    }
   ],
   "source": [
    "df_2022 = pd.read_csv(\"../../original_data/ImmiRiskIPT2022_DATA_2022-12-12_1719.csv\", na_values= ' ')\n",
    "df_2021 = pd.read_csv(r\"../../original_data/Schneider Depression Clinic Database.csv\", na_values= ' ')\n"
   ]
  },
  {
   "cell_type": "code",
   "execution_count": 8,
   "id": "3de05d9f-4007-4df4-9530-7743b10b6e2a",
   "metadata": {
    "tags": []
   },
   "outputs": [],
   "source": [
    "#[i for i in df_2022.columns if 'ecr' in i.lower()]"
   ]
  },
  {
   "cell_type": "code",
   "execution_count": 67,
   "id": "e382edda-797c-404c-932a-6b453bf33d14",
   "metadata": {},
   "outputs": [],
   "source": [
    "ecr_f = [ f'ecr_{i}_f' for i in range(1, 37)]\n",
    "ecr_m = [ f'ecr_{i}_m' for i in range(1, 37)]\n",
    "max_ecr = 1.0\n",
    "min_ecr = 7.0"
   ]
  },
  {
   "cell_type": "code",
   "execution_count": 68,
   "id": "3c6a0efc-76d6-49ea-805f-d3666f93f8a2",
   "metadata": {},
   "outputs": [],
   "source": [
    "valid_2022_f = df_2022[ecr_f].dropna(how='all')\n",
    "valid_2022_m = df_2022[ecr_m].dropna(how='all')"
   ]
  },
  {
   "cell_type": "code",
   "execution_count": 69,
   "id": "01d17195-b306-4984-903a-e554a27d8c96",
   "metadata": {},
   "outputs": [
    {
     "data": {
      "text/plain": [
       "False"
      ]
     },
     "execution_count": 69,
     "metadata": {},
     "output_type": "execute_result"
    }
   ],
   "source": [
    "(valid_2022_f == max_ecr).all(axis=1).any()"
   ]
  },
  {
   "cell_type": "code",
   "execution_count": 70,
   "id": "ff26e6a1-d97d-4183-89db-3cb5ee6d7f32",
   "metadata": {},
   "outputs": [
    {
     "data": {
      "text/plain": [
       "False"
      ]
     },
     "execution_count": 70,
     "metadata": {},
     "output_type": "execute_result"
    }
   ],
   "source": [
    "(valid_2022_f == min_ecr).all(axis=1).any()"
   ]
  },
  {
   "cell_type": "code",
   "execution_count": 71,
   "id": "9864fe12-9de6-47c7-9268-1ac8ed1849e6",
   "metadata": {},
   "outputs": [
    {
     "data": {
      "text/plain": [
       "False"
      ]
     },
     "execution_count": 71,
     "metadata": {},
     "output_type": "execute_result"
    }
   ],
   "source": [
    "(valid_2022_m == max_ecr).all(axis=1).any()"
   ]
  },
  {
   "cell_type": "code",
   "execution_count": 72,
   "id": "70530fb0-0d5d-46e1-bf51-ccd55d8ab14e",
   "metadata": {},
   "outputs": [
    {
     "data": {
      "text/plain": [
       "False"
      ]
     },
     "execution_count": 72,
     "metadata": {},
     "output_type": "execute_result"
    }
   ],
   "source": [
    "(valid_2022_m == min_ecr).all(axis=1).any()"
   ]
  },
  {
   "cell_type": "code",
   "execution_count": 73,
   "id": "8a7f474d-e5fa-435d-add9-cc15075f153c",
   "metadata": {},
   "outputs": [],
   "source": [
    "valid_2021_f = df_2021[ecr_f].dropna(how='all')\n",
    "valid_2021_m = df_2021[ecr_m].dropna(how='all')"
   ]
  },
  {
   "cell_type": "code",
   "execution_count": 74,
   "id": "c4357e93-7d53-44c6-bda0-14429d559a80",
   "metadata": {},
   "outputs": [
    {
     "data": {
      "text/plain": [
       "True"
      ]
     },
     "execution_count": 74,
     "metadata": {},
     "output_type": "execute_result"
    }
   ],
   "source": [
    "(valid_2021_m == max_ecr).all(axis=1).any()"
   ]
  },
  {
   "cell_type": "code",
   "execution_count": 75,
   "id": "1a583909-a681-42f7-9687-729dc8c00017",
   "metadata": {},
   "outputs": [
    {
     "data": {
      "text/plain": [
       "False"
      ]
     },
     "execution_count": 75,
     "metadata": {},
     "output_type": "execute_result"
    }
   ],
   "source": [
    "(valid_2021_m == min_ecr).all(axis=1).any()"
   ]
  },
  {
   "cell_type": "code",
   "execution_count": 76,
   "id": "6041c19a-52ec-4487-b86f-a814275c1464",
   "metadata": {},
   "outputs": [
    {
     "data": {
      "text/plain": [
       "False"
      ]
     },
     "execution_count": 76,
     "metadata": {},
     "output_type": "execute_result"
    }
   ],
   "source": [
    "(valid_2021_f == max_ecr).all(axis=1).any()"
   ]
  },
  {
   "cell_type": "code",
   "execution_count": 77,
   "id": "43427abd-9678-4891-a870-cfdd74c0679f",
   "metadata": {},
   "outputs": [
    {
     "data": {
      "text/plain": [
       "False"
      ]
     },
     "execution_count": 77,
     "metadata": {},
     "output_type": "execute_result"
    }
   ],
   "source": [
    "(valid_2021_f == min_ecr).all(axis=1).any()"
   ]
  },
  {
   "cell_type": "markdown",
   "id": "d14441fe-ea8f-4eda-a316-3f85575f9e10",
   "metadata": {},
   "source": [
    "## inattentive "
   ]
  },
  {
   "cell_type": "code",
   "execution_count": 20,
   "id": "498f9624-9a0e-4350-bd7f-9fca2f9297db",
   "metadata": {},
   "outputs": [
    {
     "data": {
      "text/html": [
       "<div>\n",
       "<style scoped>\n",
       "    .dataframe tbody tr th:only-of-type {\n",
       "        vertical-align: middle;\n",
       "    }\n",
       "\n",
       "    .dataframe tbody tr th {\n",
       "        vertical-align: top;\n",
       "    }\n",
       "\n",
       "    .dataframe thead th {\n",
       "        text-align: right;\n",
       "    }\n",
       "</style>\n",
       "<table border=\"1\" class=\"dataframe\">\n",
       "  <thead>\n",
       "    <tr style=\"text-align: right;\">\n",
       "      <th></th>\n",
       "      <th>record_id</th>\n",
       "      <th>id</th>\n",
       "      <th>redcap_event_name</th>\n",
       "    </tr>\n",
       "  </thead>\n",
       "  <tbody>\n",
       "    <tr>\n",
       "      <th>251</th>\n",
       "      <td>75</td>\n",
       "      <td>S3151</td>\n",
       "      <td>5th_session_arm_1</td>\n",
       "    </tr>\n",
       "  </tbody>\n",
       "</table>\n",
       "</div>"
      ],
      "text/plain": [
       "     record_id     id  redcap_event_name\n",
       "251         75  S3151  5th_session_arm_1"
      ]
     },
     "execution_count": 33,
     "metadata": {},
     "output_type": "execute_result"
    }
   ],
   "source": [
    "df_2021[(df_2021[ecr_m] == min_ecr).all(axis=1)][['record_id', 'id', 'redcap_event_name']]"
   ]
  },
  {
   "cell_type": "code",
   "execution_count": null,
   "id": "0eff4ced-585e-4970-9752-fbf17da0b2d8",
   "metadata": {},
   "outputs": [],
   "source": []
  }
 ],
 "metadata": {
  "kernelspec": {
   "display_name": "Python 3 (ipykernel)",
   "language": "python",
   "name": "python3"
  },
  "language_info": {
   "codemirror_mode": {
    "name": "ipython",
    "version": 3
   },
   "file_extension": ".py",
   "mimetype": "text/x-python",
   "name": "python",
   "nbconvert_exporter": "python",
   "pygments_lexer": "ipython3",
   "version": "3.9.7"
  }
 },
 "nbformat": 4,
 "nbformat_minor": 5
}
