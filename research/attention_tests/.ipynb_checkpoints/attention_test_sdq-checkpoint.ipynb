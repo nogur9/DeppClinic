{
 "cells": [
  {
   "cell_type": "code",
   "execution_count": null,
   "id": "360f2fe5-84c8-4248-ba8b-8824791a5347",
   "metadata": {},
   "outputs": [],
   "source": [
    "import pandas as pd\n",
    "import re\n",
    "import seaborn as sns\n",
    "import matplotlib.pyplot as plt\n",
    "sns.set(rc={'figure.figsize':(11,8)})\n",
    "sns.set(font_scale=1.2)\n",
    "import numpy as np"
   ]
  },
  {
   "cell_type": "code",
   "execution_count": null,
   "id": "be065faf-0ec6-4da9-9293-a22f0081e0fc",
   "metadata": {},
   "outputs": [
    {
     "name": "stderr",
     "output_type": "stream",
     "text": [
      "C:\\Users\\nogur\\anaconda3\\lib\\site-packages\\IPython\\core\\interactiveshell.py:3444: DtypeWarning: Columns (44,51,53,99,325,366,439,453,459,464,466,501,507,512,514,521,530,532,569,571,580,599,766,771,777,781,786,788,793,795,804,806,826,843,845,854,873,883,918,941,979,991,1002,1040,1045,1047,1049,1051,1053,1054,1080,1096,1119,1122,1126,1127,1131,1132,1133,1134,1136,1137,1138,1141,1142,1144,1161,1183,1186,1237,1239,1259,1261,1262,1263,1269,1270,1271,1272,1384,1387,1389,1405,1408,1411,1415,1432,1434,1435,1436,1442,1443,1444,1445,1499,1568,1569,1572,1573) have mixed types.Specify dtype option on import or set low_memory=False.\n",
      "  exec(code_obj, self.user_global_ns, self.user_ns)\n",
      "C:\\Users\\nogur\\anaconda3\\lib\\site-packages\\IPython\\core\\interactiveshell.py:3444: DtypeWarning: Columns (48) have mixed types.Specify dtype option on import or set low_memory=False.\n",
      "  exec(code_obj, self.user_global_ns, self.user_ns)\n"
     ]
    }
   ],
   "source": [
    "df_2022 = pd.read_csv(\"../original_data/ImmiRiskIPT2022_DATA_2022-12-12_1719.csv\", na_values= ' ')\n",
    "df_2021 = pd.read_csv(r\"../original_data/Schneider Depression Clinic Database.csv\", na_values= ' ')\n"
   ]
  },
  {
   "cell_type": "code",
   "execution_count": null,
   "id": "3de05d9f-4007-4df4-9530-7743b10b6e2a",
   "metadata": {
    "tags": []
   },
   "outputs": [],
   "source": [
    "#[i for i in df_2022.columns if 'sdq' in i.lower()]"
   ]
  },
  {
   "cell_type": "code",
   "execution_count": null,
   "id": "e382edda-797c-404c-932a-6b453bf33d14",
   "metadata": {},
   "outputs": [],
   "source": [
    "sdq = [ f'sdq_{i}' for i in range(1, 26)]\n",
    "sdq_f = [ f'sdq_{i}_parents_f' for i in range(1, 29)] + ['sdq_29_parents_1_f',\n",
    " 'sdq_29_parents_2_f',\n",
    " 'sdq_29_parents_3_f',\n",
    " 'sdq_29_parents_4_f',\n",
    " 'sdq_30_parents_f',]\n",
    "sdq_m = [ f'sdq_{i}_parents_m' for i in range(1, 29)] + ['sdq_29_parents_1_m',\n",
    " 'sdq_29_parents_2_m',\n",
    " 'sdq_29_parents_3_m',\n",
    " 'sdq_29_parents_4_m',\n",
    " 'sdq_30_parents_m']\n",
    "max_sdq = 2.0\n",
    "min_sdq = 0.0"
   ]
  },
  {
   "cell_type": "code",
   "execution_count": null,
   "id": "3c6a0efc-76d6-49ea-805f-d3666f93f8a2",
   "metadata": {},
   "outputs": [],
   "source": [
    "valid_2022_sdq = df_2022[sdq].dropna(how='all')\n",
    "valid_2022_sdq_f = df_2022[sdq_f].dropna(how='all')\n",
    "valid_2022_sdq_m = df_2022[sdq_m].dropna(how='all')"
   ]
  },
  {
   "cell_type": "code",
   "execution_count": null,
   "id": "533632e0-57fa-440f-977f-173b394bdccf",
   "metadata": {},
   "outputs": [
    {
     "data": {
      "text/plain": [
       "False"
      ]
     },
     "execution_count": 11,
     "metadata": {},
     "output_type": "execute_result"
    }
   ],
   "source": [
    "(valid_2022_sdq == max_sdq).all(axis=1).any()"
   ]
  },
  {
   "cell_type": "code",
   "execution_count": null,
   "id": "ff26e6a1-d97d-4183-89db-3cb5ee6d7f32",
   "metadata": {},
   "outputs": [
    {
     "data": {
      "text/plain": [
       "False"
      ]
     },
     "execution_count": 12,
     "metadata": {},
     "output_type": "execute_result"
    }
   ],
   "source": [
    "(valid_2022_sdq == min_sdq).all(axis=1).any()"
   ]
  },
  {
   "cell_type": "code",
   "execution_count": null,
   "id": "ece633a1-9eb1-45cd-bf0d-078c2d43d3c4",
   "metadata": {},
   "outputs": [
    {
     "data": {
      "text/plain": [
       "False"
      ]
     },
     "execution_count": 13,
     "metadata": {},
     "output_type": "execute_result"
    }
   ],
   "source": [
    "(valid_2022_sdq_m == max_sdq).all(axis=1).any()"
   ]
  },
  {
   "cell_type": "code",
   "execution_count": null,
   "id": "17aa4389-e1dd-4f36-bf57-dd0fb3f1c504",
   "metadata": {},
   "outputs": [
    {
     "data": {
      "text/plain": [
       "False"
      ]
     },
     "execution_count": 14,
     "metadata": {},
     "output_type": "execute_result"
    }
   ],
   "source": [
    "(valid_2022_sdq_m == min_sdq).all(axis=1).any()"
   ]
  },
  {
   "cell_type": "code",
   "execution_count": null,
   "id": "723cb9ea-7b74-4e91-8b73-5371bef93f36",
   "metadata": {},
   "outputs": [
    {
     "data": {
      "text/plain": [
       "False"
      ]
     },
     "execution_count": 15,
     "metadata": {},
     "output_type": "execute_result"
    }
   ],
   "source": [
    "(valid_2022_sdq_f == max_sdq).all(axis=1).any()"
   ]
  },
  {
   "cell_type": "code",
   "execution_count": null,
   "id": "faa8e734-74dd-4c3d-a401-19185e6e7283",
   "metadata": {},
   "outputs": [
    {
     "data": {
      "text/plain": [
       "False"
      ]
     },
     "execution_count": 16,
     "metadata": {},
     "output_type": "execute_result"
    }
   ],
   "source": [
    "(valid_2022_sdq_f == min_sdq).all(axis=1).any()"
   ]
  },
  {
   "cell_type": "code",
   "execution_count": null,
   "id": "8a7f474d-e5fa-435d-add9-cc15075f153c",
   "metadata": {},
   "outputs": [],
   "source": [
    "valid_2021_sdq = df_2021[sdq].dropna(how='all')\n",
    "valid_2021_sdq_f = df_2021[sdq_f].dropna(how='all')\n",
    "valid_2021_sdq_m = df_2021[sdq_m].dropna(how='all')"
   ]
  },
  {
   "cell_type": "code",
   "execution_count": null,
   "id": "618b2642-9cd2-4576-81e8-3fcc770caedc",
   "metadata": {},
   "outputs": [
    {
     "data": {
      "text/plain": [
       "False"
      ]
     },
     "execution_count": 18,
     "metadata": {},
     "output_type": "execute_result"
    }
   ],
   "source": [
    "(valid_2021_sdq == max_sdq).all(axis=1).any()"
   ]
  },
  {
   "cell_type": "code",
   "execution_count": null,
   "id": "1a583909-a681-42f7-9687-729dc8c00017",
   "metadata": {},
   "outputs": [
    {
     "data": {
      "text/plain": [
       "False"
      ]
     },
     "execution_count": 19,
     "metadata": {},
     "output_type": "execute_result"
    }
   ],
   "source": [
    "(valid_2021_sdq == min_sdq).all(axis=1).any()"
   ]
  },
  {
   "cell_type": "code",
   "execution_count": null,
   "id": "6041c19a-52ec-4487-b86f-a814275c1464",
   "metadata": {},
   "outputs": [
    {
     "data": {
      "text/plain": [
       "False"
      ]
     },
     "execution_count": 20,
     "metadata": {},
     "output_type": "execute_result"
    }
   ],
   "source": [
    "(valid_2021_sdq_m == max_sdq).all(axis=1).any()"
   ]
  },
  {
   "cell_type": "code",
   "execution_count": null,
   "id": "43427abd-9678-4891-a870-cfdd74c0679f",
   "metadata": {},
   "outputs": [
    {
     "data": {
      "text/plain": [
       "False"
      ]
     },
     "execution_count": 21,
     "metadata": {},
     "output_type": "execute_result"
    }
   ],
   "source": [
    "(valid_2021_sdq_m == min_sdq).all(axis=1).any()"
   ]
  },
  {
   "cell_type": "code",
   "execution_count": null,
   "id": "83b74168-b51f-4c9b-a47b-e2f709090fca",
   "metadata": {},
   "outputs": [
    {
     "data": {
      "text/plain": [
       "False"
      ]
     },
     "execution_count": 22,
     "metadata": {},
     "output_type": "execute_result"
    }
   ],
   "source": [
    "(valid_2021_sdq_f == max_sdq).all(axis=1).any()"
   ]
  },
  {
   "cell_type": "code",
   "execution_count": null,
   "id": "78f9dbb9-9734-4999-b033-f5b2396fa14c",
   "metadata": {},
   "outputs": [
    {
     "data": {
      "text/plain": [
       "False"
      ]
     },
     "execution_count": 23,
     "metadata": {},
     "output_type": "execute_result"
    }
   ],
   "source": [
    "(valid_2021_sdq_f == min_sdq).all(axis=1).any()"
   ]
  },
  {
   "cell_type": "markdown",
   "id": "b57b8e57-69c6-4ee7-a859-2cf0682ba599",
   "metadata": {},
   "source": [
    "## inattentive 2021"
   ]
  },
  {
   "cell_type": "code",
   "execution_count": null,
   "id": "4ed3c3bf-a45f-41a3-96ff-c4b9c4348cd2",
   "metadata": {},
   "outputs": [
    {
     "data": {
      "text/html": [
       "<div>\n",
       "<style scoped>\n",
       "    .dataframe tbody tr th:only-of-type {\n",
       "        vertical-align: middle;\n",
       "    }\n",
       "\n",
       "    .dataframe tbody tr th {\n",
       "        vertical-align: top;\n",
       "    }\n",
       "\n",
       "    .dataframe thead th {\n",
       "        text-align: right;\n",
       "    }\n",
       "</style>\n",
       "<table border=\"1\" class=\"dataframe\">\n",
       "  <thead>\n",
       "    <tr style=\"text-align: right;\">\n",
       "      <th></th>\n",
       "      <th>record_id</th>\n",
       "      <th>id</th>\n",
       "      <th>redcap_event_name</th>\n",
       "    </tr>\n",
       "  </thead>\n",
       "  <tbody>\n",
       "  </tbody>\n",
       "</table>\n",
       "</div>"
      ],
      "text/plain": [
       "Empty DataFrame\n",
       "Columns: [record_id, id, redcap_event_name]\n",
       "Index: []"
      ]
     },
     "execution_count": 24,
     "metadata": {},
     "output_type": "execute_result"
    }
   ],
   "source": [
    "df_2021[(df_2021[sdq] == min_sdq).all(axis=1)][['record_id', 'id', 'redcap_event_name']]"
   ]
  },
  {
   "cell_type": "markdown",
   "id": "f0d2e866-7154-4628-a7ed-18fbb95882b0",
   "metadata": {},
   "source": [
    "## inattentive 2022"
   ]
  },
  {
   "cell_type": "code",
   "execution_count": null,
   "id": "01486f9f-8412-4102-98f1-1a518f6d21d9",
   "metadata": {},
   "outputs": [
    {
     "data": {
      "text/html": [
       "<div>\n",
       "<style scoped>\n",
       "    .dataframe tbody tr th:only-of-type {\n",
       "        vertical-align: middle;\n",
       "    }\n",
       "\n",
       "    .dataframe tbody tr th {\n",
       "        vertical-align: top;\n",
       "    }\n",
       "\n",
       "    .dataframe thead th {\n",
       "        text-align: right;\n",
       "    }\n",
       "</style>\n",
       "<table border=\"1\" class=\"dataframe\">\n",
       "  <thead>\n",
       "    <tr style=\"text-align: right;\">\n",
       "      <th></th>\n",
       "      <th>record_id</th>\n",
       "      <th>id</th>\n",
       "      <th>redcap_event_name</th>\n",
       "    </tr>\n",
       "  </thead>\n",
       "  <tbody>\n",
       "  </tbody>\n",
       "</table>\n",
       "</div>"
      ],
      "text/plain": [
       "Empty DataFrame\n",
       "Columns: [record_id, id, redcap_event_name]\n",
       "Index: []"
      ]
     },
     "execution_count": 25,
     "metadata": {},
     "output_type": "execute_result"
    }
   ],
   "source": [
    "df_2022[(df_2022[sdq] == max_sdq).all(axis=1)][['record_id', 'id', 'redcap_event_name']]"
   ]
  },
  {
   "cell_type": "code",
   "execution_count": null,
   "id": "10978f0f-e649-41a9-a1eb-a7e211f3938e",
   "metadata": {},
   "outputs": [],
   "source": []
  }
 ],
 "metadata": {
  "kernelspec": {
   "display_name": "Python 3 (ipykernel)",
   "language": "python",
   "name": "python3"
  },
  "language_info": {
   "codemirror_mode": {
    "name": "ipython",
    "version": 3
   },
   "file_extension": ".py",
   "mimetype": "text/x-python",
   "name": "python",
   "nbconvert_exporter": "python",
   "pygments_lexer": "ipython3",
   "version": "3.9.7"
  }
 },
 "nbformat": 4,
 "nbformat_minor": 5
}
