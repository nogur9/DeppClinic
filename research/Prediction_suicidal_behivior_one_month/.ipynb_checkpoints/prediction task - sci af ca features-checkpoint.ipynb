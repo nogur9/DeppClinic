{
 "cells": [
  {
   "cell_type": "markdown",
   "id": "d3ab1907",
   "metadata": {},
   "source": [
    "https://www.ahajournals.org/doi/10.1161/CIRCOUTCOMES.120.006556\n",
    "\n",
    "https://www.frontiersin.org/articles/10.3389/fpsyg.2019.02970/full\n",
    "\n",
    "https://compass.onlinelibrary.wiley.com/doi/full/10.1111/spc3.12579\n",
    "\n",
    "file:///C:/Users/nogur/Downloads/pone_0224365_pdf.pdf\n",
    "\n",
    "https://arxiv.org/pdf/2209.04830.pdf"
   ]
  },
  {
   "cell_type": "code",
   "execution_count": null,
   "id": "556360a9",
   "metadata": {},
   "outputs": [],
   "source": [
    "import sys\n",
    "sys.path.append(r\"../../\")\n",
    "\n",
    "import pandas as pd\n",
    "from sklearn.model_selection import train_test_split\n",
    "\n",
    "from catboost import CatBoostClassifier, CatBoostRegressor\n",
    "from sklearn.metrics import accuracy_score, precision_score, recall_score, roc_auc_score, precision_recall_curve, roc_curve, auc, average_precision_score\n",
    "\n",
    "from utils.questionnaires_scores.scores_computations import calculate_c_ssrs_scores\n",
    "from utils.utils import impute_from_column, simple_eda\n",
    "from utils.consts.questions_columns import c_ssrs, sci_af_ca\n",
    "from xgboost import XGBClassifier, XGBRegressor\n",
    "\n",
    "\n",
    "from sklearn.decomposition import PCA, KernelPCA, NMF\n",
    "from sklearn.manifold import TSNE\n",
    "import matplotlib.pyplot as plt\n",
    "from umap import UMAP\n",
    "import seaborn as sns\n",
    "import dtale\n"
   ]
  },
  {
   "cell_type": "code",
   "execution_count": null,
   "id": "9f291d5a",
   "metadata": {},
   "outputs": [],
   "source": [
    "# Splitting the data into train, validation, and test sets\n",
    "train_ratio = 0.6\n",
    "val_ratio = 0.1\n",
    "test_ratio = 0.2\n",
    "c_ssrs = c_ssrs[:-3]\n",
    "target_col = 'suicidal_ideation_time2'\n",
    "\n",
    "sci_cols = ['sci_af_ca_is_new_questions_missing', 'sci_af_ca_Factor1', 'sci_af_ca_Factor2',\n",
    "             'sci_af_ca_Factor3', 'sci_af_ca_Factor4', \n",
    "             'sci_af_ca_Factor5'] + sci_af_ca"
   ]
  },
  {
   "cell_type": "code",
   "execution_count": null,
   "id": "07864e60",
   "metadata": {},
   "outputs": [],
   "source": [
    "import os\n",
    "\n",
    "current_directory = os.getcwd()\n",
    "print(\"Current directory:\", current_directory)"
   ]
  },
  {
   "cell_type": "code",
   "execution_count": 2,
   "id": "dcf717d1",
   "metadata": {},
   "outputs": [],
   "source": [
    "df = pd.read_csv(r\"../../DeppClinic_prediction_task.csv\")\n",
    "df_intake = df[df.measurement == 'time1']\n",
    "df_target = df[df.measurement == 'time2']"
   ]
  },
  {
   "cell_type": "code",
   "execution_count": 4,
   "id": "3231c4f4",
   "metadata": {},
   "outputs": [
    {
     "data": {
      "text/plain": [
       "0     NaN\n",
       "1     NaN\n",
       "2     NaN\n",
       "3     NaN\n",
       "4     NaN\n",
       "       ..\n",
       "732   NaN\n",
       "733   NaN\n",
       "734   NaN\n",
       "735   NaN\n",
       "736   NaN\n",
       "Name: gender, Length: 737, dtype: float64"
      ]
     },
     "execution_count": 4,
     "metadata": {},
     "output_type": "execute_result"
    }
   ],
   "source": [
    "df.gender"
   ]
  },
  {
   "cell_type": "code",
   "execution_count": 20,
   "id": "ac08df06",
   "metadata": {},
   "outputs": [],
   "source": [
    "df_target = df_target[[target_col, 'id']]\n",
    "df_intake = df_intake.dropna(subset=sci_af_ca, thresh=20)\n",
    "df_intake = df_intake[sci_cols + ['id']]\n",
    "data_for_prediction = pd.merge(df_intake, df_target, on='id', how='inner')\n"
   ]
  },
  {
   "cell_type": "code",
   "execution_count": 21,
   "id": "caa9ddab",
   "metadata": {},
   "outputs": [],
   "source": [
    "label = data_for_prediction[target_col]\n",
    "features = data_for_prediction[sci_cols]"
   ]
  },
  {
   "cell_type": "code",
   "execution_count": 22,
   "id": "69a07c9e",
   "metadata": {},
   "outputs": [],
   "source": [
    "\n",
    "# Splitting the data into training and testing sets\n",
    "X_train, X_test, y_train, y_test = train_test_split(features, label, test_size=test_ratio, random_state=24, stratify=label)\n",
    "\n",
    "# Splitting the training set into training and validation sets\n",
    "X_train, X_val, y_train, y_val = train_test_split(X_train, y_train, test_size=val_ratio/(train_ratio+val_ratio), random_state=24, stratify=y_train)"
   ]
  },
  {
   "cell_type": "code",
   "execution_count": 27,
   "id": "f912b6a2",
   "metadata": {},
   "outputs": [],
   "source": [
    "dim_reduction = TSNE\n",
    "#PCA, KernelPCA, NMF, UMAP\n",
    "sns.set(rc={'figure.figsize':(11,8)})\n",
    "sns.set(font_scale=1.2)\n",
    "plt.clf()\n",
    "features = X_train\n",
    "features = features.dropna(how= 'any', axis=0)\n",
    "\n",
    "# Instantiate PCA and fit_transform your features\n",
    "model = dim_reduction(n_components=2)\n",
    "model_features = model.fit_transform(features)\n",
    "\n",
    "\n",
    "# Concatenate your PCA features with your target variable\n",
    "model_df = pd.DataFrame(model_features, columns=['var1', 'var2'])\n",
    "\n",
    "# Plot the output using Seaborn\n",
    "\n",
    "#sns.scatterplot(x='var1', y='var2', data=model_df).figure.savefig(fr\"../cluster_vis/{name}_vis.png\") \n",
    "sns.scatterplot(x='var1', y='var2', hue=y_train, palette='viridis', data=model_df).figure.savefig(fr\"vis.png\") \n"
   ]
  },
  {
   "cell_type": "code",
   "execution_count": 9,
   "id": "2741dc3a",
   "metadata": {},
   "outputs": [],
   "source": [
    "# Create a CatBoostClassifier object with early stopping based on the validation set\n",
    "eval_set  = [(X_val, y_val)]\n",
    "model = CatBoostClassifier(random_state=42, eval_metric='AUC', reg_lambda = 5)\n",
    "\n",
    "# Fit the model on the training set\n",
    "model.fit(X_train, y_train, eval_set=eval_set, early_stopping_rounds = 3, verbose=0)#, use_best_model=True)\n",
    "\n",
    "# Evaluate the model on the training and validation sets\n",
    "\n",
    "# Make predictions on the training and validation sets\n",
    "y_train_pred = model.predict(X_train)\n",
    "y_train_prob = model.predict_proba(X_train)[:, 1]\n",
    "y_val_pred = model.predict(X_val)\n",
    "y_val_prob = model.predict_proba(X_val)[:, 1]\n",
    "\n",
    "\n",
    "y_test_pred = model.predict(X_test)\n",
    "y_test_prob = model.predict_proba(X_test)[:, 1]\n"
   ]
  },
  {
   "cell_type": "code",
   "execution_count": 10,
   "id": "b7c807a2",
   "metadata": {},
   "outputs": [],
   "source": [
    "# Function to calculate and print various performance metrics\n",
    "\n",
    "def print_performance_metrics(y_true, y_pred, y_prob):\n",
    "    accuracy = accuracy_score(y_true, y_pred)\n",
    "    precision = precision_score(y_true, y_pred)\n",
    "    recall = recall_score(y_true, y_pred)\n",
    "    roc_auc = roc_auc_score(y_true, y_prob)\n",
    "    average_precision = average_precision_score(y_true, y_prob)\n",
    "    \n",
    "    print(f'Accuracy: {accuracy:.4f}')\n",
    "    print(f'Precision: {precision:.4f}')\n",
    "    print(f'Recall: {recall:.4f}')\n",
    "    print(f'ROC AUC: {roc_auc:.4f}')\n",
    "    print(f'PR AUC: {average_precision:.4f}')\n"
   ]
  },
  {
   "cell_type": "code",
   "execution_count": 11,
   "id": "9d9d0302",
   "metadata": {},
   "outputs": [
    {
     "name": "stdout",
     "output_type": "stream",
     "text": [
      "Training set performance:\n",
      "Accuracy: 0.8516\n",
      "Precision: 0.8372\n",
      "Recall: 0.9351\n",
      "ROC AUC: 0.9121\n",
      "PR AUC: 0.9407\n"
     ]
    }
   ],
   "source": [
    "# Print the performance metrics for the training set\n",
    "print('Training set performance:')\n",
    "print_performance_metrics(y_train, y_train_pred, y_train_prob)\n",
    "\n"
   ]
  },
  {
   "cell_type": "code",
   "execution_count": 12,
   "id": "a7899d65",
   "metadata": {},
   "outputs": [
    {
     "name": "stdout",
     "output_type": "stream",
     "text": [
      "Validation set performance:\n",
      "Accuracy: 0.6364\n",
      "Precision: 0.6667\n",
      "Recall: 0.7692\n",
      "ROC AUC: 0.5726\n",
      "PR AUC: 0.6942\n"
     ]
    }
   ],
   "source": [
    "# Print the performance metrics for the validation set\n",
    "print('Validation set performance:')\n",
    "print_performance_metrics(y_val, y_val_pred, y_val_prob)\n"
   ]
  },
  {
   "cell_type": "code",
   "execution_count": 13,
   "id": "592fa5a9",
   "metadata": {},
   "outputs": [
    {
     "name": "stdout",
     "output_type": "stream",
     "text": [
      "Test set performance:\n",
      "Accuracy: 0.6842\n",
      "Precision: 0.7200\n",
      "Recall: 0.7826\n",
      "ROC AUC: 0.6754\n",
      "PR AUC: 0.7247\n"
     ]
    }
   ],
   "source": [
    "# Print the performance metrics for the validation set\n",
    "print('Test set performance:')\n",
    "print_performance_metrics(y_test, y_test_pred, y_test_prob)\n"
   ]
  },
  {
   "cell_type": "code",
   "execution_count": 14,
   "id": "accaa6c9",
   "metadata": {},
   "outputs": [
    {
     "name": "stdout",
     "output_type": "stream",
     "text": [
      "Feature importance scores:\n",
      "sci_af_ca_1: 18.6573\n",
      "sci_af_ca_17: 9.7753\n",
      "sci_af_ca_4: 9.5410\n",
      "sci_af_ca_2: 8.6917\n",
      "sci_af_ca_10: 6.0910\n",
      "sci_af_ca_7: 5.9026\n",
      "sci_af_ca_24: 5.5984\n",
      "sci_af_ca_27: 4.9414\n",
      "sci_af_ca_40: 4.8637\n",
      "sci_af_ca_12: 4.5636\n",
      "sci_af_ca_11: 4.1882\n",
      "sci_af_ca_6: 4.1055\n",
      "sci_af_ca_Factor5: 3.9799\n",
      "sci_af_ca_20: 3.6559\n",
      "sci_af_ca_Factor1: 2.3918\n",
      "sci_af_ca_Factor2: 1.5394\n",
      "sci_af_ca_39: 1.5130\n",
      "sci_af_ca_is_new_questions_missing: 0.0000\n",
      "sci_af_ca_Factor3: 0.0000\n",
      "sci_af_ca_Factor4: 0.0000\n",
      "sci_af_ca_3: 0.0000\n",
      "sci_af_ca_5: 0.0000\n",
      "sci_af_ca_8: 0.0000\n",
      "sci_af_ca_9: 0.0000\n",
      "sci_af_ca_13: 0.0000\n",
      "sci_af_ca_14: 0.0000\n",
      "sci_af_ca_15: 0.0000\n",
      "sci_af_ca_16: 0.0000\n",
      "sci_af_ca_18: 0.0000\n",
      "sci_af_ca_19: 0.0000\n",
      "sci_af_ca_21: 0.0000\n",
      "sci_af_ca_22: 0.0000\n",
      "sci_af_ca_23: 0.0000\n",
      "sci_af_ca_25: 0.0000\n",
      "sci_af_ca_26: 0.0000\n",
      "sci_af_ca_28: 0.0000\n",
      "sci_af_ca_29: 0.0000\n",
      "sci_af_ca_30: 0.0000\n",
      "sci_af_ca_31: 0.0000\n",
      "sci_af_ca_32: 0.0000\n",
      "sci_af_ca_33: 0.0000\n",
      "sci_af_ca_34: 0.0000\n",
      "sci_af_ca_35: 0.0000\n",
      "sci_af_ca_36: 0.0000\n",
      "sci_af_ca_37: 0.0000\n",
      "sci_af_ca_38: 0.0000\n"
     ]
    }
   ],
   "source": [
    "\n",
    "# Get feature importance scores\n",
    "feature_importance = model.get_feature_importance()\n",
    "feature_names = X_train.columns.tolist()\n",
    "# Print feature importance scores\n",
    "print('Feature importance scores:')\n",
    "for feature_name, score in sorted(zip(feature_names, feature_importance), reverse=1, key = lambda x: x[1]):\n",
    "    print(f'{feature_name}: {score:.4f}')"
   ]
  },
  {
   "cell_type": "markdown",
   "id": "993b27d8",
   "metadata": {},
   "source": [
    "cool, \n",
    "use the train-validation-test variables that you created in the last snippet, \n",
    "and train CatBoostClassifier, with early_stopping parameter based on the validation set.\n",
    "\n",
    "after that look at the performance scores on the training & validation sets.\n",
    "and the feature-importance scores\n",
    "\n",
    "Since it's a complicated task, we need to use the following metrics: accuracy, precision, recall, precision-recall-auc, roc_auc"
   ]
  },
  {
   "cell_type": "code",
   "execution_count": null,
   "id": "2979fe7f",
   "metadata": {},
   "outputs": [],
   "source": []
  }
 ],
 "metadata": {
  "kernelspec": {
   "display_name": "DeppClinic",
   "language": "python",
   "name": "deppclinic"
  },
  "language_info": {
   "codemirror_mode": {
    "name": "ipython",
    "version": 3
   },
   "file_extension": ".py",
   "mimetype": "text/x-python",
   "name": "python",
   "nbconvert_exporter": "python",
   "pygments_lexer": "ipython3",
   "version": "3.9.7"
  }
 },
 "nbformat": 4,
 "nbformat_minor": 5
}
