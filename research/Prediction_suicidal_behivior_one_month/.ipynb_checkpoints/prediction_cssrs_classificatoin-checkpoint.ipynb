{
 "cells": [
  {
   "cell_type": "code",
   "execution_count": 1,
   "id": "556360a9",
   "metadata": {},
   "outputs": [],
   "source": [
    "import sys\n",
    "sys.path.append(r\"../../utils\")\n",
    "import numpy as np\n",
    "import pandas as pd\n",
    "from sklearn.model_selection import train_test_split\n",
    "\n",
    "from catboost import CatBoostClassifier, CatBoostRegressor\n",
    "from sklearn.metrics import accuracy_score, precision_score, recall_score, roc_auc_score, precision_recall_curve, roc_curve, auc\n",
    "from sklearn.neural_network import MLPRegressor\n",
    "from questionnaires_aggregation import c_ssrs_aggregation, sci_af_ac_aggregation\n",
    "from utils import impute_from_column, simple_eda\n",
    "from questions_columns import c_ssrs, sci_af_ca, suicidal_behavior, all_questionarries\n",
    "from xgboost import XGBClassifier, XGBRegressor\n",
    "from sklearn.metrics import r2_score, max_error"
   ]
  },
  {
   "cell_type": "code",
   "execution_count": 2,
   "id": "9f291d5a",
   "metadata": {},
   "outputs": [],
   "source": [
    "# Splitting the data into train, validation, and test sets\n",
    "train_ratio = 0.6\n",
    "val_ratio = 0.2\n",
    "test_ratio = 0.2\n",
    "c_ssrs = c_ssrs[:-3]"
   ]
  },
  {
   "cell_type": "code",
   "execution_count": 3,
   "id": "dcf717d1",
   "metadata": {},
   "outputs": [],
   "source": [
    "df = pd.read_csv(\"df_for_research.csv\")\n",
    "#df = df[df.age_child_pre > 11]\n",
    "df_intake = df[df.measurement == 'time1']\n",
    "df_target = df[df.measurement == 'time2']"
   ]
  },
  {
   "cell_type": "code",
   "execution_count": 4,
   "id": "f2061709",
   "metadata": {},
   "outputs": [
    {
     "data": {
      "text/plain": [
       "(306, 274)"
      ]
     },
     "execution_count": 4,
     "metadata": {},
     "output_type": "execute_result"
    }
   ],
   "source": [
    "df_target.dropna(subset= all_questionarries, how='all').shape"
   ]
  },
  {
   "cell_type": "code",
   "execution_count": 5,
   "id": "ebe27a64",
   "metadata": {},
   "outputs": [
    {
     "name": "stderr",
     "output_type": "stream",
     "text": [
      "C:\\Users\\nogur\\Documents\\DeppClinic\\research\\Prediction_suicidal_behivior_one_month\\../../utils\\utils.py:14: SettingWithCopyWarning: \n",
      "A value is trying to be set on a copy of a slice from a DataFrame.\n",
      "Try using .loc[row_indexer,col_indexer] = value instead\n",
      "\n",
      "See the caveats in the documentation: https://pandas.pydata.org/pandas-docs/stable/user_guide/indexing.html#returning-a-view-versus-a-copy\n",
      "  df[impute_to] = np.where(df[impute_to].isnull(), df[impute_from], df[impute_to])\n",
      "C:\\Users\\nogur\\anaconda3\\envs\\DeppClinic\\lib\\site-packages\\pandas\\core\\indexing.py:1817: SettingWithCopyWarning: \n",
      "A value is trying to be set on a copy of a slice from a DataFrame.\n",
      "Try using .loc[row_indexer,col_indexer] = value instead\n",
      "\n",
      "See the caveats in the documentation: https://pandas.pydata.org/pandas-docs/stable/user_guide/indexing.html#returning-a-view-versus-a-copy\n",
      "  self._setitem_single_column(loc, value, pi)\n"
     ]
    }
   ],
   "source": [
    "df_target = impute_from_column(df_target, impute_to = 'c_ssrs_6', impute_from = 'c_ssrs_last_visit_6')\n",
    "\n",
    "df_target.loc[df_target[~df_target[c_ssrs].isna().all(axis=1)].index, c_ssrs] = 0"
   ]
  },
  {
   "cell_type": "code",
   "execution_count": 7,
   "id": "ac08df06",
   "metadata": {},
   "outputs": [],
   "source": [
    "df_target = df_target.dropna(subset= suicidal_behavior, how='all')#df_target.dropna(subset=suicidal_behavior, how='all')"
   ]
  },
  {
   "cell_type": "code",
   "execution_count": null,
   "id": "ce01a78c",
   "metadata": {},
   "outputs": [],
   "source": []
  },
  {
   "cell_type": "code",
   "execution_count": 8,
   "id": "4ce988de",
   "metadata": {},
   "outputs": [],
   "source": [
    "df_target['label'] = (df_target[suicidal_behavior].sum(axis=1) > 0).astype(int)\n",
    "#df_target = df_target[['label', 'id']]\n"
   ]
  },
  {
   "cell_type": "code",
   "execution_count": 9,
   "id": "69a07c9e",
   "metadata": {},
   "outputs": [],
   "source": [
    "df_intake = df_intake.dropna(subset=sci_af_ca, thresh=20)\n",
    "df_intake = df_intake[sci_af_ca + ['id']]\n",
    "data_for_prediction = pd.merge(df_intake, df_target, on='id', how='inner')\n",
    "\n",
    "#data_for_prediction, sci_af_ac_factors = sci_af_ac_aggregation(data_for_prediction)\n",
    "\n",
    "if False:\n",
    "    simple_eda(data_for_prediction, columns = list(data_for_prediction.columns), title = 'all', display_additional_columns=False)"
   ]
  },
  {
   "cell_type": "code",
   "execution_count": 10,
   "id": "1b4ff8f8",
   "metadata": {},
   "outputs": [
    {
     "data": {
      "text/plain": [
       "(237, 41)"
      ]
     },
     "execution_count": 10,
     "metadata": {},
     "output_type": "execute_result"
    }
   ],
   "source": [
    "df_intake.shape"
   ]
  },
  {
   "cell_type": "code",
   "execution_count": 11,
   "id": "c545ae15",
   "metadata": {},
   "outputs": [
    {
     "data": {
      "text/plain": [
       "172"
      ]
     },
     "execution_count": 11,
     "metadata": {},
     "output_type": "execute_result"
    }
   ],
   "source": [
    "data_for_prediction['id'].nunique()"
   ]
  },
  {
   "cell_type": "code",
   "execution_count": null,
   "id": "2a042d7b",
   "metadata": {},
   "outputs": [],
   "source": []
  },
  {
   "cell_type": "code",
   "execution_count": 15,
   "id": "01fa513c",
   "metadata": {},
   "outputs": [
    {
     "data": {
      "text/html": [
       "<div>\n",
       "<style scoped>\n",
       "    .dataframe tbody tr th:only-of-type {\n",
       "        vertical-align: middle;\n",
       "    }\n",
       "\n",
       "    .dataframe tbody tr th {\n",
       "        vertical-align: top;\n",
       "    }\n",
       "\n",
       "    .dataframe thead th {\n",
       "        text-align: right;\n",
       "    }\n",
       "</style>\n",
       "<table border=\"1\" class=\"dataframe\">\n",
       "  <thead>\n",
       "    <tr style=\"text-align: right;\">\n",
       "      <th></th>\n",
       "      <th>scared_15</th>\n",
       "      <th>scared_16</th>\n",
       "      <th>scared_17</th>\n",
       "      <th>scared_18</th>\n",
       "      <th>scared_19</th>\n",
       "      <th>scared_20</th>\n",
       "      <th>scared_21</th>\n",
       "      <th>scared_22</th>\n",
       "      <th>scared_23</th>\n",
       "      <th>scared_24</th>\n",
       "      <th>...</th>\n",
       "      <th>suicidal_behavior_last_12_clin</th>\n",
       "      <th>suicidal_behavior_last_13_clin</th>\n",
       "      <th>suicidal_behavior_last_14_clin</th>\n",
       "      <th>suicidal_behavior_last_15_clin</th>\n",
       "      <th>suicidal_behavior_last_11_stu</th>\n",
       "      <th>suicidal_behavior_last_12_stu</th>\n",
       "      <th>suicidal_behavior_last_13_stu</th>\n",
       "      <th>suicidal_behavior_last_14_stu</th>\n",
       "      <th>suicidal_behavior_last_15_stu</th>\n",
       "      <th>label</th>\n",
       "    </tr>\n",
       "  </thead>\n",
       "  <tbody>\n",
       "    <tr>\n",
       "      <th>420</th>\n",
       "      <td>1.0</td>\n",
       "      <td>0.0</td>\n",
       "      <td>2.0</td>\n",
       "      <td>2.0</td>\n",
       "      <td>2.0</td>\n",
       "      <td>0.0</td>\n",
       "      <td>0.0</td>\n",
       "      <td>1.0</td>\n",
       "      <td>1.0</td>\n",
       "      <td>2.0</td>\n",
       "      <td>...</td>\n",
       "      <td>NaN</td>\n",
       "      <td>NaN</td>\n",
       "      <td>NaN</td>\n",
       "      <td>NaN</td>\n",
       "      <td>NaN</td>\n",
       "      <td>NaN</td>\n",
       "      <td>NaN</td>\n",
       "      <td>NaN</td>\n",
       "      <td>NaN</td>\n",
       "      <td>1</td>\n",
       "    </tr>\n",
       "    <tr>\n",
       "      <th>421</th>\n",
       "      <td>NaN</td>\n",
       "      <td>NaN</td>\n",
       "      <td>NaN</td>\n",
       "      <td>NaN</td>\n",
       "      <td>NaN</td>\n",
       "      <td>NaN</td>\n",
       "      <td>NaN</td>\n",
       "      <td>NaN</td>\n",
       "      <td>NaN</td>\n",
       "      <td>NaN</td>\n",
       "      <td>...</td>\n",
       "      <td>NaN</td>\n",
       "      <td>NaN</td>\n",
       "      <td>NaN</td>\n",
       "      <td>NaN</td>\n",
       "      <td>NaN</td>\n",
       "      <td>NaN</td>\n",
       "      <td>NaN</td>\n",
       "      <td>NaN</td>\n",
       "      <td>NaN</td>\n",
       "      <td>1</td>\n",
       "    </tr>\n",
       "    <tr>\n",
       "      <th>440</th>\n",
       "      <td>2.0</td>\n",
       "      <td>0.0</td>\n",
       "      <td>1.0</td>\n",
       "      <td>2.0</td>\n",
       "      <td>0.0</td>\n",
       "      <td>1.0</td>\n",
       "      <td>2.0</td>\n",
       "      <td>0.0</td>\n",
       "      <td>2.0</td>\n",
       "      <td>1.0</td>\n",
       "      <td>...</td>\n",
       "      <td>NaN</td>\n",
       "      <td>NaN</td>\n",
       "      <td>NaN</td>\n",
       "      <td>NaN</td>\n",
       "      <td>NaN</td>\n",
       "      <td>NaN</td>\n",
       "      <td>NaN</td>\n",
       "      <td>NaN</td>\n",
       "      <td>NaN</td>\n",
       "      <td>1</td>\n",
       "    </tr>\n",
       "    <tr>\n",
       "      <th>442</th>\n",
       "      <td>0.0</td>\n",
       "      <td>0.0</td>\n",
       "      <td>2.0</td>\n",
       "      <td>0.0</td>\n",
       "      <td>2.0</td>\n",
       "      <td>0.0</td>\n",
       "      <td>0.0</td>\n",
       "      <td>0.0</td>\n",
       "      <td>1.0</td>\n",
       "      <td>0.0</td>\n",
       "      <td>...</td>\n",
       "      <td>NaN</td>\n",
       "      <td>NaN</td>\n",
       "      <td>NaN</td>\n",
       "      <td>NaN</td>\n",
       "      <td>0.0</td>\n",
       "      <td>0.0</td>\n",
       "      <td>0.0</td>\n",
       "      <td>0.0</td>\n",
       "      <td>0.0</td>\n",
       "      <td>1</td>\n",
       "    </tr>\n",
       "    <tr>\n",
       "      <th>443</th>\n",
       "      <td>0.0</td>\n",
       "      <td>0.0</td>\n",
       "      <td>2.0</td>\n",
       "      <td>1.0</td>\n",
       "      <td>0.0</td>\n",
       "      <td>0.0</td>\n",
       "      <td>1.0</td>\n",
       "      <td>1.0</td>\n",
       "      <td>2.0</td>\n",
       "      <td>1.0</td>\n",
       "      <td>...</td>\n",
       "      <td>NaN</td>\n",
       "      <td>NaN</td>\n",
       "      <td>NaN</td>\n",
       "      <td>NaN</td>\n",
       "      <td>NaN</td>\n",
       "      <td>NaN</td>\n",
       "      <td>NaN</td>\n",
       "      <td>NaN</td>\n",
       "      <td>NaN</td>\n",
       "      <td>1</td>\n",
       "    </tr>\n",
       "    <tr>\n",
       "      <th>...</th>\n",
       "      <td>...</td>\n",
       "      <td>...</td>\n",
       "      <td>...</td>\n",
       "      <td>...</td>\n",
       "      <td>...</td>\n",
       "      <td>...</td>\n",
       "      <td>...</td>\n",
       "      <td>...</td>\n",
       "      <td>...</td>\n",
       "      <td>...</td>\n",
       "      <td>...</td>\n",
       "      <td>...</td>\n",
       "      <td>...</td>\n",
       "      <td>...</td>\n",
       "      <td>...</td>\n",
       "      <td>...</td>\n",
       "      <td>...</td>\n",
       "      <td>...</td>\n",
       "      <td>...</td>\n",
       "      <td>...</td>\n",
       "      <td>...</td>\n",
       "    </tr>\n",
       "    <tr>\n",
       "      <th>696</th>\n",
       "      <td>0.0</td>\n",
       "      <td>0.0</td>\n",
       "      <td>2.0</td>\n",
       "      <td>2.0</td>\n",
       "      <td>2.0</td>\n",
       "      <td>0.0</td>\n",
       "      <td>2.0</td>\n",
       "      <td>1.0</td>\n",
       "      <td>0.0</td>\n",
       "      <td>1.0</td>\n",
       "      <td>...</td>\n",
       "      <td>NaN</td>\n",
       "      <td>NaN</td>\n",
       "      <td>NaN</td>\n",
       "      <td>NaN</td>\n",
       "      <td>0.0</td>\n",
       "      <td>0.0</td>\n",
       "      <td>0.0</td>\n",
       "      <td>0.0</td>\n",
       "      <td>0.0</td>\n",
       "      <td>1</td>\n",
       "    </tr>\n",
       "    <tr>\n",
       "      <th>699</th>\n",
       "      <td>2.0</td>\n",
       "      <td>0.0</td>\n",
       "      <td>2.0</td>\n",
       "      <td>1.0</td>\n",
       "      <td>2.0</td>\n",
       "      <td>1.0</td>\n",
       "      <td>2.0</td>\n",
       "      <td>1.0</td>\n",
       "      <td>2.0</td>\n",
       "      <td>2.0</td>\n",
       "      <td>...</td>\n",
       "      <td>NaN</td>\n",
       "      <td>NaN</td>\n",
       "      <td>NaN</td>\n",
       "      <td>NaN</td>\n",
       "      <td>1.0</td>\n",
       "      <td>1.0</td>\n",
       "      <td>0.0</td>\n",
       "      <td>0.0</td>\n",
       "      <td>1.0</td>\n",
       "      <td>1</td>\n",
       "    </tr>\n",
       "    <tr>\n",
       "      <th>722</th>\n",
       "      <td>0.0</td>\n",
       "      <td>1.0</td>\n",
       "      <td>1.0</td>\n",
       "      <td>1.0</td>\n",
       "      <td>1.0</td>\n",
       "      <td>1.0</td>\n",
       "      <td>2.0</td>\n",
       "      <td>2.0</td>\n",
       "      <td>1.0</td>\n",
       "      <td>0.0</td>\n",
       "      <td>...</td>\n",
       "      <td>NaN</td>\n",
       "      <td>NaN</td>\n",
       "      <td>NaN</td>\n",
       "      <td>NaN</td>\n",
       "      <td>NaN</td>\n",
       "      <td>NaN</td>\n",
       "      <td>NaN</td>\n",
       "      <td>NaN</td>\n",
       "      <td>NaN</td>\n",
       "      <td>1</td>\n",
       "    </tr>\n",
       "    <tr>\n",
       "      <th>727</th>\n",
       "      <td>NaN</td>\n",
       "      <td>NaN</td>\n",
       "      <td>NaN</td>\n",
       "      <td>NaN</td>\n",
       "      <td>NaN</td>\n",
       "      <td>NaN</td>\n",
       "      <td>NaN</td>\n",
       "      <td>NaN</td>\n",
       "      <td>NaN</td>\n",
       "      <td>NaN</td>\n",
       "      <td>...</td>\n",
       "      <td>0.0</td>\n",
       "      <td>0.0</td>\n",
       "      <td>0.0</td>\n",
       "      <td>0.0</td>\n",
       "      <td>NaN</td>\n",
       "      <td>NaN</td>\n",
       "      <td>NaN</td>\n",
       "      <td>NaN</td>\n",
       "      <td>NaN</td>\n",
       "      <td>1</td>\n",
       "    </tr>\n",
       "    <tr>\n",
       "      <th>731</th>\n",
       "      <td>0.0</td>\n",
       "      <td>0.0</td>\n",
       "      <td>0.0</td>\n",
       "      <td>0.0</td>\n",
       "      <td>0.0</td>\n",
       "      <td>0.0</td>\n",
       "      <td>0.0</td>\n",
       "      <td>0.0</td>\n",
       "      <td>0.0</td>\n",
       "      <td>0.0</td>\n",
       "      <td>...</td>\n",
       "      <td>0.0</td>\n",
       "      <td>0.0</td>\n",
       "      <td>0.0</td>\n",
       "      <td>0.0</td>\n",
       "      <td>NaN</td>\n",
       "      <td>NaN</td>\n",
       "      <td>NaN</td>\n",
       "      <td>NaN</td>\n",
       "      <td>NaN</td>\n",
       "      <td>1</td>\n",
       "    </tr>\n",
       "  </tbody>\n",
       "</table>\n",
       "<p>67 rows × 169 columns</p>\n",
       "</div>"
      ],
      "text/plain": [
       "     scared_15  scared_16  scared_17  scared_18  scared_19  scared_20  \\\n",
       "420        1.0        0.0        2.0        2.0        2.0        0.0   \n",
       "421        NaN        NaN        NaN        NaN        NaN        NaN   \n",
       "440        2.0        0.0        1.0        2.0        0.0        1.0   \n",
       "442        0.0        0.0        2.0        0.0        2.0        0.0   \n",
       "443        0.0        0.0        2.0        1.0        0.0        0.0   \n",
       "..         ...        ...        ...        ...        ...        ...   \n",
       "696        0.0        0.0        2.0        2.0        2.0        0.0   \n",
       "699        2.0        0.0        2.0        1.0        2.0        1.0   \n",
       "722        0.0        1.0        1.0        1.0        1.0        1.0   \n",
       "727        NaN        NaN        NaN        NaN        NaN        NaN   \n",
       "731        0.0        0.0        0.0        0.0        0.0        0.0   \n",
       "\n",
       "     scared_21  scared_22  scared_23  scared_24  ...  \\\n",
       "420        0.0        1.0        1.0        2.0  ...   \n",
       "421        NaN        NaN        NaN        NaN  ...   \n",
       "440        2.0        0.0        2.0        1.0  ...   \n",
       "442        0.0        0.0        1.0        0.0  ...   \n",
       "443        1.0        1.0        2.0        1.0  ...   \n",
       "..         ...        ...        ...        ...  ...   \n",
       "696        2.0        1.0        0.0        1.0  ...   \n",
       "699        2.0        1.0        2.0        2.0  ...   \n",
       "722        2.0        2.0        1.0        0.0  ...   \n",
       "727        NaN        NaN        NaN        NaN  ...   \n",
       "731        0.0        0.0        0.0        0.0  ...   \n",
       "\n",
       "     suicidal_behavior_last_12_clin  suicidal_behavior_last_13_clin  \\\n",
       "420                             NaN                             NaN   \n",
       "421                             NaN                             NaN   \n",
       "440                             NaN                             NaN   \n",
       "442                             NaN                             NaN   \n",
       "443                             NaN                             NaN   \n",
       "..                              ...                             ...   \n",
       "696                             NaN                             NaN   \n",
       "699                             NaN                             NaN   \n",
       "722                             NaN                             NaN   \n",
       "727                             0.0                             0.0   \n",
       "731                             0.0                             0.0   \n",
       "\n",
       "     suicidal_behavior_last_14_clin  suicidal_behavior_last_15_clin  \\\n",
       "420                             NaN                             NaN   \n",
       "421                             NaN                             NaN   \n",
       "440                             NaN                             NaN   \n",
       "442                             NaN                             NaN   \n",
       "443                             NaN                             NaN   \n",
       "..                              ...                             ...   \n",
       "696                             NaN                             NaN   \n",
       "699                             NaN                             NaN   \n",
       "722                             NaN                             NaN   \n",
       "727                             0.0                             0.0   \n",
       "731                             0.0                             0.0   \n",
       "\n",
       "     suicidal_behavior_last_11_stu  suicidal_behavior_last_12_stu  \\\n",
       "420                            NaN                            NaN   \n",
       "421                            NaN                            NaN   \n",
       "440                            NaN                            NaN   \n",
       "442                            0.0                            0.0   \n",
       "443                            NaN                            NaN   \n",
       "..                             ...                            ...   \n",
       "696                            0.0                            0.0   \n",
       "699                            1.0                            1.0   \n",
       "722                            NaN                            NaN   \n",
       "727                            NaN                            NaN   \n",
       "731                            NaN                            NaN   \n",
       "\n",
       "     suicidal_behavior_last_13_stu  suicidal_behavior_last_14_stu  \\\n",
       "420                            NaN                            NaN   \n",
       "421                            NaN                            NaN   \n",
       "440                            NaN                            NaN   \n",
       "442                            0.0                            0.0   \n",
       "443                            NaN                            NaN   \n",
       "..                             ...                            ...   \n",
       "696                            0.0                            0.0   \n",
       "699                            0.0                            0.0   \n",
       "722                            NaN                            NaN   \n",
       "727                            NaN                            NaN   \n",
       "731                            NaN                            NaN   \n",
       "\n",
       "     suicidal_behavior_last_15_stu  label  \n",
       "420                            NaN      1  \n",
       "421                            NaN      1  \n",
       "440                            NaN      1  \n",
       "442                            0.0      1  \n",
       "443                            NaN      1  \n",
       "..                             ...    ...  \n",
       "696                            0.0      1  \n",
       "699                            1.0      1  \n",
       "722                            NaN      1  \n",
       "727                            NaN      1  \n",
       "731                            NaN      1  \n",
       "\n",
       "[67 rows x 169 columns]"
      ]
     },
     "execution_count": 15,
     "metadata": {},
     "output_type": "execute_result"
    }
   ],
   "source": [
    "#data_for_prediction['label'] = (data_for_prediction['c_ssrs_stb'] > 3).astype(int)\n",
    "cols = df_target.columns[100:]\n",
    "df_target[~df_target['id'].isin(df_intake['id'].unique())][cols]"
   ]
  },
  {
   "cell_type": "code",
   "execution_count": 16,
   "id": "6ca16b41",
   "metadata": {},
   "outputs": [
    {
     "data": {
      "text/plain": [
       "(125, 309)"
      ]
     },
     "execution_count": 16,
     "metadata": {},
     "output_type": "execute_result"
    }
   ],
   "source": [
    "data_for_prediction.shape"
   ]
  },
  {
   "cell_type": "code",
   "execution_count": 17,
   "id": "d9a7a188",
   "metadata": {},
   "outputs": [
    {
     "data": {
      "text/plain": [
       "(237, 41)"
      ]
     },
     "execution_count": 17,
     "metadata": {},
     "output_type": "execute_result"
    }
   ],
   "source": [
    "df_intake.shape"
   ]
  },
  {
   "cell_type": "code",
   "execution_count": 18,
   "id": "54d65ba2",
   "metadata": {},
   "outputs": [
    {
     "data": {
      "text/plain": [
       "(192, 269)"
      ]
     },
     "execution_count": 18,
     "metadata": {},
     "output_type": "execute_result"
    }
   ],
   "source": [
    "df_target.shape"
   ]
  },
  {
   "cell_type": "code",
   "execution_count": null,
   "id": "b447bbb8",
   "metadata": {},
   "outputs": [],
   "source": []
  },
  {
   "cell_type": "code",
   "execution_count": 10,
   "id": "0be634d5",
   "metadata": {},
   "outputs": [],
   "source": [
    "\n",
    "features = data_for_prediction[sci_af_ca+ sci_af_ac_factors]\n",
    "label = data_for_prediction['label']"
   ]
  },
  {
   "cell_type": "code",
   "execution_count": 11,
   "id": "980bebbc",
   "metadata": {},
   "outputs": [],
   "source": [
    "\n",
    "# Splitting the data into training and testing sets\n",
    "X_train, X_test, y_train, y_test = train_test_split(features, label, test_size=test_ratio, random_state=42, stratify=label)\n",
    "\n",
    "# Splitting the training set into training and validation sets\n",
    "X_train, X_val, y_train, y_val = train_test_split(X_train, y_train, test_size=val_ratio/(train_ratio+val_ratio), random_state=42, stratify=y_train)"
   ]
  },
  {
   "cell_type": "code",
   "execution_count": 12,
   "id": "4af4f8be",
   "metadata": {},
   "outputs": [
    {
     "data": {
      "text/plain": [
       "140"
      ]
     },
     "execution_count": 12,
     "metadata": {},
     "output_type": "execute_result"
    }
   ],
   "source": [
    "label.count()"
   ]
  },
  {
   "cell_type": "code",
   "execution_count": 13,
   "id": "b7ca0636",
   "metadata": {},
   "outputs": [
    {
     "data": {
      "text/plain": [
       "23"
      ]
     },
     "execution_count": 13,
     "metadata": {},
     "output_type": "execute_result"
    }
   ],
   "source": [
    "label.sum()"
   ]
  },
  {
   "cell_type": "code",
   "execution_count": 14,
   "id": "2741dc3a",
   "metadata": {
    "scrolled": true
   },
   "outputs": [
    {
     "name": "stdout",
     "output_type": "stream",
     "text": [
      "0:\tlearn: 0.7164179\ttest: 0.5161290\tbest: 0.5161290 (0)\ttotal: 169ms\tremaining: 2m 48s\n",
      "1:\tlearn: 0.7328244\ttest: 0.6956522\tbest: 0.6956522 (1)\ttotal: 171ms\tremaining: 1m 25s\n",
      "2:\tlearn: 0.7164179\ttest: 0.6956522\tbest: 0.6956522 (1)\ttotal: 174ms\tremaining: 57.8s\n",
      "3:\tlearn: 0.7328244\ttest: 0.6956522\tbest: 0.6956522 (1)\ttotal: 176ms\tremaining: 43.9s\n",
      "4:\tlearn: 0.7384615\ttest: 0.7111111\tbest: 0.7111111 (4)\ttotal: 178ms\tremaining: 35.5s\n",
      "5:\tlearn: 0.7384615\ttest: 0.7111111\tbest: 0.7111111 (4)\ttotal: 181ms\tremaining: 29.9s\n",
      "6:\tlearn: 0.7428571\ttest: 0.7111111\tbest: 0.7111111 (4)\ttotal: 183ms\tremaining: 25.9s\n",
      "7:\tlearn: 0.7323944\ttest: 0.7111111\tbest: 0.7111111 (4)\ttotal: 185ms\tremaining: 22.9s\n",
      "8:\tlearn: 0.7222222\ttest: 0.6956522\tbest: 0.7111111 (4)\ttotal: 187ms\tremaining: 20.6s\n",
      "9:\tlearn: 0.7323944\ttest: 0.6956522\tbest: 0.7111111 (4)\ttotal: 189ms\tremaining: 18.7s\n",
      "Stopped by overfitting detector  (5 iterations wait)\n",
      "\n",
      "bestTest = 0.7111111111\n",
      "bestIteration = 4\n",
      "\n",
      "Shrink model to first 5 iterations.\n"
     ]
    }
   ],
   "source": [
    "# Create a CatBoostClassifier object with early stopping based on the validation set\n",
    "eval_set  = [(X_val, y_val)]\n",
    "#model = CatBoostClassifier(random_state=42, depth = 5, l2_leaf_reg = 7, loss_function='CrossEntropy', eval_metric='AUC')\n",
    "model = CatBoostClassifier(random_state=42, depth = 2, l2_leaf_reg = 10, class_weights = [1, 8], eval_metric='Precision')\n",
    "\n",
    "# Fit the model on the training set\n",
    "model.fit(X_train, y_train, eval_set=eval_set, early_stopping_rounds = 5)#, eval_set=(X_val, y_val))\n",
    "\n",
    "\n",
    "# Make predictions on the training and validation sets\n",
    "y_train_pred = model.predict(X_train)\n",
    "y_train_prob = model.predict_proba(X_train)[:, 1]\n",
    "\n",
    "y_val_pred = model.predict(X_val)\n",
    "y_val_prob = model.predict_proba(X_val)[:, 1]\n"
   ]
  },
  {
   "cell_type": "code",
   "execution_count": 15,
   "id": "070a30c6",
   "metadata": {},
   "outputs": [],
   "source": [
    "# Function to calculate and print various performance metrics\n",
    "\n",
    "def print_performance_metrics(y_true, y_pred, y_prob):\n",
    "    accuracy = accuracy_score(y_true, y_pred)\n",
    "    precision = precision_score(y_true, y_pred)\n",
    "    recall = recall_score(y_true, y_pred)\n",
    "    roc_auc = roc_auc_score(y_true, y_prob)\n",
    "\n",
    "    print(f'Accuracy: {accuracy:.4f}')\n",
    "    print(f'Precision: {precision:.4f}')\n",
    "    print(f'Recall: {recall:.4f}')\n",
    "    print(f'ROC AUC: {roc_auc:.4f}')\n"
   ]
  },
  {
   "cell_type": "code",
   "execution_count": 16,
   "id": "9d9d0302",
   "metadata": {},
   "outputs": [
    {
     "name": "stdout",
     "output_type": "stream",
     "text": [
      "Training set performance:\n",
      "Accuracy: 0.5714\n",
      "Precision: 0.2609\n",
      "Recall: 0.8571\n",
      "ROC AUC: 0.8056\n"
     ]
    }
   ],
   "source": [
    "# Print the performance metrics for the training set\n",
    "print('Training set performance:')\n",
    "print_performance_metrics(y_train, y_train_pred, y_train_prob)\n",
    "\n"
   ]
  },
  {
   "cell_type": "code",
   "execution_count": 17,
   "id": "a7899d65",
   "metadata": {},
   "outputs": [
    {
     "name": "stdout",
     "output_type": "stream",
     "text": [
      "Validation set performance:\n",
      "Accuracy: 0.5357\n",
      "Precision: 0.2353\n",
      "Recall: 1.0000\n",
      "ROC AUC: 0.7083\n"
     ]
    }
   ],
   "source": [
    "# Print the performance metrics for the validation set\n",
    "print('Validation set performance:')\n",
    "print_performance_metrics(y_val, y_val_pred, y_val_prob)\n"
   ]
  },
  {
   "cell_type": "code",
   "execution_count": null,
   "id": "592fa5a9",
   "metadata": {},
   "outputs": [],
   "source": []
  },
  {
   "cell_type": "code",
   "execution_count": 34,
   "id": "accaa6c9",
   "metadata": {},
   "outputs": [
    {
     "name": "stdout",
     "output_type": "stream",
     "text": [
      "Feature importance scores:\n",
      "sci_af_ca_39: 73.0063\n",
      "sci_af_ca_29: 26.9937\n",
      "sci_af_ca_1: 0.0000\n",
      "sci_af_ca_2: 0.0000\n",
      "sci_af_ca_3: 0.0000\n",
      "sci_af_ca_4: 0.0000\n",
      "sci_af_ca_5: 0.0000\n",
      "sci_af_ca_6: 0.0000\n",
      "sci_af_ca_7: 0.0000\n",
      "sci_af_ca_8: 0.0000\n",
      "sci_af_ca_9: 0.0000\n",
      "sci_af_ca_10: 0.0000\n",
      "sci_af_ca_11: 0.0000\n",
      "sci_af_ca_12: 0.0000\n",
      "sci_af_ca_13: 0.0000\n",
      "sci_af_ca_14: 0.0000\n",
      "sci_af_ca_15: 0.0000\n",
      "sci_af_ca_16: 0.0000\n",
      "sci_af_ca_17: 0.0000\n",
      "sci_af_ca_18: 0.0000\n",
      "sci_af_ca_19: 0.0000\n",
      "sci_af_ca_20: 0.0000\n",
      "sci_af_ca_21: 0.0000\n",
      "sci_af_ca_22: 0.0000\n",
      "sci_af_ca_23: 0.0000\n",
      "sci_af_ca_24: 0.0000\n",
      "sci_af_ca_25: 0.0000\n",
      "sci_af_ca_26: 0.0000\n",
      "sci_af_ca_27: 0.0000\n",
      "sci_af_ca_28: 0.0000\n",
      "sci_af_ca_30: 0.0000\n",
      "sci_af_ca_31: 0.0000\n",
      "sci_af_ca_32: 0.0000\n",
      "sci_af_ca_33: 0.0000\n",
      "sci_af_ca_34: 0.0000\n",
      "sci_af_ca_35: 0.0000\n",
      "sci_af_ca_36: 0.0000\n",
      "sci_af_ca_37: 0.0000\n",
      "sci_af_ca_38: 0.0000\n",
      "sci_af_ca_40: 0.0000\n",
      "sci_af_ca_Factor1: 0.0000\n",
      "sci_af_ca_Factor2: 0.0000\n",
      "sci_af_ca_Factor3: 0.0000\n",
      "sci_af_ca_Factor4: 0.0000\n",
      "sci_af_ca_Factor5: 0.0000\n"
     ]
    }
   ],
   "source": [
    "\n",
    "# Get feature importance scores\n",
    "feature_importance = model.get_feature_importance()\n",
    "feature_names = X_train.columns.tolist()\n",
    "# Print feature importance scores\n",
    "print('Feature importance scores:')\n",
    "for feature_name, score in sorted(zip(feature_names, feature_importance), reverse=1, key = lambda x: x[1]):\n",
    "    print(f'{feature_name}: {score:.4f}')"
   ]
  },
  {
   "cell_type": "markdown",
   "id": "993b27d8",
   "metadata": {},
   "source": [
    "cool, \n",
    "use the train-validation-test variables that you created in the last snippet, \n",
    "and train CatBoostClassifier, with early_stopping parameter based on the validation set.\n",
    "\n",
    "after that look at the performance scores on the training & validation sets.\n",
    "and the feature-importance scores\n",
    "\n",
    "Since it's a complicated task, we need to use the following metrics: accuracy, precision, recall, precision-recall-auc, roc_auc"
   ]
  },
  {
   "cell_type": "code",
   "execution_count": null,
   "id": "2979fe7f",
   "metadata": {},
   "outputs": [],
   "source": []
  }
 ],
 "metadata": {
  "kernelspec": {
   "display_name": "DeppClinic",
   "language": "python",
   "name": "deppclinic"
  },
  "language_info": {
   "codemirror_mode": {
    "name": "ipython",
    "version": 3
   },
   "file_extension": ".py",
   "mimetype": "text/x-python",
   "name": "python",
   "nbconvert_exporter": "python",
   "pygments_lexer": "ipython3",
   "version": "3.9.7"
  }
 },
 "nbformat": 4,
 "nbformat_minor": 5
}
