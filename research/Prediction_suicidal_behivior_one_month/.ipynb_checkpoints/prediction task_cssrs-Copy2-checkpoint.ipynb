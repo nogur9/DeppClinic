{
 "cells": [
  {
   "cell_type": "code",
   "execution_count": 36,
   "id": "556360a9",
   "metadata": {},
   "outputs": [],
   "source": [
    "import sys\n",
    "sys.path.append(r\"../../utils\")\n",
    "\n",
    "import pandas as pd\n",
    "from sklearn.model_selection import train_test_split\n",
    "\n",
    "from catboost import CatBoostClassifier, CatBoostRegressor\n",
    "from sklearn.metrics import accuracy_score, precision_score, recall_score, roc_auc_score, precision_recall_curve, roc_curve, auc, average_precision_score\n",
    "\n",
    "from questionnaires_aggregation import c_ssrs_aggregation\n",
    "from utils import impute_from_column, simple_eda\n",
    "from questions_columns import c_ssrs, sci_af_ca\n",
    "from xgboost import XGBClassifier, XGBRegressor"
   ]
  },
  {
   "cell_type": "code",
   "execution_count": 2,
   "id": "9f291d5a",
   "metadata": {},
   "outputs": [],
   "source": [
    "# Splitting the data into train, validation, and test sets\n",
    "train_ratio = 0.6\n",
    "val_ratio = 0.2\n",
    "test_ratio = 0.2\n",
    "c_ssrs = c_ssrs[:-3]\n",
    "target_col = 'suicidal_behavior_time2'\n",
    "\n",
    "sci_cols = ['is_sci_af_ca_missing', 'sci_af_ca_Factor1', 'sci_af_ca_Factor2',\n",
    "             'sci_af_ca_Factor3', 'sci_af_ca_Factor4', \n",
    "             'sci_af_ca_Factor5'] + sci_af_ca"
   ]
  },
  {
   "cell_type": "code",
   "execution_count": 3,
   "id": "dcf717d1",
   "metadata": {},
   "outputs": [],
   "source": [
    "df = pd.read_csv(r\"../create_dataset/data_for_prediction_task - measurement time axis.csv\")\n",
    "df_intake = df[df.measurement == 'time1']\n",
    "df_target = df[df.measurement == 'time2']"
   ]
  },
  {
   "cell_type": "code",
   "execution_count": 4,
   "id": "ac08df06",
   "metadata": {},
   "outputs": [],
   "source": [
    "df_target = df_target[[target_col, 'id']]\n",
    "df_intake = df_intake.dropna(subset=sci_cols, thresh=20)\n",
    "df_intake = df_intake[sci_cols + ['id']]\n",
    "data_for_prediction = pd.merge(df_intake, df_target, on='id', how='inner')\n"
   ]
  },
  {
   "cell_type": "code",
   "execution_count": 5,
   "id": "2ebc94ab",
   "metadata": {},
   "outputs": [],
   "source": [
    "label = data_for_prediction[target_col]\n",
    "features = data_for_prediction[sci_cols]"
   ]
  },
  {
   "cell_type": "code",
   "execution_count": 6,
   "id": "69a07c9e",
   "metadata": {},
   "outputs": [],
   "source": [
    "\n",
    "# Splitting the data into training and testing sets\n",
    "X_train, X_test, y_train, y_test = train_test_split(features, label, test_size=test_ratio, random_state=42, stratify=label)\n",
    "\n",
    "# Splitting the training set into training and validation sets\n",
    "X_train, X_val, y_train, y_val = train_test_split(X_train, y_train, test_size=val_ratio/(train_ratio+val_ratio), random_state=42, stratify=y_train)"
   ]
  },
  {
   "cell_type": "code",
   "execution_count": 186,
   "id": "2741dc3a",
   "metadata": {},
   "outputs": [],
   "source": [
    "# Create a CatBoostClassifier object with early stopping based on the validation set\n",
    "eval_set  = [(X_val, y_val)]\n",
    "model = CatBoostClassifier(random_state=42, class_weights = {0: 1, 1: 3}, eval_metric='AUC', reg_lambda = 1)\n",
    "\n",
    "# Fit the model on the training set\n",
    "model.fit(X_train, y_train, eval_set=eval_set, early_stopping_rounds = 10, verbose=0)#, use_best_model=True)\n",
    "\n",
    "# Evaluate the model on the training and validation sets\n",
    "\n",
    "# Make predictions on the training and validation sets\n",
    "y_train_pred = model.predict(X_train)\n",
    "y_train_prob = model.predict_proba(X_train)[:, 1]\n",
    "y_val_pred = model.predict(X_val)\n",
    "y_val_prob = model.predict_proba(X_val)[:, 1]\n",
    "\n",
    "\n",
    "y_test_pred = model.predict(X_test)\n",
    "y_test_prob = model.predict_proba(X_test)[:, 1]\n"
   ]
  },
  {
   "cell_type": "code",
   "execution_count": 187,
   "id": "b7c807a2",
   "metadata": {},
   "outputs": [],
   "source": [
    "# Function to calculate and print various performance metrics\n",
    "\n",
    "def print_performance_metrics(y_true, y_pred, y_prob):\n",
    "    accuracy = accuracy_score(y_true, y_pred)\n",
    "    precision = precision_score(y_true, y_pred)\n",
    "    recall = recall_score(y_true, y_pred)\n",
    "    roc_auc = roc_auc_score(y_true, y_prob)\n",
    "    average_precision = average_precision_score(y_true, y_prob)\n",
    "    \n",
    "    print(f'Accuracy: {accuracy:.4f}')\n",
    "    print(f'Precision: {precision:.4f}')\n",
    "    print(f'Recall: {recall:.4f}')\n",
    "    print(f'ROC AUC: {roc_auc:.4f}')\n",
    "    print(f'PR AUC: {average_precision:.4f}')\n"
   ]
  },
  {
   "cell_type": "code",
   "execution_count": 188,
   "id": "9d9d0302",
   "metadata": {},
   "outputs": [
    {
     "name": "stdout",
     "output_type": "stream",
     "text": [
      "Training set performance:\n",
      "Accuracy: 0.9196\n",
      "Precision: 0.7714\n",
      "Recall: 0.9643\n",
      "ROC AUC: 0.9906\n",
      "PR AUC: 0.9774\n"
     ]
    }
   ],
   "source": [
    "# Print the performance metrics for the training set\n",
    "print('Training set performance:')\n",
    "print_performance_metrics(y_train, y_train_pred, y_train_prob)\n",
    "\n"
   ]
  },
  {
   "cell_type": "code",
   "execution_count": 189,
   "id": "a7899d65",
   "metadata": {},
   "outputs": [
    {
     "name": "stdout",
     "output_type": "stream",
     "text": [
      "Validation set performance:\n",
      "Accuracy: 0.7368\n",
      "Precision: 0.4545\n",
      "Recall: 0.5556\n",
      "ROC AUC: 0.7165\n",
      "PR AUC: 0.4100\n"
     ]
    }
   ],
   "source": [
    "# Print the performance metrics for the validation set\n",
    "print('Validation set performance:')\n",
    "print_performance_metrics(y_val, y_val_pred, y_val_prob)\n"
   ]
  },
  {
   "cell_type": "code",
   "execution_count": 190,
   "id": "592fa5a9",
   "metadata": {},
   "outputs": [
    {
     "name": "stdout",
     "output_type": "stream",
     "text": [
      "Test set performance:\n",
      "Accuracy: 0.6053\n",
      "Precision: 0.3125\n",
      "Recall: 0.5556\n",
      "ROC AUC: 0.7011\n",
      "PR AUC: 0.3815\n"
     ]
    }
   ],
   "source": [
    "# Print the performance metrics for the validation set\n",
    "print('Test set performance:')\n",
    "print_performance_metrics(y_test, y_test_pred, y_test_prob)\n"
   ]
  },
  {
   "cell_type": "code",
   "execution_count": 140,
   "id": "accaa6c9",
   "metadata": {},
   "outputs": [
    {
     "name": "stdout",
     "output_type": "stream",
     "text": [
      "Feature importance scores:\n",
      "sci_af_ca_18: 7.9616\n",
      "sci_af_ca_25: 6.1920\n",
      "sci_af_ca_39: 5.2489\n",
      "sci_af_ca_1: 4.9289\n",
      "sci_af_ca_27: 4.5093\n",
      "sci_af_ca_9: 4.3597\n",
      "sci_af_ca_35: 4.3569\n",
      "sci_af_ca_30: 4.3061\n",
      "sci_af_ca_Factor1: 3.3340\n",
      "sci_af_ca_17: 3.2148\n",
      "sci_af_ca_38: 3.2000\n",
      "sci_af_ca_7: 2.9448\n",
      "sci_af_ca_24: 2.8358\n",
      "sci_af_ca_Factor3: 2.6810\n",
      "sci_af_ca_20: 2.4056\n",
      "sci_af_ca_31: 2.3737\n",
      "sci_af_ca_Factor5: 2.2377\n",
      "sci_af_ca_10: 2.1746\n",
      "sci_af_ca_2: 2.0718\n",
      "sci_af_ca_22: 1.9805\n",
      "sci_af_ca_12: 1.8331\n",
      "sci_af_ca_37: 1.6958\n",
      "sci_af_ca_11: 1.6822\n",
      "sci_af_ca_15: 1.6756\n",
      "sci_af_ca_5: 1.5546\n",
      "sci_af_ca_34: 1.5393\n",
      "sci_af_ca_14: 1.5290\n",
      "sci_af_ca_8: 1.5252\n",
      "sci_af_ca_23: 1.5152\n",
      "sci_af_ca_Factor2: 1.3708\n",
      "sci_af_ca_21: 1.2890\n",
      "sci_af_ca_32: 1.1559\n",
      "sci_af_ca_33: 1.1356\n",
      "sci_af_ca_13: 1.1280\n",
      "sci_af_ca_29: 1.0914\n",
      "sci_af_ca_26: 0.9884\n",
      "sci_af_ca_36: 0.9294\n",
      "sci_af_ca_Factor4: 0.7024\n",
      "sci_af_ca_3: 0.5200\n",
      "sci_af_ca_40: 0.5035\n",
      "sci_af_ca_6: 0.4601\n",
      "sci_af_ca_19: 0.4590\n",
      "sci_af_ca_28: 0.3988\n",
      "is_sci_af_ca_missing: 0.0000\n",
      "sci_af_ca_4: 0.0000\n",
      "sci_af_ca_16: 0.0000\n"
     ]
    }
   ],
   "source": [
    "\n",
    "# Get feature importance scores\n",
    "feature_importance = model.get_feature_importance()\n",
    "feature_names = X_train.columns.tolist()\n",
    "# Print feature importance scores\n",
    "print('Feature importance scores:')\n",
    "for feature_name, score in sorted(zip(feature_names, feature_importance), reverse=1, key = lambda x: x[1]):\n",
    "    print(f'{feature_name}: {score:.4f}')"
   ]
  },
  {
   "cell_type": "markdown",
   "id": "993b27d8",
   "metadata": {},
   "source": [
    "cool, \n",
    "use the train-validation-test variables that you created in the last snippet, \n",
    "and train CatBoostClassifier, with early_stopping parameter based on the validation set.\n",
    "\n",
    "after that look at the performance scores on the training & validation sets.\n",
    "and the feature-importance scores\n",
    "\n",
    "Since it's a complicated task, we need to use the following metrics: accuracy, precision, recall, precision-recall-auc, roc_auc"
   ]
  },
  {
   "cell_type": "code",
   "execution_count": null,
   "id": "2979fe7f",
   "metadata": {},
   "outputs": [],
   "source": []
  }
 ],
 "metadata": {
  "kernelspec": {
   "display_name": "DeppClinic",
   "language": "python",
   "name": "deppclinic"
  },
  "language_info": {
   "codemirror_mode": {
    "name": "ipython",
    "version": 3
   },
   "file_extension": ".py",
   "mimetype": "text/x-python",
   "name": "python",
   "nbconvert_exporter": "python",
   "pygments_lexer": "ipython3",
   "version": "3.9.7"
  }
 },
 "nbformat": 4,
 "nbformat_minor": 5
}
