{
 "cells": [
  {
   "cell_type": "code",
   "execution_count": 1,
   "id": "556360a9",
   "metadata": {},
   "outputs": [],
   "source": [
    "import sys\n",
    "sys.path.append(r\"../../utils\")\n",
    "import numpy as np\n",
    "import pandas as pd\n",
    "from sklearn.model_selection import train_test_split\n",
    "\n",
    "from catboost import CatBoostClassifier, CatBoostRegressor\n",
    "from sklearn.metrics import accuracy_score, precision_score, recall_score, roc_auc_score, average_precision_score, precision_recall_curve, roc_curve, auc\n",
    "from sklearn.neural_network import MLPRegressor\n",
    "from questionnaires_aggregation import c_ssrs_aggregation, sci_af_ac_aggregation\n",
    "from utils import impute_from_column, simple_eda\n",
    "from questions_columns import sci_af_ca, suicidal_behavior\n",
    "from xgboost import XGBClassifier, XGBRegressor\n",
    "from sklearn.metrics import r2_score, max_error"
   ]
  },
  {
   "cell_type": "code",
   "execution_count": 113,
   "id": "9f291d5a",
   "metadata": {},
   "outputs": [],
   "source": [
    "# Splitting the data into train, validation, and test sets\n",
    "train_ratio = 0.5\n",
    "val_ratio = 0.3\n",
    "test_ratio = 0.2"
   ]
  },
  {
   "cell_type": "code",
   "execution_count": 114,
   "id": "dcf717d1",
   "metadata": {},
   "outputs": [],
   "source": [
    "df = pd.read_csv(r\"../create_dataset/data_for_prediction_research.csv\")\n",
    "#df = df[df.age_child_pre > 11]\n",
    "df_intake = df[df.measurement == 'time1']\n",
    "df_target = df[df.measurement == 'time2']"
   ]
  },
  {
   "cell_type": "code",
   "execution_count": 115,
   "id": "36c00b07",
   "metadata": {},
   "outputs": [
    {
     "name": "stdout",
     "output_type": "stream",
     "text": [
      "# data in the original df = 419\n",
      "\n",
      "# data in the df_target = 329\n",
      "# data in the df_intake = 408\n",
      "# data in the merged_times = 318\n",
      "\n",
      "# data in the df_target after removing missing data = 302\n",
      "# data in the df_intake after removing missing data = 237\n",
      "# data in the merged_times after removing missing data = 174\n",
      "\n"
     ]
    }
   ],
   "source": [
    "print(f\"# data in the original df = {df['id'].nunique()}\\n\")\n",
    "print(f\"# data in the df_target = {df_target['id'].nunique()}\")\n",
    "print(f\"# data in the df_intake = {df_intake['id'].nunique()}\")\n",
    "\n",
    "merged_times = pd.merge(df_intake, df_target, on='id', how='inner')\n",
    "print(f\"# data in the merged_times = {merged_times['id'].nunique()}\\n\")\n",
    "\n",
    "\n",
    "target_dropna = df_target.dropna(subset = suicidal_behavior, how='all')\n",
    "print(f\"# data in the df_target after removing missing data = {target_dropna['id'].nunique()}\")\n",
    "\n",
    "intake_dropna = df_intake.dropna(subset = sci_af_ca, thresh=20)\n",
    "print(f\"# data in the df_intake after removing missing data = {intake_dropna['id'].nunique()}\")\n",
    "\n",
    "merged_times_dropna = pd.merge(intake_dropna, target_dropna, on='id', how='inner')\n",
    "print(f\"# data in the merged_times after removing missing data = {merged_times_dropna['id'].nunique()}\\n\")"
   ]
  },
  {
   "cell_type": "code",
   "execution_count": null,
   "id": "3483a23e",
   "metadata": {},
   "outputs": [],
   "source": []
  },
  {
   "cell_type": "code",
   "execution_count": 116,
   "id": "ac08df06",
   "metadata": {},
   "outputs": [
    {
     "name": "stdout",
     "output_type": "stream",
     "text": [
      "data_for_prediction['id'].nunique() = 174\n"
     ]
    }
   ],
   "source": [
    "df_target = df_target.dropna(subset= suicidal_behavior, how='all')#df_target.dropna(subset=suicidal_behavior, how='all')\n",
    "df_target['label'] = (df_target[suicidal_behavior].sum(axis=1) > 0).astype(int)\n",
    "df_target = df_target[['label', 'id'] + suicidal_behavior]\n",
    "\n",
    "df_intake = df_intake.dropna(subset=sci_af_ca, thresh=20)\n",
    "df_intake, sci_af_ac_factors = sci_af_ac_aggregation(df_intake)\n",
    "df_intake = df_intake[sci_af_ca + sci_af_ac_factors + ['id']]\n",
    "\n",
    "data_for_prediction = pd.merge(df_intake, df_target, on='id', how='inner')\n",
    "print(f\"{data_for_prediction['id'].nunique() = }\")"
   ]
  },
  {
   "cell_type": "code",
   "execution_count": null,
   "id": "6f652cac",
   "metadata": {},
   "outputs": [],
   "source": []
  },
  {
   "cell_type": "code",
   "execution_count": 117,
   "id": "69a07c9e",
   "metadata": {},
   "outputs": [],
   "source": [
    "eda = False\n",
    "if eda:\n",
    "    simple_eda(data_for_prediction, columns = list(data_for_prediction.columns), title = 'suicidal behivior prediction based on sci_af_ac', display_additional_columns=False)"
   ]
  },
  {
   "cell_type": "code",
   "execution_count": null,
   "id": "2e9eb604",
   "metadata": {},
   "outputs": [],
   "source": []
  },
  {
   "cell_type": "code",
   "execution_count": 118,
   "id": "0be634d5",
   "metadata": {},
   "outputs": [
    {
     "name": "stdout",
     "output_type": "stream",
     "text": [
      "N features = (174, 45)\n",
      "label.count() = 174\n",
      "label.sum() = 34\n",
      "pos ratio  = 4.117647058823529 \n"
     ]
    }
   ],
   "source": [
    "features = data_for_prediction[sci_af_ca + sci_af_ac_factors]\n",
    "label = data_for_prediction['label']\n",
    "print(f\"N features = {features.shape}\\n{label.count() = }\\n{label.sum() = }\")\n",
    "print(f\"pos ratio  = {(label.count() - label.sum())/ label.sum() } \")"
   ]
  },
  {
   "cell_type": "code",
   "execution_count": null,
   "id": "342ac16a",
   "metadata": {},
   "outputs": [],
   "source": []
  },
  {
   "cell_type": "code",
   "execution_count": 119,
   "id": "980bebbc",
   "metadata": {},
   "outputs": [],
   "source": [
    "\n",
    "# Splitting the data into training and testing sets\n",
    "X_train, X_test, y_train, y_test = train_test_split(features, label, test_size=test_ratio, random_state=42, stratify=label)\n",
    "\n",
    "# Splitting the training set into training and validation sets\n",
    "X_train, X_val, y_train, y_val = train_test_split(X_train, y_train, test_size=val_ratio/(train_ratio+val_ratio), random_state=42, stratify=y_train)"
   ]
  },
  {
   "cell_type": "code",
   "execution_count": 120,
   "id": "2741dc3a",
   "metadata": {
    "scrolled": true
   },
   "outputs": [
    {
     "name": "stdout",
     "output_type": "stream",
     "text": [
      "0:\tlearn: 0.7242366\ttest: 0.7172557\tbest: 0.7172557 (0)\ttotal: 3.37ms\tremaining: 334ms\n",
      "1:\tlearn: 0.8147139\ttest: 0.5750000\tbest: 0.7172557 (0)\ttotal: 7.19ms\tremaining: 352ms\n",
      "2:\tlearn: 0.8023256\ttest: 0.4480520\tbest: 0.7172557 (0)\ttotal: 11.2ms\tremaining: 362ms\n",
      "3:\tlearn: 0.8469722\ttest: 0.4035088\tbest: 0.7172557 (0)\ttotal: 15.4ms\tremaining: 370ms\n",
      "4:\tlearn: 0.8469722\ttest: 0.5036496\tbest: 0.7172557 (0)\ttotal: 19.6ms\tremaining: 372ms\n",
      "5:\tlearn: 0.8240446\ttest: 0.5750000\tbest: 0.7172557 (0)\ttotal: 22ms\tremaining: 344ms\n",
      "Stopped by overfitting detector  (5 iterations wait)\n",
      "\n",
      "bestTest = 0.7172557201\n",
      "bestIteration = 0\n",
      "\n",
      "Shrink model to first 1 iterations.\n"
     ]
    }
   ],
   "source": [
    "eval_set  = [(X_val, y_val)]\n",
    "model = CatBoostClassifier(random_state=42, depth = 6, l2_leaf_reg = 10, auto_class_weights = 'Balanced',\n",
    "                           langevin = True, score_function = 'L2', model_size_reg = 1.0, boosting_type = 'Ordered',\n",
    "                           eval_metric='Precision', approx_on_full_history = True, eta=0.005,\n",
    "                          random_strength = 2, n_estimators=100)\n",
    "\n",
    "# Fit the model on the training set\n",
    "model.fit(X_train, y_train, eval_set=eval_set, early_stopping_rounds=5)\n",
    "\n",
    "\n",
    "# Make predictions on the training and validation sets\n",
    "y_train_pred = model.predict(X_train)\n",
    "y_train_prob = model.predict_proba(X_train)[:, 1]\n",
    "\n",
    "y_val_pred = model.predict(X_val)\n",
    "y_val_prob = model.predict_proba(X_val)[:, 1]\n"
   ]
  },
  {
   "cell_type": "code",
   "execution_count": 121,
   "id": "070a30c6",
   "metadata": {},
   "outputs": [],
   "source": [
    "# Function to calculate and print various performance metrics\n",
    "\n",
    "def print_performance_metrics(y_true, y_pred, y_prob):\n",
    "    accuracy = accuracy_score(y_true, y_pred)\n",
    "    precision = precision_score(y_true, y_pred)\n",
    "    recall = recall_score(y_true, y_pred)\n",
    "    roc_auc = roc_auc_score(y_true, y_prob)\n",
    "    average_precision = average_precision_score(y_true, y_prob)\n",
    "    \n",
    "    print(f'Accuracy: {accuracy:.4f}')\n",
    "    print(f'Precision: {precision:.4f}')\n",
    "    print(f'Recall: {recall:.4f}')\n",
    "    print(f'ROC AUC: {roc_auc:.4f}')\n",
    "    print(f'PR AUC: {average_precision:.4f}')\n"
   ]
  },
  {
   "cell_type": "code",
   "execution_count": 122,
   "id": "9d9d0302",
   "metadata": {},
   "outputs": [
    {
     "name": "stdout",
     "output_type": "stream",
     "text": [
      "Training set performance:\n",
      "Accuracy: 0.7326\n",
      "Precision: 0.3929\n",
      "Recall: 0.6471\n",
      "ROC AUC: 0.7123\n",
      "PR AUC: 0.3324\n"
     ]
    }
   ],
   "source": [
    "# Print the performance metrics for the training set\n",
    "print('Training set performance:')\n",
    "print_performance_metrics(y_train, y_train_pred, y_train_prob)\n",
    "\n"
   ]
  },
  {
   "cell_type": "code",
   "execution_count": 123,
   "id": "a7899d65",
   "metadata": {},
   "outputs": [
    {
     "name": "stdout",
     "output_type": "stream",
     "text": [
      "Validation set performance:\n",
      "Accuracy: 0.7547\n",
      "Precision: 0.3846\n",
      "Recall: 0.5000\n",
      "ROC AUC: 0.7395\n",
      "PR AUC: 0.3312\n"
     ]
    }
   ],
   "source": [
    "# Print the performance metrics for the validation set\n",
    "print('Validation set performance:')\n",
    "print_performance_metrics(y_val, y_val_pred, y_val_prob)\n"
   ]
  },
  {
   "cell_type": "code",
   "execution_count": null,
   "id": "592fa5a9",
   "metadata": {},
   "outputs": [],
   "source": []
  },
  {
   "cell_type": "code",
   "execution_count": 20,
   "id": "accaa6c9",
   "metadata": {},
   "outputs": [
    {
     "name": "stdout",
     "output_type": "stream",
     "text": [
      "Feature importance scores:\n",
      "sci_af_ca_1: 11.3371\n",
      "sci_af_ca_3: 8.5838\n",
      "sci_af_ca_Factor5: 6.3685\n",
      "sci_af_ca_16: 5.9821\n",
      "sci_af_ca_6: 4.5367\n",
      "sci_af_ca_9: 4.3141\n",
      "sci_af_ca_36: 4.2144\n",
      "sci_af_ca_38: 3.9709\n",
      "sci_af_ca_33: 3.7489\n",
      "sci_af_ca_19: 3.7038\n",
      "sci_af_ca_30: 3.5628\n",
      "sci_af_ca_2: 3.1152\n",
      "sci_af_ca_15: 2.7919\n",
      "sci_af_ca_25: 2.5365\n",
      "sci_af_ca_17: 2.2384\n",
      "sci_af_ca_34: 2.2146\n",
      "sci_af_ca_24: 2.2025\n",
      "sci_af_ca_18: 1.9357\n",
      "sci_af_ca_37: 1.8807\n",
      "sci_af_ca_35: 1.6737\n",
      "sci_af_ca_28: 1.5743\n",
      "sci_af_ca_31: 1.5722\n",
      "sci_af_ca_40: 1.5220\n",
      "sci_af_ca_Factor2: 1.4561\n",
      "sci_af_ca_5: 1.3726\n",
      "sci_af_ca_12: 1.2302\n",
      "sci_af_ca_32: 1.1144\n",
      "sci_af_ca_4: 1.0886\n",
      "sci_af_ca_14: 1.0703\n",
      "sci_af_ca_11: 1.0427\n",
      "sci_af_ca_13: 0.8586\n",
      "sci_af_ca_7: 0.6547\n",
      "sci_af_ca_Factor1: 0.6475\n",
      "sci_af_ca_26: 0.5803\n",
      "sci_af_ca_39: 0.5531\n",
      "sci_af_ca_29: 0.5473\n",
      "sci_af_ca_10: 0.5205\n",
      "sci_af_ca_27: 0.4811\n",
      "sci_af_ca_20: 0.4168\n",
      "sci_af_ca_Factor3: 0.3821\n",
      "sci_af_ca_21: 0.2338\n",
      "sci_af_ca_23: 0.1439\n",
      "sci_af_ca_Factor4: 0.0247\n",
      "sci_af_ca_8: 0.0000\n",
      "sci_af_ca_22: 0.0000\n"
     ]
    }
   ],
   "source": [
    "\n",
    "# Get feature importance scores\n",
    "feature_importance = model.get_feature_importance()\n",
    "feature_names = X_train.columns.tolist()\n",
    "# Print feature importance scores\n",
    "print('Feature importance scores:')\n",
    "for feature_name, score in sorted(zip(feature_names, feature_importance), reverse=1, key = lambda x: x[1]):\n",
    "    print(f'{feature_name}: {score:.4f}')"
   ]
  },
  {
   "cell_type": "markdown",
   "id": "993b27d8",
   "metadata": {},
   "source": [
    "cool, \n",
    "use the train-validation-test variables that you created in the last snippet, \n",
    "and train CatBoostClassifier, with early_stopping parameter based on the validation set.\n",
    "\n",
    "after that look at the performance scores on the training & validation sets.\n",
    "and the feature-importance scores\n",
    "\n",
    "Since it's a complicated task, we need to use the following metrics: accuracy, precision, recall, precision-recall-auc, roc_auc"
   ]
  },
  {
   "cell_type": "markdown",
   "id": "8c457044",
   "metadata": {},
   "source": [
    "#### Create a CatBoostClassifier object with early stopping based on the validation set\n",
    "eval_set  = [(X_val, y_val)]\n",
    "#model = CatBoostClassifier(random_state=42, depth = 5, l2_leaf_reg = 7, loss_function='CrossEntropy', eval_metric='AUC')\n",
    "model = CatBoostClassifier(random_state=42, depth = 2, l2_leaf_reg = 10, class_weights = [1, 8], eval_metric='Precision')\n",
    "\n",
    "##### Fit the model on the training set\n",
    "model.fit(X_train, y_train, eval_set=eval_set, early_stopping_rounds = 5)#, eval_set=(X_val, y_val))\n",
    "\n",
    "\n",
    "#### Make predictions on the training and validation sets\n",
    "y_train_pred = model.predict(X_train)\n",
    "y_train_prob = model.predict_proba(X_train)[:, 1]\n",
    "\n",
    "y_val_pred = model.predict(X_val)\n",
    "y_val_prob = model.predict_proba(X_val)[:, 1]\n"
   ]
  },
  {
   "cell_type": "markdown",
   "id": "969d70a9",
   "metadata": {},
   "source": [
    "eval_set  = [(X_val, y_val)]\n",
    "model = CatBoostClassifier(random_state=4212, depth = 6, l2_leaf_reg = 10, auto_class_weights = 'Balanced',\n",
    "                           langevin = True, score_function = 'L2', model_size_reg = 1.0, boosting_type = 'Ordered',\n",
    "                           eval_metric='CrossEntropy', od_pval = 10**-2, od_wait=5, approx_on_full_history = True,\n",
    "                          random_strength = 2, leaf_estimation_iterations=2)\n",
    "\n",
    "# Fit the model on the training set\n",
    "model.fit(X_train, y_train, eval_set=eval_set)#, eval_set=(X_val, y_val))\n",
    "\n",
    "\n",
    "# Make predictions on the training and validation sets\n",
    "y_train_pred = model.predict(X_train)\n",
    "y_train_prob = model.predict_proba(X_train)[:, 1]\n",
    "\n",
    "y_val_pred = model.predict(X_val)\n",
    "y_val_prob = model.predict_proba(X_val)[:, 1]\n"
   ]
  },
  {
   "cell_type": "code",
   "execution_count": null,
   "id": "60331ea1",
   "metadata": {},
   "outputs": [],
   "source": []
  }
 ],
 "metadata": {
  "kernelspec": {
   "display_name": "DeppClinic",
   "language": "python",
   "name": "deppclinic"
  },
  "language_info": {
   "codemirror_mode": {
    "name": "ipython",
    "version": 3
   },
   "file_extension": ".py",
   "mimetype": "text/x-python",
   "name": "python",
   "nbconvert_exporter": "python",
   "pygments_lexer": "ipython3",
   "version": "3.9.7"
  }
 },
 "nbformat": 4,
 "nbformat_minor": 5
}
