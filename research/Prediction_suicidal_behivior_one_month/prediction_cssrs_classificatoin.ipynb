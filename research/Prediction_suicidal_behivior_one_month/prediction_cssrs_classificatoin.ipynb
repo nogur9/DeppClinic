{
 "cells": [
  {
   "cell_type": "code",
   "execution_count": 1,
   "id": "556360a9",
   "metadata": {},
   "outputs": [],
   "source": [
    "import sys\n",
    "sys.path.append(r\"../../utils\")\n",
    "import numpy as np\n",
    "import pandas as pd\n",
    "from sklearn.model_selection import train_test_split\n",
    "import missingno as msno\n",
    "from catboost import CatBoostClassifier, CatBoostRegressor\n",
    "from sklearn.metrics import accuracy_score, precision_score, recall_score, roc_auc_score, average_precision_score, precision_recall_curve, roc_curve, auc\n",
    "from sklearn.neural_network import MLPRegressor\n",
    "from questionnaires_aggregation import c_ssrs_aggregation, sci_af_ac_aggregation\n",
    "from utils import impute_from_column, simple_eda\n",
    "from questions_columns import sci_af_ca, suicidal_behavior\n",
    "from xgboost import XGBClassifier, XGBRegressor\n",
    "from sklearn.metrics import r2_score, max_error"
   ]
  },
  {
   "cell_type": "code",
   "execution_count": 2,
   "id": "9f291d5a",
   "metadata": {},
   "outputs": [],
   "source": [
    "# Splitting the data into train, validation, and test sets\n",
    "train_ratio = 0.5\n",
    "val_ratio = 0.3\n",
    "test_ratio = 0.2\n",
    "missing_sci_af_ca = [f'sci_af_ca_{i}' for i in range(26,41)]\n"
   ]
  },
  {
   "cell_type": "code",
   "execution_count": 3,
   "id": "dcf717d1",
   "metadata": {},
   "outputs": [],
   "source": [
    "df = pd.read_csv(r\"../create_dataset/data_for_prediction_research.csv\")\n",
    "#df = df[df.age_child_pre > 11]\n",
    "df_intake = df[df.measurement == 'time1']\n",
    "df_target = df[df.measurement == 'time2']"
   ]
  },
  {
   "cell_type": "code",
   "execution_count": 4,
   "id": "a7d77850",
   "metadata": {},
   "outputs": [
    {
     "name": "stdout",
     "output_type": "stream",
     "text": [
      "# data in the original df = 419\n",
      "\n",
      "# data in the df_target = 329\n",
      "# data in the df_intake = 408\n",
      "# data in the merged_times = 318\n",
      "\n",
      "# data in the df_target after removing missing data = 302\n",
      "# data in the df_intake after removing missing data = 237\n",
      "# data in the merged_times after removing missing data = 174\n",
      "\n"
     ]
    }
   ],
   "source": [
    "print(f\"# data in the original df = {df['id'].nunique()}\\n\")\n",
    "print(f\"# data in the df_target = {df_target['id'].nunique()}\")\n",
    "print(f\"# data in the df_intake = {df_intake['id'].nunique()}\")\n",
    "\n",
    "merged_times = pd.merge(df_intake, df_target, on='id', how='inner')\n",
    "print(f\"# data in the merged_times = {merged_times['id'].nunique()}\\n\")\n",
    "\n",
    "\n",
    "target_dropna = df_target.dropna(subset = suicidal_behavior, how='all')\n",
    "print(f\"# data in the df_target after removing missing data = {target_dropna['id'].nunique()}\")\n",
    "\n",
    "intake_dropna = df_intake.dropna(subset = sci_af_ca, thresh=20)\n",
    "print(f\"# data in the df_intake after removing missing data = {intake_dropna['id'].nunique()}\")\n",
    "\n",
    "merged_times_dropna = pd.merge(intake_dropna, target_dropna, on='id', how='inner')\n",
    "print(f\"# data in the merged_times after removing missing data = {merged_times_dropna['id'].nunique()}\\n\")"
   ]
  },
  {
   "cell_type": "code",
   "execution_count": null,
   "id": "257b25cf",
   "metadata": {},
   "outputs": [],
   "source": []
  },
  {
   "cell_type": "code",
   "execution_count": 5,
   "id": "ac08df06",
   "metadata": {},
   "outputs": [
    {
     "name": "stdout",
     "output_type": "stream",
     "text": [
      "data_for_prediction['id'].nunique() = 174\n"
     ]
    }
   ],
   "source": [
    "df_target = df_target.dropna(subset= suicidal_behavior, how='all')#df_target.dropna(subset=suicidal_behavior, how='all')\n",
    "df_target['label'] = (df_target[suicidal_behavior].sum(axis=1) > 0).astype(int)\n",
    "df_target = df_target[['label', 'id'] + suicidal_behavior]\n",
    "\n",
    "df_intake = df_intake.dropna(subset=sci_af_ca, thresh=20)\n",
    "df_intake, sci_af_ac_factors = sci_af_ac_aggregation(df_intake)\n",
    "df_intake['missing_sci_af_ca'] = df_intake[missing_sci_af_ca].isna().all(axis=1)\n",
    "df_intake = df_intake[sci_af_ca + sci_af_ac_factors + ['missing_sci_af_ca', 'id']]\n",
    "\n",
    "\n",
    "data_for_prediction = pd.merge(df_intake, df_target, on='id', how='inner')\n",
    "print(f\"{data_for_prediction['id'].nunique() = }\")"
   ]
  },
  {
   "cell_type": "code",
   "execution_count": null,
   "id": "fd680942",
   "metadata": {},
   "outputs": [],
   "source": []
  },
  {
   "cell_type": "code",
   "execution_count": 6,
   "id": "69a07c9e",
   "metadata": {},
   "outputs": [
    {
     "data": {
      "application/vnd.jupyter.widget-view+json": {
       "model_id": "f9c36b3778fc49398ab37dbc08abf6f4",
       "version_major": 2,
       "version_minor": 0
      },
      "text/plain": [
       "Summarize dataset:   0%|          | 0/5 [00:00<?, ?it/s]"
      ]
     },
     "metadata": {},
     "output_type": "display_data"
    },
    {
     "data": {
      "application/vnd.jupyter.widget-view+json": {
       "model_id": "11ff0c599eec41d5a3eb360f0c44b589",
       "version_major": 2,
       "version_minor": 0
      },
      "text/plain": [
       "Generate report structure:   0%|          | 0/1 [00:00<?, ?it/s]"
      ]
     },
     "metadata": {},
     "output_type": "display_data"
    },
    {
     "data": {
      "application/vnd.jupyter.widget-view+json": {
       "model_id": "009b8b19105f417bb91f47a872d94d38",
       "version_major": 2,
       "version_minor": 0
      },
      "text/plain": [
       "Render HTML:   0%|          | 0/1 [00:00<?, ?it/s]"
      ]
     },
     "metadata": {},
     "output_type": "display_data"
    },
    {
     "data": {
      "application/vnd.jupyter.widget-view+json": {
       "model_id": "53b002be0bfc403eaeca7ebb91564725",
       "version_major": 2,
       "version_minor": 0
      },
      "text/plain": [
       "Export report to file:   0%|          | 0/1 [00:00<?, ?it/s]"
      ]
     },
     "metadata": {},
     "output_type": "display_data"
    }
   ],
   "source": [
    "eda = True\n",
    "if eda:\n",
    "    simple_eda(data_for_prediction, columns = list(data_for_prediction.columns), title = 'suicidal behivior prediction based on sci_af_ac', display_additional_columns=False)"
   ]
  },
  {
   "cell_type": "code",
   "execution_count": null,
   "id": "be6e0772",
   "metadata": {},
   "outputs": [],
   "source": []
  },
  {
   "cell_type": "code",
   "execution_count": 7,
   "id": "0be634d5",
   "metadata": {},
   "outputs": [
    {
     "name": "stdout",
     "output_type": "stream",
     "text": [
      "N features = (174, 46)\n",
      "label.count() = 174\n",
      "label.sum() = 34\n",
      "pos ratio  = 4.117647058823529 \n"
     ]
    }
   ],
   "source": [
    "features = data_for_prediction[sci_af_ca + sci_af_ac_factors + ['missing_sci_af_ca']]\n",
    "label = data_for_prediction['label']\n",
    "print(f\"N features = {features.shape}\\n{label.count() = }\\n{label.sum() = }\")\n",
    "print(f\"pos ratio  = {(label.count() - label.sum())/ label.sum() } \")"
   ]
  },
  {
   "cell_type": "code",
   "execution_count": 31,
   "id": "dde15afa",
   "metadata": {},
   "outputs": [
    {
     "data": {
      "text/plain": [
       "<AxesSubplot:>"
      ]
     },
     "execution_count": 31,
     "metadata": {},
     "output_type": "execute_result"
    },
    {
     "data": {
      "image/png": "[encoded data removed]",
      "text/plain": [
       "<Figure size 1800x720 with 2 Axes>"
      ]
     },
     "metadata": {
      "needs_background": "light"
     },
     "output_type": "display_data"
    }
   ],
   "source": [
    "msno.matrix(data_for_prediction[sci_af_ca])"
   ]
  },
  {
   "cell_type": "code",
   "execution_count": 9,
   "id": "980bebbc",
   "metadata": {},
   "outputs": [],
   "source": [
    "\n",
    "# Splitting the data into training and testing sets\n",
    "X_train, X_test, y_train, y_test = train_test_split(features, label, test_size=test_ratio, random_state=42, stratify=label)\n",
    "\n",
    "# Splitting the training set into training and validation sets\n",
    "X_train, X_val, y_train, y_val = train_test_split(X_train, y_train, test_size=val_ratio/(train_ratio+val_ratio), random_state=42, stratify=y_train)"
   ]
  },
  {
   "cell_type": "code",
   "execution_count": 10,
   "id": "521fad1b",
   "metadata": {},
   "outputs": [
    {
     "data": {
      "text/plain": [
       "\"model = CatBoostClassifier(random_state=42, depth = 6, l2_leaf_reg = 10, auto_class_weights = 'Balanced',\\n                           langevin = True, score_function = 'L2', model_size_reg = 1.0, boosting_type = 'Ordered',\\n                           eval_metric='Precision', approx_on_full_history = True, eta=0.005,\\n                          random_strength = 2, n_estimators=100)\""
      ]
     },
     "execution_count": 10,
     "metadata": {},
     "output_type": "execute_result"
    }
   ],
   "source": [
    "\"\"\"model = CatBoostClassifier(random_state=42, depth = 6, l2_leaf_reg = 10, auto_class_weights = 'Balanced',\n",
    "                           langevin = True, score_function = 'L2', model_size_reg = 1.0, boosting_type = 'Ordered',\n",
    "                           eval_metric='Precision', approx_on_full_history = True, eta=0.005,\n",
    "                          random_strength = 2, n_estimators=100)\"\"\"\n"
   ]
  },
  {
   "cell_type": "code",
   "execution_count": 26,
   "id": "2741dc3a",
   "metadata": {
    "scrolled": true
   },
   "outputs": [
    {
     "name": "stdout",
     "output_type": "stream",
     "text": [
      "[0]\tvalidation_0-aucpr:0.36404\n",
      "[1]\tvalidation_0-aucpr:0.37810\n",
      "[2]\tvalidation_0-aucpr:0.42590\n",
      "[3]\tvalidation_0-aucpr:0.33412\n",
      "[4]\tvalidation_0-aucpr:0.36875\n"
     ]
    },
    {
     "name": "stderr",
     "output_type": "stream",
     "text": [
      "C:\\Users\\nogur\\anaconda3\\envs\\DeppClinic\\lib\\site-packages\\xgboost\\sklearn.py:1224: UserWarning: The use of label encoder in XGBClassifier is deprecated and will be removed in a future release. To remove this warning, do the following: 1) Pass option use_label_encoder=False when constructing XGBClassifier object; and 2) Encode your labels (y) as integers starting with 0, i.e. 0, 1, 2, ..., [num_class - 1].\n",
      "  warnings.warn(label_encoder_deprecation_msg, UserWarning)\n"
     ]
    }
   ],
   "source": [
    "eval_set  = [(X_val, y_val)]\n",
    "# model = CatBoostClassifier(random_state=42, l2_leaf_reg = 9, auto_class_weights = 'Balanced',\n",
    "#                            model_size_reg = 1.0, eval_metric='Precision', random_strength = 3)\n",
    "\n",
    "# # Fit the model on the training set\n",
    "# model.fit(X_train, y_train, eval_set=eval_set, early_stopping_rounds=2)\n",
    "model = XGBClassifier(random_state=42, reg_lambda=9, scale_pos_weight=4,\n",
    "                      max_delta_step=1.0, eval_metric='aucpr')\n",
    "model.fit(X_train, y_train, eval_set=eval_set, early_stopping_rounds=2)\n",
    "\n",
    "# Make predictions on the training and validation sets\n",
    "y_train_pred = model.predict(X_train)\n",
    "y_train_prob = model.predict_proba(X_train)[:, 1]\n",
    "\n",
    "y_val_pred = model.predict(X_val)\n",
    "y_val_prob = model.predict_proba(X_val)[:, 1]\n"
   ]
  },
  {
   "cell_type": "code",
   "execution_count": 27,
   "id": "070a30c6",
   "metadata": {},
   "outputs": [],
   "source": [
    "# Function to calculate and print various performance metrics\n",
    "\n",
    "def print_performance_metrics(y_true, y_pred, y_prob):\n",
    "    accuracy = accuracy_score(y_true, y_pred)\n",
    "    precision = precision_score(y_true, y_pred)\n",
    "    recall = recall_score(y_true, y_pred)\n",
    "    roc_auc = roc_auc_score(y_true, y_prob)\n",
    "    average_precision = average_precision_score(y_true, y_prob)\n",
    "    \n",
    "    print(f'Accuracy: {accuracy:.4f}')\n",
    "    print(f'Precision: {precision:.4f}')\n",
    "    print(f'Recall: {recall:.4f}')\n",
    "    print(f'ROC AUC: {roc_auc:.4f}')\n",
    "    print(f'PR AUC: {average_precision:.4f}')\n"
   ]
  },
  {
   "cell_type": "code",
   "execution_count": 28,
   "id": "9d9d0302",
   "metadata": {},
   "outputs": [
    {
     "name": "stdout",
     "output_type": "stream",
     "text": [
      "Training set performance:\n",
      "Accuracy: 0.9186\n",
      "Precision: 0.7273\n",
      "Recall: 0.9412\n",
      "ROC AUC: 0.9706\n",
      "PR AUC: 0.9324\n"
     ]
    }
   ],
   "source": [
    "# Print the performance metrics for the training set\n",
    "print('Training set performance:')\n",
    "print_performance_metrics(y_train, y_train_pred, y_train_prob)\n",
    "\n"
   ]
  },
  {
   "cell_type": "code",
   "execution_count": 29,
   "id": "a7899d65",
   "metadata": {},
   "outputs": [
    {
     "name": "stdout",
     "output_type": "stream",
     "text": [
      "Validation set performance:\n",
      "Accuracy: 0.7170\n",
      "Precision: 0.3529\n",
      "Recall: 0.6000\n",
      "ROC AUC: 0.6965\n",
      "PR AUC: 0.4343\n"
     ]
    }
   ],
   "source": [
    "# Print the performance metrics for the validation set\n",
    "print('Validation set performance:')\n",
    "print_performance_metrics(y_val, y_val_pred, y_val_prob)\n"
   ]
  },
  {
   "cell_type": "code",
   "execution_count": null,
   "id": "592fa5a9",
   "metadata": {},
   "outputs": [],
   "source": []
  },
  {
   "cell_type": "code",
   "execution_count": 30,
   "id": "accaa6c9",
   "metadata": {},
   "outputs": [
    {
     "ename": "AttributeError",
     "evalue": "'XGBClassifier' object has no attribute 'get_feature_importance'",
     "output_type": "error",
     "traceback": [
      "\u001b[1;31m---------------------------------------------------------------------------\u001b[0m",
      "\u001b[1;31mAttributeError\u001b[0m                            Traceback (most recent call last)",
      "\u001b[1;32m~\\AppData\\Local\\Temp\\ipykernel_30928\\3962974417.py\u001b[0m in \u001b[0;36m<module>\u001b[1;34m\u001b[0m\n\u001b[0;32m      1\u001b[0m \u001b[1;31m# Get feature importance scores\u001b[0m\u001b[1;33m\u001b[0m\u001b[1;33m\u001b[0m\u001b[0m\n\u001b[1;32m----> 2\u001b[1;33m \u001b[0mfeature_importance\u001b[0m \u001b[1;33m=\u001b[0m \u001b[0mmodel\u001b[0m\u001b[1;33m.\u001b[0m\u001b[0mget_feature_importance\u001b[0m\u001b[1;33m(\u001b[0m\u001b[1;33m)\u001b[0m\u001b[1;33m\u001b[0m\u001b[1;33m\u001b[0m\u001b[0m\n\u001b[0m\u001b[0;32m      3\u001b[0m \u001b[0mfeature_names\u001b[0m \u001b[1;33m=\u001b[0m \u001b[0mX_train\u001b[0m\u001b[1;33m.\u001b[0m\u001b[0mcolumns\u001b[0m\u001b[1;33m.\u001b[0m\u001b[0mtolist\u001b[0m\u001b[1;33m(\u001b[0m\u001b[1;33m)\u001b[0m\u001b[1;33m\u001b[0m\u001b[1;33m\u001b[0m\u001b[0m\n\u001b[0;32m      4\u001b[0m \u001b[1;31m# Print feature importance scores\u001b[0m\u001b[1;33m\u001b[0m\u001b[1;33m\u001b[0m\u001b[0m\n\u001b[0;32m      5\u001b[0m \u001b[0mprint\u001b[0m\u001b[1;33m(\u001b[0m\u001b[1;34m'Feature importance scores:'\u001b[0m\u001b[1;33m)\u001b[0m\u001b[1;33m\u001b[0m\u001b[1;33m\u001b[0m\u001b[0m\n",
      "\u001b[1;31mAttributeError\u001b[0m: 'XGBClassifier' object has no attribute 'get_feature_importance'"
     ]
    }
   ],
   "source": [
    "\n",
    "# Get feature importance scores\n",
    "feature_importance = model.get_feature_importance()\n",
    "feature_names = X_train.columns.tolist()\n",
    "# Print feature importance scores\n",
    "print('Feature importance scores:')\n",
    "for feature_name, score in sorted(zip(feature_names, feature_importance), reverse=1, key = lambda x: x[1]):\n",
    "    print(f'{feature_name}: {score:.4f}')"
   ]
  },
  {
   "cell_type": "markdown",
   "id": "993b27d8",
   "metadata": {},
   "source": [
    "cool, \n",
    "use the train-validation-test variables that you created in the last snippet, \n",
    "and train CatBoostClassifier, with early_stopping parameter based on the validation set.\n",
    "\n",
    "after that look at the performance scores on the training & validation sets.\n",
    "and the feature-importance scores\n",
    "\n",
    "Since it's a complicated task, we need to use the following metrics: accuracy, precision, recall, precision-recall-auc, roc_auc"
   ]
  },
  {
   "cell_type": "markdown",
   "id": "2a3235cf",
   "metadata": {},
   "source": [
    "#### Create a CatBoostClassifier object with early stopping based on the validation set\n",
    "eval_set  = [(X_val, y_val)]\n",
    "#model = CatBoostClassifier(random_state=42, depth = 5, l2_leaf_reg = 7, loss_function='CrossEntropy', eval_metric='AUC')\n",
    "model = CatBoostClassifier(random_state=42, depth = 2, l2_leaf_reg = 10, class_weights = [1, 8], eval_metric='Precision')\n",
    "\n",
    "##### Fit the model on the training set\n",
    "model.fit(X_train, y_train, eval_set=eval_set, early_stopping_rounds = 5)#, eval_set=(X_val, y_val))\n",
    "\n",
    "\n",
    "#### Make predictions on the training and validation sets\n",
    "y_train_pred = model.predict(X_train)\n",
    "y_train_prob = model.predict_proba(X_train)[:, 1]\n",
    "\n",
    "y_val_pred = model.predict(X_val)\n",
    "y_val_prob = model.predict_proba(X_val)[:, 1]\n"
   ]
  },
  {
   "cell_type": "markdown",
   "id": "343d116c",
   "metadata": {},
   "source": [
    "eval_set  = [(X_val, y_val)]\n",
    "model = CatBoostClassifier(random_state=4212, depth = 6, l2_leaf_reg = 10, auto_class_weights = 'Balanced',\n",
    "                           langevin = True, score_function = 'L2', model_size_reg = 1.0, boosting_type = 'Ordered',\n",
    "                           eval_metric='CrossEntropy', od_pval = 10**-2, od_wait=5, approx_on_full_history = True,\n",
    "                          random_strength = 2, leaf_estimation_iterations=2)\n",
    "\n",
    "# Fit the model on the training set\n",
    "model.fit(X_train, y_train, eval_set=eval_set)#, eval_set=(X_val, y_val))\n",
    "\n",
    "\n",
    "# Make predictions on the training and validation sets\n",
    "y_train_pred = model.predict(X_train)\n",
    "y_train_prob = model.predict_proba(X_train)[:, 1]\n",
    "\n",
    "y_val_pred = model.predict(X_val)\n",
    "y_val_prob = model.predict_proba(X_val)[:, 1]\n"
   ]
  },
  {
   "cell_type": "code",
   "execution_count": null,
   "id": "c52043d9",
   "metadata": {},
   "outputs": [],
   "source": []
  }
 ],
 "metadata": {
  "kernelspec": {
   "display_name": "DeppClinic",
   "language": "python",
   "name": "deppclinic"
  },
  "language_info": {
   "codemirror_mode": {
    "name": "ipython",
    "version": 3
   },
   "file_extension": ".py",
   "mimetype": "text/x-python",
   "name": "python",
   "nbconvert_exporter": "python",
   "pygments_lexer": "ipython3",
   "version": "3.9.7"
  }
 },
 "nbformat": 4,
 "nbformat_minor": 5
}
