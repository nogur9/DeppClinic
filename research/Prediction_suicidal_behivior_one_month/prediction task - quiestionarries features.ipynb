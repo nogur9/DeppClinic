{
 "cells": [
  {
   "cell_type": "markdown",
   "id": "d3ab1907",
   "metadata": {},
   "source": [
    "https://www.ahajournals.org/doi/10.1161/CIRCOUTCOMES.120.006556\n",
    "\n",
    "https://www.frontiersin.org/articles/10.3389/fpsyg.2019.02970/full\n",
    "\n",
    "https://compass.onlinelibrary.wiley.com/doi/full/10.1111/spc3.12579\n",
    "\n",
    "file:///C:/Users/nogur/Downloads/pone_0224365_pdf.pdf\n",
    "\n",
    "https://arxiv.org/pdf/2209.04830.pdf"
   ]
  },
  {
   "cell_type": "code",
   "execution_count": 14,
   "id": "556360a9",
   "metadata": {},
   "outputs": [],
   "source": [
    "import sys\n",
    "sys.path.append(r\"../../\")\n",
    "\n",
    "import pandas as pd\n",
    "from sklearn.model_selection import train_test_split\n",
    "\n",
    "from catboost import CatBoostClassifier, CatBoostRegressor\n",
    "from sklearn.metrics import accuracy_score, precision_score, recall_score, roc_auc_score, precision_recall_curve, roc_curve, auc, average_precision_score\n",
    "\n",
    "from utils.questionnaires_scores.scores_computations import calculate_c_ssrs_scores\n",
    "from utils.utils import impute_from_column, simple_eda\n",
    "from utils.consts.questions_columns import c_ssrs, sci_af_ca, maris_sci_sf, sci_mother, scs_clin, SAS, c_ssrs_intake\n",
    "from xgboost import XGBClassifier, XGBRegressor\n",
    "\n",
    "\n",
    "from sklearn.decomposition import PCA, KernelPCA, NMF\n",
    "from sklearn.manifold import TSNE\n",
    "import matplotlib.pyplot as plt\n",
    "from umap import UMAP\n",
    "import seaborn as sns\n",
    "import dtale\n"
   ]
  },
  {
   "cell_type": "code",
   "execution_count": 24,
   "id": "9f291d5a",
   "metadata": {},
   "outputs": [],
   "source": [
    "# Splitting the data into train, validation, and test sets\n",
    "train_ratio = 0.6\n",
    "val_ratio = 0.1\n",
    "test_ratio = 0.2\n",
    "c_ssrs = c_ssrs[:-3]\n",
    "target_col = 'suicidal_ideation_time2'\n",
    "\n",
    "sci_cols = ['sci_af_ca_is_new_questions_missing', 'sci_af_ca_Factor1', 'sci_af_ca_Factor2',\n",
    "             'sci_af_ca_Factor3', 'sci_af_ca_Factor4', \n",
    "             'sci_af_ca_Factor5'] + sci_af_ca +['gender', 'age_child_pre'] + sci_mother +scs_clin + SAS +c_ssrs_intake"
   ]
  },
  {
   "cell_type": "code",
   "execution_count": 25,
   "id": "07864e60",
   "metadata": {},
   "outputs": [
    {
     "name": "stdout",
     "output_type": "stream",
     "text": [
      "Current directory: C:\\Users\\nogur\\Documents\\DeppClinic\\research\\Prediction_suicidal_behivior_one_month\n"
     ]
    }
   ],
   "source": [
    "import os\n",
    "\n",
    "current_directory = os.getcwd()\n",
    "print(\"Current directory:\", current_directory)"
   ]
  },
  {
   "cell_type": "code",
   "execution_count": 26,
   "id": "dcf717d1",
   "metadata": {},
   "outputs": [],
   "source": [
    "df = pd.read_csv(r\"../../DeppClinic_prediction_task.csv\")\n",
    "df_intake = df[df.measurement == 'time1']\n",
    "df_target = df[df.measurement == 'time2']"
   ]
  },
  {
   "cell_type": "code",
   "execution_count": 27,
   "id": "ac08df06",
   "metadata": {},
   "outputs": [],
   "source": [
    "df_target = df_target[[target_col, 'id']]\n",
    "df_intake = df_intake.dropna(subset=sci_af_ca, thresh=20)\n",
    "df_intake = df_intake[sci_cols + ['id']]\n",
    "data_for_prediction = pd.merge(df_intake, df_target, on='id', how='inner')\n"
   ]
  },
  {
   "cell_type": "code",
   "execution_count": 28,
   "id": "caa9ddab",
   "metadata": {},
   "outputs": [],
   "source": [
    "label = data_for_prediction[target_col]\n",
    "features = data_for_prediction[sci_cols]"
   ]
  },
  {
   "cell_type": "code",
   "execution_count": 29,
   "id": "69a07c9e",
   "metadata": {},
   "outputs": [],
   "source": [
    "\n",
    "# Splitting the data into training and testing sets\n",
    "X_train, X_test, y_train, y_test = train_test_split(features, label, test_size=test_ratio, random_state=24, stratify=label)\n",
    "\n",
    "# Splitting the training set into training and validation sets\n",
    "X_train, X_val, y_train, y_val = train_test_split(X_train, y_train, test_size=val_ratio/(train_ratio+val_ratio), random_state=24, stratify=y_train)"
   ]
  },
  {
   "cell_type": "code",
   "execution_count": 30,
   "id": "2741dc3a",
   "metadata": {},
   "outputs": [],
   "source": [
    "# Create a CatBoostClassifier object with early stopping based on the validation set\n",
    "eval_set  = [(X_val, y_val)]\n",
    "model = CatBoostClassifier(random_state=42, eval_metric='AUC', reg_lambda = 5)\n",
    "\n",
    "# Fit the model on the training set\n",
    "model.fit(X_train, y_train, eval_set=eval_set, early_stopping_rounds = 3, verbose=0)#, use_best_model=True)\n",
    "\n",
    "# Evaluate the model on the training and validation sets\n",
    "\n",
    "# Make predictions on the training and validation sets\n",
    "y_train_pred = model.predict(X_train)\n",
    "y_train_prob = model.predict_proba(X_train)[:, 1]\n",
    "y_val_pred = model.predict(X_val)\n",
    "y_val_prob = model.predict_proba(X_val)[:, 1]\n",
    "\n",
    "\n",
    "y_test_pred = model.predict(X_test)\n",
    "y_test_prob = model.predict_proba(X_test)[:, 1]\n"
   ]
  },
  {
   "cell_type": "code",
   "execution_count": 31,
   "id": "b7c807a2",
   "metadata": {},
   "outputs": [],
   "source": [
    "# Function to calculate and print various performance metrics\n",
    "\n",
    "def print_performance_metrics(y_true, y_pred, y_prob):\n",
    "    accuracy = accuracy_score(y_true, y_pred)\n",
    "    precision = precision_score(y_true, y_pred)\n",
    "    recall = recall_score(y_true, y_pred)\n",
    "    roc_auc = roc_auc_score(y_true, y_prob)\n",
    "    average_precision = average_precision_score(y_true, y_prob)\n",
    "    \n",
    "    print(f'Accuracy: {accuracy:.4f}')\n",
    "    print(f'Precision: {precision:.4f}')\n",
    "    print(f'Recall: {recall:.4f}')\n",
    "    print(f'ROC AUC: {roc_auc:.4f}')\n",
    "    print(f'PR AUC: {average_precision:.4f}')\n"
   ]
  },
  {
   "cell_type": "code",
   "execution_count": 32,
   "id": "9d9d0302",
   "metadata": {},
   "outputs": [
    {
     "name": "stdout",
     "output_type": "stream",
     "text": [
      "Training set performance:\n",
      "Accuracy: 0.8906\n",
      "Precision: 0.8539\n",
      "Recall: 0.9870\n",
      "ROC AUC: 0.9481\n",
      "PR AUC: 0.9633\n"
     ]
    }
   ],
   "source": [
    "# Print the performance metrics for the training set\n",
    "print('Training set performance:')\n",
    "print_performance_metrics(y_train, y_train_pred, y_train_prob)\n",
    "\n"
   ]
  },
  {
   "cell_type": "code",
   "execution_count": 33,
   "id": "a7899d65",
   "metadata": {},
   "outputs": [
    {
     "name": "stdout",
     "output_type": "stream",
     "text": [
      "Validation set performance:\n",
      "Accuracy: 0.6818\n",
      "Precision: 0.6875\n",
      "Recall: 0.8462\n",
      "ROC AUC: 0.7778\n",
      "PR AUC: 0.8717\n"
     ]
    }
   ],
   "source": [
    "# Print the performance metrics for the validation set\n",
    "print('Validation set performance:')\n",
    "print_performance_metrics(y_val, y_val_pred, y_val_prob)\n"
   ]
  },
  {
   "cell_type": "code",
   "execution_count": 34,
   "id": "592fa5a9",
   "metadata": {},
   "outputs": [
    {
     "name": "stdout",
     "output_type": "stream",
     "text": [
      "Test set performance:\n",
      "Accuracy: 0.7105\n",
      "Precision: 0.7143\n",
      "Recall: 0.8696\n",
      "ROC AUC: 0.7420\n",
      "PR AUC: 0.7581\n"
     ]
    }
   ],
   "source": [
    "# Print the performance metrics for the validation set\n",
    "print('Test set performance:')\n",
    "print_performance_metrics(y_test, y_test_pred, y_test_prob)\n"
   ]
  },
  {
   "cell_type": "code",
   "execution_count": 35,
   "id": "accaa6c9",
   "metadata": {},
   "outputs": [
    {
     "name": "stdout",
     "output_type": "stream",
     "text": [
      "Feature importance scores:\n",
      "c_ssrs_5_2weeks: 10.3816\n",
      "c_ssrs_3_2weeks: 9.3421\n",
      "sci_af_ca_Factor2: 8.3281\n",
      "sci_af_ca_34: 7.9700\n",
      "sci_c_4_4_clin: 5.7761\n",
      "sci_af_ca_2: 5.6526\n",
      "sas_1: 5.4431\n",
      "sas_23: 5.3015\n",
      "sas_3: 5.2036\n",
      "sci_p_7_m: 3.8158\n",
      "sci_c_3_3_clin: 3.6631\n",
      "sci_af_ca_13: 3.5281\n",
      "sci_af_ca_4: 3.0287\n",
      "c_ssrs_1_life: 2.9452\n",
      "sci_af_ca_6: 2.8848\n",
      "sci_af_ca_Factor1: 2.8684\n",
      "sci_af_ca_30: 2.6064\n",
      "sci_af_ca_17: 2.4035\n",
      "sci_af_ca_Factor5: 2.0290\n",
      "sci_p_9_m: 1.9604\n",
      "sci_af_ca_24: 1.8467\n",
      "sci_af_ca_22: 1.4910\n",
      "sci_af_ca_27: 0.9869\n",
      "sas_11: 0.5433\n",
      "sci_af_ca_is_new_questions_missing: 0.0000\n",
      "sci_af_ca_Factor3: 0.0000\n",
      "sci_af_ca_Factor4: 0.0000\n",
      "sci_af_ca_1: 0.0000\n",
      "sci_af_ca_3: 0.0000\n",
      "sci_af_ca_5: 0.0000\n",
      "sci_af_ca_7: 0.0000\n",
      "sci_af_ca_8: 0.0000\n",
      "sci_af_ca_9: 0.0000\n",
      "sci_af_ca_10: 0.0000\n",
      "sci_af_ca_11: 0.0000\n",
      "sci_af_ca_12: 0.0000\n",
      "sci_af_ca_14: 0.0000\n",
      "sci_af_ca_15: 0.0000\n",
      "sci_af_ca_16: 0.0000\n",
      "sci_af_ca_18: 0.0000\n",
      "sci_af_ca_19: 0.0000\n",
      "sci_af_ca_20: 0.0000\n",
      "sci_af_ca_21: 0.0000\n",
      "sci_af_ca_23: 0.0000\n",
      "sci_af_ca_25: 0.0000\n",
      "sci_af_ca_26: 0.0000\n",
      "sci_af_ca_28: 0.0000\n",
      "sci_af_ca_29: 0.0000\n",
      "sci_af_ca_31: 0.0000\n",
      "sci_af_ca_32: 0.0000\n",
      "sci_af_ca_33: 0.0000\n",
      "sci_af_ca_35: 0.0000\n",
      "sci_af_ca_36: 0.0000\n",
      "sci_af_ca_37: 0.0000\n",
      "sci_af_ca_38: 0.0000\n",
      "sci_af_ca_39: 0.0000\n",
      "sci_af_ca_40: 0.0000\n",
      "gender: 0.0000\n",
      "age_child_pre: 0.0000\n",
      "sci_p_1_m: 0.0000\n",
      "sci_p_2_m: 0.0000\n",
      "sci_p_3_m: 0.0000\n",
      "sci_p_4_m: 0.0000\n",
      "sci_p_5_m: 0.0000\n",
      "sci_p_6_m: 0.0000\n",
      "sci_p_8_m: 0.0000\n",
      "sci_p_10_m: 0.0000\n",
      "sci_p_11_m: 0.0000\n",
      "sci_p_12_m: 0.0000\n",
      "sci_p_13_m: 0.0000\n",
      "sci_p_14_m: 0.0000\n",
      "sci_p_15_m: 0.0000\n",
      "sci_c_1_1_clin: 0.0000\n",
      "scs_2_1_clin: 0.0000\n",
      "scs_2_2_clin: 0.0000\n",
      "scs_2_3_clin: 0.0000\n",
      "scs_2_4_clin: 0.0000\n",
      "sci_c_3_1_clin: 0.0000\n",
      "sci_c_3_2_clin: 0.0000\n",
      "sci_c_3_4_clin: 0.0000\n",
      "sci_c_4_1_clin: 0.0000\n",
      "sci_c_4_2_clin: 0.0000\n",
      "sci_c_4_3_clin: 0.0000\n",
      "sci_c_5_1_clin: 0.0000\n",
      "sci_c_5_2_clin: 0.0000\n",
      "sas_2: 0.0000\n",
      "sas_4: 0.0000\n",
      "sas_5: 0.0000\n",
      "sas_6: 0.0000\n",
      "sas_7: 0.0000\n",
      "sas_8: 0.0000\n",
      "sas_9: 0.0000\n",
      "sas_10: 0.0000\n",
      "sas_12: 0.0000\n",
      "sas_13: 0.0000\n",
      "sas_14: 0.0000\n",
      "sas_15: 0.0000\n",
      "sas_16: 0.0000\n",
      "sas_17: 0.0000\n",
      "sas_18: 0.0000\n",
      "sas_19: 0.0000\n",
      "sas_20: 0.0000\n",
      "sas_21: 0.0000\n",
      "sas_22: 0.0000\n",
      "c_ssrs_2_life: 0.0000\n",
      "c_ssrs_3_life: 0.0000\n",
      "c_ssrs_4_life: 0.0000\n",
      "c_ssrs_5_life: 0.0000\n",
      "c_ssrs_6_life: 0.0000\n",
      "c_ssrs_1_2weeks: 0.0000\n",
      "c_ssrs_2_2weeks: 0.0000\n",
      "c_ssrs_4_2weeks: 0.0000\n",
      "c_ssrs_6_2weeks: 0.0000\n",
      "c_ssrs_6_3month: 0.0000\n",
      "c_ssrs_7_intake: 0.0000\n",
      "c_ssrs_8_intake: 0.0000\n"
     ]
    }
   ],
   "source": [
    "\n",
    "# Get feature importance scores\n",
    "feature_importance = model.get_feature_importance()\n",
    "feature_names = X_train.columns.tolist()\n",
    "# Print feature importance scores\n",
    "print('Feature importance scores:')\n",
    "for feature_name, score in sorted(zip(feature_names, feature_importance), reverse=1, key = lambda x: x[1]):\n",
    "    print(f'{feature_name}: {score:.4f}')"
   ]
  },
  {
   "cell_type": "markdown",
   "id": "993b27d8",
   "metadata": {},
   "source": [
    "cool, \n",
    "use the train-validation-test variables that you created in the last snippet, \n",
    "and train CatBoostClassifier, with early_stopping parameter based on the validation set.\n",
    "\n",
    "after that look at the performance scores on the training & validation sets.\n",
    "and the feature-importance scores\n",
    "\n",
    "Since it's a complicated task, we need to use the following metrics: accuracy, precision, recall, precision-recall-auc, roc_auc"
   ]
  },
  {
   "cell_type": "code",
   "execution_count": null,
   "id": "2979fe7f",
   "metadata": {},
   "outputs": [],
   "source": []
  }
 ],
 "metadata": {
  "kernelspec": {
   "display_name": "DeppClinic",
   "language": "python",
   "name": "deppclinic"
  },
  "language_info": {
   "codemirror_mode": {
    "name": "ipython",
    "version": 3
   },
   "file_extension": ".py",
   "mimetype": "text/x-python",
   "name": "python",
   "nbconvert_exporter": "python",
   "pygments_lexer": "ipython3",
   "version": "3.9.7"
  }
 },
 "nbformat": 4,
 "nbformat_minor": 5
}
