{
 "cells": [
  {
   "cell_type": "code",
   "execution_count": 1,
   "id": "bb6c9300",
   "metadata": {},
   "outputs": [],
   "source": [
    "import sys\n",
    "sys.path.append(r\"../../utils\")\n",
    "import numpy as np \n",
    "import pandas as pd\n",
    "from questions_columns import siq, sdq, c_ssrs_intake, c_ssrs, mfq, scared, ATHENS, SAS, sci_af_ca, all_questionarries, suicidal_behavior\n",
    "from utils import simple_eda, impute_from_column\n"
   ]
  },
  {
   "cell_type": "code",
   "execution_count": 2,
   "id": "624cdd69",
   "metadata": {},
   "outputs": [],
   "source": [
    "info_columns = ['id', 'gender', 'redcap_event_name', 'age_child_pre', 'measurement']\n",
    "id_column = 'id'"
   ]
  },
  {
   "cell_type": "code",
   "execution_count": 3,
   "id": "68445eee",
   "metadata": {},
   "outputs": [
    {
     "name": "stderr",
     "output_type": "stream",
     "text": [
      "C:\\Users\\nogur\\anaconda3\\lib\\site-packages\\IPython\\core\\interactiveshell.py:3444: DtypeWarning: Columns (0,44,50,73,84,309,437,442,443,450,457,486,502,540,549,568,728,733,745,747,752,763,801,810,829,882,883,884,885,886,887,888,889,890,891,892,951,989,994,1000,1015,1045,1065,1066,1070,1071,1072,1073,1075,1076,1077,1080,1081,1098,1103,1119,1121,1172,1174,1193,1195,1196,1197,1203,1204,1205,1206,1358,1360,1361,1362,1368,1369,1370,1371,1486,1492,1493,1496,1497,1498,1499,1508,1516,1532,1535,1546) have mixed types.Specify dtype option on import or set low_memory=False.\n",
      "  exec(code_obj, self.user_global_ns, self.user_ns)\n"
     ]
    }
   ],
   "source": [
    "df = pd.read_csv(r'../../creating_the_clinic_dataset/preprocessed_data/merged_2021_and_2022.csv', na_values = ' ')"
   ]
  },
  {
   "cell_type": "code",
   "execution_count": 4,
   "id": "5385e6ca",
   "metadata": {},
   "outputs": [],
   "source": [
    "df_intake = df[df.redcap_event_name == 'intake_arm_1']\n",
    "df_pre = df[df.redcap_event_name == 'pre_treatment_arm_1']\n",
    "df_5weeks = df[df.redcap_event_name == 'control_5weeks_arm_1']"
   ]
  },
  {
   "cell_type": "markdown",
   "id": "ddd64e33",
   "metadata": {},
   "source": [
    "### creates the time-2 dataframe\n",
    "##### by taking the pre-treatment measures, and imputing missing data from the 5-weeks measurement"
   ]
  },
  {
   "cell_type": "code",
   "execution_count": 5,
   "id": "18115f50",
   "metadata": {},
   "outputs": [],
   "source": [
    "time2 = pd.merge(df_pre, df_5weeks, on=['id'], how='outer', suffixes=('', '_5weeks'))"
   ]
  },
  {
   "cell_type": "code",
   "execution_count": 6,
   "id": "adfc279f",
   "metadata": {},
   "outputs": [],
   "source": [
    "for column_name in all_questionarries:\n",
    "    time2 = impute_from_column(time2, impute_to = column_name, impute_from = f'{column_name}_5weeks')"
   ]
  },
  {
   "cell_type": "markdown",
   "id": "ddc945e4",
   "metadata": {},
   "source": [
    "### combine intake & time 2 dataframes\n",
    "##### taking only the needed columns \n",
    "##### writing which one is which"
   ]
  },
  {
   "cell_type": "code",
   "execution_count": 7,
   "id": "ccf1383d",
   "metadata": {},
   "outputs": [
    {
     "name": "stderr",
     "output_type": "stream",
     "text": [
      "C:\\Users\\nogur\\AppData\\Local\\Temp/ipykernel_8900/735682034.py:1: SettingWithCopyWarning: \n",
      "A value is trying to be set on a copy of a slice from a DataFrame.\n",
      "Try using .loc[row_indexer,col_indexer] = value instead\n",
      "\n",
      "See the caveats in the documentation: https://pandas.pydata.org/pandas-docs/stable/user_guide/indexing.html#returning-a-view-versus-a-copy\n",
      "  df_intake['measurement'] = 'time1'\n",
      "C:\\Users\\nogur\\AppData\\Local\\Temp/ipykernel_8900/735682034.py:2: PerformanceWarning: DataFrame is highly fragmented.  This is usually the result of calling `frame.insert` many times, which has poor performance.  Consider joining all columns at once using pd.concat(axis=1) instead.  To get a de-fragmented frame, use `newframe = frame.copy()`\n",
      "  time2['measurement'] = 'time2'\n"
     ]
    }
   ],
   "source": [
    "df_intake['measurement'] = 'time1'\n",
    "time2['measurement'] = 'time2'\n",
    "\n",
    "df_intake = df_intake[info_columns + all_questionarries]\n",
    "time2 = time2[info_columns + all_questionarries]\n",
    "\n"
   ]
  },
  {
   "cell_type": "code",
   "execution_count": 8,
   "id": "b54ccba8",
   "metadata": {},
   "outputs": [],
   "source": [
    "df_for_research = pd.concat([df_intake, time2])"
   ]
  },
  {
   "cell_type": "code",
   "execution_count": 10,
   "id": "3071c921",
   "metadata": {},
   "outputs": [],
   "source": [
    "df_for_research.to_csv(\"df_for_research.csv\", index=False)"
   ]
  },
  {
   "cell_type": "code",
   "execution_count": 11,
   "id": "35c4dc39",
   "metadata": {},
   "outputs": [
    {
     "data": {
      "text/html": [
       "<div>\n",
       "<style scoped>\n",
       "    .dataframe tbody tr th:only-of-type {\n",
       "        vertical-align: middle;\n",
       "    }\n",
       "\n",
       "    .dataframe tbody tr th {\n",
       "        vertical-align: top;\n",
       "    }\n",
       "\n",
       "    .dataframe thead th {\n",
       "        text-align: right;\n",
       "    }\n",
       "</style>\n",
       "<table border=\"1\" class=\"dataframe\">\n",
       "  <thead>\n",
       "    <tr style=\"text-align: right;\">\n",
       "      <th></th>\n",
       "      <th>suicidal_behavior_last_11_clin</th>\n",
       "      <th>suicidal_behavior_last_12_clin</th>\n",
       "      <th>suicidal_behavior_last_13_clin</th>\n",
       "      <th>suicidal_behavior_last_14_clin</th>\n",
       "      <th>suicidal_behavior_last_15_clin</th>\n",
       "    </tr>\n",
       "  </thead>\n",
       "  <tbody>\n",
       "    <tr>\n",
       "      <th>114</th>\n",
       "      <td>NaN</td>\n",
       "      <td>NaN</td>\n",
       "      <td>NaN</td>\n",
       "      <td>NaN</td>\n",
       "      <td>NaN</td>\n",
       "    </tr>\n",
       "    <tr>\n",
       "      <th>117</th>\n",
       "      <td>NaN</td>\n",
       "      <td>NaN</td>\n",
       "      <td>NaN</td>\n",
       "      <td>NaN</td>\n",
       "      <td>NaN</td>\n",
       "    </tr>\n",
       "    <tr>\n",
       "      <th>119</th>\n",
       "      <td>NaN</td>\n",
       "      <td>NaN</td>\n",
       "      <td>NaN</td>\n",
       "      <td>NaN</td>\n",
       "      <td>NaN</td>\n",
       "    </tr>\n",
       "    <tr>\n",
       "      <th>122</th>\n",
       "      <td>NaN</td>\n",
       "      <td>NaN</td>\n",
       "      <td>NaN</td>\n",
       "      <td>NaN</td>\n",
       "      <td>NaN</td>\n",
       "    </tr>\n",
       "    <tr>\n",
       "      <th>131</th>\n",
       "      <td>NaN</td>\n",
       "      <td>NaN</td>\n",
       "      <td>NaN</td>\n",
       "      <td>NaN</td>\n",
       "      <td>NaN</td>\n",
       "    </tr>\n",
       "    <tr>\n",
       "      <th>...</th>\n",
       "      <td>...</td>\n",
       "      <td>...</td>\n",
       "      <td>...</td>\n",
       "      <td>...</td>\n",
       "      <td>...</td>\n",
       "    </tr>\n",
       "    <tr>\n",
       "      <th>319</th>\n",
       "      <td>0.0</td>\n",
       "      <td>0.0</td>\n",
       "      <td>0.0</td>\n",
       "      <td>0.0</td>\n",
       "      <td>0.0</td>\n",
       "    </tr>\n",
       "    <tr>\n",
       "      <th>320</th>\n",
       "      <td>NaN</td>\n",
       "      <td>NaN</td>\n",
       "      <td>NaN</td>\n",
       "      <td>NaN</td>\n",
       "      <td>NaN</td>\n",
       "    </tr>\n",
       "    <tr>\n",
       "      <th>321</th>\n",
       "      <td>NaN</td>\n",
       "      <td>NaN</td>\n",
       "      <td>NaN</td>\n",
       "      <td>NaN</td>\n",
       "      <td>NaN</td>\n",
       "    </tr>\n",
       "    <tr>\n",
       "      <th>322</th>\n",
       "      <td>0.0</td>\n",
       "      <td>0.0</td>\n",
       "      <td>0.0</td>\n",
       "      <td>0.0</td>\n",
       "      <td>0.0</td>\n",
       "    </tr>\n",
       "    <tr>\n",
       "      <th>323</th>\n",
       "      <td>0.0</td>\n",
       "      <td>0.0</td>\n",
       "      <td>0.0</td>\n",
       "      <td>0.0</td>\n",
       "      <td>0.0</td>\n",
       "    </tr>\n",
       "  </tbody>\n",
       "</table>\n",
       "<p>732 rows × 5 columns</p>\n",
       "</div>"
      ],
      "text/plain": [
       "     suicidal_behavior_last_11_clin  suicidal_behavior_last_12_clin  \\\n",
       "114                             NaN                             NaN   \n",
       "117                             NaN                             NaN   \n",
       "119                             NaN                             NaN   \n",
       "122                             NaN                             NaN   \n",
       "131                             NaN                             NaN   \n",
       "..                              ...                             ...   \n",
       "319                             0.0                             0.0   \n",
       "320                             NaN                             NaN   \n",
       "321                             NaN                             NaN   \n",
       "322                             0.0                             0.0   \n",
       "323                             0.0                             0.0   \n",
       "\n",
       "     suicidal_behavior_last_13_clin  suicidal_behavior_last_14_clin  \\\n",
       "114                             NaN                             NaN   \n",
       "117                             NaN                             NaN   \n",
       "119                             NaN                             NaN   \n",
       "122                             NaN                             NaN   \n",
       "131                             NaN                             NaN   \n",
       "..                              ...                             ...   \n",
       "319                             0.0                             0.0   \n",
       "320                             NaN                             NaN   \n",
       "321                             NaN                             NaN   \n",
       "322                             0.0                             0.0   \n",
       "323                             0.0                             0.0   \n",
       "\n",
       "     suicidal_behavior_last_15_clin  \n",
       "114                             NaN  \n",
       "117                             NaN  \n",
       "119                             NaN  \n",
       "122                             NaN  \n",
       "131                             NaN  \n",
       "..                              ...  \n",
       "319                             0.0  \n",
       "320                             NaN  \n",
       "321                             NaN  \n",
       "322                             0.0  \n",
       "323                             0.0  \n",
       "\n",
       "[732 rows x 5 columns]"
      ]
     },
     "execution_count": 11,
     "metadata": {},
     "output_type": "execute_result"
    }
   ],
   "source": [
    "df_for_research[suicidal_behavior]"
   ]
  },
  {
   "cell_type": "code",
   "execution_count": null,
   "id": "c235369b",
   "metadata": {},
   "outputs": [],
   "source": []
  }
 ],
 "metadata": {
  "kernelspec": {
   "display_name": "Python 3 (ipykernel)",
   "language": "python",
   "name": "python3"
  },
  "language_info": {
   "codemirror_mode": {
    "name": "ipython",
    "version": 3
   },
   "file_extension": ".py",
   "mimetype": "text/x-python",
   "name": "python",
   "nbconvert_exporter": "python",
   "pygments_lexer": "ipython3",
   "version": "3.9.7"
  }
 },
 "nbformat": 4,
 "nbformat_minor": 5
}
